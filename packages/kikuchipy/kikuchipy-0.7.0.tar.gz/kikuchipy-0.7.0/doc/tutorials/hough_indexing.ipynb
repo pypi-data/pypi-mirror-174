{
 "cells": [
  {
   "cell_type": "markdown",
   "id": "8b9b51ab-7a89-437f-80b6-080030a6233b",
   "metadata": {
    "nbsphinx": "hidden"
   },
   "source": [
    "This notebook is part of the `kikuchipy` documentation https://kikuchipy.org.\n",
    "Links to the documentation won't work from the notebook."
   ]
  },
  {
   "cell_type": "markdown",
   "id": "48f0168b-a986-4467-a59d-6e0af1301df9",
   "metadata": {},
   "source": [
    "# Hough indexing\n",
    "\n",
    "In this tutorial, we will perform Hough indexing (HI) using [PyEBSDIndex](https://pyebsdindex.readthedocs.io).\n",
    "We will use a tiny 13 MB dataset of nickel available in kikuchipy.\n",
    "\n",
    "<div class=\"alert alert-info\">\n",
    "\n",
    "Note\n",
    "\n",
    "kikuchipy cannot depend on PyEBSDIndex at the moment, as PyEBSDIndex does not support all the combinations of Python versions and operating systems that kikuchipy does.\n",
    "To install PyEBSDIndex, see their [installation instructions](https://pyebsdindex.readthedocs.io/en/latest/installation.html).\n",
    "\n",
    "PyEBSDIndex supports indexing face centered and body centered cubic (FCC and BCC) materials.\n",
    "\n",
    "</div>\n",
    "\n",
    "Let's import necessary libraries"
   ]
  },
  {
   "cell_type": "code",
   "execution_count": null,
   "id": "386299e8-8698-4efa-a913-440baf6d389e",
   "metadata": {},
   "outputs": [],
   "source": [
    "# Exchange inline for notebook or qt5 (from pyqt) for interactive plotting\n",
    "%matplotlib inline\n",
    "\n",
    "import matplotlib.pyplot as plt\n",
    "import numpy as np\n",
    "\n",
    "from diffpy.structure import Atom, Lattice, Structure\n",
    "from diffsims.crystallography import ReciprocalLatticeVector\n",
    "import kikuchipy as kp\n",
    "from orix import plot\n",
    "from orix.crystal_map import (\n",
    "    create_coordinate_arrays,\n",
    "    CrystalMap,\n",
    "    Phase,\n",
    "    PhaseList,\n",
    ")\n",
    "from orix.quaternion import Rotation\n",
    "from orix.vector import Vector3d\n",
    "from pyebsdindex import ebsd_index, pcopt\n",
    "\n",
    "\n",
    "plt.rcParams.update(\n",
    "    {\"font.size\": 15, \"lines.markersize\": 15, \"scatter.edgecolors\": \"k\"}\n",
    ")"
   ]
  },
  {
   "cell_type": "markdown",
   "id": "3167fc89-7080-4ed7-a146-3b098875e08e",
   "metadata": {},
   "source": [
    "Load a dataset of (75, 55) nickel EBSD patterns of (60, 60) pixels with a step size of 1.5 μm"
   ]
  },
  {
   "cell_type": "code",
   "execution_count": null,
   "id": "f91c0b61-37ce-4666-aeb1-e665ca3a0e8b",
   "metadata": {},
   "outputs": [],
   "source": [
    "s = kp.data.nickel_ebsd_large(allow_download=True)\n",
    "s"
   ]
  },
  {
   "cell_type": "markdown",
   "id": "086b69bb-712d-414b-81b0-5e955c4bcaf6",
   "metadata": {},
   "source": [
    "## Pre-indexing maps\n",
    "\n",
    "First, we produce two indexing independent maps showing microstructural features: a [virtual backscatter electron (VBSE) image](virtual_backscatter_electron_imaging.ipynb) and an [image quality (IQ) map](feature_maps.ipynb#Image-quality).\n",
    "The former uses the BSE yield on the detector to give a qualitative orientation contrast, so is done on raw unprocessed patterns.\n",
    "The latter assumes that the sharper the Kikuchi bands, the higher the image quality, so is done on processed patterns."
   ]
  },
  {
   "cell_type": "code",
   "execution_count": null,
   "id": "cd9f52d8-1e0b-43d2-bd32-085cea15b19c",
   "metadata": {},
   "outputs": [],
   "source": [
    "vbse_gen = kp.generators.VirtualBSEGenerator(s)\n",
    "print(vbse_gen.grid_shape)"
   ]
  },
  {
   "cell_type": "markdown",
   "id": "9d67599a-f11e-4d48-87bd-3959ebe9a420",
   "metadata": {},
   "source": [
    "Get the VBSE image by coloring the three center grid tiles red, green and blue"
   ]
  },
  {
   "cell_type": "code",
   "execution_count": null,
   "id": "5ff2bde2-acc2-4b1c-88a5-df96119cb090",
   "metadata": {},
   "outputs": [],
   "source": [
    "maps_vbse_rgb = vbse_gen.get_rgb_image(r=(2, 1), g=(2, 2), b=(2, 3))\n",
    "maps_vbse_rgb"
   ]
  },
  {
   "cell_type": "markdown",
   "id": "1b85b14b-b91b-45ad-a39b-bb5c9d782e56",
   "metadata": {},
   "source": [
    "Plot the VBSE image"
   ]
  },
  {
   "cell_type": "code",
   "execution_count": null,
   "id": "aa72ad12-fdd3-4d1b-a80a-3f7eb883061b",
   "metadata": {},
   "outputs": [],
   "source": [
    "maps_vbse_rgb.plot()"
   ]
  },
  {
   "cell_type": "markdown",
   "id": "bad0046f-ab46-4478-8703-2dc09f3990f5",
   "metadata": {},
   "source": [
    "We see that we have 20-30 grains, many of them apparently twinned.\n",
    "\n",
    "Enhance the Kikuchi bands by removing the static and dynamic background (see the [pattern processing tutorial](pattern_processing.ipynb) for details)"
   ]
  },
  {
   "cell_type": "code",
   "execution_count": null,
   "id": "748b330c-0681-43ac-925b-951ebcd402ae",
   "metadata": {},
   "outputs": [],
   "source": [
    "s.remove_static_background()\n",
    "s.remove_dynamic_background()"
   ]
  },
  {
   "cell_type": "markdown",
   "id": "2d4459e4-6923-47bc-8a00-7c31a6b685cd",
   "metadata": {},
   "source": [
    "Get the IQ map"
   ]
  },
  {
   "cell_type": "code",
   "execution_count": null,
   "id": "dec9bad2-c017-45c9-ab91-32db09c3a0b8",
   "metadata": {},
   "outputs": [],
   "source": [
    "maps_iq = s.get_image_quality()"
   ]
  },
  {
   "cell_type": "markdown",
   "id": "ba216058-097a-44e7-85d1-20e30464c679",
   "metadata": {},
   "source": [
    "Plot the IQ map"
   ]
  },
  {
   "cell_type": "code",
   "execution_count": null,
   "id": "480d83ad-361a-40f9-97a2-1437b5d76dd2",
   "metadata": {},
   "outputs": [],
   "source": [
    "fig, ax = plt.subplots()\n",
    "ax.imshow(maps_iq, cmap=\"gray\");"
   ]
  },
  {
   "cell_type": "markdown",
   "id": "81023608-d459-490c-805c-a93b59594bf3",
   "metadata": {},
   "source": [
    "We recognize the grain and (presumably) twinning boundaries from the VBSE image, and also some dark lines, e.g. to the lower and upper left, which look like scratches on the sample surface."
   ]
  },
  {
   "cell_type": "markdown",
   "id": "784d523f-238b-4065-abea-314159a50de9",
   "metadata": {},
   "source": [
    "## Calibrate detector-sample geometry\n",
    "\n",
    "We need to know the position of the sample with respect to the detector, the so-called projection/pattern center (PC) (see the [reference frames tutorial](reference_frames.ipynb) for all conventions).\n",
    "We do this by optimizing an initial guess of the PC obtained from similar experiments on the same microscope.\n",
    "\n",
    "Create an indexer, specifying the sample and camera tilts"
   ]
  },
  {
   "cell_type": "code",
   "execution_count": null,
   "id": "72d2d684-d20b-4187-a130-e9f268bcf9ef",
   "metadata": {},
   "outputs": [],
   "source": [
    "sig_shape = s.axes_manager.signal_shape[::-1]\n",
    "indexer = ebsd_index.EBSDIndexer(\n",
    "    phaselist=[\"FCC\"],  # FCC, BCC or both\n",
    "    vendor=\"KIKUCHIPY\",\n",
    "    sampleTilt=70,\n",
    "    camElev=0,\n",
    "    patDim=sig_shape,\n",
    ")"
   ]
  },
  {
   "cell_type": "markdown",
   "id": "50b66e56-df61-4252-bc07-2bf8c37405a3",
   "metadata": {},
   "source": [
    "Optimize PC using some patterns from the dataset spread out evenly in a map grid"
   ]
  },
  {
   "cell_type": "code",
   "execution_count": null,
   "id": "edb85679-0358-4300-ac23-a738e52732ab",
   "metadata": {},
   "outputs": [],
   "source": [
    "pc_grid_shape = (4, 5)\n",
    "\n",
    "# Determine appropriate 2D indices of the patterns in the EBSD map\n",
    "nav_shape = s.axes_manager.navigation_shape[::-1]\n",
    "steps = np.ceil(np.array(nav_shape) / (np.array(pc_grid_shape) + 1)).astype(\n",
    "    int\n",
    ")\n",
    "idx_1d_all = np.arange(np.prod(nav_shape)).reshape(nav_shape)\n",
    "idx_1d = idx_1d_all[:: steps[0], :: steps[1]][1:, 1:]\n",
    "idx_2d = np.stack(np.unravel_index(idx_1d, nav_shape))\n",
    "subtract_to_center = (idx_2d[:, 0, 0] - (nav_shape - idx_2d[:, -1, -1])) // 2\n",
    "idx_2d[0] -= subtract_to_center[0]\n",
    "idx_2d[1] -= subtract_to_center[1]"
   ]
  },
  {
   "cell_type": "markdown",
   "id": "1b13a610-98e5-4e81-b3e8-09e89f2488af",
   "metadata": {},
   "source": [
    "Plot the PC grid on the IQ map"
   ]
  },
  {
   "cell_type": "code",
   "execution_count": null,
   "id": "fba89d3f-6425-4fc4-a12f-168597f44196",
   "metadata": {},
   "outputs": [],
   "source": [
    "pc_color = np.arange(np.prod(pc_grid_shape))\n",
    "\n",
    "fig, ax = plt.subplots()\n",
    "ax.imshow(maps_iq, cmap=\"gray\")\n",
    "ax.scatter(*idx_2d[::-1], c=pc_color);"
   ]
  },
  {
   "cell_type": "markdown",
   "id": "e2a5a9e8-70b1-4840-8040-e9414db75b98",
   "metadata": {},
   "source": [
    "Get patterns to optimize with PC with"
   ]
  },
  {
   "cell_type": "code",
   "execution_count": null,
   "id": "0f3d9b30-9a90-4ea4-a83d-154e2340413e",
   "metadata": {},
   "outputs": [],
   "source": [
    "patterns_pc = s.data[tuple(idx_2d)].reshape(-1, *sig_shape)"
   ]
  },
  {
   "cell_type": "markdown",
   "id": "34723dba-aaf3-4ed7-b307-fcabb90bb9e7",
   "metadata": {},
   "source": [
    "Optimize PCs individually"
   ]
  },
  {
   "cell_type": "code",
   "execution_count": null,
   "id": "e3afa432-009e-4dce-bb05-60e3327f946f",
   "metadata": {},
   "outputs": [],
   "source": [
    "pc0 = (0.4, 0.2, 0.5)\n",
    "pcs = np.zeros((patterns_pc.shape[0], 3))\n",
    "for i in range(patterns_pc.shape[0]):\n",
    "    pcs[i] = pcopt.optimize(patterns_pc[i], indexer, pc0)\n",
    "\n",
    "# Use instead once PyEBSDIndex v0.1.1 is released\n",
    "# pcs = pcopt.optimize(patterns_pc, indexer, pc0, batch=True)"
   ]
  },
  {
   "cell_type": "markdown",
   "id": "3eac6a77-f488-4036-8162-22f18073a4d6",
   "metadata": {},
   "source": [
    "Plot the PC values"
   ]
  },
  {
   "cell_type": "code",
   "execution_count": null,
   "id": "ec39fc60-a677-4c79-9409-d72ae44ea740",
   "metadata": {
    "tags": []
   },
   "outputs": [],
   "source": [
    "fig, (ax0, ax1, ax2) = plt.subplots(ncols=3, figsize=(15, 5))\n",
    "ax0.scatter(pcs[:, 0], pcs[:, 1], c=pc_color)\n",
    "ax0.set_xlabel(\"PCx\")\n",
    "ax0.set_ylabel(\"PCy\")\n",
    "ax1.scatter(pcs[:, 0], pcs[:, 2], c=pc_color)\n",
    "ax1.set_xlabel(\"PCx\")\n",
    "ax1.set_ylabel(\"PCz\")\n",
    "ax2.scatter(pcs[:, 2], pcs[:, 1], c=pc_color)\n",
    "ax2.set_xlabel(\"PCz\")\n",
    "ax2.set_ylabel(\"PCy\")\n",
    "fig.tight_layout()"
   ]
  },
  {
   "cell_type": "markdown",
   "id": "e7ced320-dc20-4037-99ee-a3fc024ebf1d",
   "metadata": {},
   "source": [
    "The values are not ordered nicely in the initial map grid, but that is to be expected with these highly binned (60, 60) pixel patterns.\n",
    "The values do not vary much at this magnification so we'll use the average PC for indexing.\n",
    "We can plot the PC on a pattern using the [EBSDDetector](../reference/generated/kikuchipy.detectors.EBSDDetector.rst)"
   ]
  },
  {
   "cell_type": "code",
   "execution_count": null,
   "id": "d69c27aa-9037-40db-9aeb-fb0a9328c763",
   "metadata": {},
   "outputs": [],
   "source": [
    "detector = kp.detectors.EBSDDetector(\n",
    "    shape=sig_shape, pc=pcs.mean(0), sample_tilt=70\n",
    ")\n",
    "detector"
   ]
  },
  {
   "cell_type": "code",
   "execution_count": null,
   "id": "7f0a9388-0107-46ca-86c4-2f9fc67ac063",
   "metadata": {},
   "outputs": [],
   "source": [
    "detector.plot(pattern=patterns_pc[0])"
   ]
  },
  {
   "cell_type": "markdown",
   "id": "a0692f45-3059-46d0-a5c8-df2b0fadbd2e",
   "metadata": {},
   "source": [
    "## Perform indexing\n",
    "\n",
    "Index the patterns using the average PC, also plotting the Hough transform and the nine detected bands used in indexing of the first pattern"
   ]
  },
  {
   "cell_type": "code",
   "execution_count": null,
   "id": "55bff663-7ce2-44da-948c-535b7d1ad7e4",
   "metadata": {
    "tags": []
   },
   "outputs": [],
   "source": [
    "data, *_ = indexer.index_pats(\n",
    "    s.data.reshape(-1, *sig_shape), PC=detector.pc, verbose=2\n",
    ")"
   ]
  },
  {
   "cell_type": "markdown",
   "id": "d06912cf-ee43-412b-8f93-8969b6f886b5",
   "metadata": {},
   "source": [
    "Generate a [CrystalMap](https://orix.readthedocs.io/en/latest/reference/generated/orix.crystal_map.CrystalMap.html) for easy saving and analysis of the indexing results (see the [PyEBSDIndex Hough indexing tutorial](https://pyebsdindex.readthedocs.io/en/latest/tutorials/ebsd_index_demo.html) for a complete explanation of all the indexing result parameters)"
   ]
  },
  {
   "cell_type": "code",
   "execution_count": null,
   "id": "9fa41afa-9f57-433e-b9d8-ed356ed12852",
   "metadata": {},
   "outputs": [],
   "source": [
    "# Generate CrystalMap (should make a convenience function in orix for this!)\n",
    "xy, _ = create_coordinate_arrays(\n",
    "    nav_shape,\n",
    "    step_sizes=(s.axes_manager[\"y\"].scale, s.axes_manager[\"x\"].scale),\n",
    ")\n",
    "xmap = CrystalMap(\n",
    "    rotations=Rotation(data[-1][\"quat\"]),\n",
    "    x=xy[\"x\"],\n",
    "    y=xy[\"y\"],\n",
    "    phase_list=PhaseList(\n",
    "        Phase(\n",
    "            name=\"ni\",\n",
    "            space_group=225,\n",
    "            structure=Structure(\n",
    "                lattice=Lattice(0.35236, 0.35236, 0.35236, 90, 90, 90),\n",
    "                atoms=[Atom(\"Ni\", [0, 0, 0])],\n",
    "            ),\n",
    "        )\n",
    "    ),\n",
    "    prop=dict(\n",
    "        pq=data[-1][\"pq\"],  # Pattern quality\n",
    "        cm=data[-1][\"cm\"],  # Confidence metric\n",
    "        fit=data[-1][\"fit\"],  # Pattern fit\n",
    "        nmatch=data[-1][\"nmatch\"],  # Number of detected bands matched\n",
    "        iq=maps_iq.ravel(),\n",
    "    ),\n",
    "    scan_unit=\"um\",\n",
    ")\n",
    "\n",
    "xmap"
   ]
  },
  {
   "cell_type": "markdown",
   "id": "580af2ff-5f5f-43e4-9628-7ce8475e6e9c",
   "metadata": {},
   "source": [
    "## Analyze indexing results"
   ]
  },
  {
   "cell_type": "markdown",
   "id": "faa4d916-ef3e-44db-b9d9-bae4d6a131aa",
   "metadata": {},
   "source": [
    "Plot quality metrics"
   ]
  },
  {
   "cell_type": "code",
   "execution_count": null,
   "id": "42eb10aa-f94a-4f73-8b27-ece7a9366b6f",
   "metadata": {},
   "outputs": [],
   "source": [
    "fig, ax = plt.subplots(nrows=2, ncols=2, figsize=(10, 5.5))\n",
    "for a, to_plot in zip(ax.ravel(), [\"pq\", \"cm\", \"fit\", \"nmatch\"]):\n",
    "    im = a.imshow(xmap.get_map_data(to_plot))\n",
    "    fig.colorbar(im, ax=a, label=to_plot)\n",
    "    a.axis(\"off\")\n",
    "fig.tight_layout(pad=0.5)"
   ]
  },
  {
   "cell_type": "markdown",
   "id": "a1935b79-85b2-4e79-bb19-992f42f82de7",
   "metadata": {},
   "source": [
    "The pattern quality (PQ) and confidence metric (CM) maps show little variation across the sample.\n",
    "The most important map here is the pattern fit (also known as the mean angular error/deviation), which shows the average angular deviation between the positions of each detected band to the closest theoretical band: this is below an OK fit of 1.5$^{\\circ}$ across most of the map.\n",
    "The final map (*nmatch*) shows that most of the nine detected bands in each pattern were indexed within a pattern fit of 3$^{\\circ}$.\n",
    "\n",
    "Create a color key to color orientations with"
   ]
  },
  {
   "cell_type": "code",
   "execution_count": null,
   "id": "18eb8100-cc02-455d-9bd3-6e864589dfb1",
   "metadata": {},
   "outputs": [],
   "source": [
    "ckey = plot.IPFColorKeyTSL(\n",
    "    xmap.phases[0].point_group, direction=Vector3d.xvector()\n",
    ")\n",
    "ckey.plot()"
   ]
  },
  {
   "cell_type": "markdown",
   "id": "77451774-c1fc-40e6-a94c-fcd626a20695",
   "metadata": {},
   "source": [
    "Orientations are given a color based on which crystal direction $\\left<uvw\\right>$ points in a certain sample direction, producing the so-called inverse pole figure (IPF) map.\n",
    "Let's plot the IPF-X map with the CM map overlayed"
   ]
  },
  {
   "cell_type": "code",
   "execution_count": null,
   "id": "dac157a4-3b96-49f8-a5eb-f3987c9af076",
   "metadata": {
    "nbsphinx-thumbnail": {
     "tooltip": "Hough indexing using PyEBSDIndex"
    },
    "tags": [
     "nbsphinx-thumbnail"
    ]
   },
   "outputs": [],
   "source": [
    "rgb_x = ckey.orientation2color(xmap.rotations)\n",
    "xmap.plot(rgb_x, overlay=\"cm\", remove_padding=True)"
   ]
  },
  {
   "cell_type": "markdown",
   "id": "f252e330-0405-4b06-a422-e50291d6509f",
   "metadata": {},
   "source": [
    "Let's also plot the three maps side by side"
   ]
  },
  {
   "cell_type": "code",
   "execution_count": null,
   "id": "99d5f1ff-4919-40b8-aea2-d2e7b8a72d8b",
   "metadata": {
    "tags": []
   },
   "outputs": [],
   "source": [
    "directions = Vector3d(((1, 0, 0), (0, 1, 0), (0, 0, 1)))\n",
    "n = directions.size\n",
    "\n",
    "fig, ax = plt.subplots(ncols=n, figsize=(7 * n, 8))\n",
    "for i, title in zip(range(n), [\"X\", \"Y\", \"Z\"]):\n",
    "    ckey.direction = directions[i]\n",
    "    rgb = ckey.orientation2color(xmap.rotations)\n",
    "    ax[i].imshow(rgb.reshape(xmap.shape + (3,)))\n",
    "    ax[i].set_title(f\"IPF-{title}\")\n",
    "    ax[i].axis(\"off\")\n",
    "fig.tight_layout()"
   ]
  },
  {
   "cell_type": "markdown",
   "id": "4a700d96-3b7c-4a8f-a170-118664de8fb7",
   "metadata": {},
   "source": [
    "The orientation maps show grains and twins as we would expect from the VBSE image and IQ map obtained before indexing.\n",
    "\n",
    "As a final verification, we'll plot geometrical simulations on top of the experimental patterns (see the [geometrical simulations tutorial](geometrical_ebsd_simulations.ipynb) for details)"
   ]
  },
  {
   "cell_type": "code",
   "execution_count": null,
   "id": "3abfc6c2-761d-4fac-856a-a76973f287b2",
   "metadata": {},
   "outputs": [],
   "source": [
    "ref = ReciprocalLatticeVector(\n",
    "    phase=xmap.phases[0], hkl=[[1, 1, 1], [2, 0, 0], [2, 2, 0], [3, 1, 1]]\n",
    ")\n",
    "ref = ref.symmetrise()\n",
    "simulator = kp.simulations.KikuchiPatternSimulator(ref)\n",
    "sim = simulator.on_detector(detector, xmap.rotations.reshape(*xmap.shape))"
   ]
  },
  {
   "cell_type": "markdown",
   "id": "b166a003-07b0-4567-a82a-374f178e44b1",
   "metadata": {},
   "source": [
    "Add markers to EBSD signal"
   ]
  },
  {
   "cell_type": "code",
   "execution_count": null,
   "id": "2d692d56-8e94-4b8c-bfe0-e2faba5431ce",
   "metadata": {},
   "outputs": [],
   "source": [
    "markers = sim.as_markers()\n",
    "s.add_marker(markers, plot_marker=False, permanent=True)"
   ]
  },
  {
   "cell_type": "markdown",
   "id": "e81634c2-eaa7-4c75-967a-bd6a02ed1fcc",
   "metadata": {},
   "source": [
    "Navigate patterns with simulations in IPF-X map (see the [visualization tutorial](visualizing_patterns.ipynb) for details)"
   ]
  },
  {
   "cell_type": "code",
   "execution_count": null,
   "id": "bc8f8eb5-9309-4f3d-aeb0-1b4acbf83cdd",
   "metadata": {},
   "outputs": [],
   "source": [
    "maps_nav_rgb = kp.draw.get_rgb_navigator(rgb_x.reshape(xmap.shape + (3,)))"
   ]
  },
  {
   "cell_type": "code",
   "execution_count": null,
   "id": "a93e4267-ec14-40d3-b7f3-492c90d1743a",
   "metadata": {},
   "outputs": [],
   "source": [
    "s.plot(maps_nav_rgb)"
   ]
  },
  {
   "cell_type": "markdown",
   "id": "a338d588-f626-4b44-95c6-df44ab4f5d1e",
   "metadata": {},
   "source": [
    "We can refine the orientation results using dynamical simulations.\n",
    "See the [refinement section](pattern_matching.ipynb#Refinement) of the pattern matching tutorial for how to do that."
   ]
  }
 ],
 "metadata": {
  "kernelspec": {
   "display_name": "Python 3 (ipykernel)",
   "language": "python",
   "name": "python3"
  },
  "language_info": {
   "codemirror_mode": {
    "name": "ipython",
    "version": 3
   },
   "file_extension": ".py",
   "mimetype": "text/x-python",
   "name": "python",
   "nbconvert_exporter": "python",
   "pygments_lexer": "ipython3",
   "version": "3.10.6"
  }
 },
 "nbformat": 4,
 "nbformat_minor": 5
}
