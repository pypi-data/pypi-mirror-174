{
 "cells": [
  {
   "cell_type": "code",
   "execution_count": 4,
   "id": "aefb9a22",
   "metadata": {
    "ExecuteTime": {
     "end_time": "2022-10-30T17:40:10.560207Z",
     "start_time": "2022-10-30T17:40:10.541260Z"
    }
   },
   "outputs": [],
   "source": [
    "# %load_ext nb_black\n",
    "\n",
    "import implicit\n",
    "import scipy\n",
    "import numpy as np\n",
    "import pandas as pd\n",
    "import torch\n",
    "import pytorch_lightning as pl\n",
    "import catboost\n",
    "import wandb\n",
    "import os\n",
    "import typing\n",
    "from torch.utils.data import Dataset, DataLoader\n",
    "import machine_learning\n",
    "import shap\n",
    "import matplotlib.pyplot as plt\n",
    "import contextlib\n",
    "from tqdm.auto import tqdm\n",
    "import gradio as gr\n",
    "import sys\n",
    "import time\n",
    "import requests\n",
    "import asyncio\n",
    "from enum import Enum\n",
    "import machine_learning\n",
    "\n",
    "from machine_learning.recommending.utils import fetch_artifact, load_path_from_artifact\n",
    "from machine_learning.recommending.models.slim import SLIM\n",
    "from machine_learning.recommending.models.baseline import SVDRecommender\n",
    "from my_tools.utils import torch_sparse_slice"
   ]
  },
  {
   "cell_type": "code",
   "execution_count": 45,
   "id": "43908e40",
   "metadata": {
    "ExecuteTime": {
     "end_time": "2022-10-31T06:37:50.523837Z",
     "start_time": "2022-10-31T06:37:50.496220Z"
    }
   },
   "outputs": [
    {
     "data": {
      "text/plain": [
       "<module 'machine_learning.recommending.app' from '/Users/dimakoshman/YSDA/machine_learning/recommending/app.py'>"
      ]
     },
     "execution_count": 45,
     "metadata": {},
     "output_type": "execute_result"
    }
   ],
   "source": [
    "import importlib\n",
    "\n",
    "importlib.reload(machine_learning.recommending.app)"
   ]
  },
  {
   "cell_type": "code",
   "execution_count": 46,
   "id": "5ed5489e",
   "metadata": {
    "ExecuteTime": {
     "end_time": "2022-10-31T06:38:36.607544Z",
     "start_time": "2022-10-31T06:38:36.595162Z"
    }
   },
   "outputs": [],
   "source": [
    "from machine_learning.recommending.app import (\n",
    "    MovieLens25m,\n",
    "    build_app_blocks,\n",
    "    MovieMarkdownGenerator,\n",
    "    SVDRecommender,\n",
    "    load_model,\n",
    ")"
   ]
  },
  {
   "cell_type": "code",
   "execution_count": 47,
   "id": "88146fc3",
   "metadata": {
    "ExecuteTime": {
     "end_time": "2022-10-31T07:01:19.277359Z",
     "start_time": "2022-10-31T07:01:19.118705Z"
    }
   },
   "outputs": [
    {
     "name": "stderr",
     "output_type": "stream",
     "text": [
      "Trying to unpickle estimator TruncatedSVD from version 1.1.2 when using version 1.1.3. This might lead to breaking code or invalid results. Use at your own risk. For more info please refer to:\n",
      "https://scikit-learn.org/stable/model_persistence.html#security-maintainability-limitations\n"
     ]
    }
   ],
   "source": [
    "project = \"Recommending\"\n",
    "entity = \"dkoshman\"\n",
    "state_dict_path = \"/Users/dimakoshman/MovieRecommender/svd.pt\"\n",
    "movie_lens_25m_directory = \"/Users/dimakoshman/MovieRecommender/ml-25m\"\n",
    "tmdb_api_token = os.environ[\"TMDB_API_TOKEN\"]\n",
    "\n",
    "movielens = MovieLens25m(path_to_movielens_folder=movie_lens_25m_directory)\n",
    "movie_markdown_generator = MovieMarkdownGenerator(\n",
    "    links_dataframe=movielens[\"links\"],\n",
    "    movies_dataframe=movielens[\"movies\"],\n",
    "    tmdb_api_token=tmdb_api_token,\n",
    ")\n",
    "model = load_model(torch_nn_module=SVDRecommender, state_dict_path=state_dict_path)\n",
    "model.eval()\n",
    "\n",
    "with gr.Blocks() as app:\n",
    "    build_app_blocks(\n",
    "        recommender=model,\n",
    "        movie_markdown_generator=movie_markdown_generator,\n",
    "    )"
   ]
  },
  {
   "cell_type": "code",
   "execution_count": 48,
   "id": "c70beefd",
   "metadata": {
    "ExecuteTime": {
     "end_time": "2022-10-31T07:01:19.277359Z",
     "start_time": "2022-10-31T07:01:19.118705Z"
    }
   },
   "outputs": [
    {
     "name": "stdout",
     "output_type": "stream",
     "text": [
      "Running on local URL:  http://127.0.0.1:7866\n",
      "\n",
      "To create a public link, set `share=True` in `launch()`.\n"
     ]
    },
    {
     "data": {
      "text/html": [
       "<div><iframe src=\"http://127.0.0.1:7866/\" width=\"900\" height=\"500\" allow=\"autoplay; camera; microphone; clipboard-read; clipboard-write;\" frameborder=\"0\" allowfullscreen></iframe></div>"
      ],
      "text/plain": [
       "<IPython.core.display.HTML object>"
      ]
     },
     "metadata": {},
     "output_type": "display_data"
    },
    {
     "data": {
      "text/plain": [
       "(<gradio.routes.App at 0x13e445640>, 'http://127.0.0.1:7866/', None)"
      ]
     },
     "execution_count": 48,
     "metadata": {},
     "output_type": "execute_result"
    }
   ],
   "source": [
    "# wandb.finish()\n",
    "# wandb.init(job_type=\"app\", project=project, entity=entity)\n",
    "app.launch()"
   ]
  },
  {
   "cell_type": "code",
   "execution_count": 43,
   "id": "5236b7a5",
   "metadata": {
    "ExecuteTime": {
     "end_time": "2022-10-30T17:47:23.049682Z",
     "start_time": "2022-10-30T17:47:22.923819Z"
    }
   },
   "outputs": [
    {
     "name": "stdout",
     "output_type": "stream",
     "text": [
      "Closing server running on port: 7865\n"
     ]
    }
   ],
   "source": [
    "app.close()"
   ]
  }
 ],
 "metadata": {
  "kernelspec": {
   "display_name": "3.8",
   "language": "python",
   "name": "3.8"
  },
  "language_info": {
   "codemirror_mode": {
    "name": "ipython",
    "version": 3
   },
   "file_extension": ".py",
   "mimetype": "text/x-python",
   "name": "python",
   "nbconvert_exporter": "python",
   "pygments_lexer": "ipython3",
   "version": "3.8.15"
  }
 },
 "nbformat": 4,
 "nbformat_minor": 5
}
