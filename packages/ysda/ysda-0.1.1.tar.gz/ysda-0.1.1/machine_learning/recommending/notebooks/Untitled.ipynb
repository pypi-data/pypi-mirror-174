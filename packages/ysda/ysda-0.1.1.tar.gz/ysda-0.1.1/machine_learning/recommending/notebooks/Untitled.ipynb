{
 "cells": [
  {
   "cell_type": "code",
   "execution_count": 11,
   "id": "aefb9a22",
   "metadata": {
    "ExecuteTime": {
     "end_time": "2022-10-30T17:40:10.560207Z",
     "start_time": "2022-10-30T17:40:10.541260Z"
    }
   },
   "outputs": [
    {
     "name": "stdout",
     "output_type": "stream",
     "text": [
      "The nb_black extension is already loaded. To reload it, use:\n",
      "  %reload_ext nb_black\n"
     ]
    },
    {
     "data": {
      "application/javascript": [
       "\n",
       "            setTimeout(function() {\n",
       "                var nbb_cell_id = 11;\n",
       "                var nbb_unformatted_code = \"%load_ext nb_black\\n\\nimport implicit\\nimport scipy\\nimport numpy as np\\nimport pandas as pd\\nimport torch\\nimport pytorch_lightning as pl\\nimport catboost\\nimport wandb\\nimport os\\nimport typing\\nfrom torch.utils.data import Dataset, DataLoader\\nimport machine_learning\\nimport shap\\nimport matplotlib.pyplot as plt\\nimport contextlib\\nfrom tqdm.auto import tqdm\\nimport gradio as gr\\nimport sys\\nimport time\\nimport requests\\nimport asyncio\\nfrom enum import Enum\\nimport machine_learning\\n\\nfrom machine_learning.recommending.app import build_app\\nfrom machine_learning.recommending.utils import fetch_artifact, load_path_from_artifact\\nfrom machine_learning.recommending.models.slim import SLIM\\nfrom machine_learning.recommending.models.baseline import SVDRecommender\\nfrom my_tools.utils import torch_sparse_slice\";\n",
       "                var nbb_formatted_code = \"%load_ext nb_black\\n\\nimport implicit\\nimport scipy\\nimport numpy as np\\nimport pandas as pd\\nimport torch\\nimport pytorch_lightning as pl\\nimport catboost\\nimport wandb\\nimport os\\nimport typing\\nfrom torch.utils.data import Dataset, DataLoader\\nimport machine_learning\\nimport shap\\nimport matplotlib.pyplot as plt\\nimport contextlib\\nfrom tqdm.auto import tqdm\\nimport gradio as gr\\nimport sys\\nimport time\\nimport requests\\nimport asyncio\\nfrom enum import Enum\\nimport machine_learning\\n\\nfrom machine_learning.recommending.app import build_app\\nfrom machine_learning.recommending.utils import fetch_artifact, load_path_from_artifact\\nfrom machine_learning.recommending.models.slim import SLIM\\nfrom machine_learning.recommending.models.baseline import SVDRecommender\\nfrom my_tools.utils import torch_sparse_slice\";\n",
       "                var nbb_cells = Jupyter.notebook.get_cells();\n",
       "                for (var i = 0; i < nbb_cells.length; ++i) {\n",
       "                    if (nbb_cells[i].input_prompt_number == nbb_cell_id) {\n",
       "                        if (nbb_cells[i].get_text() == nbb_unformatted_code) {\n",
       "                             nbb_cells[i].set_text(nbb_formatted_code);\n",
       "                        }\n",
       "                        break;\n",
       "                    }\n",
       "                }\n",
       "            }, 500);\n",
       "            "
      ],
      "text/plain": [
       "<IPython.core.display.Javascript object>"
      ]
     },
     "metadata": {},
     "output_type": "display_data"
    }
   ],
   "source": [
    "%load_ext nb_black\n",
    "\n",
    "import implicit\n",
    "import scipy\n",
    "import numpy as np\n",
    "import pandas as pd\n",
    "import torch\n",
    "import pytorch_lightning as pl\n",
    "import catboost\n",
    "import wandb\n",
    "import os\n",
    "import typing\n",
    "from torch.utils.data import Dataset, DataLoader\n",
    "import machine_learning\n",
    "import shap\n",
    "import matplotlib.pyplot as plt\n",
    "import contextlib\n",
    "from tqdm.auto import tqdm\n",
    "import gradio as gr\n",
    "import sys\n",
    "import time\n",
    "import requests\n",
    "import asyncio\n",
    "from enum import Enum\n",
    "import machine_learning\n",
    "\n",
    "from machine_learning.recommending.app import build_app\n",
    "from machine_learning.recommending.utils import fetch_artifact, load_path_from_artifact\n",
    "from machine_learning.recommending.models.slim import SLIM\n",
    "from machine_learning.recommending.models.baseline import SVDRecommender\n",
    "from my_tools.utils import torch_sparse_slice"
   ]
  },
  {
   "cell_type": "code",
   "execution_count": 16,
   "id": "669576f8",
   "metadata": {
    "ExecuteTime": {
     "end_time": "2022-10-30T17:43:46.810210Z",
     "start_time": "2022-10-30T17:43:37.122923Z"
    }
   },
   "outputs": [
    {
     "name": "stderr",
     "output_type": "stream",
     "text": [
      "Trying to unpickle estimator TruncatedSVD from version 1.1.2 when using version 0.24.2. This might lead to breaking code or invalid results. Use at your own risk.\n"
     ]
    },
    {
     "data": {
      "text/plain": [
       "<module 'machine_learning.recommending.app' from '/Users/dimakoshman/YSDA/machine_learning/recommending/app.py'>"
      ]
     },
     "execution_count": 16,
     "metadata": {},
     "output_type": "execute_result"
    },
    {
     "data": {
      "application/javascript": [
       "\n",
       "            setTimeout(function() {\n",
       "                var nbb_cell_id = 16;\n",
       "                var nbb_unformatted_code = \"import importlib\\n\\nimportlib.reload(machine_learning.recommending.app)\";\n",
       "                var nbb_formatted_code = \"import importlib\\n\\nimportlib.reload(machine_learning.recommending.app)\";\n",
       "                var nbb_cells = Jupyter.notebook.get_cells();\n",
       "                for (var i = 0; i < nbb_cells.length; ++i) {\n",
       "                    if (nbb_cells[i].input_prompt_number == nbb_cell_id) {\n",
       "                        if (nbb_cells[i].get_text() == nbb_unformatted_code) {\n",
       "                             nbb_cells[i].set_text(nbb_formatted_code);\n",
       "                        }\n",
       "                        break;\n",
       "                    }\n",
       "                }\n",
       "            }, 500);\n",
       "            "
      ],
      "text/plain": [
       "<IPython.core.display.Javascript object>"
      ]
     },
     "metadata": {},
     "output_type": "display_data"
    }
   ],
   "source": [
    "import importlib\n",
    "\n",
    "importlib.reload(machine_learning.recommending.app)"
   ]
  },
  {
   "cell_type": "code",
   "execution_count": 17,
   "id": "93bb9a6c",
   "metadata": {
    "ExecuteTime": {
     "end_time": "2022-10-30T17:43:51.149743Z",
     "start_time": "2022-10-30T17:43:51.125852Z"
    }
   },
   "outputs": [
    {
     "data": {
      "application/javascript": [
       "\n",
       "            setTimeout(function() {\n",
       "                var nbb_cell_id = 17;\n",
       "                var nbb_unformatted_code = \"from machine_learning.recommending.app import app\";\n",
       "                var nbb_formatted_code = \"from machine_learning.recommending.app import app\";\n",
       "                var nbb_cells = Jupyter.notebook.get_cells();\n",
       "                for (var i = 0; i < nbb_cells.length; ++i) {\n",
       "                    if (nbb_cells[i].input_prompt_number == nbb_cell_id) {\n",
       "                        if (nbb_cells[i].get_text() == nbb_unformatted_code) {\n",
       "                             nbb_cells[i].set_text(nbb_formatted_code);\n",
       "                        }\n",
       "                        break;\n",
       "                    }\n",
       "                }\n",
       "            }, 500);\n",
       "            "
      ],
      "text/plain": [
       "<IPython.core.display.Javascript object>"
      ]
     },
     "metadata": {},
     "output_type": "display_data"
    }
   ],
   "source": [
    "from machine_learning.recommending.app import app"
   ]
  },
  {
   "cell_type": "code",
   "execution_count": 22,
   "id": "2535f748",
   "metadata": {
    "ExecuteTime": {
     "end_time": "2022-10-30T17:52:35.239847Z",
     "start_time": "2022-10-30T17:52:33.788068Z"
    }
   },
   "outputs": [
    {
     "data": {
      "application/javascript": [
       "\n",
       "            setTimeout(function() {\n",
       "                var nbb_cell_id = 22;\n",
       "                var nbb_unformatted_code = \"torch.save(state_dict, \\\"svd.pt\\\")\";\n",
       "                var nbb_formatted_code = \"torch.save(state_dict, \\\"svd.pt\\\")\";\n",
       "                var nbb_cells = Jupyter.notebook.get_cells();\n",
       "                for (var i = 0; i < nbb_cells.length; ++i) {\n",
       "                    if (nbb_cells[i].input_prompt_number == nbb_cell_id) {\n",
       "                        if (nbb_cells[i].get_text() == nbb_unformatted_code) {\n",
       "                             nbb_cells[i].set_text(nbb_formatted_code);\n",
       "                        }\n",
       "                        break;\n",
       "                    }\n",
       "                }\n",
       "            }, 500);\n",
       "            "
      ],
      "text/plain": [
       "<IPython.core.display.Javascript object>"
      ]
     },
     "metadata": {},
     "output_type": "display_data"
    }
   ],
   "source": [
    "torch.save(state_dict, \"svd.pt\")"
   ]
  },
  {
   "cell_type": "code",
   "execution_count": 51,
   "id": "1aa3ce2d",
   "metadata": {
    "ExecuteTime": {
     "end_time": "2022-10-30T19:17:38.909869Z",
     "start_time": "2022-10-30T19:17:38.898492Z"
    }
   },
   "outputs": [
    {
     "data": {
      "text/plain": [
       "False"
      ]
     },
     "execution_count": 51,
     "metadata": {},
     "output_type": "execute_result"
    },
    {
     "data": {
      "application/javascript": [
       "\n",
       "            setTimeout(function() {\n",
       "                var nbb_cell_id = 51;\n",
       "                var nbb_unformatted_code = \"(1, 2) > (1, 5)\";\n",
       "                var nbb_formatted_code = \"(1, 2) > (1, 5)\";\n",
       "                var nbb_cells = Jupyter.notebook.get_cells();\n",
       "                for (var i = 0; i < nbb_cells.length; ++i) {\n",
       "                    if (nbb_cells[i].input_prompt_number == nbb_cell_id) {\n",
       "                        if (nbb_cells[i].get_text() == nbb_unformatted_code) {\n",
       "                             nbb_cells[i].set_text(nbb_formatted_code);\n",
       "                        }\n",
       "                        break;\n",
       "                    }\n",
       "                }\n",
       "            }, 500);\n",
       "            "
      ],
      "text/plain": [
       "<IPython.core.display.Javascript object>"
      ]
     },
     "metadata": {},
     "output_type": "display_data"
    }
   ],
   "source": [
    "(1, 2) > (1, 5)"
   ]
  },
  {
   "cell_type": "code",
   "execution_count": 26,
   "id": "8a794ff7",
   "metadata": {
    "ExecuteTime": {
     "end_time": "2022-10-30T19:10:51.445526Z",
     "start_time": "2022-10-30T19:10:51.430497Z"
    }
   },
   "outputs": [
    {
     "data": {
      "text/plain": [
       "False"
      ]
     },
     "execution_count": 26,
     "metadata": {},
     "output_type": "execute_result"
    },
    {
     "data": {
      "application/javascript": [
       "\n",
       "            setTimeout(function() {\n",
       "                var nbb_cell_id = 26;\n",
       "                var nbb_unformatted_code = \"set([1]) == set([2])\";\n",
       "                var nbb_formatted_code = \"set([1]) == set([2])\";\n",
       "                var nbb_cells = Jupyter.notebook.get_cells();\n",
       "                for (var i = 0; i < nbb_cells.length; ++i) {\n",
       "                    if (nbb_cells[i].input_prompt_number == nbb_cell_id) {\n",
       "                        if (nbb_cells[i].get_text() == nbb_unformatted_code) {\n",
       "                             nbb_cells[i].set_text(nbb_formatted_code);\n",
       "                        }\n",
       "                        break;\n",
       "                    }\n",
       "                }\n",
       "            }, 500);\n",
       "            "
      ],
      "text/plain": [
       "<IPython.core.display.Javascript object>"
      ]
     },
     "metadata": {},
     "output_type": "display_data"
    }
   ],
   "source": [
    "set([1]) == set([2])"
   ]
  },
  {
   "cell_type": "code",
   "execution_count": 24,
   "id": "ff386700",
   "metadata": {
    "ExecuteTime": {
     "end_time": "2022-10-30T17:58:00.230125Z",
     "start_time": "2022-10-30T17:57:58.301214Z"
    }
   },
   "outputs": [
    {
     "name": "stdout",
     "output_type": "stream",
     "text": [
      "Running on local URL:  http://127.0.0.1:7862\n",
      "\n",
      "To create a public link, set `share=True` in `launch()`.\n"
     ]
    },
    {
     "data": {
      "text/html": [
       "<div><iframe src=\"http://127.0.0.1:7862/\" width=\"900\" height=\"500\" allow=\"autoplay; camera; microphone; clipboard-read; clipboard-write;\" frameborder=\"0\" allowfullscreen></iframe></div>"
      ],
      "text/plain": [
       "<IPython.core.display.HTML object>"
      ]
     },
     "metadata": {},
     "output_type": "display_data"
    },
    {
     "data": {
      "text/plain": [
       "(<gradio.routes.App at 0x29674c370>, 'http://127.0.0.1:7862/', None)"
      ]
     },
     "execution_count": 24,
     "metadata": {},
     "output_type": "execute_result"
    },
    {
     "data": {
      "application/javascript": [
       "\n",
       "            setTimeout(function() {\n",
       "                var nbb_cell_id = 24;\n",
       "                var nbb_unformatted_code = \"model = None\\napp.launch()\";\n",
       "                var nbb_formatted_code = \"model = None\\napp.launch()\";\n",
       "                var nbb_cells = Jupyter.notebook.get_cells();\n",
       "                for (var i = 0; i < nbb_cells.length; ++i) {\n",
       "                    if (nbb_cells[i].input_prompt_number == nbb_cell_id) {\n",
       "                        if (nbb_cells[i].get_text() == nbb_unformatted_code) {\n",
       "                             nbb_cells[i].set_text(nbb_formatted_code);\n",
       "                        }\n",
       "                        break;\n",
       "                    }\n",
       "                }\n",
       "            }, 500);\n",
       "            "
      ],
      "text/plain": [
       "<IPython.core.display.Javascript object>"
      ]
     },
     "metadata": {},
     "output_type": "display_data"
    }
   ],
   "source": [
    "model = None\n",
    "app.launch()"
   ]
  },
  {
   "cell_type": "code",
   "execution_count": 12,
   "id": "bab40918",
   "metadata": {
    "ExecuteTime": {
     "end_time": "2022-10-30T17:40:13.783530Z",
     "start_time": "2022-10-30T17:40:13.746232Z"
    },
    "collapsed": true
   },
   "outputs": [
    {
     "ename": "NameError",
     "evalue": "name 'MovieLens' is not defined",
     "output_type": "error",
     "traceback": [
      "\u001b[0;31m---------------------------------------------------------------------------\u001b[0m",
      "\u001b[0;31mNameError\u001b[0m                                 Traceback (most recent call last)",
      "Cell \u001b[0;32mIn [12], line 3\u001b[0m\n\u001b[1;32m      1\u001b[0m entity \u001b[38;5;241m=\u001b[39m \u001b[38;5;124m\"\u001b[39m\u001b[38;5;124mdkoshman\u001b[39m\u001b[38;5;124m\"\u001b[39m\n\u001b[1;32m      2\u001b[0m project \u001b[38;5;241m=\u001b[39m \u001b[38;5;124m\"\u001b[39m\u001b[38;5;124mRecommending\u001b[39m\u001b[38;5;124m\"\u001b[39m\n\u001b[0;32m----> 3\u001b[0m ml \u001b[38;5;241m=\u001b[39m \u001b[43mMovieLens\u001b[49m(\u001b[38;5;124m\"\u001b[39m\u001b[38;5;124m../local/ml-100k\u001b[39m\u001b[38;5;124m\"\u001b[39m)\n\u001b[1;32m      5\u001b[0m artifact \u001b[38;5;241m=\u001b[39m fetch_artifact(entity\u001b[38;5;241m=\u001b[39mentity, project\u001b[38;5;241m=\u001b[39mproject, artifact_name\u001b[38;5;241m=\u001b[39m\u001b[38;5;124m\"\u001b[39m\u001b[38;5;124mslim\u001b[39m\u001b[38;5;124m\"\u001b[39m)\n\u001b[1;32m      6\u001b[0m checkpoint_path \u001b[38;5;241m=\u001b[39m load_path_from_artifact(artifact, path_inside_artifact\u001b[38;5;241m=\u001b[39m\u001b[38;5;124m\"\u001b[39m\u001b[38;5;124mcheckpoint\u001b[39m\u001b[38;5;124m\"\u001b[39m)\n",
      "\u001b[0;31mNameError\u001b[0m: name 'MovieLens' is not defined"
     ]
    },
    {
     "data": {
      "application/javascript": [
       "\n",
       "            setTimeout(function() {\n",
       "                var nbb_cell_id = 12;\n",
       "                var nbb_unformatted_code = \"entity = \\\"dkoshman\\\"\\nproject = \\\"Recommending\\\"\\nml = MovieLens(\\\"../local/ml-100k\\\")\\n\\nartifact = fetch_artifact(entity=entity, project=project, artifact_name=\\\"slim\\\")\\ncheckpoint_path = load_path_from_artifact(artifact, path_inside_artifact=\\\"checkpoint\\\")\\ncheckpoint = torch.load(checkpoint_path, map_location=torch.device(\\\"cpu\\\"))\\nstate_dict = {\\n    k.split(\\\".\\\")[1]: v\\n    for k, v in checkpoint[\\\"state_dict\\\"].items()\\n    if k.startswith(\\\"model.\\\")\\n}\\nslim = SLIM()\\nslim.load_state_dict(state_dict)\\nslim = slim.eval()\";\n",
       "                var nbb_formatted_code = \"entity = \\\"dkoshman\\\"\\nproject = \\\"Recommending\\\"\\nml = MovieLens(\\\"../local/ml-100k\\\")\\n\\nartifact = fetch_artifact(entity=entity, project=project, artifact_name=\\\"slim\\\")\\ncheckpoint_path = load_path_from_artifact(artifact, path_inside_artifact=\\\"checkpoint\\\")\\ncheckpoint = torch.load(checkpoint_path, map_location=torch.device(\\\"cpu\\\"))\\nstate_dict = {\\n    k.split(\\\".\\\")[1]: v\\n    for k, v in checkpoint[\\\"state_dict\\\"].items()\\n    if k.startswith(\\\"model.\\\")\\n}\\nslim = SLIM()\\nslim.load_state_dict(state_dict)\\nslim = slim.eval()\";\n",
       "                var nbb_cells = Jupyter.notebook.get_cells();\n",
       "                for (var i = 0; i < nbb_cells.length; ++i) {\n",
       "                    if (nbb_cells[i].input_prompt_number == nbb_cell_id) {\n",
       "                        if (nbb_cells[i].get_text() == nbb_unformatted_code) {\n",
       "                             nbb_cells[i].set_text(nbb_formatted_code);\n",
       "                        }\n",
       "                        break;\n",
       "                    }\n",
       "                }\n",
       "            }, 500);\n",
       "            "
      ],
      "text/plain": [
       "<IPython.core.display.Javascript object>"
      ]
     },
     "metadata": {},
     "output_type": "display_data"
    }
   ],
   "source": [
    "entity = \"dkoshman\"\n",
    "project = \"Recommending\"\n",
    "ml = MovieLens(\"../local/ml-100k\")\n",
    "\n",
    "artifact = fetch_artifact(entity=entity, project=project, artifact_name=\"slim\")\n",
    "checkpoint_path = load_path_from_artifact(artifact, path_inside_artifact=\"checkpoint\")\n",
    "checkpoint = torch.load(checkpoint_path, map_location=torch.device(\"cpu\"))\n",
    "state_dict = {\n",
    "    k.split(\".\")[1]: v\n",
    "    for k, v in checkpoint[\"state_dict\"].items()\n",
    "    if k.startswith(\"model.\")\n",
    "}\n",
    "slim = SLIM()\n",
    "slim.load_state_dict(state_dict)\n",
    "slim = slim.eval()"
   ]
  },
  {
   "cell_type": "code",
   "execution_count": 19,
   "id": "ca98c92b",
   "metadata": {
    "ExecuteTime": {
     "end_time": "2022-10-30T17:44:53.213447Z",
     "start_time": "2022-10-30T17:44:50.194518Z"
    }
   },
   "outputs": [
    {
     "data": {
      "text/html": [
       "Tracking run with wandb version 0.13.4"
      ],
      "text/plain": [
       "<IPython.core.display.HTML object>"
      ]
     },
     "metadata": {},
     "output_type": "display_data"
    },
    {
     "data": {
      "text/html": [
       "Run data is saved locally in <code>/Users/dimakoshman/YSDA/machine_learning/recommending/notebooks/wandb/run-20221030_214450-3byaonpe</code>"
      ],
      "text/plain": [
       "<IPython.core.display.HTML object>"
      ]
     },
     "metadata": {},
     "output_type": "display_data"
    },
    {
     "data": {
      "text/html": [
       "Syncing run <strong><a href=\"https://wandb.ai/dkoshman/Recommending/runs/3byaonpe\" target=\"_blank\">ritualistic-ghost-448</a></strong> to <a href=\"https://wandb.ai/dkoshman/Recommending\" target=\"_blank\">Weights & Biases</a> (<a href=\"https://wandb.me/run\" target=\"_blank\">docs</a>)<br/>"
      ],
      "text/plain": [
       "<IPython.core.display.HTML object>"
      ]
     },
     "metadata": {},
     "output_type": "display_data"
    },
    {
     "name": "stdout",
     "output_type": "stream",
     "text": [
      "Rerunning server... use `close()` to stop if you need to change `launch()` parameters.\n",
      "----\n",
      "Running on local URL:  http://127.0.0.1:7862\n",
      "\n",
      "To create a public link, set `share=True` in `launch()`.\n"
     ]
    },
    {
     "data": {
      "text/html": [
       "<div><iframe src=\"http://127.0.0.1:7862/\" width=\"900\" height=\"500\" allow=\"autoplay; camera; microphone; clipboard-read; clipboard-write;\" frameborder=\"0\" allowfullscreen></iframe></div>"
      ],
      "text/plain": [
       "<IPython.core.display.HTML object>"
      ]
     },
     "metadata": {},
     "output_type": "display_data"
    },
    {
     "data": {
      "text/plain": [
       "(<gradio.routes.App at 0x161235150>, 'http://127.0.0.1:7862/', None)"
      ]
     },
     "execution_count": 19,
     "metadata": {},
     "output_type": "execute_result"
    },
    {
     "data": {
      "application/javascript": [
       "\n",
       "            setTimeout(function() {\n",
       "                var nbb_cell_id = 19;\n",
       "                var nbb_unformatted_code = \"wandb.finish()\\nwandb.init(job_type=\\\"app\\\", project=\\\"Recommending\\\", entity=\\\"dkoshman\\\")\\napp.launch()\";\n",
       "                var nbb_formatted_code = \"wandb.finish()\\nwandb.init(job_type=\\\"app\\\", project=\\\"Recommending\\\", entity=\\\"dkoshman\\\")\\napp.launch()\";\n",
       "                var nbb_cells = Jupyter.notebook.get_cells();\n",
       "                for (var i = 0; i < nbb_cells.length; ++i) {\n",
       "                    if (nbb_cells[i].input_prompt_number == nbb_cell_id) {\n",
       "                        if (nbb_cells[i].get_text() == nbb_unformatted_code) {\n",
       "                             nbb_cells[i].set_text(nbb_formatted_code);\n",
       "                        }\n",
       "                        break;\n",
       "                    }\n",
       "                }\n",
       "            }, 500);\n",
       "            "
      ],
      "text/plain": [
       "<IPython.core.display.Javascript object>"
      ]
     },
     "metadata": {},
     "output_type": "display_data"
    }
   ],
   "source": [
    "wandb.finish()\n",
    "wandb.init(job_type=\"app\", project=\"Recommending\", entity=\"dkoshman\")\n",
    "app.launch()"
   ]
  },
  {
   "cell_type": "code",
   "execution_count": 20,
   "id": "24799196",
   "metadata": {
    "ExecuteTime": {
     "end_time": "2022-10-30T17:47:23.049682Z",
     "start_time": "2022-10-30T17:47:22.923819Z"
    }
   },
   "outputs": [
    {
     "name": "stdout",
     "output_type": "stream",
     "text": [
      "Closing server running on port: 7862\n"
     ]
    },
    {
     "data": {
      "application/javascript": [
       "\n",
       "            setTimeout(function() {\n",
       "                var nbb_cell_id = 20;\n",
       "                var nbb_unformatted_code = \"app.close()\";\n",
       "                var nbb_formatted_code = \"app.close()\";\n",
       "                var nbb_cells = Jupyter.notebook.get_cells();\n",
       "                for (var i = 0; i < nbb_cells.length; ++i) {\n",
       "                    if (nbb_cells[i].input_prompt_number == nbb_cell_id) {\n",
       "                        if (nbb_cells[i].get_text() == nbb_unformatted_code) {\n",
       "                             nbb_cells[i].set_text(nbb_formatted_code);\n",
       "                        }\n",
       "                        break;\n",
       "                    }\n",
       "                }\n",
       "            }, 500);\n",
       "            "
      ],
      "text/plain": [
       "<IPython.core.display.Javascript object>"
      ]
     },
     "metadata": {},
     "output_type": "display_data"
    }
   ],
   "source": [
    "app.close()"
   ]
  },
  {
   "cell_type": "code",
   "execution_count": 3,
   "id": "914f8c80",
   "metadata": {
    "ExecuteTime": {
     "end_time": "2022-10-30T09:33:54.048005Z",
     "start_time": "2022-10-30T09:33:54.041747Z"
    }
   },
   "outputs": [
    {
     "data": {
      "application/javascript": [
       "\n",
       "            setTimeout(function() {\n",
       "                var nbb_cell_id = 3;\n",
       "                var nbb_unformatted_code = \"# No need for this, just recommend\\n# n_background_samples_for_shap=slim.n_users\\n\\n# background_samples_for_shap = slim.to_scipy_coo(slim.explicit).tocsr()[\\n#     np.random.choice(\\n#         np.arange(slim.n_users),\\n#         replace=False,\\n#         size=min(n_background_samples_for_shap, slim.n_users),\\n#     )\\n# ]\\n\\n# shaps = np.zeros(slim.n_items)\\n# explicit = slim.to_scipy_coo(slim.explicit).tocsr()\\n# means = np.nan_to_num((explicit.sum(0) / (explicit > 0).sum(0)).A).squeeze(0)\\n\\n# for item_id, mean in tqdm(enumerate(means[:100])):\\n#     item_weight = torch_sparse_slice(slim.sparse_weight, col_ids=[item_id])\\n#     item_weight = item_weight.to_dense().numpy().squeeze(1)\\n#     coefficient = slim.item_bias[item_id].item()\\n#     explainer = shap.explainers.Linear(\\n#         model=(item_weight, coefficient),\\n#         masker=background_samples_for_shap,\\n#     )\\n#     shap_values = explainer(background_samples_for_shap)\\n#     shaps += shap_values.abs.sum(0).values*mean\\n    \\n\\n# items_by_importance = (-shaps).argsort()\";\n",
       "                var nbb_formatted_code = \"# No need for this, just recommend\\n# n_background_samples_for_shap=slim.n_users\\n\\n# background_samples_for_shap = slim.to_scipy_coo(slim.explicit).tocsr()[\\n#     np.random.choice(\\n#         np.arange(slim.n_users),\\n#         replace=False,\\n#         size=min(n_background_samples_for_shap, slim.n_users),\\n#     )\\n# ]\\n\\n# shaps = np.zeros(slim.n_items)\\n# explicit = slim.to_scipy_coo(slim.explicit).tocsr()\\n# means = np.nan_to_num((explicit.sum(0) / (explicit > 0).sum(0)).A).squeeze(0)\\n\\n# for item_id, mean in tqdm(enumerate(means[:100])):\\n#     item_weight = torch_sparse_slice(slim.sparse_weight, col_ids=[item_id])\\n#     item_weight = item_weight.to_dense().numpy().squeeze(1)\\n#     coefficient = slim.item_bias[item_id].item()\\n#     explainer = shap.explainers.Linear(\\n#         model=(item_weight, coefficient),\\n#         masker=background_samples_for_shap,\\n#     )\\n#     shap_values = explainer(background_samples_for_shap)\\n#     shaps += shap_values.abs.sum(0).values*mean\\n\\n\\n# items_by_importance = (-shaps).argsort()\";\n",
       "                var nbb_cells = Jupyter.notebook.get_cells();\n",
       "                for (var i = 0; i < nbb_cells.length; ++i) {\n",
       "                    if (nbb_cells[i].input_prompt_number == nbb_cell_id) {\n",
       "                        if (nbb_cells[i].get_text() == nbb_unformatted_code) {\n",
       "                             nbb_cells[i].set_text(nbb_formatted_code);\n",
       "                        }\n",
       "                        break;\n",
       "                    }\n",
       "                }\n",
       "            }, 500);\n",
       "            "
      ],
      "text/plain": [
       "<IPython.core.display.Javascript object>"
      ]
     },
     "metadata": {},
     "output_type": "display_data"
    }
   ],
   "source": [
    "# No need for this, just recommend\n",
    "# n_background_samples_for_shap=slim.n_users\n",
    "\n",
    "# background_samples_for_shap = slim.to_scipy_coo(slim.explicit).tocsr()[\n",
    "#     np.random.choice(\n",
    "#         np.arange(slim.n_users),\n",
    "#         replace=False,\n",
    "#         size=min(n_background_samples_for_shap, slim.n_users),\n",
    "#     )\n",
    "# ]\n",
    "\n",
    "# shaps = np.zeros(slim.n_items)\n",
    "# explicit = slim.to_scipy_coo(slim.explicit).tocsr()\n",
    "# means = np.nan_to_num((explicit.sum(0) / (explicit > 0).sum(0)).A).squeeze(0)\n",
    "\n",
    "# for item_id, mean in tqdm(enumerate(means[:100])):\n",
    "#     item_weight = torch_sparse_slice(slim.sparse_weight, col_ids=[item_id])\n",
    "#     item_weight = item_weight.to_dense().numpy().squeeze(1)\n",
    "#     coefficient = slim.item_bias[item_id].item()\n",
    "#     explainer = shap.explainers.Linear(\n",
    "#         model=(item_weight, coefficient),\n",
    "#         masker=background_samples_for_shap,\n",
    "#     )\n",
    "#     shap_values = explainer(background_samples_for_shap)\n",
    "#     shaps += shap_values.abs.sum(0).values*mean\n",
    "\n",
    "\n",
    "# items_by_importance = (-shaps).argsort()"
   ]
  },
  {
   "cell_type": "code",
   "execution_count": 1,
   "id": "ad4556aa",
   "metadata": {
    "ExecuteTime": {
     "end_time": "2022-10-30T16:40:19.829299Z",
     "start_time": "2022-10-30T16:40:19.570895Z"
    }
   },
   "outputs": [
    {
     "ename": "NameError",
     "evalue": "name 'wandb' is not defined",
     "output_type": "error",
     "traceback": [
      "\u001b[0;31m---------------------------------------------------------------------------\u001b[0m",
      "\u001b[0;31mNameError\u001b[0m                                 Traceback (most recent call last)",
      "Cell \u001b[0;32mIn [1], line 1\u001b[0m\n\u001b[0;32m----> 1\u001b[0m \u001b[43mwandb\u001b[49m\n",
      "\u001b[0;31mNameError\u001b[0m: name 'wandb' is not defined"
     ]
    }
   ],
   "source": [
    "wandb.define_metric()"
   ]
  },
  {
   "cell_type": "code",
   "execution_count": 249,
   "id": "7e727072",
   "metadata": {
    "ExecuteTime": {
     "end_time": "2022-10-30T16:10:44.946324Z",
     "start_time": "2022-10-30T16:10:43.938997Z"
    }
   },
   "outputs": [
    {
     "name": "stderr",
     "output_type": "stream",
     "text": [
      "Trying to unpickle estimator TruncatedSVD from version 1.1.2 when using version 0.24.2. This might lead to breaking code or invalid results. Use at your own risk.\n"
     ]
    },
    {
     "data": {
      "text/plain": [
       "SVDRecommender()"
      ]
     },
     "execution_count": 249,
     "metadata": {},
     "output_type": "execute_result"
    },
    {
     "data": {
      "application/javascript": [
       "\n",
       "            setTimeout(function() {\n",
       "                var nbb_cell_id = 249;\n",
       "                var nbb_unformatted_code = \"from machine_learning.recommending.models import SLIM, SVDRecommender\\nfrom machine_learning.recommending.movielens.data import MovieLens25m\\n\\n\\nclass Feedback(Enum):\\n    NONE = \\\"Haven't seen it\\\"\\n    ONE, TWO, THREE, FOUR, FIVE = map(str, range(1, 6))\\n\\n    @property\\n    def int(self):\\n        return {v: i for i, v in enumerate(Feedback)}[self]\\n\\n\\nclass MovieMarkdownGenerator:\\n    def __init__(\\n        self,\\n        links_dataframe,\\n        movies_dataframe,\\n        tmdb_api_token=\\\"0369096d5891e7959f8e5ae35bae71bc\\\",\\n    ):\\n        self.links = links_dataframe\\n        self.movies_dataframe = movies_dataframe\\n        for dataframe in [self.links, self.movies_dataframe]:\\n            dataframe.set_index(\\\"movieId\\\", inplace=True)\\n            match dataframe.index.min():\\n                case 0:\\n                    pass\\n                case 1:\\n                    dataframe.index -= 1\\n                case _:\\n                    raise ValueError(\\\"Index of dataframe should start with 0 or 1.\\\")\\n        self.tmdb_api_token = tmdb_api_token\\n\\n    def imdb_id(self, movie_id) -> str:\\n        imdb_id = self.links[\\\"imdbId\\\"].loc[movie_id]\\n        return f\\\"{imdb_id:07d}\\\"\\n\\n    def imdb_url(self, movie_id):\\n        return f\\\"https://www.imdb.com/title/tt{self.imdb_id(movie_id)}\\\"\\n\\n    def tmdb_request_url(self, imdb_id):\\n        return (\\n            f\\\"https://api.themoviedb.org/3/find/tt{imdb_id}\\\"\\n            f\\\"?api_key={self.tmdb_api_token}&external_source=imdb_id\\\"\\n        )\\n\\n    @staticmethod\\n    def poster_url_from_tmdb_poster_path(poster_path, size=\\\"w200\\\"):\\n        return f\\\"https://image.tmdb.org/t/p/{size}{poster_path}\\\"\\n\\n    def __call__(self, movie_id):\\n        imdb_id = self.imdb_id(movie_id)\\n        tmdb_request_url = self.tmdb_request_url(imdb_id)\\n        request = requests.get(tmdb_request_url)\\n        if not request.ok:\\n            wandb.log(\\n                dict(\\n                    failed_request=dict(\\n                        reason=request.reason,\\n                        status_code=request.status_code,\\n                        text=request.text,\\n                    )\\n                )\\n            )\\n            markdown = \\\"\\\"\\n            if self.movies_dataframe is not None:\\n                markdown = self.movies_dataframe.loc[movie_id][\\\"movie title\\\"]\\n            return markdown, \\\"\\\"\\n\\n        movie_results = request.json()[\\\"movie_results\\\"][0]\\n        poster_url = self.poster_url_from_tmdb_poster_path(\\n            poster_path=movie_results[\\\"poster_path\\\"]\\n        )\\n        title = movie_results[\\\"title\\\"]\\n        imdb_url = self.imdb_url(movie_id)\\n        markdown = (\\n            f\\\"\\\"\\\"[{title}]({imdb_url})\\\"\\\"\\\" + self.movies_dataframe.loc[movie_id][\\\"title\\\"]\\n        )\\n        return markdown, poster_url\\n\\n\\nclass AsyncRecommender:\\n    def __init__(self, recommender: \\\"RecommenderModuleBase\\\"):\\n        self.recommender = recommender\\n        self.user_explicit = pd.Series(\\n            data=np.full(self.recommender.n_items, fill_value=np.nan)\\n        )\\n        self.movie_id = self.recommend()\\n        self.task = asyncio.create_task(self.async_recommend())\\n\\n    def recommend(self):\\n        user_explicit = scipy.sparse.coo_matrix(\\n            self.user_explicit.fillna(0).values.reshape(1, -1)\\n        )\\n        user_recommendations = self.recommender.online_recommend(\\n            user_explicit, n_recommendations=self.recommender.n_items\\n        )[0].numpy()\\n        new_items_mask = self.user_explicit.isna().values\\n        new_items_positions = new_items_mask[user_recommendations].nonzero()[0]\\n        movie_id = user_recommendations[new_items_positions[0]]\\n        return movie_id\\n\\n    async def async_recommend(self):\\n        self.user_explicit.loc[self.movie_id] = 0\\n        return self.recommend()\\n\\n    async def next_recommendation(self, rating_of_previous_movie: int):\\n        wandb.log(\\n            dict(\\n                movie_id=self.movie_id,\\n                seen=(r := rating_of_previous_movie) > 0,\\n                rating=r if r > 0 else None,\\n            )\\n        )\\n        self.user_explicit.loc[self.movie_id] = rating_of_previous_movie\\n        self.movie_id = await self.task\\n        self.task = asyncio.create_task(self.async_recommend())\\n        return self.movie_id\\n\\n    def __del__(self):\\n        wandb.log(dict(feedback=wandb.Table(dataframe=self.user_explicit.dropna().to_frame())))\\n\\n\\ncheckpoint_path = \\\"/Users/dimakoshman/Downloads/epoch=0-step=2.ckpt\\\"\\nmovie_markdown_generator = MovieMarkdownGenerator(\\n    links_dataframe=MovieLens25m(\\\"/Users/dimakoshman/Downloads/ml-25m\\\")[\\\"links\\\"],\\n    movies_dataframe=MovieLens25m(\\\"/Users/dimakoshman/Downloads/ml-25m\\\")[\\\"movies\\\"],\\n)\\n\\ncheckpoint = torch.load(checkpoint_path)\\nstate_dict = {k.removeprefix(\\\"model.\\\"): v for k, v in checkpoint[\\\"state_dict\\\"].items()}\\n\\n# model = SLIM()\\nmodel = SVDRecommender()\\nmodel.load_state_dict(state_dict)\\nmodel.eval()\";\n",
       "                var nbb_formatted_code = \"from machine_learning.recommending.models import SLIM, SVDRecommender\\nfrom machine_learning.recommending.movielens.data import MovieLens25m\\n\\n\\nclass Feedback(Enum):\\n    NONE = \\\"Haven't seen it\\\"\\n    ONE, TWO, THREE, FOUR, FIVE = map(str, range(1, 6))\\n\\n    @property\\n    def int(self):\\n        return {v: i for i, v in enumerate(Feedback)}[self]\\n\\n\\nclass MovieMarkdownGenerator:\\n    def __init__(\\n        self,\\n        links_dataframe,\\n        movies_dataframe,\\n        tmdb_api_token=\\\"0369096d5891e7959f8e5ae35bae71bc\\\",\\n    ):\\n        self.links = links_dataframe\\n        self.movies_dataframe = movies_dataframe\\n        for dataframe in [self.links, self.movies_dataframe]:\\n            dataframe.set_index(\\\"movieId\\\", inplace=True)\\n            match dataframe.index.min():\\n                case 0:\\n                    pass\\n                case 1:\\n                    dataframe.index -= 1\\n                case _:\\n                    raise ValueError(\\\"Index of dataframe should start with 0 or 1.\\\")\\n        self.tmdb_api_token = tmdb_api_token\\n\\n    def imdb_id(self, movie_id) -> str:\\n        imdb_id = self.links[\\\"imdbId\\\"].loc[movie_id]\\n        return f\\\"{imdb_id:07d}\\\"\\n\\n    def imdb_url(self, movie_id):\\n        return f\\\"https://www.imdb.com/title/tt{self.imdb_id(movie_id)}\\\"\\n\\n    def tmdb_request_url(self, imdb_id):\\n        return (\\n            f\\\"https://api.themoviedb.org/3/find/tt{imdb_id}\\\"\\n            f\\\"?api_key={self.tmdb_api_token}&external_source=imdb_id\\\"\\n        )\\n\\n    @staticmethod\\n    def poster_url_from_tmdb_poster_path(poster_path, size=\\\"w200\\\"):\\n        return f\\\"https://image.tmdb.org/t/p/{size}{poster_path}\\\"\\n\\n    def __call__(self, movie_id):\\n        imdb_id = self.imdb_id(movie_id)\\n        tmdb_request_url = self.tmdb_request_url(imdb_id)\\n        request = requests.get(tmdb_request_url)\\n        if not request.ok:\\n            wandb.log(\\n                dict(\\n                    failed_request=dict(\\n                        reason=request.reason,\\n                        status_code=request.status_code,\\n                        text=request.text,\\n                    )\\n                )\\n            )\\n            markdown = \\\"\\\"\\n            if self.movies_dataframe is not None:\\n                markdown = self.movies_dataframe.loc[movie_id][\\\"movie title\\\"]\\n            return markdown, \\\"\\\"\\n\\n        movie_results = request.json()[\\\"movie_results\\\"][0]\\n        poster_url = self.poster_url_from_tmdb_poster_path(\\n            poster_path=movie_results[\\\"poster_path\\\"]\\n        )\\n        title = movie_results[\\\"title\\\"]\\n        imdb_url = self.imdb_url(movie_id)\\n        markdown = (\\n            f\\\"\\\"\\\"[{title}]({imdb_url})\\\"\\\"\\\" + self.movies_dataframe.loc[movie_id][\\\"title\\\"]\\n        )\\n        return markdown, poster_url\\n\\n\\nclass AsyncRecommender:\\n    def __init__(self, recommender: \\\"RecommenderModuleBase\\\"):\\n        self.recommender = recommender\\n        self.user_explicit = pd.Series(\\n            data=np.full(self.recommender.n_items, fill_value=np.nan)\\n        )\\n        self.movie_id = self.recommend()\\n        self.task = asyncio.create_task(self.async_recommend())\\n\\n    def recommend(self):\\n        user_explicit = scipy.sparse.coo_matrix(\\n            self.user_explicit.fillna(0).values.reshape(1, -1)\\n        )\\n        user_recommendations = self.recommender.online_recommend(\\n            user_explicit, n_recommendations=self.recommender.n_items\\n        )[0].numpy()\\n        new_items_mask = self.user_explicit.isna().values\\n        new_items_positions = new_items_mask[user_recommendations].nonzero()[0]\\n        movie_id = user_recommendations[new_items_positions[0]]\\n        return movie_id\\n\\n    async def async_recommend(self):\\n        self.user_explicit.loc[self.movie_id] = 0\\n        return self.recommend()\\n\\n    async def next_recommendation(self, rating_of_previous_movie: int):\\n        wandb.log(\\n            dict(\\n                movie_id=self.movie_id,\\n                seen=(r := rating_of_previous_movie) > 0,\\n                rating=r if r > 0 else None,\\n            )\\n        )\\n        self.user_explicit.loc[self.movie_id] = rating_of_previous_movie\\n        self.movie_id = await self.task\\n        self.task = asyncio.create_task(self.async_recommend())\\n        return self.movie_id\\n\\n    def __del__(self):\\n        wandb.log(\\n            dict(feedback=wandb.Table(dataframe=self.user_explicit.dropna().to_frame()))\\n        )\\n\\n\\ncheckpoint_path = \\\"/Users/dimakoshman/Downloads/epoch=0-step=2.ckpt\\\"\\nmovie_markdown_generator = MovieMarkdownGenerator(\\n    links_dataframe=MovieLens25m(\\\"/Users/dimakoshman/Downloads/ml-25m\\\")[\\\"links\\\"],\\n    movies_dataframe=MovieLens25m(\\\"/Users/dimakoshman/Downloads/ml-25m\\\")[\\\"movies\\\"],\\n)\\n\\ncheckpoint = torch.load(checkpoint_path)\\nstate_dict = {k.removeprefix(\\\"model.\\\"): v for k, v in checkpoint[\\\"state_dict\\\"].items()}\\n\\n# model = SLIM()\\nmodel = SVDRecommender()\\nmodel.load_state_dict(state_dict)\\nmodel.eval()\";\n",
       "                var nbb_cells = Jupyter.notebook.get_cells();\n",
       "                for (var i = 0; i < nbb_cells.length; ++i) {\n",
       "                    if (nbb_cells[i].input_prompt_number == nbb_cell_id) {\n",
       "                        if (nbb_cells[i].get_text() == nbb_unformatted_code) {\n",
       "                             nbb_cells[i].set_text(nbb_formatted_code);\n",
       "                        }\n",
       "                        break;\n",
       "                    }\n",
       "                }\n",
       "            }, 500);\n",
       "            "
      ],
      "text/plain": [
       "<IPython.core.display.Javascript object>"
      ]
     },
     "metadata": {},
     "output_type": "display_data"
    }
   ],
   "source": [
    "from machine_learning.recommending.models import SLIM, SVDRecommender\n",
    "from machine_learning.recommending.movielens.data import MovieLens25m\n",
    "\n",
    "\n",
    "class Feedback(Enum):\n",
    "    NONE = \"Haven't seen it\"\n",
    "    ONE, TWO, THREE, FOUR, FIVE = map(str, range(1, 6))\n",
    "\n",
    "    @property\n",
    "    def int(self):\n",
    "        return {v: i for i, v in enumerate(Feedback)}[self]\n",
    "\n",
    "\n",
    "class MovieMarkdownGenerator:\n",
    "    def __init__(\n",
    "        self,\n",
    "        links_dataframe,\n",
    "        movies_dataframe,\n",
    "        tmdb_api_token=\"0369096d5891e7959f8e5ae35bae71bc\",\n",
    "    ):\n",
    "        self.links = links_dataframe\n",
    "        self.movies_dataframe = movies_dataframe\n",
    "        for dataframe in [self.links, self.movies_dataframe]:\n",
    "            dataframe.set_index(\"movieId\", inplace=True)\n",
    "            match dataframe.index.min():\n",
    "                case 0:\n",
    "                    pass\n",
    "                case 1:\n",
    "                    dataframe.index -= 1\n",
    "                case _:\n",
    "                    raise ValueError(\"Index of dataframe should start with 0 or 1.\")\n",
    "        self.tmdb_api_token = tmdb_api_token\n",
    "\n",
    "    def imdb_id(self, movie_id) -> str:\n",
    "        imdb_id = self.links[\"imdbId\"].loc[movie_id]\n",
    "        return f\"{imdb_id:07d}\"\n",
    "\n",
    "    def imdb_url(self, movie_id):\n",
    "        return f\"https://www.imdb.com/title/tt{self.imdb_id(movie_id)}\"\n",
    "\n",
    "    def tmdb_request_url(self, imdb_id):\n",
    "        return (\n",
    "            f\"https://api.themoviedb.org/3/find/tt{imdb_id}\"\n",
    "            f\"?api_key={self.tmdb_api_token}&external_source=imdb_id\"\n",
    "        )\n",
    "\n",
    "    @staticmethod\n",
    "    def poster_url_from_tmdb_poster_path(poster_path, size=\"w200\"):\n",
    "        return f\"https://image.tmdb.org/t/p/{size}{poster_path}\"\n",
    "\n",
    "    def __call__(self, movie_id):\n",
    "        imdb_id = self.imdb_id(movie_id)\n",
    "        tmdb_request_url = self.tmdb_request_url(imdb_id)\n",
    "        request = requests.get(tmdb_request_url)\n",
    "        if not request.ok:\n",
    "            wandb.log(\n",
    "                dict(\n",
    "                    failed_request=dict(\n",
    "                        reason=request.reason,\n",
    "                        status_code=request.status_code,\n",
    "                        text=request.text,\n",
    "                    )\n",
    "                )\n",
    "            )\n",
    "            markdown = \"\"\n",
    "            if self.movies_dataframe is not None:\n",
    "                markdown = self.movies_dataframe.loc[movie_id][\"movie title\"]\n",
    "            return markdown, \"\"\n",
    "\n",
    "        movie_results = request.json()[\"movie_results\"][0]\n",
    "        poster_url = self.poster_url_from_tmdb_poster_path(\n",
    "            poster_path=movie_results[\"poster_path\"]\n",
    "        )\n",
    "        title = movie_results[\"title\"]\n",
    "        imdb_url = self.imdb_url(movie_id)\n",
    "        markdown = (\n",
    "            f\"\"\"[{title}]({imdb_url})\"\"\" + self.movies_dataframe.loc[movie_id][\"title\"]\n",
    "        )\n",
    "        return markdown, poster_url\n",
    "\n",
    "\n",
    "class AsyncRecommender:\n",
    "    def __init__(self, recommender: \"RecommenderModuleBase\"):\n",
    "        self.recommender = recommender\n",
    "        self.user_explicit = pd.Series(\n",
    "            data=np.full(self.recommender.n_items, fill_value=np.nan)\n",
    "        )\n",
    "        self.movie_id = self.recommend()\n",
    "        self.task = asyncio.create_task(self.async_recommend())\n",
    "\n",
    "    def recommend(self):\n",
    "        user_explicit = scipy.sparse.coo_matrix(\n",
    "            self.user_explicit.fillna(0).values.reshape(1, -1)\n",
    "        )\n",
    "        user_recommendations = self.recommender.online_recommend(\n",
    "            user_explicit, n_recommendations=self.recommender.n_items\n",
    "        )[0].numpy()\n",
    "        new_items_mask = self.user_explicit.isna().values\n",
    "        new_items_positions = new_items_mask[user_recommendations].nonzero()[0]\n",
    "        movie_id = user_recommendations[new_items_positions[0]]\n",
    "        return movie_id\n",
    "\n",
    "    async def async_recommend(self):\n",
    "        self.user_explicit.loc[self.movie_id] = 0\n",
    "        return self.recommend()\n",
    "\n",
    "    async def next_recommendation(self, rating_of_previous_movie: int):\n",
    "        wandb.log(\n",
    "            dict(\n",
    "                movie_id=self.movie_id,\n",
    "                seen=(r := rating_of_previous_movie) > 0,\n",
    "                rating=r if r > 0 else None,\n",
    "            )\n",
    "        )\n",
    "        self.user_explicit.loc[self.movie_id] = rating_of_previous_movie\n",
    "        self.movie_id = await self.task\n",
    "        self.task = asyncio.create_task(self.async_recommend())\n",
    "        return self.movie_id\n",
    "\n",
    "    def __del__(self):\n",
    "        wandb.log(\n",
    "            dict(feedback=wandb.Table(dataframe=self.user_explicit.dropna().to_frame()))\n",
    "        )\n",
    "\n",
    "\n",
    "checkpoint_path = \"/Users/dimakoshman/Downloads/epoch=0-step=2.ckpt\"\n",
    "movie_markdown_generator = MovieMarkdownGenerator(\n",
    "    links_dataframe=MovieLens25m(\"/Users/dimakoshman/Downloads/ml-25m\")[\"links\"],\n",
    "    movies_dataframe=MovieLens25m(\"/Users/dimakoshman/Downloads/ml-25m\")[\"movies\"],\n",
    ")\n",
    "\n",
    "checkpoint = torch.load(checkpoint_path)\n",
    "state_dict = {k.removeprefix(\"model.\"): v for k, v in checkpoint[\"state_dict\"].items()}\n",
    "\n",
    "# model = SLIM()\n",
    "model = SVDRecommender()\n",
    "model.load_state_dict(state_dict)\n",
    "model.eval()"
   ]
  },
  {
   "cell_type": "code",
   "execution_count": 252,
   "id": "441b58c8",
   "metadata": {
    "ExecuteTime": {
     "end_time": "2022-10-30T16:23:29.316269Z",
     "start_time": "2022-10-30T16:23:10.450279Z"
    }
   },
   "outputs": [
    {
     "name": "stderr",
     "output_type": "stream",
     "text": [
      "Exception ignored in: <function AsyncRecommender.__del__ at 0x3b2559510>\n",
      "Traceback (most recent call last):\n",
      "  File \"/var/folders/5w/gytwm8sd6vldh9ym3dvj_x_m0000gn/T/ipykernel_94050/3082034799.py\", line 121, in __del__\n",
      "  File \"/Users/dimakoshman/Library/Caches/pypoetry/virtualenvs/ysda-adIGuw6j-py3.10/lib/python3.10/site-packages/wandb/sdk/lib/preinit.py\", line 36, in preinit_wrapper\n",
      "    raise wandb.Error(f\"You must call wandb.init() before {name}()\")\n",
      "wandb.errors.Error: You must call wandb.init() before wandb.log()\n"
     ]
    },
    {
     "data": {
      "text/html": [
       "Tracking run with wandb version 0.13.4"
      ],
      "text/plain": [
       "<IPython.core.display.HTML object>"
      ]
     },
     "metadata": {},
     "output_type": "display_data"
    },
    {
     "data": {
      "text/html": [
       "Run data is saved locally in <code>/Users/dimakoshman/YSDA/machine_learning/recommending/notebooks/wandb/run-20221030_202318-2e010vrn</code>"
      ],
      "text/plain": [
       "<IPython.core.display.HTML object>"
      ]
     },
     "metadata": {},
     "output_type": "display_data"
    },
    {
     "data": {
      "text/html": [
       "Syncing run <strong><a href=\"https://wandb.ai/dkoshman/Recommending/runs/2e010vrn\" target=\"_blank\">costumed-candle-444</a></strong> to <a href=\"https://wandb.ai/dkoshman/Recommending\" target=\"_blank\">Weights & Biases</a> (<a href=\"https://wandb.me/run\" target=\"_blank\">docs</a>)<br/>"
      ],
      "text/plain": [
       "<IPython.core.display.HTML object>"
      ]
     },
     "metadata": {},
     "output_type": "display_data"
    },
    {
     "name": "stdout",
     "output_type": "stream",
     "text": [
      "Running on local URL:  http://127.0.0.1:7873\n",
      "\n",
      "To create a public link, set `share=True` in `launch()`.\n"
     ]
    },
    {
     "data": {
      "text/html": [
       "<div><iframe src=\"http://127.0.0.1:7873/\" width=\"900\" height=\"500\" allow=\"autoplay; camera; microphone; clipboard-read; clipboard-write;\" frameborder=\"0\" allowfullscreen></iframe></div>"
      ],
      "text/plain": [
       "<IPython.core.display.HTML object>"
      ]
     },
     "metadata": {},
     "output_type": "display_data"
    },
    {
     "data": {
      "text/html": [
       "Waiting for W&B process to finish... <strong style=\"color:green\">(success).</strong>"
      ],
      "text/plain": [
       "<IPython.core.display.HTML object>"
      ]
     },
     "metadata": {},
     "output_type": "display_data"
    },
    {
     "data": {
      "application/vnd.jupyter.widget-view+json": {
       "model_id": "b880987f71da4c72ae28a508d7865c0c",
       "version_major": 2,
       "version_minor": 0
      },
      "text/plain": [
       "VBox(children=(Label(value='0.001 MB of 0.001 MB uploaded (0.000 MB deduped)\\r'), FloatProgress(value=1.0, max…"
      ]
     },
     "metadata": {},
     "output_type": "display_data"
    },
    {
     "data": {
      "text/html": [
       "Synced <strong style=\"color:#cdcd00\">costumed-candle-444</strong>: <a href=\"https://wandb.ai/dkoshman/Recommending/runs/2e010vrn\" target=\"_blank\">https://wandb.ai/dkoshman/Recommending/runs/2e010vrn</a><br/>Synced 5 W&B file(s), 0 media file(s), 0 artifact file(s) and 0 other file(s)"
      ],
      "text/plain": [
       "<IPython.core.display.HTML object>"
      ]
     },
     "metadata": {},
     "output_type": "display_data"
    },
    {
     "data": {
      "text/html": [
       "Find logs at: <code>./wandb/run-20221030_202318-2e010vrn/logs</code>"
      ],
      "text/plain": [
       "<IPython.core.display.HTML object>"
      ]
     },
     "metadata": {},
     "output_type": "display_data"
    },
    {
     "data": {
      "application/javascript": [
       "\n",
       "            setTimeout(function() {\n",
       "                var nbb_cell_id = 252;\n",
       "                var nbb_unformatted_code = \"with gr.Blocks() as app:\\n    async_recommender = AsyncRecommender(recommender=model)\\n    gr.Markdown(\\\"Movie recommender\\\")\\n    with gr.Row():\\n        first_movie_markdown, first_image_url = movie_markdown_generator(\\n            async_recommender.movie_id\\n        )\\n        image = gr.Image(first_image_url, interactive=False)\\n        image.style(width=200)\\n        with gr.Column(scale=4):\\n            markdown = gr.Markdown(first_movie_markdown)\\n\\n            def make_button(feedback):\\n                async def wrapper():\\n                    movie_id = await async_recommender.next_recommendation(feedback.int)\\n                    movie_markdown, image_url = movie_markdown_generator(movie_id)\\n                    return movie_markdown, image_url\\n\\n                button = gr.Button(feedback.value)\\n                button.click(\\n                    fn=wrapper,\\n                    inputs=[],\\n                    outputs=[markdown, image],\\n                )\\n                return button\\n\\n            none_button = make_button(Feedback.NONE)\\n            with gr.Row():\\n                buttons = [make_button(feedback) for feedback in list(Feedback)[1:]]\\n\\n\\n# wandb.finish()\\nwith wandb.init(job_type=\\\"app\\\", project=\\\"Recommending\\\", entity=\\\"dkoshman\\\"):\\n    app.launch()\";\n",
       "                var nbb_formatted_code = \"with gr.Blocks() as app:\\n    async_recommender = AsyncRecommender(recommender=model)\\n    gr.Markdown(\\\"Movie recommender\\\")\\n    with gr.Row():\\n        first_movie_markdown, first_image_url = movie_markdown_generator(\\n            async_recommender.movie_id\\n        )\\n        image = gr.Image(first_image_url, interactive=False)\\n        image.style(width=200)\\n        with gr.Column(scale=4):\\n            markdown = gr.Markdown(first_movie_markdown)\\n\\n            def make_button(feedback):\\n                async def wrapper():\\n                    movie_id = await async_recommender.next_recommendation(feedback.int)\\n                    movie_markdown, image_url = movie_markdown_generator(movie_id)\\n                    return movie_markdown, image_url\\n\\n                button = gr.Button(feedback.value)\\n                button.click(\\n                    fn=wrapper,\\n                    inputs=[],\\n                    outputs=[markdown, image],\\n                )\\n                return button\\n\\n            none_button = make_button(Feedback.NONE)\\n            with gr.Row():\\n                buttons = [make_button(feedback) for feedback in list(Feedback)[1:]]\\n\\n\\n# wandb.finish()\\nwith wandb.init(job_type=\\\"app\\\", project=\\\"Recommending\\\", entity=\\\"dkoshman\\\"):\\n    app.launch()\";\n",
       "                var nbb_cells = Jupyter.notebook.get_cells();\n",
       "                for (var i = 0; i < nbb_cells.length; ++i) {\n",
       "                    if (nbb_cells[i].input_prompt_number == nbb_cell_id) {\n",
       "                        if (nbb_cells[i].get_text() == nbb_unformatted_code) {\n",
       "                             nbb_cells[i].set_text(nbb_formatted_code);\n",
       "                        }\n",
       "                        break;\n",
       "                    }\n",
       "                }\n",
       "            }, 500);\n",
       "            "
      ],
      "text/plain": [
       "<IPython.core.display.Javascript object>"
      ]
     },
     "metadata": {},
     "output_type": "display_data"
    },
    {
     "name": "stderr",
     "output_type": "stream",
     "text": [
      "Traceback (most recent call last):\n",
      "  File \"/Users/dimakoshman/Library/Caches/pypoetry/virtualenvs/ysda-adIGuw6j-py3.10/lib/python3.10/site-packages/gradio/routes.py\", line 283, in run_predict\n",
      "    output = await app.blocks.process_api(\n",
      "  File \"/Users/dimakoshman/Library/Caches/pypoetry/virtualenvs/ysda-adIGuw6j-py3.10/lib/python3.10/site-packages/gradio/blocks.py\", line 892, in process_api\n",
      "    result = await self.call_function(fn_index, inputs, iterator)\n",
      "  File \"/Users/dimakoshman/Library/Caches/pypoetry/virtualenvs/ysda-adIGuw6j-py3.10/lib/python3.10/site-packages/gradio/blocks.py\", line 731, in call_function\n",
      "    prediction = await block_fn.fn(*processed_input)\n",
      "  File \"/var/folders/5w/gytwm8sd6vldh9ym3dvj_x_m0000gn/T/ipykernel_94050/242821701.py\", line 15, in wrapper\n",
      "    movie_id = await async_recommender.next_recommendation(feedback.int)\n",
      "  File \"/var/folders/5w/gytwm8sd6vldh9ym3dvj_x_m0000gn/T/ipykernel_94050/3082034799.py\", line 108, in next_recommendation\n",
      "    wandb.log(\n",
      "  File \"/Users/dimakoshman/Library/Caches/pypoetry/virtualenvs/ysda-adIGuw6j-py3.10/lib/python3.10/site-packages/wandb/sdk/lib/preinit.py\", line 36, in preinit_wrapper\n",
      "    raise wandb.Error(f\"You must call wandb.init() before {name}()\")\n",
      "wandb.errors.Error: You must call wandb.init() before wandb.log()\n"
     ]
    }
   ],
   "source": [
    "with gr.Blocks() as app:\n",
    "    async_recommender = AsyncRecommender(recommender=model)\n",
    "    gr.Markdown(\"Movie recommender\")\n",
    "    with gr.Row():\n",
    "        first_movie_markdown, first_image_url = movie_markdown_generator(\n",
    "            async_recommender.movie_id\n",
    "        )\n",
    "        image = gr.Image(first_image_url, interactive=False)\n",
    "        image.style(width=200)\n",
    "        with gr.Column(scale=4):\n",
    "            markdown = gr.Markdown(first_movie_markdown)\n",
    "\n",
    "            def make_button(feedback):\n",
    "                async def wrapper():\n",
    "                    movie_id = await async_recommender.next_recommendation(feedback.int)\n",
    "                    movie_markdown, image_url = movie_markdown_generator(movie_id)\n",
    "                    return movie_markdown, image_url\n",
    "\n",
    "                button = gr.Button(feedback.value)\n",
    "                button.click(\n",
    "                    fn=wrapper,\n",
    "                    inputs=[],\n",
    "                    outputs=[markdown, image],\n",
    "                )\n",
    "                return button\n",
    "\n",
    "            none_button = make_button(Feedback.NONE)\n",
    "            with gr.Row():\n",
    "                buttons = [make_button(feedback) for feedback in list(Feedback)[1:]]\n",
    "\n",
    "\n",
    "wandb.finish()\n",
    "wandb.init(job_type=\"app\", project=\"Recommending\", entity=\"dkoshman\")\n",
    "app.launch()"
   ]
  },
  {
   "cell_type": "code",
   "execution_count": 251,
   "id": "436bf847",
   "metadata": {
    "ExecuteTime": {
     "end_time": "2022-10-30T16:23:10.446971Z",
     "start_time": "2022-10-30T16:23:02.983235Z"
    }
   },
   "outputs": [
    {
     "name": "stdout",
     "output_type": "stream",
     "text": [
      "Closing server running on port: 7873\n"
     ]
    },
    {
     "data": {
      "text/html": [
       "Waiting for W&B process to finish... <strong style=\"color:green\">(success).</strong>"
      ],
      "text/plain": [
       "<IPython.core.display.HTML object>"
      ]
     },
     "metadata": {},
     "output_type": "display_data"
    },
    {
     "data": {
      "application/vnd.jupyter.widget-view+json": {
       "model_id": "1e0464263a954eef8648d751e7a6f54c",
       "version_major": 2,
       "version_minor": 0
      },
      "text/plain": [
       "VBox(children=(Label(value='0.001 MB of 0.001 MB uploaded (0.000 MB deduped)\\r'), FloatProgress(value=1.0, max…"
      ]
     },
     "metadata": {},
     "output_type": "display_data"
    },
    {
     "data": {
      "text/html": [
       "<style>\n",
       "    table.wandb td:nth-child(1) { padding: 0 10px; text-align: left ; width: auto;} td:nth-child(2) {text-align: left ; width: 100%}\n",
       "    .wandb-row { display: flex; flex-direction: row; flex-wrap: wrap; justify-content: flex-start; width: 100% }\n",
       "    .wandb-col { display: flex; flex-direction: column; flex-basis: 100%; flex: 1; padding: 10px; }\n",
       "    </style>\n",
       "<div class=\"wandb-row\"><div class=\"wandb-col\"><h3>Run history:</h3><br/><table class=\"wandb\"><tr><td>movie_id</td><td>▁▁▂▂▆▄█▃▃▂▃</td></tr><tr><td>rating</td><td>▅██▅▁▁▅██▅█</td></tr><tr><td>seen</td><td>▁▁▁▁▁▁▁▁▁▁▁</td></tr></table><br/></div><div class=\"wandb-col\"><h3>Run summary:</h3><br/><table class=\"wandb\"><tr><td>movie_id</td><td>317</td></tr><tr><td>rating</td><td>5</td></tr><tr><td>seen</td><td>True</td></tr></table><br/></div></div>"
      ],
      "text/plain": [
       "<IPython.core.display.HTML object>"
      ]
     },
     "metadata": {},
     "output_type": "display_data"
    },
    {
     "data": {
      "text/html": [
       "Synced <strong style=\"color:#cdcd00\">moonlit-broomstick-443</strong>: <a href=\"https://wandb.ai/dkoshman/Recommending/runs/2n2dmvug\" target=\"_blank\">https://wandb.ai/dkoshman/Recommending/runs/2n2dmvug</a><br/>Synced 5 W&B file(s), 0 media file(s), 0 artifact file(s) and 0 other file(s)"
      ],
      "text/plain": [
       "<IPython.core.display.HTML object>"
      ]
     },
     "metadata": {},
     "output_type": "display_data"
    },
    {
     "data": {
      "text/html": [
       "Find logs at: <code>./wandb/run-20221030_201101-2n2dmvug/logs</code>"
      ],
      "text/plain": [
       "<IPython.core.display.HTML object>"
      ]
     },
     "metadata": {},
     "output_type": "display_data"
    },
    {
     "data": {
      "application/javascript": [
       "\n",
       "            setTimeout(function() {\n",
       "                var nbb_cell_id = 251;\n",
       "                var nbb_unformatted_code = \"app.close()\\nwandb.finish()\";\n",
       "                var nbb_formatted_code = \"app.close()\\nwandb.finish()\";\n",
       "                var nbb_cells = Jupyter.notebook.get_cells();\n",
       "                for (var i = 0; i < nbb_cells.length; ++i) {\n",
       "                    if (nbb_cells[i].input_prompt_number == nbb_cell_id) {\n",
       "                        if (nbb_cells[i].get_text() == nbb_unformatted_code) {\n",
       "                             nbb_cells[i].set_text(nbb_formatted_code);\n",
       "                        }\n",
       "                        break;\n",
       "                    }\n",
       "                }\n",
       "            }, 500);\n",
       "            "
      ],
      "text/plain": [
       "<IPython.core.display.Javascript object>"
      ]
     },
     "metadata": {},
     "output_type": "display_data"
    }
   ],
   "source": [
    "app.close()\n",
    "wandb.finish()"
   ]
  }
 ],
 "metadata": {
  "kernelspec": {
   "display_name": "ysda-adIGuw6j-py3.10",
   "language": "python",
   "name": "ysda-adiguw6j-py3.10"
  },
  "language_info": {
   "codemirror_mode": {
    "name": "ipython",
    "version": 3
   },
   "file_extension": ".py",
   "mimetype": "text/x-python",
   "name": "python",
   "nbconvert_exporter": "python",
   "pygments_lexer": "ipython3",
   "version": "3.10.8"
  }
 },
 "nbformat": 4,
 "nbformat_minor": 5
}
