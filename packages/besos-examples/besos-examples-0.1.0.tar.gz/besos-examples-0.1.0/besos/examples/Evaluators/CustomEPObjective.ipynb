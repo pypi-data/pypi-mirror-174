{
 "cells": [
  {
   "cell_type": "markdown",
   "metadata": {
    "papermill": {
     "duration": 0.009832,
     "end_time": "2019-10-28T22:50:45.858299",
     "exception": false,
     "start_time": "2019-10-28T22:50:45.848467",
     "status": "completed"
    },
    "tags": []
   },
   "source": [
    "# Custom EnergyPlus Evaluator functions\n",
    "This notebook shows how to write a custom function that gets applied to the EnergyPlus outputs."
   ]
  },
  {
   "cell_type": "code",
   "execution_count": 1,
   "metadata": {
    "papermill": {
     "duration": 1.073601,
     "end_time": "2019-10-28T22:50:46.943564",
     "exception": false,
     "start_time": "2019-10-28T22:50:45.869963",
     "status": "completed"
    },
    "tags": []
   },
   "outputs": [],
   "source": [
    "import pandas as pd\n",
    "import numpy as np\n",
    "\n",
    "from besos.evaluator import EvaluatorEP\n",
    "from besos.problem import EPProblem\n",
    "from besos import eppy_funcs as ef\n",
    "from besos import eplus_funcs as epf\n",
    "\n",
    "from besos.parameters import RangeParameter, CategoryParameter, Parameter, FieldSelector\n",
    "from besos.objectives import MeterReader, VariableReader, time_series_values, EPReader"
   ]
  },
  {
   "cell_type": "markdown",
   "metadata": {
    "papermill": {
     "duration": 0.003859,
     "end_time": "2019-10-28T22:50:46.952324",
     "exception": false,
     "start_time": "2019-10-28T22:50:46.948465",
     "status": "completed"
    },
    "tags": []
   },
   "source": [
    "### Set up an EnergyPlus Evaluator\n",
    "Here is a standard EnergyPlus Evaluator for editing the lighting power density for the default building and getting the electricity demand time series.  \n",
    "By default, we get the sum of the variable we specify."
   ]
  },
  {
   "cell_type": "code",
   "execution_count": 2,
   "metadata": {
    "papermill": {
     "duration": 1.468574,
     "end_time": "2019-10-28T22:50:48.426374",
     "exception": false,
     "start_time": "2019-10-28T22:50:46.957800",
     "status": "completed"
    },
    "tags": []
   },
   "outputs": [
    {
     "name": "stderr",
     "output_type": "stream",
     "text": [
      "/home/user/.local/lib/python3.7/site-packages/besos/parameters.py:425: FutureWarning: Use value_descriptors instead of value_descriptor.\n",
      "  FutureWarning(\"Use value_descriptors instead of value_descriptor.\")\n"
     ]
    },
    {
     "data": {
      "text/plain": [
       "(1672453961.7713666,)"
      ]
     },
     "execution_count": 2,
     "metadata": {},
     "output_type": "execute_result"
    }
   ],
   "source": [
    "building = ef.get_building()\n",
    "EPparameters = [Parameter(FieldSelector('Lights', '*', 'Watts per Zone Floor Area'),\n",
    "                value_descriptor=RangeParameter(8, 12),\n",
    "                name='Lights Watts/Area')]\n",
    "EPobjectives = MeterReader('Electricity:Facility')\n",
    "problem = EPProblem(EPparameters,EPobjectives)\n",
    "evaluator = EvaluatorEP(problem,building)\n",
    "result = evaluator([8])\n",
    "result"
   ]
  },
  {
   "cell_type": "markdown",
   "metadata": {
    "papermill": {
     "duration": 0.004593,
     "end_time": "2019-10-28T22:50:48.436059",
     "exception": false,
     "start_time": "2019-10-28T22:50:48.431466",
     "status": "completed"
    },
    "tags": []
   },
   "source": [
    "### Time series data\n",
    "\n",
    "Sometimes we want to get back an entire time series, for example for linking to the Energy Hub model (see [here](../EnergyHub/EPtoEHEvaluators.ipynb)).  \n",
    "For that we can specify `func=time_series_values`, which comes as part of besos.objectives."
   ]
  },
  {
   "cell_type": "code",
   "execution_count": 3,
   "metadata": {
    "papermill": {
     "duration": 1.467034,
     "end_time": "2019-10-28T22:50:49.909550",
     "exception": false,
     "start_time": "2019-10-28T22:50:48.442516",
     "status": "completed"
    },
    "tags": []
   },
   "outputs": [
    {
     "name": "stderr",
     "output_type": "stream",
     "text": [
      "/home/user/.local/lib/python3.7/site-packages/besos/objectives.py:218: UserWarning: `time_series_values` is incomplete, and returns raw values, not time series values.\n",
      "  \"`time_series_values` is incomplete, and returns raw values, not time series values.\"\n"
     ]
    },
    {
     "data": {
      "text/plain": [
       "0     5.041708e+07\n",
       "1     5.142561e+07\n",
       "2     5.193728e+07\n",
       "3     5.111495e+07\n",
       "4     4.728000e+07\n",
       "5     4.371469e+07\n",
       "6     5.956208e+07\n",
       "7     5.870644e+07\n",
       "8     6.031615e+07\n",
       "9     6.127009e+07\n",
       "10    6.202866e+07\n",
       "11    6.294521e+07\n",
       "12    6.369996e+07\n",
       "13    6.431286e+07\n",
       "14    6.507253e+07\n",
       "15    6.522390e+07\n",
       "16    6.471212e+07\n",
       "17    6.365803e+07\n",
       "18    6.167204e+07\n",
       "19    6.648230e+07\n",
       "20    6.682431e+07\n",
       "21    6.601229e+07\n",
       "22    4.320751e+07\n",
       "23    4.910526e+07\n",
       "24    1.431370e+07\n",
       "25    1.310912e+07\n",
       "26    1.431370e+07\n",
       "27    1.310912e+07\n",
       "28    1.431370e+07\n",
       "29    1.310912e+07\n",
       "30    1.551827e+07\n",
       "31    8.609274e+06\n",
       "32    7.227474e+06\n",
       "33    7.227474e+06\n",
       "34    7.227474e+06\n",
       "35    7.227474e+06\n",
       "36    7.227474e+06\n",
       "37    7.227474e+06\n",
       "38    7.227474e+06\n",
       "39    7.227474e+06\n",
       "40    9.991074e+06\n",
       "41    1.551827e+07\n",
       "42    1.407278e+07\n",
       "43    1.310912e+07\n",
       "44    1.431370e+07\n",
       "45    1.310912e+07\n",
       "46    1.431370e+07\n",
       "47    1.310912e+07\n",
       "Name: Value, dtype: float64"
      ]
     },
     "execution_count": 3,
     "metadata": {},
     "output_type": "execute_result"
    }
   ],
   "source": [
    "EPobjectives = MeterReader('Electricity:Facility',func=time_series_values)\n",
    "problem = EPProblem(EPparameters,EPobjectives)\n",
    "evaluator = EvaluatorEP(problem,building)\n",
    "result = evaluator([8])\n",
    "result[0]"
   ]
  },
  {
   "cell_type": "markdown",
   "metadata": {
    "papermill": {
     "duration": 0.004563,
     "end_time": "2019-10-28T22:50:49.919433",
     "exception": false,
     "start_time": "2019-10-28T22:50:49.914870",
     "status": "completed"
    },
    "tags": []
   },
   "source": [
    "### Define a custom function\n",
    "Now we will define the function that we will apply to the EnergyPlus output data.  \n",
    "The function `highloadhoursfunc` counts the hours in which the load is above a threshold."
   ]
  },
  {
   "cell_type": "code",
   "execution_count": 4,
   "metadata": {
    "papermill": {
     "duration": 0.009645,
     "end_time": "2019-10-28T22:50:49.933549",
     "exception": false,
     "start_time": "2019-10-28T22:50:49.923904",
     "status": "completed"
    },
    "tags": []
   },
   "outputs": [],
   "source": [
    "def highloadhoursfunc(result):\n",
    "    threshold = 1e7\n",
    "    highloadhours = sum(result.data['Value'] >= threshold)\n",
    "    return highloadhours"
   ]
  },
  {
   "cell_type": "markdown",
   "metadata": {
    "papermill": {
     "duration": 0.004084,
     "end_time": "2019-10-28T22:50:49.942002",
     "exception": false,
     "start_time": "2019-10-28T22:50:49.937918",
     "status": "completed"
    },
    "tags": []
   },
   "source": [
    "By specifying `func=highloadhoursfunc`, the result is the number of hours in which `Electricity:Facility` is above the threshold."
   ]
  },
  {
   "cell_type": "code",
   "execution_count": 5,
   "metadata": {
    "papermill": {
     "duration": 1.441183,
     "end_time": "2019-10-28T22:50:51.387399",
     "exception": false,
     "start_time": "2019-10-28T22:50:49.946216",
     "status": "completed"
    },
    "tags": []
   },
   "outputs": [
    {
     "data": {
      "text/plain": [
       "(38,)"
      ]
     },
     "execution_count": 5,
     "metadata": {},
     "output_type": "execute_result"
    }
   ],
   "source": [
    "EPobjectives = MeterReader('Electricity:Facility',func=highloadhoursfunc)\n",
    "problem = EPProblem(EPparameters,EPobjectives)\n",
    "evaluator = EvaluatorEP(problem,building)\n",
    "result = evaluator([8])\n",
    "result"
   ]
  },
  {
   "cell_type": "markdown",
   "metadata": {},
   "source": [
    "## Find all availble output values\n",
    "below is a code you can use to find all availble output values."
   ]
  },
  {
   "cell_type": "code",
   "execution_count": 6,
   "metadata": {},
   "outputs": [
    {
     "name": "stdout",
     "output_type": "stream",
     "text": [
      "['Environment,Site Outdoor Air Drybulb Temperature', 'Hourly']\n",
      "['Environment,Site Outdoor Air Humidity Ratio', 'Hourly']\n",
      "['Environment,Site Outdoor Air Relative Humidity', 'Hourly']\n",
      "['ATTIC,Zone Mean Air Temperature', 'Hourly']\n",
      "['CORE_ZN,Zone Mean Air Temperature', 'Hourly']\n",
      "['PERIMETER_ZN_1,Zone Mean Air Temperature', 'Hourly']\n",
      "['PERIMETER_ZN_2,Zone Mean Air Temperature', 'Hourly']\n",
      "['PERIMETER_ZN_3,Zone Mean Air Temperature', 'Hourly']\n",
      "['PERIMETER_ZN_4,Zone Mean Air Temperature', 'Hourly']\n",
      "['PSZ-AC:1,Air System Simulation Cycle On Off Status', 'Hourly']\n",
      "['PSZ-AC:2,Air System Simulation Cycle On Off Status', 'Hourly']\n",
      "['PSZ-AC:3,Air System Simulation Cycle On Off Status', 'Hourly']\n",
      "['PSZ-AC:4,Air System Simulation Cycle On Off Status', 'Hourly']\n",
      "['PSZ-AC:5,Air System Simulation Cycle On Off Status', 'Hourly']\n",
      "['PSZ-AC:1,Air System Outdoor Air Economizer Status', 'Hourly']\n",
      "['PSZ-AC:1,Air System Outdoor Air Flow Fraction', 'Hourly']\n",
      "['PSZ-AC:2,Air System Outdoor Air Economizer Status', 'Hourly']\n",
      "['PSZ-AC:2,Air System Outdoor Air Flow Fraction', 'Hourly']\n",
      "['PSZ-AC:3,Air System Outdoor Air Economizer Status', 'Hourly']\n",
      "['PSZ-AC:3,Air System Outdoor Air Flow Fraction', 'Hourly']\n",
      "['PSZ-AC:4,Air System Outdoor Air Economizer Status', 'Hourly']\n",
      "['PSZ-AC:4,Air System Outdoor Air Flow Fraction', 'Hourly']\n",
      "['PSZ-AC:5,Air System Outdoor Air Economizer Status', 'Hourly']\n",
      "['PSZ-AC:5,Air System Outdoor Air Flow Fraction', 'Hourly']\n",
      "['Electricity:Facility', 'Hourly']\n",
      "['Fans:Electricity', 'Hourly']\n",
      "['Cooling:Electricity', 'Hourly']\n",
      "['Heating:Electricity', 'Hourly']\n",
      "['InteriorLights:Electricity', 'Hourly']\n",
      "['InteriorEquipment:Electricity', 'Hourly']\n",
      "['Gas:Facility', 'Hourly']\n",
      "['Heating:Gas', 'Hourly']\n",
      "['Water Heater:WaterSystems:Gas', 'Hourly']\n",
      "['Electricity:Facility', 'Monthly']\n",
      "['Gas:Facility', 'Monthly']\n",
      "['CO2:Facility', 'Monthly']\n",
      "['CO:Facility', 'Monthly']\n",
      "['CH4:Facility', 'Monthly']\n",
      "['NOx:Facility', 'Monthly']\n",
      "['N2O:Facility', 'Monthly']\n",
      "['SO2:Facility', 'Monthly']\n",
      "['PM:Facility', 'Monthly']\n",
      "['PM10:Facility', 'Monthly']\n",
      "['PM2.5:Facility', 'Monthly']\n",
      "['NH3:Facility', 'Monthly']\n",
      "['NMVOC:Facility', 'Monthly']\n",
      "['Hg:Facility', 'Monthly']\n",
      "['Pb:Facility', 'Monthly']\n",
      "['WaterEnvironmentalFactors:Facility', 'Monthly']\n",
      "['Nuclear High:Facility', 'Monthly']\n",
      "['Nuclear Low:Facility', 'Monthly']\n",
      "['Carbon Equivalent:Facility', 'Monthly']\n",
      "['PSZ-AC:1,Air System Total Heating Energy', 'Hourly']\n",
      "['PSZ-AC:1,Air System Total Cooling Energy', 'Hourly']\n",
      "['PSZ-AC:1,Air System Fan Electric Energy', 'Hourly']\n",
      "['PSZ-AC:2,Air System Total Heating Energy', 'Hourly']\n",
      "['PSZ-AC:2,Air System Total Cooling Energy', 'Hourly']\n",
      "['PSZ-AC:2,Air System Fan Electric Energy', 'Hourly']\n",
      "['PSZ-AC:3,Air System Total Heating Energy', 'Hourly']\n",
      "['PSZ-AC:3,Air System Total Cooling Energy', 'Hourly']\n",
      "['PSZ-AC:3,Air System Fan Electric Energy', 'Hourly']\n",
      "['PSZ-AC:4,Air System Total Heating Energy', 'Hourly']\n",
      "['PSZ-AC:4,Air System Total Cooling Energy', 'Hourly']\n",
      "['PSZ-AC:4,Air System Fan Electric Energy', 'Hourly']\n",
      "['PSZ-AC:5,Air System Total Heating Energy', 'Hourly']\n",
      "['PSZ-AC:5,Air System Total Cooling Energy', 'Hourly']\n",
      "['PSZ-AC:5,Air System Fan Electric Energy', 'Hourly']\n"
     ]
    }
   ],
   "source": [
    "epf.print_available_outputs(building)"
   ]
  },
  {
   "cell_type": "markdown",
   "metadata": {},
   "source": [
    "You can see there a bunch of different values that you can use that have the format 'key_value,variable_name'. These are variables and not meters. You can call on these outputs using the VariableReader. "
   ]
  },
  {
   "cell_type": "code",
   "execution_count": 7,
   "metadata": {},
   "outputs": [
    {
     "data": {
      "text/plain": [
       "(0     9.863781e+05\n",
       " 1     9.105029e+05\n",
       " 2     1.138129e+06\n",
       " 3     9.105029e+05\n",
       " 4     1.138129e+06\n",
       " 5     9.105029e+05\n",
       " 6     1.365754e+06\n",
       " 7     1.365754e+06\n",
       " 8     1.365754e+06\n",
       " 9     1.365754e+06\n",
       " 10    1.365754e+06\n",
       " 11    1.365754e+06\n",
       " 12    1.365754e+06\n",
       " 13    1.365754e+06\n",
       " 14    1.365754e+06\n",
       " 15    1.365754e+06\n",
       " 16    1.365754e+06\n",
       " 17    1.365754e+06\n",
       " 18    1.365754e+06\n",
       " 19    1.365754e+06\n",
       " 20    1.365754e+06\n",
       " 21    1.365754e+06\n",
       " 22    2.276257e+05\n",
       " 23    1.138129e+06\n",
       " 24    1.365248e+07\n",
       " 25    1.048507e+07\n",
       " 26    1.371594e+07\n",
       " 27    1.052901e+07\n",
       " 28    1.376205e+07\n",
       " 29    1.056124e+07\n",
       " 30    1.254686e+07\n",
       " 31    1.754508e+07\n",
       " 32    1.728680e+07\n",
       " 33    1.716945e+07\n",
       " 34    1.709543e+07\n",
       " 35    1.703944e+07\n",
       " 36    1.699434e+07\n",
       " 37    1.695709e+07\n",
       " 38    1.692752e+07\n",
       " 39    1.690228e+07\n",
       " 40    1.687979e+07\n",
       " 41    1.686032e+07\n",
       " 42    1.152584e+07\n",
       " 43    1.005320e+07\n",
       " 44    1.338084e+07\n",
       " 45    1.032418e+07\n",
       " 46    1.355788e+07\n",
       " 47    1.042188e+07\n",
       " Name: Value, dtype: float64,)"
      ]
     },
     "execution_count": 7,
     "metadata": {},
     "output_type": "execute_result"
    }
   ],
   "source": [
    "EPobjectives = VariableReader(key_value='PSZ-AC:5',variable_name='Air System Total Heating Energy',frequency='Hourly',func=time_series_values)\n",
    "\n",
    "problem = EPProblem(EPparameters,EPobjectives)\n",
    "evaluator = EvaluatorEP(problem,building)\n",
    "result = evaluator([8])\n",
    "result"
   ]
  },
  {
   "cell_type": "code",
   "execution_count": null,
   "metadata": {},
   "outputs": [],
   "source": []
  }
 ],
 "metadata": {
  "kernelspec": {
   "display_name": "Python 3",
   "language": "python",
   "name": "python3"
  },
  "language_info": {
   "codemirror_mode": {
    "name": "ipython",
    "version": 3
   },
   "file_extension": ".py",
   "mimetype": "text/x-python",
   "name": "python",
   "nbconvert_exporter": "python",
   "pygments_lexer": "ipython3",
   "version": "3.7.5"
  },
  "papermill": {
   "duration": 6.539018,
   "end_time": "2019-10-28T22:50:51.799797",
   "environment_variables": {},
   "exception": null,
   "input_path": "./Evaluators/CustomEPEvaluatorFunc.ipynb",
   "output_path": "./Evaluators/CustomEPEvaluatorFunc.ipynb",
   "parameters": {},
   "start_time": "2019-10-28T22:50:45.260779",
   "version": "1.2.0"
  }
 },
 "nbformat": 4,
 "nbformat_minor": 4
}
