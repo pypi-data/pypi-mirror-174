{
 "cells": [
  {
   "cell_type": "markdown",
   "metadata": {},
   "source": [
    "# Additional Outputs"
   ]
  },
  {
   "cell_type": "code",
   "execution_count": null,
   "metadata": {},
   "outputs": [],
   "source": [
    "from besos import eppy_funcs as ef\n",
    "import besos.sampling as sampling\n",
    "from besos.problem import EPProblem\n",
    "from besos.evaluator import EvaluatorEP\n",
    "from besos.optimizer import NSGAII\n",
    "from besos.parameters import Parameter, wwr, FieldSelector, RangeParameter"
   ]
  },
  {
   "cell_type": "code",
   "execution_count": null,
   "metadata": {},
   "outputs": [],
   "source": [
    "parameters = []\n",
    "parameters.append(wwr())  #index 0\n",
    "parameters.append(\n",
    "    Parameter(\n",
    "        name='Electric Equipment',\n",
    "        selector=FieldSelector(\n",
    "            class_name=\"ElectricEquipment\",\n",
    "            object_name=\"*\",\n",
    "            field_name=\"Watts per Zone Floor Area\",\n",
    "        ),\n",
    "        value_descriptors= RangeParameter(min_val=10, max_val=15)\n",
    "    )\n",
    ")  #index 1"
   ]
  },
  {
   "cell_type": "code",
   "execution_count": null,
   "metadata": {},
   "outputs": [],
   "source": [
    "objectives = ['Electricity:Facility']\n",
    "problem = EPProblem(parameters, objectives)\n",
    "building = ef.get_building()\n",
    "evaluator = EvaluatorEP(problem, building)"
   ]
  },
  {
   "cell_type": "code",
   "execution_count": null,
   "metadata": {},
   "outputs": [],
   "source": [
    "inputs = sampling.dist_sampler(sampling.lhs, problem, 5)\n",
    "inputs"
   ]
  },
  {
   "cell_type": "markdown",
   "metadata": {},
   "source": [
    "## Additional Outputs for optimization algorithm"
   ]
  },
  {
   "cell_type": "markdown",
   "metadata": {},
   "source": [
    "When running the optimization algorithm, all objectives will be optimized. The result of the objectives in the add_outputs list will include in the data frame, but they will not be optimized.\n",
    "\n",
    "For the following example, the output is Electricity:Facility. We also want to know the value of Cooling:Electricity for different solutions, but we don't need it to be optimized. So instead of adding it in `outputs` (which will be optimized), we add it in `add_outputs`."
   ]
  },
  {
   "cell_type": "code",
   "execution_count": null,
   "metadata": {},
   "outputs": [],
   "source": [
    "building = ef.get_building()\n",
    "\n",
    "problem = EPProblem(inputs=[wwr()], outputs=['Electricity:Facility'], add_outputs=['Cooling:Electricity'])\n",
    "evaluator = EvaluatorEP(problem, building)\n",
    "\n",
    "results = NSGAII(evaluator, evaluations=1, population_size=1)\n",
    "results"
   ]
  },
  {
   "cell_type": "code",
   "execution_count": null,
   "metadata": {},
   "outputs": [],
   "source": []
  }
 ],
 "metadata": {
  "kernelspec": {
   "display_name": "Python 3",
   "language": "python",
   "name": "python3"
  },
  "language_info": {
   "codemirror_mode": {
    "name": "ipython",
    "version": 3
   },
   "file_extension": ".py",
   "mimetype": "text/x-python",
   "name": "python",
   "nbconvert_exporter": "python",
   "pygments_lexer": "ipython3",
   "version": "3.8.3"
  }
 },
 "nbformat": 4,
 "nbformat_minor": 4
}
