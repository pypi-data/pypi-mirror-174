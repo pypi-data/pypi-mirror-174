{
 "cells": [
  {
   "cell_type": "code",
   "execution_count": 1,
   "metadata": {},
   "outputs": [],
   "source": [
    "from besos import eppy_funcs as ef\n",
    "import sampling\n",
    "from besos.parameters import GenericSelector, Parameter, RangeParameter, FieldSelector, CategoryParameter\n",
    "from evaluator import EvaluatorEP, EvaluatorGeneric\n",
    "from objectives import MeterReader\n",
    "from problem import  Problem"
   ]
  },
  {
   "cell_type": "code",
   "execution_count": 2,
   "metadata": {},
   "outputs": [],
   "source": [
    "total_range = RangeParameter(0.5, 1, name=\"total\")\n",
    "# ratio is used to decide what fraction of the total is radiant. The rest is visible\n",
    "ratio_range = RangeParameter(0,1, name=\"ratio\")\n",
    "\n",
    "# here we create two normal selectors to simplify the function later on\n",
    "lights_radiant=FieldSelector(\n",
    "        class_name='Lights',\n",
    "        object_name='*',\n",
    "        field_name='fraction_radiant'\n",
    "    )\n",
    "\n",
    "lights_visible=FieldSelector(\n",
    "    class_name='Lights',\n",
    "        object_name='*',\n",
    "    field_name='fraction_visible'\n",
    ")\n",
    "\n",
    "# this function sets the radiant and visible lights based on both total and ratio\n",
    "def set_lights(building, total, ratio):\n",
    "    lights_radiant.set(building, total*ratio)\n",
    "    lights_visible.set(building, total*(1-ratio))\n",
    "\n"
   ]
  },
  {
   "cell_type": "markdown",
   "metadata": {},
   "source": [
    "this parameter uses a GenericSelector to manage the function above.\n",
    "Since this function takes 2 input values (as well as building) **we need to provide 2 value descriptors.**"
   ]
  },
  {
   "cell_type": "code",
   "execution_count": 3,
   "metadata": {},
   "outputs": [],
   "source": [
    "parameters = [Parameter(\n",
    "    selector=GenericSelector(set = set_lights),\n",
    "    # the values from these descriptors are passed to the function in order\n",
    "    value_descriptors=[total_range, ratio_range]\n",
    ")]"
   ]
  },
  {
   "cell_type": "code",
   "execution_count": 4,
   "metadata": {},
   "outputs": [],
   "source": [
    "building = ef.get_building()\n",
    "problem = Problem(parameters, [MeterReader(\"Electricity:Facility\")])\n",
    "evaluator = EvaluatorEP(problem, building)"
   ]
  },
  {
   "cell_type": "code",
   "execution_count": 5,
   "metadata": {},
   "outputs": [
    {
     "data": {
      "application/vnd.jupyter.widget-view+json": {
       "model_id": "dc960a44ab014df086ac285d8bf4e613",
       "version_major": 2,
       "version_minor": 0
      },
      "text/plain": [
       "HBox(children=(FloatProgress(value=0.0, description='Executing', max=5.0, style=ProgressStyle(description_widt…"
      ]
     },
     "metadata": {},
     "output_type": "display_data"
    },
    {
     "name": "stdout",
     "output_type": "stream",
     "text": [
      "\n"
     ]
    },
    {
     "data": {
      "text/html": [
       "<div>\n",
       "<style scoped>\n",
       "    .dataframe tbody tr th:only-of-type {\n",
       "        vertical-align: middle;\n",
       "    }\n",
       "\n",
       "    .dataframe tbody tr th {\n",
       "        vertical-align: top;\n",
       "    }\n",
       "\n",
       "    .dataframe thead th {\n",
       "        text-align: right;\n",
       "    }\n",
       "</style>\n",
       "<table border=\"1\" class=\"dataframe\">\n",
       "  <thead>\n",
       "    <tr style=\"text-align: right;\">\n",
       "      <th></th>\n",
       "      <th>total</th>\n",
       "      <th>ratio</th>\n",
       "      <th>Electricity:Facility</th>\n",
       "    </tr>\n",
       "  </thead>\n",
       "  <tbody>\n",
       "    <tr>\n",
       "      <th>0</th>\n",
       "      <td>0.963045</td>\n",
       "      <td>0.295615</td>\n",
       "      <td>1.850526e+09</td>\n",
       "    </tr>\n",
       "    <tr>\n",
       "      <th>1</th>\n",
       "      <td>0.507815</td>\n",
       "      <td>0.936208</td>\n",
       "      <td>1.864769e+09</td>\n",
       "    </tr>\n",
       "    <tr>\n",
       "      <th>2</th>\n",
       "      <td>0.818647</td>\n",
       "      <td>0.034226</td>\n",
       "      <td>1.855776e+09</td>\n",
       "    </tr>\n",
       "    <tr>\n",
       "      <th>3</th>\n",
       "      <td>0.709480</td>\n",
       "      <td>0.666206</td>\n",
       "      <td>1.859549e+09</td>\n",
       "    </tr>\n",
       "    <tr>\n",
       "      <th>4</th>\n",
       "      <td>0.672416</td>\n",
       "      <td>0.446764</td>\n",
       "      <td>1.860741e+09</td>\n",
       "    </tr>\n",
       "  </tbody>\n",
       "</table>\n",
       "</div>"
      ],
      "text/plain": [
       "      total     ratio  Electricity:Facility\n",
       "0  0.963045  0.295615          1.850526e+09\n",
       "1  0.507815  0.936208          1.864769e+09\n",
       "2  0.818647  0.034226          1.855776e+09\n",
       "3  0.709480  0.666206          1.859549e+09\n",
       "4  0.672416  0.446764          1.860741e+09"
      ]
     },
     "execution_count": 5,
     "metadata": {},
     "output_type": "execute_result"
    }
   ],
   "source": [
    "samples = sampling.dist_sampler(sampling.lhs, problem, 5)\n",
    "evaluator.df_apply(samples, keep_input=True)"
   ]
  },
  {
   "cell_type": "code",
   "execution_count": 6,
   "metadata": {},
   "outputs": [],
   "source": [
    "def only_print(first):\n",
    "    \"\"\"This function makes other functions which print `first` followed by the arguments they are passed\"\"\"\n",
    "    def printer_func(building, *args):\n",
    "        \"\"\"Prints it's arguments, but does not change the building\"\"\"\n",
    "        print(first, *args)\n",
    "    return printer_func\n",
    "\n",
    "a = CategoryParameter([\"a\", \"aa\", \"AAA\"], name=\"a\")\n",
    "b = CategoryParameter([\"b\", \"bb\", \"BBB\"], name=\"b\")\n",
    "c = CategoryParameter([\"c\", \"cc\", \"CCC\"], name=\"c\")\n",
    "\n",
    "parameters =[\n",
    "    Parameter(GenericSelector(only_print(\"only a:\")), a),\n",
    "    Parameter(GenericSelector(only_print(\"c and b:\")), (c , b)),\n",
    "    Parameter(GenericSelector(only_print(\"c and a:\")), (c, a)),\n",
    "    Parameter(GenericSelector(only_print(\"----\")), ()) # no inputs, will print a dashed line\n",
    "]\n",
    "problem = Problem(parameters, [MeterReader(\"Electricity:Facility\")])"
   ]
  },
  {
   "cell_type": "markdown",
   "metadata": {},
   "source": [
    "samples are generated for each *Descriptor* used, not for each *Parameter*"
   ]
  },
  {
   "cell_type": "code",
   "execution_count": 7,
   "metadata": {},
   "outputs": [
    {
     "data": {
      "text/html": [
       "<div>\n",
       "<style scoped>\n",
       "    .dataframe tbody tr th:only-of-type {\n",
       "        vertical-align: middle;\n",
       "    }\n",
       "\n",
       "    .dataframe tbody tr th {\n",
       "        vertical-align: top;\n",
       "    }\n",
       "\n",
       "    .dataframe thead th {\n",
       "        text-align: right;\n",
       "    }\n",
       "</style>\n",
       "<table border=\"1\" class=\"dataframe\">\n",
       "  <thead>\n",
       "    <tr style=\"text-align: right;\">\n",
       "      <th></th>\n",
       "      <th>a</th>\n",
       "      <th>c</th>\n",
       "      <th>b</th>\n",
       "    </tr>\n",
       "  </thead>\n",
       "  <tbody>\n",
       "    <tr>\n",
       "      <th>0</th>\n",
       "      <td>AAA</td>\n",
       "      <td>c</td>\n",
       "      <td>bb</td>\n",
       "    </tr>\n",
       "    <tr>\n",
       "      <th>1</th>\n",
       "      <td>aa</td>\n",
       "      <td>c</td>\n",
       "      <td>bb</td>\n",
       "    </tr>\n",
       "    <tr>\n",
       "      <th>2</th>\n",
       "      <td>aa</td>\n",
       "      <td>CCC</td>\n",
       "      <td>b</td>\n",
       "    </tr>\n",
       "    <tr>\n",
       "      <th>3</th>\n",
       "      <td>a</td>\n",
       "      <td>cc</td>\n",
       "      <td>BBB</td>\n",
       "    </tr>\n",
       "    <tr>\n",
       "      <th>4</th>\n",
       "      <td>a</td>\n",
       "      <td>CCC</td>\n",
       "      <td>BBB</td>\n",
       "    </tr>\n",
       "  </tbody>\n",
       "</table>\n",
       "</div>"
      ],
      "text/plain": [
       "     a    c    b\n",
       "0  AAA    c   bb\n",
       "1   aa    c   bb\n",
       "2   aa  CCC    b\n",
       "3    a   cc  BBB\n",
       "4    a  CCC  BBB"
      ]
     },
     "execution_count": 7,
     "metadata": {},
     "output_type": "execute_result"
    }
   ],
   "source": [
    "samples = sampling.dist_sampler(sampling.lhs, problem, 5)\n",
    "samples"
   ]
  },
  {
   "cell_type": "code",
   "execution_count": 8,
   "metadata": {
    "pycharm": {
     "name": "#%%\n"
    }
   },
   "outputs": [
    {
     "data": {
      "application/vnd.jupyter.widget-view+json": {
       "model_id": "9b9c68b25d3d4c83ad6204c436975088",
       "version_major": 2,
       "version_minor": 0
      },
      "text/plain": [
       "HBox(children=(FloatProgress(value=0.0, description='Executing', max=5.0, style=ProgressStyle(description_widt…"
      ]
     },
     "metadata": {},
     "output_type": "display_data"
    },
    {
     "name": "stdout",
     "output_type": "stream",
     "text": [
      "only a: AAA\n",
      "c and b: c bb\n",
      "c and a: c AAA\n",
      "----\n",
      "only a: aa\n",
      "c and b: c bb\n",
      "c and a: c aa\n",
      "----\n",
      "only a: aa\n",
      "c and b: CCC b\n",
      "c and a: CCC aa\n",
      "----\n",
      "only a: a\n",
      "c and b: cc BBB\n",
      "c and a: cc a\n",
      "----\n",
      "only a: a\n",
      "c and b: CCC BBB\n",
      "c and a: CCC a\n",
      "----\n",
      "\n"
     ]
    },
    {
     "data": {
      "text/html": [
       "<div>\n",
       "<style scoped>\n",
       "    .dataframe tbody tr th:only-of-type {\n",
       "        vertical-align: middle;\n",
       "    }\n",
       "\n",
       "    .dataframe tbody tr th {\n",
       "        vertical-align: top;\n",
       "    }\n",
       "\n",
       "    .dataframe thead th {\n",
       "        text-align: right;\n",
       "    }\n",
       "</style>\n",
       "<table border=\"1\" class=\"dataframe\">\n",
       "  <thead>\n",
       "    <tr style=\"text-align: right;\">\n",
       "      <th></th>\n",
       "      <th>a</th>\n",
       "      <th>c</th>\n",
       "      <th>b</th>\n",
       "      <th>Electricity:Facility</th>\n",
       "    </tr>\n",
       "  </thead>\n",
       "  <tbody>\n",
       "    <tr>\n",
       "      <th>0</th>\n",
       "      <td>AAA</td>\n",
       "      <td>c</td>\n",
       "      <td>bb</td>\n",
       "      <td>1.852986e+09</td>\n",
       "    </tr>\n",
       "    <tr>\n",
       "      <th>1</th>\n",
       "      <td>aa</td>\n",
       "      <td>c</td>\n",
       "      <td>bb</td>\n",
       "      <td>1.852986e+09</td>\n",
       "    </tr>\n",
       "    <tr>\n",
       "      <th>2</th>\n",
       "      <td>aa</td>\n",
       "      <td>CCC</td>\n",
       "      <td>b</td>\n",
       "      <td>1.852986e+09</td>\n",
       "    </tr>\n",
       "    <tr>\n",
       "      <th>3</th>\n",
       "      <td>a</td>\n",
       "      <td>cc</td>\n",
       "      <td>BBB</td>\n",
       "      <td>1.852986e+09</td>\n",
       "    </tr>\n",
       "    <tr>\n",
       "      <th>4</th>\n",
       "      <td>a</td>\n",
       "      <td>CCC</td>\n",
       "      <td>BBB</td>\n",
       "      <td>1.852986e+09</td>\n",
       "    </tr>\n",
       "  </tbody>\n",
       "</table>\n",
       "</div>"
      ],
      "text/plain": [
       "     a    c    b  Electricity:Facility\n",
       "0  AAA    c   bb          1.852986e+09\n",
       "1   aa    c   bb          1.852986e+09\n",
       "2   aa  CCC    b          1.852986e+09\n",
       "3    a   cc  BBB          1.852986e+09\n",
       "4    a  CCC  BBB          1.852986e+09"
      ]
     },
     "execution_count": 8,
     "metadata": {},
     "output_type": "execute_result"
    }
   ],
   "source": [
    "evaluator = EvaluatorEP(problem, building)\n",
    "evaluator.df_apply(samples, keep_input=True)\n",
    "# notice how the values of a,b, and c are shared when they are used by more than one funtion.\n",
    "# This happens when two Parameters share a value descriptor.\n",
    "# one value is generated for each value descriptor."
   ]
  },
  {
   "cell_type": "code",
   "execution_count": null,
   "metadata": {},
   "outputs": [],
   "source": []
  }
 ],
 "metadata": {
  "kernelspec": {
   "display_name": "Python 3",
   "language": "python",
   "name": "python3"
  },
  "language_info": {
   "codemirror_mode": {
    "name": "ipython",
    "version": 3
   },
   "file_extension": ".py",
   "mimetype": "text/x-python",
   "name": "python",
   "nbconvert_exporter": "python",
   "pygments_lexer": "ipython3",
   "version": "3.8.2"
  }
 },
 "nbformat": 4,
 "nbformat_minor": 4
}
