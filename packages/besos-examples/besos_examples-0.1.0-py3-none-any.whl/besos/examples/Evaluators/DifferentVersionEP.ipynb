{
 "cells": [
  {
   "cell_type": "markdown",
   "metadata": {
    "papermill": {
     "duration": 0.013184,
     "end_time": "2019-10-28T22:50:02.075685",
     "exception": false,
     "start_time": "2019-10-28T22:50:02.062501",
     "status": "completed"
    },
    "tags": []
   },
   "source": [
    "## Working with different versions of EnergyPlus"
   ]
  },
  {
   "cell_type": "markdown",
   "metadata": {
    "papermill": {
     "duration": 0.008454,
     "end_time": "2019-10-28T22:50:02.098418",
     "exception": false,
     "start_time": "2019-10-28T22:50:02.089964",
     "status": "completed"
    },
    "tags": []
   },
   "source": [
    "Since besos is using the absolute path, if you are running besos on your computer, make sure you install the EnergyPlus under:\n",
    "\n",
    "Windows: C:/EnergyPlusV{version}\n",
    "\n",
    "Linux: /usr/local/EnergyPlus-{version}\n",
    "\n",
    "Mac: /Applications/EnergyPlus-{version}\n",
    "\n",
    "or specify in evaluators the EnergyPlus path in 'ep_path' argument"
   ]
  },
  {
   "cell_type": "code",
   "execution_count": 1,
   "metadata": {
    "lines_to_next_cell": 2,
    "papermill": {
     "duration": 2.239704,
     "end_time": "2019-10-28T22:50:04.343927",
     "exception": false,
     "start_time": "2019-10-28T22:50:02.104223",
     "status": "completed"
    },
    "tags": []
   },
   "outputs": [],
   "source": [
    "from besos import eppy_funcs as ef\n",
    "from besos.evaluator import EvaluatorEP\n",
    "from besos.parameters import FieldSelector, Parameter\n",
    "from besos.problem import EPProblem\n",
    "from besos.eplus_funcs import get_idf_version\n",
    "\n",
    "import config"
   ]
  },
  {
   "cell_type": "markdown",
   "metadata": {
    "papermill": {
     "duration": 0.005379,
     "end_time": "2019-10-28T22:50:04.355648",
     "exception": false,
     "start_time": "2019-10-28T22:50:04.350269",
     "status": "completed"
    },
    "tags": []
   },
   "source": [
    "The version of EnergyPlus to run is determined on the version of idf that is passed in. In this case, the default building is version 9-0-1."
   ]
  },
  {
   "cell_type": "code",
   "execution_count": 5,
   "metadata": {
    "papermill": {
     "duration": 1.584329,
     "end_time": "2019-10-28T22:50:05.945312",
     "exception": false,
     "start_time": "2019-10-28T22:50:04.360983",
     "status": "completed"
    },
    "tags": []
   },
   "outputs": [
    {
     "data": {
      "text/plain": [
       "'9.0'"
      ]
     },
     "execution_count": 5,
     "metadata": {},
     "output_type": "execute_result"
    }
   ],
   "source": [
    "building = ef.get_building(mode=\"idf\")\n",
    "get_idf_version(building)"
   ]
  },
  {
   "cell_type": "markdown",
   "metadata": {},
   "source": [
    "We now add parameters and objectives to building"
   ]
  },
  {
   "cell_type": "code",
   "execution_count": 6,
   "metadata": {
    "papermill": {
     "duration": 0.012568,
     "end_time": "2019-10-28T22:50:05.992722",
     "exception": false,
     "start_time": "2019-10-28T22:50:05.980154",
     "status": "completed"
    },
    "tags": []
   },
   "outputs": [],
   "source": [
    "parameters = [\n",
    "    Parameter(\n",
    "        FieldSelector(object_name=\"Mass NonRes Wall Insulation\", field_name=\"Thickness\")\n",
    "    )\n",
    "]\n",
    "\n",
    "objectives = [\"Electricity:Facility\", \"Gas:Facility\"]\n",
    "problem = EPProblem(parameters, objectives)"
   ]
  },
  {
   "cell_type": "markdown",
   "metadata": {
    "papermill": {
     "duration": 0.006204,
     "end_time": "2019-10-28T22:50:06.005007",
     "exception": false,
     "start_time": "2019-10-28T22:50:05.998803",
     "status": "completed"
    },
    "tags": []
   },
   "source": [
    "We can also set the version of energyplus that we want to use for simulation by passing the version parameter to the EvaluatorEP.\n",
    "\n",
    "The program will show a warning if the version in the building file doesn't match the input version."
   ]
  },
  {
   "cell_type": "code",
   "execution_count": 7,
   "metadata": {
    "papermill": {
     "duration": 2.251256,
     "end_time": "2019-10-28T22:50:08.262550",
     "exception": false,
     "start_time": "2019-10-28T22:50:06.011294",
     "status": "completed"
    },
    "tags": []
   },
   "outputs": [
    {
     "name": "stdout",
     "output_type": "stream",
     "text": [
      "Electricity:Facility  ::  505.20 kWh\n",
      "Gas:Facility  ::  603.35 kWh\n"
     ]
    }
   ],
   "source": [
    "evaluator = EvaluatorEP(problem, building)\n",
    "result = evaluator([0.5])  # run the evaluator with wall insulation thickness set to 0.5m\n",
    "values = dict(zip(objectives, result))\n",
    "for key, value in values.items():\n",
    "    print(key, \" :: \", \"{0:.2f}\".format(value / 3.6e6), \"kWh\")"
   ]
  }
 ],
 "metadata": {
  "kernelspec": {
   "display_name": "Python 3",
   "language": "python",
   "name": "python3"
  },
  "language_info": {
   "codemirror_mode": {
    "name": "ipython",
    "version": 3
   },
   "file_extension": ".py",
   "mimetype": "text/x-python",
   "name": "python",
   "nbconvert_exporter": "python",
   "pygments_lexer": "ipython3",
   "version": "3.8.3"
  }
 },
 "nbformat": 4,
 "nbformat_minor": 4
}
