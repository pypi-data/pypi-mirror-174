{
 "cells": [
  {
   "cell_type": "markdown",
   "metadata": {
    "papermill": {
     "duration": 0.006869,
     "end_time": "2019-10-28T22:48:06.927857",
     "exception": false,
     "start_time": "2019-10-28T22:48:06.920988",
     "status": "completed"
    },
    "tags": []
   },
   "source": [
    "# Welcome to BESOS"
   ]
  },
  {
   "cell_type": "markdown",
   "metadata": {
    "papermill": {
     "duration": 0.003005,
     "end_time": "2019-10-28T22:48:06.934915",
     "exception": false,
     "start_time": "2019-10-28T22:48:06.931910",
     "status": "completed"
    },
    "tags": []
   },
   "source": [
    "This is the landing page of the Building and Energy Simulation, Optimization and Surrogate-modelling platform.\n",
    "\n",
    "We hope you find it as useful as we do."
   ]
  },
  {
   "cell_type": "markdown",
   "metadata": {
    "papermill": {
     "duration": 0.002944,
     "end_time": "2019-10-28T22:48:06.943430",
     "exception": false,
     "start_time": "2019-10-28T22:48:06.940486",
     "status": "completed"
    },
    "tags": []
   },
   "source": [
    "## Getting started"
   ]
  },
  {
   "cell_type": "markdown",
   "metadata": {
    "papermill": {
     "duration": 0.002605,
     "end_time": "2019-10-28T22:48:06.948883",
     "exception": false,
     "start_time": "2019-10-28T22:48:06.946278",
     "status": "completed"
    },
    "tags": []
   },
   "source": [
    "A good place to get a quick tour of the power of BESOS is the [Interactive Surrogate-modelling](SurrogateModelling/InteractiveSurrogate.ipynb) example.\n",
    "\n",
    "If you're new to the following things, you might want to look at the associated tutorials:\n",
    "- [Jupyter Notebooks](https://www.dataquest.io/blog/jupyter-notebook-tutorial/)\n",
    "- [Python programming](https://docs.python.org/3/tutorial/introduction.html#)\n",
    "- [Pandas Dataframes](https://www.learnpython.org/en/Pandas_Basics)"
   ]
  },
  {
   "cell_type": "markdown",
   "metadata": {
    "papermill": {
     "duration": 0.002603,
     "end_time": "2019-10-28T22:48:06.954186",
     "exception": false,
     "start_time": "2019-10-28T22:48:06.951583",
     "status": "completed"
    },
    "tags": []
   },
   "source": [
    "### Experimenting with the Examples\n",
    "BESOS comes with dozens of examples - have a look through the [Examples Overview](ExamplesOverview.ipynb) to get an idea of what it can do."
   ]
  }
 ],
 "metadata": {
  "kernelspec": {
   "display_name": "Python 3",
   "language": "python",
   "name": "python3"
  }
 },
 "nbformat": 4,
 "nbformat_minor": 4
}
