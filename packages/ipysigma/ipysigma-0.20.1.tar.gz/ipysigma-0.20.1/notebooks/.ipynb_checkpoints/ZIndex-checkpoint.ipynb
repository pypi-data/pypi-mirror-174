{
 "cells": [
  {
   "cell_type": "code",
   "execution_count": 1,
   "id": "327e2aef-2965-40d5-b2d5-d693dac065e1",
   "metadata": {},
   "outputs": [],
   "source": [
    "import networkx as nx\n",
    "from ipysigma import Sigma\n",
    "from random import random"
   ]
  },
  {
   "cell_type": "code",
   "execution_count": 2,
   "id": "be462005-80a8-4a5e-8dd1-a02a3d8df1bb",
   "metadata": {},
   "outputs": [],
   "source": [
    "g = nx.planted_partition_graph(5, 30, 0.5, 0.01)"
   ]
  },
  {
   "cell_type": "code",
   "execution_count": 3,
   "id": "13507d4d-e89e-49f2-a23a-2f29de076231",
   "metadata": {},
   "outputs": [],
   "source": [
    "for u, v, a in g.edges.data():\n",
    "    r = random()\n",
    "    a['color'] = 'black' if r > 0.8 else '#ccc'"
   ]
  },
  {
   "cell_type": "code",
   "execution_count": 4,
   "id": "0ee8d390-abc0-4da2-8e4b-736334406f54",
   "metadata": {},
   "outputs": [
    {
     "data": {
      "application/vnd.jupyter.widget-view+json": {
       "model_id": "05678d9945de4f2b9287bec84b709bf5",
       "version_major": 2,
       "version_minor": 0
      },
      "text/plain": [
       "Sigma(nx.Graph with 150 nodes and 1,189 edges)"
      ]
     },
     "metadata": {},
     "output_type": "display_data"
    }
   ],
   "source": [
    "Sigma(\n",
    "    g,\n",
    "    default_node_color='cyan',\n",
    "    node_size_range=4,\n",
    "    node_borders=True,\n",
    "    node_border_ratio=0.2,\n",
    "    edge_zindex=lambda u, v, a: 1 if a['color'] == 'black' else 0\n",
    ")"
   ]
  }
 ],
 "metadata": {
  "kernelspec": {
   "display_name": "Python 3",
   "language": "python",
   "name": "python3"
  },
  "language_info": {
   "codemirror_mode": {
    "name": "ipython",
    "version": 3
   },
   "file_extension": ".py",
   "mimetype": "text/x-python",
   "name": "python",
   "nbconvert_exporter": "python",
   "pygments_lexer": "ipython3",
   "version": "3.6.11"
  }
 },
 "nbformat": 4,
 "nbformat_minor": 5
}
