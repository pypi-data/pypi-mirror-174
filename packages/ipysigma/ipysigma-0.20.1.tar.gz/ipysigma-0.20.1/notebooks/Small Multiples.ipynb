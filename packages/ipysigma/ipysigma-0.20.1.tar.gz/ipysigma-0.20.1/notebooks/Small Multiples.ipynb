{
 "cells": [
  {
   "cell_type": "code",
   "execution_count": 1,
   "id": "7bddfd3c-b886-4143-943e-2a40f4f87e86",
   "metadata": {},
   "outputs": [],
   "source": [
    "import networkx as nx\n",
    "from ipysigma import Sigma\n",
    "from ipywidgets import HBox, VBox"
   ]
  },
  {
   "cell_type": "code",
   "execution_count": 2,
   "id": "e38efd3f-9f51-4ac4-b2a3-d161e0e9f21e",
   "metadata": {},
   "outputs": [],
   "source": [
    "g = nx.read_gexf('./data/rio.gexf')"
   ]
  },
  {
   "cell_type": "code",
   "execution_count": 6,
   "id": "9434631b-a769-4fc1-a067-fc1858af9f76",
   "metadata": {},
   "outputs": [
    {
     "data": {
      "application/vnd.jupyter.widget-view+json": {
       "model_id": "0c5a71b7bc934ad7b0574edccee7b1c8",
       "version_major": 2,
       "version_minor": 0
      },
      "text/plain": [
       "VBox(children=(HBox(children=(Sigma(nx.DiGraph with 366 nodes and 1,107 edges), Sigma(nx.DiGraph with 366 node…"
      ]
     },
     "metadata": {},
     "output_type": "display_data"
    }
   ],
   "source": [
    "VBox([\n",
    "    HBox([Sigma(g, sync_key='karate', node_color='Nature of institution'), Sigma(g, sync_key='karate', node_color='Language')]),\n",
    "    HBox([Sigma(g, sync_key='karate'), Sigma(g, sync_key='karate')])\n",
    "])"
   ]
  }
 ],
 "metadata": {
  "kernelspec": {
   "display_name": "Python 3",
   "language": "python",
   "name": "python3"
  },
  "language_info": {
   "codemirror_mode": {
    "name": "ipython",
    "version": 3
   },
   "file_extension": ".py",
   "mimetype": "text/x-python",
   "name": "python",
   "nbconvert_exporter": "python",
   "pygments_lexer": "ipython3",
   "version": "3.6.12"
  }
 },
 "nbformat": 4,
 "nbformat_minor": 5
}
