{
 "cells": [
  {
   "cell_type": "code",
   "execution_count": 1,
   "id": "70804bf2-aa20-41a5-92fb-ae2ea3bbf8ce",
   "metadata": {},
   "outputs": [],
   "source": [
    "import networkx as nx\n",
    "from ipysigma import Sigma"
   ]
  },
  {
   "cell_type": "code",
   "execution_count": 2,
   "id": "f1c75b77-5fd5-4248-bc85-0c892072a3a7",
   "metadata": {},
   "outputs": [],
   "source": [
    "sigma = Sigma(nx.les_miserables_graph())"
   ]
  },
  {
   "cell_type": "code",
   "execution_count": 3,
   "id": "738ed790-215c-484e-b46d-11a8c5715273",
   "metadata": {},
   "outputs": [
    {
     "data": {
      "application/vnd.jupyter.widget-view+json": {
       "model_id": "e17ccfeec8894a539c7ce0faa0c4d124",
       "version_major": 2,
       "version_minor": 0
      },
      "text/plain": [
       "Sigma(nx.Graph with 77 nodes and 254 edges)"
      ]
     },
     "metadata": {},
     "output_type": "display_data"
    }
   ],
   "source": [
    "sigma"
   ]
  },
  {
   "cell_type": "code",
   "execution_count": 4,
   "id": "3d55b1ab-4bb8-4dca-a5be-5eab790acc3a",
   "metadata": {},
   "outputs": [
    {
     "data": {
      "application/vnd.jupyter.widget-view+json": {
       "model_id": "9a4a636c581346189a3f3d60087b6784",
       "version_major": 2,
       "version_minor": 0
      },
      "text/plain": [
       "Output(outputs=({'output_type': 'stream', 'name': 'stdout', 'text': 'Rendering snapshot from widget (are you s…"
      ]
     },
     "metadata": {},
     "output_type": "display_data"
    }
   ],
   "source": [
    "sigma.render_snapshot()"
   ]
  }
 ],
 "metadata": {
  "kernelspec": {
   "display_name": "Python 3",
   "language": "python",
   "name": "python3"
  },
  "language_info": {
   "codemirror_mode": {
    "name": "ipython",
    "version": 3
   },
   "file_extension": ".py",
   "mimetype": "text/x-python",
   "name": "python",
   "nbconvert_exporter": "python",
   "pygments_lexer": "ipython3",
   "version": "3.6.10"
  }
 },
 "nbformat": 4,
 "nbformat_minor": 5
}
