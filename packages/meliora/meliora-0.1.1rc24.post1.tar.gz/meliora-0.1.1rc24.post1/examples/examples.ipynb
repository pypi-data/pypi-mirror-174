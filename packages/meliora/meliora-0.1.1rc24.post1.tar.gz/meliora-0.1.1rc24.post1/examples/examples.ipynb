{
 "cells": [
  {
   "cell_type": "markdown",
   "metadata": {},
   "source": [
    "## Examples of usage"
   ]
  },
  {
   "cell_type": "code",
   "execution_count": 1,
   "metadata": {},
   "outputs": [],
   "source": [
    "import numpy as np\n",
    "import random\n",
    "import pandas as pd\n",
    "import meliora.src.meliora.core as vt\n",
    "from scipy.stats import norm"
   ]
  },
  {
   "cell_type": "code",
   "execution_count": 2,
   "metadata": {},
   "outputs": [],
   "source": [
    "# Import data\n",
    "test_data_main = pd.read_csv('../data/pd_test_data_main.csv')\n",
    "test_data_add = pd.read_csv('../data/pd_test_data_period_2.csv')\n",
    "test_pd_psi = pd.read_csv('../data/pd_bellini.csv')\n",
    "german_data = pd.read_csv('../data/german_data.csv')\n",
    "lgd_t_test = pd.read_csv('../data/lgd_t_test.csv')\n",
    "pd_transition_matrix = pd.read_csv('../data/pd_transition_matrix.csv')\n",
    "pd_calibration = pd.read_csv('../data/pd_calibration.csv')"
   ]
  },
  {
   "cell_type": "code",
   "execution_count": 3,
   "metadata": {},
   "outputs": [
    {
     "data": {
      "text/html": [
       "<div>\n",
       "<style scoped>\n",
       "    .dataframe tbody tr th:only-of-type {\n",
       "        vertical-align: middle;\n",
       "    }\n",
       "\n",
       "    .dataframe tbody tr th {\n",
       "        vertical-align: top;\n",
       "    }\n",
       "\n",
       "    .dataframe thead th {\n",
       "        text-align: right;\n",
       "    }\n",
       "</style>\n",
       "<table border=\"1\" class=\"dataframe\">\n",
       "  <thead>\n",
       "    <tr style=\"text-align: right;\">\n",
       "      <th></th>\n",
       "      <th>ratings</th>\n",
       "      <th>default_flag</th>\n",
       "      <th>predicted_pd</th>\n",
       "    </tr>\n",
       "  </thead>\n",
       "  <tbody>\n",
       "    <tr>\n",
       "      <th>0</th>\n",
       "      <td>B</td>\n",
       "      <td>0</td>\n",
       "      <td>0.137215</td>\n",
       "    </tr>\n",
       "    <tr>\n",
       "      <th>1</th>\n",
       "      <td>A</td>\n",
       "      <td>0</td>\n",
       "      <td>0.130365</td>\n",
       "    </tr>\n",
       "    <tr>\n",
       "      <th>2</th>\n",
       "      <td>C</td>\n",
       "      <td>0</td>\n",
       "      <td>0.188544</td>\n",
       "    </tr>\n",
       "    <tr>\n",
       "      <th>3</th>\n",
       "      <td>A</td>\n",
       "      <td>0</td>\n",
       "      <td>0.178812</td>\n",
       "    </tr>\n",
       "    <tr>\n",
       "      <th>4</th>\n",
       "      <td>C</td>\n",
       "      <td>0</td>\n",
       "      <td>0.135670</td>\n",
       "    </tr>\n",
       "  </tbody>\n",
       "</table>\n",
       "</div>"
      ],
      "text/plain": [
       "  ratings  default_flag  predicted_pd\n",
       "0       B             0      0.137215\n",
       "1       A             0      0.130365\n",
       "2       C             0      0.188544\n",
       "3       A             0      0.178812\n",
       "4       C             0      0.135670"
      ]
     },
     "execution_count": 3,
     "metadata": {},
     "output_type": "execute_result"
    }
   ],
   "source": [
    "test_data_main.head()"
   ]
  },
  {
   "cell_type": "code",
   "execution_count": 4,
   "metadata": {},
   "outputs": [
    {
     "data": {
      "text/html": [
       "<div>\n",
       "<style scoped>\n",
       "    .dataframe tbody tr th:only-of-type {\n",
       "        vertical-align: middle;\n",
       "    }\n",
       "\n",
       "    .dataframe tbody tr th {\n",
       "        vertical-align: top;\n",
       "    }\n",
       "\n",
       "    .dataframe thead th {\n",
       "        text-align: right;\n",
       "    }\n",
       "</style>\n",
       "<table border=\"1\" class=\"dataframe\">\n",
       "  <thead>\n",
       "    <tr style=\"text-align: right;\">\n",
       "      <th></th>\n",
       "      <th>Rating class</th>\n",
       "      <th>Predicted PD</th>\n",
       "      <th>Total count</th>\n",
       "      <th>Defaults</th>\n",
       "      <th>Actual Default Rate</th>\n",
       "      <th>p_value</th>\n",
       "      <th>Reject H0</th>\n",
       "    </tr>\n",
       "  </thead>\n",
       "  <tbody>\n",
       "    <tr>\n",
       "      <th>0</th>\n",
       "      <td>A</td>\n",
       "      <td>0.103429</td>\n",
       "      <td>406</td>\n",
       "      <td>55</td>\n",
       "      <td>0.135468</td>\n",
       "      <td>0.023892</td>\n",
       "      <td>True</td>\n",
       "    </tr>\n",
       "    <tr>\n",
       "      <th>1</th>\n",
       "      <td>B</td>\n",
       "      <td>0.099524</td>\n",
       "      <td>480</td>\n",
       "      <td>41</td>\n",
       "      <td>0.085417</td>\n",
       "      <td>0.867441</td>\n",
       "      <td>False</td>\n",
       "    </tr>\n",
       "    <tr>\n",
       "      <th>2</th>\n",
       "      <td>C</td>\n",
       "      <td>0.095719</td>\n",
       "      <td>114</td>\n",
       "      <td>10</td>\n",
       "      <td>0.087719</td>\n",
       "      <td>0.660553</td>\n",
       "      <td>False</td>\n",
       "    </tr>\n",
       "  </tbody>\n",
       "</table>\n",
       "</div>"
      ],
      "text/plain": [
       "  Rating class  Predicted PD  Total count  Defaults  Actual Default Rate  \\\n",
       "0            A      0.103429          406        55             0.135468   \n",
       "1            B      0.099524          480        41             0.085417   \n",
       "2            C      0.095719          114        10             0.087719   \n",
       "\n",
       "    p_value  Reject H0  \n",
       "0  0.023892       True  \n",
       "1  0.867441      False  \n",
       "2  0.660553      False  "
      ]
     },
     "execution_count": 4,
     "metadata": {},
     "output_type": "execute_result"
    }
   ],
   "source": [
    "# Binomial test\n",
    "vt.binomial_test(test_data_main, \"ratings\", \"default_flag\", \"predicted_pd\")"
   ]
  },
  {
   "cell_type": "code",
   "execution_count": 5,
   "metadata": {},
   "outputs": [
    {
     "data": {
      "text/html": [
       "<div>\n",
       "<style scoped>\n",
       "    .dataframe tbody tr th:only-of-type {\n",
       "        vertical-align: middle;\n",
       "    }\n",
       "\n",
       "    .dataframe tbody tr th {\n",
       "        vertical-align: top;\n",
       "    }\n",
       "\n",
       "    .dataframe thead th {\n",
       "        text-align: right;\n",
       "    }\n",
       "</style>\n",
       "<table border=\"1\" class=\"dataframe\">\n",
       "  <thead>\n",
       "    <tr style=\"text-align: right;\">\n",
       "      <th></th>\n",
       "      <th>Rating class</th>\n",
       "      <th>Predicted PD</th>\n",
       "      <th>Total count</th>\n",
       "      <th>Defaults</th>\n",
       "      <th>Actual Default Rate</th>\n",
       "      <th>p_value</th>\n",
       "      <th>Reject H0</th>\n",
       "    </tr>\n",
       "  </thead>\n",
       "  <tbody>\n",
       "    <tr>\n",
       "      <th>0</th>\n",
       "      <td>A</td>\n",
       "      <td>0.103429</td>\n",
       "      <td>406</td>\n",
       "      <td>55</td>\n",
       "      <td>0.135468</td>\n",
       "      <td>0.019959</td>\n",
       "      <td>True</td>\n",
       "    </tr>\n",
       "    <tr>\n",
       "      <th>1</th>\n",
       "      <td>B</td>\n",
       "      <td>0.099524</td>\n",
       "      <td>480</td>\n",
       "      <td>41</td>\n",
       "      <td>0.085417</td>\n",
       "      <td>0.849552</td>\n",
       "      <td>False</td>\n",
       "    </tr>\n",
       "    <tr>\n",
       "      <th>2</th>\n",
       "      <td>C</td>\n",
       "      <td>0.095719</td>\n",
       "      <td>114</td>\n",
       "      <td>10</td>\n",
       "      <td>0.087719</td>\n",
       "      <td>0.598649</td>\n",
       "      <td>False</td>\n",
       "    </tr>\n",
       "  </tbody>\n",
       "</table>\n",
       "</div>"
      ],
      "text/plain": [
       "  Rating class  Predicted PD  Total count  Defaults  Actual Default Rate  \\\n",
       "0            A      0.103429          406        55             0.135468   \n",
       "1            B      0.099524          480        41             0.085417   \n",
       "2            C      0.095719          114        10             0.087719   \n",
       "\n",
       "    p_value  Reject H0  \n",
       "0  0.019959       True  \n",
       "1  0.849552      False  \n",
       "2  0.598649      False  "
      ]
     },
     "execution_count": 5,
     "metadata": {},
     "output_type": "execute_result"
    }
   ],
   "source": [
    "# Jeffrey's test\n",
    "vt.jeffreys_test(test_data_main, 'ratings', 'default_flag', 'predicted_pd', 0.05)"
   ]
  },
  {
   "cell_type": "code",
   "execution_count": 6,
   "metadata": {},
   "outputs": [
    {
     "data": {
      "text/plain": [
       "0.0012895084997917349"
      ]
     },
     "execution_count": 6,
     "metadata": {},
     "output_type": "execute_result"
    }
   ],
   "source": [
    "# Brier score\n",
    "vt.brier_score(test_data_main, \"ratings\", \"default_flag\", \"predicted_pd\")"
   ]
  },
  {
   "cell_type": "code",
   "execution_count": 7,
   "metadata": {},
   "outputs": [
    {
     "data": {
      "text/plain": [
       "[0.1302500370047408, False]"
      ]
     },
     "execution_count": 7,
     "metadata": {},
     "output_type": "execute_result"
    }
   ],
   "source": [
    "# Hosmer-Lemeshow test\n",
    "vt.hosmer_test(test_data_main, \"ratings\", \"default_flag\", \"predicted_pd\")"
   ]
  },
  {
   "cell_type": "code",
   "execution_count": 8,
   "metadata": {},
   "outputs": [
    {
     "data": {
      "text/plain": [
       "(-0.6637590511485174, False)"
      ]
     },
     "execution_count": 8,
     "metadata": {},
     "output_type": "execute_result"
    }
   ],
   "source": [
    "# Spiegelhalter test\n",
    "vt.spiegelhalter_test(test_data_main, \"ratings\", \"default_flag\", \"predicted_pd\")"
   ]
  },
  {
   "cell_type": "code",
   "execution_count": 9,
   "metadata": {},
   "outputs": [
    {
     "data": {
      "text/plain": [
       "0.5008547549702419"
      ]
     },
     "execution_count": 9,
     "metadata": {},
     "output_type": "execute_result"
    }
   ],
   "source": [
    "# ROC test\n",
    "vt.roc_auc(test_data_main, \"default_flag\", \"predicted_pd\")"
   ]
  },
  {
   "cell_type": "code",
   "execution_count": 10,
   "metadata": {},
   "outputs": [
    {
     "data": {
      "text/plain": [
       "0.8207826816681233"
      ]
     },
     "execution_count": 10,
     "metadata": {},
     "output_type": "execute_result"
    }
   ],
   "source": [
    "# Spearman correlation\n",
    "x = [1,2,3,4,5]\n",
    "y = [5,6,7,8,7]\n",
    "vt.spearman_corr(x, y).correlation"
   ]
  },
  {
   "cell_type": "code",
   "execution_count": 11,
   "metadata": {},
   "outputs": [
    {
     "data": {
      "text/plain": [
       "SomersDResult(statistic=-0.25, pvalue=0.3613104285261787, table=array([[0, 1],\n",
       "       [1, 3]]))"
      ]
     },
     "execution_count": 11,
     "metadata": {},
     "output_type": "execute_result"
    }
   ],
   "source": [
    "# Somers D\n",
    "x = [0, 1, 1, 1, 1] \n",
    "y = [1, 1, 1, 0, 1]\n",
    "vt.somersd(x, y)"
   ]
  },
  {
   "cell_type": "code",
   "execution_count": 12,
   "metadata": {},
   "outputs": [
    {
     "data": {
      "text/plain": [
       "0.030306509211290782"
      ]
     },
     "execution_count": 12,
     "metadata": {},
     "output_type": "execute_result"
    }
   ],
   "source": [
    "# Kendall tau\n",
    "x = [1, 2, 3, 2, 1, 3, 4, 2, 5, 2, 6, 5, 5]\n",
    "y = [5, 5, 6, 2, 1, 4, 4, 2, 1, 2, 1, 5, 5]\n",
    "\n",
    "tau, pvalue = vt.kendall_tau(x, y)\n",
    "tau"
   ]
  },
  {
   "cell_type": "code",
   "execution_count": 13,
   "metadata": {},
   "outputs": [
    {
     "data": {
      "text/plain": [
       "1.0344129494141174"
      ]
     },
     "execution_count": 13,
     "metadata": {},
     "output_type": "execute_result"
    }
   ],
   "source": [
    "# PSI test\n",
    "test_pd_psi['remaining_mat' + \"_bin\"] = pd.cut(test_pd_psi['remaining_mat'], bins=10, labels=False)\n",
    "test_pd_psi['year_bins'] = np.where(test_pd_psi['vintage_year'] < 2007, 'period_1', 'period_2')\n",
    "\n",
    "# Export data\n",
    "test_pd_psi.to_csv('test_pd_psi.csv', index=False)\n",
    "\n",
    "# Show results\n",
    "kala = vt.psi(test_pd_psi, 'year_bins', 'remaining_mat_bin')\n",
    "kala[1]"
   ]
  },
  {
   "cell_type": "code",
   "execution_count": 14,
   "metadata": {},
   "outputs": [
    {
     "data": {
      "text/plain": [
       "0.6660115033513336"
      ]
     },
     "execution_count": 14,
     "metadata": {},
     "output_type": "execute_result"
    }
   ],
   "source": [
    "# IV\n",
    "zen = vt.information_value(german_data, 'checkingstatus', 'GoodCredit')\n",
    "\n",
    "zen[1]"
   ]
  },
  {
   "cell_type": "code",
   "execution_count": 15,
   "metadata": {},
   "outputs": [
    {
     "data": {
      "text/html": [
       "<div>\n",
       "<style scoped>\n",
       "    .dataframe tbody tr th:only-of-type {\n",
       "        vertical-align: middle;\n",
       "    }\n",
       "\n",
       "    .dataframe tbody tr th {\n",
       "        vertical-align: top;\n",
       "    }\n",
       "\n",
       "    .dataframe thead th {\n",
       "        text-align: right;\n",
       "    }\n",
       "</style>\n",
       "<table border=\"1\" class=\"dataframe\">\n",
       "  <thead>\n",
       "    <tr style=\"text-align: right;\">\n",
       "      <th></th>\n",
       "      <th>Variable</th>\n",
       "      <th>Value</th>\n",
       "      <th>All</th>\n",
       "      <th>Bad</th>\n",
       "      <th>Share</th>\n",
       "      <th>Bad Rate</th>\n",
       "      <th>Distribution Good</th>\n",
       "      <th>Distribution Bad</th>\n",
       "      <th>WoE</th>\n",
       "      <th>IV</th>\n",
       "    </tr>\n",
       "  </thead>\n",
       "  <tbody>\n",
       "    <tr>\n",
       "      <th>0</th>\n",
       "      <td>checkingstatus</td>\n",
       "      <td>A11</td>\n",
       "      <td>274</td>\n",
       "      <td>135</td>\n",
       "      <td>0.274</td>\n",
       "      <td>0.492701</td>\n",
       "      <td>0.198571</td>\n",
       "      <td>0.450000</td>\n",
       "      <td>-0.818099</td>\n",
       "      <td>0.205693</td>\n",
       "    </tr>\n",
       "    <tr>\n",
       "      <th>1</th>\n",
       "      <td>checkingstatus</td>\n",
       "      <td>A12</td>\n",
       "      <td>269</td>\n",
       "      <td>105</td>\n",
       "      <td>0.269</td>\n",
       "      <td>0.390335</td>\n",
       "      <td>0.234286</td>\n",
       "      <td>0.350000</td>\n",
       "      <td>-0.401392</td>\n",
       "      <td>0.046447</td>\n",
       "    </tr>\n",
       "    <tr>\n",
       "      <th>3</th>\n",
       "      <td>checkingstatus</td>\n",
       "      <td>A13</td>\n",
       "      <td>63</td>\n",
       "      <td>14</td>\n",
       "      <td>0.063</td>\n",
       "      <td>0.222222</td>\n",
       "      <td>0.070000</td>\n",
       "      <td>0.046667</td>\n",
       "      <td>0.405465</td>\n",
       "      <td>0.009461</td>\n",
       "    </tr>\n",
       "    <tr>\n",
       "      <th>2</th>\n",
       "      <td>checkingstatus</td>\n",
       "      <td>A14</td>\n",
       "      <td>394</td>\n",
       "      <td>46</td>\n",
       "      <td>0.394</td>\n",
       "      <td>0.116751</td>\n",
       "      <td>0.497143</td>\n",
       "      <td>0.153333</td>\n",
       "      <td>1.176263</td>\n",
       "      <td>0.404410</td>\n",
       "    </tr>\n",
       "  </tbody>\n",
       "</table>\n",
       "</div>"
      ],
      "text/plain": [
       "         Variable Value  All  Bad  Share  Bad Rate  Distribution Good  \\\n",
       "0  checkingstatus   A11  274  135  0.274  0.492701           0.198571   \n",
       "1  checkingstatus   A12  269  105  0.269  0.390335           0.234286   \n",
       "3  checkingstatus   A13   63   14  0.063  0.222222           0.070000   \n",
       "2  checkingstatus   A14  394   46  0.394  0.116751           0.497143   \n",
       "\n",
       "   Distribution Bad       WoE        IV  \n",
       "0          0.450000 -0.818099  0.205693  \n",
       "1          0.350000 -0.401392  0.046447  \n",
       "3          0.046667  0.405465  0.009461  \n",
       "2          0.153333  1.176263  0.404410  "
      ]
     },
     "execution_count": 15,
     "metadata": {},
     "output_type": "execute_result"
    }
   ],
   "source": [
    "zen[0]"
   ]
  },
  {
   "cell_type": "code",
   "execution_count": 16,
   "metadata": {},
   "outputs": [],
   "source": [
    "# Transform input data into the required format\n",
    "df = test_data_main.groupby('ratings').agg({'predicted_pd': \"mean\", 'default_flag': [\"count\", \"sum\", \"mean\"]})\n",
    "df.columns = [\"PD\", \"N\", \"D\", \"Default Rate\"]\n",
    "\n",
    "realised_values = df[\"Default Rate\"]\n",
    "predicted_values = df[\"PD\"]\n",
    "\n",
    "# Calculate mean squared error\n",
    "errors = realised_values - predicted_values\n",
    "mse = (errors**2).sum() / len(errors)\n",
    "\n",
    "# # Calculate null expectation and variance of MSE\n",
    "expectations = sum(predicted_values * (1 - predicted_values)) / len(realised_values)\n",
    "variances = sum(predicted_values * (1 - 2 * predicted_values)**2 * (1 - predicted_values)) / len(realised_values)**2\n",
    "\n",
    "# Calculate standardized statistic\n",
    "z_score = (mse - expectations) / np.sqrt(variances)  # todo: check formula\n",
    "\n",
    "# Calculate standardized MSE as test statistic, then its p-value\n",
    "outcome = z_score > norm.ppf(1 - 0.05/2)"
   ]
  },
  {
   "cell_type": "code",
   "execution_count": 17,
   "metadata": {},
   "outputs": [
    {
     "data": {
      "text/plain": [
       "ratings\n",
       "A    0.032039\n",
       "B   -0.014107\n",
       "C   -0.008000\n",
       "dtype: float64"
      ]
     },
     "execution_count": 17,
     "metadata": {},
     "output_type": "execute_result"
    }
   ],
   "source": [
    "errors"
   ]
  },
  {
   "cell_type": "code",
   "execution_count": 18,
   "metadata": {},
   "outputs": [
    {
     "data": {
      "text/plain": [
       "0.00042983616659724496"
      ]
     },
     "execution_count": 18,
     "metadata": {},
     "output_type": "execute_result"
    }
   ],
   "source": [
    "mse"
   ]
  },
  {
   "cell_type": "code",
   "execution_count": 19,
   "metadata": {},
   "outputs": [
    {
     "data": {
      "text/plain": [
       "1.959963984540054"
      ]
     },
     "execution_count": 19,
     "metadata": {},
     "output_type": "execute_result"
    }
   ],
   "source": [
    "norm.ppf(1 - 0.05/2)"
   ]
  },
  {
   "cell_type": "code",
   "execution_count": 20,
   "metadata": {},
   "outputs": [
    {
     "data": {
      "text/html": [
       "<div>\n",
       "<style scoped>\n",
       "    .dataframe tbody tr th:only-of-type {\n",
       "        vertical-align: middle;\n",
       "    }\n",
       "\n",
       "    .dataframe tbody tr th {\n",
       "        vertical-align: top;\n",
       "    }\n",
       "\n",
       "    .dataframe thead th {\n",
       "        text-align: right;\n",
       "    }\n",
       "</style>\n",
       "<table border=\"1\" class=\"dataframe\">\n",
       "  <thead>\n",
       "    <tr style=\"text-align: right;\">\n",
       "      <th></th>\n",
       "      <th>facility</th>\n",
       "      <th>predicted_lgd</th>\n",
       "      <th>realised_lgd</th>\n",
       "      <th>segment</th>\n",
       "    </tr>\n",
       "  </thead>\n",
       "  <tbody>\n",
       "    <tr>\n",
       "      <th>0</th>\n",
       "      <td>1</td>\n",
       "      <td>0.74</td>\n",
       "      <td>0.75</td>\n",
       "      <td>7</td>\n",
       "    </tr>\n",
       "    <tr>\n",
       "      <th>1</th>\n",
       "      <td>2</td>\n",
       "      <td>0.30</td>\n",
       "      <td>0.39</td>\n",
       "      <td>3</td>\n",
       "    </tr>\n",
       "    <tr>\n",
       "      <th>2</th>\n",
       "      <td>3</td>\n",
       "      <td>0.76</td>\n",
       "      <td>0.67</td>\n",
       "      <td>7</td>\n",
       "    </tr>\n",
       "    <tr>\n",
       "      <th>3</th>\n",
       "      <td>4</td>\n",
       "      <td>0.64</td>\n",
       "      <td>0.66</td>\n",
       "      <td>6</td>\n",
       "    </tr>\n",
       "    <tr>\n",
       "      <th>4</th>\n",
       "      <td>5</td>\n",
       "      <td>0.41</td>\n",
       "      <td>0.43</td>\n",
       "      <td>4</td>\n",
       "    </tr>\n",
       "  </tbody>\n",
       "</table>\n",
       "</div>"
      ],
      "text/plain": [
       "   facility  predicted_lgd  realised_lgd  segment\n",
       "0         1           0.74          0.75        7\n",
       "1         2           0.30          0.39        3\n",
       "2         3           0.76          0.67        7\n",
       "3         4           0.64          0.66        6\n",
       "4         5           0.41          0.43        4"
      ]
     },
     "execution_count": 20,
     "metadata": {},
     "output_type": "execute_result"
    }
   ],
   "source": [
    "# LGD t test\n",
    "lgd_t_test.head()"
   ]
  },
  {
   "cell_type": "code",
   "execution_count": 21,
   "metadata": {},
   "outputs": [
    {
     "data": {
      "text/html": [
       "<div>\n",
       "<style scoped>\n",
       "    .dataframe tbody tr th:only-of-type {\n",
       "        vertical-align: middle;\n",
       "    }\n",
       "\n",
       "    .dataframe tbody tr th {\n",
       "        vertical-align: top;\n",
       "    }\n",
       "\n",
       "    .dataframe thead th {\n",
       "        text-align: right;\n",
       "    }\n",
       "</style>\n",
       "<table border=\"1\" class=\"dataframe\">\n",
       "  <thead>\n",
       "    <tr style=\"text-align: right;\">\n",
       "      <th></th>\n",
       "      <th>segment</th>\n",
       "      <th>N</th>\n",
       "      <th>realised_lgd_mean</th>\n",
       "      <th>pred_lgd_mean</th>\n",
       "      <th>s2</th>\n",
       "      <th>mean_error</th>\n",
       "      <th>t_stat</th>\n",
       "      <th>p_value</th>\n",
       "    </tr>\n",
       "  </thead>\n",
       "  <tbody>\n",
       "    <tr>\n",
       "      <th>8</th>\n",
       "      <td>0</td>\n",
       "      <td>110</td>\n",
       "      <td>0.043636</td>\n",
       "      <td>0.052545</td>\n",
       "      <td>0.002560</td>\n",
       "      <td>-0.008909</td>\n",
       "      <td>-1.846661</td>\n",
       "      <td>0.966245</td>\n",
       "    </tr>\n",
       "    <tr>\n",
       "      <th>6</th>\n",
       "      <td>1</td>\n",
       "      <td>89</td>\n",
       "      <td>0.147079</td>\n",
       "      <td>0.158652</td>\n",
       "      <td>0.003443</td>\n",
       "      <td>-0.011573</td>\n",
       "      <td>-1.860702</td>\n",
       "      <td>0.966937</td>\n",
       "    </tr>\n",
       "    <tr>\n",
       "      <th>9</th>\n",
       "      <td>2</td>\n",
       "      <td>95</td>\n",
       "      <td>0.245263</td>\n",
       "      <td>0.238211</td>\n",
       "      <td>0.003032</td>\n",
       "      <td>0.007053</td>\n",
       "      <td>1.248457</td>\n",
       "      <td>0.107482</td>\n",
       "    </tr>\n",
       "    <tr>\n",
       "      <th>1</th>\n",
       "      <td>3</td>\n",
       "      <td>99</td>\n",
       "      <td>0.341111</td>\n",
       "      <td>0.337273</td>\n",
       "      <td>0.003748</td>\n",
       "      <td>0.003838</td>\n",
       "      <td>0.623798</td>\n",
       "      <td>0.267105</td>\n",
       "    </tr>\n",
       "    <tr>\n",
       "      <th>3</th>\n",
       "      <td>4</td>\n",
       "      <td>106</td>\n",
       "      <td>0.448774</td>\n",
       "      <td>0.450189</td>\n",
       "      <td>0.003056</td>\n",
       "      <td>-0.001415</td>\n",
       "      <td>-0.263546</td>\n",
       "      <td>0.603677</td>\n",
       "    </tr>\n",
       "    <tr>\n",
       "      <th>7</th>\n",
       "      <td>5</td>\n",
       "      <td>112</td>\n",
       "      <td>0.545357</td>\n",
       "      <td>0.549821</td>\n",
       "      <td>0.003695</td>\n",
       "      <td>-0.004464</td>\n",
       "      <td>-0.777216</td>\n",
       "      <td>0.780658</td>\n",
       "    </tr>\n",
       "    <tr>\n",
       "      <th>2</th>\n",
       "      <td>6</td>\n",
       "      <td>95</td>\n",
       "      <td>0.640526</td>\n",
       "      <td>0.635053</td>\n",
       "      <td>0.003565</td>\n",
       "      <td>0.005474</td>\n",
       "      <td>0.893477</td>\n",
       "      <td>0.186942</td>\n",
       "    </tr>\n",
       "    <tr>\n",
       "      <th>0</th>\n",
       "      <td>7</td>\n",
       "      <td>87</td>\n",
       "      <td>0.745172</td>\n",
       "      <td>0.737356</td>\n",
       "      <td>0.003182</td>\n",
       "      <td>0.007816</td>\n",
       "      <td>1.292329</td>\n",
       "      <td>0.099853</td>\n",
       "    </tr>\n",
       "    <tr>\n",
       "      <th>5</th>\n",
       "      <td>8</td>\n",
       "      <td>105</td>\n",
       "      <td>0.842000</td>\n",
       "      <td>0.843048</td>\n",
       "      <td>0.003442</td>\n",
       "      <td>-0.001048</td>\n",
       "      <td>-0.182971</td>\n",
       "      <td>0.572412</td>\n",
       "    </tr>\n",
       "    <tr>\n",
       "      <th>4</th>\n",
       "      <td>9</td>\n",
       "      <td>102</td>\n",
       "      <td>0.943529</td>\n",
       "      <td>0.932647</td>\n",
       "      <td>0.003002</td>\n",
       "      <td>0.010882</td>\n",
       "      <td>2.005877</td>\n",
       "      <td>0.023772</td>\n",
       "    </tr>\n",
       "  </tbody>\n",
       "</table>\n",
       "</div>"
      ],
      "text/plain": [
       "   segment    N  realised_lgd_mean  pred_lgd_mean        s2  mean_error  \\\n",
       "8        0  110           0.043636       0.052545  0.002560   -0.008909   \n",
       "6        1   89           0.147079       0.158652  0.003443   -0.011573   \n",
       "9        2   95           0.245263       0.238211  0.003032    0.007053   \n",
       "1        3   99           0.341111       0.337273  0.003748    0.003838   \n",
       "3        4  106           0.448774       0.450189  0.003056   -0.001415   \n",
       "7        5  112           0.545357       0.549821  0.003695   -0.004464   \n",
       "2        6   95           0.640526       0.635053  0.003565    0.005474   \n",
       "0        7   87           0.745172       0.737356  0.003182    0.007816   \n",
       "5        8  105           0.842000       0.843048  0.003442   -0.001048   \n",
       "4        9  102           0.943529       0.932647  0.003002    0.010882   \n",
       "\n",
       "     t_stat   p_value  \n",
       "8 -1.846661  0.966245  \n",
       "6 -1.860702  0.966937  \n",
       "9  1.248457  0.107482  \n",
       "1  0.623798  0.267105  \n",
       "3 -0.263546  0.603677  \n",
       "7 -0.777216  0.780658  \n",
       "2  0.893477  0.186942  \n",
       "0  1.292329  0.099853  \n",
       "5 -0.182971  0.572412  \n",
       "4  2.005877  0.023772  "
      ]
     },
     "execution_count": 21,
     "metadata": {},
     "output_type": "execute_result"
    }
   ],
   "source": [
    "df = vt.lgd_t_test(lgd_t_test, \n",
    "                                'predicted_lgd', \n",
    "                                'realised_lgd',\n",
    "                                level=\"segment\",\n",
    "                                segment_col='segment'\n",
    "                               ).sort_values(by='segment')\n",
    "df"
   ]
  },
  {
   "cell_type": "code",
   "execution_count": 22,
   "metadata": {},
   "outputs": [
    {
     "data": {
      "text/plain": [
       "4.575081449451153"
      ]
     },
     "execution_count": 22,
     "metadata": {},
     "output_type": "execute_result"
    }
   ],
   "source": [
    "df['p_value'].sum()"
   ]
  },
  {
   "cell_type": "code",
   "execution_count": 23,
   "metadata": {},
   "outputs": [
    {
     "data": {
      "text/plain": [
       "(0.43581081081081086, 0.8108108108108109)"
      ]
     },
     "execution_count": 23,
     "metadata": {},
     "output_type": "execute_result"
    }
   ],
   "source": [
    "# Migration matrix stats\n",
    "vt.migration_matrices_statistics(pd_transition_matrix, 'period_1_ratings', 'period_2_ratings')"
   ]
  },
  {
   "cell_type": "code",
   "execution_count": 24,
   "metadata": {},
   "outputs": [
    {
     "data": {
      "text/plain": [
       "0.106"
      ]
     },
     "execution_count": 24,
     "metadata": {},
     "output_type": "execute_result"
    }
   ],
   "source": [
    "# Bayesian error rate\n",
    "vt.bayesian_error_rate(test_data_main, \"default_flag\", \"predicted_pd\")"
   ]
  },
  {
   "cell_type": "code",
   "execution_count": 25,
   "metadata": {},
   "outputs": [
    {
     "data": {
      "text/plain": [
       "0.024548595310375846"
      ]
     },
     "execution_count": 25,
     "metadata": {},
     "output_type": "execute_result"
    }
   ],
   "source": [
    "# cier\n",
    "vt.cier(pd_calibration, \"rating\", \"realised_pd\", \"count\")"
   ]
  },
  {
   "cell_type": "code",
   "execution_count": 27,
   "metadata": {},
   "outputs": [
    {
     "data": {
      "text/plain": [
       "0.006240325352140225"
      ]
     },
     "execution_count": 27,
     "metadata": {},
     "output_type": "execute_result"
    }
   ],
   "source": [
    "# kullback_leibler_dist\n",
    "vt.kullback_leibler_dist(pd_calibration, \"rating\", \"realised_pd\", \"count\")"
   ]
  },
  {
   "cell_type": "code",
   "execution_count": null,
   "metadata": {},
   "outputs": [],
   "source": [
    "# test Gini\n",
    "vt.gini(pd_calibration, \"rating\", \"realised_pd\", \"count\")"
   ]
  },
  {
   "cell_type": "code",
   "execution_count": null,
   "metadata": {},
   "outputs": [],
   "source": [
    "# KS\n",
    "vt.ks_test(pd_calibration, \"rating\", \"realised_pd\", \"count\")"
   ]
  },
  {
   "cell_type": "code",
   "execution_count": null,
   "metadata": {},
   "outputs": [],
   "source": [
    "# Herfhindahl multiple period\n",
    "vt.herfindahl_multiple_period_test(pd_calibration, \"rating\", \"realised_pd\", \"count\")"
   ]
  },
  {
   "cell_type": "code",
   "execution_count": null,
   "metadata": {},
   "outputs": [],
   "source": [
    "# Loss Capture Ratio\n",
    "vt.loss_capture_ratio(pd_calibration, \"rating\", \"realised_pd\", \"count\")"
   ]
  },
  {
   "cell_type": "code",
   "execution_count": null,
   "metadata": {},
   "outputs": [],
   "source": [
    "# Migration Matrix Stability\n",
    "vt.migration_matrix_stability(pd_calibration, \"rating\", \"realised_pd\", \"count\")"
   ]
  },
  {
   "cell_type": "code",
   "execution_count": null,
   "metadata": {},
   "outputs": [],
   "source": [
    "# Pearson correlation\n",
    "vt.pearson_corr(pd_calibration, \"rating\", \"realised_pd\", \"count\")"
   ]
  },
  {
   "cell_type": "code",
   "execution_count": null,
   "metadata": {},
   "outputs": [],
   "source": [
    "# ELBE t test\n",
    "vt.elbe_t_test(pd_calibration, \"rating\", \"realised_pd\", \"count\")"
   ]
  },
  {
   "cell_type": "code",
   "execution_count": null,
   "metadata": {},
   "outputs": [],
   "source": [
    "# Kullback-Leibler\n",
    "vt.kullback_leibler_dist(pd_calibration, \"rating\", \"realised_pd\", \"count\")"
   ]
  },
  {
   "cell_type": "code",
   "execution_count": null,
   "metadata": {},
   "outputs": [],
   "source": [
    "# Loss Shortfall\n",
    "vt.loss_shortfall(pd_calibration, \"rating\", \"realised_pd\", \"count\")"
   ]
  },
  {
   "cell_type": "code",
   "execution_count": null,
   "metadata": {},
   "outputs": [],
   "source": [
    "# Mean Absolute Deviation\n",
    "vt.mean_absolute_deviation(pd_calibration, \"rating\", \"realised_pd\", \"count\")"
   ]
  },
  {
   "cell_type": "code",
   "execution_count": null,
   "metadata": {},
   "outputs": [],
   "source": [
    "# Normal test\n",
    "vt.normal_test(pd_calibration, \"rating\", \"realised_pd\", \"count\")"
   ]
  },
  {
   "cell_type": "code",
   "execution_count": null,
   "metadata": {},
   "outputs": [],
   "source": []
  },
  {
   "cell_type": "markdown",
   "metadata": {},
   "source": [
    "#### Relevant links\n",
    "- https://machinelearningmastery.com/divergence-between-probability-distributions/\n",
    "- https://medium.com/@monadsblog/the-kullback-leibler-divergence-5071c707a4a6\n",
    "- https://documentation.sas.com/doc/en/pgmsascdc/v_011/statug/statug_code_logiex19.htm"
   ]
  }
 ],
 "metadata": {
  "kernelspec": {
   "display_name": "Python 3 (ipykernel)",
   "language": "python",
   "name": "python3"
  },
  "language_info": {
   "codemirror_mode": {
    "name": "ipython",
    "version": 3
   },
   "file_extension": ".py",
   "mimetype": "text/x-python",
   "name": "python",
   "nbconvert_exporter": "python",
   "pygments_lexer": "ipython3",
   "version": "3.9.7"
  },
  "vscode": {
   "interpreter": {
    "hash": "eabca979b0553fa6d87e9a00c352604d3b703d4afc9641643dd42376492b80f6"
   }
  }
 },
 "nbformat": 4,
 "nbformat_minor": 4
}
