{
 "cells": [
  {
   "cell_type": "markdown",
   "metadata": {},
   "source": [
    "## Examples of usage"
   ]
  },
  {
   "cell_type": "code",
   "execution_count": 1,
   "metadata": {},
   "outputs": [],
   "source": [
    "import numpy as np\n",
    "import random\n",
    "import pandas as pd\n",
    "import meliora.src.meliora.core as vt\n",
    "from scipy.stats import norm"
   ]
  },
  {
   "cell_type": "code",
   "execution_count": 2,
   "metadata": {},
   "outputs": [],
   "source": [
    "# Import data\n",
    "test_data_main = pd.read_csv('../data/pd_test_data_main.csv')\n",
    "test_data_add = pd.read_csv('../data/pd_test_data_period_2.csv')\n",
    "pd_test_data = pd.read_csv('../data/pd_test_data_main.csv')\n",
    "test_pd_psi = pd.read_csv('../data/pd_bellini.csv')\n",
    "german_data = pd.read_csv('../data/german_data.csv')\n",
    "lgd_t_test = pd.read_csv('../data/lgd_t_test.csv')\n",
    "pd_transition_matrix = pd.read_csv('../data/pd_transition_matrix.csv')\n",
    "pd_calibration = pd.read_csv('../data/pd_calibration.csv')\n",
    "lgd_dataset = pd.read_csv('../data/lgd_dataset.csv')"
   ]
  },
  {
   "cell_type": "code",
   "execution_count": 39,
   "metadata": {},
   "outputs": [
    {
     "data": {
      "text/html": [
       "<div>\n",
       "<style scoped>\n",
       "    .dataframe tbody tr th:only-of-type {\n",
       "        vertical-align: middle;\n",
       "    }\n",
       "\n",
       "    .dataframe tbody tr th {\n",
       "        vertical-align: top;\n",
       "    }\n",
       "\n",
       "    .dataframe thead th {\n",
       "        text-align: right;\n",
       "    }\n",
       "</style>\n",
       "<table border=\"1\" class=\"dataframe\">\n",
       "  <thead>\n",
       "    <tr style=\"text-align: right;\">\n",
       "      <th></th>\n",
       "      <th>facility</th>\n",
       "      <th>predicted_lgd</th>\n",
       "      <th>realised_lgd</th>\n",
       "      <th>segment</th>\n",
       "      <th>ead</th>\n",
       "    </tr>\n",
       "  </thead>\n",
       "  <tbody>\n",
       "    <tr>\n",
       "      <th>0</th>\n",
       "      <td>1</td>\n",
       "      <td>0.80</td>\n",
       "      <td>0.83</td>\n",
       "      <td>8</td>\n",
       "      <td>5860</td>\n",
       "    </tr>\n",
       "    <tr>\n",
       "      <th>1</th>\n",
       "      <td>2</td>\n",
       "      <td>0.75</td>\n",
       "      <td>0.81</td>\n",
       "      <td>7</td>\n",
       "      <td>6653</td>\n",
       "    </tr>\n",
       "    <tr>\n",
       "      <th>2</th>\n",
       "      <td>3</td>\n",
       "      <td>0.42</td>\n",
       "      <td>0.45</td>\n",
       "      <td>4</td>\n",
       "      <td>3192</td>\n",
       "    </tr>\n",
       "    <tr>\n",
       "      <th>3</th>\n",
       "      <td>4</td>\n",
       "      <td>0.99</td>\n",
       "      <td>1.00</td>\n",
       "      <td>9</td>\n",
       "      <td>7322</td>\n",
       "    </tr>\n",
       "    <tr>\n",
       "      <th>4</th>\n",
       "      <td>5</td>\n",
       "      <td>0.90</td>\n",
       "      <td>0.86</td>\n",
       "      <td>9</td>\n",
       "      <td>5513</td>\n",
       "    </tr>\n",
       "  </tbody>\n",
       "</table>\n",
       "</div>"
      ],
      "text/plain": [
       "   facility  predicted_lgd  realised_lgd  segment   ead\n",
       "0         1           0.80          0.83        8  5860\n",
       "1         2           0.75          0.81        7  6653\n",
       "2         3           0.42          0.45        4  3192\n",
       "3         4           0.99          1.00        9  7322\n",
       "4         5           0.90          0.86        9  5513"
      ]
     },
     "execution_count": 39,
     "metadata": {},
     "output_type": "execute_result"
    }
   ],
   "source": [
    "lgd_t_test.head()"
   ]
  },
  {
   "cell_type": "code",
   "execution_count": 3,
   "metadata": {},
   "outputs": [
    {
     "data": {
      "text/html": [
       "<div>\n",
       "<style scoped>\n",
       "    .dataframe tbody tr th:only-of-type {\n",
       "        vertical-align: middle;\n",
       "    }\n",
       "\n",
       "    .dataframe tbody tr th {\n",
       "        vertical-align: top;\n",
       "    }\n",
       "\n",
       "    .dataframe thead th {\n",
       "        text-align: right;\n",
       "    }\n",
       "</style>\n",
       "<table border=\"1\" class=\"dataframe\">\n",
       "  <thead>\n",
       "    <tr style=\"text-align: right;\">\n",
       "      <th></th>\n",
       "      <th>realised_outcome</th>\n",
       "      <th>predicted_outcome</th>\n",
       "    </tr>\n",
       "  </thead>\n",
       "  <tbody>\n",
       "    <tr>\n",
       "      <th>0</th>\n",
       "      <td>1</td>\n",
       "      <td>3</td>\n",
       "    </tr>\n",
       "    <tr>\n",
       "      <th>1</th>\n",
       "      <td>1</td>\n",
       "      <td>3</td>\n",
       "    </tr>\n",
       "    <tr>\n",
       "      <th>2</th>\n",
       "      <td>1</td>\n",
       "      <td>3</td>\n",
       "    </tr>\n",
       "    <tr>\n",
       "      <th>3</th>\n",
       "      <td>2</td>\n",
       "      <td>2</td>\n",
       "    </tr>\n",
       "    <tr>\n",
       "      <th>4</th>\n",
       "      <td>2</td>\n",
       "      <td>2</td>\n",
       "    </tr>\n",
       "  </tbody>\n",
       "</table>\n",
       "</div>"
      ],
      "text/plain": [
       "   realised_outcome  predicted_outcome\n",
       "0                 1                  3\n",
       "1                 1                  3\n",
       "2                 1                  3\n",
       "3                 2                  2\n",
       "4                 2                  2"
      ]
     },
     "execution_count": 3,
     "metadata": {},
     "output_type": "execute_result"
    }
   ],
   "source": [
    "lgd_dataset.head()"
   ]
  },
  {
   "cell_type": "code",
   "execution_count": 4,
   "metadata": {},
   "outputs": [
    {
     "data": {
      "text/html": [
       "<div>\n",
       "<style scoped>\n",
       "    .dataframe tbody tr th:only-of-type {\n",
       "        vertical-align: middle;\n",
       "    }\n",
       "\n",
       "    .dataframe tbody tr th {\n",
       "        vertical-align: top;\n",
       "    }\n",
       "\n",
       "    .dataframe thead th {\n",
       "        text-align: right;\n",
       "    }\n",
       "</style>\n",
       "<table border=\"1\" class=\"dataframe\">\n",
       "  <thead>\n",
       "    <tr style=\"text-align: right;\">\n",
       "      <th></th>\n",
       "      <th>period_1_ratings</th>\n",
       "      <th>period_2_ratings</th>\n",
       "    </tr>\n",
       "  </thead>\n",
       "  <tbody>\n",
       "    <tr>\n",
       "      <th>0</th>\n",
       "      <td>6</td>\n",
       "      <td>4</td>\n",
       "    </tr>\n",
       "    <tr>\n",
       "      <th>1</th>\n",
       "      <td>6</td>\n",
       "      <td>5</td>\n",
       "    </tr>\n",
       "    <tr>\n",
       "      <th>2</th>\n",
       "      <td>3</td>\n",
       "      <td>2</td>\n",
       "    </tr>\n",
       "    <tr>\n",
       "      <th>3</th>\n",
       "      <td>5</td>\n",
       "      <td>2</td>\n",
       "    </tr>\n",
       "    <tr>\n",
       "      <th>4</th>\n",
       "      <td>7</td>\n",
       "      <td>8</td>\n",
       "    </tr>\n",
       "  </tbody>\n",
       "</table>\n",
       "</div>"
      ],
      "text/plain": [
       "   period_1_ratings  period_2_ratings\n",
       "0                 6                 4\n",
       "1                 6                 5\n",
       "2                 3                 2\n",
       "3                 5                 2\n",
       "4                 7                 8"
      ]
     },
     "execution_count": 4,
     "metadata": {},
     "output_type": "execute_result"
    }
   ],
   "source": [
    "pd_transition_matrix.head()"
   ]
  },
  {
   "cell_type": "code",
   "execution_count": 5,
   "metadata": {},
   "outputs": [
    {
     "data": {
      "text/html": [
       "<div>\n",
       "<style scoped>\n",
       "    .dataframe tbody tr th:only-of-type {\n",
       "        vertical-align: middle;\n",
       "    }\n",
       "\n",
       "    .dataframe tbody tr th {\n",
       "        vertical-align: top;\n",
       "    }\n",
       "\n",
       "    .dataframe thead th {\n",
       "        text-align: right;\n",
       "    }\n",
       "</style>\n",
       "<table border=\"1\" class=\"dataframe\">\n",
       "  <thead>\n",
       "    <tr style=\"text-align: right;\">\n",
       "      <th></th>\n",
       "      <th>Rating class</th>\n",
       "      <th>Predicted PD</th>\n",
       "      <th>Total count</th>\n",
       "      <th>Defaults</th>\n",
       "      <th>Actual Default Rate</th>\n",
       "      <th>p_value</th>\n",
       "      <th>Reject H0</th>\n",
       "    </tr>\n",
       "  </thead>\n",
       "  <tbody>\n",
       "    <tr>\n",
       "      <th>0</th>\n",
       "      <td>A</td>\n",
       "      <td>0.103429</td>\n",
       "      <td>406</td>\n",
       "      <td>55</td>\n",
       "      <td>0.135468</td>\n",
       "      <td>0.023892</td>\n",
       "      <td>True</td>\n",
       "    </tr>\n",
       "    <tr>\n",
       "      <th>1</th>\n",
       "      <td>B</td>\n",
       "      <td>0.099524</td>\n",
       "      <td>480</td>\n",
       "      <td>41</td>\n",
       "      <td>0.085417</td>\n",
       "      <td>0.867441</td>\n",
       "      <td>False</td>\n",
       "    </tr>\n",
       "    <tr>\n",
       "      <th>2</th>\n",
       "      <td>C</td>\n",
       "      <td>0.095719</td>\n",
       "      <td>114</td>\n",
       "      <td>10</td>\n",
       "      <td>0.087719</td>\n",
       "      <td>0.660553</td>\n",
       "      <td>False</td>\n",
       "    </tr>\n",
       "  </tbody>\n",
       "</table>\n",
       "</div>"
      ],
      "text/plain": [
       "  Rating class  Predicted PD  Total count  Defaults  Actual Default Rate  \\\n",
       "0            A      0.103429          406        55             0.135468   \n",
       "1            B      0.099524          480        41             0.085417   \n",
       "2            C      0.095719          114        10             0.087719   \n",
       "\n",
       "    p_value  Reject H0  \n",
       "0  0.023892       True  \n",
       "1  0.867441      False  \n",
       "2  0.660553      False  "
      ]
     },
     "execution_count": 5,
     "metadata": {},
     "output_type": "execute_result"
    }
   ],
   "source": [
    "# Binomial test\n",
    "vt.binomial_test(test_data_main, \"ratings\", \"default_flag\", \"predicted_pd\")"
   ]
  },
  {
   "cell_type": "code",
   "execution_count": 6,
   "metadata": {},
   "outputs": [
    {
     "data": {
      "text/html": [
       "<div>\n",
       "<style scoped>\n",
       "    .dataframe tbody tr th:only-of-type {\n",
       "        vertical-align: middle;\n",
       "    }\n",
       "\n",
       "    .dataframe tbody tr th {\n",
       "        vertical-align: top;\n",
       "    }\n",
       "\n",
       "    .dataframe thead th {\n",
       "        text-align: right;\n",
       "    }\n",
       "</style>\n",
       "<table border=\"1\" class=\"dataframe\">\n",
       "  <thead>\n",
       "    <tr style=\"text-align: right;\">\n",
       "      <th></th>\n",
       "      <th>Rating class</th>\n",
       "      <th>Predicted PD</th>\n",
       "      <th>Total count</th>\n",
       "      <th>Defaults</th>\n",
       "      <th>Actual Default Rate</th>\n",
       "      <th>p_value</th>\n",
       "      <th>Reject H0</th>\n",
       "    </tr>\n",
       "  </thead>\n",
       "  <tbody>\n",
       "    <tr>\n",
       "      <th>0</th>\n",
       "      <td>A</td>\n",
       "      <td>0.103429</td>\n",
       "      <td>406</td>\n",
       "      <td>55</td>\n",
       "      <td>0.135468</td>\n",
       "      <td>0.019959</td>\n",
       "      <td>True</td>\n",
       "    </tr>\n",
       "    <tr>\n",
       "      <th>1</th>\n",
       "      <td>B</td>\n",
       "      <td>0.099524</td>\n",
       "      <td>480</td>\n",
       "      <td>41</td>\n",
       "      <td>0.085417</td>\n",
       "      <td>0.849552</td>\n",
       "      <td>False</td>\n",
       "    </tr>\n",
       "    <tr>\n",
       "      <th>2</th>\n",
       "      <td>C</td>\n",
       "      <td>0.095719</td>\n",
       "      <td>114</td>\n",
       "      <td>10</td>\n",
       "      <td>0.087719</td>\n",
       "      <td>0.598649</td>\n",
       "      <td>False</td>\n",
       "    </tr>\n",
       "  </tbody>\n",
       "</table>\n",
       "</div>"
      ],
      "text/plain": [
       "  Rating class  Predicted PD  Total count  Defaults  Actual Default Rate  \\\n",
       "0            A      0.103429          406        55             0.135468   \n",
       "1            B      0.099524          480        41             0.085417   \n",
       "2            C      0.095719          114        10             0.087719   \n",
       "\n",
       "    p_value  Reject H0  \n",
       "0  0.019959       True  \n",
       "1  0.849552      False  \n",
       "2  0.598649      False  "
      ]
     },
     "execution_count": 6,
     "metadata": {},
     "output_type": "execute_result"
    }
   ],
   "source": [
    "# Jeffrey's test\n",
    "vt.jeffreys_test(test_data_main, 'ratings', 'default_flag', 'predicted_pd', 0.05)"
   ]
  },
  {
   "cell_type": "code",
   "execution_count": 7,
   "metadata": {},
   "outputs": [
    {
     "data": {
      "text/plain": [
       "0.0012895084997917349"
      ]
     },
     "execution_count": 7,
     "metadata": {},
     "output_type": "execute_result"
    }
   ],
   "source": [
    "# Brier score\n",
    "vt.brier_score(test_data_main, \"ratings\", \"default_flag\", \"predicted_pd\")"
   ]
  },
  {
   "cell_type": "code",
   "execution_count": 8,
   "metadata": {},
   "outputs": [
    {
     "data": {
      "text/plain": [
       "[0.1302500370047408, False]"
      ]
     },
     "execution_count": 8,
     "metadata": {},
     "output_type": "execute_result"
    }
   ],
   "source": [
    "# Hosmer-Lemeshow test\n",
    "vt.hosmer_test(test_data_main, \"ratings\", \"default_flag\", \"predicted_pd\")"
   ]
  },
  {
   "cell_type": "code",
   "execution_count": 9,
   "metadata": {},
   "outputs": [
    {
     "data": {
      "text/plain": [
       "(-0.6637590511485174, False)"
      ]
     },
     "execution_count": 9,
     "metadata": {},
     "output_type": "execute_result"
    }
   ],
   "source": [
    "# Spiegelhalter test\n",
    "vt.spiegelhalter_test(test_data_main, \"ratings\", \"default_flag\", \"predicted_pd\")"
   ]
  },
  {
   "cell_type": "code",
   "execution_count": 10,
   "metadata": {},
   "outputs": [
    {
     "data": {
      "text/plain": [
       "0.5008547549702419"
      ]
     },
     "execution_count": 10,
     "metadata": {},
     "output_type": "execute_result"
    }
   ],
   "source": [
    "# ROC test\n",
    "vt.roc_auc(test_data_main, \"default_flag\", \"predicted_pd\")"
   ]
  },
  {
   "cell_type": "code",
   "execution_count": 11,
   "metadata": {},
   "outputs": [
    {
     "data": {
      "text/plain": [
       "0.8207826816681233"
      ]
     },
     "execution_count": 11,
     "metadata": {},
     "output_type": "execute_result"
    }
   ],
   "source": [
    "# Spearman correlation\n",
    "x = [1,2,3,4,5]\n",
    "y = [5,6,7,8,7]\n",
    "vt.spearman_correlation(x, y).correlation"
   ]
  },
  {
   "cell_type": "code",
   "execution_count": 12,
   "metadata": {},
   "outputs": [
    {
     "data": {
      "text/plain": [
       "SomersDResult(statistic=-0.25, pvalue=0.3613104285261787, table=array([[0, 1],\n",
       "       [1, 3]]))"
      ]
     },
     "execution_count": 12,
     "metadata": {},
     "output_type": "execute_result"
    }
   ],
   "source": [
    "# Somers D\n",
    "x = [0, 1, 1, 1, 1] \n",
    "y = [1, 1, 1, 0, 1]\n",
    "vt.somersd(x, y)"
   ]
  },
  {
   "cell_type": "code",
   "execution_count": 13,
   "metadata": {},
   "outputs": [
    {
     "data": {
      "text/plain": [
       "0.030306509211290782"
      ]
     },
     "execution_count": 13,
     "metadata": {},
     "output_type": "execute_result"
    }
   ],
   "source": [
    "# Kendall tau\n",
    "x = [1, 2, 3, 2, 1, 3, 4, 2, 5, 2, 6, 5, 5]\n",
    "y = [5, 5, 6, 2, 1, 4, 4, 2, 1, 2, 1, 5, 5]\n",
    "\n",
    "tau, pvalue = vt.kendall_tau(x, y)\n",
    "tau"
   ]
  },
  {
   "cell_type": "code",
   "execution_count": 14,
   "metadata": {},
   "outputs": [
    {
     "data": {
      "text/plain": [
       "1.0344129494141174"
      ]
     },
     "execution_count": 14,
     "metadata": {},
     "output_type": "execute_result"
    }
   ],
   "source": [
    "# PSI test\n",
    "test_pd_psi['remaining_mat' + \"_bin\"] = pd.cut(test_pd_psi['remaining_mat'], bins=10, labels=False)\n",
    "test_pd_psi['year_bins'] = np.where(test_pd_psi['vintage_year'] < 2007, 'period_1', 'period_2')\n",
    "\n",
    "# Export data\n",
    "test_pd_psi.to_csv('test_pd_psi.csv', index=False)\n",
    "\n",
    "# Show results\n",
    "kala = vt.population_stability_index(test_pd_psi, 'year_bins', 'remaining_mat_bin')\n",
    "kala[1]"
   ]
  },
  {
   "cell_type": "code",
   "execution_count": 15,
   "metadata": {},
   "outputs": [
    {
     "data": {
      "text/plain": [
       "0.6660115033513336"
      ]
     },
     "execution_count": 15,
     "metadata": {},
     "output_type": "execute_result"
    }
   ],
   "source": [
    "# IV\n",
    "zen = vt.information_value(german_data, 'checkingstatus', 'GoodCredit')\n",
    "\n",
    "zen[1]"
   ]
  },
  {
   "cell_type": "code",
   "execution_count": 16,
   "metadata": {},
   "outputs": [
    {
     "data": {
      "text/html": [
       "<div>\n",
       "<style scoped>\n",
       "    .dataframe tbody tr th:only-of-type {\n",
       "        vertical-align: middle;\n",
       "    }\n",
       "\n",
       "    .dataframe tbody tr th {\n",
       "        vertical-align: top;\n",
       "    }\n",
       "\n",
       "    .dataframe thead th {\n",
       "        text-align: right;\n",
       "    }\n",
       "</style>\n",
       "<table border=\"1\" class=\"dataframe\">\n",
       "  <thead>\n",
       "    <tr style=\"text-align: right;\">\n",
       "      <th></th>\n",
       "      <th>Variable</th>\n",
       "      <th>Value</th>\n",
       "      <th>All</th>\n",
       "      <th>Bad</th>\n",
       "      <th>Share</th>\n",
       "      <th>Bad Rate</th>\n",
       "      <th>Distribution Good</th>\n",
       "      <th>Distribution Bad</th>\n",
       "      <th>WoE</th>\n",
       "      <th>IV</th>\n",
       "    </tr>\n",
       "  </thead>\n",
       "  <tbody>\n",
       "    <tr>\n",
       "      <th>0</th>\n",
       "      <td>checkingstatus</td>\n",
       "      <td>A11</td>\n",
       "      <td>274</td>\n",
       "      <td>135</td>\n",
       "      <td>0.274</td>\n",
       "      <td>0.492701</td>\n",
       "      <td>0.198571</td>\n",
       "      <td>0.450000</td>\n",
       "      <td>-0.818099</td>\n",
       "      <td>0.205693</td>\n",
       "    </tr>\n",
       "    <tr>\n",
       "      <th>1</th>\n",
       "      <td>checkingstatus</td>\n",
       "      <td>A12</td>\n",
       "      <td>269</td>\n",
       "      <td>105</td>\n",
       "      <td>0.269</td>\n",
       "      <td>0.390335</td>\n",
       "      <td>0.234286</td>\n",
       "      <td>0.350000</td>\n",
       "      <td>-0.401392</td>\n",
       "      <td>0.046447</td>\n",
       "    </tr>\n",
       "    <tr>\n",
       "      <th>3</th>\n",
       "      <td>checkingstatus</td>\n",
       "      <td>A13</td>\n",
       "      <td>63</td>\n",
       "      <td>14</td>\n",
       "      <td>0.063</td>\n",
       "      <td>0.222222</td>\n",
       "      <td>0.070000</td>\n",
       "      <td>0.046667</td>\n",
       "      <td>0.405465</td>\n",
       "      <td>0.009461</td>\n",
       "    </tr>\n",
       "    <tr>\n",
       "      <th>2</th>\n",
       "      <td>checkingstatus</td>\n",
       "      <td>A14</td>\n",
       "      <td>394</td>\n",
       "      <td>46</td>\n",
       "      <td>0.394</td>\n",
       "      <td>0.116751</td>\n",
       "      <td>0.497143</td>\n",
       "      <td>0.153333</td>\n",
       "      <td>1.176263</td>\n",
       "      <td>0.404410</td>\n",
       "    </tr>\n",
       "  </tbody>\n",
       "</table>\n",
       "</div>"
      ],
      "text/plain": [
       "         Variable Value  All  Bad  Share  Bad Rate  Distribution Good  \\\n",
       "0  checkingstatus   A11  274  135  0.274  0.492701           0.198571   \n",
       "1  checkingstatus   A12  269  105  0.269  0.390335           0.234286   \n",
       "3  checkingstatus   A13   63   14  0.063  0.222222           0.070000   \n",
       "2  checkingstatus   A14  394   46  0.394  0.116751           0.497143   \n",
       "\n",
       "   Distribution Bad       WoE        IV  \n",
       "0          0.450000 -0.818099  0.205693  \n",
       "1          0.350000 -0.401392  0.046447  \n",
       "3          0.046667  0.405465  0.009461  \n",
       "2          0.153333  1.176263  0.404410  "
      ]
     },
     "execution_count": 16,
     "metadata": {},
     "output_type": "execute_result"
    }
   ],
   "source": [
    "zen[0]"
   ]
  },
  {
   "cell_type": "code",
   "execution_count": 17,
   "metadata": {},
   "outputs": [
    {
     "data": {
      "text/html": [
       "<div>\n",
       "<style scoped>\n",
       "    .dataframe tbody tr th:only-of-type {\n",
       "        vertical-align: middle;\n",
       "    }\n",
       "\n",
       "    .dataframe tbody tr th {\n",
       "        vertical-align: top;\n",
       "    }\n",
       "\n",
       "    .dataframe thead th {\n",
       "        text-align: right;\n",
       "    }\n",
       "</style>\n",
       "<table border=\"1\" class=\"dataframe\">\n",
       "  <thead>\n",
       "    <tr style=\"text-align: right;\">\n",
       "      <th></th>\n",
       "      <th>segment</th>\n",
       "      <th>N</th>\n",
       "      <th>realised_lgd_mean</th>\n",
       "      <th>pred_lgd_mean</th>\n",
       "      <th>s2</th>\n",
       "      <th>mean_error</th>\n",
       "      <th>t_stat</th>\n",
       "      <th>p_value</th>\n",
       "    </tr>\n",
       "  </thead>\n",
       "  <tbody>\n",
       "    <tr>\n",
       "      <th>9</th>\n",
       "      <td>0</td>\n",
       "      <td>92</td>\n",
       "      <td>0.043913</td>\n",
       "      <td>0.052065</td>\n",
       "      <td>0.002571</td>\n",
       "      <td>-0.008152</td>\n",
       "      <td>-1.542031</td>\n",
       "      <td>0.936732</td>\n",
       "    </tr>\n",
       "    <tr>\n",
       "      <th>4</th>\n",
       "      <td>1</td>\n",
       "      <td>91</td>\n",
       "      <td>0.141758</td>\n",
       "      <td>0.144286</td>\n",
       "      <td>0.003266</td>\n",
       "      <td>-0.002527</td>\n",
       "      <td>-0.421905</td>\n",
       "      <td>0.662950</td>\n",
       "    </tr>\n",
       "    <tr>\n",
       "      <th>8</th>\n",
       "      <td>2</td>\n",
       "      <td>103</td>\n",
       "      <td>0.245728</td>\n",
       "      <td>0.232427</td>\n",
       "      <td>0.002932</td>\n",
       "      <td>0.013301</td>\n",
       "      <td>2.492930</td>\n",
       "      <td>0.007139</td>\n",
       "    </tr>\n",
       "    <tr>\n",
       "      <th>7</th>\n",
       "      <td>3</td>\n",
       "      <td>107</td>\n",
       "      <td>0.344673</td>\n",
       "      <td>0.338879</td>\n",
       "      <td>0.003593</td>\n",
       "      <td>0.005794</td>\n",
       "      <td>1.000000</td>\n",
       "      <td>0.159794</td>\n",
       "    </tr>\n",
       "    <tr>\n",
       "      <th>2</th>\n",
       "      <td>4</td>\n",
       "      <td>105</td>\n",
       "      <td>0.448952</td>\n",
       "      <td>0.448190</td>\n",
       "      <td>0.003265</td>\n",
       "      <td>0.000762</td>\n",
       "      <td>0.136637</td>\n",
       "      <td>0.445791</td>\n",
       "    </tr>\n",
       "    <tr>\n",
       "      <th>6</th>\n",
       "      <td>5</td>\n",
       "      <td>97</td>\n",
       "      <td>0.548247</td>\n",
       "      <td>0.548660</td>\n",
       "      <td>0.003404</td>\n",
       "      <td>-0.000412</td>\n",
       "      <td>-0.069611</td>\n",
       "      <td>0.527676</td>\n",
       "    </tr>\n",
       "    <tr>\n",
       "      <th>5</th>\n",
       "      <td>6</td>\n",
       "      <td>114</td>\n",
       "      <td>0.645614</td>\n",
       "      <td>0.634561</td>\n",
       "      <td>0.003372</td>\n",
       "      <td>0.011053</td>\n",
       "      <td>2.032136</td>\n",
       "      <td>0.022243</td>\n",
       "    </tr>\n",
       "    <tr>\n",
       "      <th>1</th>\n",
       "      <td>7</td>\n",
       "      <td>108</td>\n",
       "      <td>0.744815</td>\n",
       "      <td>0.749815</td>\n",
       "      <td>0.003264</td>\n",
       "      <td>-0.005000</td>\n",
       "      <td>-0.909441</td>\n",
       "      <td>0.817419</td>\n",
       "    </tr>\n",
       "    <tr>\n",
       "      <th>0</th>\n",
       "      <td>8</td>\n",
       "      <td>92</td>\n",
       "      <td>0.844348</td>\n",
       "      <td>0.839239</td>\n",
       "      <td>0.003223</td>\n",
       "      <td>0.005109</td>\n",
       "      <td>0.863116</td>\n",
       "      <td>0.195171</td>\n",
       "    </tr>\n",
       "    <tr>\n",
       "      <th>3</th>\n",
       "      <td>9</td>\n",
       "      <td>91</td>\n",
       "      <td>0.946044</td>\n",
       "      <td>0.930110</td>\n",
       "      <td>0.002358</td>\n",
       "      <td>0.015934</td>\n",
       "      <td>3.130404</td>\n",
       "      <td>0.001177</td>\n",
       "    </tr>\n",
       "  </tbody>\n",
       "</table>\n",
       "</div>"
      ],
      "text/plain": [
       "   segment    N  realised_lgd_mean  pred_lgd_mean        s2  mean_error  \\\n",
       "9        0   92           0.043913       0.052065  0.002571   -0.008152   \n",
       "4        1   91           0.141758       0.144286  0.003266   -0.002527   \n",
       "8        2  103           0.245728       0.232427  0.002932    0.013301   \n",
       "7        3  107           0.344673       0.338879  0.003593    0.005794   \n",
       "2        4  105           0.448952       0.448190  0.003265    0.000762   \n",
       "6        5   97           0.548247       0.548660  0.003404   -0.000412   \n",
       "5        6  114           0.645614       0.634561  0.003372    0.011053   \n",
       "1        7  108           0.744815       0.749815  0.003264   -0.005000   \n",
       "0        8   92           0.844348       0.839239  0.003223    0.005109   \n",
       "3        9   91           0.946044       0.930110  0.002358    0.015934   \n",
       "\n",
       "     t_stat   p_value  \n",
       "9 -1.542031  0.936732  \n",
       "4 -0.421905  0.662950  \n",
       "8  2.492930  0.007139  \n",
       "7  1.000000  0.159794  \n",
       "2  0.136637  0.445791  \n",
       "6 -0.069611  0.527676  \n",
       "5  2.032136  0.022243  \n",
       "1 -0.909441  0.817419  \n",
       "0  0.863116  0.195171  \n",
       "3  3.130404  0.001177  "
      ]
     },
     "execution_count": 17,
     "metadata": {},
     "output_type": "execute_result"
    }
   ],
   "source": [
    "# LGD t test\n",
    "df = vt.lgd_t_test(lgd_t_test, \n",
    "                                'predicted_lgd', \n",
    "                                'realised_lgd',\n",
    "                                level=\"segment\",\n",
    "                                segment_col='segment'\n",
    "                               ).sort_values(by='segment')\n",
    "df"
   ]
  },
  {
   "cell_type": "code",
   "execution_count": 40,
   "metadata": {},
   "outputs": [
    {
     "data": {
      "text/plain": [
       "3.7760920875724846"
      ]
     },
     "execution_count": 40,
     "metadata": {},
     "output_type": "execute_result"
    }
   ],
   "source": [
    "df['p_value'].sum()"
   ]
  },
  {
   "cell_type": "code",
   "execution_count": 18,
   "metadata": {},
   "outputs": [
    {
     "data": {
      "text/plain": [
       "(0.43581081081081086, 0.8108108108108109)"
      ]
     },
     "execution_count": 18,
     "metadata": {},
     "output_type": "execute_result"
    }
   ],
   "source": [
    "# Migration matrix stats\n",
    "vt.migration_matrices_statistics(pd_transition_matrix, 'period_1_ratings', 'period_2_ratings')"
   ]
  },
  {
   "cell_type": "code",
   "execution_count": 19,
   "metadata": {},
   "outputs": [
    {
     "data": {
      "text/plain": [
       "0.106"
      ]
     },
     "execution_count": 19,
     "metadata": {},
     "output_type": "execute_result"
    }
   ],
   "source": [
    "# Bayesian error rate\n",
    "vt.bayesian_error_rate(test_data_main, \"default_flag\", \"predicted_pd\")"
   ]
  },
  {
   "cell_type": "code",
   "execution_count": 20,
   "metadata": {},
   "outputs": [
    {
     "data": {
      "text/plain": [
       "0.024548595310375846"
      ]
     },
     "execution_count": 20,
     "metadata": {},
     "output_type": "execute_result"
    }
   ],
   "source": [
    "# cier\n",
    "vt.conditional_information_entropy_ratio(pd_calibration, \"realised_pd\", \"count\")"
   ]
  },
  {
   "cell_type": "code",
   "execution_count": 21,
   "metadata": {},
   "outputs": [
    {
     "data": {
      "text/plain": [
       "0.006240325352140225"
      ]
     },
     "execution_count": 21,
     "metadata": {},
     "output_type": "execute_result"
    }
   ],
   "source": [
    "# kullback_leibler_dist\n",
    "vt.kullback_leibler_dist(pd_calibration, \"realised_pd\", \"count\")"
   ]
  },
  {
   "cell_type": "code",
   "execution_count": 22,
   "metadata": {},
   "outputs": [
    {
     "data": {
      "text/plain": [
       "0.0017095099404838"
      ]
     },
     "execution_count": 22,
     "metadata": {},
     "output_type": "execute_result"
    }
   ],
   "source": [
    "# test Gini\n",
    "vt.gini(pd_test_data, \"default_flag\", \"predicted_pd\")"
   ]
  },
  {
   "cell_type": "code",
   "execution_count": 23,
   "metadata": {},
   "outputs": [
    {
     "data": {
      "text/plain": [
       "KstestResult(statistic=0.869, pvalue=0.0)"
      ]
     },
     "execution_count": 23,
     "metadata": {},
     "output_type": "execute_result"
    }
   ],
   "source": [
    "# KS\n",
    "vt.kolmogorov_smirnov_stat(test_data_main, \"default_flag\", \"predicted_pd\")"
   ]
  },
  {
   "cell_type": "code",
   "execution_count": 34,
   "metadata": {},
   "outputs": [],
   "source": [
    "a = vt.kolmogorov_smirnov_stat(test_data_main, \"default_flag\", \"predicted_pd\")"
   ]
  },
  {
   "cell_type": "code",
   "execution_count": 35,
   "metadata": {},
   "outputs": [
    {
     "data": {
      "text/plain": [
       "0.869"
      ]
     },
     "execution_count": 35,
     "metadata": {},
     "output_type": "execute_result"
    }
   ],
   "source": [
    "a[0]"
   ]
  },
  {
   "cell_type": "code",
   "execution_count": 52,
   "metadata": {},
   "outputs": [
    {
     "ename": "AttributeError",
     "evalue": "'str' object has no attribute 'columns'",
     "output_type": "error",
     "traceback": [
      "\u001b[1;31m---------------------------------------------------------------------------\u001b[0m",
      "\u001b[1;31mAttributeError\u001b[0m                            Traceback (most recent call last)",
      "Input \u001b[1;32mIn [52]\u001b[0m, in \u001b[0;36m<cell line: 2>\u001b[1;34m()\u001b[0m\n\u001b[0;32m      1\u001b[0m \u001b[38;5;66;03m# Herfhindahl multiple period\u001b[39;00m\n\u001b[1;32m----> 2\u001b[0m \u001b[43mvt\u001b[49m\u001b[38;5;241;43m.\u001b[39;49m\u001b[43mherfindahl_multiple_period_test\u001b[49m\u001b[43m(\u001b[49m\u001b[43mpd_calibration\u001b[49m\u001b[43m,\u001b[49m\u001b[43m \u001b[49m\u001b[38;5;124;43m\"\u001b[39;49m\u001b[38;5;124;43mrating\u001b[39;49m\u001b[38;5;124;43m\"\u001b[39;49m\u001b[43m,\u001b[49m\u001b[43m \u001b[49m\u001b[38;5;124;43m\"\u001b[39;49m\u001b[38;5;124;43mrealised_pd\u001b[39;49m\u001b[38;5;124;43m\"\u001b[39;49m\u001b[43m,\u001b[49m\u001b[43m \u001b[49m\u001b[38;5;124;43m\"\u001b[39;49m\u001b[38;5;124;43mcount\u001b[39;49m\u001b[38;5;124;43m\"\u001b[39;49m\u001b[43m)\u001b[49m\n",
      "File \u001b[1;32mC:\\projects\\meliora\\src\\meliora\\core.py:345\u001b[0m, in \u001b[0;36mherfindahl_multiple_period_test\u001b[1;34m(data1, data2, ratings, alpha_level)\u001b[0m\n\u001b[0;32m    278\u001b[0m \u001b[38;5;124;03m\"\"\"Calculate the Herfindahl test for a given probability of defaults buckets\u001b[39;00m\n\u001b[0;32m    279\u001b[0m \n\u001b[0;32m    280\u001b[0m \u001b[38;5;124;03mParameters\u001b[39;00m\n\u001b[1;32m   (...)\u001b[0m\n\u001b[0;32m    340\u001b[0m \n\u001b[0;32m    341\u001b[0m \u001b[38;5;124;03m\"\"\"\u001b[39;00m\n\u001b[0;32m    343\u001b[0m \u001b[38;5;66;03m# Perform plausibility checks\u001b[39;00m\n\u001b[0;32m    344\u001b[0m \u001b[38;5;28;01massert\u001b[39;00m (\n\u001b[1;32m--> 345\u001b[0m     ratings \u001b[38;5;129;01min\u001b[39;00m data1\u001b[38;5;241m.\u001b[39mcolumns \u001b[38;5;129;01mand\u001b[39;00m ratings \u001b[38;5;129;01min\u001b[39;00m \u001b[43mdata2\u001b[49m\u001b[38;5;241;43m.\u001b[39;49m\u001b[43mcolumns\u001b[49m\n\u001b[0;32m    346\u001b[0m ), \u001b[38;5;124mf\u001b[39m\u001b[38;5;124m\"\u001b[39m\u001b[38;5;124mRatings column \u001b[39m\u001b[38;5;132;01m{\u001b[39;00mratings\u001b[38;5;132;01m}\u001b[39;00m\u001b[38;5;124m not found\u001b[39m\u001b[38;5;124m\"\u001b[39m\n\u001b[0;32m    347\u001b[0m \u001b[38;5;28;01massert\u001b[39;00m (\n\u001b[0;32m    348\u001b[0m     \u001b[38;5;28mmax\u001b[39m(\u001b[38;5;28mlen\u001b[39m(data1[ratings]\u001b[38;5;241m.\u001b[39munique()), \u001b[38;5;28mlen\u001b[39m(data2[ratings]\u001b[38;5;241m.\u001b[39munique())) \u001b[38;5;241m<\u001b[39m \u001b[38;5;241m40\u001b[39m\n\u001b[0;32m    349\u001b[0m ), \u001b[38;5;124m\"\u001b[39m\u001b[38;5;124mNumber of PD ratings is excessive\u001b[39m\u001b[38;5;124m\"\u001b[39m\n\u001b[0;32m    351\u001b[0m \u001b[38;5;66;03m# Transform input data into the required format\u001b[39;00m\n",
      "\u001b[1;31mAttributeError\u001b[0m: 'str' object has no attribute 'columns'"
     ]
    }
   ],
   "source": [
    "# Herfhindahl multiple period\n",
    "# vt.herfindahl_multiple_period_test(pd_calibration, \"rating\", \"realised_pd\", \"count\")"
   ]
  },
  {
   "cell_type": "code",
   "execution_count": null,
   "metadata": {},
   "outputs": [],
   "source": []
  },
  {
   "cell_type": "code",
   "execution_count": 25,
   "metadata": {},
   "outputs": [
    {
     "data": {
      "text/plain": [
       "1.0000874459653837"
      ]
     },
     "execution_count": 25,
     "metadata": {},
     "output_type": "execute_result"
    }
   ],
   "source": [
    "# Loss Capture Ratio\n",
    "vt.loss_capture_ratio(lgd_t_test['ead'], lgd_t_test['predicted_lgd'], lgd_t_test['realised_lgd'])"
   ]
  },
  {
   "cell_type": "code",
   "execution_count": 26,
   "metadata": {},
   "outputs": [
    {
     "data": {
      "text/html": [
       "<div>\n",
       "<style scoped>\n",
       "    .dataframe tbody tr th:only-of-type {\n",
       "        vertical-align: middle;\n",
       "    }\n",
       "\n",
       "    .dataframe tbody tr th {\n",
       "        vertical-align: top;\n",
       "    }\n",
       "\n",
       "    .dataframe thead th {\n",
       "        text-align: right;\n",
       "    }\n",
       "</style>\n",
       "<table border=\"1\" class=\"dataframe\">\n",
       "  <thead>\n",
       "    <tr style=\"text-align: right;\">\n",
       "      <th></th>\n",
       "      <th>facility</th>\n",
       "      <th>predicted_lgd</th>\n",
       "      <th>realised_lgd</th>\n",
       "      <th>segment</th>\n",
       "      <th>ead</th>\n",
       "    </tr>\n",
       "  </thead>\n",
       "  <tbody>\n",
       "    <tr>\n",
       "      <th>0</th>\n",
       "      <td>1</td>\n",
       "      <td>0.80</td>\n",
       "      <td>0.83</td>\n",
       "      <td>8</td>\n",
       "      <td>5860</td>\n",
       "    </tr>\n",
       "    <tr>\n",
       "      <th>1</th>\n",
       "      <td>2</td>\n",
       "      <td>0.75</td>\n",
       "      <td>0.81</td>\n",
       "      <td>7</td>\n",
       "      <td>6653</td>\n",
       "    </tr>\n",
       "    <tr>\n",
       "      <th>2</th>\n",
       "      <td>3</td>\n",
       "      <td>0.42</td>\n",
       "      <td>0.45</td>\n",
       "      <td>4</td>\n",
       "      <td>3192</td>\n",
       "    </tr>\n",
       "    <tr>\n",
       "      <th>3</th>\n",
       "      <td>4</td>\n",
       "      <td>0.99</td>\n",
       "      <td>1.00</td>\n",
       "      <td>9</td>\n",
       "      <td>7322</td>\n",
       "    </tr>\n",
       "    <tr>\n",
       "      <th>4</th>\n",
       "      <td>5</td>\n",
       "      <td>0.90</td>\n",
       "      <td>0.86</td>\n",
       "      <td>9</td>\n",
       "      <td>5513</td>\n",
       "    </tr>\n",
       "  </tbody>\n",
       "</table>\n",
       "</div>"
      ],
      "text/plain": [
       "   facility  predicted_lgd  realised_lgd  segment   ead\n",
       "0         1           0.80          0.83        8  5860\n",
       "1         2           0.75          0.81        7  6653\n",
       "2         3           0.42          0.45        4  3192\n",
       "3         4           0.99          1.00        9  7322\n",
       "4         5           0.90          0.86        9  5513"
      ]
     },
     "execution_count": 26,
     "metadata": {},
     "output_type": "execute_result"
    }
   ],
   "source": [
    "lgd_t_test.head()"
   ]
  },
  {
   "cell_type": "code",
   "execution_count": null,
   "metadata": {},
   "outputs": [],
   "source": []
  },
  {
   "cell_type": "code",
   "execution_count": 38,
   "metadata": {},
   "outputs": [
    {
     "data": {
      "text/plain": [
       "3.1999999999999997"
      ]
     },
     "execution_count": 38,
     "metadata": {},
     "output_type": "execute_result"
    }
   ],
   "source": [
    "# CLAR\n",
    "vt.cumulative_lgd_accuracy_ratio(lgd_dataset, 'predicted_outcome', 'realised_outcome')"
   ]
  },
  {
   "cell_type": "code",
   "execution_count": 28,
   "metadata": {},
   "outputs": [
    {
     "name": "stderr",
     "output_type": "stream",
     "text": [
      "C:\\projects\\meliora\\src\\meliora\\core.py:1374: RuntimeWarning: invalid value encountered in double_scalars\n",
      "  z_ij = num / np.sqrt(den_a + den_b + den_c)\n",
      "C:\\projects\\meliora\\src\\meliora\\core.py:1362: RuntimeWarning: invalid value encountered in double_scalars\n",
      "  z_ij = num / np.sqrt(den_a + den_b + den_c)\n"
     ]
    },
    {
     "data": {
      "text/plain": [
       "(period_2_ratings         1         2         3         4         5         6  \\\n",
       " period_1_ratings                                                               \n",
       " 1                      NaN  5.441072 -1.315587  3.585686       NaN       NaN   \n",
       " 2                -1.465656       NaN  0.301985 -0.301985  2.750494       NaN   \n",
       " 3                -2.466006  0.000000       NaN  0.000000  0.635724  2.111195   \n",
       " 4                 0.378968  0.918559 -0.580948       NaN  0.334021  0.000000   \n",
       " 5                 2.905370  0.501531 -1.420463 -0.378625       NaN -2.493813   \n",
       " 6                      NaN  3.877284 -0.448308 -1.799123  1.290339       NaN   \n",
       " 7                      NaN       NaN  3.119251 -1.978141  2.689264 -1.538968   \n",
       " 8                      NaN       NaN       NaN  1.816590  1.562315 -1.562315   \n",
       " \n",
       " period_2_ratings         7         8  \n",
       " period_1_ratings                      \n",
       " 1                      NaN       NaN  \n",
       " 2                      NaN       NaN  \n",
       " 3                      NaN       NaN  \n",
       " 4                 2.166945       NaN  \n",
       " 5                 1.450022  2.651145  \n",
       " 6                 0.913697 -0.913697  \n",
       " 7                      NaN -3.158698  \n",
       " 8                 4.239631       NaN  ,\n",
       " period_2_ratings         1         2         3         4         5         6  \\\n",
       " period_1_ratings                                                               \n",
       " 1                      NaN  1.000000  0.094156  0.999832       NaN       NaN   \n",
       " 2                 0.071371       NaN  0.618668  0.381332  0.997025       NaN   \n",
       " 3                 0.006831  0.500000       NaN  0.500000  0.737522  0.982622   \n",
       " 4                 0.647644  0.820837  0.280638       NaN  0.630818  0.500000   \n",
       " 5                 0.998166  0.692001  0.077736  0.352483       NaN  0.006319   \n",
       " 6                      NaN  0.999947  0.326965  0.036000  0.901534       NaN   \n",
       " 7                      NaN       NaN  0.999093  0.023956  0.996420  0.061906   \n",
       " 8                      NaN       NaN       NaN  0.965360  0.940893  0.059107   \n",
       " \n",
       " period_2_ratings         7         8  \n",
       " period_1_ratings                      \n",
       " 1                      NaN       NaN  \n",
       " 2                      NaN       NaN  \n",
       " 3                      NaN       NaN  \n",
       " 4                 0.984880       NaN  \n",
       " 5                 0.926474  0.995989  \n",
       " 6                 0.819562  0.180438  \n",
       " 7                      NaN  0.000792  \n",
       " 8                 0.999989       NaN  )"
      ]
     },
     "execution_count": 28,
     "metadata": {},
     "output_type": "execute_result"
    }
   ],
   "source": [
    "# Migration Matrix Stability\n",
    "vt.migration_matrix_stability(pd_transition_matrix, 'period_1_ratings', 'period_2_ratings')"
   ]
  },
  {
   "cell_type": "code",
   "execution_count": 47,
   "metadata": {},
   "outputs": [
    {
     "name": "stderr",
     "output_type": "stream",
     "text": [
      "C:\\projects\\meliora\\src\\meliora\\core.py:1374: RuntimeWarning: invalid value encountered in double_scalars\n",
      "  z_ij = num / np.sqrt(den_a + den_b + den_c)\n",
      "C:\\projects\\meliora\\src\\meliora\\core.py:1362: RuntimeWarning: invalid value encountered in double_scalars\n",
      "  z_ij = num / np.sqrt(den_a + den_b + den_c)\n"
     ]
    }
   ],
   "source": [
    "q = vt.migration_matrix_stability(pd_transition_matrix, 'period_1_ratings', 'period_2_ratings')"
   ]
  },
  {
   "cell_type": "code",
   "execution_count": 50,
   "metadata": {},
   "outputs": [
    {
     "data": {
      "text/plain": [
       "23.81875738112634"
      ]
     },
     "execution_count": 50,
     "metadata": {},
     "output_type": "execute_result"
    }
   ],
   "source": [
    "q[0].sum().sum()"
   ]
  },
  {
   "cell_type": "code",
   "execution_count": 51,
   "metadata": {},
   "outputs": [
    {
     "data": {
      "text/plain": [
       "23.11530838816691"
      ]
     },
     "execution_count": 51,
     "metadata": {},
     "output_type": "execute_result"
    }
   ],
   "source": [
    "q[1].sum().sum()"
   ]
  },
  {
   "cell_type": "code",
   "execution_count": 29,
   "metadata": {},
   "outputs": [
    {
     "data": {
      "text/plain": [
       "SpearmanrResult(correlation=0.8207826816681233, pvalue=0.08858700531354381)"
      ]
     },
     "execution_count": 29,
     "metadata": {},
     "output_type": "execute_result"
    }
   ],
   "source": [
    "# Pearson correlation\n",
    "x = [1,2,3,4,5]\n",
    "y = [5,6,7,8,7]\n",
    "vt.pearson_correlation(x, y)"
   ]
  },
  {
   "cell_type": "code",
   "execution_count": 30,
   "metadata": {},
   "outputs": [
    {
     "data": {
      "text/html": [
       "<div>\n",
       "<style scoped>\n",
       "    .dataframe tbody tr th:only-of-type {\n",
       "        vertical-align: middle;\n",
       "    }\n",
       "\n",
       "    .dataframe tbody tr th {\n",
       "        vertical-align: top;\n",
       "    }\n",
       "\n",
       "    .dataframe thead th {\n",
       "        text-align: right;\n",
       "    }\n",
       "</style>\n",
       "<table border=\"1\" class=\"dataframe\">\n",
       "  <thead>\n",
       "    <tr style=\"text-align: right;\">\n",
       "      <th></th>\n",
       "      <th>facilities</th>\n",
       "      <th>lgd_mean</th>\n",
       "      <th>t_stat</th>\n",
       "      <th>p_value</th>\n",
       "    </tr>\n",
       "  </thead>\n",
       "  <tbody>\n",
       "    <tr>\n",
       "      <th>0</th>\n",
       "      <td>1000</td>\n",
       "      <td>0.49357</td>\n",
       "      <td>2.072427</td>\n",
       "      <td>0.038482</td>\n",
       "    </tr>\n",
       "  </tbody>\n",
       "</table>\n",
       "</div>"
      ],
      "text/plain": [
       "   facilities  lgd_mean    t_stat   p_value\n",
       "0        1000   0.49357  2.072427  0.038482"
      ]
     },
     "execution_count": 30,
     "metadata": {},
     "output_type": "execute_result"
    }
   ],
   "source": [
    "# ELBE t test\n",
    "vt.elbe_t_test(lgd_t_test, \"predicted_lgd\", \"realised_lgd\")"
   ]
  },
  {
   "cell_type": "code",
   "execution_count": 31,
   "metadata": {},
   "outputs": [
    {
     "data": {
      "text/plain": [
       "-0.008480989922580617"
      ]
     },
     "execution_count": 31,
     "metadata": {},
     "output_type": "execute_result"
    }
   ],
   "source": [
    "# Loss Shortfall\n",
    "vt.loss_shortfall(lgd_t_test, \"ead\", \"predicted_lgd\", \"realised_lgd\")"
   ]
  },
  {
   "cell_type": "code",
   "execution_count": 32,
   "metadata": {},
   "outputs": [
    {
     "data": {
      "text/plain": [
       "6999.929781818181"
      ]
     },
     "execution_count": 32,
     "metadata": {},
     "output_type": "execute_result"
    }
   ],
   "source": [
    "# Mean Absolute Deviation\n",
    "vt.mean_absolute_deviation(pd_calibration, \"rating\", \"realised_pd\", \"count\")"
   ]
  },
  {
   "cell_type": "code",
   "execution_count": 33,
   "metadata": {},
   "outputs": [
    {
     "data": {
      "text/html": [
       "<div>\n",
       "<style scoped>\n",
       "    .dataframe tbody tr th:only-of-type {\n",
       "        vertical-align: middle;\n",
       "    }\n",
       "\n",
       "    .dataframe tbody tr th {\n",
       "        vertical-align: top;\n",
       "    }\n",
       "\n",
       "    .dataframe thead th {\n",
       "        text-align: right;\n",
       "    }\n",
       "</style>\n",
       "<table border=\"1\" class=\"dataframe\">\n",
       "  <thead>\n",
       "    <tr style=\"text-align: right;\">\n",
       "      <th></th>\n",
       "      <th>estimate</th>\n",
       "      <th>t_stat</th>\n",
       "      <th>p_value</th>\n",
       "      <th>outcome</th>\n",
       "    </tr>\n",
       "  </thead>\n",
       "  <tbody>\n",
       "    <tr>\n",
       "      <th>0</th>\n",
       "      <td>0.001</td>\n",
       "      <td>0.015093</td>\n",
       "      <td>0.505873</td>\n",
       "      <td>NaN</td>\n",
       "    </tr>\n",
       "  </tbody>\n",
       "</table>\n",
       "</div>"
      ],
      "text/plain": [
       "   estimate    t_stat   p_value  outcome\n",
       "0     0.001  0.015093  0.505873      NaN"
      ]
     },
     "execution_count": 33,
     "metadata": {},
     "output_type": "execute_result"
    }
   ],
   "source": [
    "# Normal test\n",
    "vt.normal_test(pd_calibration['predicted_pd'], pd_calibration['realised_pd'])"
   ]
  },
  {
   "cell_type": "code",
   "execution_count": 41,
   "metadata": {},
   "outputs": [],
   "source": [
    "q = vt.normal_test(pd_calibration['predicted_pd'], pd_calibration['realised_pd'])\n"
   ]
  },
  {
   "cell_type": "code",
   "execution_count": 46,
   "metadata": {},
   "outputs": [
    {
     "data": {
      "text/plain": [
       "0.5058725359972235"
      ]
     },
     "execution_count": 46,
     "metadata": {},
     "output_type": "execute_result"
    }
   ],
   "source": []
  },
  {
   "cell_type": "markdown",
   "metadata": {},
   "source": [
    "#### Relevant links\n",
    "- https://machinelearningmastery.com/divergence-between-probability-distributions/\n",
    "- https://medium.com/@monadsblog/the-kullback-leibler-divergence-5071c707a4a6\n",
    "- https://documentation.sas.com/doc/en/pgmsascdc/v_011/statug/statug_code_logiex19.htm"
   ]
  }
 ],
 "metadata": {
  "kernelspec": {
   "display_name": "Python 3 (ipykernel)",
   "language": "python",
   "name": "python3"
  },
  "language_info": {
   "codemirror_mode": {
    "name": "ipython",
    "version": 3
   },
   "file_extension": ".py",
   "mimetype": "text/x-python",
   "name": "python",
   "nbconvert_exporter": "python",
   "pygments_lexer": "ipython3",
   "version": "3.9.7"
  },
  "vscode": {
   "interpreter": {
    "hash": "eabca979b0553fa6d87e9a00c352604d3b703d4afc9641643dd42376492b80f6"
   }
  }
 },
 "nbformat": 4,
 "nbformat_minor": 4
}
