{
 "cells": [
  {
   "cell_type": "code",
   "execution_count": 1,
   "id": "a483ca37",
   "metadata": {
    "execution": {
     "iopub.execute_input": "2022-10-31T00:37:56.251962Z",
     "iopub.status.busy": "2022-10-31T00:37:56.251333Z",
     "iopub.status.idle": "2022-10-31T00:37:59.745121Z",
     "shell.execute_reply": "2022-10-31T00:37:59.745637Z"
    }
   },
   "outputs": [],
   "source": [
    "import set_working_directory"
   ]
  },
  {
   "cell_type": "code",
   "execution_count": 2,
   "id": "3e25074b",
   "metadata": {
    "execution": {
     "iopub.execute_input": "2022-10-31T00:37:59.750464Z",
     "iopub.status.busy": "2022-10-31T00:37:59.749755Z",
     "iopub.status.idle": "2022-10-31T00:38:01.072784Z",
     "shell.execute_reply": "2022-10-31T00:38:01.073156Z"
    }
   },
   "outputs": [
    {
     "data": {
      "text/plain": [
       "'THISISAPRQTEIN'"
      ]
     },
     "execution_count": 2,
     "metadata": {},
     "output_type": "execute_result"
    }
   ],
   "source": [
    "from cogent3 import PROTEIN\n",
    "\n",
    "p = PROTEIN.make_seq(\"THISISAPRQTEIN\", \"myProtein\")\n",
    "type(p)\n",
    "str(p)"
   ]
  },
  {
   "cell_type": "code",
   "execution_count": 3,
   "id": "a9d65401",
   "metadata": {
    "execution": {
     "iopub.execute_input": "2022-10-31T00:38:01.076830Z",
     "iopub.status.busy": "2022-10-31T00:38:01.076240Z",
     "iopub.status.idle": "2022-10-31T00:38:01.078372Z",
     "shell.execute_reply": "2022-10-31T00:38:01.078796Z"
    }
   },
   "outputs": [
    {
     "data": {
      "text/plain": [
       "'FAN'"
      ]
     },
     "execution_count": 3,
     "metadata": {},
     "output_type": "execute_result"
    }
   ],
   "source": [
    "from cogent3.core.genetic_code import DEFAULT as standard_code\n",
    "\n",
    "standard_code.translate(\"TTTGCAAAC\")"
   ]
  },
  {
   "cell_type": "code",
   "execution_count": 4,
   "id": "fef0e495",
   "metadata": {
    "execution": {
     "iopub.execute_input": "2022-10-31T00:38:01.081766Z",
     "iopub.status.busy": "2022-10-31T00:38:01.081240Z",
     "iopub.status.idle": "2022-10-31T00:38:01.083565Z",
     "shell.execute_reply": "2022-10-31T00:38:01.084097Z"
    }
   },
   "outputs": [],
   "source": [
    "from cogent3 import load_aligned_seqs\n",
    "\n",
    "seq = load_aligned_seqs(\"data/abglobin_aa.phylip\", moltype=\"protein\")"
   ]
  }
 ],
 "metadata": {
  "kernelspec": {
   "display_name": "Python 3 (ipykernel)",
   "language": "python",
   "name": "python3"
  },
  "language_info": {
   "codemirror_mode": {
    "name": "ipython",
    "version": 3
   },
   "file_extension": ".py",
   "mimetype": "text/x-python",
   "name": "python",
   "nbconvert_exporter": "python",
   "pygments_lexer": "ipython3",
   "version": "3.10.0"
  }
 },
 "nbformat": 4,
 "nbformat_minor": 5
}