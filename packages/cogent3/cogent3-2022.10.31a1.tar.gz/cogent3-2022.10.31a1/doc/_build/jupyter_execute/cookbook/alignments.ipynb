{
 "cells": [
  {
   "cell_type": "code",
   "execution_count": 1,
   "id": "214f2f96",
   "metadata": {
    "execution": {
     "iopub.execute_input": "2022-10-31T00:36:35.829970Z",
     "iopub.status.busy": "2022-10-31T00:36:35.829414Z",
     "iopub.status.idle": "2022-10-31T00:36:39.870251Z",
     "shell.execute_reply": "2022-10-31T00:36:39.869692Z"
    }
   },
   "outputs": [],
   "source": [
    "import set_working_directory"
   ]
  },
  {
   "cell_type": "code",
   "execution_count": 2,
   "id": "69750bb4",
   "metadata": {
    "execution": {
     "iopub.execute_input": "2022-10-31T00:36:39.874640Z",
     "iopub.status.busy": "2022-10-31T00:36:39.874000Z",
     "iopub.status.idle": "2022-10-31T00:36:41.210526Z",
     "shell.execute_reply": "2022-10-31T00:36:41.210892Z"
    }
   },
   "outputs": [
    {
     "name": "stdout",
     "output_type": "stream",
     "text": [
      "<class 'cogent3.core.alignment.ArrayAlignment'>\n",
      "<class 'cogent3.core.alignment.SequenceCollection'>\n"
     ]
    }
   ],
   "source": [
    "from cogent3 import make_aligned_seqs, make_unaligned_seqs\n",
    "\n",
    "dna = {\"seq1\": \"ATGACC\", \"seq2\": \"ATCGCC\"}\n",
    "seqs = make_aligned_seqs(data=dna, moltype=\"dna\")\n",
    "print(type(seqs))\n",
    "seqs = make_unaligned_seqs(dna, moltype=\"dna\")\n",
    "print(type(seqs))"
   ]
  },
  {
   "cell_type": "code",
   "execution_count": 3,
   "id": "e45edd99",
   "metadata": {
    "execution": {
     "iopub.execute_input": "2022-10-31T00:36:41.214635Z",
     "iopub.status.busy": "2022-10-31T00:36:41.214059Z",
     "iopub.status.idle": "2022-10-31T00:36:41.216518Z",
     "shell.execute_reply": "2022-10-31T00:36:41.216144Z"
    }
   },
   "outputs": [
    {
     "name": "stdout",
     "output_type": "stream",
     "text": [
      "<class 'cogent3.core.alignment.ArrayAlignment'>\n",
      ">seq1\n",
      "ATGACC\n",
      ">seq2\n",
      "ATCGCC\n",
      "\n"
     ]
    }
   ],
   "source": [
    "from cogent3 import make_aligned_seqs\n",
    "\n",
    "dna = {\"seq1\": \"ATGACC\", \"seq2\": \"ATCGCC\"}\n",
    "seqs = make_aligned_seqs(data=dna, moltype=\"dna\", array_align=True)\n",
    "print(type(seqs))\n",
    "print(seqs)"
   ]
  },
  {
   "cell_type": "code",
   "execution_count": 4,
   "id": "79cbc233",
   "metadata": {
    "execution": {
     "iopub.execute_input": "2022-10-31T00:36:41.219391Z",
     "iopub.status.busy": "2022-10-31T00:36:41.218888Z",
     "iopub.status.idle": "2022-10-31T00:36:41.222020Z",
     "shell.execute_reply": "2022-10-31T00:36:41.222338Z"
    }
   },
   "outputs": [
    {
     "name": "stdout",
     "output_type": "stream",
     "text": [
      ">NineBande\n",
      "GCAAGGCGCCAACAGAGCAGATGGGCTGAAAGTAAGGAAACATGTAATGATAGGCAGACT\n",
      ">Mouse\n",
      "GCAGTGAGCCAGCAGAGCAGATGGGCTGCAAGTAAAGGAACATGTAACGACAGGCAGGTT\n",
      ">Human\n",
      "GCAAGGAGCCAACATAACAGATGGGCTGGAAGTAAGGAAACATGTAATGATAGGCGGACT\n",
      ">HowlerMon\n",
      "GCAAGGAGCCAACATAACAGATGGGCTGAAAGTGAGGAAACATGTAATGATAGGCAGACT\n",
      ">DogFaced\n",
      "GCAAGGAGCCAGCAGAACAGATGGGTTGAAACTAAGGAAACATGTAATGATAGGCAGACT\n",
      "\n"
     ]
    }
   ],
   "source": [
    "from cogent3 import load_unaligned_seqs\n",
    "\n",
    "seqs = load_unaligned_seqs(\"data/test.paml\")\n",
    "print(seqs)"
   ]
  },
  {
   "cell_type": "code",
   "execution_count": 5,
   "id": "bc268e0e",
   "metadata": {
    "execution": {
     "iopub.execute_input": "2022-10-31T00:36:41.226963Z",
     "iopub.status.busy": "2022-10-31T00:36:41.226452Z",
     "iopub.status.idle": "2022-10-31T00:36:41.228354Z",
     "shell.execute_reply": "2022-10-31T00:36:41.228727Z"
    }
   },
   "outputs": [
    {
     "name": "stdout",
     "output_type": "stream",
     "text": [
      ">seq1\n",
      "ATGAA------\n",
      ">seq2\n",
      "ATG-AGTGATG\n",
      ">seq3\n",
      "AT--AG-GATG\n",
      "\n",
      ">seq1\n",
      "ATGAA------\n",
      ">seq2\n",
      "ATG-AGTGATG\n",
      ">seq3\n",
      "AT--AG-GATG\n",
      ">seq0\n",
      "ATG-AGT-AGG\n",
      ">seq4\n",
      "ATGCC------\n",
      "\n"
     ]
    }
   ],
   "source": [
    "from cogent3 import make_aligned_seqs\n",
    "\n",
    "aln = make_aligned_seqs(\n",
    "    [(\"seq1\", \"ATGAA------\"), (\"seq2\", \"ATG-AGTGATG\"), (\"seq3\", \"AT--AG-GATG\")],\n",
    "    moltype=\"dna\",\n",
    ")\n",
    "print(aln)\n",
    "new_seqs = make_aligned_seqs(\n",
    "    [(\"seq0\", \"ATG-AGT-AGG\"), (\"seq4\", \"ATGCC------\")], moltype=\"dna\"\n",
    ")\n",
    "new_aln = aln.add_seqs(new_seqs)\n",
    "print(new_aln)"
   ]
  },
  {
   "cell_type": "code",
   "execution_count": 6,
   "id": "fc037a94",
   "metadata": {
    "execution": {
     "iopub.execute_input": "2022-10-31T00:36:41.233351Z",
     "iopub.status.busy": "2022-10-31T00:36:41.232020Z",
     "iopub.status.idle": "2022-10-31T00:36:41.235516Z",
     "shell.execute_reply": "2022-10-31T00:36:41.236066Z"
    }
   },
   "outputs": [
    {
     "name": "stdout",
     "output_type": "stream",
     "text": [
      ">seq1\n",
      "ATGAA------\n",
      ">seq0\n",
      "ATG-AGT-AGG\n",
      ">seq4\n",
      "ATGCC------\n",
      ">seq2\n",
      "ATG-AGTGATG\n",
      ">seq3\n",
      "AT--AG-GATG\n",
      "\n",
      ">seq1\n",
      "ATGAA------\n",
      ">seq2\n",
      "ATG-AGTGATG\n",
      ">seq0\n",
      "ATG-AGT-AGG\n",
      ">seq4\n",
      "ATGCC------\n",
      ">seq3\n",
      "AT--AG-GATG\n",
      "\n"
     ]
    }
   ],
   "source": [
    "new_aln = aln.add_seqs(new_seqs, before_name=\"seq2\")\n",
    "print(new_aln)\n",
    "new_aln = aln.add_seqs(new_seqs, after_name=\"seq2\")\n",
    "print(new_aln)"
   ]
  },
  {
   "cell_type": "code",
   "execution_count": 7,
   "id": "e4a5ffc8",
   "metadata": {
    "execution": {
     "iopub.execute_input": "2022-10-31T00:36:41.242138Z",
     "iopub.status.busy": "2022-10-31T00:36:41.239655Z",
     "iopub.status.idle": "2022-10-31T00:36:41.244036Z",
     "shell.execute_reply": "2022-10-31T00:36:41.244421Z"
    }
   },
   "outputs": [
    {
     "name": "stdout",
     "output_type": "stream",
     "text": [
      ">seq1\n",
      "ATGAA------\n",
      ">seq2\n",
      "ATG-AGTGATG\n",
      ">seq3\n",
      "AT--AG-GATG\n",
      ">seq0\n",
      "AT--G--AGCG\n",
      ">seq4\n",
      "AT--GC-TGGG\n",
      "\n"
     ]
    }
   ],
   "source": [
    "from cogent3 import make_aligned_seqs\n",
    "\n",
    "aln = make_aligned_seqs(\n",
    "    [(\"seq1\", \"ATGAA------\"), (\"seq2\", \"ATG-AGTGATG\"), (\"seq3\", \"AT--AG-GATG\")],\n",
    "    moltype=\"dna\",\n",
    ")\n",
    "ref_aln = make_aligned_seqs(\n",
    "    [(\"seq3\", \"ATAGGATG\"), (\"seq0\", \"ATG-AGCG\"), (\"seq4\", \"ATGCTGGG\")],\n",
    "    moltype=\"dna\",\n",
    ")\n",
    "new_aln = aln.add_from_ref_aln(ref_aln)\n",
    "print(new_aln)"
   ]
  },
  {
   "cell_type": "code",
   "execution_count": 8,
   "id": "69ed6ef4",
   "metadata": {
    "execution": {
     "iopub.execute_input": "2022-10-31T00:36:41.247886Z",
     "iopub.status.busy": "2022-10-31T00:36:41.247406Z",
     "iopub.status.idle": "2022-10-31T00:36:41.249231Z",
     "shell.execute_reply": "2022-10-31T00:36:41.249541Z"
    }
   },
   "outputs": [
    {
     "name": "stdout",
     "output_type": "stream",
     "text": [
      ">seq1\n",
      "ATGAATG\n",
      ">seq2\n",
      "ATG-AAT\n",
      ">seq3\n",
      "AT--AAT\n",
      "\n"
     ]
    }
   ],
   "source": [
    "from cogent3 import make_aligned_seqs\n",
    "\n",
    "aln = make_aligned_seqs(\n",
    "    [(\"seq1\", \"ATGAA---TG-\"), (\"seq2\", \"ATG-AGTGATG\"), (\"seq3\", \"AT--AG-GATG\")],\n",
    "    moltype=\"dna\",\n",
    ")\n",
    "new_aln = aln.get_degapped_relative_to(\"seq1\")\n",
    "print(new_aln)"
   ]
  },
  {
   "cell_type": "code",
   "execution_count": 9,
   "id": "91a72d04",
   "metadata": {
    "execution": {
     "iopub.execute_input": "2022-10-31T00:36:41.257128Z",
     "iopub.status.busy": "2022-10-31T00:36:41.256633Z",
     "iopub.status.idle": "2022-10-31T00:36:41.258770Z",
     "shell.execute_reply": "2022-10-31T00:36:41.259080Z"
    }
   },
   "outputs": [
    {
     "data": {
      "text/plain": [
       "False"
      ]
     },
     "execution_count": 9,
     "metadata": {},
     "output_type": "execute_result"
    }
   ],
   "source": [
    "from cogent3 import make_aligned_seqs\n",
    "\n",
    "aln = make_aligned_seqs(\n",
    "    [(\"seq1\", \"ATGAA------\"), (\"seq2\", \"ATG-AGTGATG\"), (\"seq3\", \"AT--AG-GATG\")],\n",
    "    moltype=\"dna\",\n",
    "    array_align=False,\n",
    ")\n",
    "seq = aln.get_seq(\"seq1\")\n",
    "seq.name\n",
    "type(seq)\n",
    "seq.is_gapped()"
   ]
  },
  {
   "cell_type": "code",
   "execution_count": 10,
   "id": "b75f4747",
   "metadata": {
    "execution": {
     "iopub.execute_input": "2022-10-31T00:36:41.261939Z",
     "iopub.status.busy": "2022-10-31T00:36:41.261472Z",
     "iopub.status.idle": "2022-10-31T00:36:41.263162Z",
     "shell.execute_reply": "2022-10-31T00:36:41.263538Z"
    }
   },
   "outputs": [
    {
     "name": "stdout",
     "output_type": "stream",
     "text": [
      "ATGAA------\n"
     ]
    }
   ],
   "source": [
    "seq = aln.get_gapped_seq(\"seq1\")\n",
    "seq.is_gapped()\n",
    "print(seq)"
   ]
  },
  {
   "cell_type": "code",
   "execution_count": 11,
   "id": "7e1ea91f",
   "metadata": {
    "execution": {
     "iopub.execute_input": "2022-10-31T00:36:41.266325Z",
     "iopub.status.busy": "2022-10-31T00:36:41.265839Z",
     "iopub.status.idle": "2022-10-31T00:36:41.267891Z",
     "shell.execute_reply": "2022-10-31T00:36:41.268201Z"
    }
   },
   "outputs": [
    {
     "data": {
      "text/plain": [
       "['seq1', 'seq2', 'seq3']"
      ]
     },
     "execution_count": 11,
     "metadata": {},
     "output_type": "execute_result"
    }
   ],
   "source": [
    "aln.names\n",
    "aln.names"
   ]
  },
  {
   "cell_type": "code",
   "execution_count": 12,
   "id": "7d4d8594",
   "metadata": {
    "execution": {
     "iopub.execute_input": "2022-10-31T00:36:41.271414Z",
     "iopub.status.busy": "2022-10-31T00:36:41.270949Z",
     "iopub.status.idle": "2022-10-31T00:36:41.278575Z",
     "shell.execute_reply": "2022-10-31T00:36:41.278892Z"
    }
   },
   "outputs": [
    {
     "name": "stdout",
     "output_type": "stream",
     "text": [
      "TGTGGCACAAATACTCATGCCAGC\n"
     ]
    }
   ],
   "source": [
    "from cogent3 import load_aligned_seqs, load_unaligned_seqs\n",
    "\n",
    "fn = \"data/long_testseqs.fasta\"\n",
    "seqs = load_unaligned_seqs(fn, moltype=\"dna\")\n",
    "my_seq = seqs.seqs[0]\n",
    "my_seq[:24]\n",
    "str(my_seq[:24])\n",
    "type(my_seq)\n",
    "aln = load_aligned_seqs(fn, moltype=\"dna\")\n",
    "aln.seqs[0][:24]\n",
    "print(aln.seqs[0][:24])"
   ]
  },
  {
   "cell_type": "code",
   "execution_count": 13,
   "id": "4df4dd92",
   "metadata": {
    "execution": {
     "iopub.execute_input": "2022-10-31T00:36:41.281964Z",
     "iopub.status.busy": "2022-10-31T00:36:41.281475Z",
     "iopub.status.idle": "2022-10-31T00:36:41.284529Z",
     "shell.execute_reply": "2022-10-31T00:36:41.284901Z"
    }
   },
   "outputs": [
    {
     "data": {
      "text/plain": [
       "['Human', 'HowlerMon']"
      ]
     },
     "execution_count": 13,
     "metadata": {},
     "output_type": "execute_result"
    }
   ],
   "source": [
    "from cogent3 import load_aligned_seqs\n",
    "\n",
    "aln = load_aligned_seqs(\"data/test.paml\", moltype=\"dna\")\n",
    "aln.names\n",
    "new = aln.take_seqs([\"Human\", \"HowlerMon\"])\n",
    "new.names"
   ]
  },
  {
   "cell_type": "code",
   "execution_count": 14,
   "id": "74d5305f",
   "metadata": {
    "execution": {
     "iopub.execute_input": "2022-10-31T00:36:41.287803Z",
     "iopub.status.busy": "2022-10-31T00:36:41.287344Z",
     "iopub.status.idle": "2022-10-31T00:36:41.290611Z",
     "shell.execute_reply": "2022-10-31T00:36:41.290950Z"
    }
   },
   "outputs": [
    {
     "data": {
      "text/plain": [
       "True"
      ]
     },
     "execution_count": 14,
     "metadata": {},
     "output_type": "execute_result"
    }
   ],
   "source": [
    "from cogent3 import load_aligned_seqs\n",
    "\n",
    "aln = load_aligned_seqs(\"data/test.paml\", array_align=False, moltype=\"dna\")\n",
    "seq = aln.get_seq(\"Human\")\n",
    "new = aln.take_seqs([\"Human\", \"HowlerMon\"])\n",
    "id(new.get_seq(\"Human\")) == id(aln.get_seq(\"Human\"))"
   ]
  },
  {
   "cell_type": "code",
   "execution_count": 15,
   "id": "ef9a7afa",
   "metadata": {
    "execution": {
     "iopub.execute_input": "2022-10-31T00:36:41.293765Z",
     "iopub.status.busy": "2022-10-31T00:36:41.293309Z",
     "iopub.status.idle": "2022-10-31T00:36:41.295425Z",
     "shell.execute_reply": "2022-10-31T00:36:41.295889Z"
    }
   },
   "outputs": [],
   "source": [
    "from cogent3 import load_unaligned_seqs\n",
    "from cogent3.core.alignment import Alignment\n",
    "\n",
    "seq = load_unaligned_seqs(\"data/test.paml\")\n",
    "aln = Alignment(seq)\n",
    "fasta_1 = seq\n",
    "fasta_2 = aln\n",
    "assert fasta_1 == fasta_2"
   ]
  },
  {
   "cell_type": "code",
   "execution_count": 16,
   "id": "29ec96da",
   "metadata": {
    "execution": {
     "iopub.execute_input": "2022-10-31T00:36:41.299720Z",
     "iopub.status.busy": "2022-10-31T00:36:41.298181Z",
     "iopub.status.idle": "2022-10-31T00:36:41.301709Z",
     "shell.execute_reply": "2022-10-31T00:36:41.302083Z"
    }
   },
   "outputs": [
    {
     "data": {
      "text/html": [
       "<style>\n",
       ".c3align td { border: none !important; text-align: left !important; }\n",
       ".c3align tr:not(.num_row) td span {margin: 0 2px;}\n",
       ".c3align tr:nth-child(even) {background: #f7f7f7;}\n",
       ".c3align .num_row {background-color:rgba(161, 195, 209, 0.5) !important; border-top: solid 1px black; }\n",
       ".c3align .label { font-size: 12pt ; text-align: right !important; color: black !important; padding: 0 4px; display: table-cell !important; font-weight: normal !important; }\n",
       ".c3align .T_dna{font-family: \"Lucida Console\",monospace !important; font-size: 12pt !important; color: blue; }\n",
       ".c3align .C_dna{font-family: \"Lucida Console\",monospace !important; font-size: 12pt !important; color: black; }\n",
       ".c3align .A_dna{font-family: \"Lucida Console\",monospace !important; font-size: 12pt !important; color: #FF0102; }\n",
       ".c3align .G_dna{font-family: \"Lucida Console\",monospace !important; font-size: 12pt !important; color: green; }\n",
       ".c3align .terminal_ambig_dna{font-family: \"Lucida Console\",monospace !important; font-size: 12pt !important; color: gray; }\n",
       ".c3align .ambig_dna{font-family: \"Lucida Console\",monospace !important; font-size: 12pt !important; color: gray; }\n",
       "</style>\n",
       "<div class=\"c3align\">\n",
       "<table>\n",
       "<tr class=\"num_row\"><td></td><td><b>0</b></td></tr>\n",
       "<tr><td class=\"label\">b</td><td><span class=\"C_dna\">C</span><span class=\"C_dna\">C</span><span class=\"T_dna\">T</span><span class=\"G_dna\">G</span><span class=\"G_dna\">G</span><span class=\"G_dna\">G</span></td></tr>\n",
       "<tr><td class=\"label\">a</td><td><span class=\"A_dna\">A</span><span class=\"C_dna\">.</span><span class=\"G_dna\">G</span><span class=\"ambig_dna\">-</span><span class=\"ambig_dna\">-</span><span class=\"ambig_dna\">-</span></td></tr>\n",
       "</table>\n",
       "<p><i>2 x 6 dna alignment</i></p>\n",
       "</div>"
      ],
      "text/plain": [
       "2 x 6 alignment: a[ACG---], b[CCTGGG]"
      ]
     },
     "execution_count": 16,
     "metadata": {},
     "output_type": "execute_result"
    }
   ],
   "source": [
    "from cogent3 import make_aligned_seqs\n",
    "\n",
    "data = [(\"a\", \"ACG---\"), (\"b\", \"CCTGGG\")]\n",
    "aln = make_aligned_seqs(data=data)\n",
    "dna = aln.to_dna()\n",
    "dna"
   ]
  },
  {
   "cell_type": "code",
   "execution_count": 17,
   "id": "38a4c003",
   "metadata": {
    "execution": {
     "iopub.execute_input": "2022-10-31T00:36:41.306363Z",
     "iopub.status.busy": "2022-10-31T00:36:41.305796Z",
     "iopub.status.idle": "2022-10-31T00:36:41.307879Z",
     "shell.execute_reply": "2022-10-31T00:36:41.308189Z"
    }
   },
   "outputs": [
    {
     "data": {
      "text/html": [
       "<style>\n",
       ".c3align td { border: none !important; text-align: left !important; }\n",
       ".c3align tr:not(.num_row) td span {margin: 0 2px;}\n",
       ".c3align tr:nth-child(even) {background: #f7f7f7;}\n",
       ".c3align .num_row {background-color:rgba(161, 195, 209, 0.5) !important; border-top: solid 1px black; }\n",
       ".c3align .label { font-size: 12pt ; text-align: right !important; color: black !important; padding: 0 4px; display: table-cell !important; font-weight: normal !important; }\n",
       ".c3align .U_rna{font-family: \"Lucida Console\",monospace !important; font-size: 12pt !important; color: blue; }\n",
       ".c3align .C_rna{font-family: \"Lucida Console\",monospace !important; font-size: 12pt !important; color: black; }\n",
       ".c3align .A_rna{font-family: \"Lucida Console\",monospace !important; font-size: 12pt !important; color: #FF0102; }\n",
       ".c3align .G_rna{font-family: \"Lucida Console\",monospace !important; font-size: 12pt !important; color: green; }\n",
       ".c3align .terminal_ambig_rna{font-family: \"Lucida Console\",monospace !important; font-size: 12pt !important; color: gray; }\n",
       ".c3align .ambig_rna{font-family: \"Lucida Console\",monospace !important; font-size: 12pt !important; color: gray; }\n",
       "</style>\n",
       "<div class=\"c3align\">\n",
       "<table>\n",
       "<tr class=\"num_row\"><td></td><td><b>0</b></td></tr>\n",
       "<tr><td class=\"label\">b</td><td><span class=\"C_rna\">C</span><span class=\"C_rna\">C</span><span class=\"U_rna\">U</span><span class=\"G_rna\">G</span><span class=\"G_rna\">G</span><span class=\"G_rna\">G</span></td></tr>\n",
       "<tr><td class=\"label\">a</td><td><span class=\"A_rna\">A</span><span class=\"C_rna\">.</span><span class=\"G_rna\">G</span><span class=\"ambig_rna\">-</span><span class=\"ambig_rna\">-</span><span class=\"ambig_rna\">-</span></td></tr>\n",
       "</table>\n",
       "<p><i>2 x 6 rna alignment</i></p>\n",
       "</div>"
      ],
      "text/plain": [
       "2 x 6 alignment: a[ACG---], b[CCUGGG]"
      ]
     },
     "execution_count": 17,
     "metadata": {},
     "output_type": "execute_result"
    }
   ],
   "source": [
    "from cogent3 import make_aligned_seqs\n",
    "\n",
    "data = [(\"a\", \"ACG---\"), (\"b\", \"CCUGGG\")]\n",
    "aln = make_aligned_seqs(data=data)\n",
    "rna = aln.to_rna()\n",
    "rna"
   ]
  },
  {
   "cell_type": "code",
   "execution_count": 18,
   "id": "fbc4c288",
   "metadata": {
    "execution": {
     "iopub.execute_input": "2022-10-31T00:36:41.311910Z",
     "iopub.status.busy": "2022-10-31T00:36:41.311432Z",
     "iopub.status.idle": "2022-10-31T00:36:41.314261Z",
     "shell.execute_reply": "2022-10-31T00:36:41.314731Z"
    }
   },
   "outputs": [
    {
     "data": {
      "text/html": [
       "<style>\n",
       ".c3align td { border: none !important; text-align: left !important; }\n",
       ".c3align tr:not(.num_row) td span {margin: 0 2px;}\n",
       ".c3align tr:nth-child(even) {background: #f7f7f7;}\n",
       ".c3align .num_row {background-color:rgba(161, 195, 209, 0.5) !important; border-top: solid 1px black; }\n",
       ".c3align .label { font-size: 12pt ; text-align: right !important; color: black !important; padding: 0 4px; display: table-cell !important; font-weight: normal !important; }\n",
       ".c3align .A_protein{font-family: \"Lucida Console\",monospace !important; font-size: 12pt !important; color: #009999; }\n",
       ".c3align .C_protein{font-family: \"Lucida Console\",monospace !important; font-size: 12pt !important; color: orange; }\n",
       ".c3align .D_protein{font-family: \"Lucida Console\",monospace !important; font-size: 12pt !important; color: blue; }\n",
       ".c3align .E_protein{font-family: \"Lucida Console\",monospace !important; font-size: 12pt !important; color: blue; }\n",
       ".c3align .F_protein{font-family: \"Lucida Console\",monospace !important; font-size: 12pt !important; color: #ff6600; }\n",
       ".c3align .G_protein{font-family: \"Lucida Console\",monospace !important; font-size: 12pt !important; color: #009999; }\n",
       ".c3align .H_protein{font-family: \"Lucida Console\",monospace !important; font-size: 12pt !important; color: #FF0102; }\n",
       ".c3align .I_protein{font-family: \"Lucida Console\",monospace !important; font-size: 12pt !important; color: #009999; }\n",
       ".c3align .K_protein{font-family: \"Lucida Console\",monospace !important; font-size: 12pt !important; color: #FF0102; }\n",
       ".c3align .L_protein{font-family: \"Lucida Console\",monospace !important; font-size: 12pt !important; color: #009999; }\n",
       ".c3align .M_protein{font-family: \"Lucida Console\",monospace !important; font-size: 12pt !important; color: orange; }\n",
       ".c3align .N_protein{font-family: \"Lucida Console\",monospace !important; font-size: 12pt !important; color: #993300; }\n",
       ".c3align .P_protein{font-family: \"Lucida Console\",monospace !important; font-size: 12pt !important; color: #cc0099; }\n",
       ".c3align .Q_protein{font-family: \"Lucida Console\",monospace !important; font-size: 12pt !important; color: #993300; }\n",
       ".c3align .R_protein{font-family: \"Lucida Console\",monospace !important; font-size: 12pt !important; color: #FF0102; }\n",
       ".c3align .S_protein{font-family: \"Lucida Console\",monospace !important; font-size: 12pt !important; color: #009900; }\n",
       ".c3align .T_protein{font-family: \"Lucida Console\",monospace !important; font-size: 12pt !important; color: #009900; }\n",
       ".c3align .U_protein{font-family: \"Lucida Console\",monospace !important; font-size: 12pt !important; color: gray; }\n",
       ".c3align .V_protein{font-family: \"Lucida Console\",monospace !important; font-size: 12pt !important; color: #009999; }\n",
       ".c3align .W_protein{font-family: \"Lucida Console\",monospace !important; font-size: 12pt !important; color: #ff6600; }\n",
       ".c3align .Y_protein{font-family: \"Lucida Console\",monospace !important; font-size: 12pt !important; color: #ff6600; }\n",
       ".c3align .terminal_ambig_protein{font-family: \"Lucida Console\",monospace !important; font-size: 12pt !important; color: gray; }\n",
       ".c3align .ambig_protein{font-family: \"Lucida Console\",monospace !important; font-size: 12pt !important; color: gray; }\n",
       "</style>\n",
       "<div class=\"c3align\">\n",
       "<table>\n",
       "<tr class=\"num_row\"><td></td><td><b>0</b></td></tr>\n",
       "<tr><td class=\"label\">x</td><td><span class=\"T_protein\">T</span><span class=\"Y_protein\">Y</span><span class=\"V_protein\">V</span></td></tr>\n",
       "<tr><td class=\"label\">y</td><td><span class=\"T_protein\">.</span><span class=\"E_protein\">E</span><span class=\"ambig_protein\">-</span></td></tr>\n",
       "</table>\n",
       "<p><i>2 x 3 protein alignment</i></p>\n",
       "</div>"
      ],
      "text/plain": [
       "2 x 3 alignment: x[TYV], y[TE-]"
      ]
     },
     "execution_count": 18,
     "metadata": {},
     "output_type": "execute_result"
    }
   ],
   "source": [
    "from cogent3 import make_aligned_seqs\n",
    "\n",
    "data = [(\"x\", \"TYV\"), (\"y\", \"TE-\")]\n",
    "aln = make_aligned_seqs(data=data)\n",
    "prot = aln.to_protein()\n",
    "prot"
   ]
  },
  {
   "cell_type": "code",
   "execution_count": 19,
   "id": "3fd42ec5",
   "metadata": {
    "execution": {
     "iopub.execute_input": "2022-10-31T00:36:41.317551Z",
     "iopub.status.busy": "2022-10-31T00:36:41.317099Z",
     "iopub.status.idle": "2022-10-31T00:36:41.320818Z",
     "shell.execute_reply": "2022-10-31T00:36:41.321131Z"
    }
   },
   "outputs": [
    {
     "name": "stdout",
     "output_type": "stream",
     "text": [
      "<class 'cogent3.core.alignment.SequenceCollection'>\n"
     ]
    }
   ],
   "source": [
    "from cogent3 import load_aligned_seqs\n",
    "\n",
    "aln = load_aligned_seqs(\"data/primate_cdx2_promoter.fasta\")\n",
    "degapped = aln.degap()\n",
    "print(type(degapped))"
   ]
  },
  {
   "cell_type": "code",
   "execution_count": 20,
   "id": "8cd6dcd9",
   "metadata": {
    "execution": {
     "iopub.execute_input": "2022-10-31T00:36:41.324199Z",
     "iopub.status.busy": "2022-10-31T00:36:41.323709Z",
     "iopub.status.idle": "2022-10-31T00:36:41.326118Z",
     "shell.execute_reply": "2022-10-31T00:36:41.326597Z"
    }
   },
   "outputs": [],
   "source": [
    "from cogent3 import make_aligned_seqs\n",
    "\n",
    "dna = {\"seq1\": \"ATGACC\", \"seq2\": \"ATCGCC\"}\n",
    "aln = make_aligned_seqs(data=dna, moltype=\"dna\")\n",
    "aln.write(\"sample.fasta\")"
   ]
  },
  {
   "cell_type": "code",
   "execution_count": 21,
   "id": "c2feec2b",
   "metadata": {
    "execution": {
     "iopub.execute_input": "2022-10-31T00:36:41.329228Z",
     "iopub.status.busy": "2022-10-31T00:36:41.328773Z",
     "iopub.status.idle": "2022-10-31T00:36:41.330742Z",
     "shell.execute_reply": "2022-10-31T00:36:41.331206Z"
    }
   },
   "outputs": [],
   "source": [
    "aln.write(\"sample\", format=\"fasta\")"
   ]
  },
  {
   "cell_type": "code",
   "execution_count": 22,
   "id": "3ec06367",
   "metadata": {
    "execution": {
     "iopub.execute_input": "2022-10-31T00:36:41.333935Z",
     "iopub.status.busy": "2022-10-31T00:36:41.333389Z",
     "iopub.status.idle": "2022-10-31T00:36:41.335082Z",
     "shell.execute_reply": "2022-10-31T00:36:41.335401Z"
    }
   },
   "outputs": [],
   "source": [
    "from cogent3.util.io import remove_files\n",
    "\n",
    "remove_files([\"sample\", \"sample.fasta\"], error_on_missing=False)"
   ]
  },
  {
   "cell_type": "code",
   "execution_count": 23,
   "id": "3bcb40f7",
   "metadata": {
    "execution": {
     "iopub.execute_input": "2022-10-31T00:36:41.338090Z",
     "iopub.status.busy": "2022-10-31T00:36:41.337641Z",
     "iopub.status.idle": "2022-10-31T00:36:41.341552Z",
     "shell.execute_reply": "2022-10-31T00:36:41.342010Z"
    }
   },
   "outputs": [],
   "source": [
    "from cogent3 import load_aligned_seqs\n",
    "from cogent3.core.alignment import Alignment\n",
    "\n",
    "seq = load_aligned_seqs(\"data/long_testseqs.fasta\")\n",
    "aln = Alignment(seq)\n",
    "fasta_align = aln"
   ]
  },
  {
   "cell_type": "code",
   "execution_count": 24,
   "id": "7bb85704",
   "metadata": {
    "execution": {
     "iopub.execute_input": "2022-10-31T00:36:41.344958Z",
     "iopub.status.busy": "2022-10-31T00:36:41.344470Z",
     "iopub.status.idle": "2022-10-31T00:36:41.347384Z",
     "shell.execute_reply": "2022-10-31T00:36:41.347699Z"
    }
   },
   "outputs": [
    {
     "name": "stdout",
     "output_type": "stream",
     "text": [
      "5  60\n",
      "NineBande GCAAGGCGCCAACAGAGCAGATGGGCTGAAAGTAAGGAAACATGTAATGATAGGCAGACT\n",
      "Mouse     GCAGTGAGCCAGCAGAGCAGATGGGCTGCAAGTAAAGGAACATGTAACGACAGGCAGGTT\n",
      "Human     GCAAGGAGCCAACATAACAGATGGGCTGGAAGTAAGGAAACATGTAATGATAGGCGGACT\n",
      "HowlerMon GCAAGGAGCCAACATAACAGATGGGCTGAAAGTGAGGAAACATGTAATGATAGGCAGACT\n",
      "DogFaced  GCAAGGAGCCAGCAGAACAGATGGGTTGAAACTAAGGAAACATGTAATGATAGGCAGACT\n",
      "\n"
     ]
    }
   ],
   "source": [
    "from cogent3 import load_aligned_seqs\n",
    "from cogent3.core.alignment import Alignment\n",
    "\n",
    "seq = load_aligned_seqs(\"data/test.paml\")\n",
    "aln = Alignment(seq)\n",
    "got = aln.to_phylip()\n",
    "print(got)"
   ]
  },
  {
   "cell_type": "code",
   "execution_count": 25,
   "id": "eedb4da2",
   "metadata": {
    "execution": {
     "iopub.execute_input": "2022-10-31T00:36:41.350423Z",
     "iopub.status.busy": "2022-10-31T00:36:41.349973Z",
     "iopub.status.idle": "2022-10-31T00:36:41.352506Z",
     "shell.execute_reply": "2022-10-31T00:36:41.352906Z"
    }
   },
   "outputs": [],
   "source": [
    "from cogent3 import load_aligned_seqs\n",
    "from cogent3.core.alignment import Alignment\n",
    "\n",
    "seq = load_aligned_seqs(\"data/test.paml\")\n",
    "aln = Alignment(seq)\n",
    "string_list = aln.to_dict().values()"
   ]
  },
  {
   "cell_type": "code",
   "execution_count": 26,
   "id": "8e705faa",
   "metadata": {
    "execution": {
     "iopub.execute_input": "2022-10-31T00:36:41.355637Z",
     "iopub.status.busy": "2022-10-31T00:36:41.355186Z",
     "iopub.status.idle": "2022-10-31T00:36:41.359107Z",
     "shell.execute_reply": "2022-10-31T00:36:41.359427Z"
    }
   },
   "outputs": [
    {
     "name": "stdout",
     "output_type": "stream",
     "text": [
      ">Human\n",
      "TGTGGCACAAATACTCATGCCAGC\n",
      ">HowlerMon\n",
      "TGTGGCACAAATACTCATGCCAGC\n",
      ">Mouse\n",
      "TGTGGCACAGATGCTCATGCCAGC\n",
      ">NineBande\n",
      "TGTGGCACAAATACTCATGCCAAC\n",
      ">DogFaced\n",
      "TGTGGCACAAATACTCATGCCAAC\n",
      "\n"
     ]
    }
   ],
   "source": [
    "from cogent3 import load_aligned_seqs\n",
    "\n",
    "fn = \"data/long_testseqs.fasta\"\n",
    "aln = load_aligned_seqs(fn, moltype=\"dna\")\n",
    "print(aln[:24])"
   ]
  },
  {
   "cell_type": "code",
   "execution_count": 27,
   "id": "822ad446",
   "metadata": {
    "execution": {
     "iopub.execute_input": "2022-10-31T00:36:41.362334Z",
     "iopub.status.busy": "2022-10-31T00:36:41.361819Z",
     "iopub.status.idle": "2022-10-31T00:36:41.718370Z",
     "shell.execute_reply": "2022-10-31T00:36:41.718838Z"
    }
   },
   "outputs": [
    {
     "ename": "TypeError",
     "evalue": "'SequenceCollection' object is not subscriptable",
     "output_type": "error",
     "traceback": [
      "\u001b[0;31m---------------------------------------------------------------------------\u001b[0m",
      "\u001b[0;31mTypeError\u001b[0m                                 Traceback (most recent call last)",
      "Input \u001b[0;32mIn [27]\u001b[0m, in \u001b[0;36m<module>\u001b[0;34m\u001b[0m\n\u001b[1;32m      3\u001b[0m fn \u001b[38;5;241m=\u001b[39m \u001b[38;5;124m\"\u001b[39m\u001b[38;5;124mdata/long_testseqs.fasta\u001b[39m\u001b[38;5;124m\"\u001b[39m\n\u001b[1;32m      4\u001b[0m seqs \u001b[38;5;241m=\u001b[39m load_unaligned_seqs(fn)\n\u001b[0;32m----> 5\u001b[0m \u001b[38;5;28mprint\u001b[39m(\u001b[43mseqs\u001b[49m\u001b[43m[\u001b[49m\u001b[43m:\u001b[49m\u001b[38;5;241;43m24\u001b[39;49m\u001b[43m]\u001b[49m)\n",
      "\u001b[0;31mTypeError\u001b[0m: 'SequenceCollection' object is not subscriptable"
     ]
    }
   ],
   "source": [
    "from cogent3 import load_unaligned_seqs\n",
    "\n",
    "fn = \"data/long_testseqs.fasta\"\n",
    "seqs = load_unaligned_seqs(fn)\n",
    "print(seqs[:24])"
   ]
  },
  {
   "cell_type": "code",
   "execution_count": 28,
   "id": "b889c395",
   "metadata": {
    "execution": {
     "iopub.execute_input": "2022-10-31T00:36:41.722609Z",
     "iopub.status.busy": "2022-10-31T00:36:41.721986Z",
     "iopub.status.idle": "2022-10-31T00:36:41.724758Z",
     "shell.execute_reply": "2022-10-31T00:36:41.725298Z"
    }
   },
   "outputs": [],
   "source": [
    "from cogent3 import load_aligned_seqs\n",
    "\n",
    "seq = load_aligned_seqs(\"data/test.paml\")\n",
    "column_four = aln[3]"
   ]
  },
  {
   "cell_type": "code",
   "execution_count": 29,
   "id": "0d9a5b99",
   "metadata": {
    "execution": {
     "iopub.execute_input": "2022-10-31T00:36:41.728794Z",
     "iopub.status.busy": "2022-10-31T00:36:41.728216Z",
     "iopub.status.idle": "2022-10-31T00:36:41.732257Z",
     "shell.execute_reply": "2022-10-31T00:36:41.732795Z"
    }
   },
   "outputs": [],
   "source": [
    "from cogent3 import load_aligned_seqs\n",
    "\n",
    "aln = load_aligned_seqs(\"data/long_testseqs.fasta\")\n",
    "region = aln[50:70]"
   ]
  },
  {
   "cell_type": "code",
   "execution_count": 30,
   "id": "13103a84",
   "metadata": {
    "execution": {
     "iopub.execute_input": "2022-10-31T00:36:41.737428Z",
     "iopub.status.busy": "2022-10-31T00:36:41.735428Z",
     "iopub.status.idle": "2022-10-31T00:36:41.739621Z",
     "shell.execute_reply": "2022-10-31T00:36:41.739995Z"
    }
   },
   "outputs": [
    {
     "data": {
      "text/plain": [
       "[[ByteSequence(A), ByteSequence(A), ByteSequence(A)],\n",
       " [ByteSequence(T), ByteSequence(-), ByteSequence(-)]]"
      ]
     },
     "execution_count": 30,
     "metadata": {},
     "output_type": "execute_result"
    }
   ],
   "source": [
    "from cogent3 import load_aligned_seqs\n",
    "\n",
    "aln = load_aligned_seqs(\"data/primate_cdx2_promoter.fasta\")\n",
    "col = aln[113:115].iter_positions()\n",
    "type(col)\n",
    "list(col)"
   ]
  },
  {
   "cell_type": "code",
   "execution_count": 31,
   "id": "6b4ca266",
   "metadata": {
    "execution": {
     "iopub.execute_input": "2022-10-31T00:36:41.744779Z",
     "iopub.status.busy": "2022-10-31T00:36:41.744208Z",
     "iopub.status.idle": "2022-10-31T00:36:41.746198Z",
     "shell.execute_reply": "2022-10-31T00:36:41.746588Z"
    }
   },
   "outputs": [
    {
     "name": "stdout",
     "output_type": "stream",
     "text": [
      ">seq1\n",
      "GGG-\n",
      ">seq2\n",
      "GGGG\n",
      "\n"
     ]
    }
   ],
   "source": [
    "from cogent3 import make_aligned_seqs\n",
    "\n",
    "aln = make_aligned_seqs(\n",
    "    data={\"seq1\": \"ATGATGATG---\", \"seq2\": \"ATGATGATGATG\"}, array_align=False\n",
    ")\n",
    "list(range(len(aln))[2::3])\n",
    "indices = [(i, i + 1) for i in range(len(aln))[2::3]]\n",
    "indices\n",
    "pos3 = aln.add_feature(\"pos3\", \"pos3\", indices)\n",
    "pos3 = pos3.get_slice()\n",
    "print(pos3)"
   ]
  },
  {
   "cell_type": "code",
   "execution_count": 32,
   "id": "a27a4ca5",
   "metadata": {
    "execution": {
     "iopub.execute_input": "2022-10-31T00:36:41.749991Z",
     "iopub.status.busy": "2022-10-31T00:36:41.749456Z",
     "iopub.status.idle": "2022-10-31T00:36:41.751446Z",
     "shell.execute_reply": "2022-10-31T00:36:41.751817Z"
    }
   },
   "outputs": [
    {
     "name": "stdout",
     "output_type": "stream",
     "text": [
      ">seq1\n",
      "GGG-\n",
      ">seq2\n",
      "GGGG\n",
      "\n"
     ]
    }
   ],
   "source": [
    "from cogent3 import make_aligned_seqs\n",
    "\n",
    "aln = make_aligned_seqs(\n",
    "    data={\"seq1\": \"ATGATGATG---\", \"seq2\": \"ATGATGATGATG\"}, array_align=True\n",
    ")\n",
    "pos3 = aln[2::3]\n",
    "print(pos3)"
   ]
  },
  {
   "cell_type": "code",
   "execution_count": 33,
   "id": "cd5427b5",
   "metadata": {
    "execution": {
     "iopub.execute_input": "2022-10-31T00:36:41.755501Z",
     "iopub.status.busy": "2022-10-31T00:36:41.754907Z",
     "iopub.status.idle": "2022-10-31T00:36:41.757296Z",
     "shell.execute_reply": "2022-10-31T00:36:41.756922Z"
    }
   },
   "outputs": [
    {
     "name": "stdout",
     "output_type": "stream",
     "text": [
      ">seq1\n",
      "ACG---\n",
      ">seq2\n",
      "ACGACA\n",
      ">seq3\n",
      "ACGCAA\n",
      "\n"
     ]
    }
   ],
   "source": [
    "from cogent3 import make_aligned_seqs\n",
    "\n",
    "aln = make_aligned_seqs(\n",
    "    data={\"seq1\": \"ACGTAA---\", \"seq2\": \"ACGACA---\", \"seq3\": \"ACGCAATGA\"},\n",
    "    moltype=\"dna\",\n",
    ")\n",
    "new = aln.trim_stop_codons()\n",
    "print(new)"
   ]
  },
  {
   "cell_type": "code",
   "execution_count": 34,
   "id": "bae418b5",
   "metadata": {
    "execution": {
     "iopub.execute_input": "2022-10-31T00:36:41.760762Z",
     "iopub.status.busy": "2022-10-31T00:36:41.760219Z",
     "iopub.status.idle": "2022-10-31T00:36:41.762113Z",
     "shell.execute_reply": "2022-10-31T00:36:41.762474Z"
    }
   },
   "outputs": [
    {
     "name": "stdout",
     "output_type": "stream",
     "text": [
      ">seq1\n",
      "ACG---\n",
      ">seq2\n",
      "ACGAC-\n",
      ">seq3\n",
      "ACGCAA\n",
      "\n"
     ]
    }
   ],
   "source": [
    "aln = make_aligned_seqs(\n",
    "    data={\n",
    "        \"seq1\": \"ACGTAA---\",\n",
    "        \"seq2\": \"ACGAC----\",  # terminal codon incomplete\n",
    "        \"seq3\": \"ACGCAATGA\",\n",
    "    },\n",
    "    moltype=\"dna\",\n",
    ")\n",
    "new = aln.trim_stop_codons(allow_partial=True)\n",
    "print(new)"
   ]
  },
  {
   "cell_type": "code",
   "execution_count": 35,
   "id": "e4f9d91f",
   "metadata": {
    "execution": {
     "iopub.execute_input": "2022-10-31T00:36:41.765578Z",
     "iopub.status.busy": "2022-10-31T00:36:41.765097Z",
     "iopub.status.idle": "2022-10-31T00:36:41.767098Z",
     "shell.execute_reply": "2022-10-31T00:36:41.767480Z"
    }
   },
   "outputs": [],
   "source": [
    "from cogent3 import make_aligned_seqs\n",
    "\n",
    "aln = make_aligned_seqs(\n",
    "    data=[\n",
    "        (\"seq1\", \"ATGAAGGTG---\"),\n",
    "        (\"seq2\", \"ATGAAGGTGATG\"),\n",
    "        (\"seq3\", \"ATGAAGGNGATG\"),\n",
    "    ],\n",
    "    moltype=\"dna\",\n",
    ")"
   ]
  },
  {
   "cell_type": "code",
   "execution_count": 36,
   "id": "a5e83598",
   "metadata": {
    "execution": {
     "iopub.execute_input": "2022-10-31T00:36:41.770373Z",
     "iopub.status.busy": "2022-10-31T00:36:41.769890Z",
     "iopub.status.idle": "2022-10-31T00:36:41.771639Z",
     "shell.execute_reply": "2022-10-31T00:36:41.772106Z"
    }
   },
   "outputs": [
    {
     "name": "stdout",
     "output_type": "stream",
     "text": [
      ">seq1\n",
      "ATGAAGGG\n",
      ">seq2\n",
      "ATGAAGGG\n",
      ">seq3\n",
      "ATGAAGGG\n",
      "\n"
     ]
    }
   ],
   "source": [
    "nucs = aln.no_degenerates()\n",
    "print(nucs)"
   ]
  },
  {
   "cell_type": "code",
   "execution_count": 37,
   "id": "21374e88",
   "metadata": {
    "execution": {
     "iopub.execute_input": "2022-10-31T00:36:41.775152Z",
     "iopub.status.busy": "2022-10-31T00:36:41.774697Z",
     "iopub.status.idle": "2022-10-31T00:36:41.776524Z",
     "shell.execute_reply": "2022-10-31T00:36:41.776896Z"
    }
   },
   "outputs": [
    {
     "name": "stdout",
     "output_type": "stream",
     "text": [
      ">seq1\n",
      "ATGAAG\n",
      ">seq2\n",
      "ATGAAG\n",
      ">seq3\n",
      "ATGAAG\n",
      "\n"
     ]
    }
   ],
   "source": [
    "trinucs = aln.no_degenerates(motif_length=3)\n",
    "print(trinucs)"
   ]
  },
  {
   "cell_type": "code",
   "execution_count": 38,
   "id": "8c9ac0ee",
   "metadata": {
    "execution": {
     "iopub.execute_input": "2022-10-31T00:36:41.779846Z",
     "iopub.status.busy": "2022-10-31T00:36:41.779346Z",
     "iopub.status.idle": "2022-10-31T00:36:41.960453Z",
     "shell.execute_reply": "2022-10-31T00:36:41.960838Z"
    }
   },
   "outputs": [
    {
     "name": "stdout",
     "output_type": "stream",
     "text": [
      ">Human\n",
      "AAGCAAAACT\n",
      ">HowlerMon\n",
      "AAGCAAGACT\n",
      ">Mouse\n",
      "GGGCCCAGCT\n",
      ">NineBande\n",
      "AAATAAAACT\n",
      ">DogFaced\n",
      "AAACAAAATA\n",
      "\n"
     ]
    }
   ],
   "source": [
    "from cogent3 import load_aligned_seqs\n",
    "\n",
    "aln = load_aligned_seqs(\"data/long_testseqs.fasta\")\n",
    "pos = aln.variable_positions()\n",
    "just_variable_aln = aln.take_positions(pos)\n",
    "print(just_variable_aln[:10])"
   ]
  },
  {
   "cell_type": "code",
   "execution_count": 39,
   "id": "486399fe",
   "metadata": {
    "execution": {
     "iopub.execute_input": "2022-10-31T00:36:41.963974Z",
     "iopub.status.busy": "2022-10-31T00:36:41.963520Z",
     "iopub.status.idle": "2022-10-31T00:36:42.169521Z",
     "shell.execute_reply": "2022-10-31T00:36:42.169918Z"
    }
   },
   "outputs": [
    {
     "name": "stdout",
     "output_type": "stream",
     "text": [
      ">Human\n",
      "TGTGGCACAA\n",
      ">HowlerMon\n",
      "TGTGGCACAA\n",
      ">Mouse\n",
      "TGTGGCACAA\n",
      ">NineBande\n",
      "TGTGGCACAA\n",
      ">DogFaced\n",
      "TGTGGCACAA\n",
      "\n"
     ]
    }
   ],
   "source": [
    "from cogent3 import load_aligned_seqs\n",
    "\n",
    "aln = load_aligned_seqs(\"data/long_testseqs.fasta\")\n",
    "pos = aln.variable_positions()\n",
    "just_constant_aln = aln.take_positions(pos, negate=True)\n",
    "print(just_constant_aln[:10])"
   ]
  },
  {
   "cell_type": "code",
   "execution_count": 40,
   "id": "79b4d64e",
   "metadata": {
    "execution": {
     "iopub.execute_input": "2022-10-31T00:36:42.173697Z",
     "iopub.status.busy": "2022-10-31T00:36:42.173194Z",
     "iopub.status.idle": "2022-10-31T00:36:42.182212Z",
     "shell.execute_reply": "2022-10-31T00:36:42.182569Z"
    }
   },
   "outputs": [
    {
     "name": "stdout",
     "output_type": "stream",
     "text": [
      ">Human\n",
      "AAGCAAAAC\n",
      ">HowlerMon\n",
      "AAGCAAGAC\n",
      ">Mouse\n",
      "GGGCCCAGC\n",
      ">NineBande\n",
      "AAATAAAAC\n",
      ">DogFaced\n",
      "AAACAAAAT\n",
      "\n"
     ]
    }
   ],
   "source": [
    "from cogent3 import load_aligned_seqs\n",
    "\n",
    "aln = load_aligned_seqs(\"data/long_testseqs.fasta\")\n",
    "variable_codons = aln.filtered(\n",
    "    lambda x: len(set(map(tuple, x))) > 1, motif_length=3\n",
    ")\n",
    "print(just_variable_aln[:9])"
   ]
  },
  {
   "cell_type": "code",
   "execution_count": 41,
   "id": "78fe7703",
   "metadata": {
    "execution": {
     "iopub.execute_input": "2022-10-31T00:36:42.189554Z",
     "iopub.status.busy": "2022-10-31T00:36:42.188996Z",
     "iopub.status.idle": "2022-10-31T00:36:42.191009Z",
     "shell.execute_reply": "2022-10-31T00:36:42.191462Z"
    }
   },
   "outputs": [
    {
     "name": "stdout",
     "output_type": "stream",
     "text": [
      ">Human\n",
      "AAGCAAAAC\n",
      ">HowlerMon\n",
      "AAGCAAGAC\n",
      ">Mouse\n",
      "GGGCCCAGC\n",
      ">NineBande\n",
      "AAATAAAAC\n",
      ">DogFaced\n",
      "AAACAAAAT\n",
      "\n"
     ]
    }
   ],
   "source": [
    "aln = aln.to_type(array_align=False)\n",
    "variable_codons = aln.filtered(lambda x: len(set(\"\".join(x))) > 1, motif_length=3)\n",
    "print(just_variable_aln[:9])"
   ]
  },
  {
   "cell_type": "code",
   "execution_count": 42,
   "id": "772dcbcb",
   "metadata": {
    "execution": {
     "iopub.execute_input": "2022-10-31T00:36:42.194760Z",
     "iopub.status.busy": "2022-10-31T00:36:42.194287Z",
     "iopub.status.idle": "2022-10-31T00:36:42.203405Z",
     "shell.execute_reply": "2022-10-31T00:36:42.203687Z"
    }
   },
   "outputs": [
    {
     "data": {
      "text/html": [
       "<style>\n",
       ".c3align td { border: none !important; text-align: left !important; }\n",
       ".c3align tr:not(.num_row) td span {margin: 0 2px;}\n",
       ".c3align tr:nth-child(even) {background: #f7f7f7;}\n",
       ".c3align .num_row {background-color:rgba(161, 195, 209, 0.5) !important; border-top: solid 1px black; }\n",
       ".c3align .label { font-size: 12pt ; text-align: right !important; color: black !important; padding: 0 4px; display: table-cell !important; font-weight: normal !important; }\n",
       ".c3align .\u0000_bytes{font-family: \"Lucida Console\",monospace !important; font-size: 12pt !important; color: black; }\n",
       ".c3align .\u0001_bytes{font-family: \"Lucida Console\",monospace !important; font-size: 12pt !important; color: black; }\n",
       ".c3align .\u0002_bytes{font-family: \"Lucida Console\",monospace !important; font-size: 12pt !important; color: black; }\n",
       ".c3align .\u0003_bytes{font-family: \"Lucida Console\",monospace !important; font-size: 12pt !important; color: black; }\n",
       ".c3align .\u0004_bytes{font-family: \"Lucida Console\",monospace !important; font-size: 12pt !important; color: black; }\n",
       ".c3align .\u0005_bytes{font-family: \"Lucida Console\",monospace !important; font-size: 12pt !important; color: black; }\n",
       ".c3align .\u0006_bytes{font-family: \"Lucida Console\",monospace !important; font-size: 12pt !important; color: black; }\n",
       ".c3align .\u0007_bytes{font-family: \"Lucida Console\",monospace !important; font-size: 12pt !important; color: black; }\n",
       ".c3align .\b_bytes{font-family: \"Lucida Console\",monospace !important; font-size: 12pt !important; color: black; }\n",
       ".c3align .\t_bytes{font-family: \"Lucida Console\",monospace !important; font-size: 12pt !important; color: black; }\n",
       ".c3align .\n",
       "_bytes{font-family: \"Lucida Console\",monospace !important; font-size: 12pt !important; color: black; }\n",
       ".c3align .\u000b",
       "_bytes{font-family: \"Lucida Console\",monospace !important; font-size: 12pt !important; color: black; }\n",
       ".c3align .\f",
       "_bytes{font-family: \"Lucida Console\",monospace !important; font-size: 12pt !important; color: black; }\n",
       ".c3align .\r",
       "_bytes{font-family: \"Lucida Console\",monospace !important; font-size: 12pt !important; color: black; }\n",
       ".c3align .\u000e_bytes{font-family: \"Lucida Console\",monospace !important; font-size: 12pt !important; color: black; }\n",
       ".c3align .\u000f_bytes{font-family: \"Lucida Console\",monospace !important; font-size: 12pt !important; color: black; }\n",
       ".c3align .\u0010_bytes{font-family: \"Lucida Console\",monospace !important; font-size: 12pt !important; color: black; }\n",
       ".c3align .\u0011_bytes{font-family: \"Lucida Console\",monospace !important; font-size: 12pt !important; color: black; }\n",
       ".c3align .\u0012_bytes{font-family: \"Lucida Console\",monospace !important; font-size: 12pt !important; color: black; }\n",
       ".c3align .\u0013_bytes{font-family: \"Lucida Console\",monospace !important; font-size: 12pt !important; color: black; }\n",
       ".c3align .\u0014_bytes{font-family: \"Lucida Console\",monospace !important; font-size: 12pt !important; color: black; }\n",
       ".c3align .\u0015_bytes{font-family: \"Lucida Console\",monospace !important; font-size: 12pt !important; color: black; }\n",
       ".c3align .\u0016_bytes{font-family: \"Lucida Console\",monospace !important; font-size: 12pt !important; color: black; }\n",
       ".c3align .\u0017_bytes{font-family: \"Lucida Console\",monospace !important; font-size: 12pt !important; color: black; }\n",
       ".c3align .\u0018_bytes{font-family: \"Lucida Console\",monospace !important; font-size: 12pt !important; color: black; }\n",
       ".c3align .\u0019_bytes{font-family: \"Lucida Console\",monospace !important; font-size: 12pt !important; color: black; }\n",
       ".c3align .\u001a_bytes{font-family: \"Lucida Console\",monospace !important; font-size: 12pt !important; color: black; }\n",
       ".c3align .\u001b_bytes{font-family: \"Lucida Console\",monospace !important; font-size: 12pt !important; color: black; }\n",
       ".c3align .\u001c",
       "_bytes{font-family: \"Lucida Console\",monospace !important; font-size: 12pt !important; color: black; }\n",
       ".c3align .\u001d",
       "_bytes{font-family: \"Lucida Console\",monospace !important; font-size: 12pt !important; color: black; }\n",
       ".c3align .\u001e",
       "_bytes{font-family: \"Lucida Console\",monospace !important; font-size: 12pt !important; color: black; }\n",
       ".c3align .\u001f_bytes{font-family: \"Lucida Console\",monospace !important; font-size: 12pt !important; color: black; }\n",
       ".c3align . _bytes{font-family: \"Lucida Console\",monospace !important; font-size: 12pt !important; color: black; }\n",
       ".c3align .!_bytes{font-family: \"Lucida Console\",monospace !important; font-size: 12pt !important; color: black; }\n",
       ".c3align .\"_bytes{font-family: \"Lucida Console\",monospace !important; font-size: 12pt !important; color: black; }\n",
       ".c3align .#_bytes{font-family: \"Lucida Console\",monospace !important; font-size: 12pt !important; color: black; }\n",
       ".c3align .$_bytes{font-family: \"Lucida Console\",monospace !important; font-size: 12pt !important; color: black; }\n",
       ".c3align .%_bytes{font-family: \"Lucida Console\",monospace !important; font-size: 12pt !important; color: black; }\n",
       ".c3align .&_bytes{font-family: \"Lucida Console\",monospace !important; font-size: 12pt !important; color: black; }\n",
       ".c3align .'_bytes{font-family: \"Lucida Console\",monospace !important; font-size: 12pt !important; color: black; }\n",
       ".c3align .(_bytes{font-family: \"Lucida Console\",monospace !important; font-size: 12pt !important; color: black; }\n",
       ".c3align .)_bytes{font-family: \"Lucida Console\",monospace !important; font-size: 12pt !important; color: black; }\n",
       ".c3align .*_bytes{font-family: \"Lucida Console\",monospace !important; font-size: 12pt !important; color: black; }\n",
       ".c3align .+_bytes{font-family: \"Lucida Console\",monospace !important; font-size: 12pt !important; color: black; }\n",
       ".c3align .,_bytes{font-family: \"Lucida Console\",monospace !important; font-size: 12pt !important; color: black; }\n",
       ".c3align .-_bytes{font-family: \"Lucida Console\",monospace !important; font-size: 12pt !important; color: black; }\n",
       ".c3align .._bytes{font-family: \"Lucida Console\",monospace !important; font-size: 12pt !important; color: black; }\n",
       ".c3align ./_bytes{font-family: \"Lucida Console\",monospace !important; font-size: 12pt !important; color: black; }\n",
       ".c3align .0_bytes{font-family: \"Lucida Console\",monospace !important; font-size: 12pt !important; color: black; }\n",
       ".c3align .1_bytes{font-family: \"Lucida Console\",monospace !important; font-size: 12pt !important; color: black; }\n",
       ".c3align .2_bytes{font-family: \"Lucida Console\",monospace !important; font-size: 12pt !important; color: black; }\n",
       ".c3align .3_bytes{font-family: \"Lucida Console\",monospace !important; font-size: 12pt !important; color: black; }\n",
       ".c3align .4_bytes{font-family: \"Lucida Console\",monospace !important; font-size: 12pt !important; color: black; }\n",
       ".c3align .5_bytes{font-family: \"Lucida Console\",monospace !important; font-size: 12pt !important; color: black; }\n",
       ".c3align .6_bytes{font-family: \"Lucida Console\",monospace !important; font-size: 12pt !important; color: black; }\n",
       ".c3align .7_bytes{font-family: \"Lucida Console\",monospace !important; font-size: 12pt !important; color: black; }\n",
       ".c3align .8_bytes{font-family: \"Lucida Console\",monospace !important; font-size: 12pt !important; color: black; }\n",
       ".c3align .9_bytes{font-family: \"Lucida Console\",monospace !important; font-size: 12pt !important; color: black; }\n",
       ".c3align .:_bytes{font-family: \"Lucida Console\",monospace !important; font-size: 12pt !important; color: black; }\n",
       ".c3align .;_bytes{font-family: \"Lucida Console\",monospace !important; font-size: 12pt !important; color: black; }\n",
       ".c3align .<_bytes{font-family: \"Lucida Console\",monospace !important; font-size: 12pt !important; color: black; }\n",
       ".c3align .=_bytes{font-family: \"Lucida Console\",monospace !important; font-size: 12pt !important; color: black; }\n",
       ".c3align .>_bytes{font-family: \"Lucida Console\",monospace !important; font-size: 12pt !important; color: black; }\n",
       ".c3align .?_bytes{font-family: \"Lucida Console\",monospace !important; font-size: 12pt !important; color: black; }\n",
       ".c3align .@_bytes{font-family: \"Lucida Console\",monospace !important; font-size: 12pt !important; color: black; }\n",
       ".c3align .A_bytes{font-family: \"Lucida Console\",monospace !important; font-size: 12pt !important; color: black; }\n",
       ".c3align .B_bytes{font-family: \"Lucida Console\",monospace !important; font-size: 12pt !important; color: black; }\n",
       ".c3align .C_bytes{font-family: \"Lucida Console\",monospace !important; font-size: 12pt !important; color: black; }\n",
       ".c3align .D_bytes{font-family: \"Lucida Console\",monospace !important; font-size: 12pt !important; color: black; }\n",
       ".c3align .E_bytes{font-family: \"Lucida Console\",monospace !important; font-size: 12pt !important; color: black; }\n",
       ".c3align .F_bytes{font-family: \"Lucida Console\",monospace !important; font-size: 12pt !important; color: black; }\n",
       ".c3align .G_bytes{font-family: \"Lucida Console\",monospace !important; font-size: 12pt !important; color: black; }\n",
       ".c3align .H_bytes{font-family: \"Lucida Console\",monospace !important; font-size: 12pt !important; color: black; }\n",
       ".c3align .I_bytes{font-family: \"Lucida Console\",monospace !important; font-size: 12pt !important; color: black; }\n",
       ".c3align .J_bytes{font-family: \"Lucida Console\",monospace !important; font-size: 12pt !important; color: black; }\n",
       ".c3align .K_bytes{font-family: \"Lucida Console\",monospace !important; font-size: 12pt !important; color: black; }\n",
       ".c3align .L_bytes{font-family: \"Lucida Console\",monospace !important; font-size: 12pt !important; color: black; }\n",
       ".c3align .M_bytes{font-family: \"Lucida Console\",monospace !important; font-size: 12pt !important; color: black; }\n",
       ".c3align .N_bytes{font-family: \"Lucida Console\",monospace !important; font-size: 12pt !important; color: black; }\n",
       ".c3align .O_bytes{font-family: \"Lucida Console\",monospace !important; font-size: 12pt !important; color: black; }\n",
       ".c3align .P_bytes{font-family: \"Lucida Console\",monospace !important; font-size: 12pt !important; color: black; }\n",
       ".c3align .Q_bytes{font-family: \"Lucida Console\",monospace !important; font-size: 12pt !important; color: black; }\n",
       ".c3align .R_bytes{font-family: \"Lucida Console\",monospace !important; font-size: 12pt !important; color: black; }\n",
       ".c3align .S_bytes{font-family: \"Lucida Console\",monospace !important; font-size: 12pt !important; color: black; }\n",
       ".c3align .T_bytes{font-family: \"Lucida Console\",monospace !important; font-size: 12pt !important; color: black; }\n",
       ".c3align .U_bytes{font-family: \"Lucida Console\",monospace !important; font-size: 12pt !important; color: black; }\n",
       ".c3align .V_bytes{font-family: \"Lucida Console\",monospace !important; font-size: 12pt !important; color: black; }\n",
       ".c3align .W_bytes{font-family: \"Lucida Console\",monospace !important; font-size: 12pt !important; color: black; }\n",
       ".c3align .X_bytes{font-family: \"Lucida Console\",monospace !important; font-size: 12pt !important; color: black; }\n",
       ".c3align .Y_bytes{font-family: \"Lucida Console\",monospace !important; font-size: 12pt !important; color: black; }\n",
       ".c3align .Z_bytes{font-family: \"Lucida Console\",monospace !important; font-size: 12pt !important; color: black; }\n",
       ".c3align .[_bytes{font-family: \"Lucida Console\",monospace !important; font-size: 12pt !important; color: black; }\n",
       ".c3align .\\_bytes{font-family: \"Lucida Console\",monospace !important; font-size: 12pt !important; color: black; }\n",
       ".c3align .]_bytes{font-family: \"Lucida Console\",monospace !important; font-size: 12pt !important; color: black; }\n",
       ".c3align .^_bytes{font-family: \"Lucida Console\",monospace !important; font-size: 12pt !important; color: black; }\n",
       ".c3align .__bytes{font-family: \"Lucida Console\",monospace !important; font-size: 12pt !important; color: black; }\n",
       ".c3align .`_bytes{font-family: \"Lucida Console\",monospace !important; font-size: 12pt !important; color: black; }\n",
       ".c3align .a_bytes{font-family: \"Lucida Console\",monospace !important; font-size: 12pt !important; color: black; }\n",
       ".c3align .b_bytes{font-family: \"Lucida Console\",monospace !important; font-size: 12pt !important; color: black; }\n",
       ".c3align .c_bytes{font-family: \"Lucida Console\",monospace !important; font-size: 12pt !important; color: black; }\n",
       ".c3align .d_bytes{font-family: \"Lucida Console\",monospace !important; font-size: 12pt !important; color: black; }\n",
       ".c3align .e_bytes{font-family: \"Lucida Console\",monospace !important; font-size: 12pt !important; color: black; }\n",
       ".c3align .f_bytes{font-family: \"Lucida Console\",monospace !important; font-size: 12pt !important; color: black; }\n",
       ".c3align .g_bytes{font-family: \"Lucida Console\",monospace !important; font-size: 12pt !important; color: black; }\n",
       ".c3align .h_bytes{font-family: \"Lucida Console\",monospace !important; font-size: 12pt !important; color: black; }\n",
       ".c3align .i_bytes{font-family: \"Lucida Console\",monospace !important; font-size: 12pt !important; color: black; }\n",
       ".c3align .j_bytes{font-family: \"Lucida Console\",monospace !important; font-size: 12pt !important; color: black; }\n",
       ".c3align .k_bytes{font-family: \"Lucida Console\",monospace !important; font-size: 12pt !important; color: black; }\n",
       ".c3align .l_bytes{font-family: \"Lucida Console\",monospace !important; font-size: 12pt !important; color: black; }\n",
       ".c3align .m_bytes{font-family: \"Lucida Console\",monospace !important; font-size: 12pt !important; color: black; }\n",
       ".c3align .n_bytes{font-family: \"Lucida Console\",monospace !important; font-size: 12pt !important; color: black; }\n",
       ".c3align .o_bytes{font-family: \"Lucida Console\",monospace !important; font-size: 12pt !important; color: black; }\n",
       ".c3align .p_bytes{font-family: \"Lucida Console\",monospace !important; font-size: 12pt !important; color: black; }\n",
       ".c3align .q_bytes{font-family: \"Lucida Console\",monospace !important; font-size: 12pt !important; color: black; }\n",
       ".c3align .r_bytes{font-family: \"Lucida Console\",monospace !important; font-size: 12pt !important; color: black; }\n",
       ".c3align .s_bytes{font-family: \"Lucida Console\",monospace !important; font-size: 12pt !important; color: black; }\n",
       ".c3align .t_bytes{font-family: \"Lucida Console\",monospace !important; font-size: 12pt !important; color: black; }\n",
       ".c3align .u_bytes{font-family: \"Lucida Console\",monospace !important; font-size: 12pt !important; color: black; }\n",
       ".c3align .v_bytes{font-family: \"Lucida Console\",monospace !important; font-size: 12pt !important; color: black; }\n",
       ".c3align .w_bytes{font-family: \"Lucida Console\",monospace !important; font-size: 12pt !important; color: black; }\n",
       ".c3align .x_bytes{font-family: \"Lucida Console\",monospace !important; font-size: 12pt !important; color: black; }\n",
       ".c3align .y_bytes{font-family: \"Lucida Console\",monospace !important; font-size: 12pt !important; color: black; }\n",
       ".c3align .z_bytes{font-family: \"Lucida Console\",monospace !important; font-size: 12pt !important; color: black; }\n",
       ".c3align .{_bytes{font-family: \"Lucida Console\",monospace !important; font-size: 12pt !important; color: black; }\n",
       ".c3align .|_bytes{font-family: \"Lucida Console\",monospace !important; font-size: 12pt !important; color: black; }\n",
       ".c3align .}_bytes{font-family: \"Lucida Console\",monospace !important; font-size: 12pt !important; color: black; }\n",
       ".c3align .~_bytes{font-family: \"Lucida Console\",monospace !important; font-size: 12pt !important; color: black; }\n",
       ".c3align ._bytes{font-family: \"Lucida Console\",monospace !important; font-size: 12pt !important; color: black; }\n",
       ".c3align ._bytes{font-family: \"Lucida Console\",monospace !important; font-size: 12pt !important; color: black; }\n",
       ".c3align ._bytes{font-family: \"Lucida Console\",monospace !important; font-size: 12pt !important; color: black; }\n",
       ".c3align ._bytes{font-family: \"Lucida Console\",monospace !important; font-size: 12pt !important; color: black; }\n",
       ".c3align ._bytes{font-family: \"Lucida Console\",monospace !important; font-size: 12pt !important; color: black; }\n",
       ".c3align ._bytes{font-family: \"Lucida Console\",monospace !important; font-size: 12pt !important; color: black; }\n",
       ".c3align .",
       "_bytes{font-family: \"Lucida Console\",monospace !important; font-size: 12pt !important; color: black; }\n",
       ".c3align ._bytes{font-family: \"Lucida Console\",monospace !important; font-size: 12pt !important; color: black; }\n",
       ".c3align ._bytes{font-family: \"Lucida Console\",monospace !important; font-size: 12pt !important; color: black; }\n",
       ".c3align ._bytes{font-family: \"Lucida Console\",monospace !important; font-size: 12pt !important; color: black; }\n",
       ".c3align ._bytes{font-family: \"Lucida Console\",monospace !important; font-size: 12pt !important; color: black; }\n",
       ".c3align ._bytes{font-family: \"Lucida Console\",monospace !important; font-size: 12pt !important; color: black; }\n",
       ".c3align ._bytes{font-family: \"Lucida Console\",monospace !important; font-size: 12pt !important; color: black; }\n",
       ".c3align ._bytes{font-family: \"Lucida Console\",monospace !important; font-size: 12pt !important; color: black; }\n",
       ".c3align ._bytes{font-family: \"Lucida Console\",monospace !important; font-size: 12pt !important; color: black; }\n",
       ".c3align ._bytes{font-family: \"Lucida Console\",monospace !important; font-size: 12pt !important; color: black; }\n",
       ".c3align ._bytes{font-family: \"Lucida Console\",monospace !important; font-size: 12pt !important; color: black; }\n",
       ".c3align ._bytes{font-family: \"Lucida Console\",monospace !important; font-size: 12pt !important; color: black; }\n",
       ".c3align ._bytes{font-family: \"Lucida Console\",monospace !important; font-size: 12pt !important; color: black; }\n",
       ".c3align ._bytes{font-family: \"Lucida Console\",monospace !important; font-size: 12pt !important; color: black; }\n",
       ".c3align ._bytes{font-family: \"Lucida Console\",monospace !important; font-size: 12pt !important; color: black; }\n",
       ".c3align ._bytes{font-family: \"Lucida Console\",monospace !important; font-size: 12pt !important; color: black; }\n",
       ".c3align ._bytes{font-family: \"Lucida Console\",monospace !important; font-size: 12pt !important; color: black; }\n",
       ".c3align ._bytes{font-family: \"Lucida Console\",monospace !important; font-size: 12pt !important; color: black; }\n",
       ".c3align ._bytes{font-family: \"Lucida Console\",monospace !important; font-size: 12pt !important; color: black; }\n",
       ".c3align ._bytes{font-family: \"Lucida Console\",monospace !important; font-size: 12pt !important; color: black; }\n",
       ".c3align ._bytes{font-family: \"Lucida Console\",monospace !important; font-size: 12pt !important; color: black; }\n",
       ".c3align ._bytes{font-family: \"Lucida Console\",monospace !important; font-size: 12pt !important; color: black; }\n",
       ".c3align ._bytes{font-family: \"Lucida Console\",monospace !important; font-size: 12pt !important; color: black; }\n",
       ".c3align ._bytes{font-family: \"Lucida Console\",monospace !important; font-size: 12pt !important; color: black; }\n",
       ".c3align ._bytes{font-family: \"Lucida Console\",monospace !important; font-size: 12pt !important; color: black; }\n",
       ".c3align ._bytes{font-family: \"Lucida Console\",monospace !important; font-size: 12pt !important; color: black; }\n",
       ".c3align ._bytes{font-family: \"Lucida Console\",monospace !important; font-size: 12pt !important; color: black; }\n",
       ".c3align . _bytes{font-family: \"Lucida Console\",monospace !important; font-size: 12pt !important; color: black; }\n",
       ".c3align .¡_bytes{font-family: \"Lucida Console\",monospace !important; font-size: 12pt !important; color: black; }\n",
       ".c3align .¢_bytes{font-family: \"Lucida Console\",monospace !important; font-size: 12pt !important; color: black; }\n",
       ".c3align .£_bytes{font-family: \"Lucida Console\",monospace !important; font-size: 12pt !important; color: black; }\n",
       ".c3align .¤_bytes{font-family: \"Lucida Console\",monospace !important; font-size: 12pt !important; color: black; }\n",
       ".c3align .¥_bytes{font-family: \"Lucida Console\",monospace !important; font-size: 12pt !important; color: black; }\n",
       ".c3align .¦_bytes{font-family: \"Lucida Console\",monospace !important; font-size: 12pt !important; color: black; }\n",
       ".c3align .§_bytes{font-family: \"Lucida Console\",monospace !important; font-size: 12pt !important; color: black; }\n",
       ".c3align .¨_bytes{font-family: \"Lucida Console\",monospace !important; font-size: 12pt !important; color: black; }\n",
       ".c3align .©_bytes{font-family: \"Lucida Console\",monospace !important; font-size: 12pt !important; color: black; }\n",
       ".c3align .ª_bytes{font-family: \"Lucida Console\",monospace !important; font-size: 12pt !important; color: black; }\n",
       ".c3align .«_bytes{font-family: \"Lucida Console\",monospace !important; font-size: 12pt !important; color: black; }\n",
       ".c3align .¬_bytes{font-family: \"Lucida Console\",monospace !important; font-size: 12pt !important; color: black; }\n",
       ".c3align .­_bytes{font-family: \"Lucida Console\",monospace !important; font-size: 12pt !important; color: black; }\n",
       ".c3align .®_bytes{font-family: \"Lucida Console\",monospace !important; font-size: 12pt !important; color: black; }\n",
       ".c3align .¯_bytes{font-family: \"Lucida Console\",monospace !important; font-size: 12pt !important; color: black; }\n",
       ".c3align .°_bytes{font-family: \"Lucida Console\",monospace !important; font-size: 12pt !important; color: black; }\n",
       ".c3align .±_bytes{font-family: \"Lucida Console\",monospace !important; font-size: 12pt !important; color: black; }\n",
       ".c3align .²_bytes{font-family: \"Lucida Console\",monospace !important; font-size: 12pt !important; color: black; }\n",
       ".c3align .³_bytes{font-family: \"Lucida Console\",monospace !important; font-size: 12pt !important; color: black; }\n",
       ".c3align .´_bytes{font-family: \"Lucida Console\",monospace !important; font-size: 12pt !important; color: black; }\n",
       ".c3align .µ_bytes{font-family: \"Lucida Console\",monospace !important; font-size: 12pt !important; color: black; }\n",
       ".c3align .¶_bytes{font-family: \"Lucida Console\",monospace !important; font-size: 12pt !important; color: black; }\n",
       ".c3align .·_bytes{font-family: \"Lucida Console\",monospace !important; font-size: 12pt !important; color: black; }\n",
       ".c3align .¸_bytes{font-family: \"Lucida Console\",monospace !important; font-size: 12pt !important; color: black; }\n",
       ".c3align .¹_bytes{font-family: \"Lucida Console\",monospace !important; font-size: 12pt !important; color: black; }\n",
       ".c3align .º_bytes{font-family: \"Lucida Console\",monospace !important; font-size: 12pt !important; color: black; }\n",
       ".c3align .»_bytes{font-family: \"Lucida Console\",monospace !important; font-size: 12pt !important; color: black; }\n",
       ".c3align .¼_bytes{font-family: \"Lucida Console\",monospace !important; font-size: 12pt !important; color: black; }\n",
       ".c3align .½_bytes{font-family: \"Lucida Console\",monospace !important; font-size: 12pt !important; color: black; }\n",
       ".c3align .¾_bytes{font-family: \"Lucida Console\",monospace !important; font-size: 12pt !important; color: black; }\n",
       ".c3align .¿_bytes{font-family: \"Lucida Console\",monospace !important; font-size: 12pt !important; color: black; }\n",
       ".c3align .À_bytes{font-family: \"Lucida Console\",monospace !important; font-size: 12pt !important; color: black; }\n",
       ".c3align .Á_bytes{font-family: \"Lucida Console\",monospace !important; font-size: 12pt !important; color: black; }\n",
       ".c3align .Â_bytes{font-family: \"Lucida Console\",monospace !important; font-size: 12pt !important; color: black; }\n",
       ".c3align .Ã_bytes{font-family: \"Lucida Console\",monospace !important; font-size: 12pt !important; color: black; }\n",
       ".c3align .Ä_bytes{font-family: \"Lucida Console\",monospace !important; font-size: 12pt !important; color: black; }\n",
       ".c3align .Å_bytes{font-family: \"Lucida Console\",monospace !important; font-size: 12pt !important; color: black; }\n",
       ".c3align .Æ_bytes{font-family: \"Lucida Console\",monospace !important; font-size: 12pt !important; color: black; }\n",
       ".c3align .Ç_bytes{font-family: \"Lucida Console\",monospace !important; font-size: 12pt !important; color: black; }\n",
       ".c3align .È_bytes{font-family: \"Lucida Console\",monospace !important; font-size: 12pt !important; color: black; }\n",
       ".c3align .É_bytes{font-family: \"Lucida Console\",monospace !important; font-size: 12pt !important; color: black; }\n",
       ".c3align .Ê_bytes{font-family: \"Lucida Console\",monospace !important; font-size: 12pt !important; color: black; }\n",
       ".c3align .Ë_bytes{font-family: \"Lucida Console\",monospace !important; font-size: 12pt !important; color: black; }\n",
       ".c3align .Ì_bytes{font-family: \"Lucida Console\",monospace !important; font-size: 12pt !important; color: black; }\n",
       ".c3align .Í_bytes{font-family: \"Lucida Console\",monospace !important; font-size: 12pt !important; color: black; }\n",
       ".c3align .Î_bytes{font-family: \"Lucida Console\",monospace !important; font-size: 12pt !important; color: black; }\n",
       ".c3align .Ï_bytes{font-family: \"Lucida Console\",monospace !important; font-size: 12pt !important; color: black; }\n",
       ".c3align .Ð_bytes{font-family: \"Lucida Console\",monospace !important; font-size: 12pt !important; color: black; }\n",
       ".c3align .Ñ_bytes{font-family: \"Lucida Console\",monospace !important; font-size: 12pt !important; color: black; }\n",
       ".c3align .Ò_bytes{font-family: \"Lucida Console\",monospace !important; font-size: 12pt !important; color: black; }\n",
       ".c3align .Ó_bytes{font-family: \"Lucida Console\",monospace !important; font-size: 12pt !important; color: black; }\n",
       ".c3align .Ô_bytes{font-family: \"Lucida Console\",monospace !important; font-size: 12pt !important; color: black; }\n",
       ".c3align .Õ_bytes{font-family: \"Lucida Console\",monospace !important; font-size: 12pt !important; color: black; }\n",
       ".c3align .Ö_bytes{font-family: \"Lucida Console\",monospace !important; font-size: 12pt !important; color: black; }\n",
       ".c3align .×_bytes{font-family: \"Lucida Console\",monospace !important; font-size: 12pt !important; color: black; }\n",
       ".c3align .Ø_bytes{font-family: \"Lucida Console\",monospace !important; font-size: 12pt !important; color: black; }\n",
       ".c3align .Ù_bytes{font-family: \"Lucida Console\",monospace !important; font-size: 12pt !important; color: black; }\n",
       ".c3align .Ú_bytes{font-family: \"Lucida Console\",monospace !important; font-size: 12pt !important; color: black; }\n",
       ".c3align .Û_bytes{font-family: \"Lucida Console\",monospace !important; font-size: 12pt !important; color: black; }\n",
       ".c3align .Ü_bytes{font-family: \"Lucida Console\",monospace !important; font-size: 12pt !important; color: black; }\n",
       ".c3align .Ý_bytes{font-family: \"Lucida Console\",monospace !important; font-size: 12pt !important; color: black; }\n",
       ".c3align .Þ_bytes{font-family: \"Lucida Console\",monospace !important; font-size: 12pt !important; color: black; }\n",
       ".c3align .ß_bytes{font-family: \"Lucida Console\",monospace !important; font-size: 12pt !important; color: black; }\n",
       ".c3align .à_bytes{font-family: \"Lucida Console\",monospace !important; font-size: 12pt !important; color: black; }\n",
       ".c3align .á_bytes{font-family: \"Lucida Console\",monospace !important; font-size: 12pt !important; color: black; }\n",
       ".c3align .â_bytes{font-family: \"Lucida Console\",monospace !important; font-size: 12pt !important; color: black; }\n",
       ".c3align .ã_bytes{font-family: \"Lucida Console\",monospace !important; font-size: 12pt !important; color: black; }\n",
       ".c3align .ä_bytes{font-family: \"Lucida Console\",monospace !important; font-size: 12pt !important; color: black; }\n",
       ".c3align .å_bytes{font-family: \"Lucida Console\",monospace !important; font-size: 12pt !important; color: black; }\n",
       ".c3align .æ_bytes{font-family: \"Lucida Console\",monospace !important; font-size: 12pt !important; color: black; }\n",
       ".c3align .ç_bytes{font-family: \"Lucida Console\",monospace !important; font-size: 12pt !important; color: black; }\n",
       ".c3align .è_bytes{font-family: \"Lucida Console\",monospace !important; font-size: 12pt !important; color: black; }\n",
       ".c3align .é_bytes{font-family: \"Lucida Console\",monospace !important; font-size: 12pt !important; color: black; }\n",
       ".c3align .ê_bytes{font-family: \"Lucida Console\",monospace !important; font-size: 12pt !important; color: black; }\n",
       ".c3align .ë_bytes{font-family: \"Lucida Console\",monospace !important; font-size: 12pt !important; color: black; }\n",
       ".c3align .ì_bytes{font-family: \"Lucida Console\",monospace !important; font-size: 12pt !important; color: black; }\n",
       ".c3align .í_bytes{font-family: \"Lucida Console\",monospace !important; font-size: 12pt !important; color: black; }\n",
       ".c3align .î_bytes{font-family: \"Lucida Console\",monospace !important; font-size: 12pt !important; color: black; }\n",
       ".c3align .ï_bytes{font-family: \"Lucida Console\",monospace !important; font-size: 12pt !important; color: black; }\n",
       ".c3align .ð_bytes{font-family: \"Lucida Console\",monospace !important; font-size: 12pt !important; color: black; }\n",
       ".c3align .ñ_bytes{font-family: \"Lucida Console\",monospace !important; font-size: 12pt !important; color: black; }\n",
       ".c3align .ò_bytes{font-family: \"Lucida Console\",monospace !important; font-size: 12pt !important; color: black; }\n",
       ".c3align .ó_bytes{font-family: \"Lucida Console\",monospace !important; font-size: 12pt !important; color: black; }\n",
       ".c3align .ô_bytes{font-family: \"Lucida Console\",monospace !important; font-size: 12pt !important; color: black; }\n",
       ".c3align .õ_bytes{font-family: \"Lucida Console\",monospace !important; font-size: 12pt !important; color: black; }\n",
       ".c3align .ö_bytes{font-family: \"Lucida Console\",monospace !important; font-size: 12pt !important; color: black; }\n",
       ".c3align .÷_bytes{font-family: \"Lucida Console\",monospace !important; font-size: 12pt !important; color: black; }\n",
       ".c3align .ø_bytes{font-family: \"Lucida Console\",monospace !important; font-size: 12pt !important; color: black; }\n",
       ".c3align .ù_bytes{font-family: \"Lucida Console\",monospace !important; font-size: 12pt !important; color: black; }\n",
       ".c3align .ú_bytes{font-family: \"Lucida Console\",monospace !important; font-size: 12pt !important; color: black; }\n",
       ".c3align .û_bytes{font-family: \"Lucida Console\",monospace !important; font-size: 12pt !important; color: black; }\n",
       ".c3align .ü_bytes{font-family: \"Lucida Console\",monospace !important; font-size: 12pt !important; color: black; }\n",
       ".c3align .ý_bytes{font-family: \"Lucida Console\",monospace !important; font-size: 12pt !important; color: black; }\n",
       ".c3align .þ_bytes{font-family: \"Lucida Console\",monospace !important; font-size: 12pt !important; color: black; }\n",
       ".c3align .ÿ_bytes{font-family: \"Lucida Console\",monospace !important; font-size: 12pt !important; color: black; }\n",
       ".c3align .terminal_ambig_bytes{font-family: \"Lucida Console\",monospace !important; font-size: 12pt !important; color: black; }\n",
       ".c3align .ambig_bytes{font-family: \"Lucida Console\",monospace !important; font-size: 12pt !important; color: black; }\n",
       "</style>\n",
       "<div class=\"c3align\">\n",
       "<table>\n",
       "<tr class=\"num_row\"><td></td><td><b>0</b></td></tr>\n",
       "<tr><td class=\"label\">Human</td><td><span class=\"T_bytes\">T</span><span class=\"G_bytes\">G</span><span class=\"T_bytes\">T</span><span class=\"G_bytes\">G</span><span class=\"G_bytes\">G</span><span class=\"C_bytes\">C</span><span class=\"A_bytes\">A</span><span class=\"C_bytes\">C</span><span class=\"A_bytes\">A</span><span class=\"A_bytes\">A</span><span class=\"A_bytes\">A</span><span class=\"T_bytes\">T</span><span class=\"A_bytes\">A</span><span class=\"C_bytes\">C</span><span class=\"T_bytes\">T</span><span class=\"C_bytes\">C</span><span class=\"A_bytes\">A</span><span class=\"T_bytes\">T</span><span class=\"G_bytes\">G</span><span class=\"C_bytes\">C</span><span class=\"C_bytes\">C</span><span class=\"A_bytes\">A</span><span class=\"G_bytes\">G</span><span class=\"C_bytes\">C</span><span class=\"T_bytes\">T</span><span class=\"C_bytes\">C</span><span class=\"A_bytes\">A</span><span class=\"T_bytes\">T</span><span class=\"T_bytes\">T</span><span class=\"A_bytes\">A</span><span class=\"C_bytes\">C</span><span class=\"A_bytes\">A</span><span class=\"G_bytes\">G</span><span class=\"C_bytes\">C</span><span class=\"A_bytes\">A</span><span class=\"T_bytes\">T</span><span class=\"G_bytes\">G</span><span class=\"A_bytes\">A</span><span class=\"G_bytes\">G</span><span class=\"A_bytes\">A</span><span class=\"A_bytes\">A</span><span class=\"C_bytes\">C</span><span class=\"A_bytes\">A</span><span class=\"G_bytes\">G</span><span class=\"C_bytes\">C</span><span class=\"A_bytes\">A</span><span class=\"G_bytes\">G</span><span class=\"T_bytes\">T</span><span class=\"T_bytes\">T</span><span class=\"T_bytes\">T</span><span class=\"A_bytes\">A</span><span class=\"T_bytes\">T</span><span class=\"T_bytes\">T</span><span class=\"A_bytes\">A</span><span class=\"C_bytes\">C</span><span class=\"T_bytes\">T</span><span class=\"C_bytes\">C</span><span class=\"A_bytes\">A</span><span class=\"C_bytes\">C</span><span class=\"T_bytes\">T</span></td></tr>\n",
       "<tr><td class=\"label\">Mouse</td><td><span class=\"T_bytes\">.</span><span class=\"G_bytes\">.</span><span class=\"T_bytes\">.</span><span class=\"G_bytes\">.</span><span class=\"G_bytes\">.</span><span class=\"C_bytes\">.</span><span class=\"A_bytes\">.</span><span class=\"C_bytes\">.</span><span class=\"A_bytes\">.</span><span class=\"G_bytes\">G</span><span class=\"A_bytes\">.</span><span class=\"T_bytes\">.</span><span class=\"G_bytes\">G</span><span class=\"C_bytes\">.</span><span class=\"T_bytes\">.</span><span class=\"C_bytes\">.</span><span class=\"A_bytes\">.</span><span class=\"T_bytes\">.</span><span class=\"G_bytes\">.</span><span class=\"C_bytes\">.</span><span class=\"C_bytes\">.</span><span class=\"A_bytes\">.</span><span class=\"G_bytes\">.</span><span class=\"C_bytes\">.</span><span class=\"T_bytes\">.</span><span class=\"C_bytes\">.</span><span class=\"A_bytes\">.</span><span class=\"T_bytes\">.</span><span class=\"T_bytes\">.</span><span class=\"A_bytes\">.</span><span class=\"C_bytes\">.</span><span class=\"A_bytes\">.</span><span class=\"G_bytes\">.</span><span class=\"C_bytes\">.</span><span class=\"C_bytes\">C</span><span class=\"T_bytes\">.</span><span class=\"G_bytes\">.</span><span class=\"A_bytes\">.</span><span class=\"G_bytes\">.</span><span class=\"A_bytes\">.</span><span class=\"C_bytes\">C</span><span class=\"C_bytes\">.</span><span class=\"A_bytes\">.</span><span class=\"G_bytes\">.</span><span class=\"C_bytes\">.</span><span class=\"A_bytes\">.</span><span class=\"G_bytes\">.</span><span class=\"T_bytes\">.</span><span class=\"T_bytes\">.</span><span class=\"T_bytes\">.</span><span class=\"A_bytes\">.</span><span class=\"T_bytes\">.</span><span class=\"T_bytes\">.</span><span class=\"G_bytes\">G</span><span class=\"C_bytes\">.</span><span class=\"T_bytes\">.</span><span class=\"C_bytes\">.</span><span class=\"A_bytes\">.</span><span class=\"T_bytes\">T</span><span class=\"T_bytes\">.</span></td></tr>\n",
       "</table>\n",
       "<p><i>2 x 2532 (truncated to 2 x 60) bytes alignment</i></p>\n",
       "</div>"
      ],
      "text/plain": [
       "2 x 2532 alignment: Human[TGTGGCACAAA...], Mouse[TGTGGCACAGA...]"
      ]
     },
     "execution_count": 42,
     "metadata": {},
     "output_type": "execute_result"
    }
   ],
   "source": [
    "from cogent3 import load_aligned_seqs\n",
    "\n",
    "aln = load_aligned_seqs(\"data/long_testseqs.fasta\")\n",
    "aln.take_seqs([\"Human\", \"Mouse\"])"
   ]
  },
  {
   "cell_type": "code",
   "execution_count": 43,
   "id": "a201da29",
   "metadata": {
    "execution": {
     "iopub.execute_input": "2022-10-31T00:36:42.207643Z",
     "iopub.status.busy": "2022-10-31T00:36:42.207205Z",
     "iopub.status.idle": "2022-10-31T00:36:42.214809Z",
     "shell.execute_reply": "2022-10-31T00:36:42.215186Z"
    }
   },
   "outputs": [
    {
     "data": {
      "text/html": [
       "<style>\n",
       ".c3align td { border: none !important; text-align: left !important; }\n",
       ".c3align tr:not(.num_row) td span {margin: 0 2px;}\n",
       ".c3align tr:nth-child(even) {background: #f7f7f7;}\n",
       ".c3align .num_row {background-color:rgba(161, 195, 209, 0.5) !important; border-top: solid 1px black; }\n",
       ".c3align .label { font-size: 12pt ; text-align: right !important; color: black !important; padding: 0 4px; display: table-cell !important; font-weight: normal !important; }\n",
       ".c3align .\u0000_bytes{font-family: \"Lucida Console\",monospace !important; font-size: 12pt !important; color: black; }\n",
       ".c3align .\u0001_bytes{font-family: \"Lucida Console\",monospace !important; font-size: 12pt !important; color: black; }\n",
       ".c3align .\u0002_bytes{font-family: \"Lucida Console\",monospace !important; font-size: 12pt !important; color: black; }\n",
       ".c3align .\u0003_bytes{font-family: \"Lucida Console\",monospace !important; font-size: 12pt !important; color: black; }\n",
       ".c3align .\u0004_bytes{font-family: \"Lucida Console\",monospace !important; font-size: 12pt !important; color: black; }\n",
       ".c3align .\u0005_bytes{font-family: \"Lucida Console\",monospace !important; font-size: 12pt !important; color: black; }\n",
       ".c3align .\u0006_bytes{font-family: \"Lucida Console\",monospace !important; font-size: 12pt !important; color: black; }\n",
       ".c3align .\u0007_bytes{font-family: \"Lucida Console\",monospace !important; font-size: 12pt !important; color: black; }\n",
       ".c3align .\b_bytes{font-family: \"Lucida Console\",monospace !important; font-size: 12pt !important; color: black; }\n",
       ".c3align .\t_bytes{font-family: \"Lucida Console\",monospace !important; font-size: 12pt !important; color: black; }\n",
       ".c3align .\n",
       "_bytes{font-family: \"Lucida Console\",monospace !important; font-size: 12pt !important; color: black; }\n",
       ".c3align .\u000b",
       "_bytes{font-family: \"Lucida Console\",monospace !important; font-size: 12pt !important; color: black; }\n",
       ".c3align .\f",
       "_bytes{font-family: \"Lucida Console\",monospace !important; font-size: 12pt !important; color: black; }\n",
       ".c3align .\r",
       "_bytes{font-family: \"Lucida Console\",monospace !important; font-size: 12pt !important; color: black; }\n",
       ".c3align .\u000e_bytes{font-family: \"Lucida Console\",monospace !important; font-size: 12pt !important; color: black; }\n",
       ".c3align .\u000f_bytes{font-family: \"Lucida Console\",monospace !important; font-size: 12pt !important; color: black; }\n",
       ".c3align .\u0010_bytes{font-family: \"Lucida Console\",monospace !important; font-size: 12pt !important; color: black; }\n",
       ".c3align .\u0011_bytes{font-family: \"Lucida Console\",monospace !important; font-size: 12pt !important; color: black; }\n",
       ".c3align .\u0012_bytes{font-family: \"Lucida Console\",monospace !important; font-size: 12pt !important; color: black; }\n",
       ".c3align .\u0013_bytes{font-family: \"Lucida Console\",monospace !important; font-size: 12pt !important; color: black; }\n",
       ".c3align .\u0014_bytes{font-family: \"Lucida Console\",monospace !important; font-size: 12pt !important; color: black; }\n",
       ".c3align .\u0015_bytes{font-family: \"Lucida Console\",monospace !important; font-size: 12pt !important; color: black; }\n",
       ".c3align .\u0016_bytes{font-family: \"Lucida Console\",monospace !important; font-size: 12pt !important; color: black; }\n",
       ".c3align .\u0017_bytes{font-family: \"Lucida Console\",monospace !important; font-size: 12pt !important; color: black; }\n",
       ".c3align .\u0018_bytes{font-family: \"Lucida Console\",monospace !important; font-size: 12pt !important; color: black; }\n",
       ".c3align .\u0019_bytes{font-family: \"Lucida Console\",monospace !important; font-size: 12pt !important; color: black; }\n",
       ".c3align .\u001a_bytes{font-family: \"Lucida Console\",monospace !important; font-size: 12pt !important; color: black; }\n",
       ".c3align .\u001b_bytes{font-family: \"Lucida Console\",monospace !important; font-size: 12pt !important; color: black; }\n",
       ".c3align .\u001c",
       "_bytes{font-family: \"Lucida Console\",monospace !important; font-size: 12pt !important; color: black; }\n",
       ".c3align .\u001d",
       "_bytes{font-family: \"Lucida Console\",monospace !important; font-size: 12pt !important; color: black; }\n",
       ".c3align .\u001e",
       "_bytes{font-family: \"Lucida Console\",monospace !important; font-size: 12pt !important; color: black; }\n",
       ".c3align .\u001f_bytes{font-family: \"Lucida Console\",monospace !important; font-size: 12pt !important; color: black; }\n",
       ".c3align . _bytes{font-family: \"Lucida Console\",monospace !important; font-size: 12pt !important; color: black; }\n",
       ".c3align .!_bytes{font-family: \"Lucida Console\",monospace !important; font-size: 12pt !important; color: black; }\n",
       ".c3align .\"_bytes{font-family: \"Lucida Console\",monospace !important; font-size: 12pt !important; color: black; }\n",
       ".c3align .#_bytes{font-family: \"Lucida Console\",monospace !important; font-size: 12pt !important; color: black; }\n",
       ".c3align .$_bytes{font-family: \"Lucida Console\",monospace !important; font-size: 12pt !important; color: black; }\n",
       ".c3align .%_bytes{font-family: \"Lucida Console\",monospace !important; font-size: 12pt !important; color: black; }\n",
       ".c3align .&_bytes{font-family: \"Lucida Console\",monospace !important; font-size: 12pt !important; color: black; }\n",
       ".c3align .'_bytes{font-family: \"Lucida Console\",monospace !important; font-size: 12pt !important; color: black; }\n",
       ".c3align .(_bytes{font-family: \"Lucida Console\",monospace !important; font-size: 12pt !important; color: black; }\n",
       ".c3align .)_bytes{font-family: \"Lucida Console\",monospace !important; font-size: 12pt !important; color: black; }\n",
       ".c3align .*_bytes{font-family: \"Lucida Console\",monospace !important; font-size: 12pt !important; color: black; }\n",
       ".c3align .+_bytes{font-family: \"Lucida Console\",monospace !important; font-size: 12pt !important; color: black; }\n",
       ".c3align .,_bytes{font-family: \"Lucida Console\",monospace !important; font-size: 12pt !important; color: black; }\n",
       ".c3align .-_bytes{font-family: \"Lucida Console\",monospace !important; font-size: 12pt !important; color: black; }\n",
       ".c3align .._bytes{font-family: \"Lucida Console\",monospace !important; font-size: 12pt !important; color: black; }\n",
       ".c3align ./_bytes{font-family: \"Lucida Console\",monospace !important; font-size: 12pt !important; color: black; }\n",
       ".c3align .0_bytes{font-family: \"Lucida Console\",monospace !important; font-size: 12pt !important; color: black; }\n",
       ".c3align .1_bytes{font-family: \"Lucida Console\",monospace !important; font-size: 12pt !important; color: black; }\n",
       ".c3align .2_bytes{font-family: \"Lucida Console\",monospace !important; font-size: 12pt !important; color: black; }\n",
       ".c3align .3_bytes{font-family: \"Lucida Console\",monospace !important; font-size: 12pt !important; color: black; }\n",
       ".c3align .4_bytes{font-family: \"Lucida Console\",monospace !important; font-size: 12pt !important; color: black; }\n",
       ".c3align .5_bytes{font-family: \"Lucida Console\",monospace !important; font-size: 12pt !important; color: black; }\n",
       ".c3align .6_bytes{font-family: \"Lucida Console\",monospace !important; font-size: 12pt !important; color: black; }\n",
       ".c3align .7_bytes{font-family: \"Lucida Console\",monospace !important; font-size: 12pt !important; color: black; }\n",
       ".c3align .8_bytes{font-family: \"Lucida Console\",monospace !important; font-size: 12pt !important; color: black; }\n",
       ".c3align .9_bytes{font-family: \"Lucida Console\",monospace !important; font-size: 12pt !important; color: black; }\n",
       ".c3align .:_bytes{font-family: \"Lucida Console\",monospace !important; font-size: 12pt !important; color: black; }\n",
       ".c3align .;_bytes{font-family: \"Lucida Console\",monospace !important; font-size: 12pt !important; color: black; }\n",
       ".c3align .<_bytes{font-family: \"Lucida Console\",monospace !important; font-size: 12pt !important; color: black; }\n",
       ".c3align .=_bytes{font-family: \"Lucida Console\",monospace !important; font-size: 12pt !important; color: black; }\n",
       ".c3align .>_bytes{font-family: \"Lucida Console\",monospace !important; font-size: 12pt !important; color: black; }\n",
       ".c3align .?_bytes{font-family: \"Lucida Console\",monospace !important; font-size: 12pt !important; color: black; }\n",
       ".c3align .@_bytes{font-family: \"Lucida Console\",monospace !important; font-size: 12pt !important; color: black; }\n",
       ".c3align .A_bytes{font-family: \"Lucida Console\",monospace !important; font-size: 12pt !important; color: black; }\n",
       ".c3align .B_bytes{font-family: \"Lucida Console\",monospace !important; font-size: 12pt !important; color: black; }\n",
       ".c3align .C_bytes{font-family: \"Lucida Console\",monospace !important; font-size: 12pt !important; color: black; }\n",
       ".c3align .D_bytes{font-family: \"Lucida Console\",monospace !important; font-size: 12pt !important; color: black; }\n",
       ".c3align .E_bytes{font-family: \"Lucida Console\",monospace !important; font-size: 12pt !important; color: black; }\n",
       ".c3align .F_bytes{font-family: \"Lucida Console\",monospace !important; font-size: 12pt !important; color: black; }\n",
       ".c3align .G_bytes{font-family: \"Lucida Console\",monospace !important; font-size: 12pt !important; color: black; }\n",
       ".c3align .H_bytes{font-family: \"Lucida Console\",monospace !important; font-size: 12pt !important; color: black; }\n",
       ".c3align .I_bytes{font-family: \"Lucida Console\",monospace !important; font-size: 12pt !important; color: black; }\n",
       ".c3align .J_bytes{font-family: \"Lucida Console\",monospace !important; font-size: 12pt !important; color: black; }\n",
       ".c3align .K_bytes{font-family: \"Lucida Console\",monospace !important; font-size: 12pt !important; color: black; }\n",
       ".c3align .L_bytes{font-family: \"Lucida Console\",monospace !important; font-size: 12pt !important; color: black; }\n",
       ".c3align .M_bytes{font-family: \"Lucida Console\",monospace !important; font-size: 12pt !important; color: black; }\n",
       ".c3align .N_bytes{font-family: \"Lucida Console\",monospace !important; font-size: 12pt !important; color: black; }\n",
       ".c3align .O_bytes{font-family: \"Lucida Console\",monospace !important; font-size: 12pt !important; color: black; }\n",
       ".c3align .P_bytes{font-family: \"Lucida Console\",monospace !important; font-size: 12pt !important; color: black; }\n",
       ".c3align .Q_bytes{font-family: \"Lucida Console\",monospace !important; font-size: 12pt !important; color: black; }\n",
       ".c3align .R_bytes{font-family: \"Lucida Console\",monospace !important; font-size: 12pt !important; color: black; }\n",
       ".c3align .S_bytes{font-family: \"Lucida Console\",monospace !important; font-size: 12pt !important; color: black; }\n",
       ".c3align .T_bytes{font-family: \"Lucida Console\",monospace !important; font-size: 12pt !important; color: black; }\n",
       ".c3align .U_bytes{font-family: \"Lucida Console\",monospace !important; font-size: 12pt !important; color: black; }\n",
       ".c3align .V_bytes{font-family: \"Lucida Console\",monospace !important; font-size: 12pt !important; color: black; }\n",
       ".c3align .W_bytes{font-family: \"Lucida Console\",monospace !important; font-size: 12pt !important; color: black; }\n",
       ".c3align .X_bytes{font-family: \"Lucida Console\",monospace !important; font-size: 12pt !important; color: black; }\n",
       ".c3align .Y_bytes{font-family: \"Lucida Console\",monospace !important; font-size: 12pt !important; color: black; }\n",
       ".c3align .Z_bytes{font-family: \"Lucida Console\",monospace !important; font-size: 12pt !important; color: black; }\n",
       ".c3align .[_bytes{font-family: \"Lucida Console\",monospace !important; font-size: 12pt !important; color: black; }\n",
       ".c3align .\\_bytes{font-family: \"Lucida Console\",monospace !important; font-size: 12pt !important; color: black; }\n",
       ".c3align .]_bytes{font-family: \"Lucida Console\",monospace !important; font-size: 12pt !important; color: black; }\n",
       ".c3align .^_bytes{font-family: \"Lucida Console\",monospace !important; font-size: 12pt !important; color: black; }\n",
       ".c3align .__bytes{font-family: \"Lucida Console\",monospace !important; font-size: 12pt !important; color: black; }\n",
       ".c3align .`_bytes{font-family: \"Lucida Console\",monospace !important; font-size: 12pt !important; color: black; }\n",
       ".c3align .a_bytes{font-family: \"Lucida Console\",monospace !important; font-size: 12pt !important; color: black; }\n",
       ".c3align .b_bytes{font-family: \"Lucida Console\",monospace !important; font-size: 12pt !important; color: black; }\n",
       ".c3align .c_bytes{font-family: \"Lucida Console\",monospace !important; font-size: 12pt !important; color: black; }\n",
       ".c3align .d_bytes{font-family: \"Lucida Console\",monospace !important; font-size: 12pt !important; color: black; }\n",
       ".c3align .e_bytes{font-family: \"Lucida Console\",monospace !important; font-size: 12pt !important; color: black; }\n",
       ".c3align .f_bytes{font-family: \"Lucida Console\",monospace !important; font-size: 12pt !important; color: black; }\n",
       ".c3align .g_bytes{font-family: \"Lucida Console\",monospace !important; font-size: 12pt !important; color: black; }\n",
       ".c3align .h_bytes{font-family: \"Lucida Console\",monospace !important; font-size: 12pt !important; color: black; }\n",
       ".c3align .i_bytes{font-family: \"Lucida Console\",monospace !important; font-size: 12pt !important; color: black; }\n",
       ".c3align .j_bytes{font-family: \"Lucida Console\",monospace !important; font-size: 12pt !important; color: black; }\n",
       ".c3align .k_bytes{font-family: \"Lucida Console\",monospace !important; font-size: 12pt !important; color: black; }\n",
       ".c3align .l_bytes{font-family: \"Lucida Console\",monospace !important; font-size: 12pt !important; color: black; }\n",
       ".c3align .m_bytes{font-family: \"Lucida Console\",monospace !important; font-size: 12pt !important; color: black; }\n",
       ".c3align .n_bytes{font-family: \"Lucida Console\",monospace !important; font-size: 12pt !important; color: black; }\n",
       ".c3align .o_bytes{font-family: \"Lucida Console\",monospace !important; font-size: 12pt !important; color: black; }\n",
       ".c3align .p_bytes{font-family: \"Lucida Console\",monospace !important; font-size: 12pt !important; color: black; }\n",
       ".c3align .q_bytes{font-family: \"Lucida Console\",monospace !important; font-size: 12pt !important; color: black; }\n",
       ".c3align .r_bytes{font-family: \"Lucida Console\",monospace !important; font-size: 12pt !important; color: black; }\n",
       ".c3align .s_bytes{font-family: \"Lucida Console\",monospace !important; font-size: 12pt !important; color: black; }\n",
       ".c3align .t_bytes{font-family: \"Lucida Console\",monospace !important; font-size: 12pt !important; color: black; }\n",
       ".c3align .u_bytes{font-family: \"Lucida Console\",monospace !important; font-size: 12pt !important; color: black; }\n",
       ".c3align .v_bytes{font-family: \"Lucida Console\",monospace !important; font-size: 12pt !important; color: black; }\n",
       ".c3align .w_bytes{font-family: \"Lucida Console\",monospace !important; font-size: 12pt !important; color: black; }\n",
       ".c3align .x_bytes{font-family: \"Lucida Console\",monospace !important; font-size: 12pt !important; color: black; }\n",
       ".c3align .y_bytes{font-family: \"Lucida Console\",monospace !important; font-size: 12pt !important; color: black; }\n",
       ".c3align .z_bytes{font-family: \"Lucida Console\",monospace !important; font-size: 12pt !important; color: black; }\n",
       ".c3align .{_bytes{font-family: \"Lucida Console\",monospace !important; font-size: 12pt !important; color: black; }\n",
       ".c3align .|_bytes{font-family: \"Lucida Console\",monospace !important; font-size: 12pt !important; color: black; }\n",
       ".c3align .}_bytes{font-family: \"Lucida Console\",monospace !important; font-size: 12pt !important; color: black; }\n",
       ".c3align .~_bytes{font-family: \"Lucida Console\",monospace !important; font-size: 12pt !important; color: black; }\n",
       ".c3align ._bytes{font-family: \"Lucida Console\",monospace !important; font-size: 12pt !important; color: black; }\n",
       ".c3align ._bytes{font-family: \"Lucida Console\",monospace !important; font-size: 12pt !important; color: black; }\n",
       ".c3align ._bytes{font-family: \"Lucida Console\",monospace !important; font-size: 12pt !important; color: black; }\n",
       ".c3align ._bytes{font-family: \"Lucida Console\",monospace !important; font-size: 12pt !important; color: black; }\n",
       ".c3align ._bytes{font-family: \"Lucida Console\",monospace !important; font-size: 12pt !important; color: black; }\n",
       ".c3align ._bytes{font-family: \"Lucida Console\",monospace !important; font-size: 12pt !important; color: black; }\n",
       ".c3align .",
       "_bytes{font-family: \"Lucida Console\",monospace !important; font-size: 12pt !important; color: black; }\n",
       ".c3align ._bytes{font-family: \"Lucida Console\",monospace !important; font-size: 12pt !important; color: black; }\n",
       ".c3align ._bytes{font-family: \"Lucida Console\",monospace !important; font-size: 12pt !important; color: black; }\n",
       ".c3align ._bytes{font-family: \"Lucida Console\",monospace !important; font-size: 12pt !important; color: black; }\n",
       ".c3align ._bytes{font-family: \"Lucida Console\",monospace !important; font-size: 12pt !important; color: black; }\n",
       ".c3align ._bytes{font-family: \"Lucida Console\",monospace !important; font-size: 12pt !important; color: black; }\n",
       ".c3align ._bytes{font-family: \"Lucida Console\",monospace !important; font-size: 12pt !important; color: black; }\n",
       ".c3align ._bytes{font-family: \"Lucida Console\",monospace !important; font-size: 12pt !important; color: black; }\n",
       ".c3align ._bytes{font-family: \"Lucida Console\",monospace !important; font-size: 12pt !important; color: black; }\n",
       ".c3align ._bytes{font-family: \"Lucida Console\",monospace !important; font-size: 12pt !important; color: black; }\n",
       ".c3align ._bytes{font-family: \"Lucida Console\",monospace !important; font-size: 12pt !important; color: black; }\n",
       ".c3align ._bytes{font-family: \"Lucida Console\",monospace !important; font-size: 12pt !important; color: black; }\n",
       ".c3align ._bytes{font-family: \"Lucida Console\",monospace !important; font-size: 12pt !important; color: black; }\n",
       ".c3align ._bytes{font-family: \"Lucida Console\",monospace !important; font-size: 12pt !important; color: black; }\n",
       ".c3align ._bytes{font-family: \"Lucida Console\",monospace !important; font-size: 12pt !important; color: black; }\n",
       ".c3align ._bytes{font-family: \"Lucida Console\",monospace !important; font-size: 12pt !important; color: black; }\n",
       ".c3align ._bytes{font-family: \"Lucida Console\",monospace !important; font-size: 12pt !important; color: black; }\n",
       ".c3align ._bytes{font-family: \"Lucida Console\",monospace !important; font-size: 12pt !important; color: black; }\n",
       ".c3align ._bytes{font-family: \"Lucida Console\",monospace !important; font-size: 12pt !important; color: black; }\n",
       ".c3align ._bytes{font-family: \"Lucida Console\",monospace !important; font-size: 12pt !important; color: black; }\n",
       ".c3align ._bytes{font-family: \"Lucida Console\",monospace !important; font-size: 12pt !important; color: black; }\n",
       ".c3align ._bytes{font-family: \"Lucida Console\",monospace !important; font-size: 12pt !important; color: black; }\n",
       ".c3align ._bytes{font-family: \"Lucida Console\",monospace !important; font-size: 12pt !important; color: black; }\n",
       ".c3align ._bytes{font-family: \"Lucida Console\",monospace !important; font-size: 12pt !important; color: black; }\n",
       ".c3align ._bytes{font-family: \"Lucida Console\",monospace !important; font-size: 12pt !important; color: black; }\n",
       ".c3align ._bytes{font-family: \"Lucida Console\",monospace !important; font-size: 12pt !important; color: black; }\n",
       ".c3align ._bytes{font-family: \"Lucida Console\",monospace !important; font-size: 12pt !important; color: black; }\n",
       ".c3align . _bytes{font-family: \"Lucida Console\",monospace !important; font-size: 12pt !important; color: black; }\n",
       ".c3align .¡_bytes{font-family: \"Lucida Console\",monospace !important; font-size: 12pt !important; color: black; }\n",
       ".c3align .¢_bytes{font-family: \"Lucida Console\",monospace !important; font-size: 12pt !important; color: black; }\n",
       ".c3align .£_bytes{font-family: \"Lucida Console\",monospace !important; font-size: 12pt !important; color: black; }\n",
       ".c3align .¤_bytes{font-family: \"Lucida Console\",monospace !important; font-size: 12pt !important; color: black; }\n",
       ".c3align .¥_bytes{font-family: \"Lucida Console\",monospace !important; font-size: 12pt !important; color: black; }\n",
       ".c3align .¦_bytes{font-family: \"Lucida Console\",monospace !important; font-size: 12pt !important; color: black; }\n",
       ".c3align .§_bytes{font-family: \"Lucida Console\",monospace !important; font-size: 12pt !important; color: black; }\n",
       ".c3align .¨_bytes{font-family: \"Lucida Console\",monospace !important; font-size: 12pt !important; color: black; }\n",
       ".c3align .©_bytes{font-family: \"Lucida Console\",monospace !important; font-size: 12pt !important; color: black; }\n",
       ".c3align .ª_bytes{font-family: \"Lucida Console\",monospace !important; font-size: 12pt !important; color: black; }\n",
       ".c3align .«_bytes{font-family: \"Lucida Console\",monospace !important; font-size: 12pt !important; color: black; }\n",
       ".c3align .¬_bytes{font-family: \"Lucida Console\",monospace !important; font-size: 12pt !important; color: black; }\n",
       ".c3align .­_bytes{font-family: \"Lucida Console\",monospace !important; font-size: 12pt !important; color: black; }\n",
       ".c3align .®_bytes{font-family: \"Lucida Console\",monospace !important; font-size: 12pt !important; color: black; }\n",
       ".c3align .¯_bytes{font-family: \"Lucida Console\",monospace !important; font-size: 12pt !important; color: black; }\n",
       ".c3align .°_bytes{font-family: \"Lucida Console\",monospace !important; font-size: 12pt !important; color: black; }\n",
       ".c3align .±_bytes{font-family: \"Lucida Console\",monospace !important; font-size: 12pt !important; color: black; }\n",
       ".c3align .²_bytes{font-family: \"Lucida Console\",monospace !important; font-size: 12pt !important; color: black; }\n",
       ".c3align .³_bytes{font-family: \"Lucida Console\",monospace !important; font-size: 12pt !important; color: black; }\n",
       ".c3align .´_bytes{font-family: \"Lucida Console\",monospace !important; font-size: 12pt !important; color: black; }\n",
       ".c3align .µ_bytes{font-family: \"Lucida Console\",monospace !important; font-size: 12pt !important; color: black; }\n",
       ".c3align .¶_bytes{font-family: \"Lucida Console\",monospace !important; font-size: 12pt !important; color: black; }\n",
       ".c3align .·_bytes{font-family: \"Lucida Console\",monospace !important; font-size: 12pt !important; color: black; }\n",
       ".c3align .¸_bytes{font-family: \"Lucida Console\",monospace !important; font-size: 12pt !important; color: black; }\n",
       ".c3align .¹_bytes{font-family: \"Lucida Console\",monospace !important; font-size: 12pt !important; color: black; }\n",
       ".c3align .º_bytes{font-family: \"Lucida Console\",monospace !important; font-size: 12pt !important; color: black; }\n",
       ".c3align .»_bytes{font-family: \"Lucida Console\",monospace !important; font-size: 12pt !important; color: black; }\n",
       ".c3align .¼_bytes{font-family: \"Lucida Console\",monospace !important; font-size: 12pt !important; color: black; }\n",
       ".c3align .½_bytes{font-family: \"Lucida Console\",monospace !important; font-size: 12pt !important; color: black; }\n",
       ".c3align .¾_bytes{font-family: \"Lucida Console\",monospace !important; font-size: 12pt !important; color: black; }\n",
       ".c3align .¿_bytes{font-family: \"Lucida Console\",monospace !important; font-size: 12pt !important; color: black; }\n",
       ".c3align .À_bytes{font-family: \"Lucida Console\",monospace !important; font-size: 12pt !important; color: black; }\n",
       ".c3align .Á_bytes{font-family: \"Lucida Console\",monospace !important; font-size: 12pt !important; color: black; }\n",
       ".c3align .Â_bytes{font-family: \"Lucida Console\",monospace !important; font-size: 12pt !important; color: black; }\n",
       ".c3align .Ã_bytes{font-family: \"Lucida Console\",monospace !important; font-size: 12pt !important; color: black; }\n",
       ".c3align .Ä_bytes{font-family: \"Lucida Console\",monospace !important; font-size: 12pt !important; color: black; }\n",
       ".c3align .Å_bytes{font-family: \"Lucida Console\",monospace !important; font-size: 12pt !important; color: black; }\n",
       ".c3align .Æ_bytes{font-family: \"Lucida Console\",monospace !important; font-size: 12pt !important; color: black; }\n",
       ".c3align .Ç_bytes{font-family: \"Lucida Console\",monospace !important; font-size: 12pt !important; color: black; }\n",
       ".c3align .È_bytes{font-family: \"Lucida Console\",monospace !important; font-size: 12pt !important; color: black; }\n",
       ".c3align .É_bytes{font-family: \"Lucida Console\",monospace !important; font-size: 12pt !important; color: black; }\n",
       ".c3align .Ê_bytes{font-family: \"Lucida Console\",monospace !important; font-size: 12pt !important; color: black; }\n",
       ".c3align .Ë_bytes{font-family: \"Lucida Console\",monospace !important; font-size: 12pt !important; color: black; }\n",
       ".c3align .Ì_bytes{font-family: \"Lucida Console\",monospace !important; font-size: 12pt !important; color: black; }\n",
       ".c3align .Í_bytes{font-family: \"Lucida Console\",monospace !important; font-size: 12pt !important; color: black; }\n",
       ".c3align .Î_bytes{font-family: \"Lucida Console\",monospace !important; font-size: 12pt !important; color: black; }\n",
       ".c3align .Ï_bytes{font-family: \"Lucida Console\",monospace !important; font-size: 12pt !important; color: black; }\n",
       ".c3align .Ð_bytes{font-family: \"Lucida Console\",monospace !important; font-size: 12pt !important; color: black; }\n",
       ".c3align .Ñ_bytes{font-family: \"Lucida Console\",monospace !important; font-size: 12pt !important; color: black; }\n",
       ".c3align .Ò_bytes{font-family: \"Lucida Console\",monospace !important; font-size: 12pt !important; color: black; }\n",
       ".c3align .Ó_bytes{font-family: \"Lucida Console\",monospace !important; font-size: 12pt !important; color: black; }\n",
       ".c3align .Ô_bytes{font-family: \"Lucida Console\",monospace !important; font-size: 12pt !important; color: black; }\n",
       ".c3align .Õ_bytes{font-family: \"Lucida Console\",monospace !important; font-size: 12pt !important; color: black; }\n",
       ".c3align .Ö_bytes{font-family: \"Lucida Console\",monospace !important; font-size: 12pt !important; color: black; }\n",
       ".c3align .×_bytes{font-family: \"Lucida Console\",monospace !important; font-size: 12pt !important; color: black; }\n",
       ".c3align .Ø_bytes{font-family: \"Lucida Console\",monospace !important; font-size: 12pt !important; color: black; }\n",
       ".c3align .Ù_bytes{font-family: \"Lucida Console\",monospace !important; font-size: 12pt !important; color: black; }\n",
       ".c3align .Ú_bytes{font-family: \"Lucida Console\",monospace !important; font-size: 12pt !important; color: black; }\n",
       ".c3align .Û_bytes{font-family: \"Lucida Console\",monospace !important; font-size: 12pt !important; color: black; }\n",
       ".c3align .Ü_bytes{font-family: \"Lucida Console\",monospace !important; font-size: 12pt !important; color: black; }\n",
       ".c3align .Ý_bytes{font-family: \"Lucida Console\",monospace !important; font-size: 12pt !important; color: black; }\n",
       ".c3align .Þ_bytes{font-family: \"Lucida Console\",monospace !important; font-size: 12pt !important; color: black; }\n",
       ".c3align .ß_bytes{font-family: \"Lucida Console\",monospace !important; font-size: 12pt !important; color: black; }\n",
       ".c3align .à_bytes{font-family: \"Lucida Console\",monospace !important; font-size: 12pt !important; color: black; }\n",
       ".c3align .á_bytes{font-family: \"Lucida Console\",monospace !important; font-size: 12pt !important; color: black; }\n",
       ".c3align .â_bytes{font-family: \"Lucida Console\",monospace !important; font-size: 12pt !important; color: black; }\n",
       ".c3align .ã_bytes{font-family: \"Lucida Console\",monospace !important; font-size: 12pt !important; color: black; }\n",
       ".c3align .ä_bytes{font-family: \"Lucida Console\",monospace !important; font-size: 12pt !important; color: black; }\n",
       ".c3align .å_bytes{font-family: \"Lucida Console\",monospace !important; font-size: 12pt !important; color: black; }\n",
       ".c3align .æ_bytes{font-family: \"Lucida Console\",monospace !important; font-size: 12pt !important; color: black; }\n",
       ".c3align .ç_bytes{font-family: \"Lucida Console\",monospace !important; font-size: 12pt !important; color: black; }\n",
       ".c3align .è_bytes{font-family: \"Lucida Console\",monospace !important; font-size: 12pt !important; color: black; }\n",
       ".c3align .é_bytes{font-family: \"Lucida Console\",monospace !important; font-size: 12pt !important; color: black; }\n",
       ".c3align .ê_bytes{font-family: \"Lucida Console\",monospace !important; font-size: 12pt !important; color: black; }\n",
       ".c3align .ë_bytes{font-family: \"Lucida Console\",monospace !important; font-size: 12pt !important; color: black; }\n",
       ".c3align .ì_bytes{font-family: \"Lucida Console\",monospace !important; font-size: 12pt !important; color: black; }\n",
       ".c3align .í_bytes{font-family: \"Lucida Console\",monospace !important; font-size: 12pt !important; color: black; }\n",
       ".c3align .î_bytes{font-family: \"Lucida Console\",monospace !important; font-size: 12pt !important; color: black; }\n",
       ".c3align .ï_bytes{font-family: \"Lucida Console\",monospace !important; font-size: 12pt !important; color: black; }\n",
       ".c3align .ð_bytes{font-family: \"Lucida Console\",monospace !important; font-size: 12pt !important; color: black; }\n",
       ".c3align .ñ_bytes{font-family: \"Lucida Console\",monospace !important; font-size: 12pt !important; color: black; }\n",
       ".c3align .ò_bytes{font-family: \"Lucida Console\",monospace !important; font-size: 12pt !important; color: black; }\n",
       ".c3align .ó_bytes{font-family: \"Lucida Console\",monospace !important; font-size: 12pt !important; color: black; }\n",
       ".c3align .ô_bytes{font-family: \"Lucida Console\",monospace !important; font-size: 12pt !important; color: black; }\n",
       ".c3align .õ_bytes{font-family: \"Lucida Console\",monospace !important; font-size: 12pt !important; color: black; }\n",
       ".c3align .ö_bytes{font-family: \"Lucida Console\",monospace !important; font-size: 12pt !important; color: black; }\n",
       ".c3align .÷_bytes{font-family: \"Lucida Console\",monospace !important; font-size: 12pt !important; color: black; }\n",
       ".c3align .ø_bytes{font-family: \"Lucida Console\",monospace !important; font-size: 12pt !important; color: black; }\n",
       ".c3align .ù_bytes{font-family: \"Lucida Console\",monospace !important; font-size: 12pt !important; color: black; }\n",
       ".c3align .ú_bytes{font-family: \"Lucida Console\",monospace !important; font-size: 12pt !important; color: black; }\n",
       ".c3align .û_bytes{font-family: \"Lucida Console\",monospace !important; font-size: 12pt !important; color: black; }\n",
       ".c3align .ü_bytes{font-family: \"Lucida Console\",monospace !important; font-size: 12pt !important; color: black; }\n",
       ".c3align .ý_bytes{font-family: \"Lucida Console\",monospace !important; font-size: 12pt !important; color: black; }\n",
       ".c3align .þ_bytes{font-family: \"Lucida Console\",monospace !important; font-size: 12pt !important; color: black; }\n",
       ".c3align .ÿ_bytes{font-family: \"Lucida Console\",monospace !important; font-size: 12pt !important; color: black; }\n",
       ".c3align .terminal_ambig_bytes{font-family: \"Lucida Console\",monospace !important; font-size: 12pt !important; color: black; }\n",
       ".c3align .ambig_bytes{font-family: \"Lucida Console\",monospace !important; font-size: 12pt !important; color: black; }\n",
       "</style>\n",
       "<div class=\"c3align\">\n",
       "<table>\n",
       "<tr class=\"num_row\"><td></td><td><b>0</b></td></tr>\n",
       "<tr><td class=\"label\">DogFaced</td><td><span class=\"T_bytes\">T</span><span class=\"G_bytes\">G</span><span class=\"T_bytes\">T</span><span class=\"G_bytes\">G</span><span class=\"G_bytes\">G</span><span class=\"C_bytes\">C</span><span class=\"A_bytes\">A</span><span class=\"C_bytes\">C</span><span class=\"A_bytes\">A</span><span class=\"A_bytes\">A</span><span class=\"A_bytes\">A</span><span class=\"T_bytes\">T</span><span class=\"A_bytes\">A</span><span class=\"C_bytes\">C</span><span class=\"T_bytes\">T</span><span class=\"C_bytes\">C</span><span class=\"A_bytes\">A</span><span class=\"T_bytes\">T</span><span class=\"G_bytes\">G</span><span class=\"C_bytes\">C</span><span class=\"C_bytes\">C</span><span class=\"A_bytes\">A</span><span class=\"A_bytes\">A</span><span class=\"C_bytes\">C</span><span class=\"T_bytes\">T</span><span class=\"C_bytes\">C</span><span class=\"A_bytes\">A</span><span class=\"T_bytes\">T</span><span class=\"T_bytes\">T</span><span class=\"A_bytes\">A</span><span class=\"C_bytes\">C</span><span class=\"A_bytes\">A</span><span class=\"G_bytes\">G</span><span class=\"C_bytes\">C</span><span class=\"A_bytes\">A</span><span class=\"T_bytes\">T</span><span class=\"G_bytes\">G</span><span class=\"A_bytes\">A</span><span class=\"G_bytes\">G</span><span class=\"A_bytes\">A</span><span class=\"A_bytes\">A</span><span class=\"C_bytes\">C</span><span class=\"A_bytes\">A</span><span class=\"G_bytes\">G</span><span class=\"C_bytes\">C</span><span class=\"A_bytes\">A</span><span class=\"G_bytes\">G</span><span class=\"T_bytes\">T</span><span class=\"T_bytes\">T</span><span class=\"T_bytes\">T</span><span class=\"A_bytes\">A</span><span class=\"T_bytes\">T</span><span class=\"T_bytes\">T</span><span class=\"A_bytes\">A</span><span class=\"T_bytes\">T</span><span class=\"A_bytes\">A</span><span class=\"C_bytes\">C</span><span class=\"A_bytes\">A</span><span class=\"C_bytes\">C</span><span class=\"T_bytes\">T</span></td></tr>\n",
       "<tr><td class=\"label\">HowlerMon</td><td><span class=\"T_bytes\">.</span><span class=\"G_bytes\">.</span><span class=\"T_bytes\">.</span><span class=\"G_bytes\">.</span><span class=\"G_bytes\">.</span><span class=\"C_bytes\">.</span><span class=\"A_bytes\">.</span><span class=\"C_bytes\">.</span><span class=\"A_bytes\">.</span><span class=\"A_bytes\">.</span><span class=\"A_bytes\">.</span><span class=\"T_bytes\">.</span><span class=\"A_bytes\">.</span><span class=\"C_bytes\">.</span><span class=\"T_bytes\">.</span><span class=\"C_bytes\">.</span><span class=\"A_bytes\">.</span><span class=\"T_bytes\">.</span><span class=\"G_bytes\">.</span><span class=\"C_bytes\">.</span><span class=\"C_bytes\">.</span><span class=\"A_bytes\">.</span><span class=\"G_bytes\">G</span><span class=\"C_bytes\">.</span><span class=\"T_bytes\">.</span><span class=\"C_bytes\">.</span><span class=\"A_bytes\">.</span><span class=\"T_bytes\">.</span><span class=\"T_bytes\">.</span><span class=\"A_bytes\">.</span><span class=\"C_bytes\">.</span><span class=\"A_bytes\">.</span><span class=\"G_bytes\">.</span><span class=\"C_bytes\">.</span><span class=\"A_bytes\">.</span><span class=\"T_bytes\">.</span><span class=\"G_bytes\">.</span><span class=\"A_bytes\">.</span><span class=\"G_bytes\">.</span><span class=\"A_bytes\">.</span><span class=\"A_bytes\">.</span><span class=\"C_bytes\">.</span><span class=\"A_bytes\">.</span><span class=\"G_bytes\">.</span><span class=\"C_bytes\">.</span><span class=\"A_bytes\">.</span><span class=\"G_bytes\">.</span><span class=\"T_bytes\">.</span><span class=\"T_bytes\">.</span><span class=\"T_bytes\">.</span><span class=\"G_bytes\">G</span><span class=\"T_bytes\">.</span><span class=\"T_bytes\">.</span><span class=\"A_bytes\">.</span><span class=\"C_bytes\">C</span><span class=\"T_bytes\">T</span><span class=\"C_bytes\">.</span><span class=\"A_bytes\">.</span><span class=\"C_bytes\">.</span><span class=\"T_bytes\">.</span></td></tr>\n",
       "<tr><td class=\"label\">NineBande</td><td><span class=\"T_bytes\">.</span><span class=\"G_bytes\">.</span><span class=\"T_bytes\">.</span><span class=\"G_bytes\">.</span><span class=\"G_bytes\">.</span><span class=\"C_bytes\">.</span><span class=\"A_bytes\">.</span><span class=\"C_bytes\">.</span><span class=\"A_bytes\">.</span><span class=\"A_bytes\">.</span><span class=\"A_bytes\">.</span><span class=\"T_bytes\">.</span><span class=\"A_bytes\">.</span><span class=\"C_bytes\">.</span><span class=\"T_bytes\">.</span><span class=\"C_bytes\">.</span><span class=\"A_bytes\">.</span><span class=\"T_bytes\">.</span><span class=\"G_bytes\">.</span><span class=\"C_bytes\">.</span><span class=\"C_bytes\">.</span><span class=\"A_bytes\">.</span><span class=\"A_bytes\">.</span><span class=\"C_bytes\">.</span><span class=\"T_bytes\">.</span><span class=\"T_bytes\">T</span><span class=\"A_bytes\">.</span><span class=\"T_bytes\">.</span><span class=\"T_bytes\">.</span><span class=\"A_bytes\">.</span><span class=\"C_bytes\">.</span><span class=\"A_bytes\">.</span><span class=\"G_bytes\">.</span><span class=\"C_bytes\">.</span><span class=\"A_bytes\">.</span><span class=\"T_bytes\">.</span><span class=\"G_bytes\">.</span><span class=\"A_bytes\">.</span><span class=\"G_bytes\">.</span><span class=\"A_bytes\">.</span><span class=\"A_bytes\">.</span><span class=\"C_bytes\">.</span><span class=\"A_bytes\">.</span><span class=\"G_bytes\">.</span><span class=\"C_bytes\">.</span><span class=\"A_bytes\">.</span><span class=\"G_bytes\">.</span><span class=\"T_bytes\">.</span><span class=\"T_bytes\">.</span><span class=\"T_bytes\">.</span><span class=\"A_bytes\">.</span><span class=\"T_bytes\">.</span><span class=\"T_bytes\">.</span><span class=\"A_bytes\">.</span><span class=\"C_bytes\">C</span><span class=\"T_bytes\">T</span><span class=\"C_bytes\">.</span><span class=\"A_bytes\">.</span><span class=\"C_bytes\">.</span><span class=\"T_bytes\">.</span></td></tr>\n",
       "</table>\n",
       "<p><i>3 x 2532 (truncated to 3 x 60) bytes alignment</i></p>\n",
       "</div>"
      ],
      "text/plain": [
       "3 x 2532 alignment: HowlerMon[TGTGGCACAAA...], NineBande[TGTGGCACAAA...], DogFaced[TGTGGCACAAA...]"
      ]
     },
     "execution_count": 43,
     "metadata": {},
     "output_type": "execute_result"
    }
   ],
   "source": [
    "aln.take_seqs([\"Human\", \"Mouse\"], negate=True)"
   ]
  },
  {
   "cell_type": "code",
   "execution_count": 44,
   "id": "c8d51e64",
   "metadata": {
    "execution": {
     "iopub.execute_input": "2022-10-31T00:36:42.221340Z",
     "iopub.status.busy": "2022-10-31T00:36:42.220337Z",
     "iopub.status.idle": "2022-10-31T00:36:42.223237Z",
     "shell.execute_reply": "2022-10-31T00:36:42.223551Z"
    }
   },
   "outputs": [
    {
     "data": {
      "text/html": [
       "<style>\n",
       ".c3align td { border: none !important; text-align: left !important; }\n",
       ".c3align tr:not(.num_row) td span {margin: 0 2px;}\n",
       ".c3align tr:nth-child(even) {background: #f7f7f7;}\n",
       ".c3align .num_row {background-color:rgba(161, 195, 209, 0.5) !important; border-top: solid 1px black; }\n",
       ".c3align .label { font-size: 12pt ; text-align: right !important; color: black !important; padding: 0 4px; display: table-cell !important; font-weight: normal !important; }\n",
       ".c3align .T_dna{font-family: \"Lucida Console\",monospace !important; font-size: 12pt !important; color: blue; }\n",
       ".c3align .C_dna{font-family: \"Lucida Console\",monospace !important; font-size: 12pt !important; color: black; }\n",
       ".c3align .A_dna{font-family: \"Lucida Console\",monospace !important; font-size: 12pt !important; color: #FF0102; }\n",
       ".c3align .G_dna{font-family: \"Lucida Console\",monospace !important; font-size: 12pt !important; color: green; }\n",
       ".c3align .terminal_ambig_dna{font-family: \"Lucida Console\",monospace !important; font-size: 12pt !important; color: gray; }\n",
       ".c3align .ambig_dna{font-family: \"Lucida Console\",monospace !important; font-size: 12pt !important; color: gray; }\n",
       "</style>\n",
       "<div class=\"c3align\">\n",
       "<table>\n",
       "<tr class=\"num_row\"><td></td><td><b>0</b></td></tr>\n",
       "<tr><td class=\"label\">seq2</td><td><span class=\"A_dna\">A</span><span class=\"T_dna\">T</span><span class=\"G_dna\">G</span><span class=\"A_dna\">A</span><span class=\"A_dna\">A</span><span class=\"G_dna\">G</span><span class=\"G_dna\">G</span><span class=\"T_dna\">T</span><span class=\"G_dna\">G</span><span class=\"A_dna\">A</span><span class=\"T_dna\">T</span><span class=\"G_dna\">G</span></td></tr>\n",
       "<tr><td class=\"label\">seq1</td><td><span class=\"A_dna\">.</span><span class=\"T_dna\">.</span><span class=\"G_dna\">.</span><span class=\"A_dna\">.</span><span class=\"A_dna\">.</span><span class=\"G_dna\">.</span><span class=\"G_dna\">.</span><span class=\"T_dna\">.</span><span class=\"G_dna\">.</span><span class=\"ambig_dna\">-</span><span class=\"ambig_dna\">-</span><span class=\"ambig_dna\">-</span></td></tr>\n",
       "</table>\n",
       "<p><i>2 x 12 dna alignment</i></p>\n",
       "</div>"
      ],
      "text/plain": [
       "2 x 12 alignment: seq1[ATGAAGGTG--...], seq2[ATGAAGGTGAT...]"
      ]
     },
     "execution_count": 44,
     "metadata": {},
     "output_type": "execute_result"
    }
   ],
   "source": [
    "from cogent3 import make_aligned_seqs\n",
    "\n",
    "aln = make_aligned_seqs(\n",
    "    data=[\n",
    "        (\"seq1\", \"ATGAAGGTG---\"),\n",
    "        (\"seq2\", \"ATGAAGGTGATG\"),\n",
    "        (\"seq3\", \"ATGAAGGNGATG\"),\n",
    "    ],\n",
    "    moltype=\"dna\",\n",
    ")\n",
    "\n",
    "def no_N_chars(s):\n",
    "    return \"N\" not in s\n",
    "\n",
    "aln.take_seqs_if(no_N_chars)"
   ]
  },
  {
   "cell_type": "code",
   "execution_count": 45,
   "id": "3b780be9",
   "metadata": {
    "execution": {
     "iopub.execute_input": "2022-10-31T00:36:42.227320Z",
     "iopub.status.busy": "2022-10-31T00:36:42.226602Z",
     "iopub.status.idle": "2022-10-31T00:36:42.228744Z",
     "shell.execute_reply": "2022-10-31T00:36:42.229057Z"
    }
   },
   "outputs": [
    {
     "data": {
      "text/html": [
       "<style>\n",
       ".c3align td { border: none !important; text-align: left !important; }\n",
       ".c3align tr:not(.num_row) td span {margin: 0 2px;}\n",
       ".c3align tr:nth-child(even) {background: #f7f7f7;}\n",
       ".c3align .num_row {background-color:rgba(161, 195, 209, 0.5) !important; border-top: solid 1px black; }\n",
       ".c3align .label { font-size: 12pt ; text-align: right !important; color: black !important; padding: 0 4px; display: table-cell !important; font-weight: normal !important; }\n",
       ".c3align .T_dna{font-family: \"Lucida Console\",monospace !important; font-size: 12pt !important; color: blue; }\n",
       ".c3align .C_dna{font-family: \"Lucida Console\",monospace !important; font-size: 12pt !important; color: black; }\n",
       ".c3align .A_dna{font-family: \"Lucida Console\",monospace !important; font-size: 12pt !important; color: #FF0102; }\n",
       ".c3align .G_dna{font-family: \"Lucida Console\",monospace !important; font-size: 12pt !important; color: green; }\n",
       ".c3align .terminal_ambig_dna{font-family: \"Lucida Console\",monospace !important; font-size: 12pt !important; color: gray; }\n",
       ".c3align .ambig_dna{font-family: \"Lucida Console\",monospace !important; font-size: 12pt !important; color: gray; }\n",
       "</style>\n",
       "<div class=\"c3align\">\n",
       "<table>\n",
       "<tr class=\"num_row\"><td></td><td><b>0</b></td></tr>\n",
       "<tr><td class=\"label\">seq3</td><td><span class=\"A_dna\">A</span><span class=\"T_dna\">T</span><span class=\"G_dna\">G</span><span class=\"A_dna\">A</span><span class=\"A_dna\">A</span><span class=\"G_dna\">G</span><span class=\"G_dna\">G</span><span class=\"ambig_dna\">N</span><span class=\"G_dna\">G</span><span class=\"A_dna\">A</span><span class=\"T_dna\">T</span><span class=\"G_dna\">G</span></td></tr>\n",
       "</table>\n",
       "<p><i>1 x 12 dna alignment</i></p>\n",
       "</div>"
      ],
      "text/plain": [
       "1 x 12 alignment: seq3[ATGAAGGNGAT...]"
      ]
     },
     "execution_count": 45,
     "metadata": {},
     "output_type": "execute_result"
    }
   ],
   "source": [
    "aln.take_seqs_if(no_N_chars, negate=True)"
   ]
  },
  {
   "cell_type": "code",
   "execution_count": 46,
   "id": "6134637a",
   "metadata": {
    "execution": {
     "iopub.execute_input": "2022-10-31T00:36:42.233122Z",
     "iopub.status.busy": "2022-10-31T00:36:42.232213Z",
     "iopub.status.idle": "2022-10-31T00:36:42.238805Z",
     "shell.execute_reply": "2022-10-31T00:36:42.238486Z"
    }
   },
   "outputs": [
    {
     "name": "stdout",
     "output_type": "stream",
     "text": [
      "==================\n",
      " A    C     G    T\n",
      "------------------\n",
      "11    0    14    7\n",
      "------------------\n",
      "============================================================================================================================================================================================================================================================================================================================================================================================================================================================\n",
      "AAA    AAC    AAG    AAT    ACA    ACC    ACG    ACT    AGA    AGC    AGG    AGT    ATA    ATC    ATG    ATT    CAA    CAC    CAG    CAT    CCA    CCC    CCG    CCT    CGA    CGC    CGG    CGT    CTA    CTC    CTG    CTT    GAA    GAC    GAG    GAT    GCA    GCC    GCG    GCT    GGA    GGC    GGG    GGT    GTA    GTC    GTG    GTT    TAA    TAC    TAG    TAT    TCA    TCC    TCG    TCT    TGA    TGC    TGG    TGT    TTA    TTC    TTG    TTT\n",
      "------------------------------------------------------------------------------------------------------------------------------------------------------------------------------------------------------------------------------------------------------------------------------------------------------------------------------------------------------------------------------------------------------------------------------------------------------------\n",
      "  0      0      3      0      0      0      0      0      0      0      0      0      0      0      5      0      0      0      0      0      0      0      0      0      0      0      0      0      0      0      0      0      0      0      0      0      0      0      0      0      0      0      0      0      0      0      2      0      0      0      0      0      0      0      0      0      0      0      0      0      0      0      0      0\n",
      "------------------------------------------------------------------------------------------------------------------------------------------------------------------------------------------------------------------------------------------------------------------------------------------------------------------------------------------------------------------------------------------------------------------------------------------------------------\n",
      "=======================\n",
      " A    C     G    N    T\n",
      "-----------------------\n",
      "11    0    14    1    7\n",
      "-----------------------\n"
     ]
    }
   ],
   "source": [
    "from cogent3 import make_aligned_seqs\n",
    "\n",
    "aln = make_aligned_seqs(\n",
    "    data=[\n",
    "        (\"seq1\", \"ATGAAGGTG---\"),\n",
    "        (\"seq2\", \"ATGAAGGTGATG\"),\n",
    "        (\"seq3\", \"ATGAAGGNGATG\"),\n",
    "    ],\n",
    "    moltype=\"dna\",\n",
    ")\n",
    "counts = aln.counts()\n",
    "print(counts)\n",
    "counts = aln.counts(motif_length=3)\n",
    "print(counts)\n",
    "counts = aln.counts(include_ambiguity=True)\n",
    "print(counts)"
   ]
  },
  {
   "cell_type": "code",
   "execution_count": 47,
   "id": "1dede0a5",
   "metadata": {
    "execution": {
     "iopub.execute_input": "2022-10-31T00:36:42.241665Z",
     "iopub.status.busy": "2022-10-31T00:36:42.241190Z",
     "iopub.status.idle": "2022-10-31T00:36:42.244757Z",
     "shell.execute_reply": "2022-10-31T00:36:42.245148Z"
    }
   },
   "outputs": [
    {
     "name": "stdout",
     "output_type": "stream",
     "text": [
      "{'T': 0.25520602569782896, 'C': 0.25808595480726626, 'A': 0.24390784226849802, 'G': 0.24280017722640673}\n"
     ]
    }
   ],
   "source": [
    "from cogent3 import load_aligned_seqs\n",
    "\n",
    "aln = load_aligned_seqs(\"data/primate_cdx2_promoter.fasta\", moltype=\"dna\")\n",
    "motif_probs = aln.get_motif_probs()\n",
    "print(motif_probs)"
   ]
  },
  {
   "cell_type": "code",
   "execution_count": 48,
   "id": "8c807f35",
   "metadata": {
    "execution": {
     "iopub.execute_input": "2022-10-31T00:36:42.248531Z",
     "iopub.status.busy": "2022-10-31T00:36:42.248069Z",
     "iopub.status.idle": "2022-10-31T00:36:42.278895Z",
     "shell.execute_reply": "2022-10-31T00:36:42.278430Z"
    }
   },
   "outputs": [
    {
     "name": "stdout",
     "output_type": "stream",
     "text": [
      "CAG  0.037\n",
      "CCT  0.034\n",
      "CGC  0.030\n",
      "TCT  0.029\n",
      "AAC  0.028\n",
      "GCC  0.028\n",
      "AAA  0.027\n",
      "AAG  0.027\n",
      "GGG  0.026\n",
      "TAA  0.025\n",
      "CCC  0.025\n",
      "TTC  0.024\n",
      "CTT  0.024\n",
      "GAG  0.024\n",
      "TGT  0.023\n",
      "CTG  0.023\n",
      "CTC  0.021\n",
      "GGA  0.021\n",
      "TTT  0.020\n",
      "CAA  0.019\n",
      "GGT  0.019\n",
      "TCC  0.019\n",
      "AGT  0.019\n",
      "GAA  0.019\n",
      "ATT  0.018\n",
      "TAG  0.017\n",
      "TTG  0.017\n",
      "AAT  0.017\n",
      "TCA  0.015\n",
      "TGG  0.015\n",
      "TGC  0.015\n",
      "GTT  0.014\n",
      "GGC  0.014\n",
      "CAT  0.013\n",
      "GTA  0.013\n",
      "TGA  0.013\n",
      "ATA  0.012\n",
      "AGA  0.012\n",
      "TTA  0.011\n",
      "CCA  0.011\n",
      "CAC  0.011\n",
      "CCG  0.011\n",
      "GCT  0.011\n",
      "GCA  0.011\n",
      "GAT  0.011\n",
      "TAC  0.010\n",
      "AGC  0.009\n",
      "GAC  0.009\n",
      "CGG  0.008\n",
      "ATC  0.008\n",
      "AGG  0.008\n",
      "GTC  0.008\n",
      "ACT  0.007\n",
      "ACG  0.007\n",
      "CGT  0.007\n",
      "GCG  0.007\n",
      "GTG  0.006\n",
      "TCG  0.005\n",
      "TAT  0.005\n",
      "ATG  0.005\n",
      "CGA  0.005\n",
      "ACC  0.005\n",
      "CTA  0.003\n",
      "ACA  0.002\n"
     ]
    }
   ],
   "source": [
    "from cogent3 import DNA, load_aligned_seqs\n",
    "\n",
    "trinuc_alphabet = DNA.alphabet.get_word_alphabet(3)\n",
    "aln = load_aligned_seqs(\"data/primate_cdx2_promoter.fasta\", moltype=\"dna\")\n",
    "motif_probs = aln.get_motif_probs(alphabet=trinuc_alphabet)\n",
    "for m in sorted(motif_probs, key=lambda x: motif_probs[x], reverse=True):\n",
    "    print(\"%s  %.3f\" % (m, motif_probs[m]))"
   ]
  },
  {
   "cell_type": "code",
   "execution_count": 49,
   "id": "b3a09052",
   "metadata": {
    "execution": {
     "iopub.execute_input": "2022-10-31T00:36:42.283547Z",
     "iopub.status.busy": "2022-10-31T00:36:42.283005Z",
     "iopub.status.idle": "2022-10-31T00:36:42.284887Z",
     "shell.execute_reply": "2022-10-31T00:36:42.285300Z"
    }
   },
   "outputs": [],
   "source": [
    "aln = make_aligned_seqs(data=[(\"a\", \"AACAAC\"), (\"b\", \"AAGAAG\")], moltype=\"dna\")\n",
    "motif_probs = aln.get_motif_probs()\n",
    "assert motif_probs[\"T\"] == 0.0\n",
    "motif_probs = aln.get_motif_probs(pseudocount=1e-6)\n",
    "assert 0 < motif_probs[\"T\"] <= 1e-6"
   ]
  },
  {
   "cell_type": "code",
   "execution_count": 50,
   "id": "1105ffeb",
   "metadata": {
    "execution": {
     "iopub.execute_input": "2022-10-31T00:36:42.289165Z",
     "iopub.status.busy": "2022-10-31T00:36:42.288636Z",
     "iopub.status.idle": "2022-10-31T00:36:42.290727Z",
     "shell.execute_reply": "2022-10-31T00:36:42.290262Z"
    }
   },
   "outputs": [],
   "source": [
    "seqs = [(\"a\", \"AACGTAAG\"), (\"b\", \"AACGTAAG\")]\n",
    "aln = make_aligned_seqs(data=seqs, moltype=\"dna\")\n",
    "dinuc_alphabet = DNA.alphabet.get_word_alphabet(2)\n",
    "motif_probs = aln.get_motif_probs(alphabet=dinuc_alphabet)\n",
    "assert motif_probs[\"AA\"] == 0.25"
   ]
  },
  {
   "cell_type": "code",
   "execution_count": 51,
   "id": "6b678ac0",
   "metadata": {
    "execution": {
     "iopub.execute_input": "2022-10-31T00:36:42.294378Z",
     "iopub.status.busy": "2022-10-31T00:36:42.293872Z",
     "iopub.status.idle": "2022-10-31T00:36:42.296156Z",
     "shell.execute_reply": "2022-10-31T00:36:42.296536Z"
    }
   },
   "outputs": [
    {
     "data": {
      "text/plain": [
       "2"
      ]
     },
     "execution_count": 51,
     "metadata": {},
     "output_type": "execute_result"
    }
   ],
   "source": [
    "seqs = [(\"my_seq\", \"AAAGTAAG\")]\n",
    "aln = make_aligned_seqs(data=seqs, moltype=\"dna\")\n",
    "my_seq = aln.get_seq(\"my_seq\")\n",
    "my_seq.count(\"AA\")\n",
    "\"AAA\".count(\"AA\")\n",
    "\"AAAA\".count(\"AA\")"
   ]
  },
  {
   "cell_type": "code",
   "execution_count": 52,
   "id": "1fc293a2",
   "metadata": {
    "execution": {
     "iopub.execute_input": "2022-10-31T00:36:42.300591Z",
     "iopub.status.busy": "2022-10-31T00:36:42.300089Z",
     "iopub.status.idle": "2022-10-31T00:36:42.302321Z",
     "shell.execute_reply": "2022-10-31T00:36:42.302697Z"
    }
   },
   "outputs": [
    {
     "data": {
      "text/plain": [
       "3"
      ]
     },
     "execution_count": 52,
     "metadata": {},
     "output_type": "execute_result"
    }
   ],
   "source": [
    "from cogent3 import make_seq\n",
    "\n",
    "seq = make_seq(moltype=\"dna\", seq=\"AAAGTAAG\")\n",
    "seq\n",
    "di_nucs = [seq[i : i + 2] for i in range(len(seq) - 1)]\n",
    "sum([nn == \"AA\" for nn in di_nucs])"
   ]
  },
  {
   "cell_type": "code",
   "execution_count": 53,
   "id": "5a35c644",
   "metadata": {
    "execution": {
     "iopub.execute_input": "2022-10-31T00:36:42.306247Z",
     "iopub.status.busy": "2022-10-31T00:36:42.305783Z",
     "iopub.status.idle": "2022-10-31T00:36:42.309961Z",
     "shell.execute_reply": "2022-10-31T00:36:42.310289Z"
    }
   },
   "outputs": [
    {
     "data": {
      "text/plain": [
       "[ByteSequence(-), ByteSequence(-)]"
      ]
     },
     "execution_count": 53,
     "metadata": {},
     "output_type": "execute_result"
    }
   ],
   "source": [
    "from cogent3 import load_aligned_seqs\n",
    "\n",
    "aln = load_aligned_seqs(\"data/primate_cdx2_promoter.fasta\")\n",
    "col = aln[113:115].iter_positions()\n",
    "c1, c2 = list(col)\n",
    "c1, c2\n",
    "list(filter(lambda x: x == \"-\", c1))\n",
    "list(filter(lambda x: x == \"-\", c2))"
   ]
  },
  {
   "cell_type": "code",
   "execution_count": 54,
   "id": "2f6c8691",
   "metadata": {
    "execution": {
     "iopub.execute_input": "2022-10-31T00:36:42.313277Z",
     "iopub.status.busy": "2022-10-31T00:36:42.312731Z",
     "iopub.status.idle": "2022-10-31T00:36:42.317947Z",
     "shell.execute_reply": "2022-10-31T00:36:42.318266Z"
    }
   },
   "outputs": [
    {
     "name": "stdout",
     "output_type": "stream",
     "text": [
      "0.0\n",
      "0.6666666666666666\n",
      "0.0\n",
      "0.0\n",
      "0.0\n",
      "0.0\n",
      "0.0\n",
      "0.0\n",
      "0.0\n",
      "0.0\n",
      "0.0\n",
      "0.0\n",
      "0.0\n",
      "0.0\n",
      "0.0\n",
      "0.0\n",
      "0.0\n",
      "0.0\n",
      "0.0\n",
      "0.0\n",
      "0.0\n",
      "0.0\n",
      "0.0\n",
      "0.0\n",
      "0.0\n",
      "0.0\n",
      "0.0\n",
      "0.0\n",
      "0.0\n",
      "0.0\n",
      "0.0\n",
      "0.0\n",
      "0.0\n",
      "0.0\n",
      "0.0\n",
      "0.0\n",
      "0.0\n"
     ]
    }
   ],
   "source": [
    "from cogent3 import load_aligned_seqs\n",
    "\n",
    "aln = load_aligned_seqs(\"data/primate_cdx2_promoter.fasta\")\n",
    "for column in aln[113:150].iter_positions():\n",
    "    ungapped = list(filter(lambda x: x == \"-\", column))\n",
    "    gap_fraction = len(ungapped) * 1.0 / len(column)\n",
    "    print(gap_fraction)"
   ]
  },
  {
   "cell_type": "code",
   "execution_count": 55,
   "id": "1d6fd7ca",
   "metadata": {
    "execution": {
     "iopub.execute_input": "2022-10-31T00:36:42.321942Z",
     "iopub.status.busy": "2022-10-31T00:36:42.321418Z",
     "iopub.status.idle": "2022-10-31T00:36:42.323367Z",
     "shell.execute_reply": "2022-10-31T00:36:42.323787Z"
    }
   },
   "outputs": [],
   "source": [
    "from cogent3 import make_aligned_seqs\n",
    "\n",
    "aln = make_aligned_seqs(\n",
    "    data=[\n",
    "        (\"seq1\", \"ATGAAGG-TG--\"),\n",
    "        (\"seq2\", \"ATG-AGGTGATG\"),\n",
    "        (\"seq3\", \"ATGAAG--GATG\"),\n",
    "    ],\n",
    "    moltype=\"dna\",\n",
    ")\n",
    "seq_to_aln_map = aln.get_gapped_seq(\"seq1\").gap_maps()[0]"
   ]
  },
  {
   "cell_type": "code",
   "execution_count": 56,
   "id": "19b26120",
   "metadata": {
    "execution": {
     "iopub.execute_input": "2022-10-31T00:36:42.327042Z",
     "iopub.status.busy": "2022-10-31T00:36:42.326490Z",
     "iopub.status.idle": "2022-10-31T00:36:42.328598Z",
     "shell.execute_reply": "2022-10-31T00:36:42.328987Z"
    }
   },
   "outputs": [
    {
     "data": {
      "text/plain": [
       "9"
      ]
     },
     "execution_count": 56,
     "metadata": {},
     "output_type": "execute_result"
    }
   ],
   "source": [
    "seq_to_aln_map[3]\n",
    "seq_to_aln_map[8]"
   ]
  },
  {
   "cell_type": "code",
   "execution_count": 57,
   "id": "bcfdfb49",
   "metadata": {
    "execution": {
     "iopub.execute_input": "2022-10-31T00:36:42.332061Z",
     "iopub.status.busy": "2022-10-31T00:36:42.331570Z",
     "iopub.status.idle": "2022-10-31T00:36:42.333592Z",
     "shell.execute_reply": "2022-10-31T00:36:42.333908Z"
    }
   },
   "outputs": [
    {
     "data": {
      "text/plain": [
       "7"
      ]
     },
     "execution_count": 57,
     "metadata": {},
     "output_type": "execute_result"
    }
   ],
   "source": [
    "aln_to_seq_map = aln.get_gapped_seq(\"seq1\").gap_maps()[1]\n",
    "aln_to_seq_map[3]\n",
    "aln_to_seq_map[8]"
   ]
  },
  {
   "cell_type": "code",
   "execution_count": 58,
   "id": "6ab921ae",
   "metadata": {
    "execution": {
     "iopub.execute_input": "2022-10-31T00:36:42.344010Z",
     "iopub.status.busy": "2022-10-31T00:36:42.343351Z",
     "iopub.status.idle": "2022-10-31T00:36:42.345964Z",
     "shell.execute_reply": "2022-10-31T00:36:42.346286Z"
    }
   },
   "outputs": [
    {
     "ename": "KeyError",
     "evalue": "7",
     "output_type": "error",
     "traceback": [
      "\u001b[0;31m---------------------------------------------------------------------------\u001b[0m",
      "\u001b[0;31mKeyError\u001b[0m                                  Traceback (most recent call last)",
      "Input \u001b[0;32mIn [58]\u001b[0m, in \u001b[0;36m<module>\u001b[0;34m\u001b[0m\n\u001b[0;32m----> 1\u001b[0m seq_pos \u001b[38;5;241m=\u001b[39m \u001b[43maln_to_seq_map\u001b[49m\u001b[43m[\u001b[49m\u001b[38;5;241;43m7\u001b[39;49m\u001b[43m]\u001b[49m\n",
      "\u001b[0;31mKeyError\u001b[0m: 7"
     ]
    }
   ],
   "source": [
    "seq_pos = aln_to_seq_map[7]"
   ]
  },
  {
   "cell_type": "code",
   "execution_count": 59,
   "id": "74392347",
   "metadata": {
    "execution": {
     "iopub.execute_input": "2022-10-31T00:36:42.349703Z",
     "iopub.status.busy": "2022-10-31T00:36:42.348995Z",
     "iopub.status.idle": "2022-10-31T00:36:42.351147Z",
     "shell.execute_reply": "2022-10-31T00:36:42.351522Z"
    }
   },
   "outputs": [
    {
     "name": "stdout",
     "output_type": "stream",
     "text": [
      ">seq2\n",
      "ATG-AGTGATG\n",
      ">seq3\n",
      "AT--AG-GATG\n",
      "\n"
     ]
    }
   ],
   "source": [
    "aln = make_aligned_seqs(\n",
    "    data=[\n",
    "        (\"seq1\", \"ATGAA---TG-\"),\n",
    "        (\"seq2\", \"ATG-AGTGATG\"),\n",
    "        (\"seq3\", \"AT--AG-GATG\"),\n",
    "    ],\n",
    "    moltype=\"dna\",\n",
    ")\n",
    "print(aln.omit_gap_runs(2))"
   ]
  },
  {
   "cell_type": "code",
   "execution_count": 60,
   "id": "81e46a27",
   "metadata": {
    "execution": {
     "iopub.execute_input": "2022-10-31T00:36:42.354475Z",
     "iopub.status.busy": "2022-10-31T00:36:42.353955Z",
     "iopub.status.idle": "2022-10-31T00:36:42.356288Z",
     "shell.execute_reply": "2022-10-31T00:36:42.356601Z"
    }
   },
   "outputs": [
    {
     "name": "stdout",
     "output_type": "stream",
     "text": [
      ">seq1\n",
      "ATGA--TG-\n",
      ">seq2\n",
      "ATGAGGATG\n",
      ">seq3\n",
      "AT-AGGATG\n",
      "\n"
     ]
    }
   ],
   "source": [
    "aln = make_aligned_seqs(\n",
    "    data=[\n",
    "        (\"seq1\", \"ATGAA---TG-\"),\n",
    "        (\"seq2\", \"ATG-AGTGATG\"),\n",
    "        (\"seq3\", \"AT--AG-GATG\"),\n",
    "    ],\n",
    "    moltype=\"dna\",\n",
    ")\n",
    "print(aln.omit_gap_pos(0.40))"
   ]
  },
  {
   "cell_type": "code",
   "execution_count": 61,
   "id": "9d8b33ba",
   "metadata": {
    "execution": {
     "iopub.execute_input": "2022-10-31T00:36:42.359887Z",
     "iopub.status.busy": "2022-10-31T00:36:42.359380Z",
     "iopub.status.idle": "2022-10-31T00:36:42.361329Z",
     "shell.execute_reply": "2022-10-31T00:36:42.361642Z"
    }
   },
   "outputs": [
    {
     "name": "stdout",
     "output_type": "stream",
     "text": [
      ">seq2\n",
      "ATG-AGTGATG\n",
      ">seq3\n",
      "AT--AG-GATG\n",
      "\n"
     ]
    }
   ],
   "source": [
    "aln = make_aligned_seqs(\n",
    "    data=[\n",
    "        (\"seq1\", \"ATGAA------\"),\n",
    "        (\"seq2\", \"ATG-AGTGATG\"),\n",
    "        (\"seq3\", \"AT--AG-GATG\"),\n",
    "    ],\n",
    "    moltype=\"dna\",\n",
    ")\n",
    "filtered_aln = aln.omit_gap_seqs(0.50)\n",
    "print(filtered_aln)"
   ]
  },
  {
   "cell_type": "code",
   "execution_count": 62,
   "id": "c070b57d",
   "metadata": {
    "execution": {
     "iopub.execute_input": "2022-10-31T00:36:42.364442Z",
     "iopub.status.busy": "2022-10-31T00:36:42.363981Z",
     "iopub.status.idle": "2022-10-31T00:36:42.366199Z",
     "shell.execute_reply": "2022-10-31T00:36:42.366681Z"
    }
   },
   "outputs": [
    {
     "name": "stdout",
     "output_type": "stream",
     "text": [
      ">seq2\n",
      "ATGAGTGATG\n",
      ">seq3\n",
      "AT-AG-GATG\n",
      "\n"
     ]
    }
   ],
   "source": [
    "print(filtered_aln.omit_gap_pos())"
   ]
  }
 ],
 "metadata": {
  "kernelspec": {
   "display_name": "Python 3 (ipykernel)",
   "language": "python",
   "name": "python3"
  },
  "language_info": {
   "codemirror_mode": {
    "name": "ipython",
    "version": 3
   },
   "file_extension": ".py",
   "mimetype": "text/x-python",
   "name": "python",
   "nbconvert_exporter": "python",
   "pygments_lexer": "ipython3",
   "version": "3.10.0"
  }
 },
 "nbformat": 4,
 "nbformat_minor": 5
}