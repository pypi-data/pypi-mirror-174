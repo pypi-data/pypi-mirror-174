{
 "cells": [
  {
   "cell_type": "code",
   "execution_count": 1,
   "id": "b81c77b4",
   "metadata": {
    "execution": {
     "iopub.execute_input": "2022-10-31T00:38:17.387964Z",
     "iopub.status.busy": "2022-10-31T00:38:17.387259Z",
     "iopub.status.idle": "2022-10-31T00:38:18.674263Z",
     "shell.execute_reply": "2022-10-31T00:38:18.674693Z"
    }
   },
   "outputs": [
    {
     "data": {
      "text/plain": [
       "2"
      ]
     },
     "execution_count": 1,
     "metadata": {},
     "output_type": "execute_result"
    }
   ],
   "source": [
    "from cogent3.util.union_dict import UnionDict\n",
    "\n",
    "data = UnionDict(a=2, b={\"c\": 24, \"d\": [25]})\n",
    "data.a"
   ]
  },
  {
   "cell_type": "code",
   "execution_count": 2,
   "id": "d819eaa1",
   "metadata": {
    "execution": {
     "iopub.execute_input": "2022-10-31T00:38:18.678201Z",
     "iopub.status.busy": "2022-10-31T00:38:18.677648Z",
     "iopub.status.idle": "2022-10-31T00:38:18.679733Z",
     "shell.execute_reply": "2022-10-31T00:38:18.680168Z"
    }
   },
   "outputs": [
    {
     "data": {
      "text/plain": [
       "2"
      ]
     },
     "execution_count": 2,
     "metadata": {},
     "output_type": "execute_result"
    }
   ],
   "source": [
    "data[\"a\"]"
   ]
  },
  {
   "cell_type": "code",
   "execution_count": 3,
   "id": "0b3a4387",
   "metadata": {
    "execution": {
     "iopub.execute_input": "2022-10-31T00:38:18.683322Z",
     "iopub.status.busy": "2022-10-31T00:38:18.682763Z",
     "iopub.status.idle": "2022-10-31T00:38:18.684893Z",
     "shell.execute_reply": "2022-10-31T00:38:18.685306Z"
    }
   },
   "outputs": [
    {
     "data": {
      "text/plain": [
       "[25]"
      ]
     },
     "execution_count": 3,
     "metadata": {},
     "output_type": "execute_result"
    }
   ],
   "source": [
    "data.b.d"
   ]
  },
  {
   "cell_type": "code",
   "execution_count": 4,
   "id": "de9b47cf",
   "metadata": {
    "execution": {
     "iopub.execute_input": "2022-10-31T00:38:18.689133Z",
     "iopub.status.busy": "2022-10-31T00:38:18.688575Z",
     "iopub.status.idle": "2022-10-31T00:38:18.690569Z",
     "shell.execute_reply": "2022-10-31T00:38:18.690966Z"
    }
   },
   "outputs": [
    {
     "data": {
      "text/plain": [
       "{'c': 24, 'd': 25}"
      ]
     },
     "execution_count": 4,
     "metadata": {},
     "output_type": "execute_result"
    }
   ],
   "source": [
    "from cogent3.util.union_dict import UnionDict\n",
    "\n",
    "data = UnionDict(a=2, b={\"c\": 24, \"d\": [25]})\n",
    "data.b |= {\"d\": 25}\n",
    "data.b"
   ]
  },
  {
   "cell_type": "code",
   "execution_count": 5,
   "id": "8f081ec4",
   "metadata": {
    "execution": {
     "iopub.execute_input": "2022-10-31T00:38:18.693637Z",
     "iopub.status.busy": "2022-10-31T00:38:18.693112Z",
     "iopub.status.idle": "2022-10-31T00:38:18.694723Z",
     "shell.execute_reply": "2022-10-31T00:38:18.695114Z"
    }
   },
   "outputs": [],
   "source": [
    "data.b.union({\"d\": [25]})"
   ]
  },
  {
   "cell_type": "code",
   "execution_count": 6,
   "id": "5c11c943",
   "metadata": {
    "execution": {
     "iopub.execute_input": "2022-10-31T00:38:18.698097Z",
     "iopub.status.busy": "2022-10-31T00:38:18.697558Z",
     "iopub.status.idle": "2022-10-31T00:38:18.699682Z",
     "shell.execute_reply": "2022-10-31T00:38:18.699986Z"
    }
   },
   "outputs": [
    {
     "data": {
      "text/plain": [
       "{'c': 24, 'd': [25]}"
      ]
     },
     "execution_count": 6,
     "metadata": {},
     "output_type": "execute_result"
    }
   ],
   "source": [
    "data.b\n",
    "{\"c\": 24, \"d\": [25]}"
   ]
  },
  {
   "cell_type": "code",
   "execution_count": 7,
   "id": "aaa97386",
   "metadata": {
    "execution": {
     "iopub.execute_input": "2022-10-31T00:38:18.702800Z",
     "iopub.status.busy": "2022-10-31T00:38:18.702360Z",
     "iopub.status.idle": "2022-10-31T00:38:19.064436Z",
     "shell.execute_reply": "2022-10-31T00:38:19.064768Z"
    }
   },
   "outputs": [
    {
     "ename": "KeyError",
     "evalue": "'k'",
     "output_type": "error",
     "traceback": [
      "\u001b[0;31m---------------------------------------------------------------------------\u001b[0m",
      "\u001b[0;31mKeyError\u001b[0m                                  Traceback (most recent call last)",
      "Input \u001b[0;32mIn [7]\u001b[0m, in \u001b[0;36m<module>\u001b[0;34m\u001b[0m\n\u001b[1;32m      1\u001b[0m \u001b[38;5;28;01mfrom\u001b[39;00m \u001b[38;5;21;01mcogent3\u001b[39;00m\u001b[38;5;21;01m.\u001b[39;00m\u001b[38;5;21;01mutil\u001b[39;00m\u001b[38;5;21;01m.\u001b[39;00m\u001b[38;5;21;01munion_dict\u001b[39;00m \u001b[38;5;28;01mimport\u001b[39;00m UnionDict\n\u001b[1;32m      3\u001b[0m data \u001b[38;5;241m=\u001b[39m UnionDict(a\u001b[38;5;241m=\u001b[39m\u001b[38;5;241m2\u001b[39m, b\u001b[38;5;241m=\u001b[39m{\u001b[38;5;124m\"\u001b[39m\u001b[38;5;124mc\u001b[39m\u001b[38;5;124m\"\u001b[39m: \u001b[38;5;241m24\u001b[39m, \u001b[38;5;124m\"\u001b[39m\u001b[38;5;124md\u001b[39m\u001b[38;5;124m\"\u001b[39m: [\u001b[38;5;241m25\u001b[39m]})\n\u001b[0;32m----> 4\u001b[0m \u001b[43mdata\u001b[49m\u001b[43m[\u001b[49m\u001b[38;5;124;43m\"\u001b[39;49m\u001b[38;5;124;43mk\u001b[39;49m\u001b[38;5;124;43m\"\u001b[39;49m\u001b[43m]\u001b[49m\n",
      "\u001b[0;31mKeyError\u001b[0m: 'k'"
     ]
    }
   ],
   "source": [
    "from cogent3.util.union_dict import UnionDict\n",
    "\n",
    "data = UnionDict(a=2, b={\"c\": 24, \"d\": [25]})\n",
    "data[\"k\"]"
   ]
  },
  {
   "cell_type": "code",
   "execution_count": 8,
   "id": "3f72c671",
   "metadata": {
    "execution": {
     "iopub.execute_input": "2022-10-31T00:38:19.071521Z",
     "iopub.status.busy": "2022-10-31T00:38:19.070988Z",
     "iopub.status.idle": "2022-10-31T00:38:19.103401Z",
     "shell.execute_reply": "2022-10-31T00:38:19.103746Z"
    }
   },
   "outputs": [
    {
     "ename": "AttributeError",
     "evalue": "'k' not a key or attribute",
     "output_type": "error",
     "traceback": [
      "\u001b[0;31m---------------------------------------------------------------------------\u001b[0m",
      "\u001b[0;31mAttributeError\u001b[0m                            Traceback (most recent call last)",
      "File \u001b[0;32m~/opt/miniconda3/envs/c310dev/lib/python3.10/site-packages/cogent3/util/union_dict.py:46\u001b[0m, in \u001b[0;36mUnionDict.__getattr__\u001b[0;34m(self, item)\u001b[0m\n\u001b[1;32m     45\u001b[0m \u001b[38;5;28;01mtry\u001b[39;00m:\n\u001b[0;32m---> 46\u001b[0m     \u001b[38;5;28;01mreturn\u001b[39;00m \u001b[38;5;28;43msuper\u001b[39;49m\u001b[43m(\u001b[49m\u001b[43m)\u001b[49m\u001b[38;5;241;43m.\u001b[39;49m\u001b[38;5;21;43m__getattr__\u001b[39;49m(item)\n\u001b[1;32m     47\u001b[0m \u001b[38;5;28;01mexcept\u001b[39;00m \u001b[38;5;167;01mAttributeError\u001b[39;00m:\n",
      "\u001b[0;31mAttributeError\u001b[0m: 'super' object has no attribute '__getattr__'",
      "\nDuring handling of the above exception, another exception occurred:\n",
      "\u001b[0;31mAttributeError\u001b[0m                            Traceback (most recent call last)",
      "Input \u001b[0;32mIn [8]\u001b[0m, in \u001b[0;36m<module>\u001b[0;34m\u001b[0m\n\u001b[0;32m----> 1\u001b[0m \u001b[43mdata\u001b[49m\u001b[38;5;241;43m.\u001b[39;49m\u001b[43mk\u001b[49m\n",
      "File \u001b[0;32m~/opt/miniconda3/envs/c310dev/lib/python3.10/site-packages/cogent3/util/union_dict.py:48\u001b[0m, in \u001b[0;36mUnionDict.__getattr__\u001b[0;34m(self, item)\u001b[0m\n\u001b[1;32m     46\u001b[0m     \u001b[38;5;28;01mreturn\u001b[39;00m \u001b[38;5;28msuper\u001b[39m()\u001b[38;5;241m.\u001b[39m\u001b[38;5;21m__getattr__\u001b[39m(item)\n\u001b[1;32m     47\u001b[0m \u001b[38;5;28;01mexcept\u001b[39;00m \u001b[38;5;167;01mAttributeError\u001b[39;00m:\n\u001b[0;32m---> 48\u001b[0m     \u001b[38;5;28;01mraise\u001b[39;00m \u001b[38;5;167;01mAttributeError\u001b[39;00m(\u001b[38;5;124mf\u001b[39m\u001b[38;5;124m\"\u001b[39m\u001b[38;5;124m'\u001b[39m\u001b[38;5;132;01m{\u001b[39;00mitem\u001b[38;5;132;01m}\u001b[39;00m\u001b[38;5;124m'\u001b[39m\u001b[38;5;124m not a key or attribute\u001b[39m\u001b[38;5;124m\"\u001b[39m)\n",
      "\u001b[0;31mAttributeError\u001b[0m: 'k' not a key or attribute"
     ]
    }
   ],
   "source": [
    "data.k"
   ]
  },
  {
   "cell_type": "code",
   "execution_count": 9,
   "id": "e1781e8f",
   "metadata": {
    "execution": {
     "iopub.execute_input": "2022-10-31T00:38:19.107173Z",
     "iopub.status.busy": "2022-10-31T00:38:19.106704Z",
     "iopub.status.idle": "2022-10-31T00:38:19.108787Z",
     "shell.execute_reply": "2022-10-31T00:38:19.109086Z"
    }
   },
   "outputs": [],
   "source": [
    "import numpy\n",
    "\n",
    "def DiffOmega(omega):\n",
    "    def omega_from_S(S):\n",
    "        omega_est = S / (1 - numpy.e ** (-1 * S))\n",
    "        return abs(omega - omega_est) ** 2\n",
    "\n",
    "    return omega_from_S\n",
    "\n",
    "omega = 0.1\n",
    "f = DiffOmega(omega)"
   ]
  },
  {
   "cell_type": "code",
   "execution_count": 10,
   "id": "641cc101",
   "metadata": {
    "execution": {
     "iopub.execute_input": "2022-10-31T00:38:19.114817Z",
     "iopub.status.busy": "2022-10-31T00:38:19.114257Z",
     "iopub.status.idle": "2022-10-31T00:38:19.116721Z",
     "shell.execute_reply": "2022-10-31T00:38:19.117025Z"
    }
   },
   "outputs": [
    {
     "name": "stdout",
     "output_type": "stream",
     "text": [
      "S=-3.6150\n"
     ]
    }
   ],
   "source": [
    "from cogent3.maths.optimisers import maximise, minimise\n",
    "\n",
    "S = minimise(\n",
    "    f,  # the function\n",
    "    xinit=1.0,  # the initial value\n",
    "    bounds=(-100, 100),  # [lower,upper] bounds for the parameter\n",
    "    local=True,  # just local optimisation, not Simulated Annealing\n",
    "    show_progress=False,\n",
    ")\n",
    "assert 0.0 <= f(S) < 1e-6\n",
    "print(\"S=%.4f\" % S)"
   ]
  },
  {
   "cell_type": "code",
   "execution_count": 11,
   "id": "0c801c5c",
   "metadata": {
    "execution": {
     "iopub.execute_input": "2022-10-31T00:38:19.131455Z",
     "iopub.status.busy": "2022-10-31T00:38:19.130601Z",
     "iopub.status.idle": "2022-10-31T00:38:19.133608Z",
     "shell.execute_reply": "2022-10-31T00:38:19.134109Z"
    }
   },
   "outputs": [
    {
     "ename": "TypeError",
     "evalue": "'int' object is not iterable",
     "output_type": "error",
     "traceback": [
      "\u001b[0;31m---------------------------------------------------------------------------\u001b[0m",
      "\u001b[0;31mTypeError\u001b[0m                                 Traceback (most recent call last)",
      "Input \u001b[0;32mIn [11]\u001b[0m, in \u001b[0;36m<module>\u001b[0;34m\u001b[0m\n\u001b[1;32m      1\u001b[0m \u001b[38;5;28;01mfrom\u001b[39;00m \u001b[38;5;21;01mcogent3\u001b[39;00m\u001b[38;5;21;01m.\u001b[39;00m\u001b[38;5;21;01mutil\u001b[39;00m\u001b[38;5;21;01m.\u001b[39;00m\u001b[38;5;21;01mmisc\u001b[39;00m \u001b[38;5;28;01mimport\u001b[39;00m iterable\n\u001b[1;32m      3\u001b[0m my_var \u001b[38;5;241m=\u001b[39m \u001b[38;5;241m10\u001b[39m\n\u001b[0;32m----> 4\u001b[0m \u001b[38;5;28;01mfor\u001b[39;00m i \u001b[38;5;129;01min\u001b[39;00m my_var:\n\u001b[1;32m      5\u001b[0m     \u001b[38;5;28mprint\u001b[39m(\u001b[38;5;124m\"\u001b[39m\u001b[38;5;124mwill not work\u001b[39m\u001b[38;5;124m\"\u001b[39m)\n\u001b[1;32m      7\u001b[0m \u001b[38;5;28;01mfor\u001b[39;00m i \u001b[38;5;129;01min\u001b[39;00m iterable(my_var):\n",
      "\u001b[0;31mTypeError\u001b[0m: 'int' object is not iterable"
     ]
    }
   ],
   "source": [
    "from cogent3.util.misc import iterable\n",
    "\n",
    "my_var = 10\n",
    "for i in my_var:\n",
    "    print(\"will not work\")\n",
    "\n",
    "for i in iterable(my_var):\n",
    "    print(i)"
   ]
  },
  {
   "cell_type": "code",
   "execution_count": 12,
   "id": "c6ccdb38",
   "metadata": {
    "execution": {
     "iopub.execute_input": "2022-10-31T00:38:19.138836Z",
     "iopub.status.busy": "2022-10-31T00:38:19.138128Z",
     "iopub.status.idle": "2022-10-31T00:38:19.141195Z",
     "shell.execute_reply": "2022-10-31T00:38:19.141691Z"
    }
   },
   "outputs": [
    {
     "name": "stdout",
     "output_type": "stream",
     "text": [
      " curry(foo,5)\n",
      "== curried from foo ==\n",
      " Some function\n"
     ]
    },
    {
     "data": {
      "text/plain": [
       "15"
      ]
     },
     "execution_count": 12,
     "metadata": {},
     "output_type": "execute_result"
    }
   ],
   "source": [
    "from cogent3.util.misc import curry\n",
    "\n",
    "def foo(x, y):\n",
    "    \"\"\"Some function\"\"\"\n",
    "    return x + y\n",
    "\n",
    "bar = curry(foo, 5)\n",
    "print(bar.__doc__)\n",
    "bar(10)"
   ]
  },
  {
   "cell_type": "code",
   "execution_count": 13,
   "id": "207c150a",
   "metadata": {
    "execution": {
     "iopub.execute_input": "2022-10-31T00:38:19.145766Z",
     "iopub.status.busy": "2022-10-31T00:38:19.145113Z",
     "iopub.status.idle": "2022-10-31T00:38:19.147437Z",
     "shell.execute_reply": "2022-10-31T00:38:19.147807Z"
    }
   },
   "outputs": [
    {
     "data": {
      "text/plain": [
       "True"
      ]
     },
     "execution_count": 13,
     "metadata": {},
     "output_type": "execute_result"
    }
   ],
   "source": [
    "from cogent3.util.misc import is_iterable\n",
    "\n",
    "can_iter = [1, 2, 3, 4]\n",
    "cannot_iter = 1.234\n",
    "is_iterable(can_iter)"
   ]
  },
  {
   "cell_type": "code",
   "execution_count": 14,
   "id": "12056729",
   "metadata": {
    "execution": {
     "iopub.execute_input": "2022-10-31T00:38:19.150930Z",
     "iopub.status.busy": "2022-10-31T00:38:19.150371Z",
     "iopub.status.idle": "2022-10-31T00:38:19.152402Z",
     "shell.execute_reply": "2022-10-31T00:38:19.152779Z"
    }
   },
   "outputs": [
    {
     "data": {
      "text/plain": [
       "False"
      ]
     },
     "execution_count": 14,
     "metadata": {},
     "output_type": "execute_result"
    }
   ],
   "source": [
    "is_iterable(cannot_iter)"
   ]
  },
  {
   "cell_type": "code",
   "execution_count": 15,
   "id": "0c8ed444",
   "metadata": {
    "execution": {
     "iopub.execute_input": "2022-10-31T00:38:19.156115Z",
     "iopub.status.busy": "2022-10-31T00:38:19.155531Z",
     "iopub.status.idle": "2022-10-31T00:38:19.157614Z",
     "shell.execute_reply": "2022-10-31T00:38:19.157998Z"
    }
   },
   "outputs": [
    {
     "data": {
      "text/plain": [
       "True"
      ]
     },
     "execution_count": 15,
     "metadata": {},
     "output_type": "execute_result"
    }
   ],
   "source": [
    "from cogent3.util.misc import is_char\n",
    "\n",
    "class foo:\n",
    "    pass\n",
    "\n",
    "is_char(\"a\")"
   ]
  },
  {
   "cell_type": "code",
   "execution_count": 16,
   "id": "d2e3b712",
   "metadata": {
    "execution": {
     "iopub.execute_input": "2022-10-31T00:38:19.161033Z",
     "iopub.status.busy": "2022-10-31T00:38:19.160479Z",
     "iopub.status.idle": "2022-10-31T00:38:19.162600Z",
     "shell.execute_reply": "2022-10-31T00:38:19.163017Z"
    }
   },
   "outputs": [
    {
     "data": {
      "text/plain": [
       "False"
      ]
     },
     "execution_count": 16,
     "metadata": {},
     "output_type": "execute_result"
    }
   ],
   "source": [
    "is_char(\"ab\")"
   ]
  },
  {
   "cell_type": "code",
   "execution_count": 17,
   "id": "f1b60fc1",
   "metadata": {
    "execution": {
     "iopub.execute_input": "2022-10-31T00:38:19.165884Z",
     "iopub.status.busy": "2022-10-31T00:38:19.165361Z",
     "iopub.status.idle": "2022-10-31T00:38:19.167686Z",
     "shell.execute_reply": "2022-10-31T00:38:19.167999Z"
    }
   },
   "outputs": [
    {
     "data": {
      "text/plain": [
       "False"
      ]
     },
     "execution_count": 17,
     "metadata": {},
     "output_type": "execute_result"
    }
   ],
   "source": [
    "is_char(foo())"
   ]
  },
  {
   "cell_type": "code",
   "execution_count": 18,
   "id": "eee586cb",
   "metadata": {
    "execution": {
     "iopub.execute_input": "2022-10-31T00:38:19.170836Z",
     "iopub.status.busy": "2022-10-31T00:38:19.170380Z",
     "iopub.status.idle": "2022-10-31T00:38:19.172096Z",
     "shell.execute_reply": "2022-10-31T00:38:19.172483Z"
    }
   },
   "outputs": [],
   "source": [
    "from cogent3.util.misc import recursive_flatten\n",
    "\n",
    "l = [[[[1, 2], \"abcde\"], [5, 6]], [7, 8], [9, 10]]"
   ]
  },
  {
   "cell_type": "code",
   "execution_count": 19,
   "id": "8942e419",
   "metadata": {
    "execution": {
     "iopub.execute_input": "2022-10-31T00:38:19.175519Z",
     "iopub.status.busy": "2022-10-31T00:38:19.174951Z",
     "iopub.status.idle": "2022-10-31T00:38:19.177299Z",
     "shell.execute_reply": "2022-10-31T00:38:19.177665Z"
    }
   },
   "outputs": [
    {
     "data": {
      "text/plain": [
       "[1, 2, 'a', 'b', 'c', 'd', 'e', 5, 6, 7, 8, 9, 10]"
      ]
     },
     "execution_count": 19,
     "metadata": {},
     "output_type": "execute_result"
    }
   ],
   "source": [
    "recursive_flatten(l)"
   ]
  },
  {
   "cell_type": "code",
   "execution_count": 20,
   "id": "6964ce05",
   "metadata": {
    "execution": {
     "iopub.execute_input": "2022-10-31T00:38:19.180948Z",
     "iopub.status.busy": "2022-10-31T00:38:19.180375Z",
     "iopub.status.idle": "2022-10-31T00:38:19.182733Z",
     "shell.execute_reply": "2022-10-31T00:38:19.183119Z"
    }
   },
   "outputs": [
    {
     "data": {
      "text/plain": [
       "True"
      ]
     },
     "execution_count": 20,
     "metadata": {},
     "output_type": "execute_result"
    }
   ],
   "source": [
    "from cogent3.util.misc import not_list_tuple\n",
    "\n",
    "not_list_tuple(1)"
   ]
  },
  {
   "cell_type": "code",
   "execution_count": 21,
   "id": "5e65c9d3",
   "metadata": {
    "execution": {
     "iopub.execute_input": "2022-10-31T00:38:19.186298Z",
     "iopub.status.busy": "2022-10-31T00:38:19.185719Z",
     "iopub.status.idle": "2022-10-31T00:38:19.187917Z",
     "shell.execute_reply": "2022-10-31T00:38:19.188278Z"
    }
   },
   "outputs": [
    {
     "data": {
      "text/plain": [
       "False"
      ]
     },
     "execution_count": 21,
     "metadata": {},
     "output_type": "execute_result"
    }
   ],
   "source": [
    "not_list_tuple([1])"
   ]
  },
  {
   "cell_type": "code",
   "execution_count": 22,
   "id": "a89d6bdb",
   "metadata": {
    "execution": {
     "iopub.execute_input": "2022-10-31T00:38:19.191310Z",
     "iopub.status.busy": "2022-10-31T00:38:19.190746Z",
     "iopub.status.idle": "2022-10-31T00:38:19.192855Z",
     "shell.execute_reply": "2022-10-31T00:38:19.193221Z"
    }
   },
   "outputs": [
    {
     "data": {
      "text/plain": [
       "True"
      ]
     },
     "execution_count": 22,
     "metadata": {},
     "output_type": "execute_result"
    }
   ],
   "source": [
    "not_list_tuple(\"ab\")"
   ]
  },
  {
   "cell_type": "code",
   "execution_count": 23,
   "id": "95e899dd",
   "metadata": {
    "execution": {
     "iopub.execute_input": "2022-10-31T00:38:19.196933Z",
     "iopub.status.busy": "2022-10-31T00:38:19.196371Z",
     "iopub.status.idle": "2022-10-31T00:38:19.198519Z",
     "shell.execute_reply": "2022-10-31T00:38:19.198952Z"
    }
   },
   "outputs": [
    {
     "data": {
      "text/plain": [
       "{'A': 5, 'B': 6, 'C': 7, 'foo': 8, 42: 'life', 'a': 5, 'b': 6, 'c': 7}"
      ]
     },
     "execution_count": 23,
     "metadata": {},
     "output_type": "execute_result"
    }
   ],
   "source": [
    "from cogent3.util.misc import add_lowercase\n",
    "\n",
    "d = {\"A\": 5, \"B\": 6, \"C\": 7, \"foo\": 8, 42: \"life\"}\n",
    "add_lowercase(d)"
   ]
  },
  {
   "cell_type": "code",
   "execution_count": 24,
   "id": "13da9906",
   "metadata": {
    "execution": {
     "iopub.execute_input": "2022-10-31T00:38:19.202472Z",
     "iopub.status.busy": "2022-10-31T00:38:19.201981Z",
     "iopub.status.idle": "2022-10-31T00:38:19.203972Z",
     "shell.execute_reply": "2022-10-31T00:38:19.204297Z"
    }
   },
   "outputs": [
    {
     "data": {
      "text/plain": [
       "1"
      ]
     },
     "execution_count": 24,
     "metadata": {},
     "output_type": "execute_result"
    }
   ],
   "source": [
    "from numpy import array\n",
    "\n",
    "from cogent3.util.misc import DistanceFromMatrix\n",
    "\n",
    "m = array([[1, 2, 3], [4, 5, 6], [7, 8, 9]])\n",
    "f = DistanceFromMatrix(m)\n",
    "f(0, 0)"
   ]
  },
  {
   "cell_type": "code",
   "execution_count": 25,
   "id": "97966a08",
   "metadata": {
    "execution": {
     "iopub.execute_input": "2022-10-31T00:38:19.207042Z",
     "iopub.status.busy": "2022-10-31T00:38:19.206507Z",
     "iopub.status.idle": "2022-10-31T00:38:19.208532Z",
     "shell.execute_reply": "2022-10-31T00:38:19.208838Z"
    }
   },
   "outputs": [
    {
     "data": {
      "text/plain": [
       "6"
      ]
     },
     "execution_count": 25,
     "metadata": {},
     "output_type": "execute_result"
    }
   ],
   "source": [
    "f(1, 2)"
   ]
  },
  {
   "cell_type": "code",
   "execution_count": 26,
   "id": "3b14da66",
   "metadata": {
    "execution": {
     "iopub.execute_input": "2022-10-31T00:38:19.212464Z",
     "iopub.status.busy": "2022-10-31T00:38:19.211965Z",
     "iopub.status.idle": "2022-10-31T00:38:19.213937Z",
     "shell.execute_reply": "2022-10-31T00:38:19.214243Z"
    }
   },
   "outputs": [
    {
     "data": {
      "text/plain": [
       "True"
      ]
     },
     "execution_count": 26,
     "metadata": {},
     "output_type": "execute_result"
    }
   ],
   "source": [
    "from cogent3.util.misc import ClassChecker\n",
    "\n",
    "class not_okay(object):\n",
    "    pass\n",
    "\n",
    "no = not_okay()\n",
    "\n",
    "class okay(object):\n",
    "    pass\n",
    "\n",
    "o = okay()\n",
    "\n",
    "class my_dict(dict):\n",
    "    pass\n",
    "\n",
    "md = my_dict()\n",
    "cc = ClassChecker(str, okay, dict)\n",
    "o in cc"
   ]
  },
  {
   "cell_type": "code",
   "execution_count": 27,
   "id": "a7c01948",
   "metadata": {
    "execution": {
     "iopub.execute_input": "2022-10-31T00:38:19.216953Z",
     "iopub.status.busy": "2022-10-31T00:38:19.216394Z",
     "iopub.status.idle": "2022-10-31T00:38:19.218686Z",
     "shell.execute_reply": "2022-10-31T00:38:19.219139Z"
    }
   },
   "outputs": [
    {
     "data": {
      "text/plain": [
       "False"
      ]
     },
     "execution_count": 27,
     "metadata": {},
     "output_type": "execute_result"
    }
   ],
   "source": [
    "no in cc"
   ]
  },
  {
   "cell_type": "code",
   "execution_count": 28,
   "id": "462bf6d6",
   "metadata": {
    "execution": {
     "iopub.execute_input": "2022-10-31T00:38:19.222168Z",
     "iopub.status.busy": "2022-10-31T00:38:19.221604Z",
     "iopub.status.idle": "2022-10-31T00:38:19.223599Z",
     "shell.execute_reply": "2022-10-31T00:38:19.224109Z"
    }
   },
   "outputs": [
    {
     "data": {
      "text/plain": [
       "False"
      ]
     },
     "execution_count": 28,
     "metadata": {},
     "output_type": "execute_result"
    }
   ],
   "source": [
    "5 in cc"
   ]
  },
  {
   "cell_type": "code",
   "execution_count": 29,
   "id": "13b3773a",
   "metadata": {
    "execution": {
     "iopub.execute_input": "2022-10-31T00:38:19.227684Z",
     "iopub.status.busy": "2022-10-31T00:38:19.226800Z",
     "iopub.status.idle": "2022-10-31T00:38:19.229317Z",
     "shell.execute_reply": "2022-10-31T00:38:19.229652Z"
    }
   },
   "outputs": [
    {
     "data": {
      "text/plain": [
       "True"
      ]
     },
     "execution_count": 29,
     "metadata": {},
     "output_type": "execute_result"
    }
   ],
   "source": [
    "{\"a\": 5} in cc"
   ]
  },
  {
   "cell_type": "code",
   "execution_count": 30,
   "id": "5cb718a4",
   "metadata": {
    "execution": {
     "iopub.execute_input": "2022-10-31T00:38:19.232667Z",
     "iopub.status.busy": "2022-10-31T00:38:19.232038Z",
     "iopub.status.idle": "2022-10-31T00:38:19.234284Z",
     "shell.execute_reply": "2022-10-31T00:38:19.234715Z"
    }
   },
   "outputs": [
    {
     "data": {
      "text/plain": [
       "True"
      ]
     },
     "execution_count": 30,
     "metadata": {},
     "output_type": "execute_result"
    }
   ],
   "source": [
    "\"asasas\" in cc"
   ]
  },
  {
   "cell_type": "code",
   "execution_count": 31,
   "id": "f0a0c417",
   "metadata": {
    "execution": {
     "iopub.execute_input": "2022-10-31T00:38:19.237721Z",
     "iopub.status.busy": "2022-10-31T00:38:19.237173Z",
     "iopub.status.idle": "2022-10-31T00:38:19.239291Z",
     "shell.execute_reply": "2022-10-31T00:38:19.239649Z"
    }
   },
   "outputs": [
    {
     "data": {
      "text/plain": [
       "True"
      ]
     },
     "execution_count": 31,
     "metadata": {},
     "output_type": "execute_result"
    }
   ],
   "source": [
    "md in cc"
   ]
  },
  {
   "cell_type": "code",
   "execution_count": 32,
   "id": "d6fb96c8",
   "metadata": {
    "execution": {
     "iopub.execute_input": "2022-10-31T00:38:19.244039Z",
     "iopub.status.busy": "2022-10-31T00:38:19.243456Z",
     "iopub.status.idle": "2022-10-31T00:38:19.245487Z",
     "shell.execute_reply": "2022-10-31T00:38:19.245886Z"
    }
   },
   "outputs": [
    {
     "data": {
      "text/plain": [
       "3"
      ]
     },
     "execution_count": 32,
     "metadata": {},
     "output_type": "execute_result"
    }
   ],
   "source": [
    "from cogent3.util.misc import Delegator\n",
    "\n",
    "class ListAndString(list, Delegator):\n",
    "    def __init__(self, items, string):\n",
    "        Delegator.__init__(self, string)\n",
    "        for i in items:\n",
    "            self.append(i)\n",
    "\n",
    "ls = ListAndString([1, 2, 3], \"ab_cd\")\n",
    "len(ls)"
   ]
  },
  {
   "cell_type": "code",
   "execution_count": 33,
   "id": "3bae59d9",
   "metadata": {
    "execution": {
     "iopub.execute_input": "2022-10-31T00:38:19.249165Z",
     "iopub.status.busy": "2022-10-31T00:38:19.248473Z",
     "iopub.status.idle": "2022-10-31T00:38:19.250900Z",
     "shell.execute_reply": "2022-10-31T00:38:19.251218Z"
    }
   },
   "outputs": [
    {
     "data": {
      "text/plain": [
       "1"
      ]
     },
     "execution_count": 33,
     "metadata": {},
     "output_type": "execute_result"
    }
   ],
   "source": [
    "ls[0]"
   ]
  },
  {
   "cell_type": "code",
   "execution_count": 34,
   "id": "28c156a0",
   "metadata": {
    "execution": {
     "iopub.execute_input": "2022-10-31T00:38:19.254076Z",
     "iopub.status.busy": "2022-10-31T00:38:19.253557Z",
     "iopub.status.idle": "2022-10-31T00:38:19.255627Z",
     "shell.execute_reply": "2022-10-31T00:38:19.255952Z"
    }
   },
   "outputs": [
    {
     "data": {
      "text/plain": [
       "'AB_CD'"
      ]
     },
     "execution_count": 34,
     "metadata": {},
     "output_type": "execute_result"
    }
   ],
   "source": [
    "ls.upper()"
   ]
  },
  {
   "cell_type": "code",
   "execution_count": 35,
   "id": "b6c84106",
   "metadata": {
    "execution": {
     "iopub.execute_input": "2022-10-31T00:38:19.258685Z",
     "iopub.status.busy": "2022-10-31T00:38:19.258091Z",
     "iopub.status.idle": "2022-10-31T00:38:19.260284Z",
     "shell.execute_reply": "2022-10-31T00:38:19.260695Z"
    }
   },
   "outputs": [
    {
     "data": {
      "text/plain": [
       "['ab', 'cd']"
      ]
     },
     "execution_count": 35,
     "metadata": {},
     "output_type": "execute_result"
    }
   ],
   "source": [
    "ls.split(\"_\")"
   ]
  },
  {
   "cell_type": "code",
   "execution_count": 36,
   "id": "f62fbb82",
   "metadata": {
    "execution": {
     "iopub.execute_input": "2022-10-31T00:38:19.264157Z",
     "iopub.status.busy": "2022-10-31T00:38:19.263495Z",
     "iopub.status.idle": "2022-10-31T00:38:19.265962Z",
     "shell.execute_reply": "2022-10-31T00:38:19.266326Z"
    }
   },
   "outputs": [
    {
     "data": {
      "text/plain": [
       "<cogent3.util.misc.FunctionWrapper at 0x7fe3d8a85120>"
      ]
     },
     "execution_count": 36,
     "metadata": {},
     "output_type": "execute_result"
    }
   ],
   "source": [
    "from cogent3.util.misc import FunctionWrapper\n",
    "\n",
    "f = FunctionWrapper(str)\n",
    "f"
   ]
  },
  {
   "cell_type": "code",
   "execution_count": 37,
   "id": "c0e42e6d",
   "metadata": {
    "execution": {
     "iopub.execute_input": "2022-10-31T00:38:19.269221Z",
     "iopub.status.busy": "2022-10-31T00:38:19.268647Z",
     "iopub.status.idle": "2022-10-31T00:38:19.271117Z",
     "shell.execute_reply": "2022-10-31T00:38:19.270708Z"
    }
   },
   "outputs": [
    {
     "data": {
      "text/plain": [
       "'123'"
      ]
     },
     "execution_count": 37,
     "metadata": {},
     "output_type": "execute_result"
    }
   ],
   "source": [
    "f(123)"
   ]
  },
  {
   "cell_type": "code",
   "execution_count": 38,
   "id": "b474bcf2",
   "metadata": {
    "execution": {
     "iopub.execute_input": "2022-10-31T00:38:19.273780Z",
     "iopub.status.busy": "2022-10-31T00:38:19.273229Z",
     "iopub.status.idle": "2022-10-31T00:38:19.274766Z",
     "shell.execute_reply": "2022-10-31T00:38:19.275252Z"
    }
   },
   "outputs": [],
   "source": [
    "from cogent3.util.misc import ConstraintError"
   ]
  },
  {
   "cell_type": "code",
   "execution_count": 39,
   "id": "88f483cd",
   "metadata": {
    "execution": {
     "iopub.execute_input": "2022-10-31T00:38:19.278619Z",
     "iopub.status.busy": "2022-10-31T00:38:19.278087Z",
     "iopub.status.idle": "2022-10-31T00:38:19.280693Z",
     "shell.execute_reply": "2022-10-31T00:38:19.280322Z"
    }
   },
   "outputs": [
    {
     "data": {
      "text/plain": [
       "{'a': 1, 'b': 2, 'c': 3}"
      ]
     },
     "execution_count": 39,
     "metadata": {},
     "output_type": "execute_result"
    }
   ],
   "source": [
    "from cogent3.util.misc import ConstrainedDict\n",
    "\n",
    "d = ConstrainedDict({\"a\": 1, \"b\": 2, \"c\": 3}, constraint=\"abc\")\n",
    "d"
   ]
  },
  {
   "cell_type": "code",
   "execution_count": 40,
   "id": "b89a84f1",
   "metadata": {
    "execution": {
     "iopub.execute_input": "2022-10-31T00:38:19.287783Z",
     "iopub.status.busy": "2022-10-31T00:38:19.287248Z",
     "iopub.status.idle": "2022-10-31T00:38:19.380987Z",
     "shell.execute_reply": "2022-10-31T00:38:19.381385Z"
    }
   },
   "outputs": [
    {
     "ename": "ConstraintError",
     "evalue": "Item 'd' not in constraint 'abc'",
     "output_type": "error",
     "traceback": [
      "\u001b[0;31m---------------------------------------------------------------------------\u001b[0m",
      "\u001b[0;31mConstraintError\u001b[0m                           Traceback (most recent call last)",
      "Input \u001b[0;32mIn [40]\u001b[0m, in \u001b[0;36m<module>\u001b[0;34m\u001b[0m\n\u001b[0;32m----> 1\u001b[0m d[\u001b[38;5;124m\"\u001b[39m\u001b[38;5;124md\u001b[39m\u001b[38;5;124m\"\u001b[39m] \u001b[38;5;241m=\u001b[39m \u001b[38;5;241m5\u001b[39m\n",
      "File \u001b[0;32m~/opt/miniconda3/envs/c310dev/lib/python3.10/site-packages/cogent3/util/misc.py:692\u001b[0m, in \u001b[0;36mConstrainedDict.__setitem__\u001b[0;34m(self, key, value)\u001b[0m\n\u001b[1;32m    690\u001b[0m \u001b[38;5;124;03m\"\"\"Sets self[key] to value if value in constraint.\"\"\"\u001b[39;00m\n\u001b[1;32m    691\u001b[0m \u001b[38;5;28;01mif\u001b[39;00m \u001b[38;5;129;01mnot\u001b[39;00m \u001b[38;5;28mself\u001b[39m\u001b[38;5;241m.\u001b[39mitem_is_valid(key):\n\u001b[0;32m--> 692\u001b[0m     \u001b[38;5;28;01mraise\u001b[39;00m ConstraintError(\u001b[38;5;124mf\u001b[39m\u001b[38;5;124m\"\u001b[39m\u001b[38;5;124mItem \u001b[39m\u001b[38;5;124m'\u001b[39m\u001b[38;5;132;01m{\u001b[39;00mkey\u001b[38;5;132;01m}\u001b[39;00m\u001b[38;5;124m'\u001b[39m\u001b[38;5;124m not in constraint \u001b[39m\u001b[38;5;124m'\u001b[39m\u001b[38;5;132;01m{\u001b[39;00m\u001b[38;5;28mself\u001b[39m\u001b[38;5;241m.\u001b[39mconstraint\u001b[38;5;132;01m}\u001b[39;00m\u001b[38;5;124m'\u001b[39m\u001b[38;5;124m\"\u001b[39m)\n\u001b[1;32m    693\u001b[0m key, value \u001b[38;5;241m=\u001b[39m \u001b[38;5;28mself\u001b[39m\u001b[38;5;241m.\u001b[39mmask(key), \u001b[38;5;28mself\u001b[39m\u001b[38;5;241m.\u001b[39mvalue_mask(value)\n\u001b[1;32m    694\u001b[0m \u001b[38;5;28mdict\u001b[39m\u001b[38;5;241m.\u001b[39m\u001b[38;5;21m__setitem__\u001b[39m(\u001b[38;5;28mself\u001b[39m, key, value)\n",
      "\u001b[0;31mConstraintError\u001b[0m: Item 'd' not in constraint 'abc'"
     ]
    }
   ],
   "source": [
    "d[\"d\"] = 5"
   ]
  }
 ],
 "metadata": {
  "kernelspec": {
   "display_name": "Python 3 (ipykernel)",
   "language": "python",
   "name": "python3"
  },
  "language_info": {
   "codemirror_mode": {
    "name": "ipython",
    "version": 3
   },
   "file_extension": ".py",
   "mimetype": "text/x-python",
   "name": "python",
   "nbconvert_exporter": "python",
   "pygments_lexer": "ipython3",
   "version": "3.10.0"
  }
 },
 "nbformat": 4,
 "nbformat_minor": 5
}