{
 "cells": [
  {
   "cell_type": "code",
   "execution_count": 1,
   "id": "c6da5c05",
   "metadata": {
    "execution": {
     "iopub.execute_input": "2022-10-31T00:37:02.125003Z",
     "iopub.status.busy": "2022-10-31T00:37:02.124337Z",
     "iopub.status.idle": "2022-10-31T00:37:05.691210Z",
     "shell.execute_reply": "2022-10-31T00:37:05.691751Z"
    }
   },
   "outputs": [],
   "source": [
    "import set_working_directory"
   ]
  },
  {
   "cell_type": "code",
   "execution_count": 2,
   "id": "3c918c8e",
   "metadata": {
    "execution": {
     "iopub.execute_input": "2022-10-31T00:37:05.696808Z",
     "iopub.status.busy": "2022-10-31T00:37:05.696121Z",
     "iopub.status.idle": "2022-10-31T00:37:07.038561Z",
     "shell.execute_reply": "2022-10-31T00:37:07.038944Z"
    }
   },
   "outputs": [
    {
     "name": "stdout",
     "output_type": "stream",
     "text": [
      "          /-Orangutan\n",
      "         |\n",
      "         |          /-Rhesus\n",
      "         |-edge.1--|\n",
      "-root----|         |          /-Galago\n",
      "         |          \\edge.0--|\n",
      "         |                    \\-HowlerMon\n",
      "         |\n",
      "         |          /-Chimpanzee\n",
      "          \\edge.2--|\n",
      "                   |          /-Gorilla\n",
      "                    \\edge.3--|\n",
      "                              \\-Human\n"
     ]
    }
   ],
   "source": [
    "from cogent3 import load_aligned_seqs\n",
    "\n",
    "aln = load_aligned_seqs(\"data/primate_brca1.fasta\", moltype=\"dna\")\n",
    "tree = aln.quick_tree(calc=\"TN93\", show_progress=False)\n",
    "tree = tree.balanced()  # purely for display\n",
    "print(tree.ascii_art())"
   ]
  },
  {
   "cell_type": "code",
   "execution_count": 3,
   "id": "120f09c6",
   "metadata": {
    "execution": {
     "iopub.execute_input": "2022-10-31T00:37:07.042796Z",
     "iopub.status.busy": "2022-10-31T00:37:07.042262Z",
     "iopub.status.idle": "2022-10-31T00:37:07.382341Z",
     "shell.execute_reply": "2022-10-31T00:37:07.382657Z"
    }
   },
   "outputs": [],
   "source": [
    "tree = aln.quick_tree(calc=\"TN93\", bootstrap=100, show_progress=False)"
   ]
  },
  {
   "cell_type": "code",
   "execution_count": 4,
   "id": "45a7e229",
   "metadata": {
    "execution": {
     "iopub.execute_input": "2022-10-31T00:37:07.389805Z",
     "iopub.status.busy": "2022-10-31T00:37:07.389295Z",
     "iopub.status.idle": "2022-10-31T00:37:07.396054Z",
     "shell.execute_reply": "2022-10-31T00:37:07.395724Z"
    }
   },
   "outputs": [
    {
     "name": "stdout",
     "output_type": "stream",
     "text": [
      "          /-Orangutan\n",
      "         |\n",
      "         |          /-Rhesus\n",
      "         |-edge.1--|\n",
      "-root----|         |          /-Galago\n",
      "         |          \\edge.0--|\n",
      "         |                    \\-HowlerMon\n",
      "         |\n",
      "         |          /-Chimpanzee\n",
      "          \\edge.2--|\n",
      "                   |          /-Gorilla\n",
      "                    \\edge.3--|\n",
      "                              \\-Human\n"
     ]
    }
   ],
   "source": [
    "from cogent3 import load_aligned_seqs\n",
    "\n",
    "aln = load_aligned_seqs(\"data/primate_brca1.fasta\", moltype=\"dna\")\n",
    "dists = aln.distance_matrix(calc=\"TN93\")\n",
    "tree = dists.quick_tree(show_progress=False)\n",
    "tree = tree.balanced()  # purely for display\n",
    "print(tree.ascii_art())"
   ]
  },
  {
   "cell_type": "code",
   "execution_count": 5,
   "id": "6930ac6a",
   "metadata": {
    "execution": {
     "iopub.execute_input": "2022-10-31T00:37:07.399622Z",
     "iopub.status.busy": "2022-10-31T00:37:07.399092Z",
     "iopub.status.idle": "2022-10-31T00:37:07.407912Z",
     "shell.execute_reply": "2022-10-31T00:37:07.408295Z"
    }
   },
   "outputs": [
    {
     "name": "stdout",
     "output_type": "stream",
     "text": [
      "          /-Orangutan\n",
      "         |\n",
      "         |          /-Rhesus\n",
      "         |-edge.1--|\n",
      "-root----|         |          /-Galago\n",
      "         |          \\edge.0--|\n",
      "         |                    \\-HowlerMon\n",
      "         |\n",
      "         |          /-Chimpanzee\n",
      "          \\edge.2--|\n",
      "                   |          /-Gorilla\n",
      "                    \\edge.3--|\n",
      "                              \\-Human\n"
     ]
    }
   ],
   "source": [
    "from cogent3 import load_aligned_seqs\n",
    "from cogent3.phylo import nj\n",
    "\n",
    "aln = load_aligned_seqs(\"data/primate_brca1.fasta\", moltype=\"dna\")\n",
    "dists = aln.distance_matrix(calc=\"TN93\")\n",
    "tree = nj.nj(dists, show_progress=False)\n",
    "tree = tree.balanced()  # purely for display\n",
    "print(tree.ascii_art())"
   ]
  },
  {
   "cell_type": "code",
   "execution_count": 6,
   "id": "70cabfbc",
   "metadata": {
    "execution": {
     "iopub.execute_input": "2022-10-31T00:37:07.411972Z",
     "iopub.status.busy": "2022-10-31T00:37:07.411264Z",
     "iopub.status.idle": "2022-10-31T00:37:07.413425Z",
     "shell.execute_reply": "2022-10-31T00:37:07.413848Z"
    }
   },
   "outputs": [
    {
     "name": "stdout",
     "output_type": "stream",
     "text": [
      "          /-a\n",
      "         |\n",
      "-root----|--b\n",
      "         |\n",
      "          \\-c\n"
     ]
    }
   ],
   "source": [
    "from cogent3.phylo import nj\n",
    "\n",
    "dists = {(\"a\", \"b\"): 2.7, (\"c\", \"b\"): 2.33, (\"c\", \"a\"): 0.73}\n",
    "tree = nj.nj(dists, show_progress=False)\n",
    "print(tree.ascii_art())"
   ]
  },
  {
   "cell_type": "code",
   "execution_count": 7,
   "id": "3f6cc17c",
   "metadata": {
    "execution": {
     "iopub.execute_input": "2022-10-31T00:37:07.416731Z",
     "iopub.status.busy": "2022-10-31T00:37:07.416271Z",
     "iopub.status.idle": "2022-10-31T00:37:07.670707Z",
     "shell.execute_reply": "2022-10-31T00:37:07.671157Z"
    }
   },
   "outputs": [],
   "source": [
    "from cogent3.phylo.least_squares import WLS\n",
    "from cogent3.util.deserialise import deserialise_object\n",
    "\n",
    "dists = deserialise_object(\"data/dists_for_phylo.json\")\n",
    "ls = WLS(dists)\n",
    "stat, tree = ls.trex(a=5, k=5, show_progress=False)"
   ]
  },
  {
   "cell_type": "code",
   "execution_count": 8,
   "id": "7d750b40",
   "metadata": {
    "execution": {
     "iopub.execute_input": "2022-10-31T00:37:07.674850Z",
     "iopub.status.busy": "2022-10-31T00:37:07.674260Z",
     "iopub.status.idle": "2022-10-31T00:37:07.680684Z",
     "shell.execute_reply": "2022-10-31T00:37:07.681141Z"
    }
   },
   "outputs": [],
   "source": [
    "from cogent3 import load_aligned_seqs\n",
    "from cogent3.evolve.models import F81\n",
    "from cogent3.phylo.maximum_likelihood import ML\n",
    "\n",
    "aln = load_aligned_seqs(\"data/primate_brca1.fasta\")\n",
    "ml = ML(F81(), aln)"
   ]
  }
 ],
 "metadata": {
  "kernelspec": {
   "display_name": "Python 3 (ipykernel)",
   "language": "python",
   "name": "python3"
  },
  "language_info": {
   "codemirror_mode": {
    "name": "ipython",
    "version": 3
   },
   "file_extension": ".py",
   "mimetype": "text/x-python",
   "name": "python",
   "nbconvert_exporter": "python",
   "pygments_lexer": "ipython3",
   "version": "3.10.0"
  }
 },
 "nbformat": 4,
 "nbformat_minor": 5
}