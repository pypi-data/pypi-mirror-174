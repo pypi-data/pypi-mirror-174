{
 "cells": [
  {
   "cell_type": "code",
   "execution_count": 1,
   "id": "856240bc",
   "metadata": {
    "execution": {
     "iopub.execute_input": "2022-10-31T00:38:02.833942Z",
     "iopub.status.busy": "2022-10-31T00:38:02.833308Z",
     "iopub.status.idle": "2022-10-31T00:38:06.282665Z",
     "shell.execute_reply": "2022-10-31T00:38:06.283224Z"
    }
   },
   "outputs": [],
   "source": [
    "import set_working_directory"
   ]
  },
  {
   "cell_type": "code",
   "execution_count": 2,
   "id": "8afbd82b",
   "metadata": {
    "execution": {
     "iopub.execute_input": "2022-10-31T00:38:06.287288Z",
     "iopub.status.busy": "2022-10-31T00:38:06.286647Z",
     "iopub.status.idle": "2022-10-31T00:38:07.588391Z",
     "shell.execute_reply": "2022-10-31T00:38:07.588760Z"
    }
   },
   "outputs": [
    {
     "name": "stdout",
     "output_type": "stream",
     "text": [
      "                              /-Human\n",
      "                    /edge.0--|\n",
      "          /edge.1--|          \\-HowlerMon\n",
      "         |         |\n",
      "         |          \\-Mouse\n",
      "-root----|\n",
      "         |--NineBande\n",
      "         |\n",
      "          \\-DogFaced\n"
     ]
    }
   ],
   "source": [
    "from cogent3 import load_tree\n",
    "\n",
    "tr = load_tree(\"data/test.tree\")\n",
    "print(tr.ascii_art())"
   ]
  },
  {
   "cell_type": "code",
   "execution_count": 3,
   "id": "873791a0",
   "metadata": {
    "execution": {
     "iopub.execute_input": "2022-10-31T00:38:07.592691Z",
     "iopub.status.busy": "2022-10-31T00:38:07.592018Z",
     "iopub.status.idle": "2022-10-31T00:38:07.594699Z",
     "shell.execute_reply": "2022-10-31T00:38:07.595064Z"
    }
   },
   "outputs": [],
   "source": [
    "from cogent3 import load_tree\n",
    "\n",
    "tr = load_tree(\"data/test.tree\")\n",
    "tr.write(\"data/temp.tree\")"
   ]
  },
  {
   "cell_type": "code",
   "execution_count": 4,
   "id": "9334b8cf",
   "metadata": {
    "execution": {
     "iopub.execute_input": "2022-10-31T00:38:07.598105Z",
     "iopub.status.busy": "2022-10-31T00:38:07.597572Z",
     "iopub.status.idle": "2022-10-31T00:38:07.605304Z",
     "shell.execute_reply": "2022-10-31T00:38:07.605655Z"
    }
   },
   "outputs": [
    {
     "data": {
      "text/plain": [
       "['root', 'edge.1', 'edge.0', 'Human']"
      ]
     },
     "execution_count": 4,
     "metadata": {},
     "output_type": "execute_result"
    }
   ],
   "source": [
    "from cogent3 import load_tree\n",
    "\n",
    "tr = load_tree(\"data/test.tree\")\n",
    "names = tr.get_node_names()\n",
    "names[:4]"
   ]
  },
  {
   "cell_type": "code",
   "execution_count": 5,
   "id": "1efd2859",
   "metadata": {
    "execution": {
     "iopub.execute_input": "2022-10-31T00:38:07.608966Z",
     "iopub.status.busy": "2022-10-31T00:38:07.608403Z",
     "iopub.status.idle": "2022-10-31T00:38:07.610515Z",
     "shell.execute_reply": "2022-10-31T00:38:07.610886Z"
    }
   },
   "outputs": [
    {
     "data": {
      "text/plain": [
       "Tree(\"Human;\")"
      ]
     },
     "execution_count": 5,
     "metadata": {},
     "output_type": "execute_result"
    }
   ],
   "source": [
    "names[4:]\n",
    "names_nodes = tr.get_nodes_dict()\n",
    "names_nodes[\"Human\"]"
   ]
  },
  {
   "cell_type": "code",
   "execution_count": 6,
   "id": "43360dd1",
   "metadata": {
    "execution": {
     "iopub.execute_input": "2022-10-31T00:38:07.613817Z",
     "iopub.status.busy": "2022-10-31T00:38:07.613258Z",
     "iopub.status.idle": "2022-10-31T00:38:07.615691Z",
     "shell.execute_reply": "2022-10-31T00:38:07.616004Z"
    }
   },
   "outputs": [
    {
     "data": {
      "text/plain": [
       "Tree(\"Mouse;\")"
      ]
     },
     "execution_count": 6,
     "metadata": {},
     "output_type": "execute_result"
    }
   ],
   "source": [
    "tr.get_node_matching_name(\"Mouse\")"
   ]
  },
  {
   "cell_type": "code",
   "execution_count": 7,
   "id": "c38a557f",
   "metadata": {
    "execution": {
     "iopub.execute_input": "2022-10-31T00:38:07.619147Z",
     "iopub.status.busy": "2022-10-31T00:38:07.618574Z",
     "iopub.status.idle": "2022-10-31T00:38:07.621948Z",
     "shell.execute_reply": "2022-10-31T00:38:07.622270Z"
    }
   },
   "outputs": [
    {
     "data": {
      "text/plain": [
       "'root'"
      ]
     },
     "execution_count": 7,
     "metadata": {},
     "output_type": "execute_result"
    }
   ],
   "source": [
    "from cogent3 import load_tree\n",
    "\n",
    "tr = load_tree(\"data/test.tree\")\n",
    "hu = tr.get_node_matching_name(\"Human\")\n",
    "tr.name"
   ]
  },
  {
   "cell_type": "code",
   "execution_count": 8,
   "id": "9508b7af",
   "metadata": {
    "execution": {
     "iopub.execute_input": "2022-10-31T00:38:07.624926Z",
     "iopub.status.busy": "2022-10-31T00:38:07.624432Z",
     "iopub.status.idle": "2022-10-31T00:38:07.626461Z",
     "shell.execute_reply": "2022-10-31T00:38:07.626831Z"
    }
   },
   "outputs": [
    {
     "data": {
      "text/plain": [
       "'Human'"
      ]
     },
     "execution_count": 8,
     "metadata": {},
     "output_type": "execute_result"
    }
   ],
   "source": [
    "hu.name"
   ]
  },
  {
   "cell_type": "code",
   "execution_count": 9,
   "id": "597c19fd",
   "metadata": {
    "execution": {
     "iopub.execute_input": "2022-10-31T00:38:07.629533Z",
     "iopub.status.busy": "2022-10-31T00:38:07.629052Z",
     "iopub.status.idle": "2022-10-31T00:38:07.631865Z",
     "shell.execute_reply": "2022-10-31T00:38:07.632236Z"
    }
   },
   "outputs": [
    {
     "data": {
      "text/plain": [
       "cogent3.core.tree.PhyloNode"
      ]
     },
     "execution_count": 9,
     "metadata": {},
     "output_type": "execute_result"
    }
   ],
   "source": [
    "from cogent3 import load_tree\n",
    "\n",
    "tr = load_tree(\"data/test.tree\")\n",
    "nodes = tr.get_nodes_dict()\n",
    "hu = nodes[\"Human\"]\n",
    "type(hu)"
   ]
  },
  {
   "cell_type": "code",
   "execution_count": 10,
   "id": "af383e61",
   "metadata": {
    "execution": {
     "iopub.execute_input": "2022-10-31T00:38:07.635001Z",
     "iopub.status.busy": "2022-10-31T00:38:07.634438Z",
     "iopub.status.idle": "2022-10-31T00:38:07.636657Z",
     "shell.execute_reply": "2022-10-31T00:38:07.637090Z"
    }
   },
   "outputs": [
    {
     "data": {
      "text/plain": [
       "cogent3.core.tree.PhyloNode"
      ]
     },
     "execution_count": 10,
     "metadata": {},
     "output_type": "execute_result"
    }
   ],
   "source": [
    "type(tr)"
   ]
  },
  {
   "cell_type": "code",
   "execution_count": 11,
   "id": "73865fe7",
   "metadata": {
    "execution": {
     "iopub.execute_input": "2022-10-31T00:38:07.639950Z",
     "iopub.status.busy": "2022-10-31T00:38:07.639478Z",
     "iopub.status.idle": "2022-10-31T00:38:07.641859Z",
     "shell.execute_reply": "2022-10-31T00:38:07.642203Z"
    }
   },
   "outputs": [
    {
     "name": "stdout",
     "output_type": "stream",
     "text": [
      "('root', Tree(\"(((Human,HowlerMon),Mouse),NineBande,DogFaced);\"))\n",
      "('edge.1', Tree(\"((Human,HowlerMon),Mouse);\"))\n",
      "('edge.0', Tree(\"(Human,HowlerMon);\"))\n",
      "('Human', Tree(\"Human;\"))\n",
      "('HowlerMon', Tree(\"HowlerMon;\"))\n",
      "('Mouse', Tree(\"Mouse;\"))\n",
      "('NineBande', Tree(\"NineBande;\"))\n",
      "('DogFaced', Tree(\"DogFaced;\"))\n"
     ]
    }
   ],
   "source": [
    "from cogent3 import load_tree\n",
    "\n",
    "tr = load_tree(\"data/test.tree\")\n",
    "nodes = tr.get_nodes_dict()\n",
    "for n in nodes.items():\n",
    "    print(n)"
   ]
  },
  {
   "cell_type": "code",
   "execution_count": 12,
   "id": "f575647a",
   "metadata": {
    "execution": {
     "iopub.execute_input": "2022-10-31T00:38:07.644943Z",
     "iopub.status.busy": "2022-10-31T00:38:07.644463Z",
     "iopub.status.idle": "2022-10-31T00:38:07.646680Z",
     "shell.execute_reply": "2022-10-31T00:38:07.647182Z"
    }
   },
   "outputs": [
    {
     "name": "stdout",
     "output_type": "stream",
     "text": [
      "Human:0.0311054096183;\n",
      "HowlerMon:0.0415847131449;\n",
      "Mouse:0.277353608988;\n",
      "NineBande:0.0939768158209;\n",
      "DogFaced:0.113211053859;\n"
     ]
    }
   ],
   "source": [
    "for n in tr.iter_tips():\n",
    "    print(n)"
   ]
  },
  {
   "cell_type": "code",
   "execution_count": 13,
   "id": "26b04b7d",
   "metadata": {
    "execution": {
     "iopub.execute_input": "2022-10-31T00:38:07.649987Z",
     "iopub.status.busy": "2022-10-31T00:38:07.649493Z",
     "iopub.status.idle": "2022-10-31T00:38:07.651762Z",
     "shell.execute_reply": "2022-10-31T00:38:07.652076Z"
    }
   },
   "outputs": [
    {
     "name": "stdout",
     "output_type": "stream",
     "text": [
      "((Human,HowlerMon),Mouse);\n",
      "(Human,HowlerMon);\n"
     ]
    }
   ],
   "source": [
    "from cogent3 import load_tree\n",
    "\n",
    "tr = load_tree(\"data/test.tree\")\n",
    "for n in tr.iter_nontips():\n",
    "    print(n.get_newick())"
   ]
  },
  {
   "cell_type": "code",
   "execution_count": 14,
   "id": "f70341b0",
   "metadata": {
    "execution": {
     "iopub.execute_input": "2022-10-31T00:38:07.654983Z",
     "iopub.status.busy": "2022-10-31T00:38:07.654435Z",
     "iopub.status.idle": "2022-10-31T00:38:07.657027Z",
     "shell.execute_reply": "2022-10-31T00:38:07.657359Z"
    }
   },
   "outputs": [
    {
     "name": "stdout",
     "output_type": "stream",
     "text": [
      "edge.1\n",
      "edge.0\n",
      "Human\n"
     ]
    }
   ],
   "source": [
    "from cogent3 import load_tree\n",
    "\n",
    "tr = load_tree(\"data/test.tree\")\n",
    "edges = tr.get_connecting_edges(\"edge.1\", \"Human\")\n",
    "for edge in edges:\n",
    "    print(edge.name)"
   ]
  },
  {
   "cell_type": "code",
   "execution_count": 15,
   "id": "223976f2",
   "metadata": {
    "execution": {
     "iopub.execute_input": "2022-10-31T00:38:07.660310Z",
     "iopub.status.busy": "2022-10-31T00:38:07.659836Z",
     "iopub.status.idle": "2022-10-31T00:38:07.662616Z",
     "shell.execute_reply": "2022-10-31T00:38:07.662997Z"
    }
   },
   "outputs": [
    {
     "data": {
      "text/plain": [
       "True"
      ]
     },
     "execution_count": 15,
     "metadata": {},
     "output_type": "execute_result"
    }
   ],
   "source": [
    "from cogent3 import load_tree\n",
    "\n",
    "tr = load_tree(\"data/test.tree\")\n",
    "nodes = tr.get_nodes_dict()\n",
    "hu = nodes[\"Human\"]\n",
    "mu = nodes[\"Mouse\"]\n",
    "hu.distance(mu)\n",
    "hu.is_tip()"
   ]
  },
  {
   "cell_type": "code",
   "execution_count": 16,
   "id": "e99e7ccd",
   "metadata": {
    "execution": {
     "iopub.execute_input": "2022-10-31T00:38:07.665768Z",
     "iopub.status.busy": "2022-10-31T00:38:07.665291Z",
     "iopub.status.idle": "2022-10-31T00:38:07.668301Z",
     "shell.execute_reply": "2022-10-31T00:38:07.668675Z"
    }
   },
   "outputs": [
    {
     "data": {
      "text/plain": [
       "Tree(\"((Human,HowlerMon),Mouse);\")"
      ]
     },
     "execution_count": 16,
     "metadata": {},
     "output_type": "execute_result"
    }
   ],
   "source": [
    "from cogent3 import load_tree\n",
    "\n",
    "tr = load_tree(\"data/test.tree\")\n",
    "nodes = tr.get_nodes_dict()\n",
    "hu = nodes[\"Human\"]\n",
    "mu = nodes[\"Mouse\"]\n",
    "lca = hu.last_common_ancestor(mu)\n",
    "lca"
   ]
  },
  {
   "cell_type": "code",
   "execution_count": 17,
   "id": "a986a80b",
   "metadata": {
    "execution": {
     "iopub.execute_input": "2022-10-31T00:38:07.671346Z",
     "iopub.status.busy": "2022-10-31T00:38:07.670899Z",
     "iopub.status.idle": "2022-10-31T00:38:07.673028Z",
     "shell.execute_reply": "2022-10-31T00:38:07.673397Z"
    }
   },
   "outputs": [
    {
     "data": {
      "text/plain": [
       "cogent3.core.tree.PhyloNode"
      ]
     },
     "execution_count": 17,
     "metadata": {},
     "output_type": "execute_result"
    }
   ],
   "source": [
    "type(lca)"
   ]
  },
  {
   "cell_type": "code",
   "execution_count": 18,
   "id": "2ed99dfd",
   "metadata": {
    "execution": {
     "iopub.execute_input": "2022-10-31T00:38:07.676534Z",
     "iopub.status.busy": "2022-10-31T00:38:07.675861Z",
     "iopub.status.idle": "2022-10-31T00:38:07.678531Z",
     "shell.execute_reply": "2022-10-31T00:38:07.678842Z"
    }
   },
   "outputs": [
    {
     "name": "stdout",
     "output_type": "stream",
     "text": [
      "edge.0\n",
      "edge.1\n",
      "root\n"
     ]
    }
   ],
   "source": [
    "from cogent3 import load_tree\n",
    "\n",
    "tr = load_tree(\"data/test.tree\")\n",
    "hu = tr.get_node_matching_name(\"Human\")\n",
    "for a in hu.ancestors():\n",
    "    print(a.name)"
   ]
  },
  {
   "cell_type": "code",
   "execution_count": 19,
   "id": "88dd42e9",
   "metadata": {
    "execution": {
     "iopub.execute_input": "2022-10-31T00:38:07.682185Z",
     "iopub.status.busy": "2022-10-31T00:38:07.681482Z",
     "iopub.status.idle": "2022-10-31T00:38:07.684283Z",
     "shell.execute_reply": "2022-10-31T00:38:07.684755Z"
    }
   },
   "outputs": [
    {
     "name": "stdout",
     "output_type": "stream",
     "text": [
      "Human\n",
      "HowlerMon\n",
      "Mouse\n",
      "edge.0\n"
     ]
    }
   ],
   "source": [
    "from cogent3 import load_tree\n",
    "\n",
    "tr = load_tree(\"data/test.tree\")\n",
    "node = tr.get_node_matching_name(\"edge.1\")\n",
    "children = list(node.iter_tips()) + list(node.iter_nontips())\n",
    "for child in children:\n",
    "    print(child.name)"
   ]
  },
  {
   "cell_type": "code",
   "execution_count": 20,
   "id": "b7368594",
   "metadata": {
    "execution": {
     "iopub.execute_input": "2022-10-31T00:38:07.687632Z",
     "iopub.status.busy": "2022-10-31T00:38:07.687146Z",
     "iopub.status.idle": "2022-10-31T00:38:07.689138Z",
     "shell.execute_reply": "2022-10-31T00:38:07.689658Z"
    }
   },
   "outputs": [],
   "source": [
    "from cogent3 import load_tree\n",
    "\n",
    "tr = load_tree(\"data/test.tree\")\n",
    "dists = tr.get_distances()"
   ]
  },
  {
   "cell_type": "code",
   "execution_count": 21,
   "id": "d7de3a4c",
   "metadata": {
    "execution": {
     "iopub.execute_input": "2022-10-31T00:38:07.692844Z",
     "iopub.status.busy": "2022-10-31T00:38:07.692387Z",
     "iopub.status.idle": "2022-10-31T00:38:07.694394Z",
     "shell.execute_reply": "2022-10-31T00:38:07.694799Z"
    }
   },
   "outputs": [
    {
     "name": "stdout",
     "output_type": "stream",
     "text": [
      "('Human', 'HowlerMon') 0.0726901227632\n",
      "('HowlerMon', 'Human') 0.0726901227632\n",
      "('Human', 'Mouse') 0.3467553610937\n",
      "('Mouse', 'Human') 0.3467553610937\n",
      "('Human', 'NineBande') 0.18310641816450002\n",
      "('NineBande', 'Human') 0.18310641816450002\n",
      "('Human', 'DogFaced') 0.2023406562026\n",
      "('DogFaced', 'Human') 0.2023406562026\n"
     ]
    }
   ],
   "source": [
    "human_dists = [names for names in dists if \"Human\" in names]\n",
    "for dist in human_dists:\n",
    "    print(dist, dists[dist])"
   ]
  },
  {
   "cell_type": "code",
   "execution_count": 22,
   "id": "6d15d955",
   "metadata": {
    "execution": {
     "iopub.execute_input": "2022-10-31T00:38:07.697548Z",
     "iopub.status.busy": "2022-10-31T00:38:07.697088Z",
     "iopub.status.idle": "2022-10-31T00:38:07.700131Z",
     "shell.execute_reply": "2022-10-31T00:38:07.700522Z"
    }
   },
   "outputs": [
    {
     "data": {
      "text/plain": [
       "(0.4102925130849, ('Mouse', 'DogFaced'))"
      ]
     },
     "execution_count": 22,
     "metadata": {},
     "output_type": "execute_result"
    }
   ],
   "source": [
    "from cogent3 import load_tree\n",
    "\n",
    "tr = load_tree(\"data/test.tree\")\n",
    "tr.max_tip_tip_distance()"
   ]
  },
  {
   "cell_type": "code",
   "execution_count": 23,
   "id": "4c052e45",
   "metadata": {
    "execution": {
     "iopub.execute_input": "2022-10-31T00:38:07.703399Z",
     "iopub.status.busy": "2022-10-31T00:38:07.702941Z",
     "iopub.status.idle": "2022-10-31T00:38:07.705309Z",
     "shell.execute_reply": "2022-10-31T00:38:07.705621Z"
    }
   },
   "outputs": [
    {
     "name": "stdout",
     "output_type": "stream",
     "text": [
      "HowlerMon:0.0415847131449;\n",
      "NineBande:0.0939768158209;\n"
     ]
    }
   ],
   "source": [
    "from cogent3 import load_tree\n",
    "\n",
    "tr = load_tree(\"data/test.tree\")\n",
    "hu = tr.get_node_matching_name(\"Human\")\n",
    "tips = hu.tips_within_distance(0.2)\n",
    "for t in tips:\n",
    "    print(t)"
   ]
  },
  {
   "cell_type": "code",
   "execution_count": 24,
   "id": "e2fc0895",
   "metadata": {
    "execution": {
     "iopub.execute_input": "2022-10-31T00:38:07.708739Z",
     "iopub.status.busy": "2022-10-31T00:38:07.708135Z",
     "iopub.status.idle": "2022-10-31T00:38:07.710497Z",
     "shell.execute_reply": "2022-10-31T00:38:07.711010Z"
    }
   },
   "outputs": [
    {
     "name": "stdout",
     "output_type": "stream",
     "text": [
      "          /-Human\n",
      "         |\n",
      "-root----|--HowlerMon\n",
      "         |\n",
      "         |          /-Mouse\n",
      "          \\edge.0--|\n",
      "                   |          /-NineBande\n",
      "                    \\edge.1--|\n",
      "                              \\-DogFaced\n"
     ]
    }
   ],
   "source": [
    "from cogent3 import load_tree\n",
    "\n",
    "tr = load_tree(\"data/test.tree\")\n",
    "print(tr.rooted_at(\"edge.0\").ascii_art())"
   ]
  },
  {
   "cell_type": "code",
   "execution_count": 25,
   "id": "b8b11a27",
   "metadata": {
    "execution": {
     "iopub.execute_input": "2022-10-31T00:38:07.713928Z",
     "iopub.status.busy": "2022-10-31T00:38:07.713351Z",
     "iopub.status.idle": "2022-10-31T00:38:07.716138Z",
     "shell.execute_reply": "2022-10-31T00:38:07.716445Z"
    }
   },
   "outputs": [
    {
     "name": "stdout",
     "output_type": "stream",
     "text": [
      "          /-Mouse\n",
      "         |\n",
      "-root----|                    /-Human\n",
      "         |          /edge.0--|\n",
      "         |         |          \\-HowlerMon\n",
      "          \\edge.0.2|\n",
      "                   |          /-NineBande\n",
      "                    \\edge.1--|\n",
      "                              \\-DogFaced\n"
     ]
    }
   ],
   "source": [
    "from cogent3 import load_tree\n",
    "\n",
    "tr = load_tree(\"data/test.tree\")\n",
    "print(tr.root_at_midpoint().ascii_art())"
   ]
  },
  {
   "cell_type": "code",
   "execution_count": 26,
   "id": "98c20e40",
   "metadata": {
    "execution": {
     "iopub.execute_input": "2022-10-31T00:38:07.719480Z",
     "iopub.status.busy": "2022-10-31T00:38:07.718971Z",
     "iopub.status.idle": "2022-10-31T00:38:07.721273Z",
     "shell.execute_reply": "2022-10-31T00:38:07.721591Z"
    }
   },
   "outputs": [
    {
     "name": "stdout",
     "output_type": "stream",
     "text": [
      "                              /-Human\n",
      "                    /edge.0--|\n",
      "          /edge.1--|          \\-HowlerMon\n",
      "         |         |\n",
      "         |          \\-------- /-Mouse\n",
      "-root----|\n",
      "         |--NineBande\n",
      "         |\n",
      "          \\-DogFaced\n"
     ]
    }
   ],
   "source": [
    "print(tr.ascii_art())"
   ]
  },
  {
   "cell_type": "code",
   "execution_count": 27,
   "id": "95f6f627",
   "metadata": {
    "execution": {
     "iopub.execute_input": "2022-10-31T00:38:07.724658Z",
     "iopub.status.busy": "2022-10-31T00:38:07.723984Z",
     "iopub.status.idle": "2022-10-31T00:38:07.726584Z",
     "shell.execute_reply": "2022-10-31T00:38:07.726946Z"
    }
   },
   "outputs": [
    {
     "name": "stdout",
     "output_type": "stream",
     "text": [
      "                              /-Human\n",
      "                    /edge.0--|\n",
      "          /edge.1--|          \\-HowlerMon\n",
      "         |         |\n",
      "         |          \\-Mouse\n",
      "-root----|\n",
      "         |--NineBande\n",
      "         |\n",
      "          \\-DogFaced\n"
     ]
    }
   ],
   "source": [
    "from cogent3 import load_tree\n",
    "\n",
    "tr = load_tree(\"data/test.tree\")\n",
    "print(tr.ascii_art())"
   ]
  },
  {
   "cell_type": "code",
   "execution_count": 28,
   "id": "953ed190",
   "metadata": {
    "execution": {
     "iopub.execute_input": "2022-10-31T00:38:07.729558Z",
     "iopub.status.busy": "2022-10-31T00:38:07.729094Z",
     "iopub.status.idle": "2022-10-31T00:38:07.730728Z",
     "shell.execute_reply": "2022-10-31T00:38:07.731049Z"
    }
   },
   "outputs": [
    {
     "name": "stdout",
     "output_type": "stream",
     "text": [
      "                    /-Human\n",
      "          /edge.0--|\n",
      "         |          \\-HowlerMon\n",
      "         |\n",
      "-root----|--Mouse\n",
      "         |\n",
      "         |          /-NineBande\n",
      "          \\edge.1--|\n",
      "                    \\-DogFaced\n"
     ]
    }
   ],
   "source": [
    "print(tr.rooted_with_tip(\"Mouse\").ascii_art())"
   ]
  },
  {
   "cell_type": "code",
   "execution_count": 29,
   "id": "b3891157",
   "metadata": {
    "execution": {
     "iopub.execute_input": "2022-10-31T00:38:07.733674Z",
     "iopub.status.busy": "2022-10-31T00:38:07.733191Z",
     "iopub.status.idle": "2022-10-31T00:38:07.735815Z",
     "shell.execute_reply": "2022-10-31T00:38:07.736197Z"
    }
   },
   "outputs": [
    {
     "data": {
      "text/plain": [
       "'(((Human,HowlerMon),Mouse),NineBande,DogFaced);'"
      ]
     },
     "execution_count": 29,
     "metadata": {},
     "output_type": "execute_result"
    }
   ],
   "source": [
    "from cogent3 import load_tree\n",
    "\n",
    "tr = load_tree(\"data/test.tree\")\n",
    "tr.get_newick()"
   ]
  },
  {
   "cell_type": "code",
   "execution_count": 30,
   "id": "1f441605",
   "metadata": {
    "execution": {
     "iopub.execute_input": "2022-10-31T00:38:07.739123Z",
     "iopub.status.busy": "2022-10-31T00:38:07.738616Z",
     "iopub.status.idle": "2022-10-31T00:38:07.740555Z",
     "shell.execute_reply": "2022-10-31T00:38:07.740934Z"
    }
   },
   "outputs": [
    {
     "data": {
      "text/plain": [
       "'(((Human:0.0311054096183,HowlerMon:0.0415847131449):0.0382963424874,Mouse:0.277353608988):0.0197278502379,NineBande:0.0939768158209,DogFaced:0.113211053859);'"
      ]
     },
     "execution_count": 30,
     "metadata": {},
     "output_type": "execute_result"
    }
   ],
   "source": [
    "tr.get_newick(with_distances=True)"
   ]
  },
  {
   "cell_type": "code",
   "execution_count": 31,
   "id": "f63c069b",
   "metadata": {
    "execution": {
     "iopub.execute_input": "2022-10-31T00:38:07.743631Z",
     "iopub.status.busy": "2022-10-31T00:38:07.743122Z",
     "iopub.status.idle": "2022-10-31T00:38:07.745722Z",
     "shell.execute_reply": "2022-10-31T00:38:07.746095Z"
    }
   },
   "outputs": [
    {
     "name": "stdout",
     "output_type": "stream",
     "text": [
      "<?xml version=\"1.0\"?>\n",
      "<clade>\n",
      "  <clade>\n",
      "     <param><name>length</name><value>0.0197278502379</value></param>\n",
      "    <clade>\n",
      "       <param><name>length</name><value>0.0382963424874</value></param>\n",
      "      <clade>\n",
      "         <name>Human</name>\n",
      "         <param><name>length</name><value>0.0311054096183</value></param>\n",
      "      </clade>\n",
      "      <clade>\n",
      "         <name>HowlerMon</name>\n",
      "         <param><name>length</name><value>0.0415847131449</value></param>\n",
      "      </clade>\n",
      "    </clade>\n",
      "    <clade>\n",
      "       <name>Mouse</name>\n",
      "       <param><name>length</name><value>0.277353608988</value></param>\n",
      "    </clade>\n",
      "  </clade>\n",
      "  <clade>\n",
      "     <name>NineBande</name>\n",
      "     <param><name>length</name><value>0.0939768158209</value></param>\n",
      "  </clade>\n",
      "  <clade>\n",
      "     <name>DogFaced</name>\n",
      "     <param><name>length</name><value>0.113211053859</value></param>\n",
      "  </clade>\n",
      "</clade>\n"
     ]
    }
   ],
   "source": [
    "from cogent3 import load_tree\n",
    "\n",
    "tr = load_tree(\"data/test.tree\")\n",
    "xml = tr.get_xml()\n",
    "for line in xml.splitlines():\n",
    "    print(line)"
   ]
  },
  {
   "cell_type": "code",
   "execution_count": 32,
   "id": "32dc9e17",
   "metadata": {
    "execution": {
     "iopub.execute_input": "2022-10-31T00:38:07.748845Z",
     "iopub.status.busy": "2022-10-31T00:38:07.748370Z",
     "iopub.status.idle": "2022-10-31T00:38:07.751486Z",
     "shell.execute_reply": "2022-10-31T00:38:07.750949Z"
    }
   },
   "outputs": [
    {
     "name": "stdout",
     "output_type": "stream",
     "text": [
      "                              /-Human\n",
      "                    /edge.0--|\n",
      "          /edge.1--|          \\-HowlerMon\n",
      "         |         |\n",
      "         |          \\-Mouse\n",
      "-root----|\n",
      "         |--NineBande\n",
      "         |\n",
      "          \\-DogFaced\n"
     ]
    }
   ],
   "source": [
    "from cogent3 import load_tree\n",
    "\n",
    "tr = load_tree(\"data/test.tree\")\n",
    "print(tr.ascii_art())"
   ]
  },
  {
   "cell_type": "code",
   "execution_count": 33,
   "id": "424bf090",
   "metadata": {
    "execution": {
     "iopub.execute_input": "2022-10-31T00:38:07.754535Z",
     "iopub.status.busy": "2022-10-31T00:38:07.753940Z",
     "iopub.status.idle": "2022-10-31T00:38:07.756787Z",
     "shell.execute_reply": "2022-10-31T00:38:07.757174Z"
    }
   },
   "outputs": [
    {
     "name": "stdout",
     "output_type": "stream",
     "text": [
      "(((Human,HowlerMon),Mouse),NineBande,DogFaced);\n",
      "((Human,HowlerMon),Mouse);\n",
      "(Human,HowlerMon);\n",
      "Human;\n",
      "HowlerMon;\n",
      "Mouse;\n",
      "NineBande;\n",
      "DogFaced;\n"
     ]
    }
   ],
   "source": [
    "from cogent3 import load_tree\n",
    "\n",
    "tr = load_tree(\"data/test.tree\")\n",
    "for t in tr.preorder():\n",
    "    print(t.get_newick())"
   ]
  },
  {
   "cell_type": "code",
   "execution_count": 34,
   "id": "a0a76203",
   "metadata": {
    "execution": {
     "iopub.execute_input": "2022-10-31T00:38:07.760144Z",
     "iopub.status.busy": "2022-10-31T00:38:07.759635Z",
     "iopub.status.idle": "2022-10-31T00:38:07.762626Z",
     "shell.execute_reply": "2022-10-31T00:38:07.762199Z"
    }
   },
   "outputs": [
    {
     "name": "stdout",
     "output_type": "stream",
     "text": [
      "Human;\n",
      "HowlerMon;\n",
      "(Human,HowlerMon);\n",
      "Mouse;\n",
      "((Human,HowlerMon),Mouse);\n",
      "NineBande;\n",
      "DogFaced;\n",
      "(((Human,HowlerMon),Mouse),NineBande,DogFaced);\n"
     ]
    }
   ],
   "source": [
    "from cogent3 import load_tree\n",
    "\n",
    "tr = load_tree(\"data/test.tree\")\n",
    "for t in tr.postorder():\n",
    "    print(t.get_newick())"
   ]
  },
  {
   "cell_type": "code",
   "execution_count": 35,
   "id": "46e0407e",
   "metadata": {
    "execution": {
     "iopub.execute_input": "2022-10-31T00:38:07.765834Z",
     "iopub.status.busy": "2022-10-31T00:38:07.765350Z",
     "iopub.status.idle": "2022-10-31T00:38:07.767801Z",
     "shell.execute_reply": "2022-10-31T00:38:07.768272Z"
    }
   },
   "outputs": [
    {
     "name": "stdout",
     "output_type": "stream",
     "text": [
      "['Human', 'HowlerMon', 'Mouse']\n",
      "          /-Human\n",
      "         |\n",
      "-root----|--HowlerMon\n",
      "         |\n",
      "          \\-Mouse\n",
      "['Human', 'HowlerMon']\n",
      "          /-Human\n",
      "-root----|\n",
      "          \\-HowlerMon\n"
     ]
    }
   ],
   "source": [
    "from cogent3 import load_tree\n",
    "\n",
    "tr = load_tree(\"data/test.tree\")\n",
    "for tip in tr.iter_nontips():\n",
    "    tip_names = tip.get_tip_names()\n",
    "    print(tip_names)\n",
    "    sub_tree = tr.get_sub_tree(tip_names)\n",
    "    print(sub_tree.ascii_art())"
   ]
  },
  {
   "cell_type": "code",
   "execution_count": 36,
   "id": "f8f10912",
   "metadata": {
    "execution": {
     "iopub.execute_input": "2022-10-31T00:38:07.770802Z",
     "iopub.status.busy": "2022-10-31T00:38:07.770323Z",
     "iopub.status.idle": "2022-10-31T00:38:07.772083Z",
     "shell.execute_reply": "2022-10-31T00:38:07.772410Z"
    }
   },
   "outputs": [],
   "source": [
    "from cogent3.util.io import remove_files\n",
    "\n",
    "remove_files([\"data/temp.tree\", \"data/temp.pdf\"], error_on_missing=False)"
   ]
  },
  {
   "cell_type": "code",
   "execution_count": 37,
   "id": "4ed53abf",
   "metadata": {
    "execution": {
     "iopub.execute_input": "2022-10-31T00:38:07.775110Z",
     "iopub.status.busy": "2022-10-31T00:38:07.774644Z",
     "iopub.status.idle": "2022-10-31T00:38:07.776294Z",
     "shell.execute_reply": "2022-10-31T00:38:07.776783Z"
    }
   },
   "outputs": [
    {
     "name": "stdout",
     "output_type": "stream",
     "text": [
      "          /-B\n",
      "-F-------|\n",
      "          \\E------- /-D\n"
     ]
    }
   ],
   "source": [
    "from cogent3 import make_tree\n",
    "\n",
    "simple_tree_string = \"(B:0.2,(D:0.4)E:0.5)F;\"\n",
    "simple_tree = make_tree(simple_tree_string)\n",
    "print(simple_tree.ascii_art())"
   ]
  },
  {
   "cell_type": "code",
   "execution_count": 38,
   "id": "d227051f",
   "metadata": {
    "execution": {
     "iopub.execute_input": "2022-10-31T00:38:07.779261Z",
     "iopub.status.busy": "2022-10-31T00:38:07.778787Z",
     "iopub.status.idle": "2022-10-31T00:38:07.780548Z",
     "shell.execute_reply": "2022-10-31T00:38:07.780930Z"
    }
   },
   "outputs": [
    {
     "name": "stdout",
     "output_type": "stream",
     "text": [
      "          /-B\n",
      "-F-------|\n",
      "          \\-D\n"
     ]
    }
   ],
   "source": [
    "simple_tree.prune()\n",
    "print(simple_tree.ascii_art())"
   ]
  },
  {
   "cell_type": "code",
   "execution_count": 39,
   "id": "5dff66ed",
   "metadata": {
    "execution": {
     "iopub.execute_input": "2022-10-31T00:38:07.783316Z",
     "iopub.status.busy": "2022-10-31T00:38:07.782846Z",
     "iopub.status.idle": "2022-10-31T00:38:07.784734Z",
     "shell.execute_reply": "2022-10-31T00:38:07.785058Z"
    }
   },
   "outputs": [
    {
     "name": "stdout",
     "output_type": "stream",
     "text": [
      "(B:0.2,D:0.9)F;\n"
     ]
    }
   ],
   "source": [
    "print(simple_tree)"
   ]
  },
  {
   "cell_type": "code",
   "execution_count": 40,
   "id": "390f2a5c",
   "metadata": {
    "execution": {
     "iopub.execute_input": "2022-10-31T00:38:07.787760Z",
     "iopub.status.busy": "2022-10-31T00:38:07.787228Z",
     "iopub.status.idle": "2022-10-31T00:38:07.789460Z",
     "shell.execute_reply": "2022-10-31T00:38:07.789778Z"
    }
   },
   "outputs": [
    {
     "name": "stdout",
     "output_type": "stream",
     "text": [
      "(((Human,HowlerMon),Mouse),NineBande,DogFaced);\n"
     ]
    }
   ],
   "source": [
    "from cogent3 import load_tree\n",
    "\n",
    "tr1 = load_tree(\"data/test.tree\")\n",
    "print(tr1.get_newick())"
   ]
  },
  {
   "cell_type": "code",
   "execution_count": 41,
   "id": "29e8bb58",
   "metadata": {
    "execution": {
     "iopub.execute_input": "2022-10-31T00:38:07.792335Z",
     "iopub.status.busy": "2022-10-31T00:38:07.791832Z",
     "iopub.status.idle": "2022-10-31T00:38:07.793437Z",
     "shell.execute_reply": "2022-10-31T00:38:07.793940Z"
    }
   },
   "outputs": [
    {
     "name": "stdout",
     "output_type": "stream",
     "text": [
      "(((Human,HowlerMon),Mouse),NineBande,DogFaced);\n"
     ]
    }
   ],
   "source": [
    "tr2 = tr1.unrooted_deepcopy()\n",
    "print(tr2.get_newick())"
   ]
  },
  {
   "cell_type": "code",
   "execution_count": 42,
   "id": "8af424b2",
   "metadata": {
    "execution": {
     "iopub.execute_input": "2022-10-31T00:38:07.796700Z",
     "iopub.status.busy": "2022-10-31T00:38:07.796207Z",
     "iopub.status.idle": "2022-10-31T00:38:07.797776Z",
     "shell.execute_reply": "2022-10-31T00:38:07.798255Z"
    }
   },
   "outputs": [
    {
     "name": "stdout",
     "output_type": "stream",
     "text": [
      "          /-B\n",
      "         |\n",
      "         |--H\n",
      "-G-------|\n",
      "         |          /-C\n",
      "         |         |\n",
      "          \\F-------|--D\n",
      "                   |\n",
      "                    \\-E\n"
     ]
    }
   ],
   "source": [
    "from cogent3 import load_tree\n",
    "\n",
    "tree_string = \"(B:0.2,H:0.2,(C:0.3,D:0.4,E:0.1)F:0.5)G;\"\n",
    "tr = make_tree(tree_string)\n",
    "print(tr.ascii_art())"
   ]
  },
  {
   "cell_type": "code",
   "execution_count": 43,
   "id": "6ab62363",
   "metadata": {
    "execution": {
     "iopub.execute_input": "2022-10-31T00:38:07.800926Z",
     "iopub.status.busy": "2022-10-31T00:38:07.800447Z",
     "iopub.status.idle": "2022-10-31T00:38:07.802405Z",
     "shell.execute_reply": "2022-10-31T00:38:07.802729Z"
    }
   },
   "outputs": [
    {
     "name": "stdout",
     "output_type": "stream",
     "text": [
      "          /-B\n",
      "-G-------|\n",
      "         |          /-H\n",
      "          \\--------|\n",
      "                   |          /-C\n",
      "                    \\F-------|\n",
      "                             |          /-D\n",
      "                              \\--------|\n",
      "                                        \\-E\n"
     ]
    }
   ],
   "source": [
    "print(tr.bifurcating().ascii_art())"
   ]
  },
  {
   "cell_type": "code",
   "execution_count": 44,
   "id": "4d4bad27",
   "metadata": {
    "execution": {
     "iopub.execute_input": "2022-10-31T00:38:07.805217Z",
     "iopub.status.busy": "2022-10-31T00:38:07.804740Z",
     "iopub.status.idle": "2022-10-31T00:38:07.807115Z",
     "shell.execute_reply": "2022-10-31T00:38:07.807457Z"
    }
   },
   "outputs": [
    {
     "name": "stdout",
     "output_type": "stream",
     "text": [
      "                              /-Human\n",
      "                    /edge.0--|\n",
      "          /edge.1--|          \\-HowlerMon\n",
      "         |         |\n",
      "         |          \\-Mouse\n",
      "-root----|\n",
      "         |--NineBande\n",
      "         |\n",
      "          \\-DogFaced\n"
     ]
    }
   ],
   "source": [
    "from cogent3 import load_tree\n",
    "\n",
    "tr = load_tree(\"data/test.tree\")\n",
    "print(tr.ascii_art())"
   ]
  },
  {
   "cell_type": "code",
   "execution_count": 45,
   "id": "75c4bea1",
   "metadata": {
    "execution": {
     "iopub.execute_input": "2022-10-31T00:38:07.810021Z",
     "iopub.status.busy": "2022-10-31T00:38:07.809550Z",
     "iopub.status.idle": "2022-10-31T00:38:07.811187Z",
     "shell.execute_reply": "2022-10-31T00:38:07.811613Z"
    }
   },
   "outputs": [
    {
     "name": "stdout",
     "output_type": "stream",
     "text": [
      "                    /-Human\n",
      "          /edge.0--|\n",
      "         |          \\-HowlerMon\n",
      "         |\n",
      "-root----|--Mouse\n",
      "         |\n",
      "         |          /-NineBande\n",
      "          \\edge.1--|\n",
      "                    \\-DogFaced\n"
     ]
    }
   ],
   "source": [
    "print(tr.balanced().ascii_art())"
   ]
  },
  {
   "cell_type": "code",
   "execution_count": 46,
   "id": "8aaeeac7",
   "metadata": {
    "execution": {
     "iopub.execute_input": "2022-10-31T00:38:07.814952Z",
     "iopub.status.busy": "2022-10-31T00:38:07.814465Z",
     "iopub.status.idle": "2022-10-31T00:38:07.816503Z",
     "shell.execute_reply": "2022-10-31T00:38:07.816864Z"
    }
   },
   "outputs": [
    {
     "data": {
      "text/plain": [
       "True"
      ]
     },
     "execution_count": 46,
     "metadata": {},
     "output_type": "execute_result"
    }
   ],
   "source": [
    "from cogent3 import load_tree\n",
    "\n",
    "tr1 = make_tree(\"(B:0.2,(C:0.2,D:0.2)F:0.2)G;\")\n",
    "tr2 = make_tree(\"((C:0.1,D:0.1)F:0.1,B:0.1)G;\")\n",
    "tr1.same_topology(tr2)"
   ]
  },
  {
   "cell_type": "code",
   "execution_count": 47,
   "id": "5e7b8eef",
   "metadata": {
    "execution": {
     "iopub.execute_input": "2022-10-31T00:38:07.820311Z",
     "iopub.status.busy": "2022-10-31T00:38:07.819825Z",
     "iopub.status.idle": "2022-10-31T00:38:07.821704Z",
     "shell.execute_reply": "2022-10-31T00:38:07.822044Z"
    }
   },
   "outputs": [
    {
     "name": "stdout",
     "output_type": "stream",
     "text": [
      "          /-B\n",
      "-G-------|\n",
      "         |          /-C\n",
      "          \\F-------|\n",
      "                    \\-D\n"
     ]
    }
   ],
   "source": [
    "from cogent3 import load_tree\n",
    "\n",
    "tr = make_tree(\"(B:0.2,(C:0.3,D:0.4)F:0.5)G;\")\n",
    "print(tr.ascii_art())"
   ]
  },
  {
   "cell_type": "code",
   "execution_count": 48,
   "id": "f3fcb8dc",
   "metadata": {
    "execution": {
     "iopub.execute_input": "2022-10-31T00:38:07.824705Z",
     "iopub.status.busy": "2022-10-31T00:38:07.824233Z",
     "iopub.status.idle": "2022-10-31T00:38:07.825896Z",
     "shell.execute_reply": "2022-10-31T00:38:07.826529Z"
    }
   },
   "outputs": [
    {
     "name": "stdout",
     "output_type": "stream",
     "text": [
      "G 0.9\n",
      "B 0\n",
      "F 0.4\n",
      "C 0\n",
      "D 0\n"
     ]
    }
   ],
   "source": [
    "tr.set_tip_distances()\n",
    "for t in tr.preorder():\n",
    "    print(t.name, t.TipDistance)"
   ]
  },
  {
   "cell_type": "code",
   "execution_count": 49,
   "id": "98841118",
   "metadata": {
    "execution": {
     "iopub.execute_input": "2022-10-31T00:38:07.829896Z",
     "iopub.status.busy": "2022-10-31T00:38:07.829346Z",
     "iopub.status.idle": "2022-10-31T00:38:07.831342Z",
     "shell.execute_reply": "2022-10-31T00:38:07.831723Z"
    }
   },
   "outputs": [
    {
     "name": "stdout",
     "output_type": "stream",
     "text": [
      "(B:0.2,(C:0.3,D:0.4)F:0.5)G;\n"
     ]
    }
   ],
   "source": [
    "from cogent3 import load_tree\n",
    "\n",
    "tr = make_tree(\"(B:0.2,(C:0.3,D:0.4)F:0.5)G;\")\n",
    "print(tr)"
   ]
  },
  {
   "cell_type": "code",
   "execution_count": 50,
   "id": "a7778de7",
   "metadata": {
    "execution": {
     "iopub.execute_input": "2022-10-31T00:38:07.834538Z",
     "iopub.status.busy": "2022-10-31T00:38:07.833997Z",
     "iopub.status.idle": "2022-10-31T00:38:07.835985Z",
     "shell.execute_reply": "2022-10-31T00:38:07.836341Z"
    }
   },
   "outputs": [
    {
     "name": "stdout",
     "output_type": "stream",
     "text": [
      "(B:22,(C:33,D:44)F:56)G;\n"
     ]
    }
   ],
   "source": [
    "tr.scale_branch_lengths()\n",
    "print(tr)"
   ]
  },
  {
   "cell_type": "code",
   "execution_count": 51,
   "id": "f9aa4705",
   "metadata": {
    "execution": {
     "iopub.execute_input": "2022-10-31T00:38:07.839927Z",
     "iopub.status.busy": "2022-10-31T00:38:07.839455Z",
     "iopub.status.idle": "2022-10-31T00:38:07.841267Z",
     "shell.execute_reply": "2022-10-31T00:38:07.841653Z"
    }
   },
   "outputs": [
    {
     "name": "stdout",
     "output_type": "stream",
     "text": [
      "B [ 0. 10. 12.]\n",
      "C [10.  0.  6.]\n",
      "D [12.  6.  0.]\n"
     ]
    }
   ],
   "source": [
    "from cogent3 import load_tree\n",
    "\n",
    "tr = make_tree(\"(B:3,(C:2,D:4)F:5)G;\")\n",
    "d, tips = tr.tip_to_tip_distances()\n",
    "for i, t in enumerate(tips):\n",
    "    print(t.name, d[i])"
   ]
  },
  {
   "cell_type": "code",
   "execution_count": 52,
   "id": "705cf957",
   "metadata": {
    "execution": {
     "iopub.execute_input": "2022-10-31T00:38:07.845353Z",
     "iopub.status.busy": "2022-10-31T00:38:07.844850Z",
     "iopub.status.idle": "2022-10-31T00:38:07.847036Z",
     "shell.execute_reply": "2022-10-31T00:38:07.847361Z"
    }
   },
   "outputs": [
    {
     "data": {
      "text/plain": [
       "0.08352668213457076"
      ]
     },
     "execution_count": 52,
     "metadata": {},
     "output_type": "execute_result"
    }
   ],
   "source": [
    "from cogent3 import load_tree\n",
    "\n",
    "tr1 = make_tree(\"(B:2,(C:3,D:4)F:5)G;\")\n",
    "tr2 = make_tree(\"(C:2,(B:3,D:4)F:5)G;\")\n",
    "tr1.compare_by_tip_distances(tr2)"
   ]
  }
 ],
 "metadata": {
  "kernelspec": {
   "display_name": "Python 3 (ipykernel)",
   "language": "python",
   "name": "python3"
  },
  "language_info": {
   "codemirror_mode": {
    "name": "ipython",
    "version": 3
   },
   "file_extension": ".py",
   "mimetype": "text/x-python",
   "name": "python",
   "nbconvert_exporter": "python",
   "pygments_lexer": "ipython3",
   "version": "3.10.0"
  }
 },
 "nbformat": 4,
 "nbformat_minor": 5
}