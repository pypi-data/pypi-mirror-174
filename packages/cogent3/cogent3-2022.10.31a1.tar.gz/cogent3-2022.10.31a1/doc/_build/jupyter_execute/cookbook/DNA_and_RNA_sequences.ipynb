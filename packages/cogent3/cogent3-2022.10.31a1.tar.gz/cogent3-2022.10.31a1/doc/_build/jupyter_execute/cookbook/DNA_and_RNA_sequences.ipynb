{
 "cells": [
  {
   "cell_type": "code",
   "execution_count": 1,
   "id": "cec04a18",
   "metadata": {
    "execution": {
     "iopub.execute_input": "2022-10-31T00:36:32.811130Z",
     "iopub.status.busy": "2022-10-31T00:36:32.810579Z",
     "iopub.status.idle": "2022-10-31T00:36:34.100233Z",
     "shell.execute_reply": "2022-10-31T00:36:34.100710Z"
    }
   },
   "outputs": [
    {
     "name": "stdout",
     "output_type": "stream",
     "text": [
      "AGTACACTGGT\n"
     ]
    },
    {
     "data": {
      "text/plain": [
       "'AGTACACTGGT'"
      ]
     },
     "execution_count": 1,
     "metadata": {},
     "output_type": "execute_result"
    }
   ],
   "source": [
    "from cogent3 import DNA\n",
    "\n",
    "my_seq = DNA.make_seq(\"AGTACACTGGT\")\n",
    "my_seq\n",
    "print(my_seq)\n",
    "str(my_seq)"
   ]
  },
  {
   "cell_type": "code",
   "execution_count": 2,
   "id": "275cfe42",
   "metadata": {
    "execution": {
     "iopub.execute_input": "2022-10-31T00:36:34.103978Z",
     "iopub.status.busy": "2022-10-31T00:36:34.103524Z",
     "iopub.status.idle": "2022-10-31T00:36:34.104951Z",
     "shell.execute_reply": "2022-10-31T00:36:34.105274Z"
    }
   },
   "outputs": [],
   "source": [
    "from cogent3 import RNA\n",
    "\n",
    "rnaseq = RNA.make_seq(\"ACGUACGUACGUACGU\")"
   ]
  },
  {
   "cell_type": "code",
   "execution_count": 3,
   "id": "76e4ded8",
   "metadata": {
    "execution": {
     "iopub.execute_input": "2022-10-31T00:36:34.108059Z",
     "iopub.status.busy": "2022-10-31T00:36:34.107560Z",
     "iopub.status.idle": "2022-10-31T00:36:34.109494Z",
     "shell.execute_reply": "2022-10-31T00:36:34.109819Z"
    }
   },
   "outputs": [
    {
     "name": "stdout",
     "output_type": "stream",
     "text": [
      ">0\n",
      "AGTACACTGGT\n",
      "\n"
     ]
    }
   ],
   "source": [
    "from cogent3 import DNA\n",
    "\n",
    "my_seq = DNA.make_seq(\"AGTACACTGGT\")\n",
    "print(my_seq.to_fasta())"
   ]
  },
  {
   "cell_type": "code",
   "execution_count": 4,
   "id": "ad0a003b",
   "metadata": {
    "execution": {
     "iopub.execute_input": "2022-10-31T00:36:34.112782Z",
     "iopub.status.busy": "2022-10-31T00:36:34.112276Z",
     "iopub.status.idle": "2022-10-31T00:36:34.114205Z",
     "shell.execute_reply": "2022-10-31T00:36:34.114578Z"
    }
   },
   "outputs": [
    {
     "data": {
      "text/plain": [
       "'>0\\nACGUACGUACGUACGU\\n'"
      ]
     },
     "execution_count": 4,
     "metadata": {},
     "output_type": "execute_result"
    }
   ],
   "source": [
    "from cogent3 import RNA\n",
    "\n",
    "rnaseq = RNA.make_seq(\"ACGUACGUACGUACGU\")\n",
    "rnaseq.to_fasta()"
   ]
  },
  {
   "cell_type": "code",
   "execution_count": 5,
   "id": "c70dbd99",
   "metadata": {
    "execution": {
     "iopub.execute_input": "2022-10-31T00:36:34.117815Z",
     "iopub.status.busy": "2022-10-31T00:36:34.117357Z",
     "iopub.status.idle": "2022-10-31T00:36:34.119391Z",
     "shell.execute_reply": "2022-10-31T00:36:34.119702Z"
    }
   },
   "outputs": [
    {
     "data": {
      "text/plain": [
       "cogent3.core.sequence.DnaSequence"
      ]
     },
     "execution_count": 5,
     "metadata": {},
     "output_type": "execute_result"
    }
   ],
   "source": [
    "from cogent3 import make_seq\n",
    "\n",
    "my_seq = make_seq(\"AGTACACTGGT\", \"my_gene\", moltype=\"dna\")\n",
    "my_seq\n",
    "type(my_seq)"
   ]
  },
  {
   "cell_type": "code",
   "execution_count": 6,
   "id": "17634231",
   "metadata": {
    "execution": {
     "iopub.execute_input": "2022-10-31T00:36:34.122678Z",
     "iopub.status.busy": "2022-10-31T00:36:34.122228Z",
     "iopub.status.idle": "2022-10-31T00:36:34.123880Z",
     "shell.execute_reply": "2022-10-31T00:36:34.124335Z"
    }
   },
   "outputs": [
    {
     "name": "stdout",
     "output_type": "stream",
     "text": [
      ">my_gene\n",
      "AGTACACTGGT\n",
      "\n"
     ]
    }
   ],
   "source": [
    "from cogent3 import make_seq\n",
    "\n",
    "my_seq = make_seq(\"AGTACACTGGT\", moltype=\"dna\")\n",
    "my_seq.name = \"my_gene\"\n",
    "print(my_seq.to_fasta())"
   ]
  },
  {
   "cell_type": "code",
   "execution_count": 7,
   "id": "0ab5e80f",
   "metadata": {
    "execution": {
     "iopub.execute_input": "2022-10-31T00:36:34.126989Z",
     "iopub.status.busy": "2022-10-31T00:36:34.126534Z",
     "iopub.status.idle": "2022-10-31T00:36:34.128239Z",
     "shell.execute_reply": "2022-10-31T00:36:34.128704Z"
    }
   },
   "outputs": [
    {
     "name": "stdout",
     "output_type": "stream",
     "text": [
      "TCATGTGACCA\n"
     ]
    }
   ],
   "source": [
    "from cogent3 import DNA\n",
    "\n",
    "my_seq = DNA.make_seq(\"AGTACACTGGT\")\n",
    "print(my_seq.complement())"
   ]
  },
  {
   "cell_type": "code",
   "execution_count": 8,
   "id": "078eeb85",
   "metadata": {
    "execution": {
     "iopub.execute_input": "2022-10-31T00:36:34.131340Z",
     "iopub.status.busy": "2022-10-31T00:36:34.130888Z",
     "iopub.status.idle": "2022-10-31T00:36:34.132597Z",
     "shell.execute_reply": "2022-10-31T00:36:34.133051Z"
    }
   },
   "outputs": [
    {
     "name": "stdout",
     "output_type": "stream",
     "text": [
      "ACCAGTGTACT\n"
     ]
    }
   ],
   "source": [
    "print(my_seq.rc())"
   ]
  },
  {
   "cell_type": "code",
   "execution_count": 9,
   "id": "4f57c4f1",
   "metadata": {
    "execution": {
     "iopub.execute_input": "2022-10-31T00:36:34.135671Z",
     "iopub.status.busy": "2022-10-31T00:36:34.135102Z",
     "iopub.status.idle": "2022-10-31T00:36:34.136998Z",
     "shell.execute_reply": "2022-10-31T00:36:34.137303Z"
    }
   },
   "outputs": [
    {
     "name": "stdout",
     "output_type": "stream",
     "text": [
      "ACCAGTGTACT\n"
     ]
    }
   ],
   "source": [
    "print(my_seq.rc())"
   ]
  },
  {
   "cell_type": "code",
   "execution_count": 10,
   "id": "8b776fd6",
   "metadata": {
    "execution": {
     "iopub.execute_input": "2022-10-31T00:36:34.140386Z",
     "iopub.status.busy": "2022-10-31T00:36:34.139907Z",
     "iopub.status.idle": "2022-10-31T00:36:34.141678Z",
     "shell.execute_reply": "2022-10-31T00:36:34.142124Z"
    }
   },
   "outputs": [
    {
     "name": "stdout",
     "output_type": "stream",
     "text": [
      ">protein-X\n",
      "AWESQME\n",
      "\n"
     ]
    }
   ],
   "source": [
    "from cogent3 import DNA\n",
    "\n",
    "my_seq = DNA.make_seq(\"GCTTGGGAAAGTCAAATGGAA\", \"protein-X\")\n",
    "pep = my_seq.get_translation()\n",
    "type(pep)\n",
    "print(pep.to_fasta())"
   ]
  },
  {
   "cell_type": "code",
   "execution_count": 11,
   "id": "d020acd7",
   "metadata": {
    "execution": {
     "iopub.execute_input": "2022-10-31T00:36:34.145096Z",
     "iopub.status.busy": "2022-10-31T00:36:34.144452Z",
     "iopub.status.idle": "2022-10-31T00:36:34.146290Z",
     "shell.execute_reply": "2022-10-31T00:36:34.146751Z"
    }
   },
   "outputs": [
    {
     "name": "stdout",
     "output_type": "stream",
     "text": [
      "ACGUACGUACGUACGU\n"
     ]
    }
   ],
   "source": [
    "from cogent3 import DNA\n",
    "\n",
    "my_seq = DNA.make_seq(\"ACGTACGTACGTACGT\")\n",
    "print(my_seq.to_rna())"
   ]
  },
  {
   "cell_type": "code",
   "execution_count": 12,
   "id": "5e039c36",
   "metadata": {
    "execution": {
     "iopub.execute_input": "2022-10-31T00:36:34.149468Z",
     "iopub.status.busy": "2022-10-31T00:36:34.149014Z",
     "iopub.status.idle": "2022-10-31T00:36:34.150789Z",
     "shell.execute_reply": "2022-10-31T00:36:34.151161Z"
    }
   },
   "outputs": [
    {
     "name": "stdout",
     "output_type": "stream",
     "text": [
      "ACGTACGTACGTACGT\n"
     ]
    }
   ],
   "source": [
    "from cogent3 import RNA\n",
    "\n",
    "rnaseq = RNA.make_seq(\"ACGUACGUACGUACGU\")\n",
    "print(rnaseq.to_dna())"
   ]
  },
  {
   "cell_type": "code",
   "execution_count": 13,
   "id": "03a4ad99",
   "metadata": {
    "execution": {
     "iopub.execute_input": "2022-10-31T00:36:34.154255Z",
     "iopub.status.busy": "2022-10-31T00:36:34.153779Z",
     "iopub.status.idle": "2022-10-31T00:36:34.155855Z",
     "shell.execute_reply": "2022-10-31T00:36:34.156162Z"
    }
   },
   "outputs": [
    {
     "data": {
      "text/plain": [
       "True"
      ]
     },
     "execution_count": 13,
     "metadata": {},
     "output_type": "execute_result"
    }
   ],
   "source": [
    "from cogent3 import DNA\n",
    "\n",
    "a = DNA.make_seq(\"AGTACACTGGT\")\n",
    "a.can_pair(a.complement())\n",
    "a.can_pair(a.rc())"
   ]
  },
  {
   "cell_type": "code",
   "execution_count": 14,
   "id": "f650da3e",
   "metadata": {
    "execution": {
     "iopub.execute_input": "2022-10-31T00:36:34.159451Z",
     "iopub.status.busy": "2022-10-31T00:36:34.158902Z",
     "iopub.status.idle": "2022-10-31T00:36:34.161057Z",
     "shell.execute_reply": "2022-10-31T00:36:34.161380Z"
    }
   },
   "outputs": [
    {
     "data": {
      "text/plain": [
       "'AGTACACTGGTCTGAC'"
      ]
     },
     "execution_count": 14,
     "metadata": {},
     "output_type": "execute_result"
    }
   ],
   "source": [
    "from cogent3 import DNA\n",
    "\n",
    "my_seq = DNA.make_seq(\"AGTACACTGGT\")\n",
    "extra_seq = DNA.make_seq(\"CTGAC\")\n",
    "long_seq = my_seq + extra_seq\n",
    "long_seq\n",
    "str(long_seq)"
   ]
  },
  {
   "cell_type": "code",
   "execution_count": 15,
   "id": "ea4b47f1",
   "metadata": {
    "execution": {
     "iopub.execute_input": "2022-10-31T00:36:34.164416Z",
     "iopub.status.busy": "2022-10-31T00:36:34.163907Z",
     "iopub.status.idle": "2022-10-31T00:36:34.165998Z",
     "shell.execute_reply": "2022-10-31T00:36:34.166355Z"
    }
   },
   "outputs": [
    {
     "data": {
      "text/html": [
       "<style>\n",
       ".c3seq td { border: none !important; text-align: left !important; }\n",
       ".c3seq tr:not(.num_row) td span {margin: 0 2px;}\n",
       ".c3seq tr:nth-child(even) {background: #f7f7f7;}\n",
       ".c3seq .num_row {background-color:rgba(161, 195, 209, 0.5) !important; border-top: solid 1px black; }\n",
       ".c3seq .label { font-size: 12pt ; text-align: right !important; color: black !important; padding: 0 4px; }\n",
       ".c3seq .T_dna{font-family: \"Lucida Console\",monospace !important; font-size: 12pt !important; color: blue; }\n",
       ".c3seq .C_dna{font-family: \"Lucida Console\",monospace !important; font-size: 12pt !important; color: black; }\n",
       ".c3seq .A_dna{font-family: \"Lucida Console\",monospace !important; font-size: 12pt !important; color: #FF0102; }\n",
       ".c3seq .G_dna{font-family: \"Lucida Console\",monospace !important; font-size: 12pt !important; color: green; }\n",
       ".c3seq .terminal_ambig_dna{font-family: \"Lucida Console\",monospace !important; font-size: 12pt !important; color: gray; }\n",
       ".c3seq .ambig_dna{font-family: \"Lucida Console\",monospace !important; font-size: 12pt !important; color: gray; }\n",
       "</style>\n",
       "<div class=\"c3seq\">\n",
       "<table>\n",
       "<tr class=\"num_row\"><td></td><td><b>0</b></td></tr>\n",
       "<tr><td class=\"label\">None</td><td><span class=\"G_dna\">G</span><span class=\"T_dna\">T</span><span class=\"A_dna\">A</span><span class=\"C_dna\">C</span><span class=\"A_dna\">A</span></td></tr>\n",
       "</table>\n",
       "<p><i>5 DnaSequence</i></p>\n",
       "</div>"
      ],
      "text/plain": [
       "DnaSequence(GTACA)"
      ]
     },
     "execution_count": 15,
     "metadata": {},
     "output_type": "execute_result"
    }
   ],
   "source": [
    "my_seq[1:6]"
   ]
  },
  {
   "cell_type": "code",
   "execution_count": 16,
   "id": "d878fa54",
   "metadata": {
    "execution": {
     "iopub.execute_input": "2022-10-31T00:36:34.169457Z",
     "iopub.status.busy": "2022-10-31T00:36:34.169012Z",
     "iopub.status.idle": "2022-10-31T00:36:34.170852Z",
     "shell.execute_reply": "2022-10-31T00:36:34.171339Z"
    }
   },
   "outputs": [],
   "source": [
    "from cogent3 import DNA\n",
    "\n",
    "seq = DNA.make_array_seq(\"ATGATGATGATG\")\n",
    "pos3 = seq[2::3]\n",
    "assert str(pos3) == \"GGGG\""
   ]
  },
  {
   "cell_type": "code",
   "execution_count": 17,
   "id": "df65e922",
   "metadata": {
    "execution": {
     "iopub.execute_input": "2022-10-31T00:36:34.174957Z",
     "iopub.status.busy": "2022-10-31T00:36:34.174504Z",
     "iopub.status.idle": "2022-10-31T00:36:34.176481Z",
     "shell.execute_reply": "2022-10-31T00:36:34.176790Z"
    }
   },
   "outputs": [],
   "source": [
    "from cogent3 import DNA\n",
    "\n",
    "seq = DNA.make_seq(\"ATGATGATGATG\")\n",
    "indices = [(i, i + 2) for i in range(len(seq))[::3]]\n",
    "pos12 = seq.add_feature(\"pos12\", \"pos12\", indices)\n",
    "pos12 = pos12.get_slice()\n",
    "assert str(pos12) == \"ATATATAT\""
   ]
  },
  {
   "cell_type": "code",
   "execution_count": 18,
   "id": "29fde7c4",
   "metadata": {
    "execution": {
     "iopub.execute_input": "2022-10-31T00:36:34.180067Z",
     "iopub.status.busy": "2022-10-31T00:36:34.179484Z",
     "iopub.status.idle": "2022-10-31T00:36:34.181640Z",
     "shell.execute_reply": "2022-10-31T00:36:34.181937Z"
    }
   },
   "outputs": [
    {
     "name": "stdout",
     "output_type": "stream",
     "text": [
      "AUUAUGCUAUUAU\n"
     ]
    }
   ],
   "source": [
    "from cogent3 import RNA\n",
    "\n",
    "s = RNA.make_seq(\"--AUUAUGCUAU-UAu--\")\n",
    "print(s.degap())"
   ]
  }
 ],
 "metadata": {
  "kernelspec": {
   "display_name": "Python 3 (ipykernel)",
   "language": "python",
   "name": "python3"
  },
  "language_info": {
   "codemirror_mode": {
    "name": "ipython",
    "version": 3
   },
   "file_extension": ".py",
   "mimetype": "text/x-python",
   "name": "python",
   "nbconvert_exporter": "python",
   "pygments_lexer": "ipython3",
   "version": "3.10.0"
  }
 },
 "nbformat": 4,
 "nbformat_minor": 5
}