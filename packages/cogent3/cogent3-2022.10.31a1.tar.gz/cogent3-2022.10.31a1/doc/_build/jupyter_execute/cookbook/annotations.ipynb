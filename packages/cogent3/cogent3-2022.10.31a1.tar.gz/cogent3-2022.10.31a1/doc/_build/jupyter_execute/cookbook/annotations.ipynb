{
 "cells": [
  {
   "cell_type": "code",
   "execution_count": 1,
   "id": "96766fa1",
   "metadata": {
    "execution": {
     "iopub.execute_input": "2022-10-31T00:36:47.013417Z",
     "iopub.status.busy": "2022-10-31T00:36:47.012728Z",
     "iopub.status.idle": "2022-10-31T00:36:50.537610Z",
     "shell.execute_reply": "2022-10-31T00:36:50.538137Z"
    }
   },
   "outputs": [],
   "source": [
    "import set_working_directory"
   ]
  },
  {
   "cell_type": "code",
   "execution_count": 2,
   "id": "bff0133e",
   "metadata": {
    "execution": {
     "iopub.execute_input": "2022-10-31T00:36:50.542991Z",
     "iopub.status.busy": "2022-10-31T00:36:50.542313Z",
     "iopub.status.idle": "2022-10-31T00:36:51.864967Z",
     "shell.execute_reply": "2022-10-31T00:36:51.864416Z"
    }
   },
   "outputs": [
    {
     "name": "stdout",
     "output_type": "stream",
     "text": [
      "AE006468\n"
     ]
    }
   ],
   "source": [
    "from cogent3.parse.genbank import RichGenbankParser\n",
    "\n",
    "parser = RichGenbankParser(open(\"data/ST_genome_part.gb\"))\n",
    "for accession, seq in parser:\n",
    "    print(accession)"
   ]
  },
  {
   "cell_type": "code",
   "execution_count": 3,
   "id": "cc3c67da",
   "metadata": {
    "execution": {
     "iopub.execute_input": "2022-10-31T00:36:51.868566Z",
     "iopub.status.busy": "2022-10-31T00:36:51.867931Z",
     "iopub.status.idle": "2022-10-31T00:36:51.870028Z",
     "shell.execute_reply": "2022-10-31T00:36:51.870419Z"
    }
   },
   "outputs": [
    {
     "name": "stdout",
     "output_type": "stream",
     "text": [
      "[CDS \"thrL\" at [189:255]/10020, CDS \"thrA\" at [336:2799]/10020, CDS \"thrB\" at [2800:3730]/10020, CDS \"thrC\" at [3733:5020]/10020, CDS \"yaaA\" at [5887:5113]/10020, CDS \"yaaJ\" at [7396:5965]/10020, CDS \"talB\" at [7664:8618]/10020, CDS \"mog\" at [8728:9319]/10020, CDS \"yaaH\" at [9942:9375]/10020]\n"
     ]
    }
   ],
   "source": [
    "cds = seq.get_annotations_matching(\"CDS\")\n",
    "print(cds)"
   ]
  },
  {
   "cell_type": "code",
   "execution_count": 4,
   "id": "b7859d56",
   "metadata": {
    "execution": {
     "iopub.execute_input": "2022-10-31T00:36:51.874932Z",
     "iopub.status.busy": "2022-10-31T00:36:51.874384Z",
     "iopub.status.idle": "2022-10-31T00:36:51.878818Z",
     "shell.execute_reply": "2022-10-31T00:36:51.879156Z"
    }
   },
   "outputs": [
    {
     "name": "stdout",
     "output_type": "stream",
     "text": [
      "[CDS \"STM0001\" at [189:255]/10020, CDS \"STM0002\" at [336:2799]/10020, CDS \"STM0003\" at [2800:3730]/10020, CDS \"STM0004\" at [3733:5020]/10020, CDS \"STM0005\" at [5887:5113]/10020, CDS \"STM0006\" at [7396:5965]/10020, CDS \"STM0007\" at [7664:8618]/10020, CDS \"STM0008\" at [8728:9319]/10020, CDS \"STM0009\" at [9942:9375]/10020]\n"
     ]
    }
   ],
   "source": [
    "from cogent3.core.annotation import Feature\n",
    "\n",
    "def add_annotation(seq, feature, spans):\n",
    "    type_ = feature[\"type\"]\n",
    "    if type_ != \"CDS\":\n",
    "        return\n",
    "    name = feature.get(\"locus_tag\", None)\n",
    "    if name and not isinstance(name, str):\n",
    "        name = \" \".join(name)\n",
    "    seq.add_annotation(Feature, type_, name, spans)\n",
    "\n",
    "parser = RichGenbankParser(\n",
    "    open(\"data/ST_genome_part.gb\"), add_annotation=add_annotation\n",
    ")\n",
    "for accession, seq in parser:  # just reading one accession,sequence\n",
    "    break\n",
    "genes = seq.get_annotations_matching(\"CDS\")\n",
    "print(genes)"
   ]
  },
  {
   "cell_type": "code",
   "execution_count": 5,
   "id": "0a222a0e",
   "metadata": {
    "execution": {
     "iopub.execute_input": "2022-10-31T00:36:51.883575Z",
     "iopub.status.busy": "2022-10-31T00:36:51.882948Z",
     "iopub.status.idle": "2022-10-31T00:36:51.884919Z",
     "shell.execute_reply": "2022-10-31T00:36:51.885279Z"
    }
   },
   "outputs": [
    {
     "name": "stdout",
     "output_type": "stream",
     "text": [
      "CCCCC\n",
      "TTTTTAAAAA\n",
      "CCC\n"
     ]
    }
   ],
   "source": [
    "from cogent3 import DNA\n",
    "from cogent3.core.annotation import Feature\n",
    "\n",
    "s1 = DNA.make_seq(\n",
    "    \"AAGAAGAAGACCCCCAAAAAAAAAA\" \"TTTTTTTTTTAAAAAGGGAACCCT\", name=\"seq1\"\n",
    ")\n",
    "print(s1[10:15])  # this will be exon 1\n",
    "print(s1[30:40])  # this will be exon 2\n",
    "print(s1[45:48])  # this will be exon 3\n",
    "s2 = DNA.make_seq(\"CGAAACGTTT\", name=\"seq2\")\n",
    "s3 = DNA.make_seq(\"CGAAACGTTT\", name=\"seq3\")"
   ]
  },
  {
   "cell_type": "code",
   "execution_count": 6,
   "id": "3277d4dc",
   "metadata": {
    "execution": {
     "iopub.execute_input": "2022-10-31T00:36:51.888831Z",
     "iopub.status.busy": "2022-10-31T00:36:51.888340Z",
     "iopub.status.idle": "2022-10-31T00:36:51.889959Z",
     "shell.execute_reply": "2022-10-31T00:36:51.890374Z"
    }
   },
   "outputs": [],
   "source": [
    "from cogent3 import DNA\n",
    "from cogent3.core.annotation import Feature\n",
    "\n",
    "s1 = DNA.make_seq(\n",
    "    \"AAGAAGAAGACCCCCAAAAAAAAAA\" \"TTTTTTTTTTAAAAAGGGAACCCT\", name=\"seq1\"\n",
    ")\n",
    "exon1 = s1.add_annotation(Feature, \"exon\", \"A\", [(10, 15)])\n",
    "exon2 = s1.add_annotation(Feature, \"exon\", \"B\", [(30, 40)])"
   ]
  },
  {
   "cell_type": "code",
   "execution_count": 7,
   "id": "00c745ed",
   "metadata": {
    "execution": {
     "iopub.execute_input": "2022-10-31T00:36:51.893312Z",
     "iopub.status.busy": "2022-10-31T00:36:51.892838Z",
     "iopub.status.idle": "2022-10-31T00:36:51.894382Z",
     "shell.execute_reply": "2022-10-31T00:36:51.894693Z"
    }
   },
   "outputs": [],
   "source": [
    "from cogent3 import DNA\n",
    "\n",
    "s1 = DNA.make_seq(\n",
    "    \"AAGAAGAAGACCCCCAAAAAAAAAA\" \"TTTTTTTTTTAAAAAGGGAACCCT\", name=\"seq1\"\n",
    ")\n",
    "exon3 = s1.add_feature(\"exon\", \"C\", [(45, 48)])"
   ]
  },
  {
   "cell_type": "code",
   "execution_count": 8,
   "id": "76f12440",
   "metadata": {
    "execution": {
     "iopub.execute_input": "2022-10-31T00:36:51.897963Z",
     "iopub.status.busy": "2022-10-31T00:36:51.897522Z",
     "iopub.status.idle": "2022-10-31T00:36:51.899055Z",
     "shell.execute_reply": "2022-10-31T00:36:51.899369Z"
    }
   },
   "outputs": [],
   "source": [
    "from cogent3 import DNA\n",
    "\n",
    "s2 = DNA.make_seq(\"CGAAACGTTT\", name=\"seq2\")\n",
    "cpgs_series = s2.add_feature(\"cpgsite\", \"cpg\", [(0, 2), (5, 7)])\n",
    "s3 = DNA.make_seq(\"CGAAACGTTT\", name=\"seq3\")\n",
    "cpg1 = s3.add_feature(\"cpgsite\", \"cpg\", [(0, 2)])\n",
    "cpg2 = s3.add_feature(\"cpgsite\", \"cpg\", [(5, 7)])"
   ]
  },
  {
   "cell_type": "code",
   "execution_count": 9,
   "id": "d75fa355",
   "metadata": {
    "execution": {
     "iopub.execute_input": "2022-10-31T00:36:51.902900Z",
     "iopub.status.busy": "2022-10-31T00:36:51.902450Z",
     "iopub.status.idle": "2022-10-31T00:36:51.904133Z",
     "shell.execute_reply": "2022-10-31T00:36:51.904462Z"
    }
   },
   "outputs": [],
   "source": [
    "from cogent3 import DNA\n",
    "\n",
    "s1 = DNA.make_seq(\n",
    "    \"AAGAAGAAGACCCCCAAAAAAAAAA\" \"TTTTTTTTTTAAAAAGGGAACCCT\", name=\"seq1\"\n",
    ")\n",
    "exon1 = s1.add_feature(\"exon\", \"A\", [(10, 15)])\n",
    "exon2 = s1.add_feature(\"exon\", \"B\", [(30, 40)])\n",
    "exon3 = s1.add_feature(\"exon\", \"C\", [(45, 48)])\n",
    "cds = s1.get_region_covering_all([exon1, exon2, exon3])"
   ]
  },
  {
   "cell_type": "code",
   "execution_count": 10,
   "id": "e830a89e",
   "metadata": {
    "execution": {
     "iopub.execute_input": "2022-10-31T00:36:51.911234Z",
     "iopub.status.busy": "2022-10-31T00:36:51.910618Z",
     "iopub.status.idle": "2022-10-31T00:36:51.913107Z",
     "shell.execute_reply": "2022-10-31T00:36:51.913581Z"
    }
   },
   "outputs": [
    {
     "data": {
      "text/plain": [
       "[(10, 15), (30, 40), (45, 48)]"
      ]
     },
     "execution_count": 10,
     "metadata": {},
     "output_type": "execute_result"
    }
   ],
   "source": [
    "cds.get_coordinates()"
   ]
  },
  {
   "cell_type": "code",
   "execution_count": 11,
   "id": "41005faf",
   "metadata": {
    "execution": {
     "iopub.execute_input": "2022-10-31T00:36:51.917030Z",
     "iopub.status.busy": "2022-10-31T00:36:51.916505Z",
     "iopub.status.idle": "2022-10-31T00:36:51.918659Z",
     "shell.execute_reply": "2022-10-31T00:36:51.919086Z"
    }
   },
   "outputs": [
    {
     "data": {
      "text/plain": [
       "region \"not exon\" at [0:10, 15:30, 40:45, 48:49]/49"
      ]
     },
     "execution_count": 11,
     "metadata": {},
     "output_type": "execute_result"
    }
   ],
   "source": [
    "not_cds = cds.get_shadow()\n",
    "not_cds"
   ]
  },
  {
   "cell_type": "code",
   "execution_count": 12,
   "id": "0b064099",
   "metadata": {
    "execution": {
     "iopub.execute_input": "2022-10-31T00:36:51.922038Z",
     "iopub.status.busy": "2022-10-31T00:36:51.921449Z",
     "iopub.status.idle": "2022-10-31T00:36:51.923627Z",
     "shell.execute_reply": "2022-10-31T00:36:51.923940Z"
    }
   },
   "outputs": [
    {
     "data": {
      "text/plain": [
       "region \"exon\" at [10:15, 30:40, 45:48]/49"
      ]
     },
     "execution_count": 12,
     "metadata": {},
     "output_type": "execute_result"
    }
   ],
   "source": [
    "cds"
   ]
  },
  {
   "cell_type": "code",
   "execution_count": 13,
   "id": "dd406e1c",
   "metadata": {
    "execution": {
     "iopub.execute_input": "2022-10-31T00:36:51.927494Z",
     "iopub.status.busy": "2022-10-31T00:36:51.926991Z",
     "iopub.status.idle": "2022-10-31T00:36:51.928769Z",
     "shell.execute_reply": "2022-10-31T00:36:51.929146Z"
    }
   },
   "outputs": [],
   "source": [
    "from cogent3 import make_aligned_seqs\n",
    "\n",
    "aln1 = make_aligned_seqs(\n",
    "    data=[[\"x\", \"-AAACCCCCA\"], [\"y\", \"TTTT--TTTT\"]], array_align=False\n",
    ")\n",
    "seq_exon = aln1.get_seq(\"x\").add_feature(\"exon\", \"A\", [(3, 8)])"
   ]
  },
  {
   "cell_type": "code",
   "execution_count": 14,
   "id": "a47a63af",
   "metadata": {
    "execution": {
     "iopub.execute_input": "2022-10-31T00:36:51.932343Z",
     "iopub.status.busy": "2022-10-31T00:36:51.931824Z",
     "iopub.status.idle": "2022-10-31T00:36:51.933484Z",
     "shell.execute_reply": "2022-10-31T00:36:51.933874Z"
    }
   },
   "outputs": [],
   "source": [
    "from cogent3.core.annotation import Variable\n",
    "\n",
    "red_data = aln1.add_annotation(\n",
    "    Variable, \"redline\", \"align\", [((0, 15), 1), ((15, 30), 2), ((30, 45), 3)]\n",
    ")"
   ]
  },
  {
   "cell_type": "code",
   "execution_count": 15,
   "id": "4f9efcdc",
   "metadata": {
    "execution": {
     "iopub.execute_input": "2022-10-31T00:36:51.937641Z",
     "iopub.status.busy": "2022-10-31T00:36:51.937148Z",
     "iopub.status.idle": "2022-10-31T00:36:51.939128Z",
     "shell.execute_reply": "2022-10-31T00:36:51.939434Z"
    }
   },
   "outputs": [
    {
     "data": {
      "text/html": [
       "<style>\n",
       ".c3seq td { border: none !important; text-align: left !important; }\n",
       ".c3seq tr:not(.num_row) td span {margin: 0 2px;}\n",
       ".c3seq tr:nth-child(even) {background: #f7f7f7;}\n",
       ".c3seq .num_row {background-color:rgba(161, 195, 209, 0.5) !important; border-top: solid 1px black; }\n",
       ".c3seq .label { font-size: 12pt ; text-align: right !important; color: black !important; padding: 0 4px; }\n",
       ".c3seq .T_dna{font-family: \"Lucida Console\",monospace !important; font-size: 12pt !important; color: blue; }\n",
       ".c3seq .C_dna{font-family: \"Lucida Console\",monospace !important; font-size: 12pt !important; color: black; }\n",
       ".c3seq .A_dna{font-family: \"Lucida Console\",monospace !important; font-size: 12pt !important; color: #FF0102; }\n",
       ".c3seq .G_dna{font-family: \"Lucida Console\",monospace !important; font-size: 12pt !important; color: green; }\n",
       ".c3seq .terminal_ambig_dna{font-family: \"Lucida Console\",monospace !important; font-size: 12pt !important; color: gray; }\n",
       ".c3seq .ambig_dna{font-family: \"Lucida Console\",monospace !important; font-size: 12pt !important; color: gray; }\n",
       "</style>\n",
       "<div class=\"c3seq\">\n",
       "<table>\n",
       "<tr class=\"num_row\"><td></td><td><b>0</b></td></tr>\n",
       "<tr><td class=\"label\">seq1</td><td><span class=\"C_dna\">C</span><span class=\"C_dna\">C</span><span class=\"C_dna\">C</span><span class=\"C_dna\">C</span><span class=\"C_dna\">C</span></td></tr>\n",
       "</table>\n",
       "<p><i>5 DnaSequence</i></p>\n",
       "</div>"
      ],
      "text/plain": [
       "DnaSequence(CCCCC)"
      ]
     },
     "execution_count": 15,
     "metadata": {},
     "output_type": "execute_result"
    }
   ],
   "source": [
    "from cogent3 import DNA\n",
    "\n",
    "s1 = DNA.make_seq(\n",
    "    \"AAGAAGAAGACCCCCAAAAAAAAAA\" \"TTTTTTTTTTAAAAAGGGAACCCT\", name=\"seq1\"\n",
    ")\n",
    "exon1 = s1.add_feature(\"exon\", \"A\", [(10, 15)])\n",
    "exon2 = s1.add_feature(\"exon\", \"B\", [(30, 40)])\n",
    "s1[exon1]\n",
    "s1[10:15]"
   ]
  },
  {
   "cell_type": "code",
   "execution_count": 16,
   "id": "9cbc7877",
   "metadata": {
    "execution": {
     "iopub.execute_input": "2022-10-31T00:36:51.942488Z",
     "iopub.status.busy": "2022-10-31T00:36:51.941832Z",
     "iopub.status.idle": "2022-10-31T00:36:51.944427Z",
     "shell.execute_reply": "2022-10-31T00:36:51.943918Z"
    }
   },
   "outputs": [
    {
     "data": {
      "text/html": [
       "<style>\n",
       ".c3seq td { border: none !important; text-align: left !important; }\n",
       ".c3seq tr:not(.num_row) td span {margin: 0 2px;}\n",
       ".c3seq tr:nth-child(even) {background: #f7f7f7;}\n",
       ".c3seq .num_row {background-color:rgba(161, 195, 209, 0.5) !important; border-top: solid 1px black; }\n",
       ".c3seq .label { font-size: 12pt ; text-align: right !important; color: black !important; padding: 0 4px; }\n",
       ".c3seq .T_dna{font-family: \"Lucida Console\",monospace !important; font-size: 12pt !important; color: blue; }\n",
       ".c3seq .C_dna{font-family: \"Lucida Console\",monospace !important; font-size: 12pt !important; color: black; }\n",
       ".c3seq .A_dna{font-family: \"Lucida Console\",monospace !important; font-size: 12pt !important; color: #FF0102; }\n",
       ".c3seq .G_dna{font-family: \"Lucida Console\",monospace !important; font-size: 12pt !important; color: green; }\n",
       ".c3seq .terminal_ambig_dna{font-family: \"Lucida Console\",monospace !important; font-size: 12pt !important; color: gray; }\n",
       ".c3seq .ambig_dna{font-family: \"Lucida Console\",monospace !important; font-size: 12pt !important; color: gray; }\n",
       "</style>\n",
       "<div class=\"c3seq\">\n",
       "<table>\n",
       "<tr class=\"num_row\"><td></td><td><b>0</b></td></tr>\n",
       "<tr><td class=\"label\">seq1</td><td><span class=\"T_dna\">T</span><span class=\"T_dna\">T</span><span class=\"T_dna\">T</span><span class=\"T_dna\">T</span><span class=\"T_dna\">T</span><span class=\"A_dna\">A</span><span class=\"A_dna\">A</span><span class=\"A_dna\">A</span><span class=\"A_dna\">A</span><span class=\"A_dna\">A</span></td></tr>\n",
       "</table>\n",
       "<p><i>10 DnaSequence</i></p>\n",
       "</div>"
      ],
      "text/plain": [
       "DnaSequence(TTTTTAAAAA)"
      ]
     },
     "execution_count": 16,
     "metadata": {},
     "output_type": "execute_result"
    }
   ],
   "source": [
    "s1[exon2]\n",
    "exon2.get_slice()"
   ]
  },
  {
   "cell_type": "code",
   "execution_count": 17,
   "id": "b6ab8a05",
   "metadata": {
    "execution": {
     "iopub.execute_input": "2022-10-31T00:36:51.948015Z",
     "iopub.status.busy": "2022-10-31T00:36:51.947497Z",
     "iopub.status.idle": "2022-10-31T00:36:51.949482Z",
     "shell.execute_reply": "2022-10-31T00:36:51.949792Z"
    }
   },
   "outputs": [
    {
     "name": "stdout",
     "output_type": "stream",
     "text": [
      "CCCCCTTTTTAAAAACCC\n",
      "CCCCCTTTTTAAAAACCC\n"
     ]
    }
   ],
   "source": [
    "from cogent3 import DNA\n",
    "\n",
    "s1 = DNA.make_seq(\n",
    "    \"AAGAAGAAGACCCCCAAAAAAAAAA\" \"TTTTTTTTTTAAAAAGGGAACCCT\", name=\"seq1\"\n",
    ")\n",
    "exon1 = s1.add_feature(\"exon\", \"A\", [(10, 15)])\n",
    "exon2 = s1.add_feature(\"exon\", \"B\", [(30, 40)])\n",
    "exon3 = s1.add_feature(\"exon\", \"C\", [(45, 48)])\n",
    "cds = s1.get_region_covering_all([exon1, exon2, exon3])\n",
    "print(s1[cds])\n",
    "print(s1[exon1, exon2, exon3])"
   ]
  },
  {
   "cell_type": "code",
   "execution_count": 18,
   "id": "f1440aab",
   "metadata": {
    "execution": {
     "iopub.execute_input": "2022-10-31T00:36:51.952985Z",
     "iopub.status.busy": "2022-10-31T00:36:51.952533Z",
     "iopub.status.idle": "2022-10-31T00:36:51.954326Z",
     "shell.execute_reply": "2022-10-31T00:36:51.954811Z"
    }
   },
   "outputs": [
    {
     "name": "stdout",
     "output_type": "stream",
     "text": [
      "AAGAAGAAGACCCCCAAAAAAAAAATTTTTTTTTTAAAAAGGGAACCCT\n",
      "CCCCCTTTTTAAAAACCC\n",
      "TTTTTAAAAA\n",
      "CCC\n",
      "CCCCCCCCTTTTTAAAAA\n"
     ]
    }
   ],
   "source": [
    "print(s1)\n",
    "print(s1[exon1, exon2, exon3])\n",
    "print(s1[exon2])\n",
    "print(s1[exon3])\n",
    "print(s1[exon1, exon3, exon2])"
   ]
  },
  {
   "cell_type": "code",
   "execution_count": 19,
   "id": "514af75d",
   "metadata": {
    "execution": {
     "iopub.execute_input": "2022-10-31T00:36:51.957364Z",
     "iopub.status.busy": "2022-10-31T00:36:51.956914Z",
     "iopub.status.idle": "2022-10-31T00:36:52.548921Z",
     "shell.execute_reply": "2022-10-31T00:36:52.549357Z"
    }
   },
   "outputs": [
    {
     "ename": "ValueError",
     "evalue": "Uninvertable. Overlap: 9 < 10",
     "output_type": "error",
     "traceback": [
      "\u001b[0;31m---------------------------------------------------------------------------\u001b[0m",
      "\u001b[0;31mValueError\u001b[0m                                Traceback (most recent call last)",
      "Input \u001b[0;32mIn [19]\u001b[0m, in \u001b[0;36m<module>\u001b[0;34m\u001b[0m\n\u001b[0;32m----> 1\u001b[0m \u001b[43ms1\u001b[49m\u001b[43m[\u001b[49m\u001b[38;5;241;43m1\u001b[39;49m\u001b[43m:\u001b[49m\u001b[38;5;241;43m10\u001b[39;49m\u001b[43m,\u001b[49m\u001b[43m \u001b[49m\u001b[38;5;241;43m9\u001b[39;49m\u001b[43m:\u001b[49m\u001b[38;5;241;43m15\u001b[39;49m\u001b[43m]\u001b[49m\n\u001b[1;32m      2\u001b[0m s1[exon1, exon1]\n",
      "File \u001b[0;32m~/opt/miniconda3/envs/c310dev/lib/python3.10/site-packages/cogent3/core/annotation.py:90\u001b[0m, in \u001b[0;36m_Annotatable.__getitem__\u001b[0;34m(self, index)\u001b[0m\n\u001b[1;32m     88\u001b[0m \u001b[38;5;28mmap\u001b[39m \u001b[38;5;241m=\u001b[39m \u001b[38;5;28mself\u001b[39m\u001b[38;5;241m.\u001b[39m_as_map(index)\n\u001b[1;32m     89\u001b[0m new \u001b[38;5;241m=\u001b[39m \u001b[38;5;28mself\u001b[39m\u001b[38;5;241m.\u001b[39m_mapped(\u001b[38;5;28mmap\u001b[39m)\n\u001b[0;32m---> 90\u001b[0m sliced_annots \u001b[38;5;241m=\u001b[39m \u001b[38;5;28;43mself\u001b[39;49m\u001b[38;5;241;43m.\u001b[39;49m\u001b[43m_sliced_annotations\u001b[49m\u001b[43m(\u001b[49m\u001b[43mnew\u001b[49m\u001b[43m,\u001b[49m\u001b[43m \u001b[49m\u001b[38;5;28;43mmap\u001b[39;49m\u001b[43m)\u001b[49m\n\u001b[1;32m     91\u001b[0m new\u001b[38;5;241m.\u001b[39mattach_annotations(sliced_annots)\n\u001b[1;32m     92\u001b[0m \u001b[38;5;28;01mif\u001b[39;00m \u001b[38;5;28mhasattr\u001b[39m(\u001b[38;5;28mself\u001b[39m, \u001b[38;5;124m\"\u001b[39m\u001b[38;5;124m_repr_policy\u001b[39m\u001b[38;5;124m\"\u001b[39m):\n",
      "File \u001b[0;32m~/opt/miniconda3/envs/c310dev/lib/python3.10/site-packages/cogent3/core/annotation.py:36\u001b[0m, in \u001b[0;36m_Annotatable._sliced_annotations\u001b[0;34m(self, new, slice)\u001b[0m\n\u001b[1;32m     34\u001b[0m slicemap \u001b[38;5;241m=\u001b[39m \u001b[38;5;28mself\u001b[39m\u001b[38;5;241m.\u001b[39m_as_map(\u001b[38;5;28mslice\u001b[39m)\n\u001b[1;32m     35\u001b[0m \u001b[38;5;66;03m# try:\u001b[39;00m\n\u001b[0;32m---> 36\u001b[0m newmap \u001b[38;5;241m=\u001b[39m \u001b[43mslicemap\u001b[49m\u001b[38;5;241;43m.\u001b[39;49m\u001b[43minverse\u001b[49m\u001b[43m(\u001b[49m\u001b[43m)\u001b[49m\n\u001b[1;32m     37\u001b[0m \u001b[38;5;66;03m# except ValueError, detail:\u001b[39;00m\n\u001b[1;32m     38\u001b[0m \u001b[38;5;66;03m#    print \"Annotations dropped because %s\" % detail\u001b[39;00m\n\u001b[1;32m     39\u001b[0m \u001b[38;5;66;03m#    return []\u001b[39;00m\n\u001b[1;32m     40\u001b[0m \u001b[38;5;28;01mif\u001b[39;00m slicemap\u001b[38;5;241m.\u001b[39museful:\n",
      "File \u001b[0;32m~/opt/miniconda3/envs/c310dev/lib/python3.10/site-packages/cogent3/core/location.py:754\u001b[0m, in \u001b[0;36mMap.inverse\u001b[0;34m(self)\u001b[0m\n\u001b[1;32m    752\u001b[0m \u001b[38;5;28;01mdef\u001b[39;00m \u001b[38;5;21minverse\u001b[39m(\u001b[38;5;28mself\u001b[39m):\n\u001b[1;32m    753\u001b[0m     \u001b[38;5;28;01mif\u001b[39;00m \u001b[38;5;28mself\u001b[39m\u001b[38;5;241m.\u001b[39m__inverse \u001b[38;5;129;01mis\u001b[39;00m \u001b[38;5;28;01mNone\u001b[39;00m:\n\u001b[0;32m--> 754\u001b[0m         \u001b[38;5;28mself\u001b[39m\u001b[38;5;241m.\u001b[39m__inverse \u001b[38;5;241m=\u001b[39m \u001b[38;5;28;43mself\u001b[39;49m\u001b[38;5;241;43m.\u001b[39;49m\u001b[43m_inverse\u001b[49m\u001b[43m(\u001b[49m\u001b[43m)\u001b[49m\n\u001b[1;32m    755\u001b[0m     \u001b[38;5;28;01mreturn\u001b[39;00m \u001b[38;5;28mself\u001b[39m\u001b[38;5;241m.\u001b[39m__inverse\n",
      "File \u001b[0;32m~/opt/miniconda3/envs/c310dev/lib/python3.10/site-packages/cogent3/core/location.py:779\u001b[0m, in \u001b[0;36mMap._inverse\u001b[0;34m(self)\u001b[0m\n\u001b[1;32m    777\u001b[0m     new_spans\u001b[38;5;241m.\u001b[39mappend(LostSpan(lo \u001b[38;5;241m-\u001b[39m last_hi))\n\u001b[1;32m    778\u001b[0m \u001b[38;5;28;01melif\u001b[39;00m lo \u001b[38;5;241m<\u001b[39m last_hi:\n\u001b[0;32m--> 779\u001b[0m     \u001b[38;5;28;01mraise\u001b[39;00m \u001b[38;5;167;01mValueError\u001b[39;00m(\u001b[38;5;124mf\u001b[39m\u001b[38;5;124m\"\u001b[39m\u001b[38;5;124mUninvertable. Overlap: \u001b[39m\u001b[38;5;132;01m{\u001b[39;00mlo\u001b[38;5;132;01m}\u001b[39;00m\u001b[38;5;124m < \u001b[39m\u001b[38;5;132;01m{\u001b[39;00mlast_hi\u001b[38;5;132;01m}\u001b[39;00m\u001b[38;5;124m\"\u001b[39m)\n\u001b[1;32m    780\u001b[0m new_spans\u001b[38;5;241m.\u001b[39mappend(Span(start, end, reverse\u001b[38;5;241m=\u001b[39mstart \u001b[38;5;241m>\u001b[39m end))\n\u001b[1;32m    781\u001b[0m last_hi \u001b[38;5;241m=\u001b[39m hi\n",
      "\u001b[0;31mValueError\u001b[0m: Uninvertable. Overlap: 9 < 10"
     ]
    }
   ],
   "source": [
    "s1[1:10, 9:15]\n",
    "s1[exon1, exon1]"
   ]
  },
  {
   "cell_type": "code",
   "execution_count": 20,
   "id": "c29047b6",
   "metadata": {
    "execution": {
     "iopub.execute_input": "2022-10-31T00:36:52.552863Z",
     "iopub.status.busy": "2022-10-31T00:36:52.552342Z",
     "iopub.status.idle": "2022-10-31T00:36:52.554294Z",
     "shell.execute_reply": "2022-10-31T00:36:52.554641Z"
    }
   },
   "outputs": [
    {
     "name": "stdout",
     "output_type": "stream",
     "text": [
      "CCC\n"
     ]
    }
   ],
   "source": [
    "print(s1.get_region_covering_all([exon3, exon3]).get_slice())"
   ]
  },
  {
   "cell_type": "code",
   "execution_count": 21,
   "id": "98fd5697",
   "metadata": {
    "execution": {
     "iopub.execute_input": "2022-10-31T00:36:52.558182Z",
     "iopub.status.busy": "2022-10-31T00:36:52.557709Z",
     "iopub.status.idle": "2022-10-31T00:36:52.559700Z",
     "shell.execute_reply": "2022-10-31T00:36:52.560018Z"
    }
   },
   "outputs": [
    {
     "name": "stdout",
     "output_type": "stream",
     "text": [
      "TTTTTAAAAA\n",
      "TTT\n",
      "AAA\n"
     ]
    }
   ],
   "source": [
    "print(s1[exon2])\n",
    "ex2_start = exon2[0:3]\n",
    "print(s1[ex2_start])\n",
    "ex2_end = exon2[-3:]\n",
    "print(s1[ex2_end])"
   ]
  },
  {
   "cell_type": "code",
   "execution_count": 22,
   "id": "84a47c53",
   "metadata": {
    "execution": {
     "iopub.execute_input": "2022-10-31T00:36:52.587705Z",
     "iopub.status.busy": "2022-10-31T00:36:52.587028Z",
     "iopub.status.idle": "2022-10-31T00:36:52.589526Z",
     "shell.execute_reply": "2022-10-31T00:36:52.589944Z"
    }
   },
   "outputs": [
    {
     "ename": "ValueError",
     "evalue": "Can't map exon \"A\" at [3:8]/9 onto 2 x 10 alignment: x[-AAACCCCCA], y[TTTT--TTTT] via []",
     "output_type": "error",
     "traceback": [
      "\u001b[0;31m---------------------------------------------------------------------------\u001b[0m",
      "\u001b[0;31mValueError\u001b[0m                                Traceback (most recent call last)",
      "Input \u001b[0;32mIn [22]\u001b[0m, in \u001b[0;36m<module>\u001b[0;34m\u001b[0m\n\u001b[0;32m----> 1\u001b[0m \u001b[43maln1\u001b[49m\u001b[43m[\u001b[49m\u001b[43mseq_exon\u001b[49m\u001b[43m]\u001b[49m\n",
      "File \u001b[0;32m~/opt/miniconda3/envs/c310dev/lib/python3.10/site-packages/cogent3/core/annotation.py:88\u001b[0m, in \u001b[0;36m_Annotatable.__getitem__\u001b[0;34m(self, index)\u001b[0m\n\u001b[1;32m     87\u001b[0m \u001b[38;5;28;01mdef\u001b[39;00m \u001b[38;5;21m__getitem__\u001b[39m(\u001b[38;5;28mself\u001b[39m, index):\n\u001b[0;32m---> 88\u001b[0m     \u001b[38;5;28mmap\u001b[39m \u001b[38;5;241m=\u001b[39m \u001b[38;5;28;43mself\u001b[39;49m\u001b[38;5;241;43m.\u001b[39;49m\u001b[43m_as_map\u001b[49m\u001b[43m(\u001b[49m\u001b[43mindex\u001b[49m\u001b[43m)\u001b[49m\n\u001b[1;32m     89\u001b[0m     new \u001b[38;5;241m=\u001b[39m \u001b[38;5;28mself\u001b[39m\u001b[38;5;241m.\u001b[39m_mapped(\u001b[38;5;28mmap\u001b[39m)\n\u001b[1;32m     90\u001b[0m     sliced_annots \u001b[38;5;241m=\u001b[39m \u001b[38;5;28mself\u001b[39m\u001b[38;5;241m.\u001b[39m_sliced_annotations(new, \u001b[38;5;28mmap\u001b[39m)\n",
      "File \u001b[0;32m~/opt/miniconda3/envs/c310dev/lib/python3.10/site-packages/cogent3/core/annotation.py:78\u001b[0m, in \u001b[0;36m_Annotatable._as_map\u001b[0;34m(self, index)\u001b[0m\n\u001b[1;32m     76\u001b[0m     base \u001b[38;5;241m=\u001b[39m base\u001b[38;5;241m.\u001b[39mparent\n\u001b[1;32m     77\u001b[0m \u001b[38;5;28;01mif\u001b[39;00m base \u001b[38;5;129;01mis\u001b[39;00m \u001b[38;5;129;01mnot\u001b[39;00m \u001b[38;5;28mself\u001b[39m:\n\u001b[0;32m---> 78\u001b[0m     \u001b[38;5;28;01mraise\u001b[39;00m \u001b[38;5;167;01mValueError\u001b[39;00m(\n\u001b[1;32m     79\u001b[0m         \u001b[38;5;124mf\u001b[39m\u001b[38;5;124m\"\u001b[39m\u001b[38;5;124mCan\u001b[39m\u001b[38;5;124m'\u001b[39m\u001b[38;5;124mt map \u001b[39m\u001b[38;5;132;01m{\u001b[39;00mindex\u001b[38;5;132;01m}\u001b[39;00m\u001b[38;5;124m onto \u001b[39m\u001b[38;5;132;01m{\u001b[39;00m\u001b[38;5;28mrepr\u001b[39m(\u001b[38;5;28mself\u001b[39m)\u001b[38;5;132;01m}\u001b[39;00m\u001b[38;5;124m via \u001b[39m\u001b[38;5;132;01m{\u001b[39;00mcontainers\u001b[38;5;132;01m}\u001b[39;00m\u001b[38;5;124m\"\u001b[39m\n\u001b[1;32m     80\u001b[0m     )\n\u001b[1;32m     81\u001b[0m \u001b[38;5;28;01mfor\u001b[39;00m base \u001b[38;5;129;01min\u001b[39;00m containers:\n\u001b[1;32m     82\u001b[0m     feature \u001b[38;5;241m=\u001b[39m feature\u001b[38;5;241m.\u001b[39mremapped_to(base, base\u001b[38;5;241m.\u001b[39mmap)\n",
      "\u001b[0;31mValueError\u001b[0m: Can't map exon \"A\" at [3:8]/9 onto 2 x 10 alignment: x[-AAACCCCCA], y[TTTT--TTTT] via []"
     ]
    }
   ],
   "source": [
    "aln1[seq_exon]"
   ]
  },
  {
   "cell_type": "code",
   "execution_count": 23,
   "id": "e8322b19",
   "metadata": {
    "execution": {
     "iopub.execute_input": "2022-10-31T00:36:52.595009Z",
     "iopub.status.busy": "2022-10-31T00:36:52.594381Z",
     "iopub.status.idle": "2022-10-31T00:36:52.596568Z",
     "shell.execute_reply": "2022-10-31T00:36:52.596933Z"
    }
   },
   "outputs": [
    {
     "data": {
      "text/plain": [
       "[exon \"A\" at [4:9]/10]"
      ]
     },
     "execution_count": 23,
     "metadata": {},
     "output_type": "execute_result"
    }
   ],
   "source": [
    "aln2 = make_aligned_seqs(\n",
    "    data=[[\"x\", \"-AAAAAAAAA\"], [\"y\", \"TTTT--TTTT\"]], array_align=False\n",
    ")\n",
    "seq = DNA.make_seq(\"CCCCCCCCCCCCCCCCCCCC\", \"x\")\n",
    "match_exon = seq.add_feature(\"exon\", \"A\", [(3, 8)])\n",
    "aln2.get_seq(\"x\").copy_annotations(seq)\n",
    "copied = list(aln2.get_annotations_from_seq(\"x\", \"exon\"))\n",
    "copied"
   ]
  },
  {
   "cell_type": "code",
   "execution_count": 24,
   "id": "21d05b3c",
   "metadata": {
    "execution": {
     "iopub.execute_input": "2022-10-31T00:36:52.602548Z",
     "iopub.status.busy": "2022-10-31T00:36:52.601955Z",
     "iopub.status.idle": "2022-10-31T00:36:52.604244Z",
     "shell.execute_reply": "2022-10-31T00:36:52.604658Z"
    }
   },
   "outputs": [
    {
     "data": {
      "text/html": [
       "<style>\n",
       ".c3align td { border: none !important; text-align: left !important; }\n",
       ".c3align tr:not(.num_row) td span {margin: 0 2px;}\n",
       ".c3align tr:nth-child(even) {background: #f7f7f7;}\n",
       ".c3align .num_row {background-color:rgba(161, 195, 209, 0.5) !important; border-top: solid 1px black; }\n",
       ".c3align .label { font-size: 12pt ; text-align: right !important; color: black !important; padding: 0 4px; display: table-cell !important; font-weight: normal !important; }\n",
       ".c3align .a_text{font-family: \"Lucida Console\",monospace !important; font-size: 12pt !important; color: black; }\n",
       ".c3align .b_text{font-family: \"Lucida Console\",monospace !important; font-size: 12pt !important; color: black; }\n",
       ".c3align .c_text{font-family: \"Lucida Console\",monospace !important; font-size: 12pt !important; color: black; }\n",
       ".c3align .d_text{font-family: \"Lucida Console\",monospace !important; font-size: 12pt !important; color: black; }\n",
       ".c3align .e_text{font-family: \"Lucida Console\",monospace !important; font-size: 12pt !important; color: black; }\n",
       ".c3align .f_text{font-family: \"Lucida Console\",monospace !important; font-size: 12pt !important; color: black; }\n",
       ".c3align .g_text{font-family: \"Lucida Console\",monospace !important; font-size: 12pt !important; color: black; }\n",
       ".c3align .h_text{font-family: \"Lucida Console\",monospace !important; font-size: 12pt !important; color: black; }\n",
       ".c3align .i_text{font-family: \"Lucida Console\",monospace !important; font-size: 12pt !important; color: black; }\n",
       ".c3align .j_text{font-family: \"Lucida Console\",monospace !important; font-size: 12pt !important; color: black; }\n",
       ".c3align .k_text{font-family: \"Lucida Console\",monospace !important; font-size: 12pt !important; color: black; }\n",
       ".c3align .l_text{font-family: \"Lucida Console\",monospace !important; font-size: 12pt !important; color: black; }\n",
       ".c3align .m_text{font-family: \"Lucida Console\",monospace !important; font-size: 12pt !important; color: black; }\n",
       ".c3align .n_text{font-family: \"Lucida Console\",monospace !important; font-size: 12pt !important; color: black; }\n",
       ".c3align .o_text{font-family: \"Lucida Console\",monospace !important; font-size: 12pt !important; color: black; }\n",
       ".c3align .p_text{font-family: \"Lucida Console\",monospace !important; font-size: 12pt !important; color: black; }\n",
       ".c3align .q_text{font-family: \"Lucida Console\",monospace !important; font-size: 12pt !important; color: black; }\n",
       ".c3align .r_text{font-family: \"Lucida Console\",monospace !important; font-size: 12pt !important; color: black; }\n",
       ".c3align .s_text{font-family: \"Lucida Console\",monospace !important; font-size: 12pt !important; color: black; }\n",
       ".c3align .t_text{font-family: \"Lucida Console\",monospace !important; font-size: 12pt !important; color: black; }\n",
       ".c3align .u_text{font-family: \"Lucida Console\",monospace !important; font-size: 12pt !important; color: black; }\n",
       ".c3align .v_text{font-family: \"Lucida Console\",monospace !important; font-size: 12pt !important; color: black; }\n",
       ".c3align .w_text{font-family: \"Lucida Console\",monospace !important; font-size: 12pt !important; color: black; }\n",
       ".c3align .x_text{font-family: \"Lucida Console\",monospace !important; font-size: 12pt !important; color: black; }\n",
       ".c3align .y_text{font-family: \"Lucida Console\",monospace !important; font-size: 12pt !important; color: black; }\n",
       ".c3align .z_text{font-family: \"Lucida Console\",monospace !important; font-size: 12pt !important; color: black; }\n",
       ".c3align .A_text{font-family: \"Lucida Console\",monospace !important; font-size: 12pt !important; color: black; }\n",
       ".c3align .B_text{font-family: \"Lucida Console\",monospace !important; font-size: 12pt !important; color: black; }\n",
       ".c3align .C_text{font-family: \"Lucida Console\",monospace !important; font-size: 12pt !important; color: black; }\n",
       ".c3align .D_text{font-family: \"Lucida Console\",monospace !important; font-size: 12pt !important; color: black; }\n",
       ".c3align .E_text{font-family: \"Lucida Console\",monospace !important; font-size: 12pt !important; color: black; }\n",
       ".c3align .F_text{font-family: \"Lucida Console\",monospace !important; font-size: 12pt !important; color: black; }\n",
       ".c3align .G_text{font-family: \"Lucida Console\",monospace !important; font-size: 12pt !important; color: black; }\n",
       ".c3align .H_text{font-family: \"Lucida Console\",monospace !important; font-size: 12pt !important; color: black; }\n",
       ".c3align .I_text{font-family: \"Lucida Console\",monospace !important; font-size: 12pt !important; color: black; }\n",
       ".c3align .J_text{font-family: \"Lucida Console\",monospace !important; font-size: 12pt !important; color: black; }\n",
       ".c3align .K_text{font-family: \"Lucida Console\",monospace !important; font-size: 12pt !important; color: black; }\n",
       ".c3align .L_text{font-family: \"Lucida Console\",monospace !important; font-size: 12pt !important; color: black; }\n",
       ".c3align .M_text{font-family: \"Lucida Console\",monospace !important; font-size: 12pt !important; color: black; }\n",
       ".c3align .N_text{font-family: \"Lucida Console\",monospace !important; font-size: 12pt !important; color: black; }\n",
       ".c3align .O_text{font-family: \"Lucida Console\",monospace !important; font-size: 12pt !important; color: black; }\n",
       ".c3align .P_text{font-family: \"Lucida Console\",monospace !important; font-size: 12pt !important; color: black; }\n",
       ".c3align .Q_text{font-family: \"Lucida Console\",monospace !important; font-size: 12pt !important; color: black; }\n",
       ".c3align .R_text{font-family: \"Lucida Console\",monospace !important; font-size: 12pt !important; color: black; }\n",
       ".c3align .S_text{font-family: \"Lucida Console\",monospace !important; font-size: 12pt !important; color: black; }\n",
       ".c3align .T_text{font-family: \"Lucida Console\",monospace !important; font-size: 12pt !important; color: black; }\n",
       ".c3align .U_text{font-family: \"Lucida Console\",monospace !important; font-size: 12pt !important; color: black; }\n",
       ".c3align .V_text{font-family: \"Lucida Console\",monospace !important; font-size: 12pt !important; color: black; }\n",
       ".c3align .W_text{font-family: \"Lucida Console\",monospace !important; font-size: 12pt !important; color: black; }\n",
       ".c3align .X_text{font-family: \"Lucida Console\",monospace !important; font-size: 12pt !important; color: black; }\n",
       ".c3align .Y_text{font-family: \"Lucida Console\",monospace !important; font-size: 12pt !important; color: black; }\n",
       ".c3align .Z_text{font-family: \"Lucida Console\",monospace !important; font-size: 12pt !important; color: black; }\n",
       ".c3align .terminal_ambig_text{font-family: \"Lucida Console\",monospace !important; font-size: 12pt !important; color: black; }\n",
       ".c3align .ambig_text{font-family: \"Lucida Console\",monospace !important; font-size: 12pt !important; color: black; }\n",
       "</style>\n",
       "<div class=\"c3align\">\n",
       "<table>\n",
       "<tr class=\"num_row\"><td></td><td><b>0</b></td></tr>\n",
       "<tr><td class=\"label\">x</td><td><span class=\"terminal_ambig_text\">-</span><span class=\"terminal_ambig_text\">-</span><span class=\"terminal_ambig_text\">-</span><span class=\"terminal_ambig_text\">-</span></td></tr>\n",
       "<tr><td class=\"label\">y</td><td><span class=\"terminal_ambig_text\">.</span><span class=\"terminal_ambig_text\">.</span><span class=\"terminal_ambig_text\">.</span><span class=\"terminal_ambig_text\">.</span></td></tr>\n",
       "</table>\n",
       "<p><i>2 x 4 text alignment</i></p>\n",
       "</div>"
      ],
      "text/plain": [
       "2 x 4 alignment: x[----], y[----]"
      ]
     },
     "execution_count": 24,
     "metadata": {},
     "output_type": "execute_result"
    }
   ],
   "source": [
    "aln2 = make_aligned_seqs(data=[[\"x\", \"-AAAA\"], [\"y\", \"TTTTT\"]], array_align=False)\n",
    "seq = DNA.make_seq(\"CCCCCCCCCCCCCCCCCCCC\", \"x\")\n",
    "match_exon = seq.add_feature(\"exon\", \"A\", [(5, 8)])\n",
    "aln2.get_seq(\"x\").copy_annotations(seq)\n",
    "copied = list(aln2.get_annotations_from_seq(\"x\", \"exon\"))\n",
    "copied\n",
    "copied[0].get_slice()"
   ]
  },
  {
   "cell_type": "code",
   "execution_count": 25,
   "id": "9b57addd",
   "metadata": {
    "execution": {
     "iopub.execute_input": "2022-10-31T00:36:52.609087Z",
     "iopub.status.busy": "2022-10-31T00:36:52.608577Z",
     "iopub.status.idle": "2022-10-31T00:36:52.610999Z",
     "shell.execute_reply": "2022-10-31T00:36:52.610548Z"
    }
   },
   "outputs": [
    {
     "data": {
      "text/plain": [
       "[exon \"A\" at [7:10]/10]"
      ]
     },
     "execution_count": 25,
     "metadata": {},
     "output_type": "execute_result"
    }
   ],
   "source": [
    "# new test\n",
    "aln2 = make_aligned_seqs(\n",
    "    data=[[\"x\", \"-AAAAAAAAA\"], [\"y\", \"TTTT--TTTT\"]], array_align=False\n",
    ")\n",
    "seq = DNA.make_seq(\"CCCCCCCCCCCCCCCCCCCC\", \"x\")\n",
    "match_exon = seq.add_feature(\"exon\", \"A\", [(5, 8)])\n",
    "aln2.get_seq(\"y\").copy_annotations(seq)\n",
    "copied = list(aln2.get_annotations_from_seq(\"y\", \"exon\"))\n",
    "copied"
   ]
  },
  {
   "cell_type": "code",
   "execution_count": 26,
   "id": "496fc333",
   "metadata": {
    "execution": {
     "iopub.execute_input": "2022-10-31T00:36:52.615009Z",
     "iopub.status.busy": "2022-10-31T00:36:52.614466Z",
     "iopub.status.idle": "2022-10-31T00:36:52.617036Z",
     "shell.execute_reply": "2022-10-31T00:36:52.616714Z"
    }
   },
   "outputs": [
    {
     "data": {
      "text/plain": [
       "[repeat \"A\" at [10:10, -6-]/10]"
      ]
     },
     "execution_count": 26,
     "metadata": {},
     "output_type": "execute_result"
    }
   ],
   "source": [
    "aln2 = make_aligned_seqs(\n",
    "    data=[[\"x\", \"-AAAAAAAAA\"], [\"y\", \"TTTT--TTTT\"]], array_align=False\n",
    ")\n",
    "diff_len_seq = DNA.make_seq(\"CCCCCCCCCCCCCCCCCCCCCCCCCCCC\", \"x\")\n",
    "nonmatch = diff_len_seq.add_feature(\"repeat\", \"A\", [(12, 14)])\n",
    "aln2.get_seq(\"y\").copy_annotations(diff_len_seq)\n",
    "copied = list(aln2.get_annotations_from_seq(\"y\", \"repeat\"))\n",
    "copied"
   ]
  },
  {
   "cell_type": "code",
   "execution_count": 27,
   "id": "a325591e",
   "metadata": {
    "execution": {
     "iopub.execute_input": "2022-10-31T00:36:52.619979Z",
     "iopub.status.busy": "2022-10-31T00:36:52.619513Z",
     "iopub.status.idle": "2022-10-31T00:36:52.622272Z",
     "shell.execute_reply": "2022-10-31T00:36:52.622613Z"
    }
   },
   "outputs": [
    {
     "name": "stdout",
     "output_type": "stream",
     "text": [
      ">x\n",
      "CCCCC\n",
      ">y\n",
      "--TTT\n",
      "\n"
     ]
    }
   ],
   "source": [
    "aln_exon = aln1.get_annotations_from_any_seq(\"exon\")\n",
    "print(aln1[aln_exon])"
   ]
  },
  {
   "cell_type": "code",
   "execution_count": 28,
   "id": "4d99d772",
   "metadata": {
    "execution": {
     "iopub.execute_input": "2022-10-31T00:36:52.661759Z",
     "iopub.status.busy": "2022-10-31T00:36:52.642546Z",
     "iopub.status.idle": "2022-10-31T00:36:52.664651Z",
     "shell.execute_reply": "2022-10-31T00:36:52.664998Z"
    }
   },
   "outputs": [
    {
     "name": "stdout",
     "output_type": "stream",
     "text": [
      "CGCG\n"
     ]
    },
    {
     "ename": "ValueError",
     "evalue": "Can't map cpgsite \"cpg\" at [0:2]/10 onto DnaSequence(CGAAACGTTT) via []",
     "output_type": "error",
     "traceback": [
      "\u001b[0;31m---------------------------------------------------------------------------\u001b[0m",
      "\u001b[0;31mValueError\u001b[0m                                Traceback (most recent call last)",
      "Input \u001b[0;32mIn [28]\u001b[0m, in \u001b[0;36m<module>\u001b[0;34m\u001b[0m\n\u001b[1;32m      2\u001b[0m \u001b[38;5;28mprint\u001b[39m(s2[cpgsite2])\n\u001b[1;32m      3\u001b[0m cpgsite3 \u001b[38;5;241m=\u001b[39m s3\u001b[38;5;241m.\u001b[39mget_annotations_matching(\u001b[38;5;124m\"\u001b[39m\u001b[38;5;124mcpgsite\u001b[39m\u001b[38;5;124m\"\u001b[39m)\n\u001b[0;32m----> 4\u001b[0m \u001b[43ms2\u001b[49m\u001b[43m[\u001b[49m\u001b[43mcpgsite3\u001b[49m\u001b[43m]\u001b[49m\n",
      "File \u001b[0;32m~/opt/miniconda3/envs/c310dev/lib/python3.10/site-packages/cogent3/core/annotation.py:88\u001b[0m, in \u001b[0;36m_Annotatable.__getitem__\u001b[0;34m(self, index)\u001b[0m\n\u001b[1;32m     87\u001b[0m \u001b[38;5;28;01mdef\u001b[39;00m \u001b[38;5;21m__getitem__\u001b[39m(\u001b[38;5;28mself\u001b[39m, index):\n\u001b[0;32m---> 88\u001b[0m     \u001b[38;5;28mmap\u001b[39m \u001b[38;5;241m=\u001b[39m \u001b[38;5;28;43mself\u001b[39;49m\u001b[38;5;241;43m.\u001b[39;49m\u001b[43m_as_map\u001b[49m\u001b[43m(\u001b[49m\u001b[43mindex\u001b[49m\u001b[43m)\u001b[49m\n\u001b[1;32m     89\u001b[0m     new \u001b[38;5;241m=\u001b[39m \u001b[38;5;28mself\u001b[39m\u001b[38;5;241m.\u001b[39m_mapped(\u001b[38;5;28mmap\u001b[39m)\n\u001b[1;32m     90\u001b[0m     sliced_annots \u001b[38;5;241m=\u001b[39m \u001b[38;5;28mself\u001b[39m\u001b[38;5;241m.\u001b[39m_sliced_annotations(new, \u001b[38;5;28mmap\u001b[39m)\n",
      "File \u001b[0;32m~/opt/miniconda3/envs/c310dev/lib/python3.10/site-packages/cogent3/core/annotation.py:67\u001b[0m, in \u001b[0;36m_Annotatable._as_map\u001b[0;34m(self, index)\u001b[0m\n\u001b[1;32m     65\u001b[0m     spans \u001b[38;5;241m=\u001b[39m []\n\u001b[1;32m     66\u001b[0m     \u001b[38;5;28;01mfor\u001b[39;00m i \u001b[38;5;129;01min\u001b[39;00m index:\n\u001b[0;32m---> 67\u001b[0m         spans\u001b[38;5;241m.\u001b[39mextend(\u001b[38;5;28;43mself\u001b[39;49m\u001b[38;5;241;43m.\u001b[39;49m\u001b[43m_as_map\u001b[49m\u001b[43m(\u001b[49m\u001b[43mi\u001b[49m\u001b[43m)\u001b[49m\u001b[38;5;241m.\u001b[39mspans)\n\u001b[1;32m     68\u001b[0m     \u001b[38;5;28mmap\u001b[39m \u001b[38;5;241m=\u001b[39m Map(spans\u001b[38;5;241m=\u001b[39mspans, parent_length\u001b[38;5;241m=\u001b[39m\u001b[38;5;28mlen\u001b[39m(\u001b[38;5;28mself\u001b[39m))\n\u001b[1;32m     69\u001b[0m \u001b[38;5;28;01melif\u001b[39;00m \u001b[38;5;28misinstance\u001b[39m(index, _Feature):\n",
      "File \u001b[0;32m~/opt/miniconda3/envs/c310dev/lib/python3.10/site-packages/cogent3/core/annotation.py:78\u001b[0m, in \u001b[0;36m_Annotatable._as_map\u001b[0;34m(self, index)\u001b[0m\n\u001b[1;32m     76\u001b[0m     base \u001b[38;5;241m=\u001b[39m base\u001b[38;5;241m.\u001b[39mparent\n\u001b[1;32m     77\u001b[0m \u001b[38;5;28;01mif\u001b[39;00m base \u001b[38;5;129;01mis\u001b[39;00m \u001b[38;5;129;01mnot\u001b[39;00m \u001b[38;5;28mself\u001b[39m:\n\u001b[0;32m---> 78\u001b[0m     \u001b[38;5;28;01mraise\u001b[39;00m \u001b[38;5;167;01mValueError\u001b[39;00m(\n\u001b[1;32m     79\u001b[0m         \u001b[38;5;124mf\u001b[39m\u001b[38;5;124m\"\u001b[39m\u001b[38;5;124mCan\u001b[39m\u001b[38;5;124m'\u001b[39m\u001b[38;5;124mt map \u001b[39m\u001b[38;5;132;01m{\u001b[39;00mindex\u001b[38;5;132;01m}\u001b[39;00m\u001b[38;5;124m onto \u001b[39m\u001b[38;5;132;01m{\u001b[39;00m\u001b[38;5;28mrepr\u001b[39m(\u001b[38;5;28mself\u001b[39m)\u001b[38;5;132;01m}\u001b[39;00m\u001b[38;5;124m via \u001b[39m\u001b[38;5;132;01m{\u001b[39;00mcontainers\u001b[38;5;132;01m}\u001b[39;00m\u001b[38;5;124m\"\u001b[39m\n\u001b[1;32m     80\u001b[0m     )\n\u001b[1;32m     81\u001b[0m \u001b[38;5;28;01mfor\u001b[39;00m base \u001b[38;5;129;01min\u001b[39;00m containers:\n\u001b[1;32m     82\u001b[0m     feature \u001b[38;5;241m=\u001b[39m feature\u001b[38;5;241m.\u001b[39mremapped_to(base, base\u001b[38;5;241m.\u001b[39mmap)\n",
      "\u001b[0;31mValueError\u001b[0m: Can't map cpgsite \"cpg\" at [0:2]/10 onto DnaSequence(CGAAACGTTT) via []"
     ]
    }
   ],
   "source": [
    "cpgsite2 = s2.get_annotations_matching(\"cpgsite\")\n",
    "print(s2[cpgsite2])\n",
    "cpgsite3 = s3.get_annotations_matching(\"cpgsite\")\n",
    "s2[cpgsite3]"
   ]
  },
  {
   "cell_type": "code",
   "execution_count": 29,
   "id": "3c0113f4",
   "metadata": {
    "execution": {
     "iopub.execute_input": "2022-10-31T00:36:52.668711Z",
     "iopub.status.busy": "2022-10-31T00:36:52.668000Z",
     "iopub.status.idle": "2022-10-31T00:36:52.670301Z",
     "shell.execute_reply": "2022-10-31T00:36:52.670695Z"
    }
   },
   "outputs": [
    {
     "data": {
      "text/html": [
       "<style>\n",
       ".c3seq td { border: none !important; text-align: left !important; }\n",
       ".c3seq tr:not(.num_row) td span {margin: 0 2px;}\n",
       ".c3seq tr:nth-child(even) {background: #f7f7f7;}\n",
       ".c3seq .num_row {background-color:rgba(161, 195, 209, 0.5) !important; border-top: solid 1px black; }\n",
       ".c3seq .label { font-size: 12pt ; text-align: right !important; color: black !important; padding: 0 4px; }\n",
       ".c3seq .T_dna{font-family: \"Lucida Console\",monospace !important; font-size: 12pt !important; color: blue; }\n",
       ".c3seq .C_dna{font-family: \"Lucida Console\",monospace !important; font-size: 12pt !important; color: black; }\n",
       ".c3seq .A_dna{font-family: \"Lucida Console\",monospace !important; font-size: 12pt !important; color: #FF0102; }\n",
       ".c3seq .G_dna{font-family: \"Lucida Console\",monospace !important; font-size: 12pt !important; color: green; }\n",
       ".c3seq .terminal_ambig_dna{font-family: \"Lucida Console\",monospace !important; font-size: 12pt !important; color: gray; }\n",
       ".c3seq .ambig_dna{font-family: \"Lucida Console\",monospace !important; font-size: 12pt !important; color: gray; }\n",
       "</style>\n",
       "<div class=\"c3seq\">\n",
       "<table>\n",
       "</table>\n",
       "<p><i>0 DnaSequence</i></p>\n",
       "</div>"
      ],
      "text/plain": [
       "DnaSequence()"
      ]
     },
     "execution_count": 29,
     "metadata": {},
     "output_type": "execute_result"
    }
   ],
   "source": [
    "# this test is new\n",
    "dont_exist = s2.get_annotations_matching(\"dont_exist\")\n",
    "dont_exist\n",
    "s2[dont_exist]"
   ]
  },
  {
   "cell_type": "code",
   "execution_count": 30,
   "id": "014574f0",
   "metadata": {
    "execution": {
     "iopub.execute_input": "2022-10-31T00:36:52.675003Z",
     "iopub.status.busy": "2022-10-31T00:36:52.674432Z",
     "iopub.status.idle": "2022-10-31T00:36:52.676435Z",
     "shell.execute_reply": "2022-10-31T00:36:52.676975Z"
    }
   },
   "outputs": [
    {
     "name": "stdout",
     "output_type": "stream",
     "text": [
      "CCCC\n",
      "[exon \"ex1\" at [0:1, 2:5]/10]\n",
      ">x\n",
      "CCCC\n",
      ">y\n",
      "----\n",
      "\n"
     ]
    }
   ],
   "source": [
    "aln3 = make_aligned_seqs(\n",
    "    data=[[\"x\", \"C-CCCAAAAA\"], [\"y\", \"-T----TTTT\"]], array_align=False\n",
    ")\n",
    "exon = aln3.get_seq(\"x\").add_feature(\"exon\", \"ex1\", [(0, 4)])\n",
    "print(exon.get_slice())\n",
    "aln_exons = list(aln3.get_annotations_from_seq(\"x\", \"exon\"))\n",
    "print(aln_exons)\n",
    "print(aln3[aln_exons])"
   ]
  },
  {
   "cell_type": "code",
   "execution_count": 31,
   "id": "ebc0e775",
   "metadata": {
    "execution": {
     "iopub.execute_input": "2022-10-31T00:36:52.680300Z",
     "iopub.status.busy": "2022-10-31T00:36:52.679692Z",
     "iopub.status.idle": "2022-10-31T00:36:52.681644Z",
     "shell.execute_reply": "2022-10-31T00:36:52.682104Z"
    }
   },
   "outputs": [
    {
     "name": "stdout",
     "output_type": "stream",
     "text": [
      ">x\n",
      "C-CCC\n",
      ">y\n",
      "-T---\n",
      "\n"
     ]
    }
   ],
   "source": [
    "unified = aln_exons[0].as_one_span()\n",
    "print(aln3[unified])"
   ]
  },
  {
   "cell_type": "code",
   "execution_count": 32,
   "id": "a3173d45",
   "metadata": {
    "execution": {
     "iopub.execute_input": "2022-10-31T00:36:52.686337Z",
     "iopub.status.busy": "2022-10-31T00:36:52.685805Z",
     "iopub.status.idle": "2022-10-31T00:36:52.687576Z",
     "shell.execute_reply": "2022-10-31T00:36:52.688120Z"
    }
   },
   "outputs": [
    {
     "name": "stdout",
     "output_type": "stream",
     "text": [
      "AAAAAAAAAAAAA\n",
      "CCTTTAAAAAAAAAATTTTTTTTTTGGGGG\n",
      "AAAAAAAAAAAAA\n"
     ]
    }
   ],
   "source": [
    "plus = DNA.make_seq(\"CCCCCAAAAAAAAAATTTTTTTTTTAAAGG\")\n",
    "plus_rpt = plus.add_feature(\"blah\", \"a\", [(5, 15), (25, 28)])\n",
    "print(plus[plus_rpt])\n",
    "minus = plus.rc()\n",
    "print(minus)\n",
    "minus_rpt = minus.get_annotations_matching(\"blah\")\n",
    "print(minus[minus_rpt])"
   ]
  },
  {
   "cell_type": "code",
   "execution_count": 33,
   "id": "9e3bb418",
   "metadata": {
    "execution": {
     "iopub.execute_input": "2022-10-31T00:36:52.691484Z",
     "iopub.status.busy": "2022-10-31T00:36:52.690951Z",
     "iopub.status.idle": "2022-10-31T00:36:52.695913Z",
     "shell.execute_reply": "2022-10-31T00:36:52.696296Z"
    }
   },
   "outputs": [
    {
     "name": "stdout",
     "output_type": "stream",
     "text": [
      "CAAGACAGACAAATAAAAATGACAGAGTACACAACATCC??????????????????????????????????????????????????????????????????CGCGTACAGGAAACACAGAAAAAAGCCCGCACCTGAACAGTGCGGGCTTTTTTTTCGACCAGAGATCACGAGGTAACAACC????????????????????????????????????????????????????????????????\n"
     ]
    }
   ],
   "source": [
    "from cogent3.parse.genbank import RichGenbankParser\n",
    "\n",
    "parser = RichGenbankParser(open(\"data/ST_genome_part.gb\"))\n",
    "seq = [seq for accession, seq in parser][0]\n",
    "no_cds = seq.with_masked_annotations(\"CDS\")\n",
    "print(no_cds[150:400])"
   ]
  },
  {
   "cell_type": "code",
   "execution_count": 34,
   "id": "523acbc9",
   "metadata": {
    "execution": {
     "iopub.execute_input": "2022-10-31T00:36:52.700429Z",
     "iopub.status.busy": "2022-10-31T00:36:52.699904Z",
     "iopub.status.idle": "2022-10-31T00:36:52.701552Z",
     "shell.execute_reply": "2022-10-31T00:36:52.702026Z"
    }
   },
   "outputs": [
    {
     "name": "stdout",
     "output_type": "stream",
     "text": [
      ">x\n",
      "?-???AAAAAGGGAA\n",
      ">y\n",
      "-T----TTTTG-GTT\n",
      "\n"
     ]
    }
   ],
   "source": [
    "from cogent3 import make_aligned_seqs\n",
    "\n",
    "aln = make_aligned_seqs(\n",
    "    data=[[\"x\", \"C-CCCAAAAAGGGAA\"], [\"y\", \"-T----TTTTG-GTT\"]],\n",
    "    moltype=\"dna\",\n",
    "    array_align=False,\n",
    ")\n",
    "exon = aln.get_seq(\"x\").add_feature(\"exon\", \"norwegian\", [(0, 4)])\n",
    "print(aln.with_masked_annotations(\"exon\", mask_char=\"?\"))"
   ]
  },
  {
   "cell_type": "code",
   "execution_count": 35,
   "id": "50c3a0af",
   "metadata": {
    "execution": {
     "iopub.execute_input": "2022-10-31T00:36:52.705212Z",
     "iopub.status.busy": "2022-10-31T00:36:52.704658Z",
     "iopub.status.idle": "2022-10-31T00:36:52.706491Z",
     "shell.execute_reply": "2022-10-31T00:36:52.706863Z"
    }
   },
   "outputs": [
    {
     "name": "stdout",
     "output_type": "stream",
     "text": [
      ">x\n",
      "TTCCCTTTTTGGG-G\n",
      ">y\n",
      "AAC-CAAAA----A-\n",
      "\n",
      ">x\n",
      "TTCCCTTTTT???-?\n",
      ">y\n",
      "AAC-CAAAA----A-\n",
      "\n"
     ]
    }
   ],
   "source": [
    "rc = aln.rc()\n",
    "print(rc)\n",
    "print(rc.with_masked_annotations(\"exon\", mask_char=\"?\"))"
   ]
  },
  {
   "cell_type": "code",
   "execution_count": 36,
   "id": "187b25f6",
   "metadata": {
    "execution": {
     "iopub.execute_input": "2022-10-31T00:36:52.711014Z",
     "iopub.status.busy": "2022-10-31T00:36:52.710496Z",
     "iopub.status.idle": "2022-10-31T00:36:52.712384Z",
     "shell.execute_reply": "2022-10-31T00:36:52.712690Z"
    }
   },
   "outputs": [
    {
     "name": "stdout",
     "output_type": "stream",
     "text": [
      "CCCC??????????\n",
      "??????????GGGG\n",
      "CCCC?????GGG??\n",
      "??CCC?????GGGG\n"
     ]
    }
   ],
   "source": [
    "from cogent3 import DNA\n",
    "\n",
    "s = DNA.make_seq(\"CCCCAAAAAGGGAA\", \"x\")\n",
    "exon = s.add_feature(\"exon\", \"norwegian\", [(0, 4)])\n",
    "rpt = s.add_feature(\"repeat\", \"norwegian\", [(9, 12)])\n",
    "rc = s.rc()\n",
    "print(s.with_masked_annotations(\"exon\", shadow=True))\n",
    "print(rc.with_masked_annotations(\"exon\", shadow=True))\n",
    "print(s.with_masked_annotations([\"exon\", \"repeat\"], shadow=True))\n",
    "print(rc.with_masked_annotations([\"exon\", \"repeat\"], shadow=True))"
   ]
  },
  {
   "cell_type": "code",
   "execution_count": 37,
   "id": "31e291b2",
   "metadata": {
    "execution": {
     "iopub.execute_input": "2022-10-31T00:36:52.716679Z",
     "iopub.status.busy": "2022-10-31T00:36:52.716139Z",
     "iopub.status.idle": "2022-10-31T00:36:52.718666Z",
     "shell.execute_reply": "2022-10-31T00:36:52.719037Z"
    }
   },
   "outputs": [
    {
     "data": {
      "text/plain": [
       "[cds \"cds1\" at [0:12]/27, cds \"cds2\" at [15:24]/27]"
      ]
     },
     "execution_count": 37,
     "metadata": {},
     "output_type": "execute_result"
    }
   ],
   "source": [
    "from cogent3 import DNA\n",
    "\n",
    "s = DNA.make_seq(\"ATGACCCTGTAAAAAATGTGTTAACCC\", name=\"a\")\n",
    "cds1 = s.add_feature(\"cds\", \"cds1\", [(0, 12)])\n",
    "cds2 = s.add_feature(\"cds\", \"cds2\", [(15, 24)])\n",
    "all_cds = s.get_annotations_matching(\"cds\")\n",
    "all_cds"
   ]
  },
  {
   "cell_type": "code",
   "execution_count": 38,
   "id": "65806919",
   "metadata": {
    "execution": {
     "iopub.execute_input": "2022-10-31T00:36:52.722224Z",
     "iopub.status.busy": "2022-10-31T00:36:52.721766Z",
     "iopub.status.idle": "2022-10-31T00:36:52.728216Z",
     "shell.execute_reply": "2022-10-31T00:36:52.728590Z"
    }
   },
   "outputs": [
    {
     "data": {
      "text/html": [
       "<style>\n",
       ".c3seq td { border: none !important; text-align: left !important; }\n",
       ".c3seq tr:not(.num_row) td span {margin: 0 2px;}\n",
       ".c3seq tr:nth-child(even) {background: #f7f7f7;}\n",
       ".c3seq .num_row {background-color:rgba(161, 195, 209, 0.5) !important; border-top: solid 1px black; }\n",
       ".c3seq .label { font-size: 12pt ; text-align: right !important; color: black !important; padding: 0 4px; }\n",
       ".c3seq .T_dna{font-family: \"Lucida Console\",monospace !important; font-size: 12pt !important; color: blue; }\n",
       ".c3seq .C_dna{font-family: \"Lucida Console\",monospace !important; font-size: 12pt !important; color: black; }\n",
       ".c3seq .A_dna{font-family: \"Lucida Console\",monospace !important; font-size: 12pt !important; color: #FF0102; }\n",
       ".c3seq .G_dna{font-family: \"Lucida Console\",monospace !important; font-size: 12pt !important; color: green; }\n",
       ".c3seq .terminal_ambig_dna{font-family: \"Lucida Console\",monospace !important; font-size: 12pt !important; color: gray; }\n",
       ".c3seq .ambig_dna{font-family: \"Lucida Console\",monospace !important; font-size: 12pt !important; color: gray; }\n",
       "</style>\n",
       "<div class=\"c3seq\">\n",
       "<table>\n",
       "<tr class=\"num_row\"><td></td><td><b>0</b></td></tr>\n",
       "<tr><td class=\"label\">AE006468</td><td><span class=\"A_dna\">A</span><span class=\"G_dna\">G</span><span class=\"A_dna\">A</span><span class=\"G_dna\">G</span><span class=\"A_dna\">A</span><span class=\"T_dna\">T</span><span class=\"T_dna\">T</span><span class=\"A_dna\">A</span><span class=\"C_dna\">C</span><span class=\"G_dna\">G</span><span class=\"T_dna\">T</span><span class=\"C_dna\">C</span><span class=\"T_dna\">T</span><span class=\"G_dna\">G</span><span class=\"G_dna\">G</span><span class=\"T_dna\">T</span><span class=\"T_dna\">T</span><span class=\"G_dna\">G</span><span class=\"C_dna\">C</span><span class=\"A_dna\">A</span><span class=\"A_dna\">A</span><span class=\"G_dna\">G</span><span class=\"A_dna\">A</span><span class=\"G_dna\">G</span><span class=\"A_dna\">A</span><span class=\"T_dna\">T</span><span class=\"C_dna\">C</span><span class=\"A_dna\">A</span><span class=\"T_dna\">T</span><span class=\"G_dna\">G</span><span class=\"A_dna\">A</span><span class=\"C_dna\">C</span><span class=\"A_dna\">A</span><span class=\"G_dna\">G</span><span class=\"G_dna\">G</span><span class=\"G_dna\">G</span><span class=\"G_dna\">G</span><span class=\"G_dna\">G</span><span class=\"A_dna\">A</span><span class=\"A_dna\">A</span><span class=\"T_dna\">T</span><span class=\"T_dna\">T</span><span class=\"G_dna\">G</span><span class=\"G_dna\">G</span><span class=\"T_dna\">T</span><span class=\"T_dna\">T</span><span class=\"G_dna\">G</span><span class=\"A_dna\">A</span><span class=\"A_dna\">A</span><span class=\"A_dna\">A</span><span class=\"A_dna\">A</span><span class=\"T_dna\">T</span><span class=\"A_dna\">A</span><span class=\"A_dna\">A</span><span class=\"A_dna\">A</span><span class=\"T_dna\">T</span><span class=\"A_dna\">A</span><span class=\"T_dna\">T</span><span class=\"A_dna\">A</span><span class=\"T_dna\">T</span></td></tr>\n",
       "</table>\n",
       "<p><i>957 (truncated to 60) DnaSequence</i></p>\n",
       "</div>"
      ],
      "text/plain": [
       "DnaSequence(AGAGATT... 957)"
      ]
     },
     "execution_count": 38,
     "metadata": {},
     "output_type": "execute_result"
    }
   ],
   "source": [
    "from cogent3.parse.genbank import RichGenbankParser\n",
    "\n",
    "parser = RichGenbankParser(open(\"data/ST_genome_part.gb\"))\n",
    "seq = [seq for accession, seq in parser][0]\n",
    "all_cds = seq.get_annotations_matching(\"CDS\")\n",
    "coding_seqs = seq.get_region_covering_all(all_cds)\n",
    "coding_seqs\n",
    "coding_seqs.get_slice()\n",
    "noncoding_seqs = coding_seqs.get_shadow()\n",
    "noncoding_seqs\n",
    "noncoding_seqs.get_slice()"
   ]
  },
  {
   "cell_type": "code",
   "execution_count": 39,
   "id": "3c171e1f",
   "metadata": {
    "execution": {
     "iopub.execute_input": "2022-10-31T00:36:52.732448Z",
     "iopub.status.busy": "2022-10-31T00:36:52.731433Z",
     "iopub.status.idle": "2022-10-31T00:36:52.734706Z",
     "shell.execute_reply": "2022-10-31T00:36:52.735017Z"
    }
   },
   "outputs": [
    {
     "name": "stdout",
     "output_type": "stream",
     "text": [
      ">x\n",
      "-AAAAAAAAA\n",
      ">y\n",
      "TTTT--TTTT\n",
      "\n"
     ]
    },
    {
     "data": {
      "text/plain": [
       "[exon \"1\" at [4:9]/10]"
      ]
     },
     "execution_count": 39,
     "metadata": {},
     "output_type": "execute_result"
    }
   ],
   "source": [
    "from cogent3 import make_aligned_seqs\n",
    "\n",
    "aln = make_aligned_seqs(\n",
    "    data=[[\"x\", \"-AAAAAAAAA\"], [\"y\", \"TTTT--TTTT\"]], array_align=False\n",
    ")\n",
    "print(aln)\n",
    "exon = aln.get_seq(\"x\").add_feature(\"exon\", \"1\", [(3, 8)])\n",
    "aln_exons = aln.get_annotations_from_seq(\"x\", \"exon\")\n",
    "aln_exons = aln.get_annotations_from_any_seq(\"exon\")\n",
    "aln_exons"
   ]
  },
  {
   "cell_type": "code",
   "execution_count": 40,
   "id": "dc9a8e3a",
   "metadata": {
    "execution": {
     "iopub.execute_input": "2022-10-31T00:36:52.738108Z",
     "iopub.status.busy": "2022-10-31T00:36:52.737659Z",
     "iopub.status.idle": "2022-10-31T00:36:52.739164Z",
     "shell.execute_reply": "2022-10-31T00:36:52.739529Z"
    }
   },
   "outputs": [],
   "source": [
    "from cogent3 import DNA\n",
    "\n",
    "seq = DNA.make_seq(\"aaaccggttt\" * 10)\n",
    "v = seq.add_feature(\"exon\", \"exon\", [(20, 35)])\n",
    "v = seq.add_feature(\"repeat_unit\", \"repeat_unit\", [(39, 49)])\n",
    "v = seq.add_feature(\"repeat_unit\", \"rep2\", [(49, 60)])"
   ]
  },
  {
   "cell_type": "code",
   "execution_count": 41,
   "id": "56ea6e3a",
   "metadata": {
    "execution": {
     "iopub.execute_input": "2022-10-31T00:36:52.742197Z",
     "iopub.status.busy": "2022-10-31T00:36:52.741708Z",
     "iopub.status.idle": "2022-10-31T00:36:52.743591Z",
     "shell.execute_reply": "2022-10-31T00:36:52.743901Z"
    }
   },
   "outputs": [],
   "source": [
    "from cogent3.util.io import remove_files\n",
    "\n",
    "remove_files([\"annotated_%d.png\" % i for i in range(1, 4)], error_on_missing=False)"
   ]
  }
 ],
 "metadata": {
  "kernelspec": {
   "display_name": "Python 3 (ipykernel)",
   "language": "python",
   "name": "python3"
  },
  "language_info": {
   "codemirror_mode": {
    "name": "ipython",
    "version": 3
   },
   "file_extension": ".py",
   "mimetype": "text/x-python",
   "name": "python",
   "nbconvert_exporter": "python",
   "pygments_lexer": "ipython3",
   "version": "3.10.0"
  }
 },
 "nbformat": 4,
 "nbformat_minor": 5
}