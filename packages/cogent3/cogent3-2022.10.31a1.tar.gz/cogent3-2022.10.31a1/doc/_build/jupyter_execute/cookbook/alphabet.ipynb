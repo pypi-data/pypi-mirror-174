{
 "cells": [
  {
   "cell_type": "code",
   "execution_count": 1,
   "id": "9dead2b3",
   "metadata": {
    "execution": {
     "iopub.execute_input": "2022-10-31T00:36:44.100869Z",
     "iopub.status.busy": "2022-10-31T00:36:44.100186Z",
     "iopub.status.idle": "2022-10-31T00:36:45.361565Z",
     "shell.execute_reply": "2022-10-31T00:36:45.361056Z"
    }
   },
   "outputs": [
    {
     "name": "stdout",
     "output_type": "stream",
     "text": [
      "('T', 'C', 'A', 'G')\n",
      "('A', 'C', 'D', 'E', 'F', 'G', 'H', 'I', 'K', 'L', 'M', 'N', 'P', 'Q', 'R', 'S', 'T', 'U', 'V', 'W', 'Y')\n"
     ]
    }
   ],
   "source": [
    "from cogent3 import DNA, PROTEIN\n",
    "\n",
    "print(DNA.alphabet)\n",
    "print(PROTEIN.alphabet)"
   ]
  },
  {
   "cell_type": "code",
   "execution_count": 2,
   "id": "7bfed6ec",
   "metadata": {
    "execution": {
     "iopub.execute_input": "2022-10-31T00:36:45.369208Z",
     "iopub.status.busy": "2022-10-31T00:36:45.368465Z",
     "iopub.status.idle": "2022-10-31T00:36:45.371189Z",
     "shell.execute_reply": "2022-10-31T00:36:45.371566Z"
    }
   },
   "outputs": [
    {
     "data": {
      "text/plain": [
       "True"
      ]
     },
     "execution_count": 2,
     "metadata": {},
     "output_type": "execute_result"
    }
   ],
   "source": [
    "PROTEIN.alphabet.moltype == PROTEIN"
   ]
  },
  {
   "cell_type": "code",
   "execution_count": 3,
   "id": "f19714dd",
   "metadata": {
    "execution": {
     "iopub.execute_input": "2022-10-31T00:36:45.374668Z",
     "iopub.status.busy": "2022-10-31T00:36:45.374163Z",
     "iopub.status.idle": "2022-10-31T00:36:45.375941Z",
     "shell.execute_reply": "2022-10-31T00:36:45.376425Z"
    }
   },
   "outputs": [
    {
     "name": "stdout",
     "output_type": "stream",
     "text": [
      "('TT', 'TC', 'TA', 'TG', 'CT', 'CC', 'CA', 'CG', 'AT', 'AC', 'AA', 'AG', 'GT', 'GC', 'GA', 'GG')\n",
      "('TTT', 'TTC', 'TTA', 'TTG', 'TCT', 'TCC', 'TCA', 'TCG', 'TAT', 'TAC', 'TAA', 'TAG', 'TGT', 'TGC', 'TGA', 'TGG', 'CTT', 'CTC', 'CTA', 'CTG', 'CCT', 'CCC', 'CCA', 'CCG', 'CAT', 'CAC', 'CAA', 'CAG', 'CGT', 'CGC', 'CGA', 'CGG', 'ATT', 'ATC', 'ATA', 'ATG', 'ACT', 'ACC', 'ACA', 'ACG', 'AAT', 'AAC', 'AAA', 'AAG', 'AGT', 'AGC', 'AGA', 'AGG', 'GTT', 'GTC', 'GTA', 'GTG', 'GCT', 'GCC', 'GCA', 'GCG', 'GAT', 'GAC', 'GAA', 'GAG', 'GGT', 'GGC', 'GGA', 'GGG')\n"
     ]
    }
   ],
   "source": [
    "dinuc_alphabet = DNA.alphabet.get_word_alphabet(2)\n",
    "print(dinuc_alphabet)\n",
    "trinuc_alphabet = DNA.alphabet.get_word_alphabet(3)\n",
    "print(trinuc_alphabet)"
   ]
  },
  {
   "cell_type": "code",
   "execution_count": 4,
   "id": "0b2a6e4b",
   "metadata": {
    "execution": {
     "iopub.execute_input": "2022-10-31T00:36:45.379570Z",
     "iopub.status.busy": "2022-10-31T00:36:45.379045Z",
     "iopub.status.idle": "2022-10-31T00:36:45.381156Z",
     "shell.execute_reply": "2022-10-31T00:36:45.381475Z"
    }
   },
   "outputs": [
    {
     "data": {
      "text/plain": [
       "[0, 2, 3, 0]"
      ]
     },
     "execution_count": 4,
     "metadata": {},
     "output_type": "execute_result"
    }
   ],
   "source": [
    "seq = \"TAGT\"\n",
    "indices = DNA.alphabet.to_indices(seq)\n",
    "indices"
   ]
  },
  {
   "cell_type": "code",
   "execution_count": 5,
   "id": "b4b3c931",
   "metadata": {
    "execution": {
     "iopub.execute_input": "2022-10-31T00:36:45.384469Z",
     "iopub.status.busy": "2022-10-31T00:36:45.383910Z",
     "iopub.status.idle": "2022-10-31T00:36:45.386231Z",
     "shell.execute_reply": "2022-10-31T00:36:45.386539Z"
    }
   },
   "outputs": [
    {
     "data": {
      "text/plain": [
       "['T', 'A', 'G', 'T']"
      ]
     },
     "execution_count": 5,
     "metadata": {},
     "output_type": "execute_result"
    }
   ],
   "source": [
    "seq = DNA.alphabet.from_indices([0, 2, 3, 0])\n",
    "seq"
   ]
  },
  {
   "cell_type": "code",
   "execution_count": 6,
   "id": "2d8786e1",
   "metadata": {
    "execution": {
     "iopub.execute_input": "2022-10-31T00:36:45.389941Z",
     "iopub.status.busy": "2022-10-31T00:36:45.389252Z",
     "iopub.status.idle": "2022-10-31T00:36:45.391371Z",
     "shell.execute_reply": "2022-10-31T00:36:45.391796Z"
    }
   },
   "outputs": [
    {
     "data": {
      "text/html": [
       "<style>\n",
       ".c3seq td { border: none !important; text-align: left !important; }\n",
       ".c3seq tr:not(.num_row) td span {margin: 0 2px;}\n",
       ".c3seq tr:nth-child(even) {background: #f7f7f7;}\n",
       ".c3seq .num_row {background-color:rgba(161, 195, 209, 0.5) !important; border-top: solid 1px black; }\n",
       ".c3seq .label { font-size: 12pt ; text-align: right !important; color: black !important; padding: 0 4px; }\n",
       ".c3seq .T_dna{font-family: \"Lucida Console\",monospace !important; font-size: 12pt !important; color: blue; }\n",
       ".c3seq .C_dna{font-family: \"Lucida Console\",monospace !important; font-size: 12pt !important; color: black; }\n",
       ".c3seq .A_dna{font-family: \"Lucida Console\",monospace !important; font-size: 12pt !important; color: #FF0102; }\n",
       ".c3seq .G_dna{font-family: \"Lucida Console\",monospace !important; font-size: 12pt !important; color: green; }\n",
       ".c3seq .terminal_ambig_dna{font-family: \"Lucida Console\",monospace !important; font-size: 12pt !important; color: gray; }\n",
       ".c3seq .ambig_dna{font-family: \"Lucida Console\",monospace !important; font-size: 12pt !important; color: gray; }\n",
       "</style>\n",
       "<div class=\"c3seq\">\n",
       "<table>\n",
       "<tr class=\"num_row\"><td></td><td><b>0</b></td></tr>\n",
       "<tr><td class=\"label\">None</td><td><span class=\"T_dna\">T</span><span class=\"A_dna\">A</span><span class=\"G_dna\">G</span><span class=\"T_dna\">T</span></td></tr>\n",
       "</table>\n",
       "<p><i>4 DnaSequence</i></p>\n",
       "</div>"
      ],
      "text/plain": [
       "DnaSequence(TAGT)"
      ]
     },
     "execution_count": 6,
     "metadata": {},
     "output_type": "execute_result"
    }
   ],
   "source": [
    "seq = DNA.alphabet.from_ordinals_to_seq([0, 2, 3, 0])\n",
    "seq"
   ]
  }
 ],
 "metadata": {
  "kernelspec": {
   "display_name": "Python 3 (ipykernel)",
   "language": "python",
   "name": "python3"
  },
  "language_info": {
   "codemirror_mode": {
    "name": "ipython",
    "version": 3
   },
   "file_extension": ".py",
   "mimetype": "text/x-python",
   "name": "python",
   "nbconvert_exporter": "python",
   "pygments_lexer": "ipython3",
   "version": "3.10.0"
  }
 },
 "nbformat": 4,
 "nbformat_minor": 5
}