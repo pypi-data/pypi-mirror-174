{
 "cells": [
  {
   "cell_type": "code",
   "execution_count": 1,
   "id": "59ad90a7",
   "metadata": {
    "execution": {
     "iopub.execute_input": "2022-10-31T00:42:02.191530Z",
     "iopub.status.busy": "2022-10-31T00:42:02.190851Z",
     "iopub.status.idle": "2022-10-31T00:42:05.682884Z",
     "shell.execute_reply": "2022-10-31T00:42:05.683485Z"
    }
   },
   "outputs": [],
   "source": [
    "import set_working_directory"
   ]
  },
  {
   "cell_type": "code",
   "execution_count": 2,
   "id": "8c37ab46",
   "metadata": {
    "execution": {
     "iopub.execute_input": "2022-10-31T00:42:05.688067Z",
     "iopub.status.busy": "2022-10-31T00:42:05.687381Z",
     "iopub.status.idle": "2022-10-31T00:42:06.992686Z",
     "shell.execute_reply": "2022-10-31T00:42:06.993065Z"
    }
   },
   "outputs": [],
   "source": [
    "from cogent3 import load_aligned_seqs, load_tree\n",
    "from cogent3.evolve import bootstrap\n",
    "from cogent3.evolve.models import HKY85"
   ]
  },
  {
   "cell_type": "code",
   "execution_count": 3,
   "id": "40df9f31",
   "metadata": {
    "execution": {
     "iopub.execute_input": "2022-10-31T00:42:06.996598Z",
     "iopub.status.busy": "2022-10-31T00:42:06.996014Z",
     "iopub.status.idle": "2022-10-31T00:42:06.997895Z",
     "shell.execute_reply": "2022-10-31T00:42:06.998265Z"
    }
   },
   "outputs": [],
   "source": [
    "def create_alt_function():\n",
    "    t = load_tree(\"data/test.tree\")\n",
    "    sm = HKY85()\n",
    "    return sm.make_likelihood_function(t)"
   ]
  },
  {
   "cell_type": "code",
   "execution_count": 4,
   "id": "03ce6c78",
   "metadata": {
    "execution": {
     "iopub.execute_input": "2022-10-31T00:42:07.001456Z",
     "iopub.status.busy": "2022-10-31T00:42:07.000869Z",
     "iopub.status.idle": "2022-10-31T00:42:07.002383Z",
     "shell.execute_reply": "2022-10-31T00:42:07.002894Z"
    }
   },
   "outputs": [],
   "source": [
    "def create_null_function():\n",
    "    lf = create_alt_function()\n",
    "    # set the local clock for humans & howler monkey\n",
    "    lf.set_local_clock(\"Human\", \"HowlerMon\")\n",
    "    return lf"
   ]
  },
  {
   "cell_type": "code",
   "execution_count": 5,
   "id": "a0285b38",
   "metadata": {
    "execution": {
     "iopub.execute_input": "2022-10-31T00:42:07.005748Z",
     "iopub.status.busy": "2022-10-31T00:42:07.005276Z",
     "iopub.status.idle": "2022-10-31T00:42:07.008841Z",
     "shell.execute_reply": "2022-10-31T00:42:07.009339Z"
    }
   },
   "outputs": [],
   "source": [
    "aln = load_aligned_seqs(\"data/long_testseqs.fasta\")"
   ]
  },
  {
   "cell_type": "code",
   "execution_count": 6,
   "id": "e4af8bcd",
   "metadata": {
    "execution": {
     "iopub.execute_input": "2022-10-31T00:42:07.011960Z",
     "iopub.status.busy": "2022-10-31T00:42:07.011477Z",
     "iopub.status.idle": "2022-10-31T00:42:07.020968Z",
     "shell.execute_reply": "2022-10-31T00:42:07.021385Z"
    }
   },
   "outputs": [
    {
     "name": "stderr",
     "output_type": "stream",
     "text": [
      "/Users/gavin/opt/miniconda3/envs/c310dev/lib/python3.10/site-packages/cogent3/evolve/parameter_controller.py:414: UserWarning: Used mean of 2 length values\n",
      "  self.assign_all(\n"
     ]
    }
   ],
   "source": [
    "estimateP = bootstrap.EstimateProbability(\n",
    "    create_null_function(), create_alt_function(), aln\n",
    ")"
   ]
  },
  {
   "cell_type": "code",
   "execution_count": 7,
   "id": "f9aba84e",
   "metadata": {
    "execution": {
     "iopub.execute_input": "2022-10-31T00:42:07.024886Z",
     "iopub.status.busy": "2022-10-31T00:42:07.024234Z",
     "iopub.status.idle": "2022-10-31T00:42:07.025942Z",
     "shell.execute_reply": "2022-10-31T00:42:07.026449Z"
    }
   },
   "outputs": [],
   "source": [
    "estimateP.set_num_replicates(5)"
   ]
  },
  {
   "cell_type": "code",
   "execution_count": 8,
   "id": "9e5db447",
   "metadata": {
    "execution": {
     "iopub.execute_input": "2022-10-31T00:42:07.029943Z",
     "iopub.status.busy": "2022-10-31T00:42:07.029327Z",
     "iopub.status.idle": "2022-10-31T00:42:09.379926Z",
     "shell.execute_reply": "2022-10-31T00:42:09.380808Z"
    }
   },
   "outputs": [
    {
     "name": "stderr",
     "output_type": "stream",
     "text": [
      "/Users/gavin/opt/miniconda3/envs/c310dev/lib/python3.10/site-packages/cogent3/maths/optimisers.py:189: UserWarning: Unused arg for local alignment: random_series\n",
      "  warnings.warn(\"Unused arg for local alignment: \" + k)\n"
     ]
    }
   ],
   "source": [
    "estimateP.run(show_progress=False)"
   ]
  },
  {
   "cell_type": "code",
   "execution_count": 9,
   "id": "b66f15ef",
   "metadata": {
    "execution": {
     "iopub.execute_input": "2022-10-31T00:42:09.385448Z",
     "iopub.status.busy": "2022-10-31T00:42:09.384573Z",
     "iopub.status.idle": "2022-10-31T00:42:09.386916Z",
     "shell.execute_reply": "2022-10-31T00:42:09.387387Z"
    }
   },
   "outputs": [],
   "source": [
    "p = estimateP.get_estimated_prob()"
   ]
  },
  {
   "cell_type": "code",
   "execution_count": 10,
   "id": "474cedac",
   "metadata": {
    "execution": {
     "iopub.execute_input": "2022-10-31T00:42:09.390812Z",
     "iopub.status.busy": "2022-10-31T00:42:09.390139Z",
     "iopub.status.idle": "2022-10-31T00:42:09.392453Z",
     "shell.execute_reply": "2022-10-31T00:42:09.392892Z"
    }
   },
   "outputs": [
    {
     "name": "stdout",
     "output_type": "stream",
     "text": [
      "-8751.94, -8750.59\n"
     ]
    }
   ],
   "source": [
    "print(\"%.2f, %.2f\" % estimateP.get_observed_lnL())"
   ]
  }
 ],
 "metadata": {
  "kernelspec": {
   "display_name": "Python 3 (ipykernel)",
   "language": "python",
   "name": "python3"
  },
  "language_info": {
   "codemirror_mode": {
    "name": "ipython",
    "version": 3
   },
   "file_extension": ".py",
   "mimetype": "text/x-python",
   "name": "python",
   "nbconvert_exporter": "python",
   "pygments_lexer": "ipython3",
   "version": "3.10.0"
  }
 },
 "nbformat": 4,
 "nbformat_minor": 5
}