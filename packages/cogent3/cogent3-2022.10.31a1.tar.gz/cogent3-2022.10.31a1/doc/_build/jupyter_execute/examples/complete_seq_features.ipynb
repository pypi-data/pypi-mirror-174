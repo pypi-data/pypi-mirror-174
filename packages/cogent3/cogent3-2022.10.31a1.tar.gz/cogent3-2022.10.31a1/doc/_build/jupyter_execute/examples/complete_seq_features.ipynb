{
 "cells": [
  {
   "cell_type": "code",
   "execution_count": 1,
   "id": "2c2d74d4",
   "metadata": {
    "execution": {
     "iopub.execute_input": "2022-10-31T00:41:13.506178Z",
     "iopub.status.busy": "2022-10-31T00:41:13.505556Z",
     "iopub.status.idle": "2022-10-31T00:41:14.756343Z",
     "shell.execute_reply": "2022-10-31T00:41:14.756635Z"
    }
   },
   "outputs": [],
   "source": [
    "from cogent3 import DNA\n",
    "from cogent3.core.annotation import Feature\n",
    "\n",
    "s = DNA.make_seq(\"AAGAAGAAGACCCCCAAAAAAAAAATTTTTTTTTTAAAAAAAAAAAAA\", name=\"Orig\")\n",
    "exon1 = s.add_annotation(Feature, \"exon\", \"fred\", [(10, 15)])\n",
    "exon2 = s.add_annotation(Feature, \"exon\", \"trev\", [(30, 40)])"
   ]
  },
  {
   "cell_type": "code",
   "execution_count": 2,
   "id": "d977e639",
   "metadata": {
    "execution": {
     "iopub.execute_input": "2022-10-31T00:41:14.763887Z",
     "iopub.status.busy": "2022-10-31T00:41:14.763274Z",
     "iopub.status.idle": "2022-10-31T00:41:14.765591Z",
     "shell.execute_reply": "2022-10-31T00:41:14.765981Z"
    }
   },
   "outputs": [
    {
     "data": {
      "text/html": [
       "<style>\n",
       ".c3seq td { border: none !important; text-align: left !important; }\n",
       ".c3seq tr:not(.num_row) td span {margin: 0 2px;}\n",
       ".c3seq tr:nth-child(even) {background: #f7f7f7;}\n",
       ".c3seq .num_row {background-color:rgba(161, 195, 209, 0.5) !important; border-top: solid 1px black; }\n",
       ".c3seq .label { font-size: 12pt ; text-align: right !important; color: black !important; padding: 0 4px; }\n",
       ".c3seq .T_dna{font-family: \"Lucida Console\",monospace !important; font-size: 12pt !important; color: blue; }\n",
       ".c3seq .C_dna{font-family: \"Lucida Console\",monospace !important; font-size: 12pt !important; color: black; }\n",
       ".c3seq .A_dna{font-family: \"Lucida Console\",monospace !important; font-size: 12pt !important; color: #FF0102; }\n",
       ".c3seq .G_dna{font-family: \"Lucida Console\",monospace !important; font-size: 12pt !important; color: green; }\n",
       ".c3seq .terminal_ambig_dna{font-family: \"Lucida Console\",monospace !important; font-size: 12pt !important; color: gray; }\n",
       ".c3seq .ambig_dna{font-family: \"Lucida Console\",monospace !important; font-size: 12pt !important; color: gray; }\n",
       "</style>\n",
       "<div class=\"c3seq\">\n",
       "<table>\n",
       "<tr class=\"num_row\"><td></td><td><b>0</b></td></tr>\n",
       "<tr><td class=\"label\">Orig</td><td><span class=\"C_dna\">C</span><span class=\"C_dna\">C</span><span class=\"C_dna\">C</span><span class=\"C_dna\">C</span><span class=\"C_dna\">C</span></td></tr>\n",
       "</table>\n",
       "<p><i>5 DnaSequence</i></p>\n",
       "</div>"
      ],
      "text/plain": [
       "DnaSequence(CCCCC)"
      ]
     },
     "execution_count": 2,
     "metadata": {},
     "output_type": "execute_result"
    }
   ],
   "source": [
    "s[exon1]\n",
    "exon1.get_slice()"
   ]
  },
  {
   "cell_type": "code",
   "execution_count": 3,
   "id": "6b40f9ac",
   "metadata": {
    "execution": {
     "iopub.execute_input": "2022-10-31T00:41:14.768864Z",
     "iopub.status.busy": "2022-10-31T00:41:14.768298Z",
     "iopub.status.idle": "2022-10-31T00:41:14.770134Z",
     "shell.execute_reply": "2022-10-31T00:41:14.770591Z"
    }
   },
   "outputs": [
    {
     "name": "stdout",
     "output_type": "stream",
     "text": [
      "[exon \"fred\" at [10:15]/48, exon \"trev\" at [30:40]/48]\n"
     ]
    }
   ],
   "source": [
    "exons = s.get_annotations_matching(\"exon\")\n",
    "print(exons)"
   ]
  },
  {
   "cell_type": "code",
   "execution_count": 4,
   "id": "b13d7350",
   "metadata": {
    "execution": {
     "iopub.execute_input": "2022-10-31T00:41:14.774113Z",
     "iopub.status.busy": "2022-10-31T00:41:14.773566Z",
     "iopub.status.idle": "2022-10-31T00:41:14.775769Z",
     "shell.execute_reply": "2022-10-31T00:41:14.776166Z"
    }
   },
   "outputs": [
    {
     "data": {
      "text/html": [
       "<style>\n",
       ".c3seq td { border: none !important; text-align: left !important; }\n",
       ".c3seq tr:not(.num_row) td span {margin: 0 2px;}\n",
       ".c3seq tr:nth-child(even) {background: #f7f7f7;}\n",
       ".c3seq .num_row {background-color:rgba(161, 195, 209, 0.5) !important; border-top: solid 1px black; }\n",
       ".c3seq .label { font-size: 12pt ; text-align: right !important; color: black !important; padding: 0 4px; }\n",
       ".c3seq .T_dna{font-family: \"Lucida Console\",monospace !important; font-size: 12pt !important; color: blue; }\n",
       ".c3seq .C_dna{font-family: \"Lucida Console\",monospace !important; font-size: 12pt !important; color: black; }\n",
       ".c3seq .A_dna{font-family: \"Lucida Console\",monospace !important; font-size: 12pt !important; color: #FF0102; }\n",
       ".c3seq .G_dna{font-family: \"Lucida Console\",monospace !important; font-size: 12pt !important; color: green; }\n",
       ".c3seq .terminal_ambig_dna{font-family: \"Lucida Console\",monospace !important; font-size: 12pt !important; color: gray; }\n",
       ".c3seq .ambig_dna{font-family: \"Lucida Console\",monospace !important; font-size: 12pt !important; color: gray; }\n",
       "</style>\n",
       "<div class=\"c3seq\">\n",
       "<table>\n",
       "</table>\n",
       "<p><i>0 DnaSequence</i></p>\n",
       "</div>"
      ],
      "text/plain": [
       "DnaSequence()"
      ]
     },
     "execution_count": 4,
     "metadata": {},
     "output_type": "execute_result"
    }
   ],
   "source": [
    "dont_exist = s.get_annotations_matching(\"dont_exist\")\n",
    "dont_exist\n",
    "s[dont_exist]"
   ]
  },
  {
   "cell_type": "code",
   "execution_count": 5,
   "id": "017fbebe",
   "metadata": {
    "execution": {
     "iopub.execute_input": "2022-10-31T00:41:14.779114Z",
     "iopub.status.busy": "2022-10-31T00:41:14.778626Z",
     "iopub.status.idle": "2022-10-31T00:41:14.780463Z",
     "shell.execute_reply": "2022-10-31T00:41:14.780919Z"
    }
   },
   "outputs": [
    {
     "name": "stdout",
     "output_type": "stream",
     "text": [
      "region \"exon\" at [10:15, 30:40]/48\n",
      "region \"not exon\" at [0:10, 15:30, 40:48]/48\n"
     ]
    }
   ],
   "source": [
    "print(s.get_region_covering_all(exons))\n",
    "print(s.get_region_covering_all(exons).get_shadow())"
   ]
  },
  {
   "cell_type": "code",
   "execution_count": 6,
   "id": "d33c1ab8",
   "metadata": {
    "execution": {
     "iopub.execute_input": "2022-10-31T00:41:14.784301Z",
     "iopub.status.busy": "2022-10-31T00:41:14.783762Z",
     "iopub.status.idle": "2022-10-31T00:41:14.785970Z",
     "shell.execute_reply": "2022-10-31T00:41:14.786466Z"
    }
   },
   "outputs": [
    {
     "data": {
      "text/html": [
       "<style>\n",
       ".c3seq td { border: none !important; text-align: left !important; }\n",
       ".c3seq tr:not(.num_row) td span {margin: 0 2px;}\n",
       ".c3seq tr:nth-child(even) {background: #f7f7f7;}\n",
       ".c3seq .num_row {background-color:rgba(161, 195, 209, 0.5) !important; border-top: solid 1px black; }\n",
       ".c3seq .label { font-size: 12pt ; text-align: right !important; color: black !important; padding: 0 4px; }\n",
       ".c3seq .T_dna{font-family: \"Lucida Console\",monospace !important; font-size: 12pt !important; color: blue; }\n",
       ".c3seq .C_dna{font-family: \"Lucida Console\",monospace !important; font-size: 12pt !important; color: black; }\n",
       ".c3seq .A_dna{font-family: \"Lucida Console\",monospace !important; font-size: 12pt !important; color: #FF0102; }\n",
       ".c3seq .G_dna{font-family: \"Lucida Console\",monospace !important; font-size: 12pt !important; color: green; }\n",
       ".c3seq .terminal_ambig_dna{font-family: \"Lucida Console\",monospace !important; font-size: 12pt !important; color: gray; }\n",
       ".c3seq .ambig_dna{font-family: \"Lucida Console\",monospace !important; font-size: 12pt !important; color: gray; }\n",
       "</style>\n",
       "<div class=\"c3seq\">\n",
       "<table>\n",
       "<tr class=\"num_row\"><td></td><td><b>0</b></td></tr>\n",
       "<tr><td class=\"label\">Orig</td><td><span class=\"C_dna\">C</span><span class=\"C_dna\">C</span><span class=\"C_dna\">C</span><span class=\"C_dna\">C</span><span class=\"C_dna\">C</span><span class=\"T_dna\">T</span><span class=\"T_dna\">T</span><span class=\"T_dna\">T</span><span class=\"T_dna\">T</span><span class=\"T_dna\">T</span><span class=\"A_dna\">A</span><span class=\"A_dna\">A</span><span class=\"A_dna\">A</span><span class=\"A_dna\">A</span><span class=\"A_dna\">A</span></td></tr>\n",
       "</table>\n",
       "<p><i>15 DnaSequence</i></p>\n",
       "</div>"
      ],
      "text/plain": [
       "DnaSequence(CCCCCTT... 15)"
      ]
     },
     "execution_count": 6,
     "metadata": {},
     "output_type": "execute_result"
    }
   ],
   "source": [
    "s.get_region_covering_all(exons).get_slice()"
   ]
  },
  {
   "cell_type": "code",
   "execution_count": 7,
   "id": "d9a21c47",
   "metadata": {
    "execution": {
     "iopub.execute_input": "2022-10-31T00:41:14.789455Z",
     "iopub.status.busy": "2022-10-31T00:41:14.788996Z",
     "iopub.status.idle": "2022-10-31T00:41:14.791350Z",
     "shell.execute_reply": "2022-10-31T00:41:14.791642Z"
    }
   },
   "outputs": [
    {
     "data": {
      "text/html": [
       "<style>\n",
       ".c3seq td { border: none !important; text-align: left !important; }\n",
       ".c3seq tr:not(.num_row) td span {margin: 0 2px;}\n",
       ".c3seq tr:nth-child(even) {background: #f7f7f7;}\n",
       ".c3seq .num_row {background-color:rgba(161, 195, 209, 0.5) !important; border-top: solid 1px black; }\n",
       ".c3seq .label { font-size: 12pt ; text-align: right !important; color: black !important; padding: 0 4px; }\n",
       ".c3seq .T_dna{font-family: \"Lucida Console\",monospace !important; font-size: 12pt !important; color: blue; }\n",
       ".c3seq .C_dna{font-family: \"Lucida Console\",monospace !important; font-size: 12pt !important; color: black; }\n",
       ".c3seq .A_dna{font-family: \"Lucida Console\",monospace !important; font-size: 12pt !important; color: #FF0102; }\n",
       ".c3seq .G_dna{font-family: \"Lucida Console\",monospace !important; font-size: 12pt !important; color: green; }\n",
       ".c3seq .terminal_ambig_dna{font-family: \"Lucida Console\",monospace !important; font-size: 12pt !important; color: gray; }\n",
       ".c3seq .ambig_dna{font-family: \"Lucida Console\",monospace !important; font-size: 12pt !important; color: gray; }\n",
       "</style>\n",
       "<div class=\"c3seq\">\n",
       "<table>\n",
       "<tr class=\"num_row\"><td></td><td><b>0</b></td></tr>\n",
       "<tr><td class=\"label\">Orig</td><td><span class=\"C_dna\">C</span><span class=\"C_dna\">C</span><span class=\"C_dna\">C</span><span class=\"C_dna\">C</span><span class=\"C_dna\">C</span><span class=\"T_dna\">T</span><span class=\"T_dna\">T</span><span class=\"T_dna\">T</span><span class=\"T_dna\">T</span><span class=\"T_dna\">T</span><span class=\"A_dna\">A</span><span class=\"A_dna\">A</span><span class=\"A_dna\">A</span><span class=\"A_dna\">A</span><span class=\"A_dna\">A</span></td></tr>\n",
       "</table>\n",
       "<p><i>15 DnaSequence</i></p>\n",
       "</div>"
      ],
      "text/plain": [
       "DnaSequence(CCCCCTT... 15)"
      ]
     },
     "execution_count": 7,
     "metadata": {},
     "output_type": "execute_result"
    }
   ],
   "source": [
    "s[exon1, exon2]"
   ]
  },
  {
   "cell_type": "code",
   "execution_count": 8,
   "id": "8433f83f",
   "metadata": {
    "execution": {
     "iopub.execute_input": "2022-10-31T00:41:14.794647Z",
     "iopub.status.busy": "2022-10-31T00:41:14.794119Z",
     "iopub.status.idle": "2022-10-31T00:41:15.432781Z",
     "shell.execute_reply": "2022-10-31T00:41:15.433224Z"
    }
   },
   "outputs": [
    {
     "name": "stdout",
     "output_type": "stream",
     "text": [
      "region \"exon\" at [10:15, 30:40]/48\n"
     ]
    },
    {
     "ename": "ValueError",
     "evalue": "Uninvertable. Overlap: 10 < 15",
     "output_type": "error",
     "traceback": [
      "\u001b[0;31m---------------------------------------------------------------------------\u001b[0m",
      "\u001b[0;31mValueError\u001b[0m                                Traceback (most recent call last)",
      "Input \u001b[0;32mIn [8]\u001b[0m, in \u001b[0;36m<module>\u001b[0;34m\u001b[0m\n\u001b[1;32m      1\u001b[0m \u001b[38;5;28mprint\u001b[39m(s\u001b[38;5;241m.\u001b[39mget_region_covering_all(exons \u001b[38;5;241m+\u001b[39m exons))\n\u001b[0;32m----> 2\u001b[0m \u001b[43ms\u001b[49m\u001b[43m[\u001b[49m\u001b[43mexon1\u001b[49m\u001b[43m,\u001b[49m\u001b[43m \u001b[49m\u001b[43mexon1\u001b[49m\u001b[43m,\u001b[49m\u001b[43m \u001b[49m\u001b[43mexon1\u001b[49m\u001b[43m,\u001b[49m\u001b[43m \u001b[49m\u001b[43mexon1\u001b[49m\u001b[43m,\u001b[49m\u001b[43m \u001b[49m\u001b[43mexon1\u001b[49m\u001b[43m]\u001b[49m\n",
      "File \u001b[0;32m~/opt/miniconda3/envs/c310dev/lib/python3.10/site-packages/cogent3/core/annotation.py:90\u001b[0m, in \u001b[0;36m_Annotatable.__getitem__\u001b[0;34m(self, index)\u001b[0m\n\u001b[1;32m     88\u001b[0m \u001b[38;5;28mmap\u001b[39m \u001b[38;5;241m=\u001b[39m \u001b[38;5;28mself\u001b[39m\u001b[38;5;241m.\u001b[39m_as_map(index)\n\u001b[1;32m     89\u001b[0m new \u001b[38;5;241m=\u001b[39m \u001b[38;5;28mself\u001b[39m\u001b[38;5;241m.\u001b[39m_mapped(\u001b[38;5;28mmap\u001b[39m)\n\u001b[0;32m---> 90\u001b[0m sliced_annots \u001b[38;5;241m=\u001b[39m \u001b[38;5;28;43mself\u001b[39;49m\u001b[38;5;241;43m.\u001b[39;49m\u001b[43m_sliced_annotations\u001b[49m\u001b[43m(\u001b[49m\u001b[43mnew\u001b[49m\u001b[43m,\u001b[49m\u001b[43m \u001b[49m\u001b[38;5;28;43mmap\u001b[39;49m\u001b[43m)\u001b[49m\n\u001b[1;32m     91\u001b[0m new\u001b[38;5;241m.\u001b[39mattach_annotations(sliced_annots)\n\u001b[1;32m     92\u001b[0m \u001b[38;5;28;01mif\u001b[39;00m \u001b[38;5;28mhasattr\u001b[39m(\u001b[38;5;28mself\u001b[39m, \u001b[38;5;124m\"\u001b[39m\u001b[38;5;124m_repr_policy\u001b[39m\u001b[38;5;124m\"\u001b[39m):\n",
      "File \u001b[0;32m~/opt/miniconda3/envs/c310dev/lib/python3.10/site-packages/cogent3/core/annotation.py:36\u001b[0m, in \u001b[0;36m_Annotatable._sliced_annotations\u001b[0;34m(self, new, slice)\u001b[0m\n\u001b[1;32m     34\u001b[0m slicemap \u001b[38;5;241m=\u001b[39m \u001b[38;5;28mself\u001b[39m\u001b[38;5;241m.\u001b[39m_as_map(\u001b[38;5;28mslice\u001b[39m)\n\u001b[1;32m     35\u001b[0m \u001b[38;5;66;03m# try:\u001b[39;00m\n\u001b[0;32m---> 36\u001b[0m newmap \u001b[38;5;241m=\u001b[39m \u001b[43mslicemap\u001b[49m\u001b[38;5;241;43m.\u001b[39;49m\u001b[43minverse\u001b[49m\u001b[43m(\u001b[49m\u001b[43m)\u001b[49m\n\u001b[1;32m     37\u001b[0m \u001b[38;5;66;03m# except ValueError, detail:\u001b[39;00m\n\u001b[1;32m     38\u001b[0m \u001b[38;5;66;03m#    print \"Annotations dropped because %s\" % detail\u001b[39;00m\n\u001b[1;32m     39\u001b[0m \u001b[38;5;66;03m#    return []\u001b[39;00m\n\u001b[1;32m     40\u001b[0m \u001b[38;5;28;01mif\u001b[39;00m slicemap\u001b[38;5;241m.\u001b[39museful:\n",
      "File \u001b[0;32m~/opt/miniconda3/envs/c310dev/lib/python3.10/site-packages/cogent3/core/location.py:754\u001b[0m, in \u001b[0;36mMap.inverse\u001b[0;34m(self)\u001b[0m\n\u001b[1;32m    752\u001b[0m \u001b[38;5;28;01mdef\u001b[39;00m \u001b[38;5;21minverse\u001b[39m(\u001b[38;5;28mself\u001b[39m):\n\u001b[1;32m    753\u001b[0m     \u001b[38;5;28;01mif\u001b[39;00m \u001b[38;5;28mself\u001b[39m\u001b[38;5;241m.\u001b[39m__inverse \u001b[38;5;129;01mis\u001b[39;00m \u001b[38;5;28;01mNone\u001b[39;00m:\n\u001b[0;32m--> 754\u001b[0m         \u001b[38;5;28mself\u001b[39m\u001b[38;5;241m.\u001b[39m__inverse \u001b[38;5;241m=\u001b[39m \u001b[38;5;28;43mself\u001b[39;49m\u001b[38;5;241;43m.\u001b[39;49m\u001b[43m_inverse\u001b[49m\u001b[43m(\u001b[49m\u001b[43m)\u001b[49m\n\u001b[1;32m    755\u001b[0m     \u001b[38;5;28;01mreturn\u001b[39;00m \u001b[38;5;28mself\u001b[39m\u001b[38;5;241m.\u001b[39m__inverse\n",
      "File \u001b[0;32m~/opt/miniconda3/envs/c310dev/lib/python3.10/site-packages/cogent3/core/location.py:779\u001b[0m, in \u001b[0;36mMap._inverse\u001b[0;34m(self)\u001b[0m\n\u001b[1;32m    777\u001b[0m     new_spans\u001b[38;5;241m.\u001b[39mappend(LostSpan(lo \u001b[38;5;241m-\u001b[39m last_hi))\n\u001b[1;32m    778\u001b[0m \u001b[38;5;28;01melif\u001b[39;00m lo \u001b[38;5;241m<\u001b[39m last_hi:\n\u001b[0;32m--> 779\u001b[0m     \u001b[38;5;28;01mraise\u001b[39;00m \u001b[38;5;167;01mValueError\u001b[39;00m(\u001b[38;5;124mf\u001b[39m\u001b[38;5;124m\"\u001b[39m\u001b[38;5;124mUninvertable. Overlap: \u001b[39m\u001b[38;5;132;01m{\u001b[39;00mlo\u001b[38;5;132;01m}\u001b[39;00m\u001b[38;5;124m < \u001b[39m\u001b[38;5;132;01m{\u001b[39;00mlast_hi\u001b[38;5;132;01m}\u001b[39;00m\u001b[38;5;124m\"\u001b[39m)\n\u001b[1;32m    780\u001b[0m new_spans\u001b[38;5;241m.\u001b[39mappend(Span(start, end, reverse\u001b[38;5;241m=\u001b[39mstart \u001b[38;5;241m>\u001b[39m end))\n\u001b[1;32m    781\u001b[0m last_hi \u001b[38;5;241m=\u001b[39m hi\n",
      "\u001b[0;31mValueError\u001b[0m: Uninvertable. Overlap: 10 < 15"
     ]
    }
   ],
   "source": [
    "print(s.get_region_covering_all(exons + exons))\n",
    "s[exon1, exon1, exon1, exon1, exon1]"
   ]
  },
  {
   "cell_type": "code",
   "execution_count": 9,
   "id": "5c4d83eb",
   "metadata": {
    "execution": {
     "iopub.execute_input": "2022-10-31T00:41:15.464596Z",
     "iopub.status.busy": "2022-10-31T00:41:15.463820Z",
     "iopub.status.idle": "2022-10-31T00:41:15.466365Z",
     "shell.execute_reply": "2022-10-31T00:41:15.466839Z"
    }
   },
   "outputs": [
    {
     "ename": "ValueError",
     "evalue": "Uninvertable. Overlap: 15 < 16",
     "output_type": "error",
     "traceback": [
      "\u001b[0;31m---------------------------------------------------------------------------\u001b[0m",
      "\u001b[0;31mValueError\u001b[0m                                Traceback (most recent call last)",
      "Input \u001b[0;32mIn [9]\u001b[0m, in \u001b[0;36m<module>\u001b[0;34m\u001b[0m\n\u001b[0;32m----> 1\u001b[0m \u001b[43ms\u001b[49m\u001b[43m[\u001b[49m\u001b[38;5;241;43m15\u001b[39;49m\u001b[43m:\u001b[49m\u001b[38;5;241;43m20\u001b[39;49m\u001b[43m,\u001b[49m\u001b[43m \u001b[49m\u001b[38;5;241;43m5\u001b[39;49m\u001b[43m:\u001b[49m\u001b[38;5;241;43m16\u001b[39;49m\u001b[43m]\u001b[49m\n",
      "File \u001b[0;32m~/opt/miniconda3/envs/c310dev/lib/python3.10/site-packages/cogent3/core/annotation.py:90\u001b[0m, in \u001b[0;36m_Annotatable.__getitem__\u001b[0;34m(self, index)\u001b[0m\n\u001b[1;32m     88\u001b[0m \u001b[38;5;28mmap\u001b[39m \u001b[38;5;241m=\u001b[39m \u001b[38;5;28mself\u001b[39m\u001b[38;5;241m.\u001b[39m_as_map(index)\n\u001b[1;32m     89\u001b[0m new \u001b[38;5;241m=\u001b[39m \u001b[38;5;28mself\u001b[39m\u001b[38;5;241m.\u001b[39m_mapped(\u001b[38;5;28mmap\u001b[39m)\n\u001b[0;32m---> 90\u001b[0m sliced_annots \u001b[38;5;241m=\u001b[39m \u001b[38;5;28;43mself\u001b[39;49m\u001b[38;5;241;43m.\u001b[39;49m\u001b[43m_sliced_annotations\u001b[49m\u001b[43m(\u001b[49m\u001b[43mnew\u001b[49m\u001b[43m,\u001b[49m\u001b[43m \u001b[49m\u001b[38;5;28;43mmap\u001b[39;49m\u001b[43m)\u001b[49m\n\u001b[1;32m     91\u001b[0m new\u001b[38;5;241m.\u001b[39mattach_annotations(sliced_annots)\n\u001b[1;32m     92\u001b[0m \u001b[38;5;28;01mif\u001b[39;00m \u001b[38;5;28mhasattr\u001b[39m(\u001b[38;5;28mself\u001b[39m, \u001b[38;5;124m\"\u001b[39m\u001b[38;5;124m_repr_policy\u001b[39m\u001b[38;5;124m\"\u001b[39m):\n",
      "File \u001b[0;32m~/opt/miniconda3/envs/c310dev/lib/python3.10/site-packages/cogent3/core/annotation.py:36\u001b[0m, in \u001b[0;36m_Annotatable._sliced_annotations\u001b[0;34m(self, new, slice)\u001b[0m\n\u001b[1;32m     34\u001b[0m slicemap \u001b[38;5;241m=\u001b[39m \u001b[38;5;28mself\u001b[39m\u001b[38;5;241m.\u001b[39m_as_map(\u001b[38;5;28mslice\u001b[39m)\n\u001b[1;32m     35\u001b[0m \u001b[38;5;66;03m# try:\u001b[39;00m\n\u001b[0;32m---> 36\u001b[0m newmap \u001b[38;5;241m=\u001b[39m \u001b[43mslicemap\u001b[49m\u001b[38;5;241;43m.\u001b[39;49m\u001b[43minverse\u001b[49m\u001b[43m(\u001b[49m\u001b[43m)\u001b[49m\n\u001b[1;32m     37\u001b[0m \u001b[38;5;66;03m# except ValueError, detail:\u001b[39;00m\n\u001b[1;32m     38\u001b[0m \u001b[38;5;66;03m#    print \"Annotations dropped because %s\" % detail\u001b[39;00m\n\u001b[1;32m     39\u001b[0m \u001b[38;5;66;03m#    return []\u001b[39;00m\n\u001b[1;32m     40\u001b[0m \u001b[38;5;28;01mif\u001b[39;00m slicemap\u001b[38;5;241m.\u001b[39museful:\n",
      "File \u001b[0;32m~/opt/miniconda3/envs/c310dev/lib/python3.10/site-packages/cogent3/core/location.py:754\u001b[0m, in \u001b[0;36mMap.inverse\u001b[0;34m(self)\u001b[0m\n\u001b[1;32m    752\u001b[0m \u001b[38;5;28;01mdef\u001b[39;00m \u001b[38;5;21minverse\u001b[39m(\u001b[38;5;28mself\u001b[39m):\n\u001b[1;32m    753\u001b[0m     \u001b[38;5;28;01mif\u001b[39;00m \u001b[38;5;28mself\u001b[39m\u001b[38;5;241m.\u001b[39m__inverse \u001b[38;5;129;01mis\u001b[39;00m \u001b[38;5;28;01mNone\u001b[39;00m:\n\u001b[0;32m--> 754\u001b[0m         \u001b[38;5;28mself\u001b[39m\u001b[38;5;241m.\u001b[39m__inverse \u001b[38;5;241m=\u001b[39m \u001b[38;5;28;43mself\u001b[39;49m\u001b[38;5;241;43m.\u001b[39;49m\u001b[43m_inverse\u001b[49m\u001b[43m(\u001b[49m\u001b[43m)\u001b[49m\n\u001b[1;32m    755\u001b[0m     \u001b[38;5;28;01mreturn\u001b[39;00m \u001b[38;5;28mself\u001b[39m\u001b[38;5;241m.\u001b[39m__inverse\n",
      "File \u001b[0;32m~/opt/miniconda3/envs/c310dev/lib/python3.10/site-packages/cogent3/core/location.py:779\u001b[0m, in \u001b[0;36mMap._inverse\u001b[0;34m(self)\u001b[0m\n\u001b[1;32m    777\u001b[0m     new_spans\u001b[38;5;241m.\u001b[39mappend(LostSpan(lo \u001b[38;5;241m-\u001b[39m last_hi))\n\u001b[1;32m    778\u001b[0m \u001b[38;5;28;01melif\u001b[39;00m lo \u001b[38;5;241m<\u001b[39m last_hi:\n\u001b[0;32m--> 779\u001b[0m     \u001b[38;5;28;01mraise\u001b[39;00m \u001b[38;5;167;01mValueError\u001b[39;00m(\u001b[38;5;124mf\u001b[39m\u001b[38;5;124m\"\u001b[39m\u001b[38;5;124mUninvertable. Overlap: \u001b[39m\u001b[38;5;132;01m{\u001b[39;00mlo\u001b[38;5;132;01m}\u001b[39;00m\u001b[38;5;124m < \u001b[39m\u001b[38;5;132;01m{\u001b[39;00mlast_hi\u001b[38;5;132;01m}\u001b[39;00m\u001b[38;5;124m\"\u001b[39m)\n\u001b[1;32m    780\u001b[0m new_spans\u001b[38;5;241m.\u001b[39mappend(Span(start, end, reverse\u001b[38;5;241m=\u001b[39mstart \u001b[38;5;241m>\u001b[39m end))\n\u001b[1;32m    781\u001b[0m last_hi \u001b[38;5;241m=\u001b[39m hi\n",
      "\u001b[0;31mValueError\u001b[0m: Uninvertable. Overlap: 15 < 16"
     ]
    }
   ],
   "source": [
    "s[15:20, 5:16]"
   ]
  },
  {
   "cell_type": "code",
   "execution_count": 10,
   "id": "23983d29",
   "metadata": {
    "execution": {
     "iopub.execute_input": "2022-10-31T00:41:15.470306Z",
     "iopub.status.busy": "2022-10-31T00:41:15.469672Z",
     "iopub.status.idle": "2022-10-31T00:41:15.471931Z",
     "shell.execute_reply": "2022-10-31T00:41:15.472263Z"
    }
   },
   "outputs": [
    {
     "data": {
      "text/html": [
       "<style>\n",
       ".c3seq td { border: none !important; text-align: left !important; }\n",
       ".c3seq tr:not(.num_row) td span {margin: 0 2px;}\n",
       ".c3seq tr:nth-child(even) {background: #f7f7f7;}\n",
       ".c3seq .num_row {background-color:rgba(161, 195, 209, 0.5) !important; border-top: solid 1px black; }\n",
       ".c3seq .label { font-size: 12pt ; text-align: right !important; color: black !important; padding: 0 4px; }\n",
       ".c3seq .T_dna{font-family: \"Lucida Console\",monospace !important; font-size: 12pt !important; color: blue; }\n",
       ".c3seq .C_dna{font-family: \"Lucida Console\",monospace !important; font-size: 12pt !important; color: black; }\n",
       ".c3seq .A_dna{font-family: \"Lucida Console\",monospace !important; font-size: 12pt !important; color: #FF0102; }\n",
       ".c3seq .G_dna{font-family: \"Lucida Console\",monospace !important; font-size: 12pt !important; color: green; }\n",
       ".c3seq .terminal_ambig_dna{font-family: \"Lucida Console\",monospace !important; font-size: 12pt !important; color: gray; }\n",
       ".c3seq .ambig_dna{font-family: \"Lucida Console\",monospace !important; font-size: 12pt !important; color: gray; }\n",
       "</style>\n",
       "<div class=\"c3seq\">\n",
       "<table>\n",
       "<tr class=\"num_row\"><td></td><td><b>0</b></td></tr>\n",
       "<tr><td class=\"label\">Orig</td><td><span class=\"C_dna\">C</span><span class=\"C_dna\">C</span><span class=\"C_dna\">C</span></td></tr>\n",
       "</table>\n",
       "<p><i>3 DnaSequence</i></p>\n",
       "</div>"
      ],
      "text/plain": [
       "DnaSequence(CCC)"
      ]
     },
     "execution_count": 10,
     "metadata": {},
     "output_type": "execute_result"
    }
   ],
   "source": [
    "exon1[0:3].get_slice()"
   ]
  },
  {
   "cell_type": "code",
   "execution_count": 11,
   "id": "f7c29d21",
   "metadata": {
    "execution": {
     "iopub.execute_input": "2022-10-31T00:41:15.475411Z",
     "iopub.status.busy": "2022-10-31T00:41:15.474927Z",
     "iopub.status.idle": "2022-10-31T00:41:15.476774Z",
     "shell.execute_reply": "2022-10-31T00:41:15.477377Z"
    }
   },
   "outputs": [
    {
     "name": "stdout",
     "output_type": "stream",
     "text": [
      "49\n",
      "exon \"fred\" at [-4-, 0:1]/49\n",
      "exon \"fred\" at [11:16]/49\n",
      "exon \"trev\" at [31:41]/49\n"
     ]
    }
   ],
   "source": [
    "c = s[exon1[4:]] + s\n",
    "print(len(c))\n",
    "for feat in c.annotations:\n",
    "    print(feat)"
   ]
  },
  {
   "cell_type": "code",
   "execution_count": 12,
   "id": "d6fdee0c",
   "metadata": {
    "execution": {
     "iopub.execute_input": "2022-10-31T00:41:15.506695Z",
     "iopub.status.busy": "2022-10-31T00:41:15.506039Z",
     "iopub.status.idle": "2022-10-31T00:41:15.508617Z",
     "shell.execute_reply": "2022-10-31T00:41:15.509032Z"
    }
   },
   "outputs": [
    {
     "ename": "ValueError",
     "evalue": "Can't map exon \"fred\" at [10:15]/48 onto DnaSequence(CAAGAAG... 49) via []",
     "output_type": "error",
     "traceback": [
      "\u001b[0;31m---------------------------------------------------------------------------\u001b[0m",
      "\u001b[0;31mValueError\u001b[0m                                Traceback (most recent call last)",
      "Input \u001b[0;32mIn [12]\u001b[0m, in \u001b[0;36m<module>\u001b[0;34m\u001b[0m\n\u001b[0;32m----> 1\u001b[0m \u001b[38;5;28mprint\u001b[39m(\u001b[43mc\u001b[49m\u001b[43m[\u001b[49m\u001b[43mexon1\u001b[49m\u001b[43m]\u001b[49m)\n",
      "File \u001b[0;32m~/opt/miniconda3/envs/c310dev/lib/python3.10/site-packages/cogent3/core/annotation.py:88\u001b[0m, in \u001b[0;36m_Annotatable.__getitem__\u001b[0;34m(self, index)\u001b[0m\n\u001b[1;32m     87\u001b[0m \u001b[38;5;28;01mdef\u001b[39;00m \u001b[38;5;21m__getitem__\u001b[39m(\u001b[38;5;28mself\u001b[39m, index):\n\u001b[0;32m---> 88\u001b[0m     \u001b[38;5;28mmap\u001b[39m \u001b[38;5;241m=\u001b[39m \u001b[38;5;28;43mself\u001b[39;49m\u001b[38;5;241;43m.\u001b[39;49m\u001b[43m_as_map\u001b[49m\u001b[43m(\u001b[49m\u001b[43mindex\u001b[49m\u001b[43m)\u001b[49m\n\u001b[1;32m     89\u001b[0m     new \u001b[38;5;241m=\u001b[39m \u001b[38;5;28mself\u001b[39m\u001b[38;5;241m.\u001b[39m_mapped(\u001b[38;5;28mmap\u001b[39m)\n\u001b[1;32m     90\u001b[0m     sliced_annots \u001b[38;5;241m=\u001b[39m \u001b[38;5;28mself\u001b[39m\u001b[38;5;241m.\u001b[39m_sliced_annotations(new, \u001b[38;5;28mmap\u001b[39m)\n",
      "File \u001b[0;32m~/opt/miniconda3/envs/c310dev/lib/python3.10/site-packages/cogent3/core/annotation.py:78\u001b[0m, in \u001b[0;36m_Annotatable._as_map\u001b[0;34m(self, index)\u001b[0m\n\u001b[1;32m     76\u001b[0m     base \u001b[38;5;241m=\u001b[39m base\u001b[38;5;241m.\u001b[39mparent\n\u001b[1;32m     77\u001b[0m \u001b[38;5;28;01mif\u001b[39;00m base \u001b[38;5;129;01mis\u001b[39;00m \u001b[38;5;129;01mnot\u001b[39;00m \u001b[38;5;28mself\u001b[39m:\n\u001b[0;32m---> 78\u001b[0m     \u001b[38;5;28;01mraise\u001b[39;00m \u001b[38;5;167;01mValueError\u001b[39;00m(\n\u001b[1;32m     79\u001b[0m         \u001b[38;5;124mf\u001b[39m\u001b[38;5;124m\"\u001b[39m\u001b[38;5;124mCan\u001b[39m\u001b[38;5;124m'\u001b[39m\u001b[38;5;124mt map \u001b[39m\u001b[38;5;132;01m{\u001b[39;00mindex\u001b[38;5;132;01m}\u001b[39;00m\u001b[38;5;124m onto \u001b[39m\u001b[38;5;132;01m{\u001b[39;00m\u001b[38;5;28mrepr\u001b[39m(\u001b[38;5;28mself\u001b[39m)\u001b[38;5;132;01m}\u001b[39;00m\u001b[38;5;124m via \u001b[39m\u001b[38;5;132;01m{\u001b[39;00mcontainers\u001b[38;5;132;01m}\u001b[39;00m\u001b[38;5;124m\"\u001b[39m\n\u001b[1;32m     80\u001b[0m     )\n\u001b[1;32m     81\u001b[0m \u001b[38;5;28;01mfor\u001b[39;00m base \u001b[38;5;129;01min\u001b[39;00m containers:\n\u001b[1;32m     82\u001b[0m     feature \u001b[38;5;241m=\u001b[39m feature\u001b[38;5;241m.\u001b[39mremapped_to(base, base\u001b[38;5;241m.\u001b[39mmap)\n",
      "\u001b[0;31mValueError\u001b[0m: Can't map exon \"fred\" at [10:15]/48 onto DnaSequence(CAAGAAG... 49) via []"
     ]
    }
   ],
   "source": [
    "print(c[exon1])"
   ]
  },
  {
   "cell_type": "code",
   "execution_count": 13,
   "id": "8b41b780",
   "metadata": {
    "execution": {
     "iopub.execute_input": "2022-10-31T00:41:15.513075Z",
     "iopub.status.busy": "2022-10-31T00:41:15.512516Z",
     "iopub.status.idle": "2022-10-31T00:41:15.514570Z",
     "shell.execute_reply": "2022-10-31T00:41:15.514914Z"
    }
   },
   "outputs": [
    {
     "data": {
      "text/plain": [
       "2"
      ]
     },
     "execution_count": 13,
     "metadata": {},
     "output_type": "execute_result"
    }
   ],
   "source": [
    "len(s.annotations)\n",
    "region = s.get_region_covering_all(exons)\n",
    "len(s.annotations)\n",
    "region.attach()\n",
    "len(s.annotations)\n",
    "region.detach()\n",
    "len(s.annotations)"
   ]
  },
  {
   "cell_type": "code",
   "execution_count": 14,
   "id": "9cffc356",
   "metadata": {
    "execution": {
     "iopub.execute_input": "2022-10-31T00:41:15.518733Z",
     "iopub.status.busy": "2022-10-31T00:41:15.518237Z",
     "iopub.status.idle": "2022-10-31T00:41:15.519964Z",
     "shell.execute_reply": "2022-10-31T00:41:15.520342Z"
    }
   },
   "outputs": [
    {
     "name": "stdout",
     "output_type": "stream",
     "text": [
      "GGGGCCCCCTTTTTTTTTT\n",
      "GGGGCCCCCTTTTTTTTTT\n"
     ]
    }
   ],
   "source": [
    "plus = DNA.make_seq(\"AAGGGGAAAACCCCCAAAAAAAAAATTTTTTTTTTAAA\", name=\"plus\")\n",
    "plus_cds = plus.add_annotation(Feature, \"CDS\", \"gene\", [(2, 6), (10, 15), (25, 35)])\n",
    "print(plus_cds.get_slice())\n",
    "minus = plus.rc()\n",
    "minus_cds = minus.get_annotations_matching(\"CDS\")[0]\n",
    "print(minus_cds.get_slice())"
   ]
  },
  {
   "cell_type": "code",
   "execution_count": 15,
   "id": "dce687b7",
   "metadata": {
    "execution": {
     "iopub.execute_input": "2022-10-31T00:41:15.524455Z",
     "iopub.status.busy": "2022-10-31T00:41:15.523995Z",
     "iopub.status.idle": "2022-10-31T00:41:15.525854Z",
     "shell.execute_reply": "2022-10-31T00:41:15.526279Z"
    }
   },
   "outputs": [
    {
     "name": "stdout",
     "output_type": "stream",
     "text": [
      ">x\n",
      "-AAAAAAAAA\n",
      ">y\n",
      "TTTT--TTTT\n",
      "\n"
     ]
    }
   ],
   "source": [
    "from cogent3 import make_aligned_seqs\n",
    "\n",
    "aln = make_aligned_seqs(\n",
    "    [[\"x\", \"-AAAAAAAAA\"], [\"y\", \"TTTT--TTTT\"]], array_align=False\n",
    ")\n",
    "print(aln)\n",
    "exon = aln.get_seq(\"x\").add_annotation(Feature, \"exon\", \"fred\", [(3, 8)])\n",
    "aln_exons = aln.get_annotations_from_seq(\"x\", \"exon\")\n",
    "aln_exons = aln.get_annotations_from_any_seq(\"exon\")"
   ]
  },
  {
   "cell_type": "code",
   "execution_count": 16,
   "id": "9de80761",
   "metadata": {
    "execution": {
     "iopub.execute_input": "2022-10-31T00:41:15.529985Z",
     "iopub.status.busy": "2022-10-31T00:41:15.529338Z",
     "iopub.status.idle": "2022-10-31T00:41:15.532182Z",
     "shell.execute_reply": "2022-10-31T00:41:15.532488Z"
    }
   },
   "outputs": [
    {
     "name": "stdout",
     "output_type": "stream",
     "text": [
      "exon \"fred\" at [3:8]/9\n",
      "exon \"fred\" at [4:9]/10\n",
      ">x\n",
      "AAAAA\n",
      ">y\n",
      "--TTT\n",
      "\n"
     ]
    },
    {
     "data": {
      "text/plain": [
       "1"
      ]
     },
     "execution_count": 16,
     "metadata": {},
     "output_type": "execute_result"
    }
   ],
   "source": [
    "print(exon)\n",
    "print(aln_exons[0])\n",
    "print(aln_exons[0].get_slice())\n",
    "aln_exons[0].attach()\n",
    "len(aln.annotations)"
   ]
  },
  {
   "cell_type": "code",
   "execution_count": 17,
   "id": "c278cf8b",
   "metadata": {
    "execution": {
     "iopub.execute_input": "2022-10-31T00:41:15.535411Z",
     "iopub.status.busy": "2022-10-31T00:41:15.534935Z",
     "iopub.status.idle": "2022-10-31T00:41:15.536923Z",
     "shell.execute_reply": "2022-10-31T00:41:15.537412Z"
    }
   },
   "outputs": [
    {
     "name": "stdout",
     "output_type": "stream",
     "text": [
      "[exon \"fred\" at [-2-, 4:7]/8]\n",
      "TTT\n"
     ]
    }
   ],
   "source": [
    "exons = aln.get_projected_annotations(\"y\", \"exon\")\n",
    "print(exons)\n",
    "print(aln.get_seq(\"y\")[exons[0].map.without_gaps()])"
   ]
  },
  {
   "cell_type": "code",
   "execution_count": 18,
   "id": "f98f1689",
   "metadata": {
    "execution": {
     "iopub.execute_input": "2022-10-31T00:41:15.541715Z",
     "iopub.status.busy": "2022-10-31T00:41:15.541217Z",
     "iopub.status.idle": "2022-10-31T00:41:15.542846Z",
     "shell.execute_reply": "2022-10-31T00:41:15.543214Z"
    }
   },
   "outputs": [
    {
     "name": "stdout",
     "output_type": "stream",
     "text": [
      "[exon \"fred\" at [4:9]/10]\n"
     ]
    }
   ],
   "source": [
    "aln = make_aligned_seqs(\n",
    "    [[\"x\", \"-AAAAAAAAA\"], [\"y\", \"TTTT--CCCC\"]], array_align=False\n",
    ")\n",
    "s = DNA.make_seq(\"AAAAAAAAA\", name=\"x\")\n",
    "exon = s.add_annotation(Feature, \"exon\", \"fred\", [(3, 8)])\n",
    "exon = aln.get_seq(\"x\").copy_annotations(s)\n",
    "aln_exons = list(aln.get_annotations_from_seq(\"x\", \"exon\"))\n",
    "print(aln_exons)"
   ]
  },
  {
   "cell_type": "code",
   "execution_count": 19,
   "id": "ee37bf67",
   "metadata": {
    "execution": {
     "iopub.execute_input": "2022-10-31T00:41:15.546316Z",
     "iopub.status.busy": "2022-10-31T00:41:15.545865Z",
     "iopub.status.idle": "2022-10-31T00:41:15.547557Z",
     "shell.execute_reply": "2022-10-31T00:41:15.547962Z"
    }
   },
   "outputs": [
    {
     "name": "stdout",
     "output_type": "stream",
     "text": [
      "[exon \"fred\" at [3:4, 6:10]/10]\n",
      ">x\n",
      "AAAAA\n",
      ">y\n",
      "TCCCC\n",
      "\n"
     ]
    }
   ],
   "source": [
    "exon = aln.get_seq(\"y\").copy_annotations(s)\n",
    "aln_exons = list(aln.get_annotations_from_seq(\"y\", \"exon\"))\n",
    "print(aln_exons)\n",
    "print(aln[aln_exons])"
   ]
  },
  {
   "cell_type": "code",
   "execution_count": 20,
   "id": "ea1ff1a2",
   "metadata": {
    "execution": {
     "iopub.execute_input": "2022-10-31T00:41:15.552818Z",
     "iopub.status.busy": "2022-10-31T00:41:15.552138Z",
     "iopub.status.idle": "2022-10-31T00:41:15.554546Z",
     "shell.execute_reply": "2022-10-31T00:41:15.554997Z"
    }
   },
   "outputs": [
    {
     "data": {
      "text/html": [
       "<style>\n",
       ".c3align td { border: none !important; text-align: left !important; }\n",
       ".c3align tr:not(.num_row) td span {margin: 0 2px;}\n",
       ".c3align tr:nth-child(even) {background: #f7f7f7;}\n",
       ".c3align .num_row {background-color:rgba(161, 195, 209, 0.5) !important; border-top: solid 1px black; }\n",
       ".c3align .label { font-size: 12pt ; text-align: right !important; color: black !important; padding: 0 4px; display: table-cell !important; font-weight: normal !important; }\n",
       ".c3align .a_text{font-family: \"Lucida Console\",monospace !important; font-size: 12pt !important; color: black; }\n",
       ".c3align .b_text{font-family: \"Lucida Console\",monospace !important; font-size: 12pt !important; color: black; }\n",
       ".c3align .c_text{font-family: \"Lucida Console\",monospace !important; font-size: 12pt !important; color: black; }\n",
       ".c3align .d_text{font-family: \"Lucida Console\",monospace !important; font-size: 12pt !important; color: black; }\n",
       ".c3align .e_text{font-family: \"Lucida Console\",monospace !important; font-size: 12pt !important; color: black; }\n",
       ".c3align .f_text{font-family: \"Lucida Console\",monospace !important; font-size: 12pt !important; color: black; }\n",
       ".c3align .g_text{font-family: \"Lucida Console\",monospace !important; font-size: 12pt !important; color: black; }\n",
       ".c3align .h_text{font-family: \"Lucida Console\",monospace !important; font-size: 12pt !important; color: black; }\n",
       ".c3align .i_text{font-family: \"Lucida Console\",monospace !important; font-size: 12pt !important; color: black; }\n",
       ".c3align .j_text{font-family: \"Lucida Console\",monospace !important; font-size: 12pt !important; color: black; }\n",
       ".c3align .k_text{font-family: \"Lucida Console\",monospace !important; font-size: 12pt !important; color: black; }\n",
       ".c3align .l_text{font-family: \"Lucida Console\",monospace !important; font-size: 12pt !important; color: black; }\n",
       ".c3align .m_text{font-family: \"Lucida Console\",monospace !important; font-size: 12pt !important; color: black; }\n",
       ".c3align .n_text{font-family: \"Lucida Console\",monospace !important; font-size: 12pt !important; color: black; }\n",
       ".c3align .o_text{font-family: \"Lucida Console\",monospace !important; font-size: 12pt !important; color: black; }\n",
       ".c3align .p_text{font-family: \"Lucida Console\",monospace !important; font-size: 12pt !important; color: black; }\n",
       ".c3align .q_text{font-family: \"Lucida Console\",monospace !important; font-size: 12pt !important; color: black; }\n",
       ".c3align .r_text{font-family: \"Lucida Console\",monospace !important; font-size: 12pt !important; color: black; }\n",
       ".c3align .s_text{font-family: \"Lucida Console\",monospace !important; font-size: 12pt !important; color: black; }\n",
       ".c3align .t_text{font-family: \"Lucida Console\",monospace !important; font-size: 12pt !important; color: black; }\n",
       ".c3align .u_text{font-family: \"Lucida Console\",monospace !important; font-size: 12pt !important; color: black; }\n",
       ".c3align .v_text{font-family: \"Lucida Console\",monospace !important; font-size: 12pt !important; color: black; }\n",
       ".c3align .w_text{font-family: \"Lucida Console\",monospace !important; font-size: 12pt !important; color: black; }\n",
       ".c3align .x_text{font-family: \"Lucida Console\",monospace !important; font-size: 12pt !important; color: black; }\n",
       ".c3align .y_text{font-family: \"Lucida Console\",monospace !important; font-size: 12pt !important; color: black; }\n",
       ".c3align .z_text{font-family: \"Lucida Console\",monospace !important; font-size: 12pt !important; color: black; }\n",
       ".c3align .A_text{font-family: \"Lucida Console\",monospace !important; font-size: 12pt !important; color: black; }\n",
       ".c3align .B_text{font-family: \"Lucida Console\",monospace !important; font-size: 12pt !important; color: black; }\n",
       ".c3align .C_text{font-family: \"Lucida Console\",monospace !important; font-size: 12pt !important; color: black; }\n",
       ".c3align .D_text{font-family: \"Lucida Console\",monospace !important; font-size: 12pt !important; color: black; }\n",
       ".c3align .E_text{font-family: \"Lucida Console\",monospace !important; font-size: 12pt !important; color: black; }\n",
       ".c3align .F_text{font-family: \"Lucida Console\",monospace !important; font-size: 12pt !important; color: black; }\n",
       ".c3align .G_text{font-family: \"Lucida Console\",monospace !important; font-size: 12pt !important; color: black; }\n",
       ".c3align .H_text{font-family: \"Lucida Console\",monospace !important; font-size: 12pt !important; color: black; }\n",
       ".c3align .I_text{font-family: \"Lucida Console\",monospace !important; font-size: 12pt !important; color: black; }\n",
       ".c3align .J_text{font-family: \"Lucida Console\",monospace !important; font-size: 12pt !important; color: black; }\n",
       ".c3align .K_text{font-family: \"Lucida Console\",monospace !important; font-size: 12pt !important; color: black; }\n",
       ".c3align .L_text{font-family: \"Lucida Console\",monospace !important; font-size: 12pt !important; color: black; }\n",
       ".c3align .M_text{font-family: \"Lucida Console\",monospace !important; font-size: 12pt !important; color: black; }\n",
       ".c3align .N_text{font-family: \"Lucida Console\",monospace !important; font-size: 12pt !important; color: black; }\n",
       ".c3align .O_text{font-family: \"Lucida Console\",monospace !important; font-size: 12pt !important; color: black; }\n",
       ".c3align .P_text{font-family: \"Lucida Console\",monospace !important; font-size: 12pt !important; color: black; }\n",
       ".c3align .Q_text{font-family: \"Lucida Console\",monospace !important; font-size: 12pt !important; color: black; }\n",
       ".c3align .R_text{font-family: \"Lucida Console\",monospace !important; font-size: 12pt !important; color: black; }\n",
       ".c3align .S_text{font-family: \"Lucida Console\",monospace !important; font-size: 12pt !important; color: black; }\n",
       ".c3align .T_text{font-family: \"Lucida Console\",monospace !important; font-size: 12pt !important; color: black; }\n",
       ".c3align .U_text{font-family: \"Lucida Console\",monospace !important; font-size: 12pt !important; color: black; }\n",
       ".c3align .V_text{font-family: \"Lucida Console\",monospace !important; font-size: 12pt !important; color: black; }\n",
       ".c3align .W_text{font-family: \"Lucida Console\",monospace !important; font-size: 12pt !important; color: black; }\n",
       ".c3align .X_text{font-family: \"Lucida Console\",monospace !important; font-size: 12pt !important; color: black; }\n",
       ".c3align .Y_text{font-family: \"Lucida Console\",monospace !important; font-size: 12pt !important; color: black; }\n",
       ".c3align .Z_text{font-family: \"Lucida Console\",monospace !important; font-size: 12pt !important; color: black; }\n",
       ".c3align .terminal_ambig_text{font-family: \"Lucida Console\",monospace !important; font-size: 12pt !important; color: black; }\n",
       ".c3align .ambig_text{font-family: \"Lucida Console\",monospace !important; font-size: 12pt !important; color: black; }\n",
       "</style>\n",
       "<div class=\"c3align\">\n",
       "<table>\n",
       "<tr class=\"num_row\"><td></td><td><b>0</b></td></tr>\n",
       "<tr><td class=\"label\">x</td><td><span class=\"terminal_ambig_text\">-</span><span class=\"terminal_ambig_text\">-</span><span class=\"terminal_ambig_text\">-</span><span class=\"terminal_ambig_text\">-</span></td></tr>\n",
       "<tr><td class=\"label\">y</td><td><span class=\"terminal_ambig_text\">.</span><span class=\"terminal_ambig_text\">.</span><span class=\"terminal_ambig_text\">.</span><span class=\"terminal_ambig_text\">.</span></td></tr>\n",
       "</table>\n",
       "<p><i>2 x 4 text alignment</i></p>\n",
       "</div>"
      ],
      "text/plain": [
       "2 x 4 alignment: x[----], y[----]"
      ]
     },
     "execution_count": 20,
     "metadata": {},
     "output_type": "execute_result"
    }
   ],
   "source": [
    "aln = make_aligned_seqs([[\"x\", \"-AAAA\"], [\"y\", \"TTTTT\"]], array_align=False)\n",
    "seq = DNA.make_seq(\"CCCCCCCCCCCCCCCCCCCC\", \"x\")\n",
    "exon = seq.add_feature(\"exon\", \"A\", [(5, 8)])\n",
    "aln.get_seq(\"x\").copy_annotations(seq)\n",
    "copied = list(aln.get_annotations_from_seq(\"x\", \"exon\"))\n",
    "copied\n",
    "copied[0].get_slice()"
   ]
  },
  {
   "cell_type": "code",
   "execution_count": 21,
   "id": "01ff12f0",
   "metadata": {
    "execution": {
     "iopub.execute_input": "2022-10-31T00:41:15.558879Z",
     "iopub.status.busy": "2022-10-31T00:41:15.558261Z",
     "iopub.status.idle": "2022-10-31T00:41:15.560457Z",
     "shell.execute_reply": "2022-10-31T00:41:15.560768Z"
    }
   },
   "outputs": [
    {
     "data": {
      "text/plain": [
       "[exon \"A\" at [7:10]/10]"
      ]
     },
     "execution_count": 21,
     "metadata": {},
     "output_type": "execute_result"
    }
   ],
   "source": [
    "aln = make_aligned_seqs(\n",
    "    [[\"x\", \"-AAAAAAAAA\"], [\"y\", \"TTTT--TTTT\"]], array_align=False\n",
    ")\n",
    "seq = DNA.make_seq(\"CCCCCCCCCCCCCCCCCCCC\", \"x\")\n",
    "match_exon = seq.add_feature(\"exon\", \"A\", [(5, 8)])\n",
    "aln.get_seq(\"y\").copy_annotations(seq)\n",
    "copied = list(aln.get_annotations_from_seq(\"y\", \"exon\"))\n",
    "copied"
   ]
  },
  {
   "cell_type": "code",
   "execution_count": 22,
   "id": "01e27f17",
   "metadata": {
    "execution": {
     "iopub.execute_input": "2022-10-31T00:41:15.564874Z",
     "iopub.status.busy": "2022-10-31T00:41:15.564230Z",
     "iopub.status.idle": "2022-10-31T00:41:15.566451Z",
     "shell.execute_reply": "2022-10-31T00:41:15.566826Z"
    }
   },
   "outputs": [
    {
     "data": {
      "text/plain": [
       "[repeat \"A\" at [10:10, -6-]/10]"
      ]
     },
     "execution_count": 22,
     "metadata": {},
     "output_type": "execute_result"
    }
   ],
   "source": [
    "aln = make_aligned_seqs(\n",
    "    [[\"x\", \"-AAAAAAAAA\"], [\"y\", \"TTTT--TTTT\"]], array_align=False\n",
    ")\n",
    "diff_len_seq = DNA.make_seq(\"CCCCCCCCCCCCCCCCCCCCCCCCCCCC\", \"x\")\n",
    "nonmatch = diff_len_seq.add_feature(\"repeat\", \"A\", [(12, 14)])\n",
    "aln.get_seq(\"y\").copy_annotations(diff_len_seq)\n",
    "copied = list(aln.get_annotations_from_seq(\"y\", \"repeat\"))\n",
    "copied"
   ]
  },
  {
   "cell_type": "code",
   "execution_count": 23,
   "id": "6d2ae34d",
   "metadata": {
    "execution": {
     "iopub.execute_input": "2022-10-31T00:41:15.571322Z",
     "iopub.status.busy": "2022-10-31T00:41:15.570206Z",
     "iopub.status.idle": "2022-10-31T00:41:15.573065Z",
     "shell.execute_reply": "2022-10-31T00:41:15.573442Z"
    }
   },
   "outputs": [
    {
     "name": "stdout",
     "output_type": "stream",
     "text": [
      "[exon \"fred\" at [4:9]/10]\n",
      ">x\n",
      "AAAAA\n",
      ">y\n",
      "--TTT\n",
      "\n",
      ">x\n",
      "AAAAA\n",
      ">y\n",
      "--T--\n",
      "\n"
     ]
    }
   ],
   "source": [
    "aln = make_aligned_seqs(\n",
    "    [[\"x\", \"-AAAAAAAAA\"], [\"y\", \"------TTTT\"]], array_align=False\n",
    ")\n",
    "exon = aln.get_seq(\"x\").add_feature(\"exon\", \"fred\", [(3, 8)])\n",
    "aln_exons = list(aln.get_annotations_from_seq(\"x\", \"exon\"))\n",
    "print(aln_exons)\n",
    "print(aln_exons[0].get_slice())\n",
    "aln = make_aligned_seqs(\n",
    "    [[\"x\", \"-AAAAAAAAA\"], [\"y\", \"TTTT--T---\"]], array_align=False\n",
    ")\n",
    "exon = aln.get_seq(\"x\").add_feature(\"exon\", \"fred\", [(3, 8)])\n",
    "aln_exons = list(aln.get_annotations_from_seq(\"x\", \"exon\"))\n",
    "print(aln_exons[0].get_slice())"
   ]
  },
  {
   "cell_type": "code",
   "execution_count": 24,
   "id": "fde5b3e3",
   "metadata": {
    "execution": {
     "iopub.execute_input": "2022-10-31T00:41:15.577501Z",
     "iopub.status.busy": "2022-10-31T00:41:15.577003Z",
     "iopub.status.idle": "2022-10-31T00:41:15.579120Z",
     "shell.execute_reply": "2022-10-31T00:41:15.579434Z"
    }
   },
   "outputs": [
    {
     "name": "stdout",
     "output_type": "stream",
     "text": [
      ">x\n",
      "C-CCCAAAAA\n",
      ">y\n",
      "-T----TTTT\n",
      "\n",
      "exon \"ex1\" at [0:4]/9\n",
      "CCCC\n",
      "[exon \"ex1\" at [0:1, 2:5]/10]\n",
      ">x\n",
      "CCCC\n",
      ">y\n",
      "----\n",
      "\n"
     ]
    }
   ],
   "source": [
    "aln = make_aligned_seqs(\n",
    "    [[\"x\", \"C-CCCAAAAA\"], [\"y\", \"-T----TTTT\"]], moltype=\"dna\", array_align=False\n",
    ")\n",
    "print(aln)\n",
    "exon = aln.get_seq(\"x\").add_feature(\"exon\", \"ex1\", [(0, 4)])\n",
    "print(exon)\n",
    "print(exon.get_slice())\n",
    "aln_exons = list(aln.get_annotations_from_seq(\"x\", \"exon\"))\n",
    "print(aln_exons)\n",
    "print(aln_exons[0].get_slice())"
   ]
  },
  {
   "cell_type": "code",
   "execution_count": 25,
   "id": "1700d194",
   "metadata": {
    "execution": {
     "iopub.execute_input": "2022-10-31T00:41:15.582406Z",
     "iopub.status.busy": "2022-10-31T00:41:15.581903Z",
     "iopub.status.idle": "2022-10-31T00:41:15.583979Z",
     "shell.execute_reply": "2022-10-31T00:41:15.584312Z"
    }
   },
   "outputs": [
    {
     "name": "stdout",
     "output_type": "stream",
     "text": [
      ">x\n",
      "C-CCC\n",
      ">y\n",
      "-T---\n",
      "\n"
     ]
    }
   ],
   "source": [
    "print(aln_exons[0].as_one_span().get_slice())"
   ]
  },
  {
   "cell_type": "code",
   "execution_count": 26,
   "id": "96bafd88",
   "metadata": {
    "execution": {
     "iopub.execute_input": "2022-10-31T00:41:15.587572Z",
     "iopub.status.busy": "2022-10-31T00:41:15.587113Z",
     "iopub.status.idle": "2022-10-31T00:41:15.589064Z",
     "shell.execute_reply": "2022-10-31T00:41:15.589443Z"
    }
   },
   "outputs": [
    {
     "name": "stdout",
     "output_type": "stream",
     "text": [
      ">x\n",
      "CCCC\n",
      ">y\n",
      "----\n",
      "\n",
      ">x\n",
      "C-CCC\n",
      ">y\n",
      "-T---\n",
      "\n"
     ]
    }
   ],
   "source": [
    "aln_rc = aln.rc()\n",
    "rc_exons = list(aln_rc.get_annotations_from_any_seq(\"exon\"))\n",
    "print(aln_rc[rc_exons])  # not using as_one_span, so gap removed from x\n",
    "print(aln_rc[rc_exons[0].as_one_span()])"
   ]
  },
  {
   "cell_type": "code",
   "execution_count": 27,
   "id": "562814ec",
   "metadata": {
    "execution": {
     "iopub.execute_input": "2022-10-31T00:41:15.592217Z",
     "iopub.status.busy": "2022-10-31T00:41:15.591766Z",
     "iopub.status.idle": "2022-10-31T00:41:15.593252Z",
     "shell.execute_reply": "2022-10-31T00:41:15.593563Z"
    }
   },
   "outputs": [],
   "source": [
    "all_exons = aln.get_region_covering_all(aln_exons)\n",
    "coords = all_exons.get_coordinates()\n",
    "assert coords == [(0, 1), (2, 5)]"
   ]
  },
  {
   "cell_type": "code",
   "execution_count": 28,
   "id": "de57d781",
   "metadata": {
    "execution": {
     "iopub.execute_input": "2022-10-31T00:41:15.598083Z",
     "iopub.status.busy": "2022-10-31T00:41:15.597559Z",
     "iopub.status.idle": "2022-10-31T00:41:15.599322Z",
     "shell.execute_reply": "2022-10-31T00:41:15.599640Z"
    }
   },
   "outputs": [
    {
     "name": "stdout",
     "output_type": "stream",
     "text": [
      ">x\n",
      "C-CCCAAAAAGGGAA\n",
      ">y\n",
      "-T----TTTTG-GTT\n",
      "\n",
      "CCCC\n",
      "GGG\n",
      "GG\n"
     ]
    }
   ],
   "source": [
    "aln = make_aligned_seqs(\n",
    "    [[\"x\", \"C-CCCAAAAAGGGAA\"], [\"y\", \"-T----TTTTG-GTT\"]], array_align=False\n",
    ")\n",
    "print(aln)\n",
    "exon = aln.get_seq(\"x\").add_feature(\"exon\", \"norwegian\", [(0, 4)])\n",
    "print(exon.get_slice())\n",
    "repeat = aln.get_seq(\"x\").add_feature(\"repeat\", \"blue\", [(9, 12)])\n",
    "print(repeat.get_slice())\n",
    "repeat = aln.get_seq(\"y\").add_feature(\"repeat\", \"frog\", [(5, 7)])\n",
    "print(repeat.get_slice())"
   ]
  },
  {
   "cell_type": "code",
   "execution_count": 29,
   "id": "e9cad0c8",
   "metadata": {
    "execution": {
     "iopub.execute_input": "2022-10-31T00:41:15.604106Z",
     "iopub.status.busy": "2022-10-31T00:41:15.603548Z",
     "iopub.status.idle": "2022-10-31T00:41:15.605573Z",
     "shell.execute_reply": "2022-10-31T00:41:15.605888Z"
    }
   },
   "outputs": [
    {
     "name": "stdout",
     "output_type": "stream",
     "text": [
      "????AAAAAGGGAA\n",
      "CCCC??????????\n",
      "????AAAAA???AA\n",
      "CCCC?????GGG??\n",
      "TTTTTGGTT\n",
      "TTTTT??TT\n",
      "?????GG??\n"
     ]
    }
   ],
   "source": [
    "print(aln.get_seq(\"x\").with_masked_annotations(\"exon\", mask_char=\"?\"))\n",
    "print(aln.get_seq(\"x\").with_masked_annotations(\"exon\", mask_char=\"?\", shadow=True))\n",
    "print(aln.get_seq(\"x\").with_masked_annotations([\"exon\", \"repeat\"], mask_char=\"?\"))\n",
    "print(\n",
    "    aln.get_seq(\"x\").with_masked_annotations(\n",
    "        [\"exon\", \"repeat\"], mask_char=\"?\", shadow=True\n",
    "    )\n",
    ")\n",
    "print(aln.get_seq(\"y\").with_masked_annotations(\"exon\", mask_char=\"?\"))\n",
    "print(aln.get_seq(\"y\").with_masked_annotations(\"repeat\", mask_char=\"?\"))\n",
    "print(\n",
    "    aln.get_seq(\"y\").with_masked_annotations(\"repeat\", mask_char=\"?\", shadow=True)\n",
    ")"
   ]
  },
  {
   "cell_type": "code",
   "execution_count": 30,
   "id": "fadf9148",
   "metadata": {
    "execution": {
     "iopub.execute_input": "2022-10-31T00:41:15.609602Z",
     "iopub.status.busy": "2022-10-31T00:41:15.608708Z",
     "iopub.status.idle": "2022-10-31T00:41:15.612137Z",
     "shell.execute_reply": "2022-10-31T00:41:15.612477Z"
    }
   },
   "outputs": [
    {
     "name": "stdout",
     "output_type": "stream",
     "text": [
      ">x\n",
      "?-???AAAAAGGGAA\n",
      ">y\n",
      "-T----TTTTG-GTT\n",
      "\n",
      ">x\n",
      "C-CCC??????????\n",
      ">y\n",
      "-?----?????-???\n",
      "\n",
      ">x\n",
      "C-CCCAAAAA???AA\n",
      ">y\n",
      "-T----TTTT?-?TT\n",
      "\n",
      ">x\n",
      "?-????????GGG??\n",
      ">y\n",
      "-?----????G-G??\n",
      "\n",
      ">x\n",
      "?-???AAAAA???AA\n",
      ">y\n",
      "-T----TTTT?-?TT\n",
      "\n",
      ">x\n",
      "C-CCC?????GGG??\n",
      ">y\n",
      "-?----????G-G??\n",
      "\n"
     ]
    }
   ],
   "source": [
    "print(aln.with_masked_annotations(\"exon\", mask_char=\"?\"))\n",
    "print(aln.with_masked_annotations(\"exon\", mask_char=\"?\", shadow=True))\n",
    "print(aln.with_masked_annotations(\"repeat\", mask_char=\"?\"))\n",
    "print(aln.with_masked_annotations(\"repeat\", mask_char=\"?\", shadow=True))\n",
    "print(aln.with_masked_annotations([\"repeat\", \"exon\"], mask_char=\"?\"))\n",
    "print(aln.with_masked_annotations([\"repeat\", \"exon\"], shadow=True))"
   ]
  },
  {
   "cell_type": "code",
   "execution_count": 31,
   "id": "29c74e3e",
   "metadata": {
    "execution": {
     "iopub.execute_input": "2022-10-31T00:41:15.615581Z",
     "iopub.status.busy": "2022-10-31T00:41:15.615113Z",
     "iopub.status.idle": "2022-10-31T00:41:15.616518Z",
     "shell.execute_reply": "2022-10-31T00:41:15.616979Z"
    }
   },
   "outputs": [],
   "source": [
    "data = [[\"human\", \"CGAAACGTTT\"], [\"mouse\", \"CTAAACGTCG\"]]\n",
    "as_series = make_aligned_seqs(data, array_align=False)\n",
    "as_items = make_aligned_seqs(data, array_align=False)"
   ]
  },
  {
   "cell_type": "code",
   "execution_count": 32,
   "id": "5d0c271f",
   "metadata": {
    "execution": {
     "iopub.execute_input": "2022-10-31T00:41:15.620290Z",
     "iopub.status.busy": "2022-10-31T00:41:15.619806Z",
     "iopub.status.idle": "2022-10-31T00:41:15.622389Z",
     "shell.execute_reply": "2022-10-31T00:41:15.622758Z"
    }
   },
   "outputs": [
    {
     "data": {
      "text/plain": [
       "cpgsite \"cpg\" at [5:7, 8:10]/10"
      ]
     },
     "execution_count": 32,
     "metadata": {},
     "output_type": "execute_result"
    }
   ],
   "source": [
    "as_series.get_seq(\"human\").add_feature(\"cpgsite\", \"cpg\", [(0, 2), (5, 7)])\n",
    "as_series.get_seq(\"mouse\").add_feature(\"cpgsite\", \"cpg\", [(5, 7), (8, 10)])"
   ]
  },
  {
   "cell_type": "code",
   "execution_count": 33,
   "id": "e295d2ea",
   "metadata": {
    "execution": {
     "iopub.execute_input": "2022-10-31T00:41:15.626780Z",
     "iopub.status.busy": "2022-10-31T00:41:15.626179Z",
     "iopub.status.idle": "2022-10-31T00:41:15.628148Z",
     "shell.execute_reply": "2022-10-31T00:41:15.628481Z"
    }
   },
   "outputs": [
    {
     "data": {
      "text/plain": [
       "cpgsite \"cpg\" at [8:10]/10"
      ]
     },
     "execution_count": 33,
     "metadata": {},
     "output_type": "execute_result"
    }
   ],
   "source": [
    "as_items.get_seq(\"human\").add_feature(\"cpgsite\", \"cpg\", [(0, 2)])\n",
    "as_items.get_seq(\"human\").add_feature(\"cpgsite\", \"cpg\", [(5, 7)])\n",
    "as_items.get_seq(\"mouse\").add_feature(\"cpgsite\", \"cpg\", [(5, 7)])\n",
    "as_items.get_seq(\"mouse\").add_feature(\"cpgsite\", \"cpg\", [(8, 10)])"
   ]
  },
  {
   "cell_type": "code",
   "execution_count": 34,
   "id": "f41c9362",
   "metadata": {
    "execution": {
     "iopub.execute_input": "2022-10-31T00:41:15.631893Z",
     "iopub.status.busy": "2022-10-31T00:41:15.631442Z",
     "iopub.status.idle": "2022-10-31T00:41:15.633413Z",
     "shell.execute_reply": "2022-10-31T00:41:15.633722Z"
    }
   },
   "outputs": [
    {
     "name": "stdout",
     "output_type": "stream",
     "text": [
      ">human\n",
      "??AAA??TTT\n",
      ">mouse\n",
      "CTAAA??T??\n",
      "\n",
      ">human\n",
      "??AAA??TTT\n",
      ">mouse\n",
      "CTAAA??T??\n",
      "\n"
     ]
    }
   ],
   "source": [
    "serial = as_series.with_masked_annotations([\"cpgsite\"])\n",
    "print(serial)\n",
    "itemwise = as_items.with_masked_annotations([\"cpgsite\"])\n",
    "print(itemwise)"
   ]
  },
  {
   "cell_type": "code",
   "execution_count": 35,
   "id": "3d870267",
   "metadata": {
    "execution": {
     "iopub.execute_input": "2022-10-31T00:41:15.636589Z",
     "iopub.status.busy": "2022-10-31T00:41:15.636099Z",
     "iopub.status.idle": "2022-10-31T00:41:15.637872Z",
     "shell.execute_reply": "2022-10-31T00:41:15.638247Z"
    }
   },
   "outputs": [
    {
     "name": "stdout",
     "output_type": "stream",
     "text": [
      "AA????AAAA?????AAAAAAAAAA??????????AAA\n",
      "TTT??????????TTTTTTTTTT?????TTTT????TT\n"
     ]
    }
   ],
   "source": [
    "print(plus.with_masked_annotations(\"CDS\"))\n",
    "print(minus.with_masked_annotations(\"CDS\"))"
   ]
  }
 ],
 "metadata": {
  "kernelspec": {
   "display_name": "Python 3 (ipykernel)",
   "language": "python",
   "name": "python3"
  },
  "language_info": {
   "codemirror_mode": {
    "name": "ipython",
    "version": 3
   },
   "file_extension": ".py",
   "mimetype": "text/x-python",
   "name": "python",
   "nbconvert_exporter": "python",
   "pygments_lexer": "ipython3",
   "version": "3.10.0"
  }
 },
 "nbformat": 4,
 "nbformat_minor": 5
}