{
 "cells": [
  {
   "cell_type": "code",
   "execution_count": 1,
   "id": "075dc662",
   "metadata": {
    "execution": {
     "iopub.execute_input": "2022-10-31T00:42:31.194415Z",
     "iopub.status.busy": "2022-10-31T00:42:31.193764Z",
     "iopub.status.idle": "2022-10-31T00:42:34.648573Z",
     "shell.execute_reply": "2022-10-31T00:42:34.649153Z"
    }
   },
   "outputs": [],
   "source": [
    "import set_working_directory"
   ]
  },
  {
   "cell_type": "code",
   "execution_count": 2,
   "id": "79eb6e3e",
   "metadata": {
    "execution": {
     "iopub.execute_input": "2022-10-31T00:42:34.654095Z",
     "iopub.status.busy": "2022-10-31T00:42:34.653383Z",
     "iopub.status.idle": "2022-10-31T00:42:35.934684Z",
     "shell.execute_reply": "2022-10-31T00:42:35.935075Z"
    }
   },
   "outputs": [],
   "source": [
    "from cogent3 import load_aligned_seqs, load_tree\n",
    "from cogent3.evolve.models import get_model\n",
    "from scipy.stats.distributions import chi2"
   ]
  },
  {
   "cell_type": "code",
   "execution_count": 3,
   "id": "c4ad8a8a",
   "metadata": {
    "execution": {
     "iopub.execute_input": "2022-10-31T00:42:35.938540Z",
     "iopub.status.busy": "2022-10-31T00:42:35.938010Z",
     "iopub.status.idle": "2022-10-31T00:42:35.942953Z",
     "shell.execute_reply": "2022-10-31T00:42:35.943290Z"
    }
   },
   "outputs": [],
   "source": [
    "aln = load_aligned_seqs(\"data/long_testseqs.fasta\")\n",
    "t = load_tree(filename=\"data/test.tree\")"
   ]
  },
  {
   "cell_type": "code",
   "execution_count": 4,
   "id": "05589284",
   "metadata": {
    "execution": {
     "iopub.execute_input": "2022-10-31T00:42:35.946748Z",
     "iopub.status.busy": "2022-10-31T00:42:35.946229Z",
     "iopub.status.idle": "2022-10-31T00:42:35.947931Z",
     "shell.execute_reply": "2022-10-31T00:42:35.948292Z"
    }
   },
   "outputs": [],
   "source": [
    "sm = get_model(\"HKY85\")"
   ]
  },
  {
   "cell_type": "code",
   "execution_count": 5,
   "id": "c34dd54a",
   "metadata": {
    "execution": {
     "iopub.execute_input": "2022-10-31T00:42:35.953912Z",
     "iopub.status.busy": "2022-10-31T00:42:35.953234Z",
     "iopub.status.idle": "2022-10-31T00:42:35.955246Z",
     "shell.execute_reply": "2022-10-31T00:42:35.955704Z"
    }
   },
   "outputs": [],
   "source": [
    "lf = sm.make_likelihood_function(t, digits=2, space=3)"
   ]
  },
  {
   "cell_type": "code",
   "execution_count": 6,
   "id": "22314377",
   "metadata": {
    "execution": {
     "iopub.execute_input": "2022-10-31T00:42:35.959051Z",
     "iopub.status.busy": "2022-10-31T00:42:35.958393Z",
     "iopub.status.idle": "2022-10-31T00:42:35.961596Z",
     "shell.execute_reply": "2022-10-31T00:42:35.962032Z"
    }
   },
   "outputs": [
    {
     "name": "stderr",
     "output_type": "stream",
     "text": [
      "/Users/gavin/opt/miniconda3/envs/c310dev/lib/python3.10/site-packages/cogent3/evolve/parameter_controller.py:414: UserWarning: Used mean of 2 length values\n",
      "  self.assign_all(\n"
     ]
    }
   ],
   "source": [
    "lf.set_local_clock(\"Human\", \"HowlerMon\")"
   ]
  },
  {
   "cell_type": "code",
   "execution_count": 7,
   "id": "29c71515",
   "metadata": {
    "execution": {
     "iopub.execute_input": "2022-10-31T00:42:35.965234Z",
     "iopub.status.busy": "2022-10-31T00:42:35.964606Z",
     "iopub.status.idle": "2022-10-31T00:42:35.988848Z",
     "shell.execute_reply": "2022-10-31T00:42:35.988312Z"
    }
   },
   "outputs": [],
   "source": [
    "lf.set_alignment(aln)"
   ]
  },
  {
   "cell_type": "code",
   "execution_count": 8,
   "id": "64a4c9e1",
   "metadata": {
    "execution": {
     "iopub.execute_input": "2022-10-31T00:42:36.007671Z",
     "iopub.status.busy": "2022-10-31T00:42:36.000088Z",
     "iopub.status.idle": "2022-10-31T00:42:36.086417Z",
     "shell.execute_reply": "2022-10-31T00:42:36.086908Z"
    }
   },
   "outputs": [],
   "source": [
    "lf.optimise(show_progress=False)"
   ]
  },
  {
   "cell_type": "code",
   "execution_count": 9,
   "id": "bfb2b041",
   "metadata": {
    "execution": {
     "iopub.execute_input": "2022-10-31T00:42:36.098171Z",
     "iopub.status.busy": "2022-10-31T00:42:36.096960Z",
     "iopub.status.idle": "2022-10-31T00:42:36.100550Z",
     "shell.execute_reply": "2022-10-31T00:42:36.101122Z"
    }
   },
   "outputs": [
    {
     "data": {
      "text/html": [
       "<h4>clock</h4>\n",
       "<p>log-likelihood = -8751.9425</p>\n",
       "<p>number of free parameters = 7</p>\n",
       "\n",
       "<div class=\"c3table\">\n",
       "\n",
       "<style>\n",
       ".c3table table {margin: 10px 0;}\n",
       ".c3table tr:last-child {border-bottom: 1px solid #000;} \n",
       ".c3table tr > th {text-align: left; padding: 0 5px;}\n",
       ".c3table tr > td {text-align: left; padding: 5px;}\n",
       ".c3table tr:nth-child(even) {background: #f7f7f7 !important;}\n",
       ".c3table .ellipsis {background: rgba(0, 0, 0, .01);}\n",
       ".c3table .index {background: rgba(161, 195, 209, 0.0); margin: 10px; font-weight: 600;}\n",
       ".c3table .head_cell {background: rgba(161, 195, 209, 0.75); font-weight: bold; text-align: center;}\n",
       ".c3table caption {color: rgb(250, 250, 250); background: rgba(30, 140, 200, 1); padding: 3px; white-space: nowrap; caption-side: top;}\n",
       ".c3table .cell_title {font-weight: bold;}\n",
       ".c3col_left { text-align: left !important; display: block;}\n",
       ".c3col_right { text-align: right !important; display: block;}\n",
       ".c3col_center { text-align: center !important; display: block;}\n",
       "</style>\n",
       "\n",
       "<table>\n",
       "\n",
       "<caption>\n",
       "<span class=\"cell_title\">Global params</span>\n",
       "</caption>\n",
       "<thead class=\"head_cell\">\n",
       "<th>kappa</th>\n",
       "</thead>\n",
       "<tbody>\n",
       "<tr><td><span class=\"c3col_right\">4.10</span></td></tr>\n",
       "</tbody>\n",
       "</table>\n",
       "\n",
       "</div>\n",
       "\n",
       "<div class=\"c3table\">\n",
       "\n",
       "<style>\n",
       ".c3table table {margin: 10px 0;}\n",
       ".c3table tr:last-child {border-bottom: 1px solid #000;} \n",
       ".c3table tr > th {text-align: left; padding: 0 5px;}\n",
       ".c3table tr > td {text-align: left; padding: 5px;}\n",
       ".c3table tr:nth-child(even) {background: #f7f7f7 !important;}\n",
       ".c3table .ellipsis {background: rgba(0, 0, 0, .01);}\n",
       ".c3table .index {background: rgba(161, 195, 209, 0.0); margin: 10px; font-weight: 600;}\n",
       ".c3table .head_cell {background: rgba(161, 195, 209, 0.75); font-weight: bold; text-align: center;}\n",
       ".c3table caption {color: rgb(250, 250, 250); background: rgba(30, 140, 200, 1); padding: 3px; white-space: nowrap; caption-side: top;}\n",
       ".c3table .cell_title {font-weight: bold;}\n",
       ".c3col_left { text-align: left !important; display: block;}\n",
       ".c3col_right { text-align: right !important; display: block;}\n",
       ".c3col_center { text-align: center !important; display: block;}\n",
       "</style>\n",
       "\n",
       "<table>\n",
       "\n",
       "<caption>\n",
       "<span class=\"cell_title\">Edge params</span>\n",
       "</caption>\n",
       "<thead class=\"head_cell\">\n",
       "<th>edge</th><th>parent</th><th>length</th>\n",
       "</thead>\n",
       "<tbody>\n",
       "<tr><td><span class=\"c3col_left\">Human</span></td><td><span class=\"c3col_left\">edge.0</span></td><td><span class=\"c3col_right\">0.04</span></td></tr>\n",
       "<tr><td><span class=\"c3col_left\">HowlerMon</span></td><td><span class=\"c3col_left\">edge.0</span></td><td><span class=\"c3col_right\">0.04</span></td></tr>\n",
       "<tr><td><span class=\"c3col_left\">edge.0</span></td><td><span class=\"c3col_left\">edge.1</span></td><td><span class=\"c3col_right\">0.04</span></td></tr>\n",
       "<tr><td><span class=\"c3col_left\">Mouse</span></td><td><span class=\"c3col_left\">edge.1</span></td><td><span class=\"c3col_right\">0.28</span></td></tr>\n",
       "<tr><td><span class=\"c3col_left\">edge.1</span></td><td><span class=\"c3col_left\">root</span></td><td><span class=\"c3col_right\">0.02</span></td></tr>\n",
       "<tr><td><span class=\"c3col_left\">NineBande</span></td><td><span class=\"c3col_left\">root</span></td><td><span class=\"c3col_right\">0.09</span></td></tr>\n",
       "<tr><td><span class=\"c3col_left\">DogFaced</span></td><td><span class=\"c3col_left\">root</span></td><td><span class=\"c3col_right\">0.11</span></td></tr>\n",
       "</tbody>\n",
       "</table>\n",
       "\n",
       "</div>\n",
       "\n",
       "<div class=\"c3table\">\n",
       "\n",
       "<style>\n",
       ".c3table table {margin: 10px 0;}\n",
       ".c3table tr:last-child {border-bottom: 1px solid #000;} \n",
       ".c3table tr > th {text-align: left; padding: 0 5px;}\n",
       ".c3table tr > td {text-align: left; padding: 5px;}\n",
       ".c3table tr:nth-child(even) {background: #f7f7f7 !important;}\n",
       ".c3table .ellipsis {background: rgba(0, 0, 0, .01);}\n",
       ".c3table .index {background: rgba(161, 195, 209, 0.0); margin: 10px; font-weight: 600;}\n",
       ".c3table .head_cell {background: rgba(161, 195, 209, 0.75); font-weight: bold; text-align: center;}\n",
       ".c3table caption {color: rgb(250, 250, 250); background: rgba(30, 140, 200, 1); padding: 3px; white-space: nowrap; caption-side: top;}\n",
       ".c3table .cell_title {font-weight: bold;}\n",
       ".c3col_left { text-align: left !important; display: block;}\n",
       ".c3col_right { text-align: right !important; display: block;}\n",
       ".c3col_center { text-align: center !important; display: block;}\n",
       "</style>\n",
       "\n",
       "<table>\n",
       "\n",
       "<caption>\n",
       "<span class=\"cell_title\">Motif params</span>\n",
       "</caption>\n",
       "<thead class=\"head_cell\">\n",
       "<th>A</th><th>C</th><th>G</th><th>T</th>\n",
       "</thead>\n",
       "<tbody>\n",
       "<tr><td><span class=\"c3col_right\">0.37</span></td><td><span class=\"c3col_right\">0.19</span></td><td><span class=\"c3col_right\">0.21</span></td><td><span class=\"c3col_right\">0.23</span></td></tr>\n",
       "</tbody>\n",
       "</table>\n",
       "\n",
       "</div>"
      ],
      "text/plain": [
       "clock\n",
       "log-likelihood = -8751.9425\n",
       "number of free parameters = 7\n",
       "=====\n",
       "kappa\n",
       "-----\n",
       " 4.10\n",
       "-----\n",
       "===========================\n",
       "edge        parent   length\n",
       "---------------------------\n",
       "Human       edge.0     0.04\n",
       "HowlerMon   edge.0     0.04\n",
       "edge.0      edge.1     0.04\n",
       "Mouse       edge.1     0.28\n",
       "edge.1      root       0.02\n",
       "NineBande   root       0.09\n",
       "DogFaced    root       0.11\n",
       "---------------------------\n",
       "=========================\n",
       "   A      C      G      T\n",
       "-------------------------\n",
       "0.37   0.19   0.21   0.23\n",
       "-------------------------"
      ]
     },
     "execution_count": 9,
     "metadata": {},
     "output_type": "execute_result"
    }
   ],
   "source": [
    "lf.set_name(\"clock\")\n",
    "lf"
   ]
  },
  {
   "cell_type": "code",
   "execution_count": 10,
   "id": "0eb1332d",
   "metadata": {
    "execution": {
     "iopub.execute_input": "2022-10-31T00:42:36.104356Z",
     "iopub.status.busy": "2022-10-31T00:42:36.103767Z",
     "iopub.status.idle": "2022-10-31T00:42:36.105705Z",
     "shell.execute_reply": "2022-10-31T00:42:36.106189Z"
    }
   },
   "outputs": [],
   "source": [
    "null_lnL = lf.get_log_likelihood()\n",
    "null_nfp = lf.get_num_free_params()"
   ]
  },
  {
   "cell_type": "code",
   "execution_count": 11,
   "id": "ab0f429d",
   "metadata": {
    "execution": {
     "iopub.execute_input": "2022-10-31T00:42:36.109714Z",
     "iopub.status.busy": "2022-10-31T00:42:36.109109Z",
     "iopub.status.idle": "2022-10-31T00:42:36.110983Z",
     "shell.execute_reply": "2022-10-31T00:42:36.111388Z"
    }
   },
   "outputs": [],
   "source": [
    "lf.set_param_rule(\"length\", is_independent=True)"
   ]
  },
  {
   "cell_type": "code",
   "execution_count": 12,
   "id": "65587b87",
   "metadata": {
    "execution": {
     "iopub.execute_input": "2022-10-31T00:42:36.124799Z",
     "iopub.status.busy": "2022-10-31T00:42:36.116388Z",
     "iopub.status.idle": "2022-10-31T00:42:36.199946Z",
     "shell.execute_reply": "2022-10-31T00:42:36.200539Z"
    }
   },
   "outputs": [],
   "source": [
    "lf.optimise(show_progress=False)"
   ]
  },
  {
   "cell_type": "code",
   "execution_count": 13,
   "id": "ef04f05b",
   "metadata": {
    "execution": {
     "iopub.execute_input": "2022-10-31T00:42:36.206691Z",
     "iopub.status.busy": "2022-10-31T00:42:36.205933Z",
     "iopub.status.idle": "2022-10-31T00:42:36.209424Z",
     "shell.execute_reply": "2022-10-31T00:42:36.208819Z"
    }
   },
   "outputs": [
    {
     "data": {
      "text/html": [
       "<h4>non clock</h4>\n",
       "<p>log-likelihood = -8750.5889</p>\n",
       "<p>number of free parameters = 8</p>\n",
       "\n",
       "<div class=\"c3table\">\n",
       "\n",
       "<style>\n",
       ".c3table table {margin: 10px 0;}\n",
       ".c3table tr:last-child {border-bottom: 1px solid #000;} \n",
       ".c3table tr > th {text-align: left; padding: 0 5px;}\n",
       ".c3table tr > td {text-align: left; padding: 5px;}\n",
       ".c3table tr:nth-child(even) {background: #f7f7f7 !important;}\n",
       ".c3table .ellipsis {background: rgba(0, 0, 0, .01);}\n",
       ".c3table .index {background: rgba(161, 195, 209, 0.0); margin: 10px; font-weight: 600;}\n",
       ".c3table .head_cell {background: rgba(161, 195, 209, 0.75); font-weight: bold; text-align: center;}\n",
       ".c3table caption {color: rgb(250, 250, 250); background: rgba(30, 140, 200, 1); padding: 3px; white-space: nowrap; caption-side: top;}\n",
       ".c3table .cell_title {font-weight: bold;}\n",
       ".c3col_left { text-align: left !important; display: block;}\n",
       ".c3col_right { text-align: right !important; display: block;}\n",
       ".c3col_center { text-align: center !important; display: block;}\n",
       "</style>\n",
       "\n",
       "<table>\n",
       "\n",
       "<caption>\n",
       "<span class=\"cell_title\">Global params</span>\n",
       "</caption>\n",
       "<thead class=\"head_cell\">\n",
       "<th>kappa</th>\n",
       "</thead>\n",
       "<tbody>\n",
       "<tr><td><span class=\"c3col_right\">4.10</span></td></tr>\n",
       "</tbody>\n",
       "</table>\n",
       "\n",
       "</div>\n",
       "\n",
       "<div class=\"c3table\">\n",
       "\n",
       "<style>\n",
       ".c3table table {margin: 10px 0;}\n",
       ".c3table tr:last-child {border-bottom: 1px solid #000;} \n",
       ".c3table tr > th {text-align: left; padding: 0 5px;}\n",
       ".c3table tr > td {text-align: left; padding: 5px;}\n",
       ".c3table tr:nth-child(even) {background: #f7f7f7 !important;}\n",
       ".c3table .ellipsis {background: rgba(0, 0, 0, .01);}\n",
       ".c3table .index {background: rgba(161, 195, 209, 0.0); margin: 10px; font-weight: 600;}\n",
       ".c3table .head_cell {background: rgba(161, 195, 209, 0.75); font-weight: bold; text-align: center;}\n",
       ".c3table caption {color: rgb(250, 250, 250); background: rgba(30, 140, 200, 1); padding: 3px; white-space: nowrap; caption-side: top;}\n",
       ".c3table .cell_title {font-weight: bold;}\n",
       ".c3col_left { text-align: left !important; display: block;}\n",
       ".c3col_right { text-align: right !important; display: block;}\n",
       ".c3col_center { text-align: center !important; display: block;}\n",
       "</style>\n",
       "\n",
       "<table>\n",
       "\n",
       "<caption>\n",
       "<span class=\"cell_title\">Edge params</span>\n",
       "</caption>\n",
       "<thead class=\"head_cell\">\n",
       "<th>edge</th><th>parent</th><th>length</th>\n",
       "</thead>\n",
       "<tbody>\n",
       "<tr><td><span class=\"c3col_left\">Human</span></td><td><span class=\"c3col_left\">edge.0</span></td><td><span class=\"c3col_right\">0.03</span></td></tr>\n",
       "<tr><td><span class=\"c3col_left\">HowlerMon</span></td><td><span class=\"c3col_left\">edge.0</span></td><td><span class=\"c3col_right\">0.04</span></td></tr>\n",
       "<tr><td><span class=\"c3col_left\">edge.0</span></td><td><span class=\"c3col_left\">edge.1</span></td><td><span class=\"c3col_right\">0.04</span></td></tr>\n",
       "<tr><td><span class=\"c3col_left\">Mouse</span></td><td><span class=\"c3col_left\">edge.1</span></td><td><span class=\"c3col_right\">0.28</span></td></tr>\n",
       "<tr><td><span class=\"c3col_left\">edge.1</span></td><td><span class=\"c3col_left\">root</span></td><td><span class=\"c3col_right\">0.02</span></td></tr>\n",
       "<tr><td><span class=\"c3col_left\">NineBande</span></td><td><span class=\"c3col_left\">root</span></td><td><span class=\"c3col_right\">0.09</span></td></tr>\n",
       "<tr><td><span class=\"c3col_left\">DogFaced</span></td><td><span class=\"c3col_left\">root</span></td><td><span class=\"c3col_right\">0.11</span></td></tr>\n",
       "</tbody>\n",
       "</table>\n",
       "\n",
       "</div>\n",
       "\n",
       "<div class=\"c3table\">\n",
       "\n",
       "<style>\n",
       ".c3table table {margin: 10px 0;}\n",
       ".c3table tr:last-child {border-bottom: 1px solid #000;} \n",
       ".c3table tr > th {text-align: left; padding: 0 5px;}\n",
       ".c3table tr > td {text-align: left; padding: 5px;}\n",
       ".c3table tr:nth-child(even) {background: #f7f7f7 !important;}\n",
       ".c3table .ellipsis {background: rgba(0, 0, 0, .01);}\n",
       ".c3table .index {background: rgba(161, 195, 209, 0.0); margin: 10px; font-weight: 600;}\n",
       ".c3table .head_cell {background: rgba(161, 195, 209, 0.75); font-weight: bold; text-align: center;}\n",
       ".c3table caption {color: rgb(250, 250, 250); background: rgba(30, 140, 200, 1); padding: 3px; white-space: nowrap; caption-side: top;}\n",
       ".c3table .cell_title {font-weight: bold;}\n",
       ".c3col_left { text-align: left !important; display: block;}\n",
       ".c3col_right { text-align: right !important; display: block;}\n",
       ".c3col_center { text-align: center !important; display: block;}\n",
       "</style>\n",
       "\n",
       "<table>\n",
       "\n",
       "<caption>\n",
       "<span class=\"cell_title\">Motif params</span>\n",
       "</caption>\n",
       "<thead class=\"head_cell\">\n",
       "<th>A</th><th>C</th><th>G</th><th>T</th>\n",
       "</thead>\n",
       "<tbody>\n",
       "<tr><td><span class=\"c3col_right\">0.37</span></td><td><span class=\"c3col_right\">0.19</span></td><td><span class=\"c3col_right\">0.21</span></td><td><span class=\"c3col_right\">0.23</span></td></tr>\n",
       "</tbody>\n",
       "</table>\n",
       "\n",
       "</div>"
      ],
      "text/plain": [
       "non clock\n",
       "log-likelihood = -8750.5889\n",
       "number of free parameters = 8\n",
       "=====\n",
       "kappa\n",
       "-----\n",
       " 4.10\n",
       "-----\n",
       "===========================\n",
       "edge        parent   length\n",
       "---------------------------\n",
       "Human       edge.0     0.03\n",
       "HowlerMon   edge.0     0.04\n",
       "edge.0      edge.1     0.04\n",
       "Mouse       edge.1     0.28\n",
       "edge.1      root       0.02\n",
       "NineBande   root       0.09\n",
       "DogFaced    root       0.11\n",
       "---------------------------\n",
       "=========================\n",
       "   A      C      G      T\n",
       "-------------------------\n",
       "0.37   0.19   0.21   0.23\n",
       "-------------------------"
      ]
     },
     "execution_count": 13,
     "metadata": {},
     "output_type": "execute_result"
    }
   ],
   "source": [
    "lf.set_name(\"non clock\")\n",
    "lf"
   ]
  },
  {
   "cell_type": "code",
   "execution_count": 14,
   "id": "3c562422",
   "metadata": {
    "execution": {
     "iopub.execute_input": "2022-10-31T00:42:36.212963Z",
     "iopub.status.busy": "2022-10-31T00:42:36.212362Z",
     "iopub.status.idle": "2022-10-31T00:42:36.214249Z",
     "shell.execute_reply": "2022-10-31T00:42:36.214654Z"
    }
   },
   "outputs": [],
   "source": [
    "LR = 2 * (lf.get_log_likelihood() - null_lnL)\n",
    "df = lf.get_num_free_params() - null_nfp\n",
    "P = chi2.sf(LR, df)"
   ]
  },
  {
   "cell_type": "code",
   "execution_count": 15,
   "id": "0ff3ada5",
   "metadata": {
    "execution": {
     "iopub.execute_input": "2022-10-31T00:42:36.217710Z",
     "iopub.status.busy": "2022-10-31T00:42:36.217127Z",
     "iopub.status.idle": "2022-10-31T00:42:36.219135Z",
     "shell.execute_reply": "2022-10-31T00:42:36.219646Z"
    }
   },
   "outputs": [
    {
     "name": "stdout",
     "output_type": "stream",
     "text": [
      "Likelihood ratio statistic =  2.7071645285614068\n",
      "degrees-of-freedom =  1\n",
      "probability =  0.09989841175600517\n"
     ]
    }
   ],
   "source": [
    "print(\"Likelihood ratio statistic = \", LR)\n",
    "print(\"degrees-of-freedom = \", df)\n",
    "print(\"probability = \", P)"
   ]
  }
 ],
 "metadata": {
  "kernelspec": {
   "display_name": "Python 3 (ipykernel)",
   "language": "python",
   "name": "python3"
  },
  "language_info": {
   "codemirror_mode": {
    "name": "ipython",
    "version": 3
   },
   "file_extension": ".py",
   "mimetype": "text/x-python",
   "name": "python",
   "nbconvert_exporter": "python",
   "pygments_lexer": "ipython3",
   "version": "3.10.0"
  }
 },
 "nbformat": 4,
 "nbformat_minor": 5
}