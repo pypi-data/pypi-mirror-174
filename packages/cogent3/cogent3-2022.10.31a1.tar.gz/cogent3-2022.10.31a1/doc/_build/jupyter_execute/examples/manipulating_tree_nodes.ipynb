{
 "cells": [
  {
   "cell_type": "code",
   "execution_count": 1,
   "id": "8adec3bf",
   "metadata": {
    "execution": {
     "iopub.execute_input": "2022-10-31T00:41:43.501156Z",
     "iopub.status.busy": "2022-10-31T00:41:43.500475Z",
     "iopub.status.idle": "2022-10-31T00:41:44.759723Z",
     "shell.execute_reply": "2022-10-31T00:41:44.760082Z"
    }
   },
   "outputs": [],
   "source": [
    "from cogent3 import load_tree, make_tree\n",
    "from cogent3.core.tree import PhyloNode\n",
    "from cogent3.parse.tree import DndParser"
   ]
  },
  {
   "cell_type": "code",
   "execution_count": 2,
   "id": "e502b0fd",
   "metadata": {
    "execution": {
     "iopub.execute_input": "2022-10-31T00:41:44.764253Z",
     "iopub.status.busy": "2022-10-31T00:41:44.763699Z",
     "iopub.status.idle": "2022-10-31T00:41:44.765447Z",
     "shell.execute_reply": "2022-10-31T00:41:44.765818Z"
    }
   },
   "outputs": [],
   "source": [
    "simple_tree_string = \"(B:0.2,(C:0.3,D:0.4)E:0.5)F;\"\n",
    "complex_tree_string = \"(((363564 AB294167.1 Alkalibacterium putridalgicola:0.0028006,55874 AB083411.1 Marinilactibacillus psychrotolerans:0.0022089):0.40998,(15050 Y10772.1 Facklamia hominis:0.32304,(132509 AY707780.1 Aerococcus viridans:0.58815,((143063 AY879307.1 Abiotrophia defectiva:0.5807,83619 AB042060.1 Bacillus schlegelii:0.23569):0.03586,169722 AB275483.1 Fibrobacter succinogenes:0.38272):0.06516):0.03492):0.14265):0.63594,(3589 M62687.1 Fibrobacter intestinalis:0.65866,314063 CP001146.1 Dictyoglomus thermophilum:0.38791):0.32147,276579 EU652053.1 Thermus scotoductus:0.57336);\"\n",
    "simple_tree = make_tree(simple_tree_string)\n",
    "complex_tree = DndParser(complex_tree_string, PhyloNode)"
   ]
  },
  {
   "cell_type": "code",
   "execution_count": 3,
   "id": "f8ec9a40",
   "metadata": {
    "execution": {
     "iopub.execute_input": "2022-10-31T00:41:44.768899Z",
     "iopub.status.busy": "2022-10-31T00:41:44.768309Z",
     "iopub.status.idle": "2022-10-31T00:41:44.770548Z",
     "shell.execute_reply": "2022-10-31T00:41:44.770893Z"
    }
   },
   "outputs": [
    {
     "name": "stdout",
     "output_type": "stream",
     "text": [
      "          /-B\n",
      "-F-------|\n",
      "         |          /-C\n",
      "          \\E-------|\n",
      "                    \\-D\n"
     ]
    }
   ],
   "source": [
    "print(simple_tree.ascii_art())"
   ]
  },
  {
   "cell_type": "code",
   "execution_count": 4,
   "id": "eefd5c24",
   "metadata": {
    "execution": {
     "iopub.execute_input": "2022-10-31T00:41:44.773646Z",
     "iopub.status.busy": "2022-10-31T00:41:44.773156Z",
     "iopub.status.idle": "2022-10-31T00:41:44.774627Z",
     "shell.execute_reply": "2022-10-31T00:41:44.774997Z"
    }
   },
   "outputs": [],
   "source": [
    "A_node = PhyloNode(name=\"A\", Length=0.1)"
   ]
  },
  {
   "cell_type": "code",
   "execution_count": 5,
   "id": "97969a2e",
   "metadata": {
    "execution": {
     "iopub.execute_input": "2022-10-31T00:41:44.777514Z",
     "iopub.status.busy": "2022-10-31T00:41:44.777045Z",
     "iopub.status.idle": "2022-10-31T00:41:44.778759Z",
     "shell.execute_reply": "2022-10-31T00:41:44.779080Z"
    }
   },
   "outputs": [
    {
     "name": "stdout",
     "output_type": "stream",
     "text": [
      "[Tree(\"B;\"), Tree(\"(C,D)E;\")]\n"
     ]
    }
   ],
   "source": [
    "print(simple_tree.children)"
   ]
  },
  {
   "cell_type": "code",
   "execution_count": 6,
   "id": "4efd5c06",
   "metadata": {
    "execution": {
     "iopub.execute_input": "2022-10-31T00:41:44.785618Z",
     "iopub.status.busy": "2022-10-31T00:41:44.785110Z",
     "iopub.status.idle": "2022-10-31T00:41:44.787322Z",
     "shell.execute_reply": "2022-10-31T00:41:44.787715Z"
    }
   },
   "outputs": [
    {
     "data": {
      "text/plain": [
       "True"
      ]
     },
     "execution_count": 6,
     "metadata": {},
     "output_type": "execute_result"
    }
   ],
   "source": [
    "simple_tree.children[1].remove(\"C\")"
   ]
  },
  {
   "cell_type": "code",
   "execution_count": 7,
   "id": "fbd8ec17",
   "metadata": {
    "execution": {
     "iopub.execute_input": "2022-10-31T00:41:44.790314Z",
     "iopub.status.busy": "2022-10-31T00:41:44.789854Z",
     "iopub.status.idle": "2022-10-31T00:41:44.791469Z",
     "shell.execute_reply": "2022-10-31T00:41:44.791787Z"
    }
   },
   "outputs": [],
   "source": [
    "simple_tree.children[1].insert(0, A_node)"
   ]
  },
  {
   "cell_type": "code",
   "execution_count": 8,
   "id": "8680ec19",
   "metadata": {
    "execution": {
     "iopub.execute_input": "2022-10-31T00:41:44.794472Z",
     "iopub.status.busy": "2022-10-31T00:41:44.793866Z",
     "iopub.status.idle": "2022-10-31T00:41:44.795659Z",
     "shell.execute_reply": "2022-10-31T00:41:44.795969Z"
    }
   },
   "outputs": [
    {
     "name": "stdout",
     "output_type": "stream",
     "text": [
      "          /-B\n",
      "-F-------|\n",
      "         |          /-A\n",
      "          \\E-------|\n",
      "                    \\-D\n"
     ]
    }
   ],
   "source": [
    "print(simple_tree.ascii_art())"
   ]
  },
  {
   "cell_type": "code",
   "execution_count": 9,
   "id": "313549f7",
   "metadata": {
    "execution": {
     "iopub.execute_input": "2022-10-31T00:41:44.798516Z",
     "iopub.status.busy": "2022-10-31T00:41:44.798050Z",
     "iopub.status.idle": "2022-10-31T00:41:44.799755Z",
     "shell.execute_reply": "2022-10-31T00:41:44.800068Z"
    }
   },
   "outputs": [
    {
     "name": "stdout",
     "output_type": "stream",
     "text": [
      "          /-B\n",
      "-F-------|\n",
      "          \\E------- /-D\n"
     ]
    }
   ],
   "source": [
    "simple_tree.children[1].remove(\"A\")\n",
    "print(simple_tree.ascii_art())"
   ]
  },
  {
   "cell_type": "code",
   "execution_count": 10,
   "id": "6ee2889f",
   "metadata": {
    "execution": {
     "iopub.execute_input": "2022-10-31T00:41:44.802729Z",
     "iopub.status.busy": "2022-10-31T00:41:44.802262Z",
     "iopub.status.idle": "2022-10-31T00:41:44.803826Z",
     "shell.execute_reply": "2022-10-31T00:41:44.804286Z"
    }
   },
   "outputs": [
    {
     "name": "stdout",
     "output_type": "stream",
     "text": [
      "          /-B\n",
      "-F-------|\n",
      "          \\-D\n"
     ]
    }
   ],
   "source": [
    "simple_tree.prune()\n",
    "print(simple_tree.ascii_art())"
   ]
  },
  {
   "cell_type": "code",
   "execution_count": 11,
   "id": "2458a518",
   "metadata": {
    "execution": {
     "iopub.execute_input": "2022-10-31T00:41:44.806878Z",
     "iopub.status.busy": "2022-10-31T00:41:44.806421Z",
     "iopub.status.idle": "2022-10-31T00:41:44.808138Z",
     "shell.execute_reply": "2022-10-31T00:41:44.808452Z"
    }
   },
   "outputs": [],
   "source": [
    "for n in complex_tree.iter_tips():\n",
    "    n.name = n.name.split()[2] + \" \" + n.name.split()[3]"
   ]
  },
  {
   "cell_type": "code",
   "execution_count": 12,
   "id": "e7d7b753",
   "metadata": {
    "execution": {
     "iopub.execute_input": "2022-10-31T00:41:44.810987Z",
     "iopub.status.busy": "2022-10-31T00:41:44.810495Z",
     "iopub.status.idle": "2022-10-31T00:41:44.812274Z",
     "shell.execute_reply": "2022-10-31T00:41:44.812744Z"
    }
   },
   "outputs": [
    {
     "name": "stdout",
     "output_type": "stream",
     "text": [
      "                              /-Alkalibacterium putridalgicola\n",
      "                    /--------|\n",
      "                   |          \\-Marinilactibacillus psychrotolerans\n",
      "          /--------|\n",
      "         |         |          /-Facklamia hominis\n",
      "         |         |         |\n",
      "         |          \\--------|          /-Aerococcus viridans\n",
      "         |                   |         |\n",
      "         |                    \\--------|                    /-Abiotrophia defectiva\n",
      "         |                             |          /--------|\n",
      "---------|                              \\--------|          \\-Bacillus schlegelii\n",
      "         |                                       |\n",
      "         |                                        \\-Fibrobacter succinogenes\n",
      "         |\n",
      "         |          /-Fibrobacter intestinalis\n",
      "         |---------|\n",
      "         |          \\-Dictyoglomus thermophilum\n",
      "         |\n",
      "          \\-Thermus scotoductus\n"
     ]
    }
   ],
   "source": [
    "print(complex_tree.ascii_art(show_internal=False))"
   ]
  },
  {
   "cell_type": "code",
   "execution_count": 13,
   "id": "1274ee21",
   "metadata": {
    "execution": {
     "iopub.execute_input": "2022-10-31T00:41:44.815312Z",
     "iopub.status.busy": "2022-10-31T00:41:44.814855Z",
     "iopub.status.idle": "2022-10-31T00:41:44.816326Z",
     "shell.execute_reply": "2022-10-31T00:41:44.816640Z"
    }
   },
   "outputs": [],
   "source": [
    "tips = complex_tree.tips()"
   ]
  },
  {
   "cell_type": "code",
   "execution_count": 14,
   "id": "108a10f2",
   "metadata": {
    "execution": {
     "iopub.execute_input": "2022-10-31T00:41:44.819430Z",
     "iopub.status.busy": "2022-10-31T00:41:44.818977Z",
     "iopub.status.idle": "2022-10-31T00:41:44.820557Z",
     "shell.execute_reply": "2022-10-31T00:41:44.820932Z"
    }
   },
   "outputs": [],
   "source": [
    "tips_to_delete = []\n",
    "AEROCOCCUS_INDEX = 3\n",
    "for n in tips:\n",
    "    if tips[AEROCOCCUS_INDEX].distance(n) > 1.8:\n",
    "        tips_to_delete.append(n)"
   ]
  },
  {
   "cell_type": "code",
   "execution_count": 15,
   "id": "38af3834",
   "metadata": {
    "execution": {
     "iopub.execute_input": "2022-10-31T00:41:44.823470Z",
     "iopub.status.busy": "2022-10-31T00:41:44.823006Z",
     "iopub.status.idle": "2022-10-31T00:41:44.824506Z",
     "shell.execute_reply": "2022-10-31T00:41:44.824840Z"
    }
   },
   "outputs": [],
   "source": [
    "for n in tips_to_delete:\n",
    "    n.parent.remove(n)\n",
    "    complex_tree.prune()"
   ]
  },
  {
   "cell_type": "code",
   "execution_count": 16,
   "id": "47c1d49b",
   "metadata": {
    "execution": {
     "iopub.execute_input": "2022-10-31T00:41:44.827325Z",
     "iopub.status.busy": "2022-10-31T00:41:44.826849Z",
     "iopub.status.idle": "2022-10-31T00:41:44.828720Z",
     "shell.execute_reply": "2022-10-31T00:41:44.829035Z"
    }
   },
   "outputs": [
    {
     "name": "stdout",
     "output_type": "stream",
     "text": [
      "                              /-Alkalibacterium putridalgicola\n",
      "                    /--------|\n",
      "                   |          \\-Marinilactibacillus psychrotolerans\n",
      "--------- /--------|\n",
      "                   |          /-Facklamia hominis\n",
      "                   |         |\n",
      "                    \\--------|          /-Aerococcus viridans\n",
      "                             |         |\n",
      "                              \\--------|                    /-Abiotrophia defectiva\n",
      "                                       |          /--------|\n",
      "                                        \\--------|          \\-Bacillus schlegelii\n",
      "                                                 |\n",
      "                                                  \\-Fibrobacter succinogenes\n"
     ]
    }
   ],
   "source": [
    "print(complex_tree.ascii_art(show_internal=False))"
   ]
  }
 ],
 "metadata": {
  "kernelspec": {
   "display_name": "Python 3 (ipykernel)",
   "language": "python",
   "name": "python3"
  },
  "language_info": {
   "codemirror_mode": {
    "name": "ipython",
    "version": 3
   },
   "file_extension": ".py",
   "mimetype": "text/x-python",
   "name": "python",
   "nbconvert_exporter": "python",
   "pygments_lexer": "ipython3",
   "version": "3.10.0"
  }
 },
 "nbformat": 4,
 "nbformat_minor": 5
}