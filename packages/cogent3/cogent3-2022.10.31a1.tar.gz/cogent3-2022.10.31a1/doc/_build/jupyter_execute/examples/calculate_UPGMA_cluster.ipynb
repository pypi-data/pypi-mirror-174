{
 "cells": [
  {
   "cell_type": "code",
   "execution_count": 1,
   "id": "4bcd7854",
   "metadata": {
    "execution": {
     "iopub.execute_input": "2022-10-31T00:40:04.324288Z",
     "iopub.status.busy": "2022-10-31T00:40:04.323652Z",
     "iopub.status.idle": "2022-10-31T00:40:07.941148Z",
     "shell.execute_reply": "2022-10-31T00:40:07.941715Z"
    }
   },
   "outputs": [],
   "source": [
    "import set_working_directory"
   ]
  },
  {
   "cell_type": "code",
   "execution_count": 2,
   "id": "d6ddabc8",
   "metadata": {
    "execution": {
     "iopub.execute_input": "2022-10-31T00:40:07.946489Z",
     "iopub.status.busy": "2022-10-31T00:40:07.945739Z",
     "iopub.status.idle": "2022-10-31T00:40:09.326125Z",
     "shell.execute_reply": "2022-10-31T00:40:09.326472Z"
    }
   },
   "outputs": [],
   "source": [
    "from cogent3 import load_aligned_seqs\n",
    "from cogent3.cluster.UPGMA import upgma\n",
    "from cogent3.evolve import distance"
   ]
  },
  {
   "cell_type": "code",
   "execution_count": 3,
   "id": "7376c43e",
   "metadata": {
    "execution": {
     "iopub.execute_input": "2022-10-31T00:40:09.329770Z",
     "iopub.status.busy": "2022-10-31T00:40:09.329232Z",
     "iopub.status.idle": "2022-10-31T00:40:09.332672Z",
     "shell.execute_reply": "2022-10-31T00:40:09.332306Z"
    }
   },
   "outputs": [],
   "source": [
    "from cogent3.evolve.models import HKY85"
   ]
  },
  {
   "cell_type": "code",
   "execution_count": 4,
   "id": "16c66cc6",
   "metadata": {
    "execution": {
     "iopub.execute_input": "2022-10-31T00:40:09.335757Z",
     "iopub.status.busy": "2022-10-31T00:40:09.335191Z",
     "iopub.status.idle": "2022-10-31T00:40:09.337640Z",
     "shell.execute_reply": "2022-10-31T00:40:09.338021Z"
    }
   },
   "outputs": [],
   "source": [
    "al = load_aligned_seqs(\"data/test.paml\")"
   ]
  },
  {
   "cell_type": "code",
   "execution_count": 5,
   "id": "502273a9",
   "metadata": {
    "execution": {
     "iopub.execute_input": "2022-10-31T00:40:09.345487Z",
     "iopub.status.busy": "2022-10-31T00:40:09.341308Z",
     "iopub.status.idle": "2022-10-31T00:40:09.553784Z",
     "shell.execute_reply": "2022-10-31T00:40:09.554266Z"
    }
   },
   "outputs": [],
   "source": [
    "d = distance.EstimateDistances(al, submodel=HKY85())\n",
    "d.run(show_progress=False)"
   ]
  },
  {
   "cell_type": "code",
   "execution_count": 6,
   "id": "648a08e1",
   "metadata": {
    "execution": {
     "iopub.execute_input": "2022-10-31T00:40:09.559184Z",
     "iopub.status.busy": "2022-10-31T00:40:09.558552Z",
     "iopub.status.idle": "2022-10-31T00:40:09.560887Z",
     "shell.execute_reply": "2022-10-31T00:40:09.561306Z"
    }
   },
   "outputs": [
    {
     "name": "stdout",
     "output_type": "stream",
     "text": [
      "                    /-DogFaced\n",
      "                   |\n",
      "          /edge.0--|                    /-HowlerMon\n",
      "         |         |          /edge.2--|\n",
      "         |          \\edge.1--|          \\-Human\n",
      "-root----|                   |\n",
      "         |                    \\-NineBande\n",
      "         |\n",
      "          \\-Mouse\n"
     ]
    }
   ],
   "source": [
    "mycluster = upgma(d.get_pairwise_distances())\n",
    "print(mycluster.ascii_art())"
   ]
  },
  {
   "cell_type": "code",
   "execution_count": 7,
   "id": "8e26c219",
   "metadata": {
    "execution": {
     "iopub.execute_input": "2022-10-31T00:40:09.564423Z",
     "iopub.status.busy": "2022-10-31T00:40:09.563823Z",
     "iopub.status.idle": "2022-10-31T00:40:09.566490Z",
     "shell.execute_reply": "2022-10-31T00:40:09.566874Z"
    }
   },
   "outputs": [],
   "source": [
    "mycluster.write(\"test_upgma.tree\")"
   ]
  },
  {
   "cell_type": "code",
   "execution_count": 8,
   "id": "e703a4c4",
   "metadata": {
    "execution": {
     "iopub.execute_input": "2022-10-31T00:40:09.569841Z",
     "iopub.status.busy": "2022-10-31T00:40:09.569208Z",
     "iopub.status.idle": "2022-10-31T00:40:09.571128Z",
     "shell.execute_reply": "2022-10-31T00:40:09.571524Z"
    }
   },
   "outputs": [],
   "source": [
    "import os\n",
    "\n",
    "os.remove(\"test_upgma.tree\")"
   ]
  }
 ],
 "metadata": {
  "kernelspec": {
   "display_name": "Python 3 (ipykernel)",
   "language": "python",
   "name": "python3"
  },
  "language_info": {
   "codemirror_mode": {
    "name": "ipython",
    "version": 3
   },
   "file_extension": ".py",
   "mimetype": "text/x-python",
   "name": "python",
   "nbconvert_exporter": "python",
   "pygments_lexer": "ipython3",
   "version": "3.10.0"
  }
 },
 "nbformat": 4,
 "nbformat_minor": 5
}