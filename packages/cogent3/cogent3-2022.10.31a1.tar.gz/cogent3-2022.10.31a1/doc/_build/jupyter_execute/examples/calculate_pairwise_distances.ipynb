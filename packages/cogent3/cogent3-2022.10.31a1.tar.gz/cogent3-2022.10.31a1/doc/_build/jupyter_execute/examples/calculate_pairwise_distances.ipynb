{
 "cells": [
  {
   "cell_type": "code",
   "execution_count": 1,
   "id": "dfa1d8e8",
   "metadata": {
    "execution": {
     "iopub.execute_input": "2022-10-31T00:40:18.287998Z",
     "iopub.status.busy": "2022-10-31T00:40:18.287349Z",
     "iopub.status.idle": "2022-10-31T00:40:22.360923Z",
     "shell.execute_reply": "2022-10-31T00:40:22.361721Z"
    }
   },
   "outputs": [],
   "source": [
    "import set_working_directory"
   ]
  },
  {
   "cell_type": "code",
   "execution_count": 2,
   "id": "31fa48d2",
   "metadata": {
    "execution": {
     "iopub.execute_input": "2022-10-31T00:40:22.366505Z",
     "iopub.status.busy": "2022-10-31T00:40:22.365795Z",
     "iopub.status.idle": "2022-10-31T00:40:23.653897Z",
     "shell.execute_reply": "2022-10-31T00:40:23.654348Z"
    }
   },
   "outputs": [],
   "source": [
    "from cogent3 import load_aligned_seqs\n",
    "from cogent3.evolve import distance"
   ]
  },
  {
   "cell_type": "code",
   "execution_count": 3,
   "id": "cb612e32",
   "metadata": {
    "execution": {
     "iopub.execute_input": "2022-10-31T00:40:23.657789Z",
     "iopub.status.busy": "2022-10-31T00:40:23.657243Z",
     "iopub.status.idle": "2022-10-31T00:40:23.658927Z",
     "shell.execute_reply": "2022-10-31T00:40:23.659490Z"
    }
   },
   "outputs": [],
   "source": [
    "from cogent3.evolve.models import HKY85"
   ]
  },
  {
   "cell_type": "code",
   "execution_count": 4,
   "id": "c3bc5039",
   "metadata": {
    "execution": {
     "iopub.execute_input": "2022-10-31T00:40:23.662463Z",
     "iopub.status.busy": "2022-10-31T00:40:23.661938Z",
     "iopub.status.idle": "2022-10-31T00:40:23.666012Z",
     "shell.execute_reply": "2022-10-31T00:40:23.666386Z"
    }
   },
   "outputs": [],
   "source": [
    "al = load_aligned_seqs(\"data/long_testseqs.fasta\")"
   ]
  },
  {
   "cell_type": "code",
   "execution_count": 5,
   "id": "ec1c741e",
   "metadata": {
    "execution": {
     "iopub.execute_input": "2022-10-31T00:40:23.670280Z",
     "iopub.status.busy": "2022-10-31T00:40:23.669706Z",
     "iopub.status.idle": "2022-10-31T00:40:24.002935Z",
     "shell.execute_reply": "2022-10-31T00:40:24.003449Z"
    }
   },
   "outputs": [
    {
     "data": {
      "text/html": [
       "\n",
       "<div class=\"c3table\">\n",
       "\n",
       "<style>\n",
       ".c3table table {margin: 10px 0;}\n",
       ".c3table tr:last-child {border-bottom: 1px solid #000;} \n",
       ".c3table tr > th {text-align: left; padding: 0 5px;}\n",
       ".c3table tr > td {text-align: left; padding: 5px;}\n",
       ".c3table tr:nth-child(even) {background: #f7f7f7 !important;}\n",
       ".c3table .ellipsis {background: rgba(0, 0, 0, .01);}\n",
       ".c3table .index {background: rgba(161, 195, 209, 0.25); margin: 10px; font-weight: 600;}\n",
       ".c3table .head_cell {background: rgba(161, 195, 209, 0.75); font-weight: bold; text-align: center;}\n",
       ".c3table caption {color: rgb(250, 250, 250); background: rgba(30, 140, 200, 1); padding: 3px; white-space: nowrap; caption-side: top;}\n",
       ".c3table .cell_title {font-weight: bold;}\n",
       ".c3col_left { text-align: left !important; display: block;}\n",
       ".c3col_right { text-align: right !important; display: block;}\n",
       ".c3col_center { text-align: center !important; display: block;}\n",
       "</style>\n",
       "\n",
       "<table>\n",
       "\n",
       "<thead class=\"head_cell\">\n",
       "<th>names</th><th>DogFaced</th><th>HowlerMon</th><th>Human</th><th>Mouse</th><th>NineBande</th>\n",
       "</thead>\n",
       "<tbody>\n",
       "<tr><td class=\"index\"><span class=\"c3col_left\">DogFaced</span></td><td><span class=\"c3col_right\">0.0000</span></td><td><span class=\"c3col_right\">0.2078</span></td><td><span class=\"c3col_right\">0.1972</span></td><td><span class=\"c3col_right\">0.4022</span></td><td><span class=\"c3col_right\">0.2019</span></td></tr>\n",
       "<tr><td class=\"index\"><span class=\"c3col_left\">HowlerMon</span></td><td><span class=\"c3col_right\">0.2078</span></td><td><span class=\"c3col_right\">0.0000</span></td><td><span class=\"c3col_right\">0.0730</span></td><td><span class=\"c3col_right\">0.3487</span></td><td><span class=\"c3col_right\">0.1865</span></td></tr>\n",
       "<tr><td class=\"index\"><span class=\"c3col_left\">Human</span></td><td><span class=\"c3col_right\">0.1972</span></td><td><span class=\"c3col_right\">0.0730</span></td><td><span class=\"c3col_right\">0.0000</span></td><td><span class=\"c3col_right\">0.3363</span></td><td><span class=\"c3col_right\">0.1804</span></td></tr>\n",
       "<tr><td class=\"index\"><span class=\"c3col_left\">Mouse</span></td><td><span class=\"c3col_right\">0.4022</span></td><td><span class=\"c3col_right\">0.3487</span></td><td><span class=\"c3col_right\">0.3363</span></td><td><span class=\"c3col_right\">0.0000</span></td><td><span class=\"c3col_right\">0.3813</span></td></tr>\n",
       "<tr><td class=\"index\"><span class=\"c3col_left\">NineBande</span></td><td><span class=\"c3col_right\">0.2019</span></td><td><span class=\"c3col_right\">0.1865</span></td><td><span class=\"c3col_right\">0.1804</span></td><td><span class=\"c3col_right\">0.3813</span></td><td><span class=\"c3col_right\">0.0000</span></td></tr>\n",
       "</tbody>\n",
       "</table>\n",
       "\n",
       "</div>"
      ],
      "text/plain": [
       "===================================================================\n",
       "names        DogFaced    HowlerMon     Human     Mouse    NineBande\n",
       "-------------------------------------------------------------------\n",
       "DogFaced       0.0000       0.2078    0.1972    0.4022       0.2019\n",
       "HowlerMon      0.2078       0.0000    0.0730    0.3487       0.1865\n",
       "Human          0.1972       0.0730    0.0000    0.3363       0.1804\n",
       "Mouse          0.4022       0.3487    0.3363    0.0000       0.3813\n",
       "NineBande      0.2019       0.1865    0.1804    0.3813       0.0000\n",
       "-------------------------------------------------------------------"
      ]
     },
     "execution_count": 5,
     "metadata": {},
     "output_type": "execute_result"
    }
   ],
   "source": [
    "d = distance.EstimateDistances(al, submodel=HKY85())\n",
    "d.run(show_progress=False)\n",
    "d.get_pairwise_distances()"
   ]
  },
  {
   "cell_type": "code",
   "execution_count": 6,
   "id": "1d82ca89",
   "metadata": {
    "execution": {
     "iopub.execute_input": "2022-10-31T00:40:24.007358Z",
     "iopub.status.busy": "2022-10-31T00:40:24.006746Z",
     "iopub.status.idle": "2022-10-31T00:40:24.010153Z",
     "shell.execute_reply": "2022-10-31T00:40:24.010649Z"
    }
   },
   "outputs": [],
   "source": [
    "d.write(\"dists_for_phylo.phylip\", format=\"phylip\")"
   ]
  },
  {
   "cell_type": "code",
   "execution_count": 7,
   "id": "b87f4d0e",
   "metadata": {
    "execution": {
     "iopub.execute_input": "2022-10-31T00:40:24.013787Z",
     "iopub.status.busy": "2022-10-31T00:40:24.013198Z",
     "iopub.status.idle": "2022-10-31T00:40:24.015331Z",
     "shell.execute_reply": "2022-10-31T00:40:24.015724Z"
    }
   },
   "outputs": [],
   "source": [
    "import pickle\n",
    "\n",
    "with open(\"dists_for_phylo.pickle\", \"wb\") as f:\n",
    "    pickle.dump(d.get_pairwise_distances(), f)"
   ]
  },
  {
   "cell_type": "code",
   "execution_count": 8,
   "id": "af72ae71",
   "metadata": {
    "execution": {
     "iopub.execute_input": "2022-10-31T00:40:24.019185Z",
     "iopub.status.busy": "2022-10-31T00:40:24.018557Z",
     "iopub.status.idle": "2022-10-31T00:40:24.020594Z",
     "shell.execute_reply": "2022-10-31T00:40:24.021255Z"
    }
   },
   "outputs": [],
   "source": [
    "import os\n",
    "\n",
    "for file_name in \"dists_for_phylo.phylip\", \"dists_for_phylo.pickle\":\n",
    "    os.remove(file_name)"
   ]
  }
 ],
 "metadata": {
  "kernelspec": {
   "display_name": "Python 3 (ipykernel)",
   "language": "python",
   "name": "python3"
  },
  "language_info": {
   "codemirror_mode": {
    "name": "ipython",
    "version": 3
   },
   "file_extension": ".py",
   "mimetype": "text/x-python",
   "name": "python",
   "nbconvert_exporter": "python",
   "pygments_lexer": "ipython3",
   "version": "3.10.0"
  }
 },
 "nbformat": 4,
 "nbformat_minor": 5
}