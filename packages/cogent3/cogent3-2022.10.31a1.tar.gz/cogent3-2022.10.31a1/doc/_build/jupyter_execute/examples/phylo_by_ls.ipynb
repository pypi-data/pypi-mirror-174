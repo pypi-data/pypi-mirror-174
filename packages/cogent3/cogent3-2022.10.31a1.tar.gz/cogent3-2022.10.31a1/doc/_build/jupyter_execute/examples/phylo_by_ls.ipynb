{
 "cells": [
  {
   "cell_type": "code",
   "execution_count": 1,
   "id": "5e12ed13",
   "metadata": {
    "execution": {
     "iopub.execute_input": "2022-10-31T00:42:14.168966Z",
     "iopub.status.busy": "2022-10-31T00:42:14.168405Z",
     "iopub.status.idle": "2022-10-31T00:42:17.939678Z",
     "shell.execute_reply": "2022-10-31T00:42:17.940204Z"
    }
   },
   "outputs": [],
   "source": [
    "import set_working_directory"
   ]
  },
  {
   "cell_type": "code",
   "execution_count": 2,
   "id": "c4485a08",
   "metadata": {
    "execution": {
     "iopub.execute_input": "2022-10-31T00:42:17.945775Z",
     "iopub.status.busy": "2022-10-31T00:42:17.945093Z",
     "iopub.status.idle": "2022-10-31T00:42:19.602321Z",
     "shell.execute_reply": "2022-10-31T00:42:19.603144Z"
    }
   },
   "outputs": [],
   "source": [
    "import pickle\n",
    "\n",
    "from cogent3 import load_aligned_seqs\n",
    "from cogent3.evolve import distance\n",
    "from cogent3.evolve.fast_distance import DistanceMatrix\n",
    "from cogent3.evolve.models import HKY85\n",
    "\n",
    "al = load_aligned_seqs(\"data/long_testseqs.fasta\")\n",
    "d = distance.EstimateDistances(al, submodel=HKY85())\n",
    "d.run(show_progress=False)\n",
    "\n",
    "with open(\"dists_for_phylo.pickle\", \"wb\") as f:\n",
    "    pickle.dump(d.get_pairwise_distances(), f)"
   ]
  },
  {
   "cell_type": "code",
   "execution_count": 3,
   "id": "4e72462b",
   "metadata": {
    "execution": {
     "iopub.execute_input": "2022-10-31T00:42:19.607113Z",
     "iopub.status.busy": "2022-10-31T00:42:19.606510Z",
     "iopub.status.idle": "2022-10-31T00:42:19.612441Z",
     "shell.execute_reply": "2022-10-31T00:42:19.612949Z"
    }
   },
   "outputs": [],
   "source": [
    "import pickle\n",
    "\n",
    "from cogent3.phylo import least_squares"
   ]
  },
  {
   "cell_type": "code",
   "execution_count": 4,
   "id": "eb006977",
   "metadata": {
    "execution": {
     "iopub.execute_input": "2022-10-31T00:42:19.616071Z",
     "iopub.status.busy": "2022-10-31T00:42:19.615429Z",
     "iopub.status.idle": "2022-10-31T00:42:19.617416Z",
     "shell.execute_reply": "2022-10-31T00:42:19.617904Z"
    }
   },
   "outputs": [],
   "source": [
    "with open(\"dists_for_phylo.pickle\", \"rb\") as f:\n",
    "    dists = pickle.load(f)"
   ]
  },
  {
   "cell_type": "code",
   "execution_count": 5,
   "id": "3492e164",
   "metadata": {
    "execution": {
     "iopub.execute_input": "2022-10-31T00:42:19.620882Z",
     "iopub.status.busy": "2022-10-31T00:42:19.620285Z",
     "iopub.status.idle": "2022-10-31T00:42:19.622512Z",
     "shell.execute_reply": "2022-10-31T00:42:19.621920Z"
    }
   },
   "outputs": [],
   "source": [
    "ls = least_squares.WLS(dists)"
   ]
  },
  {
   "cell_type": "code",
   "execution_count": 6,
   "id": "a8c936fb",
   "metadata": {
    "execution": {
     "iopub.execute_input": "2022-10-31T00:42:19.625849Z",
     "iopub.status.busy": "2022-10-31T00:42:19.625254Z",
     "iopub.status.idle": "2022-10-31T00:42:19.627053Z",
     "shell.execute_reply": "2022-10-31T00:42:19.627550Z"
    }
   },
   "outputs": [],
   "source": [
    "ls_distance_matrix = least_squares.WLS(DistanceMatrix(dists))\n",
    "ls_pairwise_matrix = least_squares.WLS(dists.to_dict())"
   ]
  },
  {
   "cell_type": "code",
   "execution_count": 7,
   "id": "d8029c9a",
   "metadata": {
    "execution": {
     "iopub.execute_input": "2022-10-31T00:42:19.630962Z",
     "iopub.status.busy": "2022-10-31T00:42:19.630399Z",
     "iopub.status.idle": "2022-10-31T00:42:19.634545Z",
     "shell.execute_reply": "2022-10-31T00:42:19.634034Z"
    }
   },
   "outputs": [],
   "source": [
    "score, tree = ls.trex(a=5, k=1, show_progress=False)\n",
    "assert score < 1e-4"
   ]
  },
  {
   "cell_type": "code",
   "execution_count": 8,
   "id": "8bd934c3",
   "metadata": {
    "execution": {
     "iopub.execute_input": "2022-10-31T00:42:19.638189Z",
     "iopub.status.busy": "2022-10-31T00:42:19.637609Z",
     "iopub.status.idle": "2022-10-31T00:42:19.641750Z",
     "shell.execute_reply": "2022-10-31T00:42:19.642184Z"
    }
   },
   "outputs": [],
   "source": [
    "trees = ls.trex(a=5, k=5, return_all=True, show_progress=False)"
   ]
  },
  {
   "cell_type": "code",
   "execution_count": 9,
   "id": "67ba47c4",
   "metadata": {
    "execution": {
     "iopub.execute_input": "2022-10-31T00:42:19.645158Z",
     "iopub.status.busy": "2022-10-31T00:42:19.644569Z",
     "iopub.status.idle": "2022-10-31T00:42:19.646891Z",
     "shell.execute_reply": "2022-10-31T00:42:19.647296Z"
    }
   },
   "outputs": [
    {
     "name": "stdout",
     "output_type": "stream",
     "text": [
      "5\n"
     ]
    }
   ],
   "source": [
    "print(len(trees))"
   ]
  },
  {
   "cell_type": "code",
   "execution_count": 10,
   "id": "3f2763c9",
   "metadata": {
    "execution": {
     "iopub.execute_input": "2022-10-31T00:42:19.650352Z",
     "iopub.status.busy": "2022-10-31T00:42:19.649740Z",
     "iopub.status.idle": "2022-10-31T00:42:19.651702Z",
     "shell.execute_reply": "2022-10-31T00:42:19.652088Z"
    }
   },
   "outputs": [],
   "source": [
    "wls_stats = [tree[0] for tree in trees]"
   ]
  },
  {
   "cell_type": "code",
   "execution_count": 11,
   "id": "fec159e6",
   "metadata": {
    "execution": {
     "iopub.execute_input": "2022-10-31T00:42:19.655455Z",
     "iopub.status.busy": "2022-10-31T00:42:19.654809Z",
     "iopub.status.idle": "2022-10-31T00:42:19.656953Z",
     "shell.execute_reply": "2022-10-31T00:42:19.657472Z"
    }
   },
   "outputs": [
    {
     "name": "stdout",
     "output_type": "stream",
     "text": [
      "          /-Mouse\n",
      "         |\n",
      "         |          /-DogFaced\n",
      "-root----|-edge.0--|\n",
      "         |          \\-NineBande\n",
      "         |\n",
      "         |          /-HowlerMon\n",
      "          \\edge.1--|\n",
      "                    \\-Human\n"
     ]
    }
   ],
   "source": [
    "t1 = trees[0][1].balanced()\n",
    "t2 = trees[1][1].balanced()\n",
    "print(t1.ascii_art())"
   ]
  },
  {
   "cell_type": "code",
   "execution_count": 12,
   "id": "62850e68",
   "metadata": {
    "execution": {
     "iopub.execute_input": "2022-10-31T00:42:19.660495Z",
     "iopub.status.busy": "2022-10-31T00:42:19.659908Z",
     "iopub.status.idle": "2022-10-31T00:42:19.662079Z",
     "shell.execute_reply": "2022-10-31T00:42:19.662557Z"
    }
   },
   "outputs": [
    {
     "name": "stdout",
     "output_type": "stream",
     "text": [
      "          /-DogFaced\n",
      "         |\n",
      "         |          /-Mouse\n",
      "-root----|-edge.0--|\n",
      "         |          \\-NineBande\n",
      "         |\n",
      "         |          /-HowlerMon\n",
      "          \\edge.1--|\n",
      "                    \\-Human\n"
     ]
    }
   ],
   "source": [
    "print(t2.ascii_art())"
   ]
  },
  {
   "cell_type": "code",
   "execution_count": 13,
   "id": "8e00284a",
   "metadata": {
    "execution": {
     "iopub.execute_input": "2022-10-31T00:42:19.665874Z",
     "iopub.status.busy": "2022-10-31T00:42:19.665284Z",
     "iopub.status.idle": "2022-10-31T00:42:19.667231Z",
     "shell.execute_reply": "2022-10-31T00:42:19.667685Z"
    }
   },
   "outputs": [],
   "source": [
    "from cogent3 import make_tree\n",
    "\n",
    "query_tree = make_tree(\n",
    "    \"((Human:.2,DogFaced:.2):.3,(NineBande:.1, Mouse:.5):.2,HowlerMon:.1)\"\n",
    ")"
   ]
  },
  {
   "cell_type": "code",
   "execution_count": 14,
   "id": "80deed51",
   "metadata": {
    "execution": {
     "iopub.execute_input": "2022-10-31T00:42:19.676047Z",
     "iopub.status.busy": "2022-10-31T00:42:19.675107Z",
     "iopub.status.idle": "2022-10-31T00:42:19.678930Z",
     "shell.execute_reply": "2022-10-31T00:42:19.678485Z"
    }
   },
   "outputs": [
    {
     "data": {
      "text/plain": [
       "2.8938102203001925"
      ]
     },
     "execution_count": 14,
     "metadata": {},
     "output_type": "execute_result"
    }
   ],
   "source": [
    "ls.evaluate_tree(query_tree)"
   ]
  },
  {
   "cell_type": "code",
   "execution_count": 15,
   "id": "6e0cfb80",
   "metadata": {
    "execution": {
     "iopub.execute_input": "2022-10-31T00:42:19.682246Z",
     "iopub.status.busy": "2022-10-31T00:42:19.681550Z",
     "iopub.status.idle": "2022-10-31T00:42:19.684125Z",
     "shell.execute_reply": "2022-10-31T00:42:19.684551Z"
    }
   },
   "outputs": [],
   "source": [
    "wls, t = ls.evaluate_topology(query_tree)\n",
    "assert \"%.4f\" % wls == \"0.0084\""
   ]
  },
  {
   "cell_type": "code",
   "execution_count": 16,
   "id": "d9d86d0b",
   "metadata": {
    "execution": {
     "iopub.execute_input": "2022-10-31T00:42:19.687859Z",
     "iopub.status.busy": "2022-10-31T00:42:19.687277Z",
     "iopub.status.idle": "2022-10-31T00:42:19.689093Z",
     "shell.execute_reply": "2022-10-31T00:42:19.689740Z"
    }
   },
   "outputs": [],
   "source": [
    "import os\n",
    "\n",
    "os.remove(\"dists_for_phylo.pickle\")"
   ]
  }
 ],
 "metadata": {
  "kernelspec": {
   "display_name": "Python 3 (ipykernel)",
   "language": "python",
   "name": "python3"
  },
  "language_info": {
   "codemirror_mode": {
    "name": "ipython",
    "version": 3
   },
   "file_extension": ".py",
   "mimetype": "text/x-python",
   "name": "python",
   "nbconvert_exporter": "python",
   "pygments_lexer": "ipython3",
   "version": "3.10.0"
  }
 },
 "nbformat": 4,
 "nbformat_minor": 5
}