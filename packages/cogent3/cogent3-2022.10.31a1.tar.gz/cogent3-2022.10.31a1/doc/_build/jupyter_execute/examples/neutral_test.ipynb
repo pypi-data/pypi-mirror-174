{
 "cells": [
  {
   "cell_type": "code",
   "execution_count": 1,
   "id": "0b048046",
   "metadata": {
    "execution": {
     "iopub.execute_input": "2022-10-31T00:41:46.203397Z",
     "iopub.status.busy": "2022-10-31T00:41:46.202750Z",
     "iopub.status.idle": "2022-10-31T00:41:49.734676Z",
     "shell.execute_reply": "2022-10-31T00:41:49.735238Z"
    }
   },
   "outputs": [],
   "source": [
    "import set_working_directory"
   ]
  },
  {
   "cell_type": "code",
   "execution_count": 2,
   "id": "933e88b4",
   "metadata": {
    "execution": {
     "iopub.execute_input": "2022-10-31T00:41:49.740229Z",
     "iopub.status.busy": "2022-10-31T00:41:49.739477Z",
     "iopub.status.idle": "2022-10-31T00:41:51.034333Z",
     "shell.execute_reply": "2022-10-31T00:41:51.034714Z"
    }
   },
   "outputs": [],
   "source": [
    "from cogent3 import load_aligned_seqs, load_tree\n",
    "from cogent3.evolve.models import get_model\n",
    "from scipy.stats.distributions import chi2"
   ]
  },
  {
   "cell_type": "code",
   "execution_count": 3,
   "id": "9b3b0a05",
   "metadata": {
    "execution": {
     "iopub.execute_input": "2022-10-31T00:41:51.038201Z",
     "iopub.status.busy": "2022-10-31T00:41:51.037659Z",
     "iopub.status.idle": "2022-10-31T00:41:51.042400Z",
     "shell.execute_reply": "2022-10-31T00:41:51.042800Z"
    }
   },
   "outputs": [],
   "source": [
    "al = load_aligned_seqs(\"data/long_testseqs.fasta\")\n",
    "t = load_tree(\"data/test.tree\")"
   ]
  },
  {
   "cell_type": "code",
   "execution_count": 4,
   "id": "5c8863d2",
   "metadata": {
    "execution": {
     "iopub.execute_input": "2022-10-31T00:41:51.076683Z",
     "iopub.status.busy": "2022-10-31T00:41:51.076069Z",
     "iopub.status.idle": "2022-10-31T00:41:51.688174Z",
     "shell.execute_reply": "2022-10-31T00:41:51.688509Z"
    }
   },
   "outputs": [],
   "source": [
    "sm = get_model(\"MG94GTR\")"
   ]
  },
  {
   "cell_type": "code",
   "execution_count": 5,
   "id": "ca1992a6",
   "metadata": {
    "execution": {
     "iopub.execute_input": "2022-10-31T00:41:51.693073Z",
     "iopub.status.busy": "2022-10-31T00:41:51.692534Z",
     "iopub.status.idle": "2022-10-31T00:41:51.698182Z",
     "shell.execute_reply": "2022-10-31T00:41:51.697543Z"
    }
   },
   "outputs": [],
   "source": [
    "lf = sm.make_likelihood_function(t, digits=2, space=2)"
   ]
  },
  {
   "cell_type": "code",
   "execution_count": 6,
   "id": "4f555dcb",
   "metadata": {
    "execution": {
     "iopub.execute_input": "2022-10-31T00:41:51.701251Z",
     "iopub.status.busy": "2022-10-31T00:41:51.700675Z",
     "iopub.status.idle": "2022-10-31T00:41:51.723076Z",
     "shell.execute_reply": "2022-10-31T00:41:51.723531Z"
    }
   },
   "outputs": [],
   "source": [
    "lf.set_alignment(al)"
   ]
  },
  {
   "cell_type": "code",
   "execution_count": 7,
   "id": "2cef7c61",
   "metadata": {
    "execution": {
     "iopub.execute_input": "2022-10-31T00:41:51.727086Z",
     "iopub.status.busy": "2022-10-31T00:41:51.726494Z",
     "iopub.status.idle": "2022-10-31T00:41:53.669749Z",
     "shell.execute_reply": "2022-10-31T00:41:53.670207Z"
    }
   },
   "outputs": [],
   "source": [
    "lf.optimise(global_tolerance=1.0, show_progress=False)"
   ]
  },
  {
   "cell_type": "code",
   "execution_count": 8,
   "id": "3ff83e7e",
   "metadata": {
    "execution": {
     "iopub.execute_input": "2022-10-31T00:41:53.680792Z",
     "iopub.status.busy": "2022-10-31T00:41:53.680082Z",
     "iopub.status.idle": "2022-10-31T00:41:53.683120Z",
     "shell.execute_reply": "2022-10-31T00:41:53.683571Z"
    }
   },
   "outputs": [
    {
     "data": {
      "text/html": [
       "<h4>MG94GTR</h4>\n",
       "<p>log-likelihood = -8636.1801</p>\n",
       "<p>number of free parameters = 13</p>\n",
       "\n",
       "<div class=\"c3table\">\n",
       "\n",
       "<style>\n",
       ".c3table table {margin: 10px 0;}\n",
       ".c3table tr:last-child {border-bottom: 1px solid #000;} \n",
       ".c3table tr > th {text-align: left; padding: 0 5px;}\n",
       ".c3table tr > td {text-align: left; padding: 5px;}\n",
       ".c3table tr:nth-child(even) {background: #f7f7f7 !important;}\n",
       ".c3table .ellipsis {background: rgba(0, 0, 0, .01);}\n",
       ".c3table .index {background: rgba(161, 195, 209, 0.0); margin: 10px; font-weight: 600;}\n",
       ".c3table .head_cell {background: rgba(161, 195, 209, 0.75); font-weight: bold; text-align: center;}\n",
       ".c3table caption {color: rgb(250, 250, 250); background: rgba(30, 140, 200, 1); padding: 3px; white-space: nowrap; caption-side: top;}\n",
       ".c3table .cell_title {font-weight: bold;}\n",
       ".c3col_left { text-align: left !important; display: block;}\n",
       ".c3col_right { text-align: right !important; display: block;}\n",
       ".c3col_center { text-align: center !important; display: block;}\n",
       "</style>\n",
       "\n",
       "<table>\n",
       "\n",
       "<caption>\n",
       "<span class=\"cell_title\">Global params</span>\n",
       "</caption>\n",
       "<thead class=\"head_cell\">\n",
       "<th>A/C</th><th>A/G</th><th>A/T</th><th>C/G</th><th>C/T</th><th>omega</th>\n",
       "</thead>\n",
       "<tbody>\n",
       "<tr><td><span class=\"c3col_right\">1.02</span></td><td><span class=\"c3col_right\">3.36</span></td><td><span class=\"c3col_right\">0.73</span></td><td><span class=\"c3col_right\">0.95</span></td><td><span class=\"c3col_right\">3.71</span></td><td><span class=\"c3col_right\">0.90</span></td></tr>\n",
       "</tbody>\n",
       "</table>\n",
       "\n",
       "</div>\n",
       "\n",
       "<div class=\"c3table\">\n",
       "\n",
       "<style>\n",
       ".c3table table {margin: 10px 0;}\n",
       ".c3table tr:last-child {border-bottom: 1px solid #000;} \n",
       ".c3table tr > th {text-align: left; padding: 0 5px;}\n",
       ".c3table tr > td {text-align: left; padding: 5px;}\n",
       ".c3table tr:nth-child(even) {background: #f7f7f7 !important;}\n",
       ".c3table .ellipsis {background: rgba(0, 0, 0, .01);}\n",
       ".c3table .index {background: rgba(161, 195, 209, 0.0); margin: 10px; font-weight: 600;}\n",
       ".c3table .head_cell {background: rgba(161, 195, 209, 0.75); font-weight: bold; text-align: center;}\n",
       ".c3table caption {color: rgb(250, 250, 250); background: rgba(30, 140, 200, 1); padding: 3px; white-space: nowrap; caption-side: top;}\n",
       ".c3table .cell_title {font-weight: bold;}\n",
       ".c3col_left { text-align: left !important; display: block;}\n",
       ".c3col_right { text-align: right !important; display: block;}\n",
       ".c3col_center { text-align: center !important; display: block;}\n",
       "</style>\n",
       "\n",
       "<table>\n",
       "\n",
       "<caption>\n",
       "<span class=\"cell_title\">Edge params</span>\n",
       "</caption>\n",
       "<thead class=\"head_cell\">\n",
       "<th>edge</th><th>parent</th><th>length</th>\n",
       "</thead>\n",
       "<tbody>\n",
       "<tr><td><span class=\"c3col_left\">Human</span></td><td><span class=\"c3col_left\">edge.0</span></td><td><span class=\"c3col_right\">0.09</span></td></tr>\n",
       "<tr><td><span class=\"c3col_left\">HowlerMon</span></td><td><span class=\"c3col_left\">edge.0</span></td><td><span class=\"c3col_right\">0.12</span></td></tr>\n",
       "<tr><td><span class=\"c3col_left\">edge.0</span></td><td><span class=\"c3col_left\">edge.1</span></td><td><span class=\"c3col_right\">0.12</span></td></tr>\n",
       "<tr><td><span class=\"c3col_left\">Mouse</span></td><td><span class=\"c3col_left\">edge.1</span></td><td><span class=\"c3col_right\">0.84</span></td></tr>\n",
       "<tr><td><span class=\"c3col_left\">edge.1</span></td><td><span class=\"c3col_left\">root</span></td><td><span class=\"c3col_right\">0.06</span></td></tr>\n",
       "<tr><td><span class=\"c3col_left\">NineBande</span></td><td><span class=\"c3col_left\">root</span></td><td><span class=\"c3col_right\">0.28</span></td></tr>\n",
       "<tr><td><span class=\"c3col_left\">DogFaced</span></td><td><span class=\"c3col_left\">root</span></td><td><span class=\"c3col_right\">0.34</span></td></tr>\n",
       "</tbody>\n",
       "</table>\n",
       "\n",
       "</div>\n",
       "\n",
       "<div class=\"c3table\">\n",
       "\n",
       "<style>\n",
       ".c3table table {margin: 10px 0;}\n",
       ".c3table tr:last-child {border-bottom: 1px solid #000;} \n",
       ".c3table tr > th {text-align: left; padding: 0 5px;}\n",
       ".c3table tr > td {text-align: left; padding: 5px;}\n",
       ".c3table tr:nth-child(even) {background: #f7f7f7 !important;}\n",
       ".c3table .ellipsis {background: rgba(0, 0, 0, .01);}\n",
       ".c3table .index {background: rgba(161, 195, 209, 0.0); margin: 10px; font-weight: 600;}\n",
       ".c3table .head_cell {background: rgba(161, 195, 209, 0.75); font-weight: bold; text-align: center;}\n",
       ".c3table caption {color: rgb(250, 250, 250); background: rgba(30, 140, 200, 1); padding: 3px; white-space: nowrap; caption-side: top;}\n",
       ".c3table .cell_title {font-weight: bold;}\n",
       ".c3col_left { text-align: left !important; display: block;}\n",
       ".c3col_right { text-align: right !important; display: block;}\n",
       ".c3col_center { text-align: center !important; display: block;}\n",
       "</style>\n",
       "\n",
       "<table>\n",
       "\n",
       "<caption>\n",
       "<span class=\"cell_title\">Motif params</span>\n",
       "</caption>\n",
       "<thead class=\"head_cell\">\n",
       "<th>A</th><th>C</th><th>G</th><th>T</th>\n",
       "</thead>\n",
       "<tbody>\n",
       "<tr><td><span class=\"c3col_right\">0.37</span></td><td><span class=\"c3col_right\">0.19</span></td><td><span class=\"c3col_right\">0.21</span></td><td><span class=\"c3col_right\">0.23</span></td></tr>\n",
       "</tbody>\n",
       "</table>\n",
       "\n",
       "</div>"
      ],
      "text/plain": [
       "MG94GTR\n",
       "log-likelihood = -8636.1801\n",
       "number of free parameters = 13\n",
       "===================================\n",
       " A/C   A/G   A/T   C/G   C/T  omega\n",
       "-----------------------------------\n",
       "1.02  3.36  0.73  0.95  3.71   0.90\n",
       "-----------------------------------\n",
       "=========================\n",
       "edge       parent  length\n",
       "-------------------------\n",
       "Human      edge.0    0.09\n",
       "HowlerMon  edge.0    0.12\n",
       "edge.0     edge.1    0.12\n",
       "Mouse      edge.1    0.84\n",
       "edge.1     root      0.06\n",
       "NineBande  root      0.28\n",
       "DogFaced   root      0.34\n",
       "-------------------------\n",
       "======================\n",
       "   A     C     G     T\n",
       "----------------------\n",
       "0.37  0.19  0.21  0.23\n",
       "----------------------"
      ]
     },
     "execution_count": 8,
     "metadata": {},
     "output_type": "execute_result"
    }
   ],
   "source": [
    "lf"
   ]
  },
  {
   "cell_type": "code",
   "execution_count": 9,
   "id": "e76a1480",
   "metadata": {
    "execution": {
     "iopub.execute_input": "2022-10-31T00:41:53.687055Z",
     "iopub.status.busy": "2022-10-31T00:41:53.686455Z",
     "iopub.status.idle": "2022-10-31T00:41:53.688514Z",
     "shell.execute_reply": "2022-10-31T00:41:53.688907Z"
    }
   },
   "outputs": [],
   "source": [
    "null_lnL = lf.get_log_likelihood()\n",
    "null_nfp = lf.get_num_free_params()"
   ]
  },
  {
   "cell_type": "code",
   "execution_count": 10,
   "id": "961ba517",
   "metadata": {
    "execution": {
     "iopub.execute_input": "2022-10-31T00:41:53.692463Z",
     "iopub.status.busy": "2022-10-31T00:41:53.691833Z",
     "iopub.status.idle": "2022-10-31T00:41:53.706426Z",
     "shell.execute_reply": "2022-10-31T00:41:53.705965Z"
    }
   },
   "outputs": [],
   "source": [
    "lf.set_param_rule(\"omega\", is_independent=True)"
   ]
  },
  {
   "cell_type": "code",
   "execution_count": 11,
   "id": "2711c78b",
   "metadata": {
    "execution": {
     "iopub.execute_input": "2022-10-31T00:41:53.710147Z",
     "iopub.status.busy": "2022-10-31T00:41:53.709532Z",
     "iopub.status.idle": "2022-10-31T00:42:00.690793Z",
     "shell.execute_reply": "2022-10-31T00:42:00.691187Z"
    }
   },
   "outputs": [],
   "source": [
    "lf.optimise(local=True, show_progress=False)"
   ]
  },
  {
   "cell_type": "code",
   "execution_count": 12,
   "id": "944c7051",
   "metadata": {
    "execution": {
     "iopub.execute_input": "2022-10-31T00:42:00.697299Z",
     "iopub.status.busy": "2022-10-31T00:42:00.696640Z",
     "iopub.status.idle": "2022-10-31T00:42:00.699503Z",
     "shell.execute_reply": "2022-10-31T00:42:00.699866Z"
    }
   },
   "outputs": [
    {
     "data": {
      "text/html": [
       "<h4>MG94GTR</h4>\n",
       "<p>log-likelihood = -8632.1355</p>\n",
       "<p>number of free parameters = 19</p>\n",
       "\n",
       "<div class=\"c3table\">\n",
       "\n",
       "<style>\n",
       ".c3table table {margin: 10px 0;}\n",
       ".c3table tr:last-child {border-bottom: 1px solid #000;} \n",
       ".c3table tr > th {text-align: left; padding: 0 5px;}\n",
       ".c3table tr > td {text-align: left; padding: 5px;}\n",
       ".c3table tr:nth-child(even) {background: #f7f7f7 !important;}\n",
       ".c3table .ellipsis {background: rgba(0, 0, 0, .01);}\n",
       ".c3table .index {background: rgba(161, 195, 209, 0.0); margin: 10px; font-weight: 600;}\n",
       ".c3table .head_cell {background: rgba(161, 195, 209, 0.75); font-weight: bold; text-align: center;}\n",
       ".c3table caption {color: rgb(250, 250, 250); background: rgba(30, 140, 200, 1); padding: 3px; white-space: nowrap; caption-side: top;}\n",
       ".c3table .cell_title {font-weight: bold;}\n",
       ".c3col_left { text-align: left !important; display: block;}\n",
       ".c3col_right { text-align: right !important; display: block;}\n",
       ".c3col_center { text-align: center !important; display: block;}\n",
       "</style>\n",
       "\n",
       "<table>\n",
       "\n",
       "<caption>\n",
       "<span class=\"cell_title\">Global params</span>\n",
       "</caption>\n",
       "<thead class=\"head_cell\">\n",
       "<th>A/C</th><th>A/G</th><th>A/T</th><th>C/G</th><th>C/T</th>\n",
       "</thead>\n",
       "<tbody>\n",
       "<tr><td><span class=\"c3col_right\">1.03</span></td><td><span class=\"c3col_right\">3.38</span></td><td><span class=\"c3col_right\">0.73</span></td><td><span class=\"c3col_right\">0.95</span></td><td><span class=\"c3col_right\">3.72</span></td></tr>\n",
       "</tbody>\n",
       "</table>\n",
       "\n",
       "</div>\n",
       "\n",
       "<div class=\"c3table\">\n",
       "\n",
       "<style>\n",
       ".c3table table {margin: 10px 0;}\n",
       ".c3table tr:last-child {border-bottom: 1px solid #000;} \n",
       ".c3table tr > th {text-align: left; padding: 0 5px;}\n",
       ".c3table tr > td {text-align: left; padding: 5px;}\n",
       ".c3table tr:nth-child(even) {background: #f7f7f7 !important;}\n",
       ".c3table .ellipsis {background: rgba(0, 0, 0, .01);}\n",
       ".c3table .index {background: rgba(161, 195, 209, 0.0); margin: 10px; font-weight: 600;}\n",
       ".c3table .head_cell {background: rgba(161, 195, 209, 0.75); font-weight: bold; text-align: center;}\n",
       ".c3table caption {color: rgb(250, 250, 250); background: rgba(30, 140, 200, 1); padding: 3px; white-space: nowrap; caption-side: top;}\n",
       ".c3table .cell_title {font-weight: bold;}\n",
       ".c3col_left { text-align: left !important; display: block;}\n",
       ".c3col_right { text-align: right !important; display: block;}\n",
       ".c3col_center { text-align: center !important; display: block;}\n",
       "</style>\n",
       "\n",
       "<table>\n",
       "\n",
       "<caption>\n",
       "<span class=\"cell_title\">Edge params</span>\n",
       "</caption>\n",
       "<thead class=\"head_cell\">\n",
       "<th>edge</th><th>parent</th><th>length</th><th>omega</th>\n",
       "</thead>\n",
       "<tbody>\n",
       "<tr><td><span class=\"c3col_left\">Human</span></td><td><span class=\"c3col_left\">edge.0</span></td><td><span class=\"c3col_right\">0.09</span></td><td><span class=\"c3col_right\">0.59</span></td></tr>\n",
       "<tr><td><span class=\"c3col_left\">HowlerMon</span></td><td><span class=\"c3col_left\">edge.0</span></td><td><span class=\"c3col_right\">0.12</span></td><td><span class=\"c3col_right\">0.96</span></td></tr>\n",
       "<tr><td><span class=\"c3col_left\">edge.0</span></td><td><span class=\"c3col_left\">edge.1</span></td><td><span class=\"c3col_right\">0.11</span></td><td><span class=\"c3col_right\">1.13</span></td></tr>\n",
       "<tr><td><span class=\"c3col_left\">Mouse</span></td><td><span class=\"c3col_left\">edge.1</span></td><td><span class=\"c3col_right\">0.83</span></td><td><span class=\"c3col_right\">0.92</span></td></tr>\n",
       "<tr><td><span class=\"c3col_left\">edge.1</span></td><td><span class=\"c3col_left\">root</span></td><td><span class=\"c3col_right\">0.06</span></td><td><span class=\"c3col_right\">0.39</span></td></tr>\n",
       "<tr><td><span class=\"c3col_left\">NineBande</span></td><td><span class=\"c3col_left\">root</span></td><td><span class=\"c3col_right\">0.28</span></td><td><span class=\"c3col_right\">1.28</span></td></tr>\n",
       "<tr><td><span class=\"c3col_left\">DogFaced</span></td><td><span class=\"c3col_left\">root</span></td><td><span class=\"c3col_right\">0.34</span></td><td><span class=\"c3col_right\">0.84</span></td></tr>\n",
       "</tbody>\n",
       "</table>\n",
       "\n",
       "</div>\n",
       "\n",
       "<div class=\"c3table\">\n",
       "\n",
       "<style>\n",
       ".c3table table {margin: 10px 0;}\n",
       ".c3table tr:last-child {border-bottom: 1px solid #000;} \n",
       ".c3table tr > th {text-align: left; padding: 0 5px;}\n",
       ".c3table tr > td {text-align: left; padding: 5px;}\n",
       ".c3table tr:nth-child(even) {background: #f7f7f7 !important;}\n",
       ".c3table .ellipsis {background: rgba(0, 0, 0, .01);}\n",
       ".c3table .index {background: rgba(161, 195, 209, 0.0); margin: 10px; font-weight: 600;}\n",
       ".c3table .head_cell {background: rgba(161, 195, 209, 0.75); font-weight: bold; text-align: center;}\n",
       ".c3table caption {color: rgb(250, 250, 250); background: rgba(30, 140, 200, 1); padding: 3px; white-space: nowrap; caption-side: top;}\n",
       ".c3table .cell_title {font-weight: bold;}\n",
       ".c3col_left { text-align: left !important; display: block;}\n",
       ".c3col_right { text-align: right !important; display: block;}\n",
       ".c3col_center { text-align: center !important; display: block;}\n",
       "</style>\n",
       "\n",
       "<table>\n",
       "\n",
       "<caption>\n",
       "<span class=\"cell_title\">Motif params</span>\n",
       "</caption>\n",
       "<thead class=\"head_cell\">\n",
       "<th>A</th><th>C</th><th>G</th><th>T</th>\n",
       "</thead>\n",
       "<tbody>\n",
       "<tr><td><span class=\"c3col_right\">0.37</span></td><td><span class=\"c3col_right\">0.19</span></td><td><span class=\"c3col_right\">0.21</span></td><td><span class=\"c3col_right\">0.23</span></td></tr>\n",
       "</tbody>\n",
       "</table>\n",
       "\n",
       "</div>"
      ],
      "text/plain": [
       "MG94GTR\n",
       "log-likelihood = -8632.1355\n",
       "number of free parameters = 19\n",
       "============================\n",
       " A/C   A/G   A/T   C/G   C/T\n",
       "----------------------------\n",
       "1.03  3.38  0.73  0.95  3.72\n",
       "----------------------------\n",
       "================================\n",
       "edge       parent  length  omega\n",
       "--------------------------------\n",
       "Human      edge.0    0.09   0.59\n",
       "HowlerMon  edge.0    0.12   0.96\n",
       "edge.0     edge.1    0.11   1.13\n",
       "Mouse      edge.1    0.83   0.92\n",
       "edge.1     root      0.06   0.39\n",
       "NineBande  root      0.28   1.28\n",
       "DogFaced   root      0.34   0.84\n",
       "--------------------------------\n",
       "======================\n",
       "   A     C     G     T\n",
       "----------------------\n",
       "0.37  0.19  0.21  0.23\n",
       "----------------------"
      ]
     },
     "execution_count": 12,
     "metadata": {},
     "output_type": "execute_result"
    }
   ],
   "source": [
    "lf"
   ]
  },
  {
   "cell_type": "code",
   "execution_count": 13,
   "id": "5738f2a0",
   "metadata": {
    "execution": {
     "iopub.execute_input": "2022-10-31T00:42:00.704970Z",
     "iopub.status.busy": "2022-10-31T00:42:00.704285Z",
     "iopub.status.idle": "2022-10-31T00:42:00.707797Z",
     "shell.execute_reply": "2022-10-31T00:42:00.708301Z"
    }
   },
   "outputs": [],
   "source": [
    "at = lf.get_annotated_tree()"
   ]
  },
  {
   "cell_type": "code",
   "execution_count": 14,
   "id": "027bf664",
   "metadata": {
    "execution": {
     "iopub.execute_input": "2022-10-31T00:42:00.712812Z",
     "iopub.status.busy": "2022-10-31T00:42:00.712132Z",
     "iopub.status.idle": "2022-10-31T00:42:00.714316Z",
     "shell.execute_reply": "2022-10-31T00:42:00.714709Z"
    }
   },
   "outputs": [],
   "source": [
    "LR = 2 * (lf.get_log_likelihood() - null_lnL)\n",
    "df = lf.get_num_free_params() - null_nfp\n",
    "P = chi2.sf(LR, df)"
   ]
  },
  {
   "cell_type": "code",
   "execution_count": 15,
   "id": "6bc1a6a9",
   "metadata": {
    "execution": {
     "iopub.execute_input": "2022-10-31T00:42:00.718310Z",
     "iopub.status.busy": "2022-10-31T00:42:00.717668Z",
     "iopub.status.idle": "2022-10-31T00:42:00.720169Z",
     "shell.execute_reply": "2022-10-31T00:42:00.720605Z"
    }
   },
   "outputs": [
    {
     "name": "stdout",
     "output_type": "stream",
     "text": [
      "Likelihood ratio statistic = 8.08923855797184\n",
      "degrees-of-freedom = 6\n",
      "probability = 0.2316381150836258\n"
     ]
    }
   ],
   "source": [
    "print(f\"Likelihood ratio statistic = {LR}\")\n",
    "print(f\"degrees-of-freedom = {df}\")\n",
    "print(f\"probability = {P}\")"
   ]
  }
 ],
 "metadata": {
  "kernelspec": {
   "display_name": "Python 3 (ipykernel)",
   "language": "python",
   "name": "python3"
  },
  "language_info": {
   "codemirror_mode": {
    "name": "ipython",
    "version": 3
   },
   "file_extension": ".py",
   "mimetype": "text/x-python",
   "name": "python",
   "nbconvert_exporter": "python",
   "pygments_lexer": "ipython3",
   "version": "3.10.0"
  }
 },
 "nbformat": 4,
 "nbformat_minor": 5
}