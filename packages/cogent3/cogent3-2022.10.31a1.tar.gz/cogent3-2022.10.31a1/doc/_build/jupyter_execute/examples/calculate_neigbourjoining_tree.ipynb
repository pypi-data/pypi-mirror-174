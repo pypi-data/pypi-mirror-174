{
 "cells": [
  {
   "cell_type": "code",
   "execution_count": 1,
   "id": "93c01dd2",
   "metadata": {
    "execution": {
     "iopub.execute_input": "2022-10-31T00:40:11.180531Z",
     "iopub.status.busy": "2022-10-31T00:40:11.179902Z",
     "iopub.status.idle": "2022-10-31T00:40:14.796189Z",
     "shell.execute_reply": "2022-10-31T00:40:14.796699Z"
    }
   },
   "outputs": [],
   "source": [
    "import set_working_directory"
   ]
  },
  {
   "cell_type": "code",
   "execution_count": 2,
   "id": "f990dd0d",
   "metadata": {
    "execution": {
     "iopub.execute_input": "2022-10-31T00:40:14.801064Z",
     "iopub.status.busy": "2022-10-31T00:40:14.800395Z",
     "iopub.status.idle": "2022-10-31T00:40:16.262103Z",
     "shell.execute_reply": "2022-10-31T00:40:16.262493Z"
    }
   },
   "outputs": [],
   "source": [
    "from cogent3 import load_aligned_seqs\n",
    "from cogent3.evolve import distance\n",
    "from cogent3.phylo import nj"
   ]
  },
  {
   "cell_type": "code",
   "execution_count": 3,
   "id": "db515312",
   "metadata": {
    "execution": {
     "iopub.execute_input": "2022-10-31T00:40:16.266206Z",
     "iopub.status.busy": "2022-10-31T00:40:16.265363Z",
     "iopub.status.idle": "2022-10-31T00:40:16.267361Z",
     "shell.execute_reply": "2022-10-31T00:40:16.267734Z"
    }
   },
   "outputs": [],
   "source": [
    "from cogent3.evolve.models import get_model"
   ]
  },
  {
   "cell_type": "code",
   "execution_count": 4,
   "id": "31e217d1",
   "metadata": {
    "execution": {
     "iopub.execute_input": "2022-10-31T00:40:16.270758Z",
     "iopub.status.busy": "2022-10-31T00:40:16.270199Z",
     "iopub.status.idle": "2022-10-31T00:40:16.274358Z",
     "shell.execute_reply": "2022-10-31T00:40:16.274772Z"
    }
   },
   "outputs": [],
   "source": [
    "al = load_aligned_seqs(\"data/long_testseqs.fasta\")"
   ]
  },
  {
   "cell_type": "code",
   "execution_count": 5,
   "id": "1a31c097",
   "metadata": {
    "execution": {
     "iopub.execute_input": "2022-10-31T00:40:16.278748Z",
     "iopub.status.busy": "2022-10-31T00:40:16.278197Z",
     "iopub.status.idle": "2022-10-31T00:40:16.626290Z",
     "shell.execute_reply": "2022-10-31T00:40:16.626829Z"
    }
   },
   "outputs": [],
   "source": [
    "d = distance.EstimateDistances(al, submodel=get_model(\"HKY85\"))\n",
    "d.run(show_progress=False)"
   ]
  },
  {
   "cell_type": "code",
   "execution_count": 6,
   "id": "821df76d",
   "metadata": {
    "execution": {
     "iopub.execute_input": "2022-10-31T00:40:16.631534Z",
     "iopub.status.busy": "2022-10-31T00:40:16.630873Z",
     "iopub.status.idle": "2022-10-31T00:40:16.633746Z",
     "shell.execute_reply": "2022-10-31T00:40:16.634220Z"
    }
   },
   "outputs": [
    {
     "name": "stdout",
     "output_type": "stream",
     "text": [
      "                    /-HowlerMon\n",
      "          /edge.0--|\n",
      "         |          \\-Human\n",
      "         |\n",
      "-root----|--Mouse\n",
      "         |\n",
      "         |          /-DogFaced\n",
      "          \\edge.1--|\n",
      "                    \\-NineBande\n"
     ]
    }
   ],
   "source": [
    "mytree = nj.nj(d.get_pairwise_distances(), show_progress=False)\n",
    "print(mytree.ascii_art())"
   ]
  },
  {
   "cell_type": "code",
   "execution_count": 7,
   "id": "429bc51f",
   "metadata": {
    "execution": {
     "iopub.execute_input": "2022-10-31T00:40:16.637823Z",
     "iopub.status.busy": "2022-10-31T00:40:16.637192Z",
     "iopub.status.idle": "2022-10-31T00:40:16.639935Z",
     "shell.execute_reply": "2022-10-31T00:40:16.640361Z"
    }
   },
   "outputs": [],
   "source": [
    "mytree.write(\"test_nj.tree\")"
   ]
  },
  {
   "cell_type": "code",
   "execution_count": 8,
   "id": "e69c7c85",
   "metadata": {
    "execution": {
     "iopub.execute_input": "2022-10-31T00:40:16.643499Z",
     "iopub.status.busy": "2022-10-31T00:40:16.642887Z",
     "iopub.status.idle": "2022-10-31T00:40:16.644670Z",
     "shell.execute_reply": "2022-10-31T00:40:16.645273Z"
    }
   },
   "outputs": [],
   "source": [
    "import os\n",
    "\n",
    "os.remove(\"test_nj.tree\")"
   ]
  }
 ],
 "metadata": {
  "kernelspec": {
   "display_name": "Python 3 (ipykernel)",
   "language": "python",
   "name": "python3"
  },
  "language_info": {
   "codemirror_mode": {
    "name": "ipython",
    "version": 3
   },
   "file_extension": ".py",
   "mimetype": "text/x-python",
   "name": "python",
   "nbconvert_exporter": "python",
   "pygments_lexer": "ipython3",
   "version": "3.10.0"
  }
 },
 "nbformat": 4,
 "nbformat_minor": 5
}