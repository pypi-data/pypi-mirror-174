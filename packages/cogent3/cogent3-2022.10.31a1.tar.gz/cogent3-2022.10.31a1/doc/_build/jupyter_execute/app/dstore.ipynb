{
 "cells": [
  {
   "cell_type": "code",
   "execution_count": 1,
   "id": "4c6a77d1",
   "metadata": {
    "execution": {
     "iopub.execute_input": "2022-10-31T00:31:00.903551Z",
     "iopub.status.busy": "2022-10-31T00:31:00.902912Z",
     "iopub.status.idle": "2022-10-31T00:31:04.804228Z",
     "shell.execute_reply": "2022-10-31T00:31:04.804818Z"
    }
   },
   "outputs": [],
   "source": [
    "import set_working_directory"
   ]
  },
  {
   "cell_type": "code",
   "execution_count": 2,
   "id": "a75a7d39",
   "metadata": {
    "execution": {
     "iopub.execute_input": "2022-10-31T00:31:04.809635Z",
     "iopub.status.busy": "2022-10-31T00:31:04.808927Z",
     "iopub.status.idle": "2022-10-31T00:31:06.275245Z",
     "shell.execute_reply": "2022-10-31T00:31:06.275636Z"
    }
   },
   "outputs": [
    {
     "data": {
      "text/plain": [
       "5x member ReadOnlyZippedDataStore(source='/Users/gavin/repos/Cogent3/doc/data/raw.zip', members=['/Users/gavin/repos/Cogent3/doc/data/raw/ENSG00000157184.fa', '/Users/gavin/repos/Cogent3/doc/data/raw/ENSG00000131791.fa', '/Users/gavin/repos/Cogent3/doc/data/raw/ENSG00000127054.fa'...)"
      ]
     },
     "execution_count": 2,
     "metadata": {},
     "output_type": "execute_result"
    }
   ],
   "source": [
    "from cogent3.app.io import get_data_store\n",
    "\n",
    "dstore = get_data_store(\"data/raw.zip\", suffix=\"fa*\", limit=5)\n",
    "dstore"
   ]
  },
  {
   "cell_type": "code",
   "execution_count": 3,
   "id": "abfc6748",
   "metadata": {
    "execution": {
     "iopub.execute_input": "2022-10-31T00:31:06.279390Z",
     "iopub.status.busy": "2022-10-31T00:31:06.278788Z",
     "iopub.status.idle": "2022-10-31T00:31:06.281351Z",
     "shell.execute_reply": "2022-10-31T00:31:06.281738Z"
    }
   },
   "outputs": [
    {
     "data": {
      "text/plain": [
       "'/Users/gavin/repos/Cogent3/doc/data/raw/ENSG00000157184.fa'"
      ]
     },
     "execution_count": 3,
     "metadata": {},
     "output_type": "execute_result"
    }
   ],
   "source": [
    "m = dstore[0]\n",
    "m"
   ]
  },
  {
   "cell_type": "code",
   "execution_count": 4,
   "id": "95fb20d3",
   "metadata": {
    "execution": {
     "iopub.execute_input": "2022-10-31T00:31:06.284916Z",
     "iopub.status.busy": "2022-10-31T00:31:06.284365Z",
     "iopub.status.idle": "2022-10-31T00:31:06.294420Z",
     "shell.execute_reply": "2022-10-31T00:31:06.294799Z"
    }
   },
   "outputs": [
    {
     "data": {
      "text/plain": [
       "'>Human\\nATGGTGCCCCGCC'"
      ]
     },
     "execution_count": 4,
     "metadata": {},
     "output_type": "execute_result"
    }
   ],
   "source": [
    "m.read()[:20]  # truncating"
   ]
  },
  {
   "cell_type": "code",
   "execution_count": 5,
   "id": "485b1ff7",
   "metadata": {
    "execution": {
     "iopub.execute_input": "2022-10-31T00:31:06.298011Z",
     "iopub.status.busy": "2022-10-31T00:31:06.297413Z",
     "iopub.status.idle": "2022-10-31T00:31:06.299700Z",
     "shell.execute_reply": "2022-10-31T00:31:06.300078Z"
    }
   },
   "outputs": [
    {
     "name": "stdout",
     "output_type": "stream",
     "text": [
      "['/Users/gavin/repos/Cogent3/doc/data/raw/ENSG00000157184.fa',\n",
      " '/Users/gavin/repos/Cogent3/doc/data/raw/ENSG00000131791.fa',\n",
      " '/Users/gavin/repos/Cogent3/doc/data/raw/ENSG00000127054.fa',\n",
      " '/Users/gavin/repos/Cogent3/doc/data/raw/ENSG00000067704.fa',\n",
      " '/Users/gavin/repos/Cogent3/doc/data/raw/ENSG00000182004.fa']\n"
     ]
    }
   ],
   "source": [
    "dstore.tail()"
   ]
  },
  {
   "cell_type": "code",
   "execution_count": 6,
   "id": "14d53568",
   "metadata": {
    "execution": {
     "iopub.execute_input": "2022-10-31T00:31:06.303656Z",
     "iopub.status.busy": "2022-10-31T00:31:06.303024Z",
     "iopub.status.idle": "2022-10-31T00:31:06.305303Z",
     "shell.execute_reply": "2022-10-31T00:31:06.305670Z"
    }
   },
   "outputs": [
    {
     "data": {
      "text/plain": [
       "['/Users/gavin/repos/Cogent3/doc/data/raw/ENSG00000067704.fa']"
      ]
     },
     "execution_count": 6,
     "metadata": {},
     "output_type": "execute_result"
    }
   ],
   "source": [
    "dstore.filtered(\"*ENSG00000067704*\")"
   ]
  },
  {
   "cell_type": "code",
   "execution_count": 7,
   "id": "e930c078",
   "metadata": {
    "execution": {
     "iopub.execute_input": "2022-10-31T00:31:06.308793Z",
     "iopub.status.busy": "2022-10-31T00:31:06.308248Z",
     "iopub.status.idle": "2022-10-31T00:31:06.310131Z",
     "shell.execute_reply": "2022-10-31T00:31:06.310718Z"
    }
   },
   "outputs": [
    {
     "name": "stdout",
     "output_type": "stream",
     "text": [
      "/Users/gavin/repos/Cogent3/doc/data/raw/ENSG00000157184.fa\n",
      "/Users/gavin/repos/Cogent3/doc/data/raw/ENSG00000131791.fa\n",
      "/Users/gavin/repos/Cogent3/doc/data/raw/ENSG00000127054.fa\n",
      "/Users/gavin/repos/Cogent3/doc/data/raw/ENSG00000067704.fa\n",
      "/Users/gavin/repos/Cogent3/doc/data/raw/ENSG00000182004.fa\n"
     ]
    }
   ],
   "source": [
    "for m in dstore:\n",
    "    print(m)"
   ]
  },
  {
   "cell_type": "code",
   "execution_count": 8,
   "id": "c1416048",
   "metadata": {
    "execution": {
     "iopub.execute_input": "2022-10-31T00:31:06.313699Z",
     "iopub.status.busy": "2022-10-31T00:31:06.313049Z",
     "iopub.status.idle": "2022-10-31T00:31:06.325794Z",
     "shell.execute_reply": "2022-10-31T00:31:06.326179Z"
    }
   },
   "outputs": [
    {
     "data": {
      "text/html": [
       "\n",
       "<div class=\"c3table\">\n",
       "\n",
       "<style>\n",
       ".c3table table {margin: 10px 0;}\n",
       ".c3table tr:last-child {border-bottom: 1px solid #000;} \n",
       ".c3table tr > th {text-align: left; padding: 0 5px;}\n",
       ".c3table tr > td {text-align: left; padding: 5px;}\n",
       ".c3table tr:nth-child(even) {background: #f7f7f7 !important;}\n",
       ".c3table .ellipsis {background: rgba(0, 0, 0, .01);}\n",
       ".c3table .index {background: rgba(161, 195, 209, 0.0); margin: 10px; font-weight: 600;}\n",
       ".c3table .head_cell {background: rgba(161, 195, 209, 0.75); font-weight: bold; text-align: center;}\n",
       ".c3table caption {color: rgb(250, 250, 250); background: rgba(30, 140, 200, 1); padding: 3px; white-space: nowrap; caption-side: top;}\n",
       ".c3table .cell_title {font-weight: bold;}\n",
       ".c3col_left { text-align: left !important; display: block;}\n",
       ".c3col_right { text-align: right !important; display: block;}\n",
       ".c3col_center { text-align: center !important; display: block;}\n",
       "</style>\n",
       "\n",
       "<table>\n",
       "\n",
       "<caption>\n",
       "<span class=\"cell_title\">Unlocked db store.</span>\n",
       "</caption>\n",
       "<thead class=\"head_cell\">\n",
       "<th>record type</th><th>number</th>\n",
       "</thead>\n",
       "<tbody>\n",
       "<tr><td><span class=\"c3col_left\">completed</span></td><td><span class=\"c3col_right\">175</span></td></tr>\n",
       "<tr><td><span class=\"c3col_left\">incomplete</span></td><td><span class=\"c3col_right\">0</span></td></tr>\n",
       "<tr><td><span class=\"c3col_left\">logs</span></td><td><span class=\"c3col_right\">1</span></td></tr>\n",
       "</tbody>\n",
       "</table>\n",
       "<p>\n",
       "3 rows x 2 columns</p>\n",
       "</div>"
      ],
      "text/plain": [
       "Unlocked db store.\n",
       "=====================\n",
       "record type    number\n",
       "---------------------\n",
       "completed         175\n",
       "incomplete          0\n",
       "logs                1\n",
       "---------------------\n",
       "\n",
       "3 rows x 2 columns"
      ]
     },
     "execution_count": 8,
     "metadata": {},
     "output_type": "execute_result"
    }
   ],
   "source": [
    "dstore = get_data_store(\"data/demo-locked.tinydb\")\n",
    "dstore.describe"
   ]
  },
  {
   "cell_type": "code",
   "execution_count": 9,
   "id": "311b4899",
   "metadata": {
    "execution": {
     "iopub.execute_input": "2022-10-31T00:31:06.329579Z",
     "iopub.status.busy": "2022-10-31T00:31:06.329053Z",
     "iopub.status.idle": "2022-10-31T00:31:06.330907Z",
     "shell.execute_reply": "2022-10-31T00:31:06.331245Z"
    }
   },
   "outputs": [],
   "source": [
    "dstore.unlock(force=True)"
   ]
  },
  {
   "cell_type": "code",
   "execution_count": 10,
   "id": "e9476d3b",
   "metadata": {
    "execution": {
     "iopub.execute_input": "2022-10-31T00:31:06.335791Z",
     "iopub.status.busy": "2022-10-31T00:31:06.335243Z",
     "iopub.status.idle": "2022-10-31T00:31:06.342337Z",
     "shell.execute_reply": "2022-10-31T00:31:06.342677Z"
    }
   },
   "outputs": [
    {
     "data": {
      "text/html": [
       "\n",
       "<div class=\"c3table\">\n",
       "\n",
       "<style>\n",
       ".c3table table {margin: 10px 0;}\n",
       ".c3table tr:last-child {border-bottom: 1px solid #000;} \n",
       ".c3table tr > th {text-align: left; padding: 0 5px;}\n",
       ".c3table tr > td {text-align: left; padding: 5px;}\n",
       ".c3table tr:nth-child(even) {background: #f7f7f7 !important;}\n",
       ".c3table .ellipsis {background: rgba(0, 0, 0, .01);}\n",
       ".c3table .index {background: rgba(161, 195, 209, 0.0); margin: 10px; font-weight: 600;}\n",
       ".c3table .head_cell {background: rgba(161, 195, 209, 0.75); font-weight: bold; text-align: center;}\n",
       ".c3table caption {color: rgb(250, 250, 250); background: rgba(30, 140, 200, 1); padding: 3px; white-space: nowrap; caption-side: top;}\n",
       ".c3table .cell_title {font-weight: bold;}\n",
       ".c3col_left { text-align: left !important; display: block;}\n",
       ".c3col_right { text-align: right !important; display: block;}\n",
       ".c3col_center { text-align: center !important; display: block;}\n",
       "</style>\n",
       "\n",
       "<table>\n",
       "\n",
       "<caption>\n",
       "<span class=\"cell_title\">summary of log files</span>\n",
       "</caption>\n",
       "<thead class=\"head_cell\">\n",
       "<th>time</th><th>name</th><th>python version</th><th>who</th><th>command</th><th>composable</th>\n",
       "</thead>\n",
       "<tbody>\n",
       "<tr><td><span class=\"c3col_left\">2019-07-24 14:42:56</span></td><td><span class=\"c3col_left\">load_unaligned-progressive_align-write_db-pid8650.log</span></td><td><span class=\"c3col_left\">3.7.3</span></td><td><span class=\"c3col_left\">gavin</span></td><td><span class=\"c3col_left\">/Users/gavin/miniconda3/envs/c3dev/lib/python3.7/site-packages/ipykernel_launcher.py -f /Users/gavin/Library/Jupyter/runtime/kernel-5eb93aeb-f6e0-493e-85d1-d62895201ae2.json</span></td><td><span class=\"c3col_left\">load_unaligned(type='sequences', moltype='dna', format='fasta') + progressive_align(type='sequences', model='HKY85', gc=None, param_vals={'kappa': 3}, guide_tree=None, unique_guides=False, indel_length=0.1, indel_rate=1e-10) + write_db(type='output', data_path='../data/aligned-nt.tinydb', name_callback=None, create=True, if_exists='overwrite', suffix='json')</span></td></tr>\n",
       "</tbody>\n",
       "</table>\n",
       "<p>\n",
       "1 rows x 6 columns</p>\n",
       "</div>"
      ],
      "text/plain": [
       "summary of log files\n",
       "====================================================================================================================================================================================================================================================================================================================================================================================================================================================================================================================================================================================================================================================================\n",
       "time                   name                                                     python version    who      command                                                                                                                                                                          composable                                                                                                                                                                                                                                                                                                                                                              \n",
       "--------------------------------------------------------------------------------------------------------------------------------------------------------------------------------------------------------------------------------------------------------------------------------------------------------------------------------------------------------------------------------------------------------------------------------------------------------------------------------------------------------------------------------------------------------------------------------------------------------------------------------------------------------------------\n",
       "2019-07-24 14:42:56    load_unaligned-progressive_align-write_db-pid8650.log    3.7.3             gavin    /Users/gavin/miniconda3/envs/c3dev/lib/python3.7/site-packages/ipykernel_launcher.py -f /Users/gavin/Library/Jupyter/runtime/kernel-5eb93aeb-f6e0-493e-85d1-d62895201ae2.json    load_unaligned(type='sequences', moltype='dna', format='fasta') + progressive_align(type='sequences', model='HKY85', gc=None, param_vals={'kappa': 3}, guide_tree=None, unique_guides=False, indel_length=0.1, indel_rate=1e-10) + write_db(type='output', data_path='../data/aligned-nt.tinydb', name_callback=None, create=True, if_exists='overwrite', suffix='json')\n",
       "--------------------------------------------------------------------------------------------------------------------------------------------------------------------------------------------------------------------------------------------------------------------------------------------------------------------------------------------------------------------------------------------------------------------------------------------------------------------------------------------------------------------------------------------------------------------------------------------------------------------------------------------------------------------\n",
       "\n",
       "1 rows x 6 columns"
      ]
     },
     "execution_count": 10,
     "metadata": {},
     "output_type": "execute_result"
    }
   ],
   "source": [
    "dstore.summary_logs"
   ]
  },
  {
   "cell_type": "code",
   "execution_count": 11,
   "id": "04a63a54",
   "metadata": {
    "execution": {
     "iopub.execute_input": "2022-10-31T00:31:06.348066Z",
     "iopub.status.busy": "2022-10-31T00:31:06.347156Z",
     "iopub.status.idle": "2022-10-31T00:31:06.350312Z",
     "shell.execute_reply": "2022-10-31T00:31:06.350630Z"
    }
   },
   "outputs": [
    {
     "data": {
      "text/plain": [
       "['load_unaligned-progressive_align-write_db-pid8650.log']"
      ]
     },
     "execution_count": 11,
     "metadata": {},
     "output_type": "execute_result"
    }
   ],
   "source": [
    "dstore.logs"
   ]
  },
  {
   "cell_type": "code",
   "execution_count": 12,
   "id": "a43bd225",
   "metadata": {
    "execution": {
     "iopub.execute_input": "2022-10-31T00:31:06.354700Z",
     "iopub.status.busy": "2022-10-31T00:31:06.353990Z",
     "iopub.status.idle": "2022-10-31T00:31:06.356391Z",
     "shell.execute_reply": "2022-10-31T00:31:06.356927Z"
    }
   },
   "outputs": [
    {
     "name": "stdout",
     "output_type": "stream",
     "text": [
      "2019-07-24 14:42:56\tEratosthenes.local:8650\tINFO\tsystem_details : system=Darwin Kernel Version 18.6.0: Thu Apr 25 23:16:27 PDT 2019; root:xnu-4903.261.4~2/RELEASE_X86_64\n",
      "2019-07-24 14:42:56\tEratosthenes.local:8650\tINFO\tpython\n"
     ]
    }
   ],
   "source": [
    "print(dstore.logs[0].read()[:225])  # truncated for clarity"
   ]
  }
 ],
 "metadata": {
  "kernelspec": {
   "display_name": "Python 3 (ipykernel)",
   "language": "python",
   "name": "python3"
  },
  "language_info": {
   "codemirror_mode": {
    "name": "ipython",
    "version": 3
   },
   "file_extension": ".py",
   "mimetype": "text/x-python",
   "name": "python",
   "nbconvert_exporter": "python",
   "pygments_lexer": "ipython3",
   "version": "3.10.0"
  }
 },
 "nbformat": 4,
 "nbformat_minor": 5
}