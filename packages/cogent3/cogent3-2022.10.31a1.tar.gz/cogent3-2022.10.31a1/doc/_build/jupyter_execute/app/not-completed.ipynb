{
 "cells": [
  {
   "cell_type": "code",
   "execution_count": 1,
   "id": "2c9b598c",
   "metadata": {
    "execution": {
     "iopub.execute_input": "2022-10-31T00:36:22.111886Z",
     "iopub.status.busy": "2022-10-31T00:36:22.111207Z",
     "iopub.status.idle": "2022-10-31T00:36:26.958923Z",
     "shell.execute_reply": "2022-10-31T00:36:26.959451Z"
    }
   },
   "outputs": [],
   "source": [
    "import set_working_directory"
   ]
  },
  {
   "cell_type": "code",
   "execution_count": 2,
   "id": "92c89cc4",
   "metadata": {
    "execution": {
     "iopub.execute_input": "2022-10-31T00:36:26.963966Z",
     "iopub.status.busy": "2022-10-31T00:36:26.963293Z",
     "iopub.status.idle": "2022-10-31T00:36:28.366534Z",
     "shell.execute_reply": "2022-10-31T00:36:28.366978Z"
    }
   },
   "outputs": [
    {
     "data": {
      "text/plain": [
       "NotCompleted(type=FALSE, origin=take_named_seqs, source=\"data/primate_brca1.fasta\", message=\"named seq(s) {'Mouse'} not in ['Chimpanzee', 'Galago', 'Gorilla', 'HowlerMon', 'Human', 'Orangutan', 'Rhesus']\")"
      ]
     },
     "execution_count": 2,
     "metadata": {},
     "output_type": "execute_result"
    }
   ],
   "source": [
    "from cogent3.app import io, sample\n",
    "\n",
    "reader = io.load_aligned(format=\"fasta\")\n",
    "select_seqs = sample.take_named_seqs(\"Mouse\", \"Human\")\n",
    "aln = reader(\"data/primate_brca1.fasta\")\n",
    "result = select_seqs(aln)\n",
    "result"
   ]
  },
  {
   "cell_type": "code",
   "execution_count": 3,
   "id": "4431f48c",
   "metadata": {
    "execution": {
     "iopub.execute_input": "2022-10-31T00:36:28.370677Z",
     "iopub.status.busy": "2022-10-31T00:36:28.370037Z",
     "iopub.status.idle": "2022-10-31T00:36:28.372442Z",
     "shell.execute_reply": "2022-10-31T00:36:28.372910Z"
    }
   },
   "outputs": [
    {
     "data": {
      "text/plain": [
       "\"named seq(s) {'Mouse'} not in ['Chimpanzee', 'Galago', 'Gorilla', 'HowlerMon', 'Human', 'Orangutan', 'Rhesus']\""
      ]
     },
     "execution_count": 3,
     "metadata": {},
     "output_type": "execute_result"
    }
   ],
   "source": [
    "result == False\n",
    "result.type\n",
    "result.message"
   ]
  },
  {
   "cell_type": "code",
   "execution_count": 4,
   "id": "2877851f",
   "metadata": {
    "execution": {
     "iopub.execute_input": "2022-10-31T00:36:28.375844Z",
     "iopub.status.busy": "2022-10-31T00:36:28.375303Z",
     "iopub.status.idle": "2022-10-31T00:36:28.378903Z",
     "shell.execute_reply": "2022-10-31T00:36:28.379309Z"
    }
   },
   "outputs": [
    {
     "data": {
      "text/plain": [
       "NotCompleted(type=ERROR, origin=load_aligned, source=\"primate_brca1.fasta\", message=\"Traceback (most recent call last):\n",
       "  File \"/Users/gavin/opt/miniconda3/envs/c310dev/lib/python3.10/site-packages/cogent3/app/composable.py\", line 942, in _call\n",
       "    result = self.main(val, *args, **kwargs)\n",
       "  File \"/Users/gavin/opt/miniconda3/envs/c310dev/lib/python3.10/site-packages/cogent3/app/io.py\", line 216, in main\n",
       "    return _load_seqs(path, self.klass, self._parser, self.moltype)\n",
       "  File \"/Users/gavin/opt/miniconda3/envs/c310dev/lib/python3.10/site-packages/cogent3/app/io.py\", line 184, in _load_seqs\n",
       "    path = SingleReadDataStore(path)[0]\n",
       "  File \"/Users/gavin/opt/miniconda3/envs/c310dev/lib/python3.10/site-packages/cogent3/app/data_store.py\", line 366, in __init__\n",
       "    assert path.exists() and path.is_file()\n",
       "AssertionError\n",
       "\")"
      ]
     },
     "execution_count": 4,
     "metadata": {},
     "output_type": "execute_result"
    }
   ],
   "source": [
    "result = reader(\"primate_brca1.fasta\")\n",
    "result"
   ]
  },
  {
   "cell_type": "code",
   "execution_count": 5,
   "id": "bb13c890",
   "metadata": {
    "execution": {
     "iopub.execute_input": "2022-10-31T00:36:28.382225Z",
     "iopub.status.busy": "2022-10-31T00:36:28.381700Z",
     "iopub.status.idle": "2022-10-31T00:36:28.388545Z",
     "shell.execute_reply": "2022-10-31T00:36:28.388046Z"
    }
   },
   "outputs": [
    {
     "data": {
      "text/plain": [
       "NotCompleted(type=FALSE, origin=take_named_seqs, source=\"data/primate_brca1.fasta\", message=\"named seq(s) {'Mouse'} not in ['Chimpanzee', 'Galago', 'Gorilla', 'HowlerMon', 'Human', 'Orangutan', 'Rhesus']\")"
      ]
     },
     "execution_count": 5,
     "metadata": {},
     "output_type": "execute_result"
    }
   ],
   "source": [
    "process = reader + select_seqs\n",
    "result = process(\"data/primate_brca1.fasta\")\n",
    "result"
   ]
  },
  {
   "cell_type": "code",
   "execution_count": 6,
   "id": "5d73b50a",
   "metadata": {
    "execution": {
     "iopub.execute_input": "2022-10-31T00:36:28.391165Z",
     "iopub.status.busy": "2022-10-31T00:36:28.390642Z",
     "iopub.status.idle": "2022-10-31T00:36:28.393234Z",
     "shell.execute_reply": "2022-10-31T00:36:28.393550Z"
    }
   },
   "outputs": [
    {
     "data": {
      "text/plain": [
       "NotCompleted(type=ERROR, origin=take_named_seqs, source=\"primate_brca1.fasta\", message=\"invalid data type, 'NotCompleted' not in Alignment, ArrayAlignment, SequenceCollection\")"
      ]
     },
     "execution_count": 6,
     "metadata": {},
     "output_type": "execute_result"
    }
   ],
   "source": [
    "result = process(\"primate_brca1.fasta\")\n",
    "result"
   ]
  }
 ],
 "metadata": {
  "kernelspec": {
   "display_name": "Python 3 (ipykernel)",
   "language": "python",
   "name": "python3"
  },
  "language_info": {
   "codemirror_mode": {
    "name": "ipython",
    "version": 3
   },
   "file_extension": ".py",
   "mimetype": "text/x-python",
   "name": "python",
   "nbconvert_exporter": "python",
   "pygments_lexer": "ipython3",
   "version": "3.10.0"
  }
 },
 "nbformat": 4,
 "nbformat_minor": 5
}