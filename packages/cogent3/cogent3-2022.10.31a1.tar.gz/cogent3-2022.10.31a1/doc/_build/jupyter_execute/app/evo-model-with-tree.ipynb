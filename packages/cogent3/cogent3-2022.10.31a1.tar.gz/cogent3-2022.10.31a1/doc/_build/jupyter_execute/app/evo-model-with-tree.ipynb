{
 "cells": [
  {
   "cell_type": "code",
   "execution_count": 1,
   "id": "ca92fbae",
   "metadata": {
    "execution": {
     "iopub.execute_input": "2022-10-31T00:32:00.415923Z",
     "iopub.status.busy": "2022-10-31T00:32:00.415254Z",
     "iopub.status.idle": "2022-10-31T00:32:03.861832Z",
     "shell.execute_reply": "2022-10-31T00:32:03.862417Z"
    }
   },
   "outputs": [],
   "source": [
    "import set_working_directory"
   ]
  },
  {
   "cell_type": "code",
   "execution_count": 2,
   "id": "6b965575",
   "metadata": {
    "execution": {
     "iopub.execute_input": "2022-10-31T00:32:03.867441Z",
     "iopub.status.busy": "2022-10-31T00:32:03.866683Z",
     "iopub.status.idle": "2022-10-31T00:32:05.164015Z",
     "shell.execute_reply": "2022-10-31T00:32:05.164570Z"
    }
   },
   "outputs": [
    {
     "data": {
      "text/plain": [
       "['Chimpanzee',\n",
       " 'Galago',\n",
       " 'Gorilla',\n",
       " 'HowlerMon',\n",
       " 'Human',\n",
       " 'Orangutan',\n",
       " 'Rhesus']"
      ]
     },
     "execution_count": 2,
     "metadata": {},
     "output_type": "execute_result"
    }
   ],
   "source": [
    "from cogent3.app import io\n",
    "\n",
    "reader = io.load_aligned(format=\"fasta\", moltype=\"dna\")\n",
    "aln = reader(\"data/primate_brca1.fasta\")\n",
    "aln.names"
   ]
  },
  {
   "cell_type": "code",
   "execution_count": 3,
   "id": "42563248",
   "metadata": {
    "execution": {
     "iopub.execute_input": "2022-10-31T00:32:05.168163Z",
     "iopub.status.busy": "2022-10-31T00:32:05.167636Z",
     "iopub.status.idle": "2022-10-31T00:32:05.175532Z",
     "shell.execute_reply": "2022-10-31T00:32:05.175083Z"
    }
   },
   "outputs": [
    {
     "data": {
      "text/plain": [
       "model(sm='GN',\n",
       "tree=Tree(\"(Galago,HowlerMon,(Rhesus,(Orangutan,(Gorilla,(Human,Chimpanzee)))));\"),\n",
       "unique_trees=False, name=None, optimise_motif_probs=False, sm_args=None,\n",
       "lf_args=None, time_het=None, param_rules=None, opt_args=None, upper=50,\n",
       "split_codons=False, show_progress=False, verbose=False)"
      ]
     },
     "execution_count": 3,
     "metadata": {},
     "output_type": "execute_result"
    }
   ],
   "source": [
    "from cogent3 import load_tree\n",
    "from cogent3.app import evo\n",
    "\n",
    "tree = load_tree(\"data/primate_brca1.tree\")\n",
    "gn = evo.model(\"GN\", tree=tree)\n",
    "gn"
   ]
  },
  {
   "cell_type": "code",
   "execution_count": 4,
   "id": "c8b3361f",
   "metadata": {
    "execution": {
     "iopub.execute_input": "2022-10-31T00:32:05.179579Z",
     "iopub.status.busy": "2022-10-31T00:32:05.178941Z",
     "iopub.status.idle": "2022-10-31T00:32:05.182519Z",
     "shell.execute_reply": "2022-10-31T00:32:05.182848Z"
    }
   },
   "outputs": [
    {
     "data": {
      "text/plain": [
       "model(sm='GN', tree='data/primate_brca1.tree', unique_trees=False, name=None,\n",
       "optimise_motif_probs=False, sm_args=None, lf_args=None, time_het=None,\n",
       "param_rules=None, opt_args=None, upper=50, split_codons=False,\n",
       "show_progress=False, verbose=False)"
      ]
     },
     "execution_count": 4,
     "metadata": {},
     "output_type": "execute_result"
    }
   ],
   "source": [
    "gn = evo.model(\"GN\", tree=\"data/primate_brca1.tree\")\n",
    "gn"
   ]
  },
  {
   "cell_type": "code",
   "execution_count": 5,
   "id": "bd1a8799",
   "metadata": {
    "execution": {
     "iopub.execute_input": "2022-10-31T00:32:05.186778Z",
     "iopub.status.busy": "2022-10-31T00:32:05.186271Z",
     "iopub.status.idle": "2022-10-31T00:32:06.177361Z",
     "shell.execute_reply": "2022-10-31T00:32:06.177870Z"
    }
   },
   "outputs": [
    {
     "data": {
      "text/html": [
       "\n",
       "<div class=\"c3table\">\n",
       "\n",
       "<style>\n",
       ".c3table table {margin: 10px 0;}\n",
       ".c3table tr:last-child {border-bottom: 1px solid #000;} \n",
       ".c3table tr > th {text-align: left; padding: 0 5px;}\n",
       ".c3table tr > td {text-align: left; padding: 5px;}\n",
       ".c3table tr:nth-child(even) {background: #f7f7f7 !important;}\n",
       ".c3table .ellipsis {background: rgba(0, 0, 0, .01);}\n",
       ".c3table .index {background: rgba(161, 195, 209, 0.0); margin: 10px; font-weight: 600;}\n",
       ".c3table .head_cell {background: rgba(161, 195, 209, 0.75); font-weight: bold; text-align: center;}\n",
       ".c3table caption {color: rgb(250, 250, 250); background: rgba(30, 140, 200, 1); padding: 3px; white-space: nowrap; caption-side: top;}\n",
       ".c3table .cell_title {font-weight: bold;}\n",
       ".c3col_left { text-align: left !important; display: block;}\n",
       ".c3col_right { text-align: right !important; display: block;}\n",
       ".c3col_center { text-align: center !important; display: block;}\n",
       "</style>\n",
       "\n",
       "<table>\n",
       "\n",
       "<caption>\n",
       "<span class=\"cell_title\">GN</span>\n",
       "</caption>\n",
       "<thead class=\"head_cell\">\n",
       "<th>key</th><th>lnL</th><th>nfp</th><th>DLC</th><th>unique_Q</th>\n",
       "</thead>\n",
       "<tbody>\n",
       "<tr><td><span class=\"c3col_left\">'GN'</span></td><td><span class=\"c3col_right\">-6987.9604</span></td><td><span class=\"c3col_right\">22</span></td><td><span class=\"c3col_left\">True</span></td><td><span class=\"c3col_left\">True</span></td></tr>\n",
       "</tbody>\n",
       "</table>\n",
       "\n",
       "</div>"
      ],
      "text/plain": [
       "GN\n",
       "=============================================\n",
       "key            lnL    nfp    DLC     unique_Q\n",
       "---------------------------------------------\n",
       "'GN'    -6987.9604     22    True    True    \n",
       "---------------------------------------------\n",
       "\n",
       "1 rows x 5 columns"
      ]
     },
     "execution_count": 5,
     "metadata": {},
     "output_type": "execute_result"
    }
   ],
   "source": [
    "fitted = gn(aln)\n",
    "fitted"
   ]
  },
  {
   "cell_type": "code",
   "execution_count": 6,
   "id": "f6bbf3f7",
   "metadata": {
    "execution": {
     "iopub.execute_input": "2022-10-31T00:32:06.185970Z",
     "iopub.status.busy": "2022-10-31T00:32:06.185166Z",
     "iopub.status.idle": "2022-10-31T00:32:06.188394Z",
     "shell.execute_reply": "2022-10-31T00:32:06.188810Z"
    }
   },
   "outputs": [
    {
     "data": {
      "text/html": [
       "<h4>GN</h4>\n",
       "<p>log-likelihood = -6987.9604</p>\n",
       "<p>number of free parameters = 22</p>\n",
       "\n",
       "<div class=\"c3table\">\n",
       "\n",
       "<style>\n",
       ".c3table table {margin: 10px 0;}\n",
       ".c3table tr:last-child {border-bottom: 1px solid #000;} \n",
       ".c3table tr > th {text-align: left; padding: 0 5px;}\n",
       ".c3table tr > td {text-align: left; padding: 5px;}\n",
       ".c3table tr:nth-child(even) {background: #f7f7f7 !important;}\n",
       ".c3table .ellipsis {background: rgba(0, 0, 0, .01);}\n",
       ".c3table .index {background: rgba(161, 195, 209, 0.0); margin: 10px; font-weight: 600;}\n",
       ".c3table .head_cell {background: rgba(161, 195, 209, 0.75); font-weight: bold; text-align: center;}\n",
       ".c3table caption {color: rgb(250, 250, 250); background: rgba(30, 140, 200, 1); padding: 3px; white-space: nowrap; caption-side: top;}\n",
       ".c3table .cell_title {font-weight: bold;}\n",
       ".c3col_left { text-align: left !important; display: block;}\n",
       ".c3col_right { text-align: right !important; display: block;}\n",
       ".c3col_center { text-align: center !important; display: block;}\n",
       "</style>\n",
       "\n",
       "<table>\n",
       "\n",
       "<caption>\n",
       "<span class=\"cell_title\">Global params</span>\n",
       "</caption>\n",
       "<thead class=\"head_cell\">\n",
       "<th>A>C</th><th>A>G</th><th>A>T</th><th>C>A</th><th>C>G</th><th>C>T</th><th>G>A</th><th>G>C</th><th>G>T</th><th>T>A</th>\n",
       "</thead>\n",
       "<tbody>\n",
       "<tr><td><span class=\"c3col_right\">0.8699</span></td><td><span class=\"c3col_right\">3.6640</span></td><td><span class=\"c3col_right\">0.9110</span></td><td><span class=\"c3col_right\">1.5907</span></td><td><span class=\"c3col_right\">2.1245</span></td><td><span class=\"c3col_right\">6.0240</span></td><td><span class=\"c3col_right\">8.2213</span></td><td><span class=\"c3col_right\">1.2295</span></td><td><span class=\"c3col_right\">0.6296</span></td><td><span class=\"c3col_right\">1.2502</span></td></tr>\n",
       "</tbody>\n",
       "</table>\n",
       "\n",
       "<table>\n",
       "\n",
       "<caption>\n",
       "<span class=\"cell_title\">continuation</span>\n",
       "</caption>\n",
       "<thead class=\"head_cell\">\n",
       "<th>T>C</th>\n",
       "</thead>\n",
       "<tbody>\n",
       "<tr><td><span class=\"c3col_right\">3.4168</span></td></tr>\n",
       "</tbody>\n",
       "</table>\n",
       "\n",
       "</div>\n",
       "\n",
       "<div class=\"c3table\">\n",
       "\n",
       "<style>\n",
       ".c3table table {margin: 10px 0;}\n",
       ".c3table tr:last-child {border-bottom: 1px solid #000;} \n",
       ".c3table tr > th {text-align: left; padding: 0 5px;}\n",
       ".c3table tr > td {text-align: left; padding: 5px;}\n",
       ".c3table tr:nth-child(even) {background: #f7f7f7 !important;}\n",
       ".c3table .ellipsis {background: rgba(0, 0, 0, .01);}\n",
       ".c3table .index {background: rgba(161, 195, 209, 0.0); margin: 10px; font-weight: 600;}\n",
       ".c3table .head_cell {background: rgba(161, 195, 209, 0.75); font-weight: bold; text-align: center;}\n",
       ".c3table caption {color: rgb(250, 250, 250); background: rgba(30, 140, 200, 1); padding: 3px; white-space: nowrap; caption-side: top;}\n",
       ".c3table .cell_title {font-weight: bold;}\n",
       ".c3col_left { text-align: left !important; display: block;}\n",
       ".c3col_right { text-align: right !important; display: block;}\n",
       ".c3col_center { text-align: center !important; display: block;}\n",
       "</style>\n",
       "\n",
       "<table>\n",
       "\n",
       "<caption>\n",
       "<span class=\"cell_title\">Edge params</span>\n",
       "</caption>\n",
       "<thead class=\"head_cell\">\n",
       "<th>edge</th><th>parent</th><th>length</th>\n",
       "</thead>\n",
       "<tbody>\n",
       "<tr><td><span class=\"c3col_left\">Galago</span></td><td><span class=\"c3col_left\">root</span></td><td><span class=\"c3col_right\">0.1734</span></td></tr>\n",
       "<tr><td><span class=\"c3col_left\">HowlerMon</span></td><td><span class=\"c3col_left\">root</span></td><td><span class=\"c3col_right\">0.0450</span></td></tr>\n",
       "<tr><td><span class=\"c3col_left\">Rhesus</span></td><td><span class=\"c3col_left\">edge.3</span></td><td><span class=\"c3col_right\">0.0215</span></td></tr>\n",
       "<tr><td><span class=\"c3col_left\">Orangutan</span></td><td><span class=\"c3col_left\">edge.2</span></td><td><span class=\"c3col_right\">0.0078</span></td></tr>\n",
       "<tr><td><span class=\"c3col_left\">Gorilla</span></td><td><span class=\"c3col_left\">edge.1</span></td><td><span class=\"c3col_right\">0.0025</span></td></tr>\n",
       "<tr><td><span class=\"c3col_left\">Human</span></td><td><span class=\"c3col_left\">edge.0</span></td><td><span class=\"c3col_right\">0.0061</span></td></tr>\n",
       "<tr><td><span class=\"c3col_left\">Chimpanzee</span></td><td><span class=\"c3col_left\">edge.0</span></td><td><span class=\"c3col_right\">0.0028</span></td></tr>\n",
       "<tr><td><span class=\"c3col_left\">edge.0</span></td><td><span class=\"c3col_left\">edge.1</span></td><td><span class=\"c3col_right\">0.0000</span></td></tr>\n",
       "<tr><td><span class=\"c3col_left\">edge.1</span></td><td><span class=\"c3col_left\">edge.2</span></td><td><span class=\"c3col_right\">0.0033</span></td></tr>\n",
       "<tr><td><span class=\"c3col_left\">edge.2</span></td><td><span class=\"c3col_left\">edge.3</span></td><td><span class=\"c3col_right\">0.0121</span></td></tr>\n",
       "<tr><td><span class=\"c3col_left\">edge.3</span></td><td><span class=\"c3col_left\">root</span></td><td><span class=\"c3col_right\">0.0077</span></td></tr>\n",
       "</tbody>\n",
       "</table>\n",
       "\n",
       "</div>\n",
       "\n",
       "<div class=\"c3table\">\n",
       "\n",
       "<style>\n",
       ".c3table table {margin: 10px 0;}\n",
       ".c3table tr:last-child {border-bottom: 1px solid #000;} \n",
       ".c3table tr > th {text-align: left; padding: 0 5px;}\n",
       ".c3table tr > td {text-align: left; padding: 5px;}\n",
       ".c3table tr:nth-child(even) {background: #f7f7f7 !important;}\n",
       ".c3table .ellipsis {background: rgba(0, 0, 0, .01);}\n",
       ".c3table .index {background: rgba(161, 195, 209, 0.0); margin: 10px; font-weight: 600;}\n",
       ".c3table .head_cell {background: rgba(161, 195, 209, 0.75); font-weight: bold; text-align: center;}\n",
       ".c3table caption {color: rgb(250, 250, 250); background: rgba(30, 140, 200, 1); padding: 3px; white-space: nowrap; caption-side: top;}\n",
       ".c3table .cell_title {font-weight: bold;}\n",
       ".c3col_left { text-align: left !important; display: block;}\n",
       ".c3col_right { text-align: right !important; display: block;}\n",
       ".c3col_center { text-align: center !important; display: block;}\n",
       "</style>\n",
       "\n",
       "<table>\n",
       "\n",
       "<caption>\n",
       "<span class=\"cell_title\">Motif params</span>\n",
       "</caption>\n",
       "<thead class=\"head_cell\">\n",
       "<th>A</th><th>C</th><th>G</th><th>T</th>\n",
       "</thead>\n",
       "<tbody>\n",
       "<tr><td><span class=\"c3col_right\">0.3757</span></td><td><span class=\"c3col_right\">0.1742</span></td><td><span class=\"c3col_right\">0.2095</span></td><td><span class=\"c3col_right\">0.2406</span></td></tr>\n",
       "</tbody>\n",
       "</table>\n",
       "\n",
       "</div>"
      ],
      "text/plain": [
       "GN\n",
       "log-likelihood = -6987.9604\n",
       "number of free parameters = 22\n",
       "============================================================================\n",
       "   A>C       A>G       A>T       C>A       C>G       C>T       G>A       G>C\n",
       "----------------------------------------------------------------------------\n",
       "0.8699    3.6640    0.9110    1.5907    2.1245    6.0240    8.2213    1.2295\n",
       "----------------------------------------------------------------------------\n",
       "\n",
       "continued: \n",
       "==========================\n",
       "   G>T       T>A       T>C\n",
       "--------------------------\n",
       "0.6296    1.2502    3.4168\n",
       "--------------------------\n",
       "\n",
       "==============================\n",
       "edge          parent    length\n",
       "------------------------------\n",
       "Galago        root      0.1734\n",
       "HowlerMon     root      0.0450\n",
       "Rhesus        edge.3    0.0215\n",
       "Orangutan     edge.2    0.0078\n",
       "Gorilla       edge.1    0.0025\n",
       "Human         edge.0    0.0061\n",
       "Chimpanzee    edge.0    0.0028\n",
       "edge.0        edge.1    0.0000\n",
       "edge.1        edge.2    0.0033\n",
       "edge.2        edge.3    0.0121\n",
       "edge.3        root      0.0077\n",
       "------------------------------\n",
       "====================================\n",
       "     A         C         G         T\n",
       "------------------------------------\n",
       "0.3757    0.1742    0.2095    0.2406\n",
       "------------------------------------"
      ]
     },
     "execution_count": 6,
     "metadata": {},
     "output_type": "execute_result"
    }
   ],
   "source": [
    "fitted.lf"
   ]
  }
 ],
 "metadata": {
  "kernelspec": {
   "display_name": "Python 3 (ipykernel)",
   "language": "python",
   "name": "python3"
  },
  "language_info": {
   "codemirror_mode": {
    "name": "ipython",
    "version": 3
   },
   "file_extension": ".py",
   "mimetype": "text/x-python",
   "name": "python",
   "nbconvert_exporter": "python",
   "pygments_lexer": "ipython3",
   "version": "3.10.0"
  }
 },
 "nbformat": 4,
 "nbformat_minor": 5
}