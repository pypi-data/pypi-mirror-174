{
 "cells": [
  {
   "cell_type": "code",
   "execution_count": 1,
   "id": "2346861f",
   "metadata": {
    "execution": {
     "iopub.execute_input": "2022-10-31T00:31:41.795768Z",
     "iopub.status.busy": "2022-10-31T00:31:41.795099Z",
     "iopub.status.idle": "2022-10-31T00:31:45.585449Z",
     "shell.execute_reply": "2022-10-31T00:31:45.586115Z"
    }
   },
   "outputs": [],
   "source": [
    "import set_working_directory"
   ]
  },
  {
   "cell_type": "code",
   "execution_count": 2,
   "id": "75f79ce1",
   "metadata": {
    "execution": {
     "iopub.execute_input": "2022-10-31T00:31:45.591441Z",
     "iopub.status.busy": "2022-10-31T00:31:45.590764Z",
     "iopub.status.idle": "2022-10-31T00:31:46.928828Z",
     "shell.execute_reply": "2022-10-31T00:31:46.929267Z"
    }
   },
   "outputs": [
    {
     "data": {
      "text/plain": [
       "['Human', 'Rhesus', 'Galago']"
      ]
     },
     "execution_count": 2,
     "metadata": {},
     "output_type": "execute_result"
    }
   ],
   "source": [
    "from cogent3.app import io, sample\n",
    "\n",
    "reader = io.load_aligned(format=\"fasta\", moltype=\"dna\")\n",
    "select_seqs = sample.take_named_seqs(\"Human\", \"Rhesus\", \"Galago\")\n",
    "process = reader + select_seqs\n",
    "aln = process(\"data/primate_brca1.fasta\")\n",
    "aln.names"
   ]
  },
  {
   "cell_type": "code",
   "execution_count": 3,
   "id": "77a23d20",
   "metadata": {
    "execution": {
     "iopub.execute_input": "2022-10-31T00:31:46.932614Z",
     "iopub.status.busy": "2022-10-31T00:31:46.932088Z",
     "iopub.status.idle": "2022-10-31T00:31:46.938600Z",
     "shell.execute_reply": "2022-10-31T00:31:46.939037Z"
    }
   },
   "outputs": [
    {
     "data": {
      "text/plain": [
       "model(sm='GN', tree=None, unique_trees=False, name=None,\n",
       "optimise_motif_probs=False, sm_args=None, lf_args=None, time_het=None,\n",
       "param_rules=None, opt_args=None, upper=50, split_codons=False,\n",
       "show_progress=False, verbose=False)"
      ]
     },
     "execution_count": 3,
     "metadata": {},
     "output_type": "execute_result"
    }
   ],
   "source": [
    "from cogent3.app import evo\n",
    "\n",
    "gn = evo.model(\"GN\")\n",
    "gn"
   ]
  },
  {
   "cell_type": "code",
   "execution_count": 4,
   "id": "63bacd2b",
   "metadata": {
    "execution": {
     "iopub.execute_input": "2022-10-31T00:31:46.944386Z",
     "iopub.status.busy": "2022-10-31T00:31:46.943736Z",
     "iopub.status.idle": "2022-10-31T00:31:47.500003Z",
     "shell.execute_reply": "2022-10-31T00:31:47.500507Z"
    }
   },
   "outputs": [
    {
     "data": {
      "text/plain": [
       "cogent3.app.result.model_result"
      ]
     },
     "execution_count": 4,
     "metadata": {},
     "output_type": "execute_result"
    }
   ],
   "source": [
    "fitted = gn(aln)\n",
    "type(fitted)"
   ]
  },
  {
   "cell_type": "code",
   "execution_count": 5,
   "id": "03a7ba78",
   "metadata": {
    "execution": {
     "iopub.execute_input": "2022-10-31T00:31:47.507044Z",
     "iopub.status.busy": "2022-10-31T00:31:47.504414Z",
     "iopub.status.idle": "2022-10-31T00:31:47.509467Z",
     "shell.execute_reply": "2022-10-31T00:31:47.509847Z"
    }
   },
   "outputs": [
    {
     "data": {
      "text/html": [
       "\n",
       "<div class=\"c3table\">\n",
       "\n",
       "<style>\n",
       ".c3table table {margin: 10px 0;}\n",
       ".c3table tr:last-child {border-bottom: 1px solid #000;} \n",
       ".c3table tr > th {text-align: left; padding: 0 5px;}\n",
       ".c3table tr > td {text-align: left; padding: 5px;}\n",
       ".c3table tr:nth-child(even) {background: #f7f7f7 !important;}\n",
       ".c3table .ellipsis {background: rgba(0, 0, 0, .01);}\n",
       ".c3table .index {background: rgba(161, 195, 209, 0.0); margin: 10px; font-weight: 600;}\n",
       ".c3table .head_cell {background: rgba(161, 195, 209, 0.75); font-weight: bold; text-align: center;}\n",
       ".c3table caption {color: rgb(250, 250, 250); background: rgba(30, 140, 200, 1); padding: 3px; white-space: nowrap; caption-side: top;}\n",
       ".c3table .cell_title {font-weight: bold;}\n",
       ".c3col_left { text-align: left !important; display: block;}\n",
       ".c3col_right { text-align: right !important; display: block;}\n",
       ".c3col_center { text-align: center !important; display: block;}\n",
       "</style>\n",
       "\n",
       "<table>\n",
       "\n",
       "<caption>\n",
       "<span class=\"cell_title\">GN</span>\n",
       "</caption>\n",
       "<thead class=\"head_cell\">\n",
       "<th>key</th><th>lnL</th><th>nfp</th><th>DLC</th><th>unique_Q</th>\n",
       "</thead>\n",
       "<tbody>\n",
       "<tr><td><span class=\"c3col_left\">'GN'</span></td><td><span class=\"c3col_right\">-5964.2583</span></td><td><span class=\"c3col_right\">14</span></td><td><span class=\"c3col_left\">True</span></td><td><span class=\"c3col_left\">True</span></td></tr>\n",
       "</tbody>\n",
       "</table>\n",
       "\n",
       "</div>"
      ],
      "text/plain": [
       "GN\n",
       "=============================================\n",
       "key            lnL    nfp    DLC     unique_Q\n",
       "---------------------------------------------\n",
       "'GN'    -5964.2583     14    True    True    \n",
       "---------------------------------------------\n",
       "\n",
       "1 rows x 5 columns"
      ]
     },
     "execution_count": 5,
     "metadata": {},
     "output_type": "execute_result"
    }
   ],
   "source": [
    "fitted"
   ]
  },
  {
   "cell_type": "code",
   "execution_count": 6,
   "id": "0342ff7c",
   "metadata": {
    "execution": {
     "iopub.execute_input": "2022-10-31T00:31:47.515756Z",
     "iopub.status.busy": "2022-10-31T00:31:47.515082Z",
     "iopub.status.idle": "2022-10-31T00:31:47.517744Z",
     "shell.execute_reply": "2022-10-31T00:31:47.518225Z"
    }
   },
   "outputs": [
    {
     "data": {
      "text/html": [
       "<h4>GN</h4>\n",
       "<p>log-likelihood = -5964.2583</p>\n",
       "<p>number of free parameters = 14</p>\n",
       "\n",
       "<div class=\"c3table\">\n",
       "\n",
       "<style>\n",
       ".c3table table {margin: 10px 0;}\n",
       ".c3table tr:last-child {border-bottom: 1px solid #000;} \n",
       ".c3table tr > th {text-align: left; padding: 0 5px;}\n",
       ".c3table tr > td {text-align: left; padding: 5px;}\n",
       ".c3table tr:nth-child(even) {background: #f7f7f7 !important;}\n",
       ".c3table .ellipsis {background: rgba(0, 0, 0, .01);}\n",
       ".c3table .index {background: rgba(161, 195, 209, 0.0); margin: 10px; font-weight: 600;}\n",
       ".c3table .head_cell {background: rgba(161, 195, 209, 0.75); font-weight: bold; text-align: center;}\n",
       ".c3table caption {color: rgb(250, 250, 250); background: rgba(30, 140, 200, 1); padding: 3px; white-space: nowrap; caption-side: top;}\n",
       ".c3table .cell_title {font-weight: bold;}\n",
       ".c3col_left { text-align: left !important; display: block;}\n",
       ".c3col_right { text-align: right !important; display: block;}\n",
       ".c3col_center { text-align: center !important; display: block;}\n",
       "</style>\n",
       "\n",
       "<table>\n",
       "\n",
       "<caption>\n",
       "<span class=\"cell_title\">Global params</span>\n",
       "</caption>\n",
       "<thead class=\"head_cell\">\n",
       "<th>A>C</th><th>A>G</th><th>A>T</th><th>C>A</th><th>C>G</th><th>C>T</th><th>G>A</th><th>G>C</th><th>G>T</th><th>T>A</th>\n",
       "</thead>\n",
       "<tbody>\n",
       "<tr><td><span class=\"c3col_right\">1.0635</span></td><td><span class=\"c3col_right\">3.1945</span></td><td><span class=\"c3col_right\">1.0209</span></td><td><span class=\"c3col_right\">1.7944</span></td><td><span class=\"c3col_right\">2.3266</span></td><td><span class=\"c3col_right\">5.6766</span></td><td><span class=\"c3col_right\">9.0612</span></td><td><span class=\"c3col_right\">1.1126</span></td><td><span class=\"c3col_right\">0.8312</span></td><td><span class=\"c3col_right\">1.5001</span></td></tr>\n",
       "</tbody>\n",
       "</table>\n",
       "\n",
       "<table>\n",
       "\n",
       "<caption>\n",
       "<span class=\"cell_title\">continuation</span>\n",
       "</caption>\n",
       "<thead class=\"head_cell\">\n",
       "<th>T>C</th>\n",
       "</thead>\n",
       "<tbody>\n",
       "<tr><td><span class=\"c3col_right\">3.5616</span></td></tr>\n",
       "</tbody>\n",
       "</table>\n",
       "\n",
       "</div>\n",
       "\n",
       "<div class=\"c3table\">\n",
       "\n",
       "<style>\n",
       ".c3table table {margin: 10px 0;}\n",
       ".c3table tr:last-child {border-bottom: 1px solid #000;} \n",
       ".c3table tr > th {text-align: left; padding: 0 5px;}\n",
       ".c3table tr > td {text-align: left; padding: 5px;}\n",
       ".c3table tr:nth-child(even) {background: #f7f7f7 !important;}\n",
       ".c3table .ellipsis {background: rgba(0, 0, 0, .01);}\n",
       ".c3table .index {background: rgba(161, 195, 209, 0.0); margin: 10px; font-weight: 600;}\n",
       ".c3table .head_cell {background: rgba(161, 195, 209, 0.75); font-weight: bold; text-align: center;}\n",
       ".c3table caption {color: rgb(250, 250, 250); background: rgba(30, 140, 200, 1); padding: 3px; white-space: nowrap; caption-side: top;}\n",
       ".c3table .cell_title {font-weight: bold;}\n",
       ".c3col_left { text-align: left !important; display: block;}\n",
       ".c3col_right { text-align: right !important; display: block;}\n",
       ".c3col_center { text-align: center !important; display: block;}\n",
       "</style>\n",
       "\n",
       "<table>\n",
       "\n",
       "<caption>\n",
       "<span class=\"cell_title\">Edge params</span>\n",
       "</caption>\n",
       "<thead class=\"head_cell\">\n",
       "<th>edge</th><th>parent</th><th>length</th>\n",
       "</thead>\n",
       "<tbody>\n",
       "<tr><td><span class=\"c3col_left\">Human</span></td><td><span class=\"c3col_left\">root</span></td><td><span class=\"c3col_right\">0.0213</span></td></tr>\n",
       "<tr><td><span class=\"c3col_left\">Rhesus</span></td><td><span class=\"c3col_left\">root</span></td><td><span class=\"c3col_right\">0.0207</span></td></tr>\n",
       "<tr><td><span class=\"c3col_left\">Galago</span></td><td><span class=\"c3col_left\">root</span></td><td><span class=\"c3col_right\">0.1773</span></td></tr>\n",
       "</tbody>\n",
       "</table>\n",
       "\n",
       "</div>\n",
       "\n",
       "<div class=\"c3table\">\n",
       "\n",
       "<style>\n",
       ".c3table table {margin: 10px 0;}\n",
       ".c3table tr:last-child {border-bottom: 1px solid #000;} \n",
       ".c3table tr > th {text-align: left; padding: 0 5px;}\n",
       ".c3table tr > td {text-align: left; padding: 5px;}\n",
       ".c3table tr:nth-child(even) {background: #f7f7f7 !important;}\n",
       ".c3table .ellipsis {background: rgba(0, 0, 0, .01);}\n",
       ".c3table .index {background: rgba(161, 195, 209, 0.0); margin: 10px; font-weight: 600;}\n",
       ".c3table .head_cell {background: rgba(161, 195, 209, 0.75); font-weight: bold; text-align: center;}\n",
       ".c3table caption {color: rgb(250, 250, 250); background: rgba(30, 140, 200, 1); padding: 3px; white-space: nowrap; caption-side: top;}\n",
       ".c3table .cell_title {font-weight: bold;}\n",
       ".c3col_left { text-align: left !important; display: block;}\n",
       ".c3col_right { text-align: right !important; display: block;}\n",
       ".c3col_center { text-align: center !important; display: block;}\n",
       "</style>\n",
       "\n",
       "<table>\n",
       "\n",
       "<caption>\n",
       "<span class=\"cell_title\">Motif params</span>\n",
       "</caption>\n",
       "<thead class=\"head_cell\">\n",
       "<th>A</th><th>C</th><th>G</th><th>T</th>\n",
       "</thead>\n",
       "<tbody>\n",
       "<tr><td><span class=\"c3col_right\">0.3793</span></td><td><span class=\"c3col_right\">0.1734</span></td><td><span class=\"c3col_right\">0.2058</span></td><td><span class=\"c3col_right\">0.2415</span></td></tr>\n",
       "</tbody>\n",
       "</table>\n",
       "\n",
       "</div>"
      ],
      "text/plain": [
       "GN\n",
       "log-likelihood = -5964.2583\n",
       "number of free parameters = 14\n",
       "============================================================================\n",
       "   A>C       A>G       A>T       C>A       C>G       C>T       G>A       G>C\n",
       "----------------------------------------------------------------------------\n",
       "1.0635    3.1945    1.0209    1.7944    2.3266    5.6766    9.0612    1.1126\n",
       "----------------------------------------------------------------------------\n",
       "\n",
       "continued: \n",
       "==========================\n",
       "   G>T       T>A       T>C\n",
       "--------------------------\n",
       "0.8312    1.5001    3.5616\n",
       "--------------------------\n",
       "\n",
       "==========================\n",
       "edge      parent    length\n",
       "--------------------------\n",
       "Human     root      0.0213\n",
       "Rhesus    root      0.0207\n",
       "Galago    root      0.1773\n",
       "--------------------------\n",
       "====================================\n",
       "     A         C         G         T\n",
       "------------------------------------\n",
       "0.3793    0.1734    0.2058    0.2415\n",
       "------------------------------------"
      ]
     },
     "execution_count": 6,
     "metadata": {},
     "output_type": "execute_result"
    }
   ],
   "source": [
    "fitted.lf"
   ]
  },
  {
   "cell_type": "code",
   "execution_count": 7,
   "id": "bdf4f3d0",
   "metadata": {
    "execution": {
     "iopub.execute_input": "2022-10-31T00:31:47.521617Z",
     "iopub.status.busy": "2022-10-31T00:31:47.521033Z",
     "iopub.status.idle": "2022-10-31T00:31:47.523248Z",
     "shell.execute_reply": "2022-10-31T00:31:47.523635Z"
    }
   },
   "outputs": [
    {
     "data": {
      "text/plain": [
       "(-5964.258307147718, 14)"
      ]
     },
     "execution_count": 7,
     "metadata": {},
     "output_type": "execute_result"
    }
   ],
   "source": [
    "fitted.lnL, fitted.nfp"
   ]
  },
  {
   "cell_type": "code",
   "execution_count": 8,
   "id": "fc0da9a4",
   "metadata": {
    "execution": {
     "iopub.execute_input": "2022-10-31T00:31:47.526739Z",
     "iopub.status.busy": "2022-10-31T00:31:47.526159Z",
     "iopub.status.idle": "2022-10-31T00:31:47.528595Z",
     "shell.execute_reply": "2022-10-31T00:31:47.529063Z"
    }
   },
   "outputs": [
    {
     "data": {
      "text/plain": [
       "'data/primate_brca1.fasta'"
      ]
     },
     "execution_count": 8,
     "metadata": {},
     "output_type": "execute_result"
    }
   ],
   "source": [
    "fitted.source"
   ]
  },
  {
   "cell_type": "code",
   "execution_count": 9,
   "id": "5838a9fd",
   "metadata": {
    "execution": {
     "iopub.execute_input": "2022-10-31T00:31:47.533627Z",
     "iopub.status.busy": "2022-10-31T00:31:47.531911Z",
     "iopub.status.idle": "2022-10-31T00:31:47.536089Z",
     "shell.execute_reply": "2022-10-31T00:31:47.536733Z"
    }
   },
   "outputs": [
    {
     "data": {
      "text/plain": [
       "(Tree(\"(Human,Rhesus,Galago)root;\"),\n",
       " 3 x 2814 alignment: Human[TGTGGCACAAA...], Rhesus[TGTGGCACAAA...], Galago[TGTGGCAAAAA...])"
      ]
     },
     "execution_count": 9,
     "metadata": {},
     "output_type": "execute_result"
    }
   ],
   "source": [
    "fitted.tree, fitted.alignment"
   ]
  },
  {
   "cell_type": "code",
   "execution_count": 10,
   "id": "0dd91d6b",
   "metadata": {
    "execution": {
     "iopub.execute_input": "2022-10-31T00:31:47.541728Z",
     "iopub.status.busy": "2022-10-31T00:31:47.541118Z",
     "iopub.status.idle": "2022-10-31T00:31:47.543326Z",
     "shell.execute_reply": "2022-10-31T00:31:47.543735Z"
    }
   },
   "outputs": [
    {
     "data": {
      "text/plain": [
       "0.9292255003217949"
      ]
     },
     "execution_count": 10,
     "metadata": {},
     "output_type": "execute_result"
    }
   ],
   "source": [
    "fitted.total_length(length_as=\"paralinear\")"
   ]
  },
  {
   "cell_type": "code",
   "execution_count": 11,
   "id": "5eacbb83",
   "metadata": {
    "execution": {
     "iopub.execute_input": "2022-10-31T00:31:47.549396Z",
     "iopub.status.busy": "2022-10-31T00:31:47.547109Z",
     "iopub.status.idle": "2022-10-31T00:31:49.100083Z",
     "shell.execute_reply": "2022-10-31T00:31:49.100752Z"
    }
   },
   "outputs": [
    {
     "data": {
      "text/html": [
       "\n",
       "<div class=\"c3table\">\n",
       "\n",
       "<style>\n",
       ".c3table table {margin: 10px 0;}\n",
       ".c3table tr:last-child {border-bottom: 1px solid #000;} \n",
       ".c3table tr > th {text-align: left; padding: 0 5px;}\n",
       ".c3table tr > td {text-align: left; padding: 5px;}\n",
       ".c3table tr:nth-child(even) {background: #f7f7f7 !important;}\n",
       ".c3table .ellipsis {background: rgba(0, 0, 0, .01);}\n",
       ".c3table .index {background: rgba(161, 195, 209, 0.0); margin: 10px; font-weight: 600;}\n",
       ".c3table .head_cell {background: rgba(161, 195, 209, 0.75); font-weight: bold; text-align: center;}\n",
       ".c3table caption {color: rgb(250, 250, 250); background: rgba(30, 140, 200, 1); padding: 3px; white-space: nowrap; caption-side: top;}\n",
       ".c3table .cell_title {font-weight: bold;}\n",
       ".c3col_left { text-align: left !important; display: block;}\n",
       ".c3col_right { text-align: right !important; display: block;}\n",
       ".c3col_center { text-align: center !important; display: block;}\n",
       "</style>\n",
       "\n",
       "<table>\n",
       "\n",
       "<caption>\n",
       "<span class=\"cell_title\">GN</span>\n",
       "</caption>\n",
       "<thead class=\"head_cell\">\n",
       "<th>key</th><th>lnL</th><th>nfp</th><th>DLC</th><th>unique_Q</th>\n",
       "</thead>\n",
       "<tbody>\n",
       "<tr><td><span class=\"c3col_left\">''</span></td><td><span class=\"c3col_right\">-5867.4461</span></td><td><span class=\"c3col_right\">42</span></td><td><span class=\"c3col_left\">True</span></td><td><span class=\"c3col_left\">True</span></td></tr>\n",
       "<tr><td><span class=\"c3col_left\">1</span></td><td><span class=\"c3col_right\">-1955.7571</span></td><td><span class=\"c3col_right\">14</span></td><td><span class=\"c3col_left\"></span></td><td><span class=\"c3col_left\"></span></td></tr>\n",
       "<tr><td><span class=\"c3col_left\">2</span></td><td><span class=\"c3col_right\">-1934.2690</span></td><td><span class=\"c3col_right\">14</span></td><td><span class=\"c3col_left\"></span></td><td><span class=\"c3col_left\"></span></td></tr>\n",
       "<tr><td><span class=\"c3col_left\">3</span></td><td><span class=\"c3col_right\">-1977.4200</span></td><td><span class=\"c3col_right\">14</span></td><td><span class=\"c3col_left\"></span></td><td><span class=\"c3col_left\"></span></td></tr>\n",
       "</tbody>\n",
       "</table>\n",
       "\n",
       "</div>"
      ],
      "text/plain": [
       "GN\n",
       "===========================================\n",
       "key           lnL    nfp    DLC    unique_Q\n",
       "-------------------------------------------\n",
       "''     -5867.4461     42    1      1       \n",
       "1      -1955.7571     14                   \n",
       "2      -1934.2690     14                   \n",
       "3      -1977.4200     14                   \n",
       "-------------------------------------------\n",
       "\n",
       "4 rows x 5 columns"
      ]
     },
     "execution_count": 11,
     "metadata": {},
     "output_type": "execute_result"
    }
   ],
   "source": [
    "gn = evo.model(\"GN\", split_codons=True)\n",
    "\n",
    "fitted = gn(aln)\n",
    "fitted"
   ]
  },
  {
   "cell_type": "code",
   "execution_count": 12,
   "id": "b1ec2542",
   "metadata": {
    "execution": {
     "iopub.execute_input": "2022-10-31T00:31:49.107789Z",
     "iopub.status.busy": "2022-10-31T00:31:49.107054Z",
     "iopub.status.idle": "2022-10-31T00:31:49.109434Z",
     "shell.execute_reply": "2022-10-31T00:31:49.110115Z"
    }
   },
   "outputs": [
    {
     "data": {
      "text/html": [
       "<h4>LF id: 3</h4>\n",
       "<p>log-likelihood = -1977.4200</p>\n",
       "<p>number of free parameters = 14</p>\n",
       "\n",
       "<div class=\"c3table\">\n",
       "\n",
       "<style>\n",
       ".c3table table {margin: 10px 0;}\n",
       ".c3table tr:last-child {border-bottom: 1px solid #000;} \n",
       ".c3table tr > th {text-align: left; padding: 0 5px;}\n",
       ".c3table tr > td {text-align: left; padding: 5px;}\n",
       ".c3table tr:nth-child(even) {background: #f7f7f7 !important;}\n",
       ".c3table .ellipsis {background: rgba(0, 0, 0, .01);}\n",
       ".c3table .index {background: rgba(161, 195, 209, 0.0); margin: 10px; font-weight: 600;}\n",
       ".c3table .head_cell {background: rgba(161, 195, 209, 0.75); font-weight: bold; text-align: center;}\n",
       ".c3table caption {color: rgb(250, 250, 250); background: rgba(30, 140, 200, 1); padding: 3px; white-space: nowrap; caption-side: top;}\n",
       ".c3table .cell_title {font-weight: bold;}\n",
       ".c3col_left { text-align: left !important; display: block;}\n",
       ".c3col_right { text-align: right !important; display: block;}\n",
       ".c3col_center { text-align: center !important; display: block;}\n",
       "</style>\n",
       "\n",
       "<table>\n",
       "\n",
       "<caption>\n",
       "<span class=\"cell_title\">Global params</span>\n",
       "</caption>\n",
       "<thead class=\"head_cell\">\n",
       "<th>A>C</th><th>A>G</th><th>A>T</th><th>C>A</th><th>C>G</th><th>C>T</th><th>G>A</th><th>G>C</th><th>G>T</th>\n",
       "</thead>\n",
       "<tbody>\n",
       "<tr><td><span class=\"c3col_right\">1.7529</span></td><td><span class=\"c3col_right\">3.4660</span></td><td><span class=\"c3col_right\">2.4151</span></td><td><span class=\"c3col_right\">2.3739</span></td><td><span class=\"c3col_right\">3.4118</span></td><td><span class=\"c3col_right\">16.1258</span></td><td><span class=\"c3col_right\">16.8499</span></td><td><span class=\"c3col_right\">2.0220</span></td><td><span class=\"c3col_right\">1.7348</span></td></tr>\n",
       "</tbody>\n",
       "</table>\n",
       "\n",
       "<table>\n",
       "\n",
       "<caption>\n",
       "<span class=\"cell_title\">continuation</span>\n",
       "</caption>\n",
       "<thead class=\"head_cell\">\n",
       "<th>T>A</th><th>T>C</th>\n",
       "</thead>\n",
       "<tbody>\n",
       "<tr><td><span class=\"c3col_right\">1.9255</span></td><td><span class=\"c3col_right\">5.2915</span></td></tr>\n",
       "</tbody>\n",
       "</table>\n",
       "\n",
       "</div>\n",
       "\n",
       "<div class=\"c3table\">\n",
       "\n",
       "<style>\n",
       ".c3table table {margin: 10px 0;}\n",
       ".c3table tr:last-child {border-bottom: 1px solid #000;} \n",
       ".c3table tr > th {text-align: left; padding: 0 5px;}\n",
       ".c3table tr > td {text-align: left; padding: 5px;}\n",
       ".c3table tr:nth-child(even) {background: #f7f7f7 !important;}\n",
       ".c3table .ellipsis {background: rgba(0, 0, 0, .01);}\n",
       ".c3table .index {background: rgba(161, 195, 209, 0.0); margin: 10px; font-weight: 600;}\n",
       ".c3table .head_cell {background: rgba(161, 195, 209, 0.75); font-weight: bold; text-align: center;}\n",
       ".c3table caption {color: rgb(250, 250, 250); background: rgba(30, 140, 200, 1); padding: 3px; white-space: nowrap; caption-side: top;}\n",
       ".c3table .cell_title {font-weight: bold;}\n",
       ".c3col_left { text-align: left !important; display: block;}\n",
       ".c3col_right { text-align: right !important; display: block;}\n",
       ".c3col_center { text-align: center !important; display: block;}\n",
       "</style>\n",
       "\n",
       "<table>\n",
       "\n",
       "<caption>\n",
       "<span class=\"cell_title\">Edge params</span>\n",
       "</caption>\n",
       "<thead class=\"head_cell\">\n",
       "<th>edge</th><th>parent</th><th>length</th>\n",
       "</thead>\n",
       "<tbody>\n",
       "<tr><td><span class=\"c3col_left\">Human</span></td><td><span class=\"c3col_left\">root</span></td><td><span class=\"c3col_right\">0.0239</span></td></tr>\n",
       "<tr><td><span class=\"c3col_left\">Rhesus</span></td><td><span class=\"c3col_left\">root</span></td><td><span class=\"c3col_right\">0.0316</span></td></tr>\n",
       "<tr><td><span class=\"c3col_left\">Galago</span></td><td><span class=\"c3col_left\">root</span></td><td><span class=\"c3col_right\">0.1777</span></td></tr>\n",
       "</tbody>\n",
       "</table>\n",
       "\n",
       "</div>\n",
       "\n",
       "<div class=\"c3table\">\n",
       "\n",
       "<style>\n",
       ".c3table table {margin: 10px 0;}\n",
       ".c3table tr:last-child {border-bottom: 1px solid #000;} \n",
       ".c3table tr > th {text-align: left; padding: 0 5px;}\n",
       ".c3table tr > td {text-align: left; padding: 5px;}\n",
       ".c3table tr:nth-child(even) {background: #f7f7f7 !important;}\n",
       ".c3table .ellipsis {background: rgba(0, 0, 0, .01);}\n",
       ".c3table .index {background: rgba(161, 195, 209, 0.0); margin: 10px; font-weight: 600;}\n",
       ".c3table .head_cell {background: rgba(161, 195, 209, 0.75); font-weight: bold; text-align: center;}\n",
       ".c3table caption {color: rgb(250, 250, 250); background: rgba(30, 140, 200, 1); padding: 3px; white-space: nowrap; caption-side: top;}\n",
       ".c3table .cell_title {font-weight: bold;}\n",
       ".c3col_left { text-align: left !important; display: block;}\n",
       ".c3col_right { text-align: right !important; display: block;}\n",
       ".c3col_center { text-align: center !important; display: block;}\n",
       "</style>\n",
       "\n",
       "<table>\n",
       "\n",
       "<caption>\n",
       "<span class=\"cell_title\">Motif params</span>\n",
       "</caption>\n",
       "<thead class=\"head_cell\">\n",
       "<th>A</th><th>C</th><th>G</th><th>T</th>\n",
       "</thead>\n",
       "<tbody>\n",
       "<tr><td><span class=\"c3col_right\">0.3443</span></td><td><span class=\"c3col_right\">0.1382</span></td><td><span class=\"c3col_right\">0.1567</span></td><td><span class=\"c3col_right\">0.3607</span></td></tr>\n",
       "</tbody>\n",
       "</table>\n",
       "\n",
       "</div>"
      ],
      "text/plain": [
       "LF id: 3\n",
       "log-likelihood = -1977.4200\n",
       "number of free parameters = 14\n",
       "====================================================================\n",
       "   A>C       A>G       A>T       C>A       C>G        C>T        G>A\n",
       "--------------------------------------------------------------------\n",
       "1.7529    3.4660    2.4151    2.3739    3.4118    16.1258    16.8499\n",
       "--------------------------------------------------------------------\n",
       "\n",
       "continued: \n",
       "====================================\n",
       "   G>C       G>T       T>A       T>C\n",
       "------------------------------------\n",
       "2.0220    1.7348    1.9255    5.2915\n",
       "------------------------------------\n",
       "\n",
       "==========================\n",
       "edge      parent    length\n",
       "--------------------------\n",
       "Human     root      0.0239\n",
       "Rhesus    root      0.0316\n",
       "Galago    root      0.1777\n",
       "--------------------------\n",
       "====================================\n",
       "     A         C         G         T\n",
       "------------------------------------\n",
       "0.3443    0.1382    0.1567    0.3607\n",
       "------------------------------------"
      ]
     },
     "execution_count": 12,
     "metadata": {},
     "output_type": "execute_result"
    }
   ],
   "source": [
    "fitted[3]"
   ]
  }
 ],
 "metadata": {
  "kernelspec": {
   "display_name": "Python 3 (ipykernel)",
   "language": "python",
   "name": "python3"
  },
  "language_info": {
   "codemirror_mode": {
    "name": "ipython",
    "version": 3
   },
   "file_extension": ".py",
   "mimetype": "text/x-python",
   "name": "python",
   "nbconvert_exporter": "python",
   "pygments_lexer": "ipython3",
   "version": "3.10.0"
  }
 },
 "nbformat": 4,
 "nbformat_minor": 5
}