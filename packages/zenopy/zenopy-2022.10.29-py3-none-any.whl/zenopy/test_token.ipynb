{
 "cells": [
  {
   "cell_type": "markdown",
   "metadata": {},
   "source": [
    "## How to use ZenoPy"
   ]
  },
  {
   "cell_type": "markdown",
   "metadata": {},
   "source": [
    "In the proceeding sections, we provide simple examples on how to use the `ZenoPy` package to manage your workflow on Zenodo."
   ]
  },
  {
   "cell_type": "markdown",
   "metadata": {},
   "source": [
    "### Creating a Zenodo client object"
   ]
  },
  {
   "cell_type": "markdown",
   "metadata": {},
   "source": [
    "The first step is to import the `ZenoPy` package"
   ]
  },
  {
   "cell_type": "code",
   "execution_count": 1,
   "metadata": {},
   "outputs": [],
   "source": [
    "import zenopy"
   ]
  },
  {
   "cell_type": "markdown",
   "metadata": {},
   "source": [
    "Next, we use the `Zenodo()` constructor to create an instance of the Zenodo client object."
   ]
  },
  {
   "cell_type": "code",
   "execution_count": 2,
   "metadata": {},
   "outputs": [
    {
     "data": {
      "text/plain": [
       "<zenopy.Zenodo at 0x7f21666f3f40>"
      ]
     },
     "execution_count": 2,
     "metadata": {},
     "output_type": "execute_result"
    }
   ],
   "source": [
    "zen = zenopy.Zenodo()\n",
    "zen"
   ]
  },
  {
   "cell_type": "code",
   "execution_count": 3,
   "metadata": {},
   "outputs": [
    {
     "data": {
      "text/plain": [
       "'f4b2iI3HML9lnr3gUCyw12r3kWcDQS7WiGbZQEiv1L1m9RQFy5Ov4IuXwDWx'"
      ]
     },
     "execution_count": 3,
     "metadata": {},
     "output_type": "execute_result"
    }
   ],
   "source": [
    "zen.token"
   ]
  },
  {
   "cell_type": "code",
   "execution_count": 5,
   "metadata": {},
   "outputs": [],
   "source": [
    "hits, records = zen.search(query=\"Mostafanejad\")"
   ]
  },
  {
   "cell_type": "code",
   "execution_count": 6,
   "metadata": {},
   "outputs": [
    {
     "name": "stdout",
     "output_type": "stream",
     "text": [
      "Fundamentals of Heterogeneous Parallel Programming with CUDA C/C++ |      10.5281/zenodo.5120243\n",
      "MolSSI Formatting Guidelines for Machine Learning Products |      10.5281/zenodo.5389982\n",
      "MolSSI Publishing Guidelines on Zenodo Platform |      10.5281/zenodo.5290617\n",
      "MolSSI Guidelines on APOD Cyclic Parallelization Strategy |      10.5281/zenodo.5866422\n",
      "molssi-seamm/seamm_widgets: Bug fix: keywords for e.g. MOPAC |      10.5281/zenodo.6573749\n",
      "molssi-seamm/molsystem: Bug fix: output MMCIF for systems with no bonds. |      10.5281/zenodo.6573756\n"
     ]
    }
   ],
   "source": [
    "for zen_i in records:\n",
    "    print(zen_i.title, \"|     \", zen_i.doi)"
   ]
  },
  {
   "cell_type": "markdown",
   "metadata": {},
   "source": [
    "### Working with Zenodo Entities "
   ]
  },
  {
   "cell_type": "markdown",
   "metadata": {},
   "source": [
    "#### Record Class"
   ]
  },
  {
   "cell_type": "code",
   "execution_count": 7,
   "metadata": {},
   "outputs": [
    {
     "data": {
      "text/plain": [
       "{'conceptdoi': '10.5281/zenodo.5120242',\n",
       " 'conceptrecid': '5120242',\n",
       " 'created': '2021-07-21T18:44:02.749244+00:00',\n",
       " 'doi': '10.5281/zenodo.5120243',\n",
       " 'files': [{'bucket': 'fcacb59c-ec78-4f39-95bf-e364069fb5fb',\n",
       "   'checksum': 'md5:b528606728a7dd0f38df17550c2773e2',\n",
       "   'key': 'gpu_programming_beginner-gh-pages.zip',\n",
       "   'links': {'self': 'https://zenodo.org/api/files/fcacb59c-ec78-4f39-95bf-e364069fb5fb/gpu_programming_beginner-gh-pages.zip'},\n",
       "   'size': 3208145,\n",
       "   'type': 'zip'}],\n",
       " 'id': 5120243,\n",
       " 'links': {'badge': 'https://zenodo.org/badge/doi/10.5281/zenodo.5120243.svg',\n",
       "  'bucket': 'https://zenodo.org/api/files/fcacb59c-ec78-4f39-95bf-e364069fb5fb',\n",
       "  'conceptbadge': 'https://zenodo.org/badge/doi/10.5281/zenodo.5120242.svg',\n",
       "  'conceptdoi': 'https://doi.org/10.5281/zenodo.5120242',\n",
       "  'doi': 'https://doi.org/10.5281/zenodo.5120243',\n",
       "  'html': 'https://zenodo.org/record/5120243',\n",
       "  'latest': 'https://zenodo.org/api/records/5120243',\n",
       "  'latest_html': 'https://zenodo.org/record/5120243',\n",
       "  'self': 'https://zenodo.org/api/records/5120243'},\n",
       " 'metadata': {'access_right': 'open',\n",
       "  'access_right_category': 'success',\n",
       "  'communities': [{'id': 'hpc-cms'}, {'id': 'hpc-stem'}],\n",
       "  'creators': [{'affiliation': 'The Molecular Sciences Software Institute',\n",
       "    'name': 'Mohammad Mostafanejad',\n",
       "    'orcid': '0000-0001-9762-7616'}],\n",
       "  'description': '<p>This <a href=\"http://education.molssi.org/gpu_programming_beginner\">tutorial</a> by the <a href=\"http://molssi.org/\">Molecular Sciences Software Institute</a> (MolSSI) overviews the fundamentals of heterogeneous parallel programming with CUDA C/C++ at the beginner level.</p>',\n",
       "  'doi': '10.5281/zenodo.5120243',\n",
       "  'keywords': ['CUDA programming',\n",
       "   'GPU programming',\n",
       "   'high-performance computing',\n",
       "   'heterogeneous parallel programming'],\n",
       "  'language': 'eng',\n",
       "  'license': {'id': 'CC-BY-4.0'},\n",
       "  'notes': 'This work is supported by The Molecular Sciences Software Institute (MolSSI) through the NSF grant ACI-1547580.',\n",
       "  'publication_date': '2021-07-21',\n",
       "  'related_identifiers': [{'identifier': '10.5281/zenodo.5120242',\n",
       "    'relation': 'isVersionOf',\n",
       "    'scheme': 'doi'}],\n",
       "  'relations': {'version': [{'count': 1,\n",
       "     'index': 0,\n",
       "     'is_last': True,\n",
       "     'last_child': {'pid_type': 'recid', 'pid_value': '5120243'},\n",
       "     'parent': {'pid_type': 'recid', 'pid_value': '5120242'}}]},\n",
       "  'resource_type': {'title': 'Lesson', 'type': 'lesson'},\n",
       "  'title': 'Fundamentals of Heterogeneous Parallel Programming with CUDA C/C++',\n",
       "  'version': '2021.07.0'},\n",
       " 'owners': [243844],\n",
       " 'revision': 2,\n",
       " 'stats': {'downloads': 20.0,\n",
       "  'unique_downloads': 18.0,\n",
       "  'unique_views': 89.0,\n",
       "  'version_downloads': 20.0,\n",
       "  'version_unique_downloads': 18.0,\n",
       "  'version_unique_views': 89.0,\n",
       "  'version_views': 113.0,\n",
       "  'version_volume': 64162900.0,\n",
       "  'views': 113.0,\n",
       "  'volume': 64162900.0},\n",
       " 'updated': '2021-07-23T16:08:12.228296+00:00'}"
      ]
     },
     "execution_count": 7,
     "metadata": {},
     "output_type": "execute_result"
    }
   ],
   "source": [
    "records[0].data"
   ]
  },
  {
   "cell_type": "code",
   "execution_count": 1,
   "metadata": {},
   "outputs": [
    {
     "data": {
      "text/plain": [
       "['/home/sina/.zenodorc']"
      ]
     },
     "execution_count": 1,
     "metadata": {},
     "output_type": "execute_result"
    }
   ],
   "source": [
    "from pathlib import Path\n",
    "import configparser\n",
    "\n",
    "configfile=\"~/.zenodorc\"\n",
    "path = Path(configfile).expanduser()\n",
    "config = configparser.ConfigParser()\n",
    "config.read(path)\n",
    "\n"
   ]
  },
  {
   "cell_type": "code",
   "execution_count": 8,
   "metadata": {},
   "outputs": [
    {
     "data": {
      "text/plain": [
       "'https://doi.org/10.5281/zenodo.5120243'"
      ]
     },
     "execution_count": 8,
     "metadata": {},
     "output_type": "execute_result"
    }
   ],
   "source": [
    "record = zen.get_deposit_record(5120243)\n",
    "record.doi_url"
   ]
  },
  {
   "cell_type": "code",
   "execution_count": 9,
   "metadata": {},
   "outputs": [
    {
     "data": {
      "text/plain": [
       "<zenopy.Record at 0x7f2166363400>"
      ]
     },
     "execution_count": 9,
     "metadata": {},
     "output_type": "execute_result"
    }
   ],
   "source": [
    "record"
   ]
  },
  {
   "cell_type": "code",
   "execution_count": 47,
   "metadata": {},
   "outputs": [
    {
     "data": {
      "text/plain": [
       "PosixPath('/home/sina/MOLSSI/gpu_programming_beginner-gh-pages.zip')"
      ]
     },
     "execution_count": 47,
     "metadata": {},
     "output_type": "execute_result"
    }
   ],
   "source": [
    "\n",
    "record.download_file(record.files()[0],\"/home/sina/MOLSSI\")"
   ]
  },
  {
   "cell_type": "code",
   "execution_count": 10,
   "metadata": {},
   "outputs": [
    {
     "data": {
      "text/plain": [
       "['gpu_programming_beginner-gh-pages.zip']"
      ]
     },
     "execution_count": 10,
     "metadata": {},
     "output_type": "execute_result"
    }
   ],
   "source": [
    "record.files()"
   ]
  },
  {
   "cell_type": "code",
   "execution_count": 11,
   "metadata": {},
   "outputs": [],
   "source": [
    "import errors"
   ]
  },
  {
   "cell_type": "code",
   "execution_count": 12,
   "metadata": {},
   "outputs": [
    {
     "data": {
      "text/plain": [
       "{'name': 'OK',\n",
       " 'description': 'Request succeeded. Response included. Usually sent for GET/PUT/PATCH requests.'}"
      ]
     },
     "execution_count": 12,
     "metadata": {},
     "output_type": "execute_result"
    }
   ],
   "source": [
    "errors.status_code[200]"
   ]
  },
  {
   "cell_type": "code",
   "execution_count": 25,
   "metadata": {},
   "outputs": [
    {
     "data": {
      "text/plain": [
       "'CC-BY-4.0'"
      ]
     },
     "execution_count": 25,
     "metadata": {},
     "output_type": "execute_result"
    }
   ],
   "source": [
    "record.data[\"metadata\"][\"license\"]"
   ]
  },
  {
   "cell_type": "code",
   "execution_count": 1,
   "metadata": {},
   "outputs": [
    {
     "data": {
      "text/plain": [
       "'best'"
      ]
     },
     "execution_count": 1,
     "metadata": {},
     "output_type": "execute_result"
    }
   ],
   "source": [
    "\"BEST\".lower()"
   ]
  },
  {
   "cell_type": "code",
   "execution_count": null,
   "metadata": {},
   "outputs": [],
   "source": []
  }
 ],
 "metadata": {
  "kernelspec": {
   "display_name": "Python 3.10.6 64-bit ('zenop')",
   "language": "python",
   "name": "python3"
  },
  "language_info": {
   "codemirror_mode": {
    "name": "ipython",
    "version": 3
   },
   "file_extension": ".py",
   "mimetype": "text/x-python",
   "name": "python",
   "nbconvert_exporter": "python",
   "pygments_lexer": "ipython3",
   "version": "3.10.6"
  },
  "orig_nbformat": 4,
  "vscode": {
   "interpreter": {
    "hash": "01b5e643255ab235d71f3308735ee9f49630809ac967cceea9c7d4f0b7c3e315"
   }
  }
 },
 "nbformat": 4,
 "nbformat_minor": 2
}
