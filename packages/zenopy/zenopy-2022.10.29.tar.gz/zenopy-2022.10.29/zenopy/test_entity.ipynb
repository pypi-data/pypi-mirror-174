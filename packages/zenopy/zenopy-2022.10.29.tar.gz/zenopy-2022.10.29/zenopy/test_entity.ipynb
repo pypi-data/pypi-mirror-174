{
 "cells": [
  {
   "cell_type": "code",
   "execution_count": 1,
   "metadata": {},
   "outputs": [],
   "source": [
    "# from entities import record\n",
    "import requests\n",
    "import client\n",
    "from errors import zenodo_error\n",
    "from entities import entity, record"
   ]
  },
  {
   "cell_type": "markdown",
   "metadata": {},
   "source": [
    "### Different scenarios for initializing a `Record` object:"
   ]
  },
  {
   "cell_type": "markdown",
   "metadata": {},
   "source": [
    "#### Using a Record ID"
   ]
  },
  {
   "cell_type": "code",
   "execution_count": 2,
   "metadata": {},
   "outputs": [
    {
     "name": "stderr",
     "output_type": "stream",
     "text": [
      "WARNING: The config file (~/.zenodorc) is found.\n"
     ]
    },
    {
     "data": {
      "text/plain": [
       "{'conceptdoi': '10.5281/zenodo.5120242',\n",
       " 'conceptrecid': '5120242',\n",
       " 'created': '2021-07-21T18:44:02.749244+00:00',\n",
       " 'doi': '10.5281/zenodo.5120243',\n",
       " 'files': [{'bucket': 'fcacb59c-ec78-4f39-95bf-e364069fb5fb',\n",
       "   'checksum': 'md5:b528606728a7dd0f38df17550c2773e2',\n",
       "   'key': 'gpu_programming_beginner-gh-pages.zip',\n",
       "   'links': {'self': 'https://zenodo.org/api/files/fcacb59c-ec78-4f39-95bf-e364069fb5fb/gpu_programming_beginner-gh-pages.zip'},\n",
       "   'size': 3208145,\n",
       "   'type': 'zip'}],\n",
       " 'id': 5120243,\n",
       " 'links': {'badge': 'https://zenodo.org/badge/doi/10.5281/zenodo.5120243.svg',\n",
       "  'bucket': 'https://zenodo.org/api/files/fcacb59c-ec78-4f39-95bf-e364069fb5fb',\n",
       "  'conceptbadge': 'https://zenodo.org/badge/doi/10.5281/zenodo.5120242.svg',\n",
       "  'conceptdoi': 'https://doi.org/10.5281/zenodo.5120242',\n",
       "  'doi': 'https://doi.org/10.5281/zenodo.5120243',\n",
       "  'html': 'https://zenodo.org/record/5120243',\n",
       "  'latest': 'https://zenodo.org/api/records/5120243',\n",
       "  'latest_html': 'https://zenodo.org/record/5120243',\n",
       "  'self': 'https://zenodo.org/api/records/5120243'},\n",
       " 'metadata': {'access_right': 'open',\n",
       "  'access_right_category': 'success',\n",
       "  'communities': [{'id': 'hpc-cms'}, {'id': 'hpc-stem'}],\n",
       "  'creators': [{'affiliation': 'The Molecular Sciences Software Institute',\n",
       "    'name': 'Mohammad Mostafanejad',\n",
       "    'orcid': '0000-0001-9762-7616'}],\n",
       "  'description': '<p>This <a href=\"http://education.molssi.org/gpu_programming_beginner\">tutorial</a> by the <a href=\"http://molssi.org/\">Molecular Sciences Software Institute</a> (MolSSI) overviews the fundamentals of heterogeneous parallel programming with CUDA C/C++ at the beginner level.</p>',\n",
       "  'doi': '10.5281/zenodo.5120243',\n",
       "  'keywords': ['CUDA programming',\n",
       "   'GPU programming',\n",
       "   'high-performance computing',\n",
       "   'heterogeneous parallel programming'],\n",
       "  'language': 'eng',\n",
       "  'license': {'id': 'CC-BY-4.0'},\n",
       "  'notes': 'This work is supported by The Molecular Sciences Software Institute (MolSSI) through the NSF grant ACI-1547580.',\n",
       "  'publication_date': '2021-07-21',\n",
       "  'related_identifiers': [{'identifier': '10.5281/zenodo.5120242',\n",
       "    'relation': 'isVersionOf',\n",
       "    'scheme': 'doi'}],\n",
       "  'relations': {'version': [{'count': 1,\n",
       "     'index': 0,\n",
       "     'is_last': True,\n",
       "     'last_child': {'pid_type': 'recid', 'pid_value': '5120243'},\n",
       "     'parent': {'pid_type': 'recid', 'pid_value': '5120242'}}]},\n",
       "  'resource_type': {'title': 'Lesson', 'type': 'lesson'},\n",
       "  'title': 'Fundamentals of Heterogeneous Parallel Programming with CUDA C/C++',\n",
       "  'version': '2021.07.0'},\n",
       " 'owners': [243844],\n",
       " 'revision': 2,\n",
       " 'stats': {'downloads': 20.0,\n",
       "  'unique_downloads': 18.0,\n",
       "  'unique_views': 95.0,\n",
       "  'version_downloads': 20.0,\n",
       "  'version_unique_downloads': 18.0,\n",
       "  'version_unique_views': 95.0,\n",
       "  'version_views': 119.0,\n",
       "  'version_volume': 64162900.0,\n",
       "  'views': 119.0,\n",
       "  'volume': 64162900.0},\n",
       " 'updated': '2021-07-23T16:08:12.228296+00:00'}"
      ]
     },
     "execution_count": 2,
     "metadata": {},
     "output_type": "execute_result"
    }
   ],
   "source": [
    "rec = record.Record(id_=5120243)\n",
    "rec.data # or print(rec)"
   ]
  },
  {
   "cell_type": "markdown",
   "metadata": {},
   "source": [
    "#### Using a URL"
   ]
  },
  {
   "cell_type": "code",
   "execution_count": 2,
   "metadata": {},
   "outputs": [
    {
     "data": {
      "text/plain": [
       "{'conceptdoi': '10.5281/zenodo.5120242',\n",
       " 'conceptrecid': '5120242',\n",
       " 'created': '2021-07-21T18:10:05.154930+00:00',\n",
       " 'doi': '10.5281/zenodo.5120243',\n",
       " 'doi_url': 'https://doi.org/10.5281/zenodo.5120243',\n",
       " 'files': [{'checksum': 'b528606728a7dd0f38df17550c2773e2',\n",
       "   'filename': 'gpu_programming_beginner-gh-pages.zip',\n",
       "   'filesize': 3208145,\n",
       "   'id': 'b65d5454-44bf-486d-ba44-46be2ca72fc2',\n",
       "   'links': {'download': 'https://zenodo.org/api/files/0a60bd71-a171-4196-b639-44cf5cde22dd/gpu_programming_beginner-gh-pages.zip',\n",
       "    'self': 'https://zenodo.org/api/deposit/depositions/5120243/files/b65d5454-44bf-486d-ba44-46be2ca72fc2'}}],\n",
       " 'id': 5120243,\n",
       " 'links': {'badge': 'https://zenodo.org/badge/doi/10.5281/zenodo.5120243.svg',\n",
       "  'bucket': 'https://zenodo.org/api/files/0a60bd71-a171-4196-b639-44cf5cde22dd',\n",
       "  'conceptbadge': 'https://zenodo.org/badge/doi/10.5281/zenodo.5120242.svg',\n",
       "  'conceptdoi': 'https://doi.org/10.5281/zenodo.5120242',\n",
       "  'discard': 'https://zenodo.org/api/deposit/depositions/5120243/actions/discard',\n",
       "  'doi': 'https://doi.org/10.5281/zenodo.5120243',\n",
       "  'edit': 'https://zenodo.org/api/deposit/depositions/5120243/actions/edit',\n",
       "  'files': 'https://zenodo.org/api/deposit/depositions/5120243/files',\n",
       "  'html': 'https://zenodo.org/deposit/5120243',\n",
       "  'latest': 'https://zenodo.org/api/records/5120243',\n",
       "  'latest_html': 'https://zenodo.org/record/5120243',\n",
       "  'newversion': 'https://zenodo.org/api/deposit/depositions/5120243/actions/newversion',\n",
       "  'publish': 'https://zenodo.org/api/deposit/depositions/5120243/actions/publish',\n",
       "  'record': 'https://zenodo.org/api/records/5120243',\n",
       "  'record_html': 'https://zenodo.org/record/5120243',\n",
       "  'registerconceptdoi': 'https://zenodo.org/api/deposit/depositions/5120243/actions/registerconceptdoi',\n",
       "  'self': 'https://zenodo.org/api/deposit/depositions/5120243'},\n",
       " 'metadata': {'access_right': 'open',\n",
       "  'communities': [{'identifier': 'hpc-cms'}, {'identifier': 'hpc-stem'}],\n",
       "  'creators': [{'affiliation': 'The Molecular Sciences Software Institute',\n",
       "    'name': 'Mohammad Mostafanejad',\n",
       "    'orcid': '0000-0001-9762-7616'}],\n",
       "  'description': '<p>This <a href=\"http://education.molssi.org/gpu_programming_beginner\">tutorial</a> by the <a href=\"http://molssi.org/\">Molecular Sciences Software Institute</a> (MolSSI) overviews the fundamentals of heterogeneous parallel programming with CUDA C/C++ at the beginner level.</p>',\n",
       "  'doi': '10.5281/zenodo.5120243',\n",
       "  'keywords': ['CUDA programming',\n",
       "   'GPU programming',\n",
       "   'high-performance computing',\n",
       "   'heterogeneous parallel programming'],\n",
       "  'language': 'eng',\n",
       "  'license': 'CC-BY-4.0',\n",
       "  'notes': 'This work is supported by The Molecular Sciences Software Institute (MolSSI) through the NSF grant ACI-1547580.',\n",
       "  'prereserve_doi': {'doi': '10.5281/zenodo.5120243', 'recid': 5120243},\n",
       "  'publication_date': '2021-07-21',\n",
       "  'title': 'Fundamentals of Heterogeneous Parallel Programming with CUDA C/C++',\n",
       "  'upload_type': 'lesson',\n",
       "  'version': '2021.07.0'},\n",
       " 'modified': '2021-09-06T18:48:58.304784+00:00',\n",
       " 'owner': 243844,\n",
       " 'record_id': 5120243,\n",
       " 'state': 'done',\n",
       " 'submitted': True,\n",
       " 'title': 'Fundamentals of Heterogeneous Parallel Programming with CUDA C/C++'}"
      ]
     },
     "execution_count": 2,
     "metadata": {},
     "output_type": "execute_result"
    }
   ],
   "source": [
    "rec = record.Record(\n",
    "    url=\"https://zenodo.org/api/deposit/depositions/5120243/\"\n",
    "    )\n",
    "rec.data"
   ]
  },
  {
   "cell_type": "markdown",
   "metadata": {},
   "source": [
    "#### Using a Request Response Object"
   ]
  },
  {
   "cell_type": "code",
   "execution_count": 2,
   "metadata": {},
   "outputs": [
    {
     "name": "stderr",
     "output_type": "stream",
     "text": [
      "WARNING: The config file (~/.zenodorc) is found.\n"
     ]
    },
    {
     "data": {
      "text/plain": [
       "{'conceptdoi': '10.5281/zenodo.5120242',\n",
       " 'conceptrecid': '5120242',\n",
       " 'created': '2021-07-21T18:10:05.154930+00:00',\n",
       " 'doi': '10.5281/zenodo.5120243',\n",
       " 'doi_url': 'https://doi.org/10.5281/zenodo.5120243',\n",
       " 'files': [{'checksum': 'b528606728a7dd0f38df17550c2773e2',\n",
       "   'filename': 'gpu_programming_beginner-gh-pages.zip',\n",
       "   'filesize': 3208145,\n",
       "   'id': 'b65d5454-44bf-486d-ba44-46be2ca72fc2',\n",
       "   'links': {'download': 'https://zenodo.org/api/files/0a60bd71-a171-4196-b639-44cf5cde22dd/gpu_programming_beginner-gh-pages.zip',\n",
       "    'self': 'https://zenodo.org/api/deposit/depositions/5120243/files/b65d5454-44bf-486d-ba44-46be2ca72fc2'}}],\n",
       " 'id': 5120243,\n",
       " 'links': {'badge': 'https://zenodo.org/badge/doi/10.5281/zenodo.5120243.svg',\n",
       "  'bucket': 'https://zenodo.org/api/files/0a60bd71-a171-4196-b639-44cf5cde22dd',\n",
       "  'conceptbadge': 'https://zenodo.org/badge/doi/10.5281/zenodo.5120242.svg',\n",
       "  'conceptdoi': 'https://doi.org/10.5281/zenodo.5120242',\n",
       "  'discard': 'https://zenodo.org/api/deposit/depositions/5120243/actions/discard',\n",
       "  'doi': 'https://doi.org/10.5281/zenodo.5120243',\n",
       "  'edit': 'https://zenodo.org/api/deposit/depositions/5120243/actions/edit',\n",
       "  'files': 'https://zenodo.org/api/deposit/depositions/5120243/files',\n",
       "  'html': 'https://zenodo.org/deposit/5120243',\n",
       "  'latest': 'https://zenodo.org/api/records/5120243',\n",
       "  'latest_html': 'https://zenodo.org/record/5120243',\n",
       "  'newversion': 'https://zenodo.org/api/deposit/depositions/5120243/actions/newversion',\n",
       "  'publish': 'https://zenodo.org/api/deposit/depositions/5120243/actions/publish',\n",
       "  'record': 'https://zenodo.org/api/records/5120243',\n",
       "  'record_html': 'https://zenodo.org/record/5120243',\n",
       "  'registerconceptdoi': 'https://zenodo.org/api/deposit/depositions/5120243/actions/registerconceptdoi',\n",
       "  'self': 'https://zenodo.org/api/deposit/depositions/5120243'},\n",
       " 'metadata': {'access_right': 'open',\n",
       "  'communities': [{'identifier': 'hpc-cms'}, {'identifier': 'hpc-stem'}],\n",
       "  'creators': [{'affiliation': 'The Molecular Sciences Software Institute',\n",
       "    'name': 'Mohammad Mostafanejad',\n",
       "    'orcid': '0000-0001-9762-7616'}],\n",
       "  'description': '<p>This <a href=\"http://education.molssi.org/gpu_programming_beginner\">tutorial</a> by the <a href=\"http://molssi.org/\">Molecular Sciences Software Institute</a> (MolSSI) overviews the fundamentals of heterogeneous parallel programming with CUDA C/C++ at the beginner level.</p>',\n",
       "  'doi': '10.5281/zenodo.5120243',\n",
       "  'keywords': ['CUDA programming',\n",
       "   'GPU programming',\n",
       "   'high-performance computing',\n",
       "   'heterogeneous parallel programming'],\n",
       "  'language': 'eng',\n",
       "  'license': 'CC-BY-4.0',\n",
       "  'notes': 'This work is supported by The Molecular Sciences Software Institute (MolSSI) through the NSF grant ACI-1547580.',\n",
       "  'prereserve_doi': {'doi': '10.5281/zenodo.5120243', 'recid': 5120243},\n",
       "  'publication_date': '2021-07-21',\n",
       "  'title': 'Fundamentals of Heterogeneous Parallel Programming with CUDA C/C++',\n",
       "  'upload_type': 'lesson',\n",
       "  'version': '2021.07.0'},\n",
       " 'modified': '2021-09-06T18:48:58.304784+00:00',\n",
       " 'owner': 243844,\n",
       " 'record_id': 5120243,\n",
       " 'state': 'done',\n",
       " 'submitted': True,\n",
       " 'title': 'Fundamentals of Heterogeneous Parallel Programming with CUDA C/C++'}"
      ]
     },
     "execution_count": 2,
     "metadata": {},
     "output_type": "execute_result"
    }
   ],
   "source": [
    "response = requests.get(\n",
    "    \"https://zenodo.org/api/deposit/depositions/5120243\", \n",
    "    params= {'access_token': 'f4b2iI3HML9lnr3gUCyw12r3kWcDQS7WiGbZQEiv1L1m9RQFy5Ov4IuXwDWx'}\n",
    ")\n",
    "rec = record.Record(record=response)\n",
    "rec.data"
   ]
  },
  {
   "cell_type": "markdown",
   "metadata": {},
   "source": [
    "### Checking the Record Class Attributes and Properties"
   ]
  },
  {
   "cell_type": "markdown",
   "metadata": {},
   "source": [
    "Creation time of deposition (in ISO8601 format)."
   ]
  },
  {
   "cell_type": "code",
   "execution_count": 3,
   "metadata": {},
   "outputs": [
    {
     "data": {
      "text/plain": [
       "'2021-07-21T18:44:02.749244+00:00'"
      ]
     },
     "execution_count": 3,
     "metadata": {},
     "output_type": "execute_result"
    }
   ],
   "source": [
    "rec.created"
   ]
  },
  {
   "cell_type": "markdown",
   "metadata": {},
   "source": [
    "Digital Object Identifier (DOI). When you publish your deposition, Zenodo registers a DOI in DataCite for your upload, unless you manually provided Zenodo with one. This field is only present for published depositions."
   ]
  },
  {
   "cell_type": "code",
   "execution_count": 4,
   "metadata": {},
   "outputs": [
    {
     "data": {
      "text/plain": [
       "'10.5281/zenodo.5120243'"
      ]
     },
     "execution_count": 4,
     "metadata": {},
     "output_type": "execute_result"
    }
   ],
   "source": [
    "rec.doi"
   ]
  },
  {
   "cell_type": "markdown",
   "metadata": {},
   "source": [
    "Persistent link to your published deposition. This field is only present for published depositions."
   ]
  },
  {
   "cell_type": "code",
   "execution_count": 5,
   "metadata": {},
   "outputs": [
    {
     "data": {
      "text/plain": [
       "'https://doi.org/10.5281/zenodo.5120243'"
      ]
     },
     "execution_count": 5,
     "metadata": {},
     "output_type": "execute_result"
    }
   ],
   "source": [
    "rec.doi_url"
   ]
  },
  {
   "cell_type": "markdown",
   "metadata": {},
   "source": [
    "A list of deposition files resources."
   ]
  },
  {
   "cell_type": "code",
   "execution_count": 6,
   "metadata": {},
   "outputs": [
    {
     "data": {
      "text/plain": [
       "[{'bucket': 'fcacb59c-ec78-4f39-95bf-e364069fb5fb',\n",
       "  'checksum': 'md5:b528606728a7dd0f38df17550c2773e2',\n",
       "  'key': 'gpu_programming_beginner-gh-pages.zip',\n",
       "  'links': {'self': 'https://zenodo.org/api/files/fcacb59c-ec78-4f39-95bf-e364069fb5fb/gpu_programming_beginner-gh-pages.zip'},\n",
       "  'size': 3208145,\n",
       "  'type': 'zip'}]"
      ]
     },
     "execution_count": 6,
     "metadata": {},
     "output_type": "execute_result"
    }
   ],
   "source": [
    "rec.files"
   ]
  },
  {
   "cell_type": "markdown",
   "metadata": {},
   "source": [
    "Deposition identifier"
   ]
  },
  {
   "cell_type": "code",
   "execution_count": 7,
   "metadata": {},
   "outputs": [
    {
     "data": {
      "text/plain": [
       "5120243"
      ]
     },
     "execution_count": 7,
     "metadata": {},
     "output_type": "execute_result"
    }
   ],
   "source": [
    "rec._id"
   ]
  },
  {
   "cell_type": "markdown",
   "metadata": {},
   "source": [
    "A deposition metadata resource"
   ]
  },
  {
   "cell_type": "code",
   "execution_count": 15,
   "metadata": {},
   "outputs": [
    {
     "data": {
      "text/plain": [
       "{'access_right': 'open',\n",
       " 'communities': [{'identifier': 'hpc-cms'}, {'identifier': 'hpc-stem'}],\n",
       " 'creators': [{'affiliation': 'The Molecular Sciences Software Institute',\n",
       "   'name': 'Mohammad Mostafanejad',\n",
       "   'orcid': '0000-0001-9762-7616'}],\n",
       " 'description': '<p>This <a href=\"http://education.molssi.org/gpu_programming_beginner\">tutorial</a> by the <a href=\"http://molssi.org/\">Molecular Sciences Software Institute</a> (MolSSI) overviews the fundamentals of heterogeneous parallel programming with CUDA C/C++ at the beginner level.</p>',\n",
       " 'doi': '10.5281/zenodo.5120243',\n",
       " 'keywords': ['CUDA programming',\n",
       "  'GPU programming',\n",
       "  'high-performance computing',\n",
       "  'heterogeneous parallel programming'],\n",
       " 'language': 'eng',\n",
       " 'license': 'CC-BY-4.0',\n",
       " 'notes': 'This work is supported by The Molecular Sciences Software Institute (MolSSI) through the NSF grant ACI-1547580.',\n",
       " 'prereserve_doi': {'doi': '10.5281/zenodo.5120243', 'recid': 5120243},\n",
       " 'publication_date': '2021-07-21',\n",
       " 'title': 'Fundamentals of Heterogeneous Parallel Programming with CUDA C/C++',\n",
       " 'upload_type': 'lesson',\n",
       " 'version': '2021.07.0'}"
      ]
     },
     "execution_count": 15,
     "metadata": {},
     "output_type": "execute_result"
    }
   ],
   "source": [
    "rec.metadata"
   ]
  },
  {
   "cell_type": "markdown",
   "metadata": {},
   "source": [
    "Last modification time of deposition (in ISO8601 format)."
   ]
  },
  {
   "cell_type": "code",
   "execution_count": 16,
   "metadata": {},
   "outputs": [
    {
     "data": {
      "text/plain": [
       "'2021-09-06T18:48:58.304784+00:00'"
      ]
     },
     "execution_count": 16,
     "metadata": {},
     "output_type": "execute_result"
    }
   ],
   "source": [
    "rec.modified"
   ]
  },
  {
   "cell_type": "markdown",
   "metadata": {},
   "source": [
    "User identifier of the owner of the deposition."
   ]
  },
  {
   "cell_type": "code",
   "execution_count": 17,
   "metadata": {},
   "outputs": [
    {
     "data": {
      "text/plain": [
       "243844"
      ]
     },
     "execution_count": 17,
     "metadata": {},
     "output_type": "execute_result"
    }
   ],
   "source": [
    "rec.owner"
   ]
  },
  {
   "cell_type": "markdown",
   "metadata": {},
   "source": [
    "Record identifier. This field is only present for published depositions."
   ]
  },
  {
   "cell_type": "code",
   "execution_count": 18,
   "metadata": {},
   "outputs": [
    {
     "data": {
      "text/plain": [
       "5120243"
      ]
     },
     "execution_count": 18,
     "metadata": {},
     "output_type": "execute_result"
    }
   ],
   "source": [
    "rec.record_id"
   ]
  },
  {
   "cell_type": "markdown",
   "metadata": {},
   "source": [
    "URL to public version of record for this deposition. This field is only present for published depositions."
   ]
  },
  {
   "cell_type": "code",
   "execution_count": 19,
   "metadata": {},
   "outputs": [
    {
     "data": {
      "text/plain": [
       "'https://zenodo.org/api/records/5120243'"
      ]
     },
     "execution_count": 19,
     "metadata": {},
     "output_type": "execute_result"
    }
   ],
   "source": [
    "rec.record_url"
   ]
  },
  {
   "cell_type": "markdown",
   "metadata": {},
   "source": [
    "One of the values:\n",
    "* inprogress: Deposition metadata can be updated. If deposition is also unsubmitted (see submitted) files can be updated as well.\n",
    "* done: Deposition has been published.\n",
    "* error: Deposition is in an error state - contact our support."
   ]
  },
  {
   "cell_type": "code",
   "execution_count": 20,
   "metadata": {},
   "outputs": [
    {
     "data": {
      "text/plain": [
       "'done'"
      ]
     },
     "execution_count": 20,
     "metadata": {},
     "output_type": "execute_result"
    }
   ],
   "source": [
    "rec.state"
   ]
  },
  {
   "cell_type": "markdown",
   "metadata": {},
   "source": [
    "True of deposition has been published, False otherwise."
   ]
  },
  {
   "cell_type": "code",
   "execution_count": 21,
   "metadata": {},
   "outputs": [
    {
     "data": {
      "text/plain": [
       "True"
      ]
     },
     "execution_count": 21,
     "metadata": {},
     "output_type": "execute_result"
    }
   ],
   "source": [
    "rec.submitted"
   ]
  },
  {
   "cell_type": "markdown",
   "metadata": {},
   "source": []
  },
  {
   "cell_type": "code",
   "execution_count": 3,
   "metadata": {},
   "outputs": [],
   "source": [
    "# r = requests.get('https://api.github.com/events')\n",
    "# r = requests.get('https://httpbin.org/get')\n",
    "# params= {'access_token': 'f4b2iI3HML9lnr3gUCyw12r3kWcDQS7WiGbZQEiv1L1m9RQFy5Ov4IuXwDWx'}\n",
    "# params= {'access_token': 'T2U7Ip7TuQAdqjGzDNG10FsOiTJlkgAsbqXw1XxCypD2iN9hm2QrFD9uF9zJ'}\n",
    "r = requests.get(\"https://zenodo.org/api/deposit/depositions\", \n",
    "params= {'access_token': 'f4b2iI3HML9lnr3gUCyw12r3kWcDQS7WiGbZQEiv1L1m9RQFy5Ov4IuXwDWx'})"
   ]
  },
  {
   "cell_type": "code",
   "execution_count": 7,
   "metadata": {},
   "outputs": [
    {
     "data": {
      "text/plain": [
       "{'message': 'The browser (or proxy) sent a request that this server could not understand.',\n",
       " 'status': 400}"
      ]
     },
     "execution_count": 7,
     "metadata": {},
     "output_type": "execute_result"
    }
   ],
   "source": [
    "url = \"https://zenodo.org/api/deposit/depositions\"\n",
    "headers = {\"Content-Type\": \"application/json\"}\n",
    "params = {'access_token': 'f4b2iI3HML9lnr3gUCyw12r3kWcDQS7WiGbZQEiv1L1m9RQFy5Ov4IuXwDWx'}\n",
    "data = {\"title\": \"DPC++\"}\n",
    "# r = requests.get(url=url, params=params, data= {}, headers=headers)\n",
    "# r = requests.post(url=url, json={}, params=params)\n",
    "# r = requests.post(url=url, json={}, params=params, headers=headers)\n",
    "r = requests.post(url=url, data=\"{}\", params=params, headers=headers)\n",
    "r.json()"
   ]
  },
  {
   "cell_type": "code",
   "execution_count": 4,
   "metadata": {},
   "outputs": [
    {
     "name": "stderr",
     "output_type": "stream",
     "text": [
      "WARNING: Rewriting the existing token (token) in section [ZENODO]...\n"
     ]
    }
   ],
   "source": [
    "# list(r.headers.items())\n",
    "rec.write_token(\"ZENODO\", \"token\", 'f4b2iI3HML9lnr3gUCyw12r3kWcDQS7WiGbZQEiv1L1m9RQFy5Ov4IuXwDWx', force_rewrite=True)"
   ]
  },
  {
   "cell_type": "code",
   "execution_count": 14,
   "metadata": {},
   "outputs": [],
   "source": [
    "rec._token = rec.read_token(\"Zenodo\", \"token\")"
   ]
  },
  {
   "cell_type": "code",
   "execution_count": 9,
   "metadata": {},
   "outputs": [],
   "source": [
    "r = requests.get(\"https://zenodo.org/api/deposit/depositions\", \n",
    "params= {'access_token': 'f4b2iI3HML9lnr3gUCyw12r3kWcDQS7WiGbZQEiv1L1m9RQFy5Ov4IuXwDWx'})"
   ]
  },
  {
   "cell_type": "code",
   "execution_count": 9,
   "metadata": {},
   "outputs": [
    {
     "name": "stdout",
     "output_type": "stream",
     "text": [
      "true\n"
     ]
    }
   ],
   "source": [
    "\n",
    "r = requests.get(\"https://zenodo.org/api/records/5120243\")\n",
    "if 'links' in r.json().keys():\n",
    "    print('true')"
   ]
  },
  {
   "cell_type": "code",
   "execution_count": 30,
   "metadata": {},
   "outputs": [
    {
     "name": "stdout",
     "output_type": "stream",
     "text": [
      "2022-07-15T00:27:14.929401+00:00\n",
      "2022-07-14T20:27:14.929536\n"
     ]
    }
   ],
   "source": [
    "from datetime import datetime, timezone\n",
    "print(datetime.now(timezone.utc).isoformat())\n",
    "print(datetime.now().SSisoformat())"
   ]
  },
  {
   "cell_type": "code",
   "execution_count": 33,
   "metadata": {},
   "outputs": [
    {
     "data": {
      "text/plain": [
       "'2022-07-15'"
      ]
     },
     "execution_count": 33,
     "metadata": {},
     "output_type": "execute_result"
    }
   ],
   "source": [
    "datetime.now(timezone.utc).date().isoformat()"
   ]
  },
  {
   "cell_type": "code",
   "execution_count": 5,
   "metadata": {},
   "outputs": [
    {
     "data": {
      "text/plain": [
       "{'conceptdoi': '10.5281/zenodo.5120242',\n",
       " 'conceptrecid': '5120242',\n",
       " 'created': '2021-07-21T18:10:05.154930+00:00',\n",
       " 'doi': '10.5281/zenodo.5120243',\n",
       " 'doi_url': 'https://doi.org/10.5281/zenodo.5120243',\n",
       " 'files': [{'checksum': 'b528606728a7dd0f38df17550c2773e2',\n",
       "   'filename': 'gpu_programming_beginner-gh-pages.zip',\n",
       "   'filesize': 3208145,\n",
       "   'id': 'b65d5454-44bf-486d-ba44-46be2ca72fc2',\n",
       "   'links': {'download': 'https://zenodo.org/api/files/0a60bd71-a171-4196-b639-44cf5cde22dd/gpu_programming_beginner-gh-pages.zip',\n",
       "    'self': 'https://zenodo.org/api/deposit/depositions/5120243/files/b65d5454-44bf-486d-ba44-46be2ca72fc2'}}],\n",
       " 'id': 5120243,\n",
       " 'links': {'badge': 'https://zenodo.org/badge/doi/10.5281/zenodo.5120243.svg',\n",
       "  'bucket': 'https://zenodo.org/api/files/0a60bd71-a171-4196-b639-44cf5cde22dd',\n",
       "  'conceptbadge': 'https://zenodo.org/badge/doi/10.5281/zenodo.5120242.svg',\n",
       "  'conceptdoi': 'https://doi.org/10.5281/zenodo.5120242',\n",
       "  'discard': 'https://zenodo.org/api/deposit/depositions/5120243/actions/discard',\n",
       "  'doi': 'https://doi.org/10.5281/zenodo.5120243',\n",
       "  'edit': 'https://zenodo.org/api/deposit/depositions/5120243/actions/edit',\n",
       "  'files': 'https://zenodo.org/api/deposit/depositions/5120243/files',\n",
       "  'html': 'https://zenodo.org/deposit/5120243',\n",
       "  'latest': 'https://zenodo.org/api/records/5120243',\n",
       "  'latest_html': 'https://zenodo.org/record/5120243',\n",
       "  'newversion': 'https://zenodo.org/api/deposit/depositions/5120243/actions/newversion',\n",
       "  'publish': 'https://zenodo.org/api/deposit/depositions/5120243/actions/publish',\n",
       "  'record': 'https://zenodo.org/api/records/5120243',\n",
       "  'record_html': 'https://zenodo.org/record/5120243',\n",
       "  'registerconceptdoi': 'https://zenodo.org/api/deposit/depositions/5120243/actions/registerconceptdoi',\n",
       "  'self': 'https://zenodo.org/api/deposit/depositions/5120243'},\n",
       " 'metadata': {'access_right': 'open',\n",
       "  'communities': [{'identifier': 'hpc-cms'}, {'identifier': 'hpc-stem'}],\n",
       "  'creators': [{'affiliation': 'The Molecular Sciences Software Institute',\n",
       "    'name': 'Mohammad Mostafanejad',\n",
       "    'orcid': '0000-0001-9762-7616'}],\n",
       "  'description': '<p>This <a href=\"http://education.molssi.org/gpu_programming_beginner\">tutorial</a> by the <a href=\"http://molssi.org/\">Molecular Sciences Software Institute</a> (MolSSI) overviews the fundamentals of heterogeneous parallel programming with CUDA C/C++ at the beginner level.</p>',\n",
       "  'doi': '10.5281/zenodo.5120243',\n",
       "  'keywords': ['CUDA programming',\n",
       "   'GPU programming',\n",
       "   'high-performance computing',\n",
       "   'heterogeneous parallel programming'],\n",
       "  'language': 'eng',\n",
       "  'license': 'CC-BY-4.0',\n",
       "  'notes': 'This work is supported by The Molecular Sciences Software Institute (MolSSI) through the NSF grant ACI-1547580.',\n",
       "  'prereserve_doi': {'doi': '10.5281/zenodo.5120243', 'recid': 5120243},\n",
       "  'publication_date': '2021-07-21',\n",
       "  'title': 'Fundamentals of Heterogeneous Parallel Programming with CUDA C/C++',\n",
       "  'upload_type': 'lesson',\n",
       "  'version': '2021.07.0'},\n",
       " 'modified': '2021-09-06T18:48:58.304784+00:00',\n",
       " 'owner': 243844,\n",
       " 'record_id': 5120243,\n",
       " 'state': 'done',\n",
       " 'submitted': True,\n",
       " 'title': 'Fundamentals of Heterogeneous Parallel Programming with CUDA C/C++'}"
      ]
     },
     "execution_count": 5,
     "metadata": {},
     "output_type": "execute_result"
    }
   ],
   "source": [
    "rec.data"
   ]
  },
  {
   "cell_type": "code",
   "execution_count": 1,
   "metadata": {},
   "outputs": [],
   "source": [
    "from entities import depositions"
   ]
  },
  {
   "cell_type": "code",
   "execution_count": 2,
   "metadata": {},
   "outputs": [],
   "source": [
    "depo = depositions.Depositions()"
   ]
  },
  {
   "cell_type": "code",
   "execution_count": 3,
   "metadata": {},
   "outputs": [],
   "source": [
    "rec = depo.create_deposition()"
   ]
  },
  {
   "cell_type": "code",
   "execution_count": 4,
   "metadata": {},
   "outputs": [
    {
     "data": {
      "text/plain": [
       "6953749"
      ]
     },
     "execution_count": 4,
     "metadata": {},
     "output_type": "execute_result"
    }
   ],
   "source": [
    "rec._id"
   ]
  },
  {
   "cell_type": "code",
   "execution_count": 14,
   "metadata": {},
   "outputs": [
    {
     "name": "stderr",
     "output_type": "stream",
     "text": [
      "An unpublished deposition has been deleted at the following address:\n",
      "\thttps://zenodo.org/api/deposit/depositions\n",
      "\n"
     ]
    }
   ],
   "source": [
    "depo.delete_deposition(id_=6953394)"
   ]
  },
  {
   "cell_type": "code",
   "execution_count": 8,
   "metadata": {},
   "outputs": [],
   "source": [
    "import requests"
   ]
  },
  {
   "cell_type": "code",
   "execution_count": 9,
   "metadata": {},
   "outputs": [
    {
     "data": {
      "text/plain": [
       "204"
      ]
     },
     "execution_count": 9,
     "metadata": {},
     "output_type": "execute_result"
    }
   ],
   "source": [
    "r = requests.delete(\"https://zenodo.org/api/deposit/depositions/6953699\", \n",
    "params= {'access_token': 'f4b2iI3HML9lnr3gUCyw12r3kWcDQS7WiGbZQEiv1L1m9RQFy5Ov4IuXwDWx'})\n",
    "r.status_code"
   ]
  },
  {
   "cell_type": "code",
   "execution_count": 3,
   "metadata": {},
   "outputs": [
    {
     "ename": "TypeError",
     "evalue": "The message argument should be of string type.",
     "output_type": "error",
     "traceback": [
      "\u001b[0;31m---------------------------------------------------------------------------\u001b[0m",
      "\u001b[0;31mTypeError\u001b[0m                                 Traceback (most recent call last)",
      "\u001b[1;32m/home/sina/MOLSSI/zenopy/zenopy/test_entity.ipynb Cell 51\u001b[0m in \u001b[0;36m<cell line: 1>\u001b[0;34m()\u001b[0m\n\u001b[0;32m----> <a href='vscode-notebook-cell:/home/sina/MOLSSI/zenopy/zenopy/test_entity.ipynb#ch0000057?line=0'>1</a>\u001b[0m depo\u001b[39m.\u001b[39;49mcreate_config_file()\n",
      "File \u001b[0;32m~/MOLSSI/zenopy/zenopy/entities/depositions.py:39\u001b[0m, in \u001b[0;36mDepositions.create_config_file\u001b[0;34m(self, config_file_path)\u001b[0m\n\u001b[1;32m     35\u001b[0m \u001b[39mdef\u001b[39;00m \u001b[39mcreate_config_file\u001b[39m(\u001b[39mself\u001b[39m, config_file_path: \u001b[39mstr\u001b[39m \u001b[39m=\u001b[39m \u001b[39mNone\u001b[39;00m) \u001b[39m-\u001b[39m\u001b[39m>\u001b[39m \u001b[39mNone\u001b[39;00m:\n\u001b[1;32m     36\u001b[0m     \u001b[39m# disable_method(\u001b[39;00m\n\u001b[1;32m     37\u001b[0m     \u001b[39m#     \"The 'create_config_file()' must be called from Zenodo superclass.\"\u001b[39;00m\n\u001b[1;32m     38\u001b[0m     \u001b[39m# )\u001b[39;00m\n\u001b[0;32m---> 39\u001b[0m     disable_method(\n\u001b[1;32m     40\u001b[0m         \u001b[39m99\u001b[39;49m\n\u001b[1;32m     41\u001b[0m     )\n",
      "File \u001b[0;32m~/MOLSSI/zenopy/zenopy/utils.py:13\u001b[0m, in \u001b[0;36mdisable_method\u001b[0;34m(msg)\u001b[0m\n\u001b[1;32m     11\u001b[0m         \u001b[39mraise\u001b[39;00m \u001b[39mAttributeError\u001b[39;00m(msg)\n\u001b[1;32m     12\u001b[0m     \u001b[39melse\u001b[39;00m:\n\u001b[0;32m---> 13\u001b[0m         \u001b[39mraise\u001b[39;00m \u001b[39mTypeError\u001b[39;00m(\n\u001b[1;32m     14\u001b[0m             \u001b[39m\"\u001b[39m\u001b[39mThe message argument should be of string type.\u001b[39m\u001b[39m\"\u001b[39m\n\u001b[1;32m     15\u001b[0m         )\n\u001b[1;32m     16\u001b[0m \u001b[39melse\u001b[39;00m:\n\u001b[1;32m     17\u001b[0m     \u001b[39mraise\u001b[39;00m \u001b[39mRuntimeError\u001b[39;00m(\n\u001b[1;32m     18\u001b[0m         \u001b[39m\"\u001b[39m\u001b[39mThe error message in the \u001b[39m\u001b[39m'\u001b[39m\u001b[39mdisable_method()\u001b[39m\u001b[39m'\u001b[39m\u001b[39m cannot be empty or None.\u001b[39m\u001b[39m\"\u001b[39m\n\u001b[1;32m     19\u001b[0m     )\n",
      "\u001b[0;31mTypeError\u001b[0m: The message argument should be of string type."
     ]
    }
   ],
   "source": [
    "depo.create_config_file()"
   ]
  },
  {
   "cell_type": "code",
   "execution_count": null,
   "metadata": {},
   "outputs": [],
   "source": []
  }
 ],
 "metadata": {
  "kernelspec": {
   "display_name": "Python 3.10.5 ('chemai-dev')",
   "language": "python",
   "name": "python3"
  },
  "language_info": {
   "codemirror_mode": {
    "name": "ipython",
    "version": 3
   },
   "file_extension": ".py",
   "mimetype": "text/x-python",
   "name": "python",
   "nbconvert_exporter": "python",
   "pygments_lexer": "ipython3",
   "version": "3.10.5"
  },
  "orig_nbformat": 4,
  "vscode": {
   "interpreter": {
    "hash": "c989da9cdb326a73df797cfd358ee3f03734cd4f04f0d2b5a5ad09e8508205bf"
   }
  }
 },
 "nbformat": 4,
 "nbformat_minor": 2
}
