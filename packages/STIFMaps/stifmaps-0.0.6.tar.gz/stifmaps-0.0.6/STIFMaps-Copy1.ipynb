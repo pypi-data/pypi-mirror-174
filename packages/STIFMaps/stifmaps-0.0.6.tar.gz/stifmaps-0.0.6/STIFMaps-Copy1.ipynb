{
 "cells": [
  {
   "cell_type": "markdown",
   "id": "e33db2e6",
   "metadata": {},
   "source": [
    "# STIFMap Generation Notebook\n",
    "\n",
    "The goal of this notebook is to allow users to generate STIFMaps for their own images or sample images available from the manuscript."
   ]
  },
  {
   "cell_type": "markdown",
   "id": "86da537b",
   "metadata": {},
   "source": [
    "## Import necessary packages"
   ]
  },
  {
   "cell_type": "code",
   "execution_count": 1,
   "id": "7ad2707f",
   "metadata": {},
   "outputs": [],
   "source": [
    "# Import functions from the STIFMaps package\n",
    "from STIFMaps import STIFMap_generation\n",
    "from STIFMaps.misc import get_step"
   ]
  },
  {
   "cell_type": "code",
   "execution_count": 2,
   "id": "2ee7eec2",
   "metadata": {},
   "outputs": [],
   "source": [
    "# Other imports\n",
    "import os\n",
    "import numpy as np\n",
    "import pandas as pd\n",
    "from skimage import io\n",
    "import matplotlib.pyplot as plt\n",
    "\n",
    "from scipy.stats import spearmanr\n",
    "from scipy import interpolate\n",
    "\n",
    "import time"
   ]
  },
  {
   "cell_type": "markdown",
   "id": "8a7c0bcb",
   "metadata": {},
   "source": [
    "## Generate STIFMap for an image of interest"
   ]
  },
  {
   "cell_type": "markdown",
   "id": "f20efa19",
   "metadata": {},
   "source": [
    "### Specify input files\n",
    "\n",
    "STIFMaps are generated from paired DAPI and collagen images from the same sample. Additionally, it is necessary to download trained networks to predict collagen stiffness from the `trained_models` folder on [Mendeley](https://data.mendeley.com/datasets/vw2bb5jy99/2). It's recommended to use the first five trained models.\n",
    "\n",
    "Example images for use in this notebook are available via [GitHub](https://github.com/cstashko/STIFMaps/tree/master/test_cases)"
   ]
  },
  {
   "cell_type": "code",
   "execution_count": 3,
   "id": "f10e0116",
   "metadata": {},
   "outputs": [
    {
     "data": {
      "text/plain": [
       "['/home/connor/Documents/STIFMaps/trained_models/iteration_1002.pt',\n",
       " '/home/connor/Documents/STIFMaps/trained_models/iteration_1003.pt',\n",
       " '/home/connor/Documents/STIFMaps/trained_models/iteration_1000.pt',\n",
       " '/home/connor/Documents/STIFMaps/trained_models/iteration_1004.pt',\n",
       " '/home/connor/Documents/STIFMaps/trained_models/iteration_1001.pt']"
      ]
     },
     "execution_count": 3,
     "metadata": {},
     "output_type": "execute_result"
    }
   ],
   "source": [
    "# Specify the DAPI and collagen images to be overlaid\n",
    "dapi = '/home/connor/Documents/STIFMaps/test_cases/with_stain/test1_DAPI.TIF'\n",
    "collagen = '/home/connor/Documents/STIFMaps/test_cases/with_stain/test1_collagen.TIF'\n",
    "\n",
    "# If saving, what should the sample be called?\n",
    "name = 'test'\n",
    "\n",
    "# Specify the models to use for stiffness predictions:\n",
    "model_dir = '/home/connor/Documents/STIFMaps/trained_models/'\n",
    "models = [model_dir+model for model in os.listdir(model_dir)]\n",
    "\n",
    "# List the models\n",
    "models"
   ]
  },
  {
   "cell_type": "markdown",
   "id": "a1e6c733",
   "metadata": {},
   "source": [
    "### Specify Parameters\n",
    "\n",
    "These parameters specify the resolution conversion between the input image and the imaging data used to train the models, how many different points to predict stiffness, and how many points to evaluate at once with the model. Note that the choice of `step` is a tradeoff between resolution vs runtime and memory usage while `batch_size` is a tradeoff between memore usage and runtime."
   ]
  },
  {
   "cell_type": "code",
   "execution_count": 7,
   "id": "8016aad7",
   "metadata": {},
   "outputs": [],
   "source": [
    "# Networks were trained at a microscopy resolution of 4.160 pixels/micron (0.2404 microns/pixel)\n",
    "# Provide a scale factor to resize the input images to this resolution\n",
    "# Ex: Images at 2.308 pixels/micron require a scale_factor of 1.802\n",
    "scale_factor = 1.802\n",
    "\n",
    "# Stifness is predicted for each square. This is the distance from the center of one square to the next\n",
    "step = 200\n",
    "\n",
    "# How many squares to evaluate at once with the network\n",
    "batch_size = 100"
   ]
  },
  {
   "cell_type": "markdown",
   "id": "1e52ae8f",
   "metadata": {},
   "source": [
    "### Given the scale_factor, what are the actual square dimensions and step sizes that will be used?"
   ]
  },
  {
   "cell_type": "code",
   "execution_count": 8,
   "id": "c6d92a6c",
   "metadata": {},
   "outputs": [
    {
     "name": "stdout",
     "output_type": "stream",
     "text": [
      "Step size is 110 pixels\n",
      "Side length for a square is 124 pixels\n"
     ]
    }
   ],
   "source": [
    "# Given the scale_factor, what is the actual step size (in pixels) from one square to the next?\n",
    "step = get_step(step, scale_factor)\n",
    "\n",
    "print('Step size is ' + str(step) + ' pixels')\n",
    "\n",
    "# Get the actual side length of one square\n",
    "# The models expect input squares that are 224 x 224 pixels. \n",
    "# Given the scale_factor, how many pixels is that in these images?\n",
    "square_side = get_step(224, scale_factor)\n",
    "\n",
    "print('Side length for a square is ' + str(square_side) + ' pixels')"
   ]
  },
  {
   "cell_type": "markdown",
   "id": "df4f54dc",
   "metadata": {},
   "source": [
    "### Get STIFMap\n",
    "\n",
    "STIFMaps are computed using the function `generate_STIFMap`, which has the following inputs:\n",
    " - **dapi**: The path to the DAPI image to use\n",
    " - **collagen**: The path to the collagen image to use\n",
    " - **name**: The prefix to use for saving the predictions, if 'save_dir' is specified\n",
    " - **step**: The step size to use between squares\n",
    " - **models**: The list of trained networks to use for predictions\n",
    " - **mask**: (Optional) The path to a 2D mask the same dimension as 'dapi' of zeros and ones that specifies regions to exclude when predicting stiffness \n",
    " - **batch_size**: How many squares should be evaluated by one model at once\n",
    " - **square_side**: The side length of each square to evaluate in the model\n",
    " - **save_dir**: Where to save the stiffness predictions, or 'False' if saving is not desired\n",
    " \n",
    "Output: `generate_STIFMap` returns a 3D numpy array of the stiffness predictions for the 'dapi'/'collagen' images for each of the included models"
   ]
  },
  {
   "cell_type": "code",
   "execution_count": 9,
   "id": "7621cf4b",
   "metadata": {
    "scrolled": false
   },
   "outputs": [
    {
     "name": "stdout",
     "output_type": "stream",
     "text": [
      "Device is cpu\n",
      "Image shape is (3, 1800, 1800)\n",
      "Num squares in x direction is 16\n",
      "Num squares in y direction is 16\n",
      "Time taken to predict squares is 6.835830450057983\n",
      "Time taken to predict squares is 12.934874534606934\n",
      "Time taken to predict squares is 18.267839193344116\n",
      "Time taken to predict squares is 23.41127872467041\n",
      "Time taken to predict squares is 29.002824783325195\n",
      "Total time taken is 29.31339693069458\n"
     ]
    },
    {
     "name": "stderr",
     "output_type": "stream",
     "text": [
      "/home/connor/anaconda3/envs/STIFMaps/lib/python3.10/site-packages/skimage/io/_plugins/matplotlib_plugin.py:150: UserWarning: Float image out of standard range; displaying image with stretched contrast.\n",
      "  lo, hi, cmap = _get_display_range(image)\n"
     ]
    },
    {
     "data": {
      "text/plain": [
       "<matplotlib.image.AxesImage at 0x7fa0fd8bccd0>"
      ]
     },
     "execution_count": 9,
     "metadata": {},
     "output_type": "execute_result"
    },
    {
     "data": {
      "image/png": "[encoded data removed]",
      "text/plain": [
       "<Figure size 640x480 with 2 Axes>"
      ]
     },
     "metadata": {},
     "output_type": "display_data"
    }
   ],
   "source": [
    "# Generate the stiffness predictions\n",
    "z_out = STIFMap_generation.generate_STIFMap(dapi, collagen, name, step, models=models,\n",
    "                    mask=False, batch_size=100, square_side=square_side,\n",
    "                    save_dir=False)\n",
    "\n",
    "# Show the output image\n",
    "io.imshow(np.mean(z_out, axis=0))"
   ]
  },
  {
   "cell_type": "markdown",
   "id": "cfcfb9e5",
   "metadata": {},
   "source": [
    "## Collagen Painting"
   ]
  },
  {
   "cell_type": "markdown",
   "id": "211a9557",
   "metadata": {},
   "source": [
    "The collagen image may be pseudocolored to indicate the predicted stiffness of the collagen fibers. This is done using the function `collagen_paint`, which has the following inputs:\n",
    "\n",
    " - **dapi**: The path to the DAPI image to use\n",
    " - **collagen**: The path to the collagen image to use\n",
    " - **z**: The stiffness prediction values computed above\n",
    " - **name**: The prefix to use for saving the predictions, if 'save_dir' is specified\n",
    " - **step**: The step size used between squares\n",
    " - **mask**: (Optional) The path to a 2D mask the same dimension as 'dapi' of zeros and ones that specifies regions to exclude when coloring collagen \n",
    " - **square_side**: The side length of each square evaluated in the model\n",
    " - **scale_percent**: An integer from 1-100 specifying how much to scale down the images if memory usage or runtime is too high. Note that a value of 100 means that the images will not be scaled down at all\n",
    " - **save_dir**: Where to save the collagen-painted image, or 'False' if saving is not desired\n",
    " \n",
    "Output: In addition to saving the collagen-painted image (if specified), `collagen_paint` returns an RGB image of the pseudocolored collagen"
   ]
  },
  {
   "cell_type": "code",
   "execution_count": 10,
   "id": "f0e99bc1",
   "metadata": {},
   "outputs": [
    {
     "name": "stdout",
     "output_type": "stream",
     "text": [
      "test\n"
     ]
    },
    {
     "ename": "NameError",
     "evalue": "name 'cv2' is not defined",
     "output_type": "error",
     "traceback": [
      "\u001b[0;31m---------------------------------------------------------------------------\u001b[0m",
      "\u001b[0;31mNameError\u001b[0m                                 Traceback (most recent call last)",
      "Cell \u001b[0;32mIn [10], line 1\u001b[0m\n\u001b[0;32m----> 1\u001b[0m col_colored \u001b[38;5;241m=\u001b[39m \u001b[43mSTIFMap_generation\u001b[49m\u001b[38;5;241;43m.\u001b[39;49m\u001b[43mcollagen_paint\u001b[49m\u001b[43m(\u001b[49m\u001b[43mdapi\u001b[49m\u001b[43m,\u001b[49m\u001b[43m \u001b[49m\u001b[43mcollagen\u001b[49m\u001b[43m,\u001b[49m\u001b[43m \u001b[49m\u001b[43mz_out\u001b[49m\u001b[43m,\u001b[49m\u001b[43m \u001b[49m\u001b[43mname\u001b[49m\u001b[43m,\u001b[49m\u001b[43m \u001b[49m\u001b[43mstep\u001b[49m\u001b[43m,\u001b[49m\n\u001b[1;32m      2\u001b[0m \u001b[43m                    \u001b[49m\u001b[43mmask\u001b[49m\u001b[38;5;241;43m=\u001b[39;49m\u001b[38;5;28;43;01mFalse\u001b[39;49;00m\u001b[43m,\u001b[49m\u001b[43m \u001b[49m\u001b[43msquare_side\u001b[49m\u001b[38;5;241;43m=\u001b[39;49m\u001b[43msquare_side\u001b[49m\u001b[43m,\u001b[49m\n\u001b[1;32m      3\u001b[0m \u001b[43m                    \u001b[49m\u001b[43mscale_percent\u001b[49m\u001b[38;5;241;43m=\u001b[39;49m\u001b[38;5;241;43m100\u001b[39;49m\u001b[43m,\u001b[49m\u001b[43m \u001b[49m\u001b[43msave_dir\u001b[49m\u001b[38;5;241;43m=\u001b[39;49m\u001b[38;5;28;43;01mFalse\u001b[39;49;00m\u001b[43m)\u001b[49m\n\u001b[1;32m      5\u001b[0m \u001b[38;5;66;03m# Show the pseudocolored collagen image\u001b[39;00m\n\u001b[1;32m      6\u001b[0m io\u001b[38;5;241m.\u001b[39mimshow(col_colored)\n",
      "File \u001b[0;32m~/anaconda3/envs/STIFMaps/lib/python3.10/site-packages/STIFMaps/STIFMap_generation.py:374\u001b[0m, in \u001b[0;36mcollagen_paint\u001b[0;34m(dapi, collagen, z, name, step, mask, square_side, scale_percent, save_dir)\u001b[0m\n\u001b[1;32m    372\u001b[0m dim \u001b[38;5;241m=\u001b[39m (width, height)\n\u001b[1;32m    373\u001b[0m \u001b[38;5;66;03m# Downsample the images\u001b[39;00m\n\u001b[0;32m--> 374\u001b[0m dapi \u001b[38;5;241m=\u001b[39m \u001b[43mcv2\u001b[49m\u001b[38;5;241m.\u001b[39mresize(dapi, dim, interpolation \u001b[38;5;241m=\u001b[39m cv2\u001b[38;5;241m.\u001b[39mINTER_AREA)\n\u001b[1;32m    375\u001b[0m collagen \u001b[38;5;241m=\u001b[39m cv2\u001b[38;5;241m.\u001b[39mresize(collagen, dim, interpolation \u001b[38;5;241m=\u001b[39m cv2\u001b[38;5;241m.\u001b[39mINTER_AREA)\n\u001b[1;32m    376\u001b[0m znew \u001b[38;5;241m=\u001b[39m cv2\u001b[38;5;241m.\u001b[39mresize(znew, dim, interpolation \u001b[38;5;241m=\u001b[39m cv2\u001b[38;5;241m.\u001b[39mINTER_AREA)\n",
      "\u001b[0;31mNameError\u001b[0m: name 'cv2' is not defined"
     ]
    }
   ],
   "source": [
    "col_colored = STIFMap_generation.collagen_paint(dapi, collagen, z_out, name, step,\n",
    "                    mask=False, square_side=square_side,\n",
    "                    scale_percent=100, save_dir=False)\n",
    "\n",
    "# Show the pseudocolored collagen image\n",
    "io.imshow(col_colored)"
   ]
  },
  {
   "cell_type": "markdown",
   "id": "88ca8847",
   "metadata": {},
   "source": [
    "# Correlate predicted stiffness with a staining marker of interest"
   ]
  },
  {
   "cell_type": "markdown",
   "id": "5475ca53",
   "metadata": {},
   "source": [
    "Given an additional staining image taken at the same region as the DAPI and collagen images, we can compute the correlation between the staining intensity and the intensity of collagen, DAPI, and predicted stiffness using the function `correlate_signals_with_stain`, which has the following inputs:\n",
    "\n",
    " - **dapi**: The path to the DAPI image to use\n",
    " - **collagen**: The path to the collagen image to use\n",
    " - **z**: The stiffness prediction values computed above\n",
    " - **stain**: The path to the staining image to use\n",
    " - **step**: The step size used between squares\n",
    " - **mask**: (Optional) The path to a 2D mask the same dimension as 'dapi' of zeros and ones that specifies regions to exclude when coloring collagen \n",
    " - **square_side**: The side length of each square evaluated in the model\n",
    " - **scale_percent**: An integer from 1-100 specifying how much to scale down the images if memory usage or runtime is too high. Note that a value of 100 means that the images will not be scaled down at all\n",
    " - **quantile**: A float between zero and one specifying the quantile of stain intensity of use for each percentile of DAPI/collagen/STIFMap intensity. See the manuscript for more details\n",
    " \n",
    "Output: `correlate_signals_with_stain` returns the Spearman correlation values between the staining intensity and the intensity of DAPI, collagen, and stiffness predictions"
   ]
  },
  {
   "cell_type": "code",
   "execution_count": null,
   "id": "5f1c4c80",
   "metadata": {},
   "outputs": [],
   "source": [
    "# Specify the staining file to use\n",
    "stain = '/home/connor/Documents/STIFMaps/test_cases/with_stain/test1_stain.TIF'\n",
    "\n",
    "# The pixel threshold to use when comparing STIFMaps/DAPI/collagen vs stain intensity\n",
    "quantile = .99"
   ]
  },
  {
   "cell_type": "code",
   "execution_count": null,
   "id": "82c62c18",
   "metadata": {},
   "outputs": [],
   "source": [
    "# Correlate the stain intensity with the intensity of collagen, DAPI, and predicted stiffness\n",
    "z_stain_corr, collagen_stain_corr, dapi_stain_corr = STIFMap_generation.correlate_signals_with_stain(\n",
    "    dapi, collagen, z_out, stain, step,\n",
    "    mask=False, square_side=square_side, \n",
    "    scale_percent=100, quantile=quantile)"
   ]
  },
  {
   "cell_type": "code",
   "execution_count": null,
   "id": "2b2110f2",
   "metadata": {},
   "outputs": [],
   "source": [
    "print(z_stain_corr)\n",
    "print(collagen_stain_corr)\n",
    "print(dapi_stain_corr)"
   ]
  },
  {
   "cell_type": "code",
   "execution_count": null,
   "id": "e352243c",
   "metadata": {},
   "outputs": [],
   "source": []
  },
  {
   "cell_type": "code",
   "execution_count": 11,
   "id": "279c06aa",
   "metadata": {},
   "outputs": [
    {
     "ename": "ModuleNotFoundError",
     "evalue": "No module named 'cv2'",
     "output_type": "error",
     "traceback": [
      "\u001b[0;31m---------------------------------------------------------------------------\u001b[0m",
      "\u001b[0;31mModuleNotFoundError\u001b[0m                       Traceback (most recent call last)",
      "Cell \u001b[0;32mIn [11], line 1\u001b[0m\n\u001b[0;32m----> 1\u001b[0m \u001b[38;5;28;01mimport\u001b[39;00m \u001b[38;5;21;01mcv2\u001b[39;00m\n",
      "\u001b[0;31mModuleNotFoundError\u001b[0m: No module named 'cv2'"
     ]
    }
   ],
   "source": [
    "import cv2"
   ]
  },
  {
   "cell_type": "code",
   "execution_count": null,
   "id": "d40b1795",
   "metadata": {},
   "outputs": [],
   "source": []
  }
 ],
 "metadata": {
  "kernelspec": {
   "display_name": "Python 3 (ipykernel)",
   "language": "python",
   "name": "python3"
  },
  "language_info": {
   "codemirror_mode": {
    "name": "ipython",
    "version": 3
   },
   "file_extension": ".py",
   "mimetype": "text/x-python",
   "name": "python",
   "nbconvert_exporter": "python",
   "pygments_lexer": "ipython3",
   "version": "3.10.6"
  }
 },
 "nbformat": 4,
 "nbformat_minor": 5
}
